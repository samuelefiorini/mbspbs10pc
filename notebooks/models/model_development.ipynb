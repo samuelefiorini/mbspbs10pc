{
 "cells": [
  {
   "cell_type": "code",
   "execution_count": 1,
   "metadata": {},
   "outputs": [
    {
     "name": "stderr",
     "output_type": "stream",
     "text": [
      "Using TensorFlow backend.\n"
     ]
    }
   ],
   "source": [
    "%matplotlib inline\n",
    "import pandas as pd\n",
    "import numpy as np\n",
    "import joblib as jl\n",
    "import matplotlib.pyplot as plt\n",
    "import warnings\n",
    "warnings.filterwarnings('ignore')\n",
    "\n",
    "from sklearn.model_selection import StratifiedShuffleSplit\n",
    "from sklearn import metrics\n",
    "\n",
    "from keras.preprocessing.text import Tokenizer\n",
    "from keras.preprocessing.sequence import pad_sequences\n",
    "from keras.layers import CuDNNLSTM\n",
    "\n",
    "from tangle import read_activations\n",
    "from tangle.mbspbs10pc import utils\n",
    "\n",
    "reload(read_activations)\n",
    "reload(utils);\n",
    "\n",
    "root = 'dl'"
   ]
  },
  {
   "cell_type": "markdown",
   "metadata": {},
   "source": [
    "# Load raw data"
   ]
  },
  {
   "cell_type": "code",
   "execution_count": 2,
   "metadata": {},
   "outputs": [],
   "source": [
    "labelsfile = '../../tmp/1_METONLY_vs_METX/matched_CEM_table.csv'\n",
    "datafile = '../../tmp/item_days_raw_data_.pkl'\n",
    "dataset = utils.load_data_labels(datafile, labelsfile)\n",
    "padded_mbs_seq, padded_timespan_seq, _ = utils.tokenize(dataset)\n",
    "maxlen = padded_mbs_seq.shape[1]\n",
    "\n",
    "# Split in training, validation, test sets\n",
    "tr_set, v_set, ts_set = utils.train_validation_test_split(\n",
    "    [padded_mbs_seq, padded_timespan_seq], dataset['Class'],\n",
    "    test_size=0.4, validation_size=0.1,\n",
    "    verbose=False)"
   ]
  },
  {
   "cell_type": "code",
   "execution_count": 3,
   "metadata": {},
   "outputs": [
    {
     "data": {
      "text/plain": [
       "(6341, 250)"
      ]
     },
     "execution_count": 3,
     "metadata": {},
     "output_type": "execute_result"
    }
   ],
   "source": [
    "tr_set[0][0].shape"
   ]
  },
  {
   "cell_type": "markdown",
   "metadata": {},
   "source": [
    "# Init embedding matrix"
   ]
  },
  {
   "cell_type": "code",
   "execution_count": 4,
   "metadata": {},
   "outputs": [
    {
     "data": {
      "text/plain": [
       "(2774, 50)"
      ]
     },
     "execution_count": 4,
     "metadata": {},
     "output_type": "execute_result"
    }
   ],
   "source": [
    "D = 50\n",
    "embedding = pd.read_csv('../../tmp/embedding.{}d.csv'.format(D), header=0, index_col=0)\n",
    "embedding_matrix = embedding.values\n",
    "embedding_matrix.shape"
   ]
  },
  {
   "cell_type": "markdown",
   "metadata": {},
   "source": [
    "# Model"
   ]
  },
  {
   "cell_type": "code",
   "execution_count": 21,
   "metadata": {},
   "outputs": [],
   "source": [
    "from tangle import model as mbs_model\n",
    "reload(mbs_model);\n",
    "\n",
    "model = mbs_model.build_tangle(mbs_input_shape=(maxlen,),\n",
    "                               timespan_input_shape=(maxlen, 1),\n",
    "                               vocabulary_size=2774,\n",
    "                               embedding_size=50,\n",
    "                               recurrent_units=32,\n",
    "                               dense_units=32,\n",
    "                               attention_units=128,\n",
    "                               bidirectional=True,\n",
    "                               LSTMLayer=CuDNNLSTM)\n",
    "\n",
    "# model = mbs_model.build_attention_model(mbs_input_shape=(maxlen,),\n",
    "#                                         timespan_input_shape=(maxlen, 1),\n",
    "#                                         vocabulary_size=2774,\n",
    "#                                         embedding_size=50,\n",
    "#                                         recurrent_units=32,\n",
    "#                                         dense_units=32,\n",
    "#                                         attention_units=128,\n",
    "#                                         bidirectional=True,\n",
    "#                                         LSTMLayer=CuDNNLSTM)\n",
    "\n",
    "# model = mbs_model.build_baseline_model(mbs_input_shape=(maxlen,),\n",
    "#                                        timespan_input_shape=(maxlen, 1),\n",
    "#                                        vocabulary_size=2774,\n",
    "#                                        embedding_size=50,\n",
    "#                                        recurrent_units=32,\n",
    "#                                        dense_units=32,\n",
    "#                                        bidirectional=True,\n",
    "#                                        LSTMLayer=CuDNNLSTM)"
   ]
  },
  {
   "cell_type": "code",
   "execution_count": 22,
   "metadata": {},
   "outputs": [],
   "source": [
    "from keras import optimizers as opt\n",
    "model.compile(optimizer=opt.RMSprop(lr=0.01),\n",
    "              loss='binary_crossentropy',\n",
    "              metrics=['acc'])"
   ]
  },
  {
   "cell_type": "code",
   "execution_count": 23,
   "metadata": {},
   "outputs": [],
   "source": [
    "model.get_layer('mbs_embedding').set_weights([embedding_matrix])\n",
    "model.get_layer('mbs_embedding').trainable = True"
   ]
  },
  {
   "cell_type": "code",
   "execution_count": 24,
   "metadata": {},
   "outputs": [
    {
     "name": "stdout",
     "output_type": "stream",
     "text": [
      "__________________________________________________________________________________________________\n",
      "Layer (type)                    Output Shape         Param #     Connected to                     \n",
      "==================================================================================================\n",
      "mbs_input (InputLayer)          (None, 250)          0                                            \n",
      "__________________________________________________________________________________________________\n",
      "mbs_embedding (Embedding)       (None, 250, 50)      138700      mbs_input[0][0]                  \n",
      "__________________________________________________________________________________________________\n",
      "timespan_input (InputLayer)     (None, 250, 1)       0                                            \n",
      "__________________________________________________________________________________________________\n",
      "mbs_lstm (Bidirectional)        (None, 250, 64)      21504       mbs_embedding[0][0]              \n",
      "__________________________________________________________________________________________________\n",
      "timespan_lstm (Bidirectional)   (None, 250, 64)      8960        timespan_input[0][0]             \n",
      "__________________________________________________________________________________________________\n",
      "tangle_attention (TimespanGuide (None, 250, 64)      24832       mbs_lstm[0][0]                   \n",
      "                                                                 timespan_lstm[0][0]              \n",
      "__________________________________________________________________________________________________\n",
      "contribution (Multiply)         (None, 250, 64)      0           tangle_attention[0][0]           \n",
      "                                                                 mbs_lstm[0][0]                   \n",
      "__________________________________________________________________________________________________\n",
      "context (Dot)                   (None, 64, 50)       0           contribution[0][0]               \n",
      "                                                                 mbs_embedding[0][0]              \n",
      "__________________________________________________________________________________________________\n",
      "pooling (GlobalAveragePooling1D (None, 50)           0           context[0][0]                    \n",
      "__________________________________________________________________________________________________\n",
      "dropout_5 (Dropout)             (None, 50)           0           pooling[0][0]                    \n",
      "__________________________________________________________________________________________________\n",
      "fc (Dense)                      (None, 32)           1632        dropout_5[0][0]                  \n",
      "__________________________________________________________________________________________________\n",
      "dropout_6 (Dropout)             (None, 32)           0           fc[0][0]                         \n",
      "__________________________________________________________________________________________________\n",
      "fc_output (Dense)               (None, 1)            33          dropout_6[0][0]                  \n",
      "==================================================================================================\n",
      "Total params: 195,661\n",
      "Trainable params: 195,661\n",
      "Non-trainable params: 0\n",
      "__________________________________________________________________________________________________\n"
     ]
    }
   ],
   "source": [
    "model.summary()"
   ]
  },
  {
   "cell_type": "code",
   "execution_count": 28,
   "metadata": {},
   "outputs": [],
   "source": [
    "# from IPython.display import SVG\n",
    "# from keras.utils.vis_utils import model_to_dot\n",
    "\n",
    "# SVG(model_to_dot(model, show_shapes=True).create(prog='dot', format='svg'))"
   ]
  },
  {
   "cell_type": "code",
   "execution_count": 29,
   "metadata": {},
   "outputs": [],
   "source": [
    "# from keras.utils import plot_model\n",
    "\n",
    "# plot_model(model, show_shapes=True, to_file='tangle.png')"
   ]
  },
  {
   "cell_type": "code",
   "execution_count": 32,
   "metadata": {},
   "outputs": [
    {
     "name": "stdout",
     "output_type": "stream",
     "text": [
      "Train on 6341 samples, validate on 705 samples\n",
      "Epoch 1/10\n",
      "6341/6341 [==============================] - 3s 494us/step - loss: 0.2152 - acc: 0.9385 - val_loss: 0.8058 - val_acc: 0.7702\n",
      "Epoch 2/10\n",
      "6341/6341 [==============================] - 3s 476us/step - loss: 0.2075 - acc: 0.9457 - val_loss: 0.7364 - val_acc: 0.7759\n",
      "Epoch 3/10\n",
      "6341/6341 [==============================] - 3s 471us/step - loss: 0.1929 - acc: 0.9486 - val_loss: 0.8999 - val_acc: 0.7674\n",
      "Epoch 4/10\n",
      "6341/6341 [==============================] - 3s 475us/step - loss: 0.1696 - acc: 0.9598 - val_loss: 0.8704 - val_acc: 0.7759\n",
      "Epoch 5/10\n",
      "6341/6341 [==============================] - 3s 456us/step - loss: 0.1547 - acc: 0.9655 - val_loss: 1.1363 - val_acc: 0.7660\n",
      "Epoch 6/10\n",
      "6341/6341 [==============================] - 3s 478us/step - loss: 0.1507 - acc: 0.9704 - val_loss: 1.0488 - val_acc: 0.7631\n",
      "Epoch 7/10\n",
      "6341/6341 [==============================] - 3s 502us/step - loss: 0.1388 - acc: 0.9741 - val_loss: 1.0280 - val_acc: 0.7617\n"
     ]
    }
   ],
   "source": [
    "from keras.callbacks import EarlyStopping, ReduceLROnPlateau\n",
    "callbacks = [ReduceLROnPlateau(monitor='val_loss', factor=0.5, patience=7, min_lr=1e-6, verbose=1),\n",
    "             EarlyStopping(monitor='val_loss', patience=5)] \n",
    "\n",
    "history = model.fit(tr_set[0], tr_set[1],\n",
    "                    epochs=10,\n",
    "                    callbacks=callbacks,\n",
    "                    batch_size=128,\n",
    "                    validation_data=(v_set))"
   ]
  },
  {
   "cell_type": "code",
   "execution_count": 33,
   "metadata": {},
   "outputs": [
    {
     "data": {
      "image/png": "[encoded data removed]",
      "text/plain": [
       "<Figure size 600x400 with 2 Axes>"
      ]
     },
     "metadata": {},
     "output_type": "display_data"
    }
   ],
   "source": [
    "plt.figure(dpi=100)\n",
    "t = history.epoch\n",
    "\n",
    "plt.subplot(211)\n",
    "plt.plot(t, history.history['loss'], label='loss', color='C0')\n",
    "plt.plot(t, history.history['val_loss'], label='val_loss', color='C1')\n",
    "plt.xlabel('epochs')\n",
    "plt.ylabel('loss')\n",
    "plt.legend(loc=1)\n",
    "\n",
    "plt.subplot(212)\n",
    "plt.plot(t, history.history['acc'], label='acc', color='C2')\n",
    "plt.plot(t, history.history['val_acc'], label='val_acc', color='C3')\n",
    "plt.ylim([0.5, 1])\n",
    "plt.ylabel('acc')\n",
    "plt.xlabel('epochs')\n",
    "plt.legend(loc=1)\n",
    "\n",
    "plt.tight_layout()"
   ]
  },
  {
   "cell_type": "code",
   "execution_count": null,
   "metadata": {},
   "outputs": [],
   "source": [
    "y_pred = model.predict(ts_set[0]).ravel()"
   ]
  },
  {
   "cell_type": "code",
   "execution_count": null,
   "metadata": {},
   "outputs": [],
   "source": [
    "y_test = ts_set[1]\n",
    "loss = metrics.log_loss(y_test, y_pred)\n",
    "acc = metrics.accuracy_score(y_test, y_pred > 0.5)\n",
    "prec = metrics.precision_score(y_test, y_pred > 0.5)\n",
    "rcll = metrics.recall_score(y_test, y_pred > 0.5)\n",
    "auc = metrics.roc_auc_score(y_test, y_pred)\n",
    "print('Test scores:\\n * Log-Loss\\t{}\\n * Accuracy:\\t{}\\n '\n",
    "      '* Precision:\\t{}\\n * Recall:\\t{}\\n * AUC: \\t{}'.format(loss, acc, prec, rcll, auc))"
   ]
  },
  {
   "cell_type": "code",
   "execution_count": null,
   "metadata": {},
   "outputs": [],
   "source": [
    "from tangle.plotting import *\n",
    "\n",
    "# Plot non-normalized confusion matrix\n",
    "cnf_matrix = metrics.confusion_matrix(y_test, y_pred > 0.5)\n",
    "plt.figure(dpi=100)\n",
    "plot_confusion_matrix(cnf_matrix, classes=['METONLY', 'METX'],\n",
    "                      title='Confusion matrix', cmap=plt.cm.Blues);"
   ]
  },
  {
   "cell_type": "markdown",
   "metadata": {},
   "source": [
    "**TOP results so far [6341 training / 705 validation / 4698 test]**\n",
    "\n",
    "Test scores:\n",
    " * Log-Loss\t0.425300993082\n",
    " * Accuracy:\t0.810131971052\n",
    " * Precision:\t0.817983413357\n",
    " * Recall:\t0.797786292039\n",
    " * AUC: \t0.894714579232"
   ]
  },
  {
   "cell_type": "code",
   "execution_count": null,
   "metadata": {},
   "outputs": [],
   "source": [
    "model.save_weights('model.h5')"
   ]
  }
 ],
 "metadata": {
  "kernelspec": {
   "display_name": "Python 2",
   "language": "python",
   "name": "python2"
  },
  "language_info": {
   "codemirror_mode": {
    "name": "ipython",
    "version": 2
   },
   "file_extension": ".py",
   "mimetype": "text/x-python",
   "name": "python",
   "nbconvert_exporter": "python",
   "pygments_lexer": "ipython2",
   "version": "2.7.15"
  }
 },
 "nbformat": 4,
 "nbformat_minor": 2
}
