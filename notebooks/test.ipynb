{
 "cells": [
  {
   "cell_type": "code",
   "execution_count": 1,
   "metadata": {},
   "outputs": [],
   "source": [
    "%matplotlib inline\n",
    "%load_ext autoreload"
   ]
  },
  {
   "cell_type": "code",
   "execution_count": 2,
   "metadata": {},
   "outputs": [],
   "source": [
    "import os\n",
    "import sys\n",
    "import numpy as np\n",
    "import pandas as pd\n",
    "import matplotlib.pyplot as plt\n",
    "\n",
    "sys.path.append('../../mbspbs10pc')\n",
    "\n",
    "from mbspbs10pc import utils"
   ]
  },
  {
   "cell_type": "markdown",
   "metadata": {},
   "source": [
    "# Check MBS-PBS 10% data availability"
   ]
  },
  {
   "cell_type": "code",
   "execution_count": 3,
   "metadata": {},
   "outputs": [
    {
     "name": "stdout",
     "output_type": "stream",
     "text": [
      "MBS files:\n",
      "../../../data/MBS_SAMPLE_10PCT_2010.csv\n",
      "../../../data/MBS_SAMPLE_10PCT_2013.csv\n",
      "../../../data/MBS_SAMPLE_10PCT_2008.csv\n",
      "../../../data/MBS_SAMPLE_10PCT_2009.csv\n",
      "../../../data/MBS_SAMPLE_10PCT_2011.csv\n",
      "../../../data/MBS_SAMPLE_10PCT_2014.csv\n",
      "../../../data/MBS_SAMPLE_10PCT_2012.csv\n",
      "PBS files:\n",
      "../../../data/PBS_SAMPLE_10PCT_2010.csv\n",
      "../../../data/PBS_SAMPLE_10PCT_2011.csv\n",
      "../../../data/PBS_SAMPLE_10PCT_2012.csv\n",
      "../../../data/PBS_SAMPLE_10PCT_2009.csv\n",
      "../../../data/PBS_SAMPLE_10PCT_2013.csv\n",
      "../../../data/PBS_SAMPLE_10PCT_2008.csv\n",
      "Sample PIN lookout: ../../../data/SAMPLE_PIN_LOOKUP.csv\n"
     ]
    }
   ],
   "source": [
    "ROOT = os.path.join('..','..','..','data')\n",
    "\n",
    "mbs_files = filter(lambda x: x.startswith('MBS'), os.listdir(ROOT))\n",
    "pbs_files = filter(lambda x: x.startswith('PBS'), os.listdir(ROOT))\n",
    "sample_pin_lookout = filter(lambda x: x.startswith('SAMPLE'), os.listdir(ROOT))[0]\n",
    "\n",
    "print('MBS files:')\n",
    "for mbs in mbs_files:\n",
    "    print('{}'.format(os.path.join(ROOT, mbs)))\n",
    "    \n",
    "print('PBS files:')\n",
    "for pbs in pbs_files:\n",
    "    print('{}'.format(os.path.join(ROOT, pbs)))\n",
    "    \n",
    "print('Sample PIN lookout: {}'.format(os.path.join(ROOT, sample_pin_lookout)))"
   ]
  },
  {
   "cell_type": "markdown",
   "metadata": {},
   "source": [
    "# PBS take a look"
   ]
  },
  {
   "cell_type": "code",
   "execution_count": 4,
   "metadata": {},
   "outputs": [
    {
     "name": "stdout",
     "output_type": "stream",
     "text": [
      "../../../data/PBS_SAMPLE_10PCT_2010.csv\n"
     ]
    },
    {
     "name": "stderr",
     "output_type": "stream",
     "text": [
      "/home/samu/miniconda2/lib/python2.7/site-packages/IPython/core/interactiveshell.py:2718: DtypeWarning: Columns (10) have mixed types. Specify dtype option on import or set low_memory=False.\n",
      "  interactivity=interactivity, compiler=compiler, result=result)\n",
      "/home/samu/miniconda2/lib/python2.7/site-packages/numpy/lib/arraysetops.py:466: FutureWarning: elementwise comparison failed; returning scalar instead, but in the future will perform elementwise comparison\n",
      "  mask |= (ar1 == a)\n"
     ]
    },
    {
     "data": {
      "text/plain": [
       "(18312638, 13)"
      ]
     },
     "execution_count": 4,
     "metadata": {},
     "output_type": "execute_result"
    }
   ],
   "source": [
    "filename = '../../../data/PBS_SAMPLE_10PCT_2010.csv'\n",
    "print(filename)\n",
    "df = pd.read_csv(filename, header=0, index_col=0)\n",
    "df.shape"
   ]
  },
  {
   "cell_type": "code",
   "execution_count": 5,
   "metadata": {},
   "outputs": [
    {
     "data": {
      "text/html": [
       "<div>\n",
       "<style scoped>\n",
       "    .dataframe tbody tr th:only-of-type {\n",
       "        vertical-align: middle;\n",
       "    }\n",
       "\n",
       "    .dataframe tbody tr th {\n",
       "        vertical-align: top;\n",
       "    }\n",
       "\n",
       "    .dataframe thead th {\n",
       "        text-align: right;\n",
       "    }\n",
       "</style>\n",
       "<table border=\"1\" class=\"dataframe\">\n",
       "  <thead>\n",
       "    <tr style=\"text-align: right;\">\n",
       "      <th></th>\n",
       "      <th>SPPLY_DT</th>\n",
       "      <th>ITM_CD</th>\n",
       "      <th>PBS_RGLTN24_ADJST_QTY</th>\n",
       "      <th>BNFT_AMT</th>\n",
       "      <th>PTNT_CNTRBTN_AMT</th>\n",
       "      <th>SRT_RPT_IND</th>\n",
       "      <th>RGLTN24_IND</th>\n",
       "      <th>DRG_TYP_CD</th>\n",
       "      <th>MJR_SPCLTY_GRP_CD</th>\n",
       "      <th>UNDR_CPRSCRPTN_TYP_CD</th>\n",
       "      <th>PRSCRPTN_CNT</th>\n",
       "      <th>PTNT_CTGRY_DRVD_CD</th>\n",
       "      <th>PTNT_STATE</th>\n",
       "    </tr>\n",
       "    <tr>\n",
       "      <th>PTNT_ID</th>\n",
       "      <th></th>\n",
       "      <th></th>\n",
       "      <th></th>\n",
       "      <th></th>\n",
       "      <th></th>\n",
       "      <th></th>\n",
       "      <th></th>\n",
       "      <th></th>\n",
       "      <th></th>\n",
       "      <th></th>\n",
       "      <th></th>\n",
       "      <th></th>\n",
       "      <th></th>\n",
       "    </tr>\n",
       "  </thead>\n",
       "  <tbody>\n",
       "    <tr>\n",
       "      <th>3776951855</th>\n",
       "      <td>31JAN2010</td>\n",
       "      <td>08173E</td>\n",
       "      <td>30</td>\n",
       "      <td>11.26</td>\n",
       "      <td>33.3</td>\n",
       "      <td>R</td>\n",
       "      <td>N</td>\n",
       "      <td>GE</td>\n",
       "      <td>1.0</td>\n",
       "      <td>NaN</td>\n",
       "      <td>1</td>\n",
       "      <td>G2</td>\n",
       "      <td>WA</td>\n",
       "    </tr>\n",
       "    <tr>\n",
       "      <th>4526557106</th>\n",
       "      <td>02DEC2010</td>\n",
       "      <td>08814X</td>\n",
       "      <td>192</td>\n",
       "      <td>16.64</td>\n",
       "      <td>0.0</td>\n",
       "      <td>R</td>\n",
       "      <td>N</td>\n",
       "      <td>GE</td>\n",
       "      <td>1.0</td>\n",
       "      <td>NaN</td>\n",
       "      <td>1</td>\n",
       "      <td>C0</td>\n",
       "      <td>NSW</td>\n",
       "    </tr>\n",
       "    <tr>\n",
       "      <th>980508493</th>\n",
       "      <td>12MAY2010</td>\n",
       "      <td>03162K</td>\n",
       "      <td>25</td>\n",
       "      <td>2.27</td>\n",
       "      <td>5.4</td>\n",
       "      <td>NaN</td>\n",
       "      <td>N</td>\n",
       "      <td>GE</td>\n",
       "      <td>1.0</td>\n",
       "      <td>NaN</td>\n",
       "      <td>1</td>\n",
       "      <td>C1</td>\n",
       "      <td>VIC</td>\n",
       "    </tr>\n",
       "    <tr>\n",
       "      <th>9449546678</th>\n",
       "      <td>10SEP2010</td>\n",
       "      <td>01884E</td>\n",
       "      <td>20</td>\n",
       "      <td>8.55</td>\n",
       "      <td>0.0</td>\n",
       "      <td>NaN</td>\n",
       "      <td>N</td>\n",
       "      <td>GE</td>\n",
       "      <td>1.0</td>\n",
       "      <td>NaN</td>\n",
       "      <td>1</td>\n",
       "      <td>C1</td>\n",
       "      <td>VIC</td>\n",
       "    </tr>\n",
       "    <tr>\n",
       "      <th>8671809277</th>\n",
       "      <td>16JUN2010</td>\n",
       "      <td>08567X</td>\n",
       "      <td>1</td>\n",
       "      <td>27.49</td>\n",
       "      <td>0.0</td>\n",
       "      <td>NaN</td>\n",
       "      <td>N</td>\n",
       "      <td>GE</td>\n",
       "      <td>1.0</td>\n",
       "      <td>NaN</td>\n",
       "      <td>1</td>\n",
       "      <td>C0</td>\n",
       "      <td>NSW</td>\n",
       "    </tr>\n",
       "  </tbody>\n",
       "</table>\n",
       "</div>"
      ],
      "text/plain": [
       "             SPPLY_DT  ITM_CD  PBS_RGLTN24_ADJST_QTY  BNFT_AMT  \\\n",
       "PTNT_ID                                                          \n",
       "3776951855  31JAN2010  08173E                     30     11.26   \n",
       "4526557106  02DEC2010  08814X                    192     16.64   \n",
       "980508493   12MAY2010  03162K                     25      2.27   \n",
       "9449546678  10SEP2010  01884E                     20      8.55   \n",
       "8671809277  16JUN2010  08567X                      1     27.49   \n",
       "\n",
       "            PTNT_CNTRBTN_AMT SRT_RPT_IND RGLTN24_IND DRG_TYP_CD  \\\n",
       "PTNT_ID                                                           \n",
       "3776951855              33.3           R           N         GE   \n",
       "4526557106               0.0           R           N         GE   \n",
       "980508493                5.4         NaN           N         GE   \n",
       "9449546678               0.0         NaN           N         GE   \n",
       "8671809277               0.0         NaN           N         GE   \n",
       "\n",
       "            MJR_SPCLTY_GRP_CD UNDR_CPRSCRPTN_TYP_CD  PRSCRPTN_CNT  \\\n",
       "PTNT_ID                                                             \n",
       "3776951855                1.0                   NaN             1   \n",
       "4526557106                1.0                   NaN             1   \n",
       "980508493                 1.0                   NaN             1   \n",
       "9449546678                1.0                   NaN             1   \n",
       "8671809277                1.0                   NaN             1   \n",
       "\n",
       "           PTNT_CTGRY_DRVD_CD PTNT_STATE  \n",
       "PTNT_ID                                   \n",
       "3776951855                 G2         WA  \n",
       "4526557106                 C0        NSW  \n",
       "980508493                  C1        VIC  \n",
       "9449546678                 C1        VIC  \n",
       "8671809277                 C0        NSW  "
      ]
     },
     "execution_count": 5,
     "metadata": {},
     "output_type": "execute_result"
    }
   ],
   "source": [
    "df.head()"
   ]
  },
  {
   "cell_type": "code",
   "execution_count": 6,
   "metadata": {},
   "outputs": [],
   "source": [
    "uct = df['UNDR_CPRSCRPTN_TYP_CD'].fillna('C')"
   ]
  },
  {
   "cell_type": "code",
   "execution_count": 8,
   "metadata": {},
   "outputs": [
    {
     "data": {
      "text/plain": [
       "array(['C'], dtype=object)"
      ]
     },
     "execution_count": 8,
     "metadata": {},
     "output_type": "execute_result"
    }
   ],
   "source": [
    "np.unique(uct.values.ravel())"
   ]
  },
  {
   "cell_type": "code",
   "execution_count": 9,
   "metadata": {},
   "outputs": [
    {
     "name": "stdout",
     "output_type": "stream",
     "text": [
      "../../../data/PBS_SAMPLE_10PCT_2013.csv\n"
     ]
    },
    {
     "data": {
      "text/plain": [
       "(25895471, 13)"
      ]
     },
     "execution_count": 9,
     "metadata": {},
     "output_type": "execute_result"
    }
   ],
   "source": [
    "filename = '../../../data/PBS_SAMPLE_10PCT_2013.csv'\n",
    "print(filename)\n",
    "df = pd.read_csv(filename, header=0, index_col=0)\n",
    "df.shape"
   ]
  },
  {
   "cell_type": "code",
   "execution_count": 10,
   "metadata": {},
   "outputs": [],
   "source": [
    "uct = df['UNDR_CPRSCRPTN_TYP_CD'].fillna('C')"
   ]
  },
  {
   "cell_type": "code",
   "execution_count": 12,
   "metadata": {},
   "outputs": [
    {
     "data": {
      "text/plain": [
       "PTNT_ID\n",
       "5847446252    G2\n",
       "5675097669    G2\n",
       "4609807887    G2\n",
       "6659433488    G2\n",
       "2338975510    G2\n",
       "8651180199    G2\n",
       "7020190531    G2\n",
       "9860999313    G2\n",
       "7250732616    G2\n",
       "2638236226    G2\n",
       "8401999670    G2\n",
       "5723488179    G2\n",
       "4514226803    G2\n",
       "3464425673    G2\n",
       "8250874993    G2\n",
       "6922442252    G2\n",
       "8374010284    G2\n",
       "3795636265    G2\n",
       "6865105313    G2\n",
       "1442473148    G2\n",
       "750268975     G2\n",
       "5685881534    G2\n",
       "4119398502    G2\n",
       "664686344     G2\n",
       "651791418     G2\n",
       "Name: PTNT_CTGRY_DRVD_CD, dtype: object"
      ]
     },
     "execution_count": 12,
     "metadata": {},
     "output_type": "execute_result"
    }
   ],
   "source": [
    "df[uct == 'U']['PTNT_CTGRY_DRVD_CD'].head(25)"
   ]
  },
  {
   "cell_type": "code",
   "execution_count": null,
   "metadata": {},
   "outputs": [],
   "source": []
  },
  {
   "cell_type": "code",
   "execution_count": null,
   "metadata": {},
   "outputs": [],
   "source": []
  },
  {
   "cell_type": "code",
   "execution_count": null,
   "metadata": {},
   "outputs": [],
   "source": []
  },
  {
   "cell_type": "code",
   "execution_count": null,
   "metadata": {},
   "outputs": [],
   "source": []
  },
  {
   "cell_type": "markdown",
   "metadata": {},
   "source": [
    "# Drugs used in diabetes"
   ]
  },
  {
   "cell_type": "code",
   "execution_count": null,
   "metadata": {},
   "outputs": [],
   "source": [
    "_dd = pd.read_csv(os.path.join('..', 'data', 'drugs_used_in_diabetes.csv'), header=0)\n",
    "\n",
    "# Fix 6-digit notation\n",
    "dd = set()\n",
    "for item in _dd.values.ravel():\n",
    "    if len(item)<6:\n",
    "        dd.add(str(0)+item)\n",
    "    else:\n",
    "        dd.add(item)\n",
    "\n",
    "# FIXME - exclude Metformins and Sulfonamides\n",
    "dd = pd.DataFrame(data=list(dd), columns=_dd.columns)\n",
    "ms = pd.read_csv(os.path.join('..', 'data', 'metformins_sulfonamides.csv'), header=0)\n",
    "mask = []\n",
    "for d in dd.values:\n",
    "    mask.append(d not in ms.values)\n",
    "dd = pd.DataFrame(data=dd.values[mask], columns=dd.columns)\n",
    "print(dd.shape)"
   ]
  },
  {
   "cell_type": "code",
   "execution_count": null,
   "metadata": {},
   "outputs": [],
   "source": [
    "dd.head()"
   ]
  },
  {
   "cell_type": "code",
   "execution_count": null,
   "metadata": {},
   "outputs": [],
   "source": [
    "dd_set = set(list(dd.values.ravel()))"
   ]
  },
  {
   "cell_type": "markdown",
   "metadata": {},
   "source": [
    "# Filter diabetes"
   ]
  },
  {
   "cell_type": "code",
   "execution_count": null,
   "metadata": {},
   "outputs": [],
   "source": [
    "filename = 'PBS_SAMPLE_10PCT_2011.csv'\n",
    "costs = pd.read_csv(os.path.join(ROOT, '{}'.format(filename)), header=0,\n",
    "                    usecols=['BNFT_AMT', 'PTNT_CNTRBTN_AMT', 'ITM_CD', 'SPPLY_DT'])\n",
    "costs.head()"
   ]
  },
  {
   "cell_type": "code",
   "execution_count": null,
   "metadata": {},
   "outputs": [],
   "source": [
    "dd_costs = costs.loc[costs['ITM_CD'].isin(dd_set)]\n",
    "print(dd_costs.shape)"
   ]
  },
  {
   "cell_type": "code",
   "execution_count": null,
   "metadata": {},
   "outputs": [],
   "source": [
    "dd_costs['TOT'] = dd_costs['BNFT_AMT'] + dd_costs['PTNT_CNTRBTN_AMT']"
   ]
  },
  {
   "cell_type": "code",
   "execution_count": null,
   "metadata": {},
   "outputs": [],
   "source": [
    "dd_costs.sort_values(by='TOT').head()"
   ]
  },
  {
   "cell_type": "code",
   "execution_count": null,
   "metadata": {},
   "outputs": [],
   "source": [
    "plt.hist(dd_costs['TOT'], bins=200)\n",
    "plt.xlim([0,200])\n",
    "plt.title(2011)"
   ]
  },
  {
   "cell_type": "code",
   "execution_count": null,
   "metadata": {},
   "outputs": [],
   "source": [
    "plt.hist(dd_costs['TOT'], bins=200)\n",
    "plt.xlim([0,200])\n",
    "plt.title(2012)"
   ]
  },
  {
   "cell_type": "code",
   "execution_count": null,
   "metadata": {},
   "outputs": [],
   "source": [
    "#costs[np.logical_and(costs['PTNT_CNTRBTN_AMT'] > 35.4, costs['ITM_CD'].isin(dd_set))]"
   ]
  },
  {
   "cell_type": "code",
   "execution_count": null,
   "metadata": {},
   "outputs": [],
   "source": [
    "over_copayment = []\n",
    "below_copayment = []\n",
    "thresholds = [31.3, 32.9, 33.3, 34.2, 35.4, 36.1]\n",
    "\n",
    "for year, thresh in zip(np.arange(2008,2014), thresholds):\n",
    "    print('Reading {}'.format(year))\n",
    "    filename = 'PBS_SAMPLE_10PCT_'+str(year)+'.csv'\n",
    "    costs = pd.read_csv(os.path.join(ROOT, '{}'.format(filename)), header=0,\n",
    "                        usecols=['BNFT_AMT', 'PTNT_CNTRBTN_AMT', 'ITM_CD', 'SPPLY_DT'])\n",
    "    dd_costs = costs.loc[costs['ITM_CD'].isin(dd_set)] # filter for diabetes\n",
    "    \n",
    "    c = dd_costs['BNFT_AMT'] + dd_costs['PTNT_CNTRBTN_AMT']\n",
    "    \n",
    "    break"
   ]
  },
  {
   "cell_type": "code",
   "execution_count": null,
   "metadata": {},
   "outputs": [],
   "source": [
    "len(np.where(c > thresh)[0])"
   ]
  },
  {
   "cell_type": "code",
   "execution_count": null,
   "metadata": {},
   "outputs": [],
   "source": [
    "len(c)"
   ]
  },
  {
   "cell_type": "markdown",
   "metadata": {},
   "source": [
    "# Costs plot"
   ]
  },
  {
   "cell_type": "code",
   "execution_count": null,
   "metadata": {},
   "outputs": [],
   "source": [
    "#idx = np.where(np.logical_and(costs['PTNT_CNTRBTN_AMT'].values > 0, costs['PTNT_CNTRBTN_AMT'].values < 50))"
   ]
  },
  {
   "cell_type": "code",
   "execution_count": null,
   "metadata": {},
   "outputs": [],
   "source": [
    "xx = dd_costs['BNFT_AMT']\n",
    "print(xx.min())"
   ]
  },
  {
   "cell_type": "code",
   "execution_count": null,
   "metadata": {},
   "outputs": [],
   "source": []
  },
  {
   "cell_type": "code",
   "execution_count": null,
   "metadata": {},
   "outputs": [],
   "source": [
    "plt.figure(dpi=100)\n",
    "plt.hist(xx, bins=25);"
   ]
  },
  {
   "cell_type": "markdown",
   "metadata": {},
   "source": [
    "# Summary plots"
   ]
  },
  {
   "cell_type": "code",
   "execution_count": null,
   "metadata": {},
   "outputs": [],
   "source": [
    "import cPickle as pkl\n",
    "\n",
    "with open('../tmp/3_df_yearly_no_copayment.pkl','rb') as f:\n",
    "    dfy = pkl.load(f)"
   ]
  },
  {
   "cell_type": "code",
   "execution_count": null,
   "metadata": {},
   "outputs": [],
   "source": [
    "plt.figure(dpi=100)\n",
    "lengths = [len(dfy['PBS_SAMPLE_10PCT_'+str(k)+'.csv']) for k in np.arange(2008,2014)]\n",
    "plt.plot(np.arange(2008,2014), lengths, '-o')\n",
    "plt.ylabel('#people using drugs for diabetes')\n",
    "plt.ylim([0, 50000])\n",
    "plt.savefig('../tmp/people_using_dd.png');"
   ]
  },
  {
   "cell_type": "code",
   "execution_count": null,
   "metadata": {},
   "outputs": [],
   "source": [
    "starting = []\n",
    "for target_year in np.arange(2009, 2014):\n",
    "    # From the target year, go backward and find the subjects\n",
    "    # that were prescribed with diabete control drugs for the\n",
    "    # first time\n",
    "    positive_subjects = set(dfy['PBS_SAMPLE_10PCT_'+str(target_year)+'.csv'])\n",
    "\n",
    "    for year in np.arange(2008, target_year)[::-1]:\n",
    "        curr = set(dfy['PBS_SAMPLE_10PCT_'+str(year)+'.csv'])\n",
    "        positive_subjects = set(filter(lambda x: x not in curr, positive_subjects))\n",
    "    starting.append(len(positive_subjects))"
   ]
  },
  {
   "cell_type": "code",
   "execution_count": null,
   "metadata": {},
   "outputs": [],
   "source": [
    "plt.figure(dpi=100)\n",
    "plt.bar(np.arange(len(starting)), starting)\n",
    "plt.xticks(np.arange(len(starting)), np.arange(2009, 2014))\n",
    "plt.ylabel('#people started using drugs for diabetes')\n",
    "plt.title('Max value is: {} achieved in {}'.format(np.max(starting),\n",
    "                                             np.arange(2009, 2014)[np.argmax(starting)]))\n",
    "plt.savefig('../tmp/people_started_using_dd.png');"
   ]
  },
  {
   "cell_type": "markdown",
   "metadata": {},
   "source": [
    "# Monthly summary plots"
   ]
  },
  {
   "cell_type": "code",
   "execution_count": null,
   "metadata": {},
   "outputs": [],
   "source": [
    "import cPickle as pkl\n",
    "\n",
    "with open('../tmp/df3.pkl','rb') as f:\n",
    "    dfy = pkl.load(f)"
   ]
  },
  {
   "cell_type": "code",
   "execution_count": null,
   "metadata": {},
   "outputs": [],
   "source": [
    "lengths = []\n",
    "xaxis = []\n",
    "for year in range(2008, 2014):\n",
    "    df_year = dfy['PBS_SAMPLE_10PCT_'+str(year)+'.csv']\n",
    "    \n",
    "    for month in range(1, 13):\n",
    "        df_month = df_year[month]\n",
    "        lengths.append(len(df_month)) \n",
    "        xaxis.append(str(month)+'-'+str(year))\n",
    "lengths = np.array(lengths)"
   ]
  },
  {
   "cell_type": "code",
   "execution_count": null,
   "metadata": {},
   "outputs": [],
   "source": [
    "plt.figure(figsize=(20, 4))\n",
    "plt.plot(np.arange(len(lengths)), lengths, '-o')\n",
    "plt.ylabel('#people using drugs for diabetes', fontsize=15)\n",
    "plt.yticks(fontsize=15)\n",
    "plt.xticks(np.arange(len(lengths)), xaxis, rotation='vertical', fontsize=15)\n",
    "plt.title('Not year consistent (co-payment included)', fontsize=15)\n",
    "plt.savefig('../tmp/people_using_dd_monthly_breakdown_yes_copay.png');"
   ]
  },
  {
   "cell_type": "code",
   "execution_count": null,
   "metadata": {},
   "outputs": [],
   "source": [
    "#plt.figure(figsize=(20, 4))\n",
    "#plt.plot(np.arange(len(lengths)), lengths, '-o')\n",
    "#plt.ylabel('#people using drugs for diabetes', fontsize=15)\n",
    "#plt.yticks(fontsize=15)\n",
    "#plt.xticks(np.arange(len(lengths)), xaxis, rotation='vertical', fontsize=15)\n",
    "#plt.title('Not year consistent', fontsize=15)\n",
    "#plt.savefig('../tmp/people_using_dd_monthly_breakdown.png');"
   ]
  },
  {
   "cell_type": "code",
   "execution_count": null,
   "metadata": {},
   "outputs": [],
   "source": [
    "#plt.figure(figsize=(20, 4))\n",
    "#plt.plot(np.arange(len(lengths)), lengths, '-o')\n",
    "#plt.ylabel('#people using drugs for diabetes', fontsize=15)\n",
    "#plt.yticks(fontsize=15)\n",
    "#plt.xticks(np.arange(len(lengths)), xaxis, rotation='vertical', fontsize=15)\n",
    "#plt.title('Year consistency', fontsize=15)\n",
    "#plt.savefig('../tmp/people_using_dd_year_consistent_monthly_breakdown.png');"
   ]
  },
  {
   "cell_type": "code",
   "execution_count": null,
   "metadata": {},
   "outputs": [],
   "source": [
    "month_year = [x.split('-') for x in xaxis]\n",
    "starting = []\n",
    "for i, (target_month, target_year) in enumerate(month_year):\n",
    "    print('{})----------------------------'.format(i))\n",
    "    print('target: ', target_month, target_year)\n",
    "    positive_subjects = set(dfy['PBS_SAMPLE_10PCT_'+str(target_year)+'.csv'][int(target_month)])\n",
    "    \n",
    "    for month, year in month_year[:i][::-1]:\n",
    "        print('look', month, year)\n",
    "        curr = set(dfy['PBS_SAMPLE_10PCT_'+str(year)+'.csv'][int(month)])\n",
    "        positive_subjects = set(filter(lambda x: x not in curr, positive_subjects))\n",
    "    starting.append(len(positive_subjects))"
   ]
  },
  {
   "cell_type": "code",
   "execution_count": null,
   "metadata": {},
   "outputs": [],
   "source": [
    "_starting = starting[12:]\n",
    "\n",
    "plt.figure(figsize=(20, 4))\n",
    "plt.bar(np.arange(len(_starting)), _starting)\n",
    "plt.xticks(np.arange(len(xaxis[12:])), xaxis[12:], rotation='vertical', fontsize=15)\n",
    "plt.yticks(fontsize=15)\n",
    "plt.ylabel('#people started using drugs for diabetes', fontsize=15)\n",
    "plt.title('Max value is: {} achieved in {} (co-payment included)'.format(np.max(_starting),\n",
    "                                             xaxis[12:][np.argmax(_starting)]), fontsize=15);\n",
    "plt.savefig('../tmp/people_started_using_dd_monthly_breakdown_copayment.png');"
   ]
  },
  {
   "cell_type": "code",
   "execution_count": null,
   "metadata": {},
   "outputs": [],
   "source": []
  },
  {
   "cell_type": "code",
   "execution_count": null,
   "metadata": {},
   "outputs": [],
   "source": [
    "dd = dfy"
   ]
  },
  {
   "cell_type": "code",
   "execution_count": null,
   "metadata": {},
   "outputs": [],
   "source": [
    "curr = set(pd.read_csv('../../../data/PBS_SAMPLE_10PCT_2008.csv', header=0, usecols=['PTNT_ID']).values.ravel())"
   ]
  },
  {
   "cell_type": "code",
   "execution_count": null,
   "metadata": {},
   "outputs": [],
   "source": [
    "len(curr)"
   ]
  },
  {
   "cell_type": "code",
   "execution_count": null,
   "metadata": {},
   "outputs": [],
   "source": [
    "diabete = set(dd['PBS_SAMPLE_10PCT_2008.csv'])"
   ]
  },
  {
   "cell_type": "code",
   "execution_count": null,
   "metadata": {},
   "outputs": [],
   "source": [
    "len(diabete)"
   ]
  },
  {
   "cell_type": "code",
   "execution_count": null,
   "metadata": {},
   "outputs": [],
   "source": [
    "out = set(filter(lambda x: x not in diabete, curr))"
   ]
  },
  {
   "cell_type": "code",
   "execution_count": null,
   "metadata": {},
   "outputs": [],
   "source": [
    "len(out)"
   ]
  },
  {
   "cell_type": "code",
   "execution_count": null,
   "metadata": {},
   "outputs": [],
   "source": [
    "len(diabete) + len(curr)"
   ]
  },
  {
   "cell_type": "code",
   "execution_count": null,
   "metadata": {},
   "outputs": [],
   "source": [
    "len(out.intersection(diabete))"
   ]
  },
  {
   "cell_type": "code",
   "execution_count": null,
   "metadata": {},
   "outputs": [],
   "source": [
    "a = set([1,2,3])\n",
    "b = set([1,2,3])\n",
    "\n",
    "print(a.union(b))"
   ]
  },
  {
   "cell_type": "code",
   "execution_count": null,
   "metadata": {},
   "outputs": [],
   "source": [
    "pos = pd.read_csv('../tmp/3_df_yearly_no_copayment_class_1.csv', header=0)\n",
    "neg = pd.read_csv('../tmp/3_df_yearly_no_copayment_class_0.csv', header=0)"
   ]
  },
  {
   "cell_type": "code",
   "execution_count": null,
   "metadata": {},
   "outputs": [],
   "source": [
    "ii = np.intersect1d(pos.values.ravel(), neg.values.ravel())\n"
   ]
  },
  {
   "cell_type": "code",
   "execution_count": null,
   "metadata": {},
   "outputs": [],
   "source": [
    "dd = {123123: ['gp-5-4-gp-f-4'], 4532432: ['gp-4-3-pg-7-s-3']}\n",
    "df = pd.DataFrame.from_dict(dd, orient='index').rename({0: 'Sequence'}, axis=1)\n",
    "df"
   ]
  },
  {
   "cell_type": "code",
   "execution_count": null,
   "metadata": {},
   "outputs": [],
   "source": []
  }
 ],
 "metadata": {
  "anaconda-cloud": {},
  "kernelspec": {
   "display_name": "Python 2",
   "language": "python",
   "name": "python2"
  },
  "language_info": {
   "codemirror_mode": {
    "name": "ipython",
    "version": 2
   },
   "file_extension": ".py",
   "mimetype": "text/x-python",
   "name": "python",
   "nbconvert_exporter": "python",
   "pygments_lexer": "ipython2",
   "version": "2.7.14"
  }
 },
 "nbformat": 4,
 "nbformat_minor": 2
}
