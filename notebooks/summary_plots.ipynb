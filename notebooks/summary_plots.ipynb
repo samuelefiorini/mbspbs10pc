{
 "cells": [
  {
   "cell_type": "code",
   "execution_count": null,
   "metadata": {},
   "outputs": [],
   "source": [
    "import os\n",
    "import cPickle as pkl\n",
    "import numpy as np\n",
    "import pandas as pd\n",
    "from tqdm import tqdm\n",
    "import matplotlib.pyplot as plt\n",
    "%matplotlib inline"
   ]
  },
  {
   "cell_type": "markdown",
   "metadata": {},
   "source": [
    "# Check MBS-PBS 10% data availability"
   ]
  },
  {
   "cell_type": "code",
   "execution_count": null,
   "metadata": {},
   "outputs": [],
   "source": [
    "ROOT = os.path.join('..','..','..','data')\n",
    "\n",
    "mbs_files = filter(lambda x: x.startswith('MBS'), os.listdir(ROOT))\n",
    "pbs_files = filter(lambda x: x.startswith('PBS'), os.listdir(ROOT))\n",
    "sample_pin_lookout = filter(lambda x: x.startswith('SAMPLE'), os.listdir(ROOT))[0]\n",
    "\n",
    "print('MBS files:')\n",
    "for mbs in mbs_files:\n",
    "    print('{}'.format(os.path.join(ROOT, mbs)))\n",
    "    \n",
    "print('PBS files:')\n",
    "for pbs in pbs_files:\n",
    "    print('{}'.format(os.path.join(ROOT, pbs)))\n",
    "    \n",
    "print('Sample PIN lookout: {}'.format(os.path.join(ROOT, sample_pin_lookout)))"
   ]
  },
  {
   "cell_type": "code",
   "execution_count": null,
   "metadata": {},
   "outputs": [],
   "source": [
    "0.75*len(pbs_files)"
   ]
  },
  {
   "cell_type": "markdown",
   "metadata": {},
   "source": [
    "# Summary plots\n",
    "## Concessional diabetic in the years"
   ]
  },
  {
   "cell_type": "code",
   "execution_count": null,
   "metadata": {},
   "outputs": [],
   "source": [
    "dd = pkl.load(open('../tmp/dump_dd_.pkl','rb')) # diabetics\n",
    "cc = pkl.load(open('../tmp/dump_cc_.pkl','rb')) # continuously and consistently concessionals"
   ]
  },
  {
   "cell_type": "code",
   "execution_count": null,
   "metadata": {},
   "outputs": [],
   "source": [
    "years = np.arange(2008, 2015)\n",
    "\n",
    "plt.figure(dpi=100)\n",
    "lengths = [len(set(dd['PBS_SAMPLE_10PCT_'+str(k)+'.csv']).intersection(cc)) for k in years]\n",
    "plt.plot(years, lengths, '-o')\n",
    "plt.ylabel('#people using drugs for diabetes')\n",
    "plt.ylim([0, 65000])\n",
    "plt.savefig('../tmp/people_using_dd.png');"
   ]
  },
  {
   "cell_type": "markdown",
   "metadata": {},
   "source": [
    "## Concessional new diabetics"
   ]
  },
  {
   "cell_type": "code",
   "execution_count": null,
   "metadata": {},
   "outputs": [],
   "source": [
    "starting = []\n",
    "for year in years[1:]:\n",
    "    positive_subjects = pd.read_csv('../tmp/dump_{}_class_1.csv'.format(year))\n",
    "    starting.append(len(positive_subjects))"
   ]
  },
  {
   "cell_type": "code",
   "execution_count": null,
   "metadata": {},
   "outputs": [],
   "source": [
    "plt.figure(dpi=100)\n",
    "plt.bar(np.arange(len(starting)), starting)\n",
    "plt.xticks(np.arange(len(starting)), years[1:])\n",
    "plt.ylabel('#new concessional diabetics')\n",
    "plt.title('Max value is: {} achieved in {}'.format(np.max(starting),\n",
    "                                             years[1:][np.argmax(starting)]))\n",
    "plt.savefig('../tmp/people_started_using_dd.png');"
   ]
  },
  {
   "cell_type": "code",
   "execution_count": null,
   "metadata": {},
   "outputs": [],
   "source": [
    "sum(starting)"
   ]
  },
  {
   "cell_type": "markdown",
   "metadata": {},
   "source": [
    "# tmp"
   ]
  },
  {
   "cell_type": "code",
   "execution_count": null,
   "metadata": {},
   "outputs": [],
   "source": [
    "concessionals = []\n",
    "for pbs in tqdm(pbs_files):\n",
    "    df = pd.read_csv(os.path.join(ROOT, pbs), header=0, usecols=['PTNT_ID', 'PTNT_CTGRY_DRVD_CD'])\n",
    "    c0c1 = df.loc[df['PTNT_CTGRY_DRVD_CD'].isin(['C0', 'C1'])]\n",
    "    _tmp = set(c0c1['PTNT_ID'].values.tolist()).intersection(cc)\n",
    "    concessionals.append(len(_tmp))"
   ]
  },
  {
   "cell_type": "code",
   "execution_count": null,
   "metadata": {},
   "outputs": [],
   "source": [
    "# # unique id\n",
    "# plt.figure(dpi=100)\n",
    "# plt.bar(np.arange(len(concessionals)), concessionals)\n",
    "# plt.xticks(np.arange(len(concessionals)), years)\n",
    "# plt.ylabel('#unique concessionals')\n",
    "# plt.title('Max value is: {} achieved in {}'.format(np.max(concessionals),\n",
    "#                                              years[np.argmax(concessionals)]))\n",
    "# plt.savefig('../tmp/concessionals3.png')"
   ]
  },
  {
   "cell_type": "code",
   "execution_count": null,
   "metadata": {},
   "outputs": [],
   "source": [
    "# unique id + cc\n",
    "plt.figure(dpi=100)\n",
    "plt.bar(np.arange(len(concessionals)), concessionals)\n",
    "plt.xticks(np.arange(len(concessionals)), years)\n",
    "plt.ylabel('#unique concessionals')\n",
    "plt.title('Max value is: {} achieved in {}'.format(np.max(concessionals),\n",
    "                                             years[np.argmax(concessionals)]))\n",
    "print(concessionals)\n",
    "plt.savefig('../tmp/concessionals2.png')"
   ]
  },
  {
   "cell_type": "markdown",
   "metadata": {},
   "source": [
    "trying to sum them up"
   ]
  },
  {
   "cell_type": "code",
   "execution_count": null,
   "metadata": {},
   "outputs": [],
   "source": [
    "starting = []\n",
    "idx = []\n",
    "for year in years[1:]:\n",
    "    positive_subjects = pd.read_csv('../tmp/dump_{}_class_1.csv'.format(year))\n",
    "    idx.extend(positive_subjects.values)\n",
    "    starting.append(len(positive_subjects))"
   ]
  },
  {
   "cell_type": "code",
   "execution_count": null,
   "metadata": {},
   "outputs": [],
   "source": [
    "np.array(idx).ravel().shape"
   ]
  },
  {
   "cell_type": "code",
   "execution_count": null,
   "metadata": {},
   "outputs": [],
   "source": []
  }
 ],
 "metadata": {
  "anaconda-cloud": {},
  "kernelspec": {
   "display_name": "Python 2",
   "language": "python",
   "name": "python2"
  },
  "language_info": {
   "codemirror_mode": {
    "name": "ipython",
    "version": 2
   },
   "file_extension": ".py",
   "mimetype": "text/x-python",
   "name": "python",
   "nbconvert_exporter": "python",
   "pygments_lexer": "ipython2",
   "version": "2.7.14"
  }
 },
 "nbformat": 4,
 "nbformat_minor": 2
}
