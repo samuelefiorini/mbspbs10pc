{
 "cells": [
  {
   "cell_type": "code",
   "execution_count": null,
   "metadata": {},
   "outputs": [],
   "source": [
    "import cPickle as pkl\n",
    "import numpy as np\n",
    "import matplotlib.pyplot as plt\n",
    "%matplotlib inline"
   ]
  },
  {
   "cell_type": "markdown",
   "metadata": {},
   "source": [
    "# Case 1\n",
    "- Year report\n",
    "- **Including** co-payment"
   ]
  },
  {
   "cell_type": "code",
   "execution_count": null,
   "metadata": {},
   "outputs": [],
   "source": [
    "with open('../tmp/1_df_yearly_w_copayment.pkl','rb') as f:\n",
    "    dfy = pkl.load(f)"
   ]
  },
  {
   "cell_type": "code",
   "execution_count": null,
   "metadata": {},
   "outputs": [],
   "source": [
    "plt.figure(dpi=100)\n",
    "lengths = [len(dfy['PBS_SAMPLE_10PCT_'+str(k)+'.csv']) for k in np.arange(2008,2014)]\n",
    "plt.plot(np.arange(2008,2014), lengths, '-o')\n",
    "plt.ylabel('#people using drugs for diabetes')\n",
    "plt.ylim([0, 125000])\n",
    "plt.tight_layout()\n",
    "plt.savefig('../tmp/1_dd_yearly_w_copayment.png');"
   ]
  },
  {
   "cell_type": "code",
   "execution_count": null,
   "metadata": {},
   "outputs": [],
   "source": [
    "starting = []\n",
    "for target_year in np.arange(2009, 2014):\n",
    "    # From the target year, go backward and find the subjects\n",
    "    # that were prescribed with diabete control drugs for the\n",
    "    # first time\n",
    "    positive_subjects = set(dfy['PBS_SAMPLE_10PCT_'+str(target_year)+'.csv'])\n",
    "\n",
    "    for year in np.arange(2008, target_year)[::-1]:\n",
    "        curr = set(dfy['PBS_SAMPLE_10PCT_'+str(year)+'.csv'])\n",
    "        positive_subjects = set(filter(lambda x: x not in curr, positive_subjects))\n",
    "    starting.append(len(positive_subjects))"
   ]
  },
  {
   "cell_type": "code",
   "execution_count": null,
   "metadata": {},
   "outputs": [],
   "source": [
    "plt.figure(dpi=100)\n",
    "plt.bar(np.arange(len(starting)), starting)\n",
    "plt.xticks(np.arange(len(starting)), np.arange(2009, 2014))\n",
    "plt.ylabel('#people started using drugs for diabetes')\n",
    "plt.title('Max value is: {} achieved in {}'.format(np.max(starting),\n",
    "                                             np.arange(2009, 2014)[np.argmax(starting)]))\n",
    "plt.ylim([0, 25000])\n",
    "plt.tight_layout()\n",
    "plt.savefig('../tmp/1_starting_dd_yearly_w_copayment.png');"
   ]
  },
  {
   "cell_type": "markdown",
   "metadata": {},
   "source": [
    "# Case 2\n",
    "- Month report\n",
    "- **Excluding** co-payment"
   ]
  },
  {
   "cell_type": "code",
   "execution_count": null,
   "metadata": {},
   "outputs": [],
   "source": [
    "with open('../tmp/2_df_monthly_w_copayment.pkl','rb') as f:\n",
    "    dfy = pkl.load(f)"
   ]
  },
  {
   "cell_type": "code",
   "execution_count": null,
   "metadata": {},
   "outputs": [],
   "source": [
    "lengths = []\n",
    "xaxis = []\n",
    "for year in range(2008, 2014):\n",
    "    df_year = dfy['PBS_SAMPLE_10PCT_'+str(year)+'.csv']\n",
    "    \n",
    "    for month in range(1, 13):\n",
    "        df_month = df_year[month]\n",
    "        lengths.append(len(df_month)) \n",
    "        xaxis.append(str(month)+'-'+str(year))\n",
    "lengths = np.array(lengths)"
   ]
  },
  {
   "cell_type": "code",
   "execution_count": null,
   "metadata": {},
   "outputs": [],
   "source": [
    "plt.figure(figsize=(20, 6))\n",
    "plt.plot(np.arange(len(lengths)), lengths, '-o')\n",
    "plt.ylabel('#people using drugs for diabetes', fontsize=15)\n",
    "plt.yticks(fontsize=15)\n",
    "plt.xticks(np.arange(len(lengths)), xaxis, rotation='vertical', fontsize=15)\n",
    "plt.tight_layout()\n",
    "plt.ylim([0, 65000])\n",
    "plt.savefig('../tmp/2_dd_monthly_w_copayment.png');"
   ]
  },
  {
   "cell_type": "code",
   "execution_count": null,
   "metadata": {},
   "outputs": [],
   "source": [
    "month_year = [x.split('-') for x in xaxis]\n",
    "starting = []\n",
    "for i, (target_month, target_year) in enumerate(month_year):\n",
    "#    print('{})----------------------------'.format(i))\n",
    "#    print('target: ', target_month, target_year)\n",
    "    positive_subjects = set(dfy['PBS_SAMPLE_10PCT_'+str(target_year)+'.csv'][int(target_month)])\n",
    "    \n",
    "    for month, year in month_year[:i][::-1]:\n",
    "#        print('look', month, year)\n",
    "        curr = set(dfy['PBS_SAMPLE_10PCT_'+str(year)+'.csv'][int(month)])\n",
    "        positive_subjects = set(filter(lambda x: x not in curr, positive_subjects))\n",
    "    starting.append(len(positive_subjects))"
   ]
  },
  {
   "cell_type": "code",
   "execution_count": null,
   "metadata": {},
   "outputs": [],
   "source": [
    "_starting = starting[12:]\n",
    "\n",
    "plt.figure(figsize=(20, 6))\n",
    "plt.bar(np.arange(len(_starting)), _starting)\n",
    "plt.xticks(np.arange(len(xaxis[12:])), xaxis[12:], rotation='vertical', fontsize=15)\n",
    "plt.yticks(fontsize=15)\n",
    "plt.ylabel('#people started using drugs for diabetes', fontsize=15)\n",
    "plt.title('Max value is: {} achieved in {}'.format(np.max(_starting),\n",
    "                                             xaxis[12:][np.argmax(_starting)]), fontsize=15)\n",
    "plt.ylim([0, 5000])\n",
    "plt.tight_layout()\n",
    "plt.savefig('../tmp/2_starting_dd_monthly_w_copayment.png');"
   ]
  },
  {
   "cell_type": "markdown",
   "metadata": {},
   "source": [
    "# Case 3\n",
    "- Year report\n",
    "- **Excluding** co-payment"
   ]
  },
  {
   "cell_type": "code",
   "execution_count": null,
   "metadata": {},
   "outputs": [],
   "source": [
    "with open('../tmp/3_df_yearly_no_copayment.pkl','rb') as f:\n",
    "    dfy = pkl.load(f)"
   ]
  },
  {
   "cell_type": "code",
   "execution_count": null,
   "metadata": {},
   "outputs": [],
   "source": [
    "plt.figure(dpi=100)\n",
    "lengths = [len(dfy['PBS_SAMPLE_10PCT_'+str(k)+'.csv']) for k in np.arange(2008,2014)]\n",
    "plt.plot(np.arange(2008,2014), lengths, '-o')\n",
    "plt.ylabel('#people using drugs for diabetes')\n",
    "plt.ylim([0, 125000])\n",
    "plt.tight_layout()\n",
    "plt.savefig('../tmp/3_dd_yearly_no_copayment.png');"
   ]
  },
  {
   "cell_type": "code",
   "execution_count": null,
   "metadata": {},
   "outputs": [],
   "source": [
    "starting = []\n",
    "for target_year in np.arange(2009, 2014):\n",
    "    # From the target year, go backward and find the subjects\n",
    "    # that were prescribed with diabete control drugs for the\n",
    "    # first time\n",
    "    positive_subjects = set(dfy['PBS_SAMPLE_10PCT_'+str(target_year)+'.csv'])\n",
    "\n",
    "    for year in np.arange(2008, target_year)[::-1]:\n",
    "        curr = set(dfy['PBS_SAMPLE_10PCT_'+str(year)+'.csv'])\n",
    "        positive_subjects = set(filter(lambda x: x not in curr, positive_subjects))\n",
    "    starting.append(len(positive_subjects))"
   ]
  },
  {
   "cell_type": "code",
   "execution_count": null,
   "metadata": {},
   "outputs": [],
   "source": [
    "plt.figure(dpi=100)\n",
    "plt.bar(np.arange(len(starting)), starting)\n",
    "plt.xticks(np.arange(len(starting)), np.arange(2009, 2014))\n",
    "plt.ylabel('#people started using drugs for diabetes')\n",
    "plt.title('Max value is: {} achieved in {}'.format(np.max(starting),\n",
    "                                             np.arange(2009, 2014)[np.argmax(starting)]))\n",
    "plt.ylim([0, 25000])\n",
    "plt.tight_layout()\n",
    "plt.savefig('../tmp/3_starting_dd_yearly_no_copayment.png');"
   ]
  },
  {
   "cell_type": "markdown",
   "metadata": {},
   "source": [
    "# Case 4\n",
    "- Month report\n",
    "- **Excluding** co-payment"
   ]
  },
  {
   "cell_type": "code",
   "execution_count": null,
   "metadata": {},
   "outputs": [],
   "source": [
    "with open('../tmp/4_df_monthly_no_copayment.pkl','rb') as f:\n",
    "    dfy = pkl.load(f)"
   ]
  },
  {
   "cell_type": "code",
   "execution_count": null,
   "metadata": {},
   "outputs": [],
   "source": [
    "lengths = []\n",
    "xaxis = []\n",
    "for year in range(2008, 2014):\n",
    "    df_year = dfy['PBS_SAMPLE_10PCT_'+str(year)+'.csv']\n",
    "    \n",
    "    for month in range(1, 13):\n",
    "        df_month = df_year[month]\n",
    "        lengths.append(len(df_month)) \n",
    "        xaxis.append(str(month)+'-'+str(year))\n",
    "lengths = np.array(lengths)"
   ]
  },
  {
   "cell_type": "code",
   "execution_count": null,
   "metadata": {},
   "outputs": [],
   "source": [
    "plt.figure(figsize=(20, 6))\n",
    "plt.plot(np.arange(len(lengths)), lengths, '-o')\n",
    "plt.ylabel('#people using drugs for diabetes', fontsize=15)\n",
    "plt.yticks(fontsize=15)\n",
    "plt.xticks(np.arange(len(lengths)), xaxis, rotation='vertical', fontsize=15)\n",
    "plt.tight_layout()\n",
    "plt.ylim([0, 65000])\n",
    "plt.savefig('../tmp/4_dd_monthly_no_copayment.png');"
   ]
  },
  {
   "cell_type": "code",
   "execution_count": null,
   "metadata": {},
   "outputs": [],
   "source": [
    "month_year = [x.split('-') for x in xaxis]\n",
    "starting = []\n",
    "for i, (target_month, target_year) in enumerate(month_year):\n",
    "#    print('{})----------------------------'.format(i))\n",
    "#    print('target: ', target_month, target_year)\n",
    "    positive_subjects = set(dfy['PBS_SAMPLE_10PCT_'+str(target_year)+'.csv'][int(target_month)])\n",
    "    \n",
    "    for month, year in month_year[:i][::-1]:\n",
    "#        print('look', month, year)\n",
    "        curr = set(dfy['PBS_SAMPLE_10PCT_'+str(year)+'.csv'][int(month)])\n",
    "        positive_subjects = set(filter(lambda x: x not in curr, positive_subjects))\n",
    "    starting.append(len(positive_subjects))"
   ]
  },
  {
   "cell_type": "code",
   "execution_count": null,
   "metadata": {},
   "outputs": [],
   "source": [
    "_starting = starting[12:]\n",
    "\n",
    "plt.figure(figsize=(20, 6))\n",
    "plt.bar(np.arange(len(_starting)), _starting)\n",
    "plt.xticks(np.arange(len(xaxis[12:])), xaxis[12:], rotation='vertical', fontsize=15)\n",
    "plt.yticks(fontsize=15)\n",
    "plt.ylabel('#people started using drugs for diabetes', fontsize=15)\n",
    "plt.title('Max value is: {} achieved in {}'.format(np.max(_starting),\n",
    "                                             xaxis[12:][np.argmax(_starting)]), fontsize=15)\n",
    "plt.ylim([0, 5000])\n",
    "plt.tight_layout()\n",
    "plt.savefig('../tmp/4_starting_dd_monthly_no_copayment.png');"
   ]
  },
  {
   "cell_type": "code",
   "execution_count": null,
   "metadata": {},
   "outputs": [],
   "source": []
  }
 ],
 "metadata": {
  "kernelspec": {
   "display_name": "Python 2",
   "language": "python",
   "name": "python2"
  },
  "language_info": {
   "codemirror_mode": {
    "name": "ipython",
    "version": 2
   },
   "file_extension": ".py",
   "mimetype": "text/x-python",
   "name": "python",
   "nbconvert_exporter": "python",
   "pygments_lexer": "ipython2",
   "version": "2.7.14"
  }
 },
 "nbformat": 4,
 "nbformat_minor": 2
}
