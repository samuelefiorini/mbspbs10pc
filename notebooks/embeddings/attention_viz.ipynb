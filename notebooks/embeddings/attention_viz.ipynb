{
 "cells": [
  {
   "cell_type": "code",
   "execution_count": 2,
   "metadata": {},
   "outputs": [],
   "source": [
    "import matplotlib.pyplot as plt\n",
    "import numpy as np\n",
    "import pandas as pd\n",
    "\n",
    "from copy import copy\n",
    "from keras.layers import LSTM\n",
    "from keras import optimizers as opt\n",
    "\n",
    "import mbspbs10pc.model as mbs_model\n",
    "from mbspbs10pc import read_activations, utils\n",
    "reload(mbs_model)\n",
    "reload(read_activations)\n",
    "reload(utils);\n",
    "%matplotlib inline"
   ]
  },
  {
   "cell_type": "markdown",
   "metadata": {},
   "source": [
    "# Load data"
   ]
  },
  {
   "cell_type": "code",
   "execution_count": 3,
   "metadata": {},
   "outputs": [],
   "source": [
    "labelsfile = '../../tmp/1_METONLY_vs_METX/matched_CEM_table.csv'\n",
    "datafile = '../../tmp/item_days_raw_data_.pkl'\n",
    "dataset = utils.load_data_labels(datafile, labelsfile)\n",
    "padded_mbs_seq, padded_timestamp_seq, tokenizer = utils.tokenize(dataset)\n",
    "maxlen = padded_mbs_seq.shape[1]\n",
    "\n",
    "# Split in training, validation, test sets\n",
    "tr_set, v_set, ts_set = utils.train_validation_test_split(\n",
    "    [padded_mbs_seq, padded_timestamp_seq], dataset['Class'],\n",
    "    test_size=0.4, validation_size=0.1,\n",
    "    verbose=False, random_state0=42, random_state1=420)"
   ]
  },
  {
   "cell_type": "code",
   "execution_count": 6,
   "metadata": {},
   "outputs": [
    {
     "data": {
      "text/html": [
       "<div>\n",
       "<style scoped>\n",
       "    .dataframe tbody tr th:only-of-type {\n",
       "        vertical-align: middle;\n",
       "    }\n",
       "\n",
       "    .dataframe tbody tr th {\n",
       "        vertical-align: top;\n",
       "    }\n",
       "\n",
       "    .dataframe thead th {\n",
       "        text-align: right;\n",
       "    }\n",
       "</style>\n",
       "<table border=\"1\" class=\"dataframe\">\n",
       "  <thead>\n",
       "    <tr style=\"text-align: right;\">\n",
       "      <th></th>\n",
       "      <th>Seq</th>\n",
       "      <th>Class</th>\n",
       "      <th>mbs_seq</th>\n",
       "      <th>times_seq</th>\n",
       "    </tr>\n",
       "    <tr>\n",
       "      <th>PIN</th>\n",
       "      <th></th>\n",
       "      <th></th>\n",
       "      <th></th>\n",
       "      <th></th>\n",
       "    </tr>\n",
       "  </thead>\n",
       "  <tbody>\n",
       "    <tr>\n",
       "      <th>568483</th>\n",
       "      <td>10990 0 23 16 725 0 10990 0 10990 0 10990 0 10...</td>\n",
       "      <td>1</td>\n",
       "      <td>10990 23 725 10990 10990 10990 10993 23 85311 ...</td>\n",
       "      <td>0 16 0 0 0 0 0 15 0 0 13 0 0 0 22 0 0 0 0 0 0 ...</td>\n",
       "    </tr>\n",
       "    <tr>\n",
       "      <th>923748</th>\n",
       "      <td>66653 0 65070 0 66515 5 10962 1 105 1 56807 42...</td>\n",
       "      <td>0</td>\n",
       "      <td>66653 65070 66515 10962 105 56807 10990 23 109...</td>\n",
       "      <td>0 0 5 1 1 42 0 26 35 0 0 0 9 0 0 0 5 0 0 0 21 ...</td>\n",
       "    </tr>\n",
       "    <tr>\n",
       "      <th>2035328</th>\n",
       "      <td>66536 0 74995 0 66512 0 66551 0 66608 0 66716 ...</td>\n",
       "      <td>0</td>\n",
       "      <td>66536 74995 66512 66551 66608 66716 66560 7392...</td>\n",
       "      <td>0 0 0 0 0 0 0 9 1 10 9 138 1 3 31 24 63 0 0 0 ...</td>\n",
       "    </tr>\n",
       "    <tr>\n",
       "      <th>2239386</th>\n",
       "      <td>10991 0 23 105 73928 0 66560 0 66515 0 66551 0...</td>\n",
       "      <td>1</td>\n",
       "      <td>10991 23 73928 66560 66515 66551 66536 2517 10...</td>\n",
       "      <td>0 105 0 0 0 0 4 2 27 1 1 7 0 18 132 0 0 0 1 0 ...</td>\n",
       "    </tr>\n",
       "    <tr>\n",
       "      <th>2244533</th>\n",
       "      <td>10990 0 23 74 23 0 10990 1 73928 0 66500 0 665...</td>\n",
       "      <td>1</td>\n",
       "      <td>10990 23 23 10990 73928 66500 66560 66551 23 1...</td>\n",
       "      <td>0 74 0 1 0 0 0 2 0 87 0 1 0 0 0 0 0 2 0 6 0 8 ...</td>\n",
       "    </tr>\n",
       "  </tbody>\n",
       "</table>\n",
       "</div>"
      ],
      "text/plain": [
       "                                                       Seq  Class  \\\n",
       "PIN                                                                 \n",
       "568483   10990 0 23 16 725 0 10990 0 10990 0 10990 0 10...      1   \n",
       "923748   66653 0 65070 0 66515 5 10962 1 105 1 56807 42...      0   \n",
       "2035328  66536 0 74995 0 66512 0 66551 0 66608 0 66716 ...      0   \n",
       "2239386  10991 0 23 105 73928 0 66560 0 66515 0 66551 0...      1   \n",
       "2244533  10990 0 23 74 23 0 10990 1 73928 0 66500 0 665...      1   \n",
       "\n",
       "                                                   mbs_seq  \\\n",
       "PIN                                                          \n",
       "568483   10990 23 725 10990 10990 10990 10993 23 85311 ...   \n",
       "923748   66653 65070 66515 10962 105 56807 10990 23 109...   \n",
       "2035328  66536 74995 66512 66551 66608 66716 66560 7392...   \n",
       "2239386  10991 23 73928 66560 66515 66551 66536 2517 10...   \n",
       "2244533  10990 23 23 10990 73928 66500 66560 66551 23 1...   \n",
       "\n",
       "                                                 times_seq  \n",
       "PIN                                                         \n",
       "568483   0 16 0 0 0 0 0 15 0 0 13 0 0 0 22 0 0 0 0 0 0 ...  \n",
       "923748   0 0 5 1 1 42 0 26 35 0 0 0 9 0 0 0 5 0 0 0 21 ...  \n",
       "2035328  0 0 0 0 0 0 0 9 1 10 9 138 1 3 31 24 63 0 0 0 ...  \n",
       "2239386  0 105 0 0 0 0 4 2 27 1 1 7 0 18 132 0 0 0 1 0 ...  \n",
       "2244533  0 74 0 1 0 0 0 2 0 87 0 1 0 0 0 0 0 2 0 6 0 8 ...  "
      ]
     },
     "execution_count": 6,
     "metadata": {},
     "output_type": "execute_result"
    }
   ],
   "source": [
    "dataset.head()"
   ]
  },
  {
   "cell_type": "code",
   "execution_count": 7,
   "metadata": {},
   "outputs": [],
   "source": [
    "# x = tr_set[0][0]\n",
    "# t = tr_set[0][1].squeeze()"
   ]
  },
  {
   "cell_type": "code",
   "execution_count": 22,
   "metadata": {},
   "outputs": [],
   "source": [
    "# Build an inverse word map\n",
    "word_map = {tokenizer.word_index[k]: k for k in tokenizer.word_index.keys()}\n",
    "word_map[0] = 0"
   ]
  },
  {
   "cell_type": "code",
   "execution_count": 78,
   "metadata": {},
   "outputs": [
    {
     "data": {
      "text/html": [
       "<div>\n",
       "<style scoped>\n",
       "    .dataframe tbody tr th:only-of-type {\n",
       "        vertical-align: middle;\n",
       "    }\n",
       "\n",
       "    .dataframe tbody tr th {\n",
       "        vertical-align: top;\n",
       "    }\n",
       "\n",
       "    .dataframe thead th {\n",
       "        text-align: right;\n",
       "    }\n",
       "</style>\n",
       "<table border=\"1\" class=\"dataframe\">\n",
       "  <thead>\n",
       "    <tr style=\"text-align: right;\">\n",
       "      <th></th>\n",
       "      <th>Mapped_Item_Desc</th>\n",
       "      <th>CATEGORY_DESC</th>\n",
       "    </tr>\n",
       "    <tr>\n",
       "      <th>ITEM</th>\n",
       "      <th></th>\n",
       "      <th></th>\n",
       "    </tr>\n",
       "  </thead>\n",
       "  <tbody>\n",
       "    <tr>\n",
       "      <th>1</th>\n",
       "      <td>Professional attendance by a general practitio...</td>\n",
       "      <td>PROFESSIONAL ATTENDANCES</td>\n",
       "    </tr>\n",
       "    <tr>\n",
       "      <th>2</th>\n",
       "      <td>Professional attendance by a general practitio...</td>\n",
       "      <td>PROFESSIONAL ATTENDANCES</td>\n",
       "    </tr>\n",
       "    <tr>\n",
       "      <th>3</th>\n",
       "      <td>Professional attendance at consulting rooms (n...</td>\n",
       "      <td>PROFESSIONAL ATTENDANCES</td>\n",
       "    </tr>\n",
       "    <tr>\n",
       "      <th>4</th>\n",
       "      <td>Consultation at a place other than consulting ...</td>\n",
       "      <td>PROFESSIONAL ATTENDANCES</td>\n",
       "    </tr>\n",
       "    <tr>\n",
       "      <th>5</th>\n",
       "      <td>Professional attendance at consulting rooms of...</td>\n",
       "      <td>PROFESSIONAL ATTENDANCES</td>\n",
       "    </tr>\n",
       "  </tbody>\n",
       "</table>\n",
       "</div>"
      ],
      "text/plain": [
       "                                       Mapped_Item_Desc  \\\n",
       "ITEM                                                      \n",
       "1     Professional attendance by a general practitio...   \n",
       "2     Professional attendance by a general practitio...   \n",
       "3     Professional attendance at consulting rooms (n...   \n",
       "4     Consultation at a place other than consulting ...   \n",
       "5     Professional attendance at consulting rooms of...   \n",
       "\n",
       "                 CATEGORY_DESC  \n",
       "ITEM                            \n",
       "1     PROFESSIONAL ATTENDANCES  \n",
       "2     PROFESSIONAL ATTENDANCES  \n",
       "3     PROFESSIONAL ATTENDANCES  \n",
       "4     PROFESSIONAL ATTENDANCES  \n",
       "5     PROFESSIONAL ATTENDANCES  "
      ]
     },
     "execution_count": 78,
     "metadata": {},
     "output_type": "execute_result"
    }
   ],
   "source": [
    "item_map = pd.read_csv('../../mbspbs10pc/data/item_map.tsv', sep='\\t', header=0, index_col=0,\n",
    "                      usecols=['ITEM', 'Mapped_Item_Desc', 'CATEGORY_DESC'])\n",
    "item_map.loc[0, :] = ['', '']\n",
    "item_map.head()"
   ]
  },
  {
   "cell_type": "markdown",
   "metadata": {},
   "source": [
    "# Load model"
   ]
  },
  {
   "cell_type": "code",
   "execution_count": 12,
   "metadata": {},
   "outputs": [],
   "source": [
    "model = mbs_model.build_model(mbs_input_shape=(maxlen,),\n",
    "                              timestamp_input_shape=(maxlen, 1),\n",
    "                              vocabulary_size=2774,\n",
    "                              embedding_size=50,\n",
    "                              recurrent_units=32,\n",
    "                              dense_units=32,\n",
    "                              bidirectional=True,\n",
    "                              LSTMLayer=LSTM)\n",
    "\n",
    "model.load_weights('../../tmp/auc_879/output_weights.h5')"
   ]
  },
  {
   "cell_type": "markdown",
   "metadata": {},
   "source": [
    "# Visualize the attention weights"
   ]
  },
  {
   "cell_type": "code",
   "execution_count": 13,
   "metadata": {},
   "outputs": [
    {
     "name": "stdout",
     "output_type": "stream",
     "text": [
      "----- activations -----\n",
      "(4698, 250, 64)\n",
      "----- activations -----\n",
      "(4698, 250, 64)\n"
     ]
    }
   ],
   "source": [
    "D = copy(ts_set)\n",
    "\n",
    "alpha = read_activations.get_activations(model, D[0], print_shape_only=True, layer_name='tsg_attention')[0]\n",
    "omega = read_activations.get_activations(model, D[0], print_shape_only=True, layer_name='contribution')[0]"
   ]
  },
  {
   "cell_type": "code",
   "execution_count": 14,
   "metadata": {},
   "outputs": [
    {
     "name": "stdout",
     "output_type": "stream",
     "text": [
      "(4698, 250)\n"
     ]
    }
   ],
   "source": [
    "W_fc = model.get_layer(name='fc').get_weights()[0]\n",
    "W_out = model.get_layer(name='fc_output').get_weights()[0]\n",
    "W = W_fc.dot(W_out)  # 50 x 1\n",
    "We = model.get_layer(name='mbs_embedding').get_weights()[0]  # 2774 x 50\n",
    "w = We[D[0][0]].dot(W).squeeze()  # 6341 x 445\n",
    "print(w.shape)"
   ]
  },
  {
   "cell_type": "code",
   "execution_count": 15,
   "metadata": {},
   "outputs": [
    {
     "data": {
      "text/plain": [
       "(4698, 250)"
      ]
     },
     "execution_count": 15,
     "metadata": {},
     "output_type": "execute_result"
    }
   ],
   "source": [
    "# avg_alpha = np.mean(alpha, axis=-1).squeeze()\n",
    "avg_omega = np.mean(omega, axis=-1).squeeze()\n",
    "avg_omega.shape"
   ]
  },
  {
   "cell_type": "code",
   "execution_count": 16,
   "metadata": {},
   "outputs": [
    {
     "name": "stdout",
     "output_type": "stream",
     "text": [
      "(4698, 250)\n"
     ]
    }
   ],
   "source": [
    "c = w * avg_omega\n",
    "print(c.shape)"
   ]
  },
  {
   "cell_type": "code",
   "execution_count": 17,
   "metadata": {},
   "outputs": [],
   "source": [
    "neg = np.where(D[1] == 0)[0]\n",
    "pos = np.where(D[1] == 1)[0]"
   ]
  },
  {
   "cell_type": "markdown",
   "metadata": {},
   "source": [
    "Group class attention:"
   ]
  },
  {
   "cell_type": "code",
   "execution_count": 187,
   "metadata": {},
   "outputs": [
    {
     "data": {
      "image/png": "[encoded data removed]",
      "text/plain": [
       "<matplotlib.figure.Figure at 0x7f6696424390>"
      ]
     },
     "metadata": {},
     "output_type": "display_data"
    }
   ],
   "source": [
    "def zero_to_nan(row, p=75):\n",
    "    out = np.array(row)\n",
    "    _idx = np.where(np.abs(row) < np.percentile(np.abs(row), p))[0]\n",
    "    out[_idx] = float('nan')\n",
    "    return out\n",
    "\n",
    "\n",
    "xaxis = np.arange(avg_omega.shape[1])\n",
    "\n",
    "plt.figure(figsize=(14, 8))\n",
    "plt.subplot(2,1,1)\n",
    "for i in pos[:100]:\n",
    "    plt.plot(xaxis, zero_to_nan(c[i, :].T), '.', color='C1')\n",
    "plt.plot(xaxis, np.zeros_like(xaxis), '--', color='k', linewidth=0.5)\n",
    "# plt.xlim([150, 250])\n",
    "plt.ylim([-6, 6])\n",
    "plt.title('positive samples')\n",
    "\n",
    "plt.subplot(2,1,2)\n",
    "for i in neg[:100]:\n",
    "    plt.plot(xaxis, zero_to_nan(c[i, :].T), '.', color='C2')\n",
    "plt.plot(xaxis, np.zeros_like(xaxis), '--', color='k', linewidth=0.5)\n",
    "# plt.xlim([150, 250])\n",
    "plt.ylim([-6, 6])\n",
    "plt.title('negative samples')\n",
    "\n",
    "plt.tight_layout();"
   ]
  },
  {
   "cell_type": "markdown",
   "metadata": {},
   "source": [
    "Single attention:"
   ]
  },
  {
   "cell_type": "code",
   "execution_count": 165,
   "metadata": {},
   "outputs": [
    {
     "data": {
      "image/png": "[encoded data removed]",
      "text/plain": [
       "<matplotlib.figure.Figure at 0x7f66a60b3a90>"
      ]
     },
     "metadata": {},
     "output_type": "display_data"
    }
   ],
   "source": [
    "import seaborn as sns\n",
    "\n",
    "def attention_viz(i):\n",
    "    # Load the mbs sequence from the dataset\n",
    "    tokenized_seq = D[0][0][i]\n",
    "    mbs_seq = np.array([word_map[tk] for tk in tokenized_seq])\n",
    "    \n",
    "    # Retrieve the corresponding attention vector\n",
    "    attention = c[i].squeeze()\n",
    "    \n",
    "    # Filter out small attentions\n",
    "    _idx = np.where(np.abs(attention) >= np.percentile(np.abs(attention), 75))[0]\n",
    "    axis = np.arange(len(_idx))\n",
    "    \n",
    "    plt.bar(axis, attention[_idx])\n",
    "    plt.xticks(axis, mbs_seq[_idx], rotation='vertical', fontsize=15)\n",
    "    plt.yticks(fontsize=15)\n",
    "    plt.title('Subj id: {} [class {}]'.format(i, D[1][i]), fontsize=15)\n",
    "    plt.tight_layout();\n",
    "    \n",
    "\n",
    "plt.figure(dpi=100, figsize=(20, 8))\n",
    "attention_viz(0)"
   ]
  },
  {
   "cell_type": "markdown",
   "metadata": {},
   "source": [
    "## Which MBS items get more attention?"
   ]
  },
  {
   "cell_type": "code",
   "execution_count": 157,
   "metadata": {},
   "outputs": [
    {
     "name": "stderr",
     "output_type": "stream",
     "text": [
      "100%|██████████| 4698/4698 [00:02<00:00, 1836.69it/s]\n"
     ]
    }
   ],
   "source": [
    "from tqdm import tqdm, trange\n",
    "\n",
    "def get_MBS_attention():\n",
    "    # Save absolute value of attention level for each MBS item\n",
    "    attention_dict = {}\n",
    "    for i in trange(D[0][0].shape[0]):\n",
    "        # Load the mbs sequence from the dataset\n",
    "        tokenized_seq = D[0][0][i]\n",
    "        mbs_seq = np.array([word_map[tk] for tk in tokenized_seq])\n",
    "        \n",
    "        # Retrieve the corresponding attention vector\n",
    "        attention = np.abs(c[i].squeeze())\n",
    "        \n",
    "        # Keep nonzero only\n",
    "        nz = np.where(mbs_seq != '0')[0]\n",
    "        mbs_seq, attention = mbs_seq[nz], attention[nz]\n",
    "        \n",
    "        # Keep only the TOP 5%\n",
    "        top_idx = np.where(attention >= np.percentile(attention, 75))[0]\n",
    "        mbs_seq, attention = mbs_seq[top_idx], attention[top_idx]\n",
    "    \n",
    "        # Update the dict\n",
    "        for item, att in zip(mbs_seq, attention):\n",
    "            if item in attention_dict:\n",
    "                attention_dict[item].append(att)\n",
    "            else:\n",
    "                attention_dict[item] = [att]\n",
    "    \n",
    "    return attention_dict\n",
    "\n",
    "attention = get_MBS_attention()"
   ]
  },
  {
   "cell_type": "code",
   "execution_count": 158,
   "metadata": {},
   "outputs": [],
   "source": [
    "avg_attention = {k: np.sum(attention[k]) for k in attention.keys()}\n",
    "dfa = pd.DataFrame(data=avg_attention.values(), index=avg_attention.keys(), columns=['Attention_overall'])\n",
    "dfa['Mapped_Item_Desc'] = [item_map.loc[i, 'Mapped_Item_Desc'] for i in map(int, dfa.index)]\n",
    "dfa['CATEGORY_DESC'] = [item_map.loc[i, 'CATEGORY_DESC'] for i in map(int, dfa.index)]"
   ]
  },
  {
   "cell_type": "code",
   "execution_count": 159,
   "metadata": {},
   "outputs": [
    {
     "data": {
      "text/html": [
       "<div>\n",
       "<style scoped>\n",
       "    .dataframe tbody tr th:only-of-type {\n",
       "        vertical-align: middle;\n",
       "    }\n",
       "\n",
       "    .dataframe tbody tr th {\n",
       "        vertical-align: top;\n",
       "    }\n",
       "\n",
       "    .dataframe thead th {\n",
       "        text-align: right;\n",
       "    }\n",
       "</style>\n",
       "<table border=\"1\" class=\"dataframe\">\n",
       "  <thead>\n",
       "    <tr style=\"text-align: right;\">\n",
       "      <th></th>\n",
       "      <th>Attention_overall</th>\n",
       "      <th>Mapped_Item_Desc</th>\n",
       "      <th>CATEGORY_DESC</th>\n",
       "    </tr>\n",
       "  </thead>\n",
       "  <tbody>\n",
       "    <tr>\n",
       "      <th>23</th>\n",
       "      <td>2147.151123</td>\n",
       "      <td>Professional attendance by a general practitio...</td>\n",
       "      <td>PROFESSIONAL ATTENDANCES</td>\n",
       "    </tr>\n",
       "    <tr>\n",
       "      <th>10990</th>\n",
       "      <td>1720.247681</td>\n",
       "      <td>A medical service to which an item in this tab...</td>\n",
       "      <td>MISCELLANEOUS SERVICES</td>\n",
       "    </tr>\n",
       "    <tr>\n",
       "      <th>10991</th>\n",
       "      <td>1391.549438</td>\n",
       "      <td>A medical service to which an item in this tab...</td>\n",
       "      <td>MISCELLANEOUS SERVICES</td>\n",
       "    </tr>\n",
       "    <tr>\n",
       "      <th>73928</th>\n",
       "      <td>681.794189</td>\n",
       "      <td>Initiation of a patient episode by collection ...</td>\n",
       "      <td>PATHOLOGY SERVICES</td>\n",
       "    </tr>\n",
       "    <tr>\n",
       "      <th>66512</th>\n",
       "      <td>604.222961</td>\n",
       "      <td>5 or more tests described in item 66500</td>\n",
       "      <td>PATHOLOGY SERVICES</td>\n",
       "    </tr>\n",
       "    <tr>\n",
       "      <th>74995</th>\n",
       "      <td>534.763794</td>\n",
       "      <td>A payment when the episode is bulk billed and ...</td>\n",
       "      <td>PATHOLOGY SERVICES</td>\n",
       "    </tr>\n",
       "    <tr>\n",
       "      <th>36</th>\n",
       "      <td>381.273132</td>\n",
       "      <td>Professional attendance by a general practitio...</td>\n",
       "      <td>PROFESSIONAL ATTENDANCES</td>\n",
       "    </tr>\n",
       "    <tr>\n",
       "      <th>66551</th>\n",
       "      <td>303.028381</td>\n",
       "      <td>Quantitation of glycated haemoglobin performed...</td>\n",
       "      <td>PATHOLOGY SERVICES</td>\n",
       "    </tr>\n",
       "    <tr>\n",
       "      <th>65070</th>\n",
       "      <td>274.627258</td>\n",
       "      <td>Erythrocyte count, haematocrit, haemoglobin, c...</td>\n",
       "      <td>PATHOLOGY SERVICES</td>\n",
       "    </tr>\n",
       "    <tr>\n",
       "      <th>66560</th>\n",
       "      <td>260.001587</td>\n",
       "      <td>Microalbumin - quantitation in urine</td>\n",
       "      <td>PATHOLOGY SERVICES</td>\n",
       "    </tr>\n",
       "    <tr>\n",
       "      <th>66608</th>\n",
       "      <td>217.022980</td>\n",
       "      <td>Vitamin D or D fractions - 1 or more tests</td>\n",
       "      <td>PATHOLOGY SERVICES</td>\n",
       "    </tr>\n",
       "    <tr>\n",
       "      <th>105</th>\n",
       "      <td>197.662598</td>\n",
       "      <td>Professional attendance by a specialist in the...</td>\n",
       "      <td>PROFESSIONAL ATTENDANCES</td>\n",
       "    </tr>\n",
       "    <tr>\n",
       "      <th>116</th>\n",
       "      <td>190.807312</td>\n",
       "      <td>Professional attendance at consulting rooms, h...</td>\n",
       "      <td>PROFESSIONAL ATTENDANCES</td>\n",
       "    </tr>\n",
       "    <tr>\n",
       "      <th>104</th>\n",
       "      <td>183.590973</td>\n",
       "      <td>Specialist, referred consultation - surgery or...</td>\n",
       "      <td>PROFESSIONAL ATTENDANCES</td>\n",
       "    </tr>\n",
       "    <tr>\n",
       "      <th>66716</th>\n",
       "      <td>174.064087</td>\n",
       "      <td>TSH quantitation</td>\n",
       "      <td>PATHOLOGY SERVICES</td>\n",
       "    </tr>\n",
       "    <tr>\n",
       "      <th>73938</th>\n",
       "      <td>164.523254</td>\n",
       "      <td>Initiation of a patient episode by collection ...</td>\n",
       "      <td>PATHOLOGY SERVICES</td>\n",
       "    </tr>\n",
       "    <tr>\n",
       "      <th>10962</th>\n",
       "      <td>158.710876</td>\n",
       "      <td>Podiatry health service provided to a person b...</td>\n",
       "      <td>MISCELLANEOUS SERVICES</td>\n",
       "    </tr>\n",
       "    <tr>\n",
       "      <th>74998</th>\n",
       "      <td>144.089294</td>\n",
       "      <td>A payment when the episode is bulk billed and ...</td>\n",
       "      <td>PATHOLOGY SERVICES</td>\n",
       "    </tr>\n",
       "    <tr>\n",
       "      <th>66596</th>\n",
       "      <td>138.760803</td>\n",
       "      <td>Iron studies, consisting of quantitation of: (...</td>\n",
       "      <td>PATHOLOGY SERVICES</td>\n",
       "    </tr>\n",
       "    <tr>\n",
       "      <th>66602</th>\n",
       "      <td>138.056458</td>\n",
       "      <td>Serum B12 and red cell folate and, if required...</td>\n",
       "      <td>PATHOLOGY SERVICES</td>\n",
       "    </tr>\n",
       "    <tr>\n",
       "      <th>732</th>\n",
       "      <td>133.708801</td>\n",
       "      <td>Attendance by a medical practitioner (includin...</td>\n",
       "      <td>PROFESSIONAL ATTENDANCES</td>\n",
       "    </tr>\n",
       "    <tr>\n",
       "      <th>3</th>\n",
       "      <td>117.921585</td>\n",
       "      <td>Professional attendance at consulting rooms (n...</td>\n",
       "      <td>PROFESSIONAL ATTENDANCES</td>\n",
       "    </tr>\n",
       "    <tr>\n",
       "      <th>66536</th>\n",
       "      <td>111.357567</td>\n",
       "      <td>Quantitation of hdl cholesterol</td>\n",
       "      <td>PATHOLOGY SERVICES</td>\n",
       "    </tr>\n",
       "    <tr>\n",
       "      <th>10993</th>\n",
       "      <td>102.701019</td>\n",
       "      <td>Immunisation provided to a person by a practic...</td>\n",
       "      <td>MISCELLANEOUS SERVICES</td>\n",
       "    </tr>\n",
       "    <tr>\n",
       "      <th>65120</th>\n",
       "      <td>102.645508</td>\n",
       "      <td>Prothrombin time (including INR where appropri...</td>\n",
       "      <td>PATHOLOGY SERVICES</td>\n",
       "    </tr>\n",
       "  </tbody>\n",
       "</table>\n",
       "</div>"
      ],
      "text/plain": [
       "       Attention_overall                                   Mapped_Item_Desc  \\\n",
       "23           2147.151123  Professional attendance by a general practitio...   \n",
       "10990        1720.247681  A medical service to which an item in this tab...   \n",
       "10991        1391.549438  A medical service to which an item in this tab...   \n",
       "73928         681.794189  Initiation of a patient episode by collection ...   \n",
       "66512         604.222961            5 or more tests described in item 66500   \n",
       "74995         534.763794  A payment when the episode is bulk billed and ...   \n",
       "36            381.273132  Professional attendance by a general practitio...   \n",
       "66551         303.028381  Quantitation of glycated haemoglobin performed...   \n",
       "65070         274.627258  Erythrocyte count, haematocrit, haemoglobin, c...   \n",
       "66560         260.001587               Microalbumin - quantitation in urine   \n",
       "66608         217.022980         Vitamin D or D fractions - 1 or more tests   \n",
       "105           197.662598  Professional attendance by a specialist in the...   \n",
       "116           190.807312  Professional attendance at consulting rooms, h...   \n",
       "104           183.590973  Specialist, referred consultation - surgery or...   \n",
       "66716         174.064087                                   TSH quantitation   \n",
       "73938         164.523254  Initiation of a patient episode by collection ...   \n",
       "10962         158.710876  Podiatry health service provided to a person b...   \n",
       "74998         144.089294  A payment when the episode is bulk billed and ...   \n",
       "66596         138.760803  Iron studies, consisting of quantitation of: (...   \n",
       "66602         138.056458  Serum B12 and red cell folate and, if required...   \n",
       "732           133.708801  Attendance by a medical practitioner (includin...   \n",
       "3             117.921585  Professional attendance at consulting rooms (n...   \n",
       "66536         111.357567                    Quantitation of hdl cholesterol   \n",
       "10993         102.701019  Immunisation provided to a person by a practic...   \n",
       "65120         102.645508  Prothrombin time (including INR where appropri...   \n",
       "\n",
       "                  CATEGORY_DESC  \n",
       "23     PROFESSIONAL ATTENDANCES  \n",
       "10990    MISCELLANEOUS SERVICES  \n",
       "10991    MISCELLANEOUS SERVICES  \n",
       "73928        PATHOLOGY SERVICES  \n",
       "66512        PATHOLOGY SERVICES  \n",
       "74995        PATHOLOGY SERVICES  \n",
       "36     PROFESSIONAL ATTENDANCES  \n",
       "66551        PATHOLOGY SERVICES  \n",
       "65070        PATHOLOGY SERVICES  \n",
       "66560        PATHOLOGY SERVICES  \n",
       "66608        PATHOLOGY SERVICES  \n",
       "105    PROFESSIONAL ATTENDANCES  \n",
       "116    PROFESSIONAL ATTENDANCES  \n",
       "104    PROFESSIONAL ATTENDANCES  \n",
       "66716        PATHOLOGY SERVICES  \n",
       "73938        PATHOLOGY SERVICES  \n",
       "10962    MISCELLANEOUS SERVICES  \n",
       "74998        PATHOLOGY SERVICES  \n",
       "66596        PATHOLOGY SERVICES  \n",
       "66602        PATHOLOGY SERVICES  \n",
       "732    PROFESSIONAL ATTENDANCES  \n",
       "3      PROFESSIONAL ATTENDANCES  \n",
       "66536        PATHOLOGY SERVICES  \n",
       "10993    MISCELLANEOUS SERVICES  \n",
       "65120        PATHOLOGY SERVICES  "
      ]
     },
     "execution_count": 159,
     "metadata": {},
     "output_type": "execute_result"
    }
   ],
   "source": [
    "dfa.nlargest(25, columns='Attention_overall')"
   ]
  },
  {
   "cell_type": "markdown",
   "metadata": {},
   "source": [
    "# Embedding viz"
   ]
  },
  {
   "cell_type": "code",
   "execution_count": 188,
   "metadata": {},
   "outputs": [
    {
     "name": "stdout",
     "output_type": "stream",
     "text": [
      "----- activations -----\n",
      "(4698, 50)\n"
     ]
    }
   ],
   "source": [
    "X = read_activations.get_activations(model, D[0], print_shape_only=True, layer_name='pooling')[0]"
   ]
  },
  {
   "cell_type": "code",
   "execution_count": 189,
   "metadata": {},
   "outputs": [],
   "source": [
    "from sklearn.decomposition import PCA\n",
    "from mpl_toolkits.mplot3d import Axes3D\n",
    "\n",
    "X_r = PCA(n_components=3).fit_transform(X)"
   ]
  },
  {
   "cell_type": "code",
   "execution_count": 191,
   "metadata": {},
   "outputs": [
    {
     "data": {
      "image/png": "[encoded data removed]",
      "text/plain": [
       "<matplotlib.figure.Figure at 0x7f68b4a226d0>"
      ]
     },
     "metadata": {},
     "output_type": "display_data"
    }
   ],
   "source": [
    "%matplotlib inline\n",
    "MAX = 250\n",
    "\n",
    "fig = plt.figure()\n",
    "ax = fig.add_subplot(111, projection='3d')\n",
    "\n",
    "ax.scatter(X_r[pos[:MAX], 0], X_r[pos[:MAX], 1], X_r[pos[:MAX], 2], c='C0', label='pos')\n",
    "ax.scatter(X_r[neg[:MAX], 0], X_r[neg[:MAX], 1], X_r[pos[:MAX], 2], c='C1', label='neg')\n",
    "plt.legend();"
   ]
  },
  {
   "cell_type": "code",
   "execution_count": null,
   "metadata": {},
   "outputs": [],
   "source": []
  }
 ],
 "metadata": {
  "kernelspec": {
   "display_name": "Python 2",
   "language": "python",
   "name": "python2"
  },
  "language_info": {
   "codemirror_mode": {
    "name": "ipython",
    "version": 2
   },
   "file_extension": ".py",
   "mimetype": "text/x-python",
   "name": "python",
   "nbconvert_exporter": "python",
   "pygments_lexer": "ipython2",
   "version": "2.7.14"
  }
 },
 "nbformat": 4,
 "nbformat_minor": 2
}
