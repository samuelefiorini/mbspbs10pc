{
 "cells": [
  {
   "cell_type": "code",
   "execution_count": 1,
   "metadata": {},
   "outputs": [],
   "source": [
    "# import os\n",
    "# os.environ[\"CUDA_VISIBLE_DEVICES\"] = \"1\""
   ]
  },
  {
   "cell_type": "code",
   "execution_count": 3,
   "metadata": {},
   "outputs": [],
   "source": [
    "import numpy as np\n",
    "import matplotlib.pyplot as plt\n",
    "%matplotlib inline\n",
    "\n",
    "from keras.layers import LSTM\n",
    "from keras import optimizers as opt\n",
    "\n",
    "import mbspbs10pc.model as mbs_model\n",
    "from mbspbs10pc import read_activations, utils\n",
    "reload(mbs_model)\n",
    "reload(read_activations)\n",
    "reload(utils);"
   ]
  },
  {
   "cell_type": "markdown",
   "metadata": {},
   "source": [
    "# Load data"
   ]
  },
  {
   "cell_type": "code",
   "execution_count": null,
   "metadata": {},
   "outputs": [],
   "source": [
    "labelsfile = '../../tmp/1_METONLY_vs_METX/matched_CEM_table.csv'\n",
    "datafile = '../../tmp/item_days_raw_data_.pkl'\n",
    "dataset = utils.load_data_labels(datafile, labelsfile)\n",
    "padded_mbs_seq, padded_timestamp_seq, _ = utils.tokenize(dataset)\n",
    "maxlen = padded_mbs_seq.shape[1]\n",
    "\n",
    "# Split in training, validation, test sets\n",
    "tr_set, v_set, ts_set = utils.train_validation_test_split(\n",
    "    [padded_mbs_seq, padded_timestamp_seq], dataset['Class'],\n",
    "    test_size=0.4, validation_size=0.1,\n",
    "    verbose=False)"
   ]
  },
  {
   "cell_type": "code",
   "execution_count": null,
   "metadata": {},
   "outputs": [],
   "source": [
    "# x = tr_set[0][0]\n",
    "# t = tr_set[0][1].squeeze()"
   ]
  },
  {
   "cell_type": "markdown",
   "metadata": {},
   "source": [
    "# Load model"
   ]
  },
  {
   "cell_type": "code",
   "execution_count": null,
   "metadata": {},
   "outputs": [],
   "source": [
    "model = mbs_model.build_model(mbs_input_shape=(maxlen,),\n",
    "                              timestamp_input_shape=(maxlen, 1),\n",
    "                              vocabulary_size=2774,\n",
    "                              embedding_size=50,\n",
    "                              recurrent_units=64,\n",
    "                              dense_units=64,\n",
    "                              bidirectional=True,\n",
    "                              LSTMLayer=LSTM)\n",
    "\n",
    "model.load_weights('../../tmp/auc_863/output_weights.h5')"
   ]
  },
  {
   "cell_type": "markdown",
   "metadata": {},
   "source": [
    "# Visualize the attention weights"
   ]
  },
  {
   "cell_type": "code",
   "execution_count": null,
   "metadata": {},
   "outputs": [],
   "source": [
    "a = read_activations.get_activations(model, tr_set[0], print_shape_only=True, layer_name='tsg_attention')[0]\n",
    "c = read_activations.get_activations(model, tr_set[0], print_shape_only=True, layer_name='contribution')[0]"
   ]
  },
  {
   "cell_type": "code",
   "execution_count": null,
   "metadata": {},
   "outputs": [],
   "source": [
    "avg_a = np.mean(a, axis=-1).squeeze()\n",
    "avg_c = np.mean(c, axis=-1).squeeze()\n",
    "print(avg_a.shape)\n",
    "print(avg_a.shape)\n"
   ]
  },
  {
   "cell_type": "code",
   "execution_count": null,
   "metadata": {},
   "outputs": [],
   "source": [
    "xaxis = np.arange(avg_a.shape[1])\n",
    "\n",
    "plt.figure(figsize=(18,4))\n",
    "for i in np.random.randint(0, avg_a.shape[0], size=10):\n",
    "    plt.plot(xaxis, avg_a[i, :], '-')\n",
    "#     plt.plot(xaxis, avg_c[i, :], '-')\n",
    "plt.xlim([0, 445])\n",
    "plt.legend(loc='best')"
   ]
  },
  {
   "cell_type": "code",
   "execution_count": null,
   "metadata": {},
   "outputs": [],
   "source": []
  }
 ],
 "metadata": {
  "kernelspec": {
   "display_name": "Python 2",
   "language": "python",
   "name": "python2"
  },
  "language_info": {
   "codemirror_mode": {
    "name": "ipython",
    "version": 2
   },
   "file_extension": ".py",
   "mimetype": "text/x-python",
   "name": "python",
   "nbconvert_exporter": "python",
   "pygments_lexer": "ipython2",
   "version": "2.7.14"
  }
 },
 "nbformat": 4,
 "nbformat_minor": 2
}
