{
 "cells": [
  {
   "cell_type": "code",
   "execution_count": null,
   "metadata": {},
   "outputs": [],
   "source": [
    "import datetime\n",
    "from tqdm import tqdm\n",
    "now = datetime.datetime.now()\n",
    "print now.year, now.month, now.day, now.hour, now.minute, now.second"
   ]
  },
  {
   "cell_type": "code",
   "execution_count": null,
   "metadata": {},
   "outputs": [],
   "source": [
    "from sklearn.datasets.base import Bunch"
   ]
  },
  {
   "cell_type": "code",
   "execution_count": null,
   "metadata": {},
   "outputs": [],
   "source": [
    "dd = {123: Bunch(seq=[1,1,4,5,6], info=['M', 52]),\n",
    "      456: Bunch(seq=[2,1,4,5,6], info=['M', 52]),\n",
    "      678: Bunch(seq=[3,1,4,5,6], info=['M', 52]),\n",
    "      999: Bunch(seq=[4,1,4,5,6], info=['M', 52]),}"
   ]
  },
  {
   "cell_type": "code",
   "execution_count": null,
   "metadata": {},
   "outputs": [],
   "source": [
    "import multiprocessing as mp\n",
    "import numpy as np\n",
    "from multiprocessing import Manager\n",
    "\n",
    "def f(i, shared_arg=None):\n",
    "    return 2*np.array(shared_arg[i].seq)\n",
    "\n",
    "manager = Manager()\n",
    "shared_dict = manager.dict(dd)\n",
    "pool = mp.Pool(4)\n",
    "\n",
    "results = [pool.apply_async(f, [i, shared_dict]) for i in [123, 456, 678, 999]]\n",
    "results = [p.get() for p in results]\n",
    "results"
   ]
  },
  {
   "cell_type": "code",
   "execution_count": null,
   "metadata": {},
   "outputs": [],
   "source": [
    "import pandas as pd\n",
    "import numpy as np\n",
    "from __future__ import division"
   ]
  },
  {
   "cell_type": "code",
   "execution_count": null,
   "metadata": {},
   "outputs": [],
   "source": [
    "df = pd.read_csv('../tmp/dump_class_0.csv', header=0)\n",
    "df.head()"
   ]
  },
  {
   "cell_type": "code",
   "execution_count": null,
   "metadata": {},
   "outputs": [],
   "source": [
    "n_jobs = 32\n",
    "\n",
    "splits = np.array_split(df.values, n_jobs)"
   ]
  },
  {
   "cell_type": "code",
   "execution_count": null,
   "metadata": {},
   "outputs": [],
   "source": [
    "ss[0]"
   ]
  },
  {
   "cell_type": "code",
   "execution_count": null,
   "metadata": {},
   "outputs": [],
   "source": [
    "df.shape"
   ]
  },
  {
   "cell_type": "code",
   "execution_count": null,
   "metadata": {},
   "outputs": [],
   "source": [
    "import cPickle as pkl\n",
    "import pandas as pd\n",
    "# import dask.dataframe as dd\n",
    "# pp = pkl.load(open('../tmp/dump_class_0__raw_data_.pkl', 'rb'))"
   ]
  },
  {
   "cell_type": "code",
   "execution_count": null,
   "metadata": {},
   "outputs": [],
   "source": [
    "import os\n",
    "mbs_files = filter(lambda x: x.startswith('MBS'), os.listdir('../../../data/'))\n",
    "print(mbs_files)"
   ]
  },
  {
   "cell_type": "code",
   "execution_count": null,
   "metadata": {},
   "outputs": [],
   "source": [
    "# ___MBS_FILES_DICT__ = dict()\n",
    "for mbs in mbs_files:\n",
    "    mbs = os.path.join('..','..','..','data', mbs)\n",
    "    df = pd.read_csv(mbs, header=0, usecols=['PIN', 'ITEM', 'DOS'])\n",
    "#     print(df.shape)\n",
    "#     dd = dd.loc[~dd['ITEM'].isin(pregnancy_items), :]\n",
    "#     print(dd.shape)\n",
    "#     ___MBS_FILES_DICT__[mbs] = dd\n",
    "    print('---')\n",
    "    break"
   ]
  },
  {
   "cell_type": "code",
   "execution_count": null,
   "metadata": {},
   "outputs": [],
   "source": [
    "df.head()"
   ]
  },
  {
   "cell_type": "code",
   "execution_count": null,
   "metadata": {},
   "outputs": [],
   "source": [
    "df.loc[:, 'DOS'] = pd.to_datetime(df['DOS'], format='%d%b%Y') "
   ]
  },
  {
   "cell_type": "code",
   "execution_count": null,
   "metadata": {},
   "outputs": [],
   "source": [
    "df.head()"
   ]
  },
  {
   "cell_type": "code",
   "execution_count": null,
   "metadata": {},
   "outputs": [],
   "source": [
    "df[df['PIN'] == 1779689312]['DOS'].idxmin()"
   ]
  },
  {
   "cell_type": "code",
   "execution_count": null,
   "metadata": {},
   "outputs": [],
   "source": [
    "df[['PIN', 'DOS']]"
   ]
  },
  {
   "cell_type": "code",
   "execution_count": null,
   "metadata": {},
   "outputs": [],
   "source": []
  },
  {
   "cell_type": "code",
   "execution_count": null,
   "metadata": {},
   "outputs": [],
   "source": [
    "a = pd.DatetimeIndex(asd.values)\n",
    "a.year[0]"
   ]
  },
  {
   "cell_type": "code",
   "execution_count": null,
   "metadata": {},
   "outputs": [],
   "source": [
    "np.mean(a.year)"
   ]
  },
  {
   "cell_type": "code",
   "execution_count": null,
   "metadata": {},
   "outputs": [],
   "source": [
    "aa = (0, 1)"
   ]
  },
  {
   "cell_type": "code",
   "execution_count": null,
   "metadata": {},
   "outputs": [],
   "source": [
    "aa[0]"
   ]
  },
  {
   "cell_type": "code",
   "execution_count": null,
   "metadata": {},
   "outputs": [],
   "source": []
  },
  {
   "cell_type": "code",
   "execution_count": null,
   "metadata": {
    "scrolled": true
   },
   "outputs": [],
   "source": [
    "_dd = pd.read_csv(os.path.join('..', 'mbspbs10pc', 'data', 'drugs_used_in_diabetes.csv'),\n",
    "                     header=0)\n",
    "# Fix 6-digit notation\n",
    "dd = set()  # dd should be a set for performance reasons\n",
    "for item in _dd.values.ravel():\n",
    "    if len(item) < 6:\n",
    "        dd.add(str(0)+item)\n",
    "    else:\n",
    "        dd.add(item)"
   ]
  },
  {
   "cell_type": "code",
   "execution_count": null,
   "metadata": {},
   "outputs": [],
   "source": [
    "ddd = ___MBS_FILES_DICT__[k]\n",
    "ddd = ddd.set_index('PIN')\n",
    "ddd.head()"
   ]
  },
  {
   "cell_type": "code",
   "execution_count": null,
   "metadata": {},
   "outputs": [],
   "source": [
    "ddd.loc[1779689312, ['DOS', 'ITEM']]"
   ]
  },
  {
   "cell_type": "code",
   "execution_count": null,
   "metadata": {},
   "outputs": [],
   "source": [
    "tmp = pd.read_csv('../../../data/PBS_SAMPLE_10PCT_2009.csv', header=0, nrows=1000, usecols=['PTNT_ID', 'SPPLY_DT'])\n",
    "tmp.loc[:, 'SPPLY_DT'] = pd.to_datetime(tmp['SPPLY_DT'], format='%d%b%Y')"
   ]
  },
  {
   "cell_type": "code",
   "execution_count": null,
   "metadata": {},
   "outputs": [],
   "source": [
    "tmp['SPPLY_DT'].max()"
   ]
  },
  {
   "cell_type": "code",
   "execution_count": null,
   "metadata": {},
   "outputs": [],
   "source": [
    "tmp['PTNT_ID'].values[-1]"
   ]
  },
  {
   "cell_type": "code",
   "execution_count": null,
   "metadata": {},
   "outputs": [],
   "source": []
  },
  {
   "cell_type": "code",
   "execution_count": null,
   "metadata": {},
   "outputs": [],
   "source": [
    "os.path.split(os.path.join('..', '..', 'asd', 'asd'))"
   ]
  },
  {
   "cell_type": "code",
   "execution_count": null,
   "metadata": {},
   "outputs": [],
   "source": [
    "k = mbs\n",
    "first_dd = np.where(___MBS_FILES_DICT__[k]['ITEM'].isin(dd))[0][0]\n",
    "small_mbs_dd[k].iloc[:first_dd,:]"
   ]
  },
  {
   "cell_type": "code",
   "execution_count": null,
   "metadata": {},
   "outputs": [],
   "source": [
    "np.where(___MBS_FILES_DICT__[k]['ITEM'].isin(dd))"
   ]
  },
  {
   "cell_type": "code",
   "execution_count": null,
   "metadata": {},
   "outputs": [],
   "source": [
    "pregnancy_items = set(pd.read_csv(os.path.join('../mbspbs10pc/data', 'pregnancy_items.csv'),\n",
    "                                  header=0, usecols=['ITEM']).values.ravel())"
   ]
  },
  {
   "cell_type": "code",
   "execution_count": null,
   "metadata": {},
   "outputs": [],
   "source": [
    "pregnancy_items"
   ]
  },
  {
   "cell_type": "code",
   "execution_count": null,
   "metadata": {},
   "outputs": [],
   "source": [
    "np.where(dd['ITEM'].isin(pregnancy_items))"
   ]
  },
  {
   "cell_type": "code",
   "execution_count": null,
   "metadata": {},
   "outputs": [],
   "source": []
  },
  {
   "cell_type": "code",
   "execution_count": null,
   "metadata": {},
   "outputs": [],
   "source": []
  },
  {
   "cell_type": "code",
   "execution_count": null,
   "metadata": {},
   "outputs": [],
   "source": []
  },
  {
   "cell_type": "code",
   "execution_count": null,
   "metadata": {},
   "outputs": [],
   "source": [
    "imap = pd.read_csv('../data/imap.tsv', sep='\\t', header=0,\n",
    "                   usecols=['ITEM', 'BTOS'])"
   ]
  },
  {
   "cell_type": "code",
   "execution_count": null,
   "metadata": {},
   "outputs": [],
   "source": [
    "# dd.join(imap, on='ITEM', how='left')\n",
    "cc = pd.merge(dd, imap, how='left', on='ITEM')\n",
    "cc.head()"
   ]
  },
  {
   "cell_type": "code",
   "execution_count": null,
   "metadata": {},
   "outputs": [],
   "source": [
    "dd.shape"
   ]
  },
  {
   "cell_type": "code",
   "execution_count": null,
   "metadata": {},
   "outputs": [],
   "source": [
    "dd.columns"
   ]
  },
  {
   "cell_type": "code",
   "execution_count": null,
   "metadata": {},
   "outputs": [],
   "source": [
    "mbs_dd = ___MBS_FILES_DICT__"
   ]
  },
  {
   "cell_type": "code",
   "execution_count": null,
   "metadata": {},
   "outputs": [],
   "source": [
    "raw_data = dict()"
   ]
  },
  {
   "cell_type": "code",
   "execution_count": null,
   "metadata": {},
   "outputs": [],
   "source": [
    "split = set(splits[0].ravel())"
   ]
  },
  {
   "cell_type": "code",
   "execution_count": null,
   "metadata": {},
   "outputs": [],
   "source": [
    "import time"
   ]
  },
  {
   "cell_type": "code",
   "execution_count": null,
   "metadata": {},
   "outputs": [],
   "source": [
    "import warnings\n",
    "warnings.filterwarnings('ignore')"
   ]
  },
  {
   "cell_type": "code",
   "execution_count": null,
   "metadata": {},
   "outputs": [],
   "source": [
    "t1 = time.time()\n",
    "raw_data = dict()\n",
    "\n",
    "# Pre-filter: keep only the elements of mbs_dd that are in the current split\n",
    "# this helps in reducing the time of the next step\n",
    "small_mbs_dd = dict()\n",
    "for k in tqdm(sorted(mbs_dd.keys())):\n",
    "    # keep only a subset of the full MBS data\n",
    "    small_mbs_dd[k] = mbs_dd[k].loc[mbs_dd[k]['PIN'].isin(split)]\n",
    "    # change format to the right datetime format (this is gonna be useful later)\n",
    "    small_mbs_dd[k].loc[:,'DOS'] = pd.to_datetime(small_mbs_dd[k]['DOS'], format='%d%b%Y')    \n",
    "    # and sort by date\n",
    "    small_mbs_dd[k].sort_values(by='DOS', inplace=True)\n",
    "\n",
    "# Now track down each patient in the reduced MBS files\n",
    "for s in tqdm(split):\n",
    "    tmp = pd.DataFrame(columns=['PIN', 'DOS', 'SPR_RSP'])\n",
    "    for k in sorted(mbs_dd.keys()):\n",
    "        tmp = pd.concat((tmp, small_mbs_dd[k].loc[small_mbs_dd[k]['PIN'] == s]))\n",
    "        \n",
    "    # evaluate the first order difference and convert each entry in days\n",
    "    timedeltas = map(lambda x: pd.Timedelta(x).days, tmp['DOS'].values[1:] - tmp['DOS'].values[:-1])\n",
    "    # then build the sequence as ['exam', idle-days, 'exam', idle-days, ...]\n",
    "    raw_data[s] = flatten([[str(spr_rsp), dt] for spr_rsp, dt in zip(tmp['SPR_RSP'].values, timedeltas)])\n",
    "    raw_data[s].append(str(tmp['SPR_RSP'].values[-1]))\n",
    "    \n",
    "t2 = time.time()\n",
    "print(t2-t1)"
   ]
  },
  {
   "cell_type": "code",
   "execution_count": null,
   "metadata": {},
   "outputs": [],
   "source": [
    "import multiprocessing as mp"
   ]
  },
  {
   "cell_type": "code",
   "execution_count": null,
   "metadata": {},
   "outputs": [],
   "source": [
    "mp.pool.ThreadPool()"
   ]
  },
  {
   "cell_type": "code",
   "execution_count": null,
   "metadata": {},
   "outputs": [],
   "source": [
    "!hostname"
   ]
  },
  {
   "cell_type": "code",
   "execution_count": null,
   "metadata": {},
   "outputs": [],
   "source": [
    "os.name"
   ]
  },
  {
   "cell_type": "code",
   "execution_count": null,
   "metadata": {},
   "outputs": [],
   "source": [
    "dd = pkl.load(open('../tmp/dump_class_0__raw_data_.pkl','rb'))"
   ]
  },
  {
   "cell_type": "code",
   "execution_count": null,
   "metadata": {},
   "outputs": [],
   "source": [
    "raw_data = dd['raw_data']"
   ]
  },
  {
   "cell_type": "code",
   "execution_count": null,
   "metadata": {},
   "outputs": [],
   "source": [
    "from collections import Counter\n",
    "Counter(raw_data[9061269504][::2])"
   ]
  },
  {
   "cell_type": "code",
   "execution_count": null,
   "metadata": {},
   "outputs": [],
   "source": [
    "plt.stem(raw_data[9061269504][1::2])"
   ]
  },
  {
   "cell_type": "code",
   "execution_count": null,
   "metadata": {},
   "outputs": [],
   "source": [
    "import matplotlib.pyplot as plt\n",
    "%matplotlib inline"
   ]
  },
  {
   "cell_type": "code",
   "execution_count": null,
   "metadata": {},
   "outputs": [],
   "source": [
    "np.arange(1, 11)[1::2]"
   ]
  },
  {
   "cell_type": "code",
   "execution_count": 34,
   "metadata": {},
   "outputs": [],
   "source": [
    "dd = pd.read_csv('../../../data/MBS_SAMPLE_10PCT_2008.csv', header=0)\n",
    "# dd['DOS'] = pd.to_datetime(dd['DOS'], format='%d%b%Y')\n",
    "# dd.sort_values(by='DOS', inplace=True)\n",
    "# dd"
   ]
  },
  {
   "cell_type": "code",
   "execution_count": 35,
   "metadata": {},
   "outputs": [
    {
     "name": "stdout",
     "output_type": "stream",
     "text": [
      "CPU times: user 112 ms, sys: 52 ms, total: 164 ms\n",
      "Wall time: 162 ms\n"
     ]
    }
   ],
   "source": [
    "%%time\n",
    "r1 = dd.loc[dd['PIN'] == 3990912150, :]"
   ]
  },
  {
   "cell_type": "code",
   "execution_count": 36,
   "metadata": {},
   "outputs": [
    {
     "name": "stdout",
     "output_type": "stream",
     "text": [
      "CPU times: user 436 ms, sys: 132 ms, total: 568 ms\n",
      "Wall time: 270 ms\n"
     ]
    }
   ],
   "source": [
    "%%time\n",
    "r2 = dd.query('PIN == 3990912150')"
   ]
  },
  {
   "cell_type": "code",
   "execution_count": 33,
   "metadata": {},
   "outputs": [
    {
     "data": {
      "text/html": [
       "<div>\n",
       "<style scoped>\n",
       "    .dataframe tbody tr th:only-of-type {\n",
       "        vertical-align: middle;\n",
       "    }\n",
       "\n",
       "    .dataframe tbody tr th {\n",
       "        vertical-align: top;\n",
       "    }\n",
       "\n",
       "    .dataframe thead th {\n",
       "        text-align: right;\n",
       "    }\n",
       "</style>\n",
       "<table border=\"1\" class=\"dataframe\">\n",
       "  <thead>\n",
       "    <tr style=\"text-align: right;\">\n",
       "      <th></th>\n",
       "      <th>PIN</th>\n",
       "      <th>DOS</th>\n",
       "      <th>ITEM</th>\n",
       "    </tr>\n",
       "  </thead>\n",
       "  <tbody>\n",
       "    <tr>\n",
       "      <th>6</th>\n",
       "      <td>3990912150</td>\n",
       "      <td>24APR2008</td>\n",
       "      <td>105</td>\n",
       "    </tr>\n",
       "    <tr>\n",
       "      <th>366</th>\n",
       "      <td>3990912150</td>\n",
       "      <td>19APR2008</td>\n",
       "      <td>63331</td>\n",
       "    </tr>\n",
       "    <tr>\n",
       "      <th>726</th>\n",
       "      <td>3990912150</td>\n",
       "      <td>04JUN2008</td>\n",
       "      <td>10900</td>\n",
       "    </tr>\n",
       "    <tr>\n",
       "      <th>1086</th>\n",
       "      <td>3990912150</td>\n",
       "      <td>20MAY2008</td>\n",
       "      <td>55848</td>\n",
       "    </tr>\n",
       "    <tr>\n",
       "      <th>1446</th>\n",
       "      <td>3990912150</td>\n",
       "      <td>09JUN2008</td>\n",
       "      <td>10991</td>\n",
       "    </tr>\n",
       "    <tr>\n",
       "      <th>1806</th>\n",
       "      <td>3990912150</td>\n",
       "      <td>05DEC2008</td>\n",
       "      <td>73939</td>\n",
       "    </tr>\n",
       "    <tr>\n",
       "      <th>2166</th>\n",
       "      <td>3990912150</td>\n",
       "      <td>09JUN2008</td>\n",
       "      <td>23</td>\n",
       "    </tr>\n",
       "    <tr>\n",
       "      <th>2526</th>\n",
       "      <td>3990912150</td>\n",
       "      <td>05DEC2008</td>\n",
       "      <td>66512</td>\n",
       "    </tr>\n",
       "    <tr>\n",
       "      <th>2886</th>\n",
       "      <td>3990912150</td>\n",
       "      <td>05DEC2008</td>\n",
       "      <td>66656</td>\n",
       "    </tr>\n",
       "    <tr>\n",
       "      <th>3246</th>\n",
       "      <td>3990912150</td>\n",
       "      <td>05DEC2008</td>\n",
       "      <td>66716</td>\n",
       "    </tr>\n",
       "    <tr>\n",
       "      <th>3606</th>\n",
       "      <td>3990912150</td>\n",
       "      <td>20MAY2008</td>\n",
       "      <td>50124</td>\n",
       "    </tr>\n",
       "    <tr>\n",
       "      <th>3966</th>\n",
       "      <td>3990912150</td>\n",
       "      <td>22MAY2008</td>\n",
       "      <td>55848</td>\n",
       "    </tr>\n",
       "    <tr>\n",
       "      <th>4326</th>\n",
       "      <td>3990912150</td>\n",
       "      <td>20MAR2008</td>\n",
       "      <td>10991</td>\n",
       "    </tr>\n",
       "    <tr>\n",
       "      <th>4686</th>\n",
       "      <td>3990912150</td>\n",
       "      <td>08APR2008</td>\n",
       "      <td>104</td>\n",
       "    </tr>\n",
       "    <tr>\n",
       "      <th>5046</th>\n",
       "      <td>3990912150</td>\n",
       "      <td>04DEC2008</td>\n",
       "      <td>10991</td>\n",
       "    </tr>\n",
       "    <tr>\n",
       "      <th>5406</th>\n",
       "      <td>3990912150</td>\n",
       "      <td>30JUN2008</td>\n",
       "      <td>105</td>\n",
       "    </tr>\n",
       "    <tr>\n",
       "      <th>5766</th>\n",
       "      <td>3990912150</td>\n",
       "      <td>20MAR2008</td>\n",
       "      <td>36</td>\n",
       "    </tr>\n",
       "    <tr>\n",
       "      <th>6126</th>\n",
       "      <td>3990912150</td>\n",
       "      <td>22MAY2008</td>\n",
       "      <td>50124</td>\n",
       "    </tr>\n",
       "    <tr>\n",
       "      <th>6486</th>\n",
       "      <td>3990912150</td>\n",
       "      <td>04DEC2008</td>\n",
       "      <td>23</td>\n",
       "    </tr>\n",
       "  </tbody>\n",
       "</table>\n",
       "</div>"
      ],
      "text/plain": [
       "             PIN        DOS   ITEM\n",
       "6     3990912150  24APR2008    105\n",
       "366   3990912150  19APR2008  63331\n",
       "726   3990912150  04JUN2008  10900\n",
       "1086  3990912150  20MAY2008  55848\n",
       "1446  3990912150  09JUN2008  10991\n",
       "1806  3990912150  05DEC2008  73939\n",
       "2166  3990912150  09JUN2008     23\n",
       "2526  3990912150  05DEC2008  66512\n",
       "2886  3990912150  05DEC2008  66656\n",
       "3246  3990912150  05DEC2008  66716\n",
       "3606  3990912150  20MAY2008  50124\n",
       "3966  3990912150  22MAY2008  55848\n",
       "4326  3990912150  20MAR2008  10991\n",
       "4686  3990912150  08APR2008    104\n",
       "5046  3990912150  04DEC2008  10991\n",
       "5406  3990912150  30JUN2008    105\n",
       "5766  3990912150  20MAR2008     36\n",
       "6126  3990912150  22MAY2008  50124\n",
       "6486  3990912150  04DEC2008     23"
      ]
     },
     "execution_count": 33,
     "metadata": {},
     "output_type": "execute_result"
    }
   ],
   "source": [
    "r2"
   ]
  },
  {
   "cell_type": "code",
   "execution_count": null,
   "metadata": {},
   "outputs": [],
   "source": [
    "date = dd['DOS'].values[3]\n",
    "date"
   ]
  },
  {
   "cell_type": "code",
   "execution_count": null,
   "metadata": {},
   "outputs": [],
   "source": [
    "dd[dd['DOS'] > date]"
   ]
  },
  {
   "cell_type": "code",
   "execution_count": null,
   "metadata": {},
   "outputs": [],
   "source": [
    "dd.values[0]"
   ]
  },
  {
   "cell_type": "code",
   "execution_count": null,
   "metadata": {},
   "outputs": [],
   "source": []
  },
  {
   "cell_type": "code",
   "execution_count": null,
   "metadata": {},
   "outputs": [],
   "source": [
    "import pandas as pd\n",
    "\n",
    "df = pd.DataFrame(data=[[1,2,None],[4,5,None], [4, 0, None]], columns=['a','b','c'])\n",
    "df"
   ]
  },
  {
   "cell_type": "code",
   "execution_count": null,
   "metadata": {},
   "outputs": [],
   "source": [
    "df['c'].values[0] is None"
   ]
  },
  {
   "cell_type": "code",
   "execution_count": null,
   "metadata": {},
   "outputs": [],
   "source": [
    "df[df.columns.drop('c')]"
   ]
  },
  {
   "cell_type": "code",
   "execution_count": null,
   "metadata": {},
   "outputs": [],
   "source": []
  },
  {
   "cell_type": "code",
   "execution_count": null,
   "metadata": {},
   "outputs": [],
   "source": []
  },
  {
   "cell_type": "code",
   "execution_count": 5,
   "metadata": {},
   "outputs": [
    {
     "name": "stdout",
     "output_type": "stream",
     "text": [
      "   A  B\n",
      "0  0  1\n",
      "1  2  3\n",
      "2  4  5\n",
      "3  6  7\n",
      "4  8  9\n"
     ]
    }
   ],
   "source": [
    "import numpy as np\n",
    "import pandas as pd\n",
    "\n",
    "filename = '/tmp/test.h5'\n",
    "\n",
    "df = pd.DataFrame(np.arange(10).reshape((5,2)), columns=['A', 'B'])\n",
    "print(df)\n",
    "#    A  B\n",
    "# 0  0  1\n",
    "# 1  2  3\n",
    "# 2  4  5\n",
    "# 3  6  7\n",
    "# 4  8  9\n",
    "\n",
    "# Save to HDF5\n",
    "df.to_hdf(filename, 'data', mode='w', format='fixed')\n",
    "# del df    # allow df to be garbage collected\n",
    "\n",
    "# # Append more data\n",
    "# df2 = pd.DataFrame(np.arange(10).reshape((5,2))*10, columns=['A', 'B'])\n",
    "# df2.to_hdf(filename, 'data', append=True)\n",
    "\n",
    "# print(pd.read_hdf(filename, 'data'))"
   ]
  },
  {
   "cell_type": "code",
   "execution_count": 6,
   "metadata": {},
   "outputs": [
    {
     "data": {
      "text/html": [
       "<div>\n",
       "<style scoped>\n",
       "    .dataframe tbody tr th:only-of-type {\n",
       "        vertical-align: middle;\n",
       "    }\n",
       "\n",
       "    .dataframe tbody tr th {\n",
       "        vertical-align: top;\n",
       "    }\n",
       "\n",
       "    .dataframe thead th {\n",
       "        text-align: right;\n",
       "    }\n",
       "</style>\n",
       "<table border=\"1\" class=\"dataframe\">\n",
       "  <thead>\n",
       "    <tr style=\"text-align: right;\">\n",
       "      <th></th>\n",
       "      <th>A</th>\n",
       "      <th>B</th>\n",
       "    </tr>\n",
       "  </thead>\n",
       "  <tbody>\n",
       "    <tr>\n",
       "      <th>0</th>\n",
       "      <td>0</td>\n",
       "      <td>1</td>\n",
       "    </tr>\n",
       "    <tr>\n",
       "      <th>1</th>\n",
       "      <td>2</td>\n",
       "      <td>3</td>\n",
       "    </tr>\n",
       "    <tr>\n",
       "      <th>2</th>\n",
       "      <td>4</td>\n",
       "      <td>5</td>\n",
       "    </tr>\n",
       "    <tr>\n",
       "      <th>3</th>\n",
       "      <td>6</td>\n",
       "      <td>7</td>\n",
       "    </tr>\n",
       "    <tr>\n",
       "      <th>4</th>\n",
       "      <td>8</td>\n",
       "      <td>9</td>\n",
       "    </tr>\n",
       "  </tbody>\n",
       "</table>\n",
       "</div>"
      ],
      "text/plain": [
       "   A  B\n",
       "0  0  1\n",
       "1  2  3\n",
       "2  4  5\n",
       "3  6  7\n",
       "4  8  9"
      ]
     },
     "execution_count": 6,
     "metadata": {},
     "output_type": "execute_result"
    }
   ],
   "source": [
    "pd.read_hdf('/tmp/test.h5')"
   ]
  },
  {
   "cell_type": "code",
   "execution_count": 11,
   "metadata": {},
   "outputs": [
    {
     "data": {
      "text/plain": [
       "Index([u'A', u'B', u'C'], dtype='object')"
      ]
     },
     "execution_count": 11,
     "metadata": {},
     "output_type": "execute_result"
    }
   ],
   "source": [
    "df.columns.append(pd.Index(['C']))"
   ]
  },
  {
   "cell_type": "code",
   "execution_count": null,
   "metadata": {},
   "outputs": [],
   "source": []
  }
 ],
 "metadata": {
  "kernelspec": {
   "display_name": "Python 2",
   "language": "python",
   "name": "python2"
  },
  "language_info": {
   "codemirror_mode": {
    "name": "ipython",
    "version": 2
   },
   "file_extension": ".py",
   "mimetype": "text/x-python",
   "name": "python",
   "nbconvert_exporter": "python",
   "pygments_lexer": "ipython2",
   "version": "2.7.14"
  }
 },
 "nbformat": 4,
 "nbformat_minor": 2
}
