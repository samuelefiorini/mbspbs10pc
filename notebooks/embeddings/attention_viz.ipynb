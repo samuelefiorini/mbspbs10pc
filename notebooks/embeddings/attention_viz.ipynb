{
 "cells": [
  {
   "cell_type": "code",
   "execution_count": 1,
   "metadata": {},
   "outputs": [],
   "source": [
    "# import os\n",
    "# os.environ[\"CUDA_VISIBLE_DEVICES\"] = \"1\""
   ]
  },
  {
   "cell_type": "code",
   "execution_count": 1,
   "metadata": {},
   "outputs": [
    {
     "name": "stderr",
     "output_type": "stream",
     "text": [
      "/home/samu/miniconda2/lib/python2.7/site-packages/h5py/__init__.py:36: FutureWarning: Conversion of the second argument of issubdtype from `float` to `np.floating` is deprecated. In future, it will be treated as `np.float64 == np.dtype(float).type`.\n",
      "  from ._conv import register_converters as _register_converters\n",
      "Using TensorFlow backend.\n"
     ]
    }
   ],
   "source": [
    "import numpy as np\n",
    "import matplotlib.pyplot as plt\n",
    "%matplotlib inline\n",
    "\n",
    "from keras.layers import LSTM\n",
    "from keras import optimizers as opt\n",
    "\n",
    "import mbspbs10pc.model as mbs_model\n",
    "from mbspbs10pc import read_activations, utils\n",
    "reload(mbs_model)\n",
    "reload(read_activations)\n",
    "reload(utils);"
   ]
  },
  {
   "cell_type": "markdown",
   "metadata": {},
   "source": [
    "# Load data"
   ]
  },
  {
   "cell_type": "code",
   "execution_count": 2,
   "metadata": {},
   "outputs": [],
   "source": [
    "labelsfile = '../../tmp/1_METONLY_vs_METX/matched_CEM_table.csv'\n",
    "datafile = '../../tmp/item_days_raw_data_.pkl'\n",
    "dataset = utils.load_data_labels(datafile, labelsfile)\n",
    "padded_mbs_seq, padded_timestamp_seq, _ = utils.tokenize(dataset)\n",
    "maxlen = padded_mbs_seq.shape[1]\n",
    "\n",
    "# Split in training, validation, test sets\n",
    "tr_set, v_set, ts_set = utils.train_validation_test_split(\n",
    "    [padded_mbs_seq, padded_timestamp_seq], dataset['Class'],\n",
    "    test_size=0.4, validation_size=0.1,\n",
    "    verbose=False)"
   ]
  },
  {
   "cell_type": "code",
   "execution_count": 3,
   "metadata": {},
   "outputs": [],
   "source": [
    "# x = tr_set[0][0]\n",
    "# t = tr_set[0][1].squeeze()"
   ]
  },
  {
   "cell_type": "markdown",
   "metadata": {},
   "source": [
    "# Load model"
   ]
  },
  {
   "cell_type": "code",
   "execution_count": 6,
   "metadata": {},
   "outputs": [],
   "source": [
    "model = mbs_model.build_model(mbs_input_shape=(maxlen,),\n",
    "                              timestamp_input_shape=(maxlen, 1),\n",
    "                              vocabulary_size=2774,\n",
    "                              embedding_size=50,\n",
    "                              recurrent_units=64,\n",
    "                              dense_units=64,\n",
    "                              bidirectional=True,\n",
    "                              LSTMLayer=LSTM)\n",
    "\n",
    "model.load_weights('../../tmp/auc_880/output_weights.h5')"
   ]
  },
  {
   "cell_type": "markdown",
   "metadata": {},
   "source": [
    "# Visualize the attention weights"
   ]
  },
  {
   "cell_type": "code",
   "execution_count": 11,
   "metadata": {},
   "outputs": [
    {
     "name": "stdout",
     "output_type": "stream",
     "text": [
      "----- activations -----\n",
      "(6341, 445, 128)\n",
      "----- activations -----\n",
      "(6341, 445, 128)\n"
     ]
    }
   ],
   "source": [
    "a = read_activations.get_activations(model, tr_set[0], print_shape_only=True, layer_name='tsg_attention')[0]\n",
    "c = read_activations.get_activations(model, tr_set[0], print_shape_only=True, layer_name='contribution')[0]"
   ]
  },
  {
   "cell_type": "code",
   "execution_count": 14,
   "metadata": {},
   "outputs": [
    {
     "name": "stdout",
     "output_type": "stream",
     "text": [
      "(6341, 445)\n",
      "(6341, 445)\n"
     ]
    }
   ],
   "source": [
    "avg_a = np.mean(a, axis=-1).squeeze()\n",
    "avg_c = np.mean(c, axis=-1).squeeze()\n",
    "print(avg_a.shape)\n",
    "print(avg_a.shape)\n"
   ]
  },
  {
   "cell_type": "code",
   "execution_count": 15,
   "metadata": {},
   "outputs": [
    {
     "data": {
      "text/plain": [
       "<matplotlib.legend.Legend at 0x7ffb041a0910>"
      ]
     },
     "execution_count": 15,
     "metadata": {},
     "output_type": "execute_result"
    },
    {
     "data": {
      "image/png": "[encoded data removed]",
      "text/plain": [
       "<matplotlib.figure.Figure at 0x7ffb041a08d0>"
      ]
     },
     "metadata": {},
     "output_type": "display_data"
    }
   ],
   "source": [
    "xaxis = np.arange(avg_a.shape[1])\n",
    "\n",
    "plt.figure(figsize=(18,4))\n",
    "for i in np.random.randint(0, avg_a.shape[0], size=10):\n",
    "    plt.plot(xaxis, avg_a[i, :], '-')\n",
    "#     plt.plot(xaxis, avg_c[i, :], '-')\n",
    "plt.xlim([0, 445])\n",
    "plt.legend(loc='best')"
   ]
  },
  {
   "cell_type": "code",
   "execution_count": null,
   "metadata": {},
   "outputs": [],
   "source": []
  }
 ],
 "metadata": {
  "kernelspec": {
   "display_name": "Python 2",
   "language": "python",
   "name": "python2"
  },
  "language_info": {
   "codemirror_mode": {
    "name": "ipython",
    "version": 2
   },
   "file_extension": ".py",
   "mimetype": "text/x-python",
   "name": "python",
   "nbconvert_exporter": "python",
   "pygments_lexer": "ipython2",
   "version": "2.7.14"
  }
 },
 "nbformat": 4,
 "nbformat_minor": 2
}
