{
 "cells": [
  {
   "cell_type": "code",
   "execution_count": 6,
   "metadata": {},
   "outputs": [],
   "source": [
    "import matplotlib.pyplot as plt\n",
    "%matplotlib inline\n",
    "\n",
    "from keras.layers import LSTM\n",
    "from keras import optimizers as opt\n",
    "\n",
    "from mbspbs10pc import read_activations\n",
    "reload(read_activations);\n",
    "\n",
    "import mbspbs10pc.model as mbs_model\n",
    "reload(mbs_model);"
   ]
  },
  {
   "cell_type": "markdown",
   "metadata": {},
   "source": [
    "# Load data"
   ]
  },
  {
   "cell_type": "code",
   "execution_count": null,
   "metadata": {},
   "outputs": [],
   "source": []
  },
  {
   "cell_type": "code",
   "execution_count": null,
   "metadata": {},
   "outputs": [],
   "source": [
    "labelsfile = '../../tmp/1_METONLY_vs_METX/matched_CEM_table.csv'\n",
    "datafile = '../../tmp/item_days_raw_data_.pkl'\n",
    "dataset = load_data_labels(datafile, labelsfile)\n",
    "padded_mbs_seq, padded_timestamp_seq, _ = tokenize(dataset)\n",
    "maxlen = padded_mbs_seq.shape[1]\n",
    "\n",
    "# Split in training, validation, test sets\n",
    "tr_set, v_set, ts_set = train_validation_test_split(\n",
    "    [padded_mbs_seq, padded_timestamp_seq], dataset['Class'],\n",
    "    test_size=0.4, validation_size=0.1,\n",
    "    verbose=False)"
   ]
  },
  {
   "cell_type": "markdown",
   "metadata": {},
   "source": [
    "# Load model"
   ]
  },
  {
   "cell_type": "code",
   "execution_count": 7,
   "metadata": {},
   "outputs": [],
   "source": [
    "model = mbs_model.build_model(mbs_input_shape=(maxlen,),\n",
    "                              timestamp_input_shape=(maxlen, 1),\n",
    "                              vocabulary_size=2773,\n",
    "                              embedding_size=300,\n",
    "                              recurrent_units=64,\n",
    "                              dense_units=128,\n",
    "                              bidirectional=True,\n",
    "                              LSTMLayer=LSTM)\n",
    "\n",
    "model.compile(optimizer=opt.RMSprop(lr=0.01),\n",
    "              loss='binary_crossentropy',\n",
    "              metrics=['acc'])\n",
    "model.load_weights('../../tmp/auc_861/output_weights.h5')"
   ]
  },
  {
   "cell_type": "markdown",
   "metadata": {},
   "source": [
    "# Visualize the attention weights"
   ]
  },
  {
   "cell_type": "code",
   "execution_count": null,
   "metadata": {},
   "outputs": [],
   "source": []
  }
 ],
 "metadata": {
  "kernelspec": {
   "display_name": "Python 2",
   "language": "python",
   "name": "python2"
  },
  "language_info": {
   "codemirror_mode": {
    "name": "ipython",
    "version": 2
   },
   "file_extension": ".py",
   "mimetype": "text/x-python",
   "name": "python",
   "nbconvert_exporter": "python",
   "pygments_lexer": "ipython2",
   "version": "2.7.14"
  }
 },
 "nbformat": 4,
 "nbformat_minor": 2
}
