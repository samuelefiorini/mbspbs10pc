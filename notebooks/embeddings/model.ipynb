{
 "cells": [
  {
   "cell_type": "code",
   "execution_count": 1,
   "metadata": {},
   "outputs": [
    {
     "name": "stderr",
     "output_type": "stream",
     "text": [
      "Using TensorFlow backend.\n"
     ]
    }
   ],
   "source": [
    "# import tensorflow as tf\n",
    "# tf.enable_eager_execution()\n",
    "\n",
    "%matplotlib inline\n",
    "import pandas as pd\n",
    "import numpy as np\n",
    "import joblib as jl\n",
    "import matplotlib.pyplot as plt\n",
    "import warnings\n",
    "warnings.filterwarnings('ignore')\n",
    "\n",
    "from sklearn.model_selection import StratifiedShuffleSplit\n",
    "from sklearn import metrics\n",
    "\n",
    "from keras.preprocessing.text import Tokenizer\n",
    "from keras.preprocessing.sequence import pad_sequences\n",
    "\n",
    "root = 'dl'"
   ]
  },
  {
   "cell_type": "markdown",
   "metadata": {},
   "source": [
    "# Load raw data"
   ]
  },
  {
   "cell_type": "code",
   "execution_count": 2,
   "metadata": {},
   "outputs": [
    {
     "data": {
      "text/html": [
       "<div>\n",
       "<style scoped>\n",
       "    .dataframe tbody tr th:only-of-type {\n",
       "        vertical-align: middle;\n",
       "    }\n",
       "\n",
       "    .dataframe tbody tr th {\n",
       "        vertical-align: top;\n",
       "    }\n",
       "\n",
       "    .dataframe thead th {\n",
       "        text-align: right;\n",
       "    }\n",
       "</style>\n",
       "<table border=\"1\" class=\"dataframe\">\n",
       "  <thead>\n",
       "    <tr style=\"text-align: right;\">\n",
       "      <th></th>\n",
       "      <th>CLASS</th>\n",
       "    </tr>\n",
       "    <tr>\n",
       "      <th>PIN</th>\n",
       "      <th></th>\n",
       "    </tr>\n",
       "  </thead>\n",
       "  <tbody>\n",
       "    <tr>\n",
       "      <th>568483</th>\n",
       "      <td>1</td>\n",
       "    </tr>\n",
       "    <tr>\n",
       "      <th>923748</th>\n",
       "      <td>0</td>\n",
       "    </tr>\n",
       "    <tr>\n",
       "      <th>2035328</th>\n",
       "      <td>0</td>\n",
       "    </tr>\n",
       "    <tr>\n",
       "      <th>2239386</th>\n",
       "      <td>1</td>\n",
       "    </tr>\n",
       "    <tr>\n",
       "      <th>2244533</th>\n",
       "      <td>1</td>\n",
       "    </tr>\n",
       "  </tbody>\n",
       "</table>\n",
       "</div>"
      ],
      "text/plain": [
       "         CLASS\n",
       "PIN           \n",
       "568483       1\n",
       "923748       0\n",
       "2035328      0\n",
       "2239386      1\n",
       "2244533      1"
      ]
     },
     "execution_count": 2,
     "metadata": {},
     "output_type": "execute_result"
    }
   ],
   "source": [
    "labels = pd.read_csv('../../tmp/1_METONLY_vs_METX/matched_CEM_table.csv', header=0).rename({'Unnamed: 0': 'PIN'}, axis=1)[['PIN', 'CLASS']].set_index('PIN')\n",
    "labels.head()"
   ]
  },
  {
   "cell_type": "code",
   "execution_count": 3,
   "metadata": {},
   "outputs": [
    {
     "data": {
      "text/html": [
       "<div>\n",
       "<style scoped>\n",
       "    .dataframe tbody tr th:only-of-type {\n",
       "        vertical-align: middle;\n",
       "    }\n",
       "\n",
       "    .dataframe tbody tr th {\n",
       "        vertical-align: top;\n",
       "    }\n",
       "\n",
       "    .dataframe thead th {\n",
       "        text-align: right;\n",
       "    }\n",
       "</style>\n",
       "<table border=\"1\" class=\"dataframe\">\n",
       "  <thead>\n",
       "    <tr style=\"text-align: right;\">\n",
       "      <th></th>\n",
       "      <th>Seq</th>\n",
       "      <th>Class</th>\n",
       "    </tr>\n",
       "    <tr>\n",
       "      <th>PIN</th>\n",
       "      <th></th>\n",
       "      <th></th>\n",
       "    </tr>\n",
       "  </thead>\n",
       "  <tbody>\n",
       "    <tr>\n",
       "      <th>568483</th>\n",
       "      <td>10990 0 23 16 725 0 10990 0 10990 0 10990 0 10...</td>\n",
       "      <td>1</td>\n",
       "    </tr>\n",
       "    <tr>\n",
       "      <th>923748</th>\n",
       "      <td>66653 0 65070 0 66515 5 10962 1 105 1 56807 42...</td>\n",
       "      <td>0</td>\n",
       "    </tr>\n",
       "    <tr>\n",
       "      <th>2035328</th>\n",
       "      <td>66536 0 74995 0 66512 0 66551 0 66608 0 66716 ...</td>\n",
       "      <td>0</td>\n",
       "    </tr>\n",
       "    <tr>\n",
       "      <th>2239386</th>\n",
       "      <td>10991 0 23 105 73928 0 66560 0 66515 0 66551 0...</td>\n",
       "      <td>1</td>\n",
       "    </tr>\n",
       "    <tr>\n",
       "      <th>2244533</th>\n",
       "      <td>10990 0 23 74 23 0 10990 1 73928 0 66500 0 665...</td>\n",
       "      <td>1</td>\n",
       "    </tr>\n",
       "  </tbody>\n",
       "</table>\n",
       "</div>"
      ],
      "text/plain": [
       "                                                       Seq  Class\n",
       "PIN                                                              \n",
       "568483   10990 0 23 16 725 0 10990 0 10990 0 10990 0 10...      1\n",
       "923748   66653 0 65070 0 66515 5 10962 1 105 1 56807 42...      0\n",
       "2035328  66536 0 74995 0 66512 0 66551 0 66608 0 66716 ...      0\n",
       "2239386  10991 0 23 105 73928 0 66560 0 66515 0 66551 0...      1\n",
       "2244533  10990 0 23 74 23 0 10990 1 73928 0 66500 0 665...      1"
      ]
     },
     "execution_count": 3,
     "metadata": {},
     "output_type": "execute_result"
    }
   ],
   "source": [
    "data = jl.load(open('../../tmp/item_days_raw_data_.pkl', 'rb')).loc[labels.index, 'seq']\n",
    "df = pd.DataFrame(columns=['Seq', 'Class'], index=data.index)\n",
    "df.loc[:, 'Seq'] = data\n",
    "df.loc[:, 'Class'] = labels['CLASS']\n",
    "df.head()"
   ]
  },
  {
   "cell_type": "markdown",
   "metadata": {},
   "source": [
    "# Separate MBS items and timepoints"
   ]
  },
  {
   "cell_type": "code",
   "execution_count": 4,
   "metadata": {},
   "outputs": [],
   "source": [
    "for idx in df.index:\n",
    "    _tmp = df.loc[idx, 'Seq'].split(' ')\n",
    "    df.loc[idx, 'mbs_seq'] = ' '.join(_tmp[::2])\n",
    "    df.loc[idx, 'times_seq'] = ' '.join(_tmp[1::2])"
   ]
  },
  {
   "cell_type": "code",
   "execution_count": 5,
   "metadata": {},
   "outputs": [
    {
     "data": {
      "text/html": [
       "<div>\n",
       "<style scoped>\n",
       "    .dataframe tbody tr th:only-of-type {\n",
       "        vertical-align: middle;\n",
       "    }\n",
       "\n",
       "    .dataframe tbody tr th {\n",
       "        vertical-align: top;\n",
       "    }\n",
       "\n",
       "    .dataframe thead th {\n",
       "        text-align: right;\n",
       "    }\n",
       "</style>\n",
       "<table border=\"1\" class=\"dataframe\">\n",
       "  <thead>\n",
       "    <tr style=\"text-align: right;\">\n",
       "      <th></th>\n",
       "      <th>Seq</th>\n",
       "      <th>Class</th>\n",
       "      <th>mbs_seq</th>\n",
       "      <th>times_seq</th>\n",
       "    </tr>\n",
       "    <tr>\n",
       "      <th>PIN</th>\n",
       "      <th></th>\n",
       "      <th></th>\n",
       "      <th></th>\n",
       "      <th></th>\n",
       "    </tr>\n",
       "  </thead>\n",
       "  <tbody>\n",
       "    <tr>\n",
       "      <th>568483</th>\n",
       "      <td>10990 0 23 16 725 0 10990 0 10990 0 10990 0 10...</td>\n",
       "      <td>1</td>\n",
       "      <td>10990 23 725 10990 10990 10990 10993 23 85311 ...</td>\n",
       "      <td>0 16 0 0 0 0 0 15 0 0 13 0 0 0 22 0 0 0 0 0 0 ...</td>\n",
       "    </tr>\n",
       "    <tr>\n",
       "      <th>923748</th>\n",
       "      <td>66653 0 65070 0 66515 5 10962 1 105 1 56807 42...</td>\n",
       "      <td>0</td>\n",
       "      <td>66653 65070 66515 10962 105 56807 10990 23 109...</td>\n",
       "      <td>0 0 5 1 1 42 0 26 35 0 0 0 9 0 0 0 5 0 0 0 21 ...</td>\n",
       "    </tr>\n",
       "    <tr>\n",
       "      <th>2035328</th>\n",
       "      <td>66536 0 74995 0 66512 0 66551 0 66608 0 66716 ...</td>\n",
       "      <td>0</td>\n",
       "      <td>66536 74995 66512 66551 66608 66716 66560 7392...</td>\n",
       "      <td>0 0 0 0 0 0 0 9 1 10 9 138 1 3 31 24 63 0 0 0 ...</td>\n",
       "    </tr>\n",
       "    <tr>\n",
       "      <th>2239386</th>\n",
       "      <td>10991 0 23 105 73928 0 66560 0 66515 0 66551 0...</td>\n",
       "      <td>1</td>\n",
       "      <td>10991 23 73928 66560 66515 66551 66536 2517 10...</td>\n",
       "      <td>0 105 0 0 0 0 4 2 27 1 1 7 0 18 132 0 0 0 1 0 ...</td>\n",
       "    </tr>\n",
       "    <tr>\n",
       "      <th>2244533</th>\n",
       "      <td>10990 0 23 74 23 0 10990 1 73928 0 66500 0 665...</td>\n",
       "      <td>1</td>\n",
       "      <td>10990 23 23 10990 73928 66500 66560 66551 23 1...</td>\n",
       "      <td>0 74 0 1 0 0 0 2 0 87 0 1 0 0 0 0 0 2 0 6 0 8 ...</td>\n",
       "    </tr>\n",
       "  </tbody>\n",
       "</table>\n",
       "</div>"
      ],
      "text/plain": [
       "                                                       Seq  Class  \\\n",
       "PIN                                                                 \n",
       "568483   10990 0 23 16 725 0 10990 0 10990 0 10990 0 10...      1   \n",
       "923748   66653 0 65070 0 66515 5 10962 1 105 1 56807 42...      0   \n",
       "2035328  66536 0 74995 0 66512 0 66551 0 66608 0 66716 ...      0   \n",
       "2239386  10991 0 23 105 73928 0 66560 0 66515 0 66551 0...      1   \n",
       "2244533  10990 0 23 74 23 0 10990 1 73928 0 66500 0 665...      1   \n",
       "\n",
       "                                                   mbs_seq  \\\n",
       "PIN                                                          \n",
       "568483   10990 23 725 10990 10990 10990 10993 23 85311 ...   \n",
       "923748   66653 65070 66515 10962 105 56807 10990 23 109...   \n",
       "2035328  66536 74995 66512 66551 66608 66716 66560 7392...   \n",
       "2239386  10991 23 73928 66560 66515 66551 66536 2517 10...   \n",
       "2244533  10990 23 23 10990 73928 66500 66560 66551 23 1...   \n",
       "\n",
       "                                                 times_seq  \n",
       "PIN                                                         \n",
       "568483   0 16 0 0 0 0 0 15 0 0 13 0 0 0 22 0 0 0 0 0 0 ...  \n",
       "923748   0 0 5 1 1 42 0 26 35 0 0 0 9 0 0 0 5 0 0 0 21 ...  \n",
       "2035328  0 0 0 0 0 0 0 9 1 10 9 138 1 3 31 24 63 0 0 0 ...  \n",
       "2239386  0 105 0 0 0 0 4 2 27 1 1 7 0 18 132 0 0 0 1 0 ...  \n",
       "2244533  0 74 0 1 0 0 0 2 0 87 0 1 0 0 0 0 0 2 0 6 0 8 ...  "
      ]
     },
     "execution_count": 5,
     "metadata": {},
     "output_type": "execute_result"
    }
   ],
   "source": [
    "df.head()"
   ]
  },
  {
   "cell_type": "markdown",
   "metadata": {},
   "source": [
    "# Seq2Tokens"
   ]
  },
  {
   "cell_type": "code",
   "execution_count": 6,
   "metadata": {},
   "outputs": [
    {
     "name": "stdout",
     "output_type": "stream",
     "text": [
      "2773\n",
      "(11744, 445)\n",
      "(11744, 445)\n"
     ]
    }
   ],
   "source": [
    "# Define tokenizer object\n",
    "tokenizer = Tokenizer(char_level=False, lower=False, split=' ')\n",
    "\n",
    "# Fit on corpus and extract tokenized sequences\n",
    "tokenizer.fit_on_texts(df['mbs_seq'])\n",
    "n_feat = len(tokenizer.word_index.keys())\n",
    "print(n_feat)\n",
    "seq = tokenizer.texts_to_sequences(df['mbs_seq'])\n",
    "\n",
    "# Pad tokenized sequences\n",
    "lengths = [len(x) for x in seq]\n",
    "maxlen = int(np.percentile(lengths, 95))\n",
    "p_seq = pad_sequences(seq, maxlen=maxlen)\n",
    "print(p_seq.shape)\n",
    "\n",
    "# Pad timestamps\n",
    "t_seq = [map(int, df.loc[idx, 'times_seq'].split(' ')) for idx in df.index]\n",
    "p_t_seq = pad_sequences(t_seq, maxlen=maxlen)\n",
    "print(p_t_seq.shape)"
   ]
  },
  {
   "cell_type": "markdown",
   "metadata": {},
   "source": [
    "# Training - Validation - Test split"
   ]
  },
  {
   "cell_type": "code",
   "execution_count": 7,
   "metadata": {},
   "outputs": [
    {
     "name": "stdout",
     "output_type": "stream",
     "text": [
      "7046 learn / 4698 test\n",
      "6341 training / 705 validation\n"
     ]
    }
   ],
   "source": [
    "# Full dataset\n",
    "y = df['Class'].ravel()\n",
    "X = p_seq\n",
    "X_t = p_t_seq\n",
    "\n",
    "# Learn / Test\n",
    "sss = StratifiedShuffleSplit(n_splits=1, test_size=0.4, random_state=0)\n",
    "learn_idx, test_idx = next(sss.split(X, y))\n",
    "\n",
    "X_learn, y_learn = X[learn_idx, :], y[learn_idx]\n",
    "X_test, y_test = X[test_idx, :], y[test_idx]\n",
    "\n",
    "X_learn_t = X_t[learn_idx, :]\n",
    "X_test_t = X_t[test_idx, :]\n",
    "\n",
    "print('{} learn / {} test'.format(len(y_learn), len(y_test)))\n",
    "\n",
    "# Training / Validation\n",
    "sss = StratifiedShuffleSplit(n_splits=1, test_size=0.1, random_state=1)\n",
    "train_idx, valid_idx = next(sss.split(X_learn, y_learn))\n",
    "\n",
    "X_train, y_train = X_learn[train_idx, :], y_learn[train_idx]\n",
    "X_valid, y_valid = X_learn[valid_idx, :], y_learn[valid_idx]\n",
    "\n",
    "X_train_t = X_learn_t[train_idx, :]\n",
    "X_valid_t = X_learn_t[valid_idx, :]\n",
    "\n",
    "print('{} training / {} validation'.format(len(y_train), len(y_valid)))"
   ]
  },
  {
   "cell_type": "markdown",
   "metadata": {},
   "source": [
    "# Init embedding matrix"
   ]
  },
  {
   "cell_type": "code",
   "execution_count": 8,
   "metadata": {},
   "outputs": [],
   "source": [
    "D = 300\n",
    "embedding = pd.read_csv('../../tmp/embedding.{}d.csv'.format(D), header=0, index_col=0)\n",
    "embedding_matrix = embedding.values"
   ]
  },
  {
   "cell_type": "markdown",
   "metadata": {},
   "source": [
    "# Model"
   ]
  },
  {
   "cell_type": "code",
   "execution_count": 23,
   "metadata": {},
   "outputs": [],
   "source": [
    "import mbspbs10pc.model as mbs_model\n",
    "reload(mbs_model);\n",
    "from keras.layers import CuDNNLSTM\n",
    "from keras import optimizers as opt\n",
    "model = mbs_model.build_model(mbs_input_shape=(maxlen,),\n",
    "                              timestamp_input_shape=(maxlen, 1),\n",
    "                              vocabulary_size=n_feat,\n",
    "                              embedding_size=D,\n",
    "                              recurrent_units=64,\n",
    "                              dense_units=128,\n",
    "                              LSTMLayer=CuDNNLSTM,\n",
    "                              bidirectional=True,\n",
    "                              single_attention=False)\n",
    "\n",
    "model.compile(optimizer=opt.RMSprop(lr=0.01),\n",
    "              loss='binary_crossentropy',\n",
    "              metrics=['acc'])\n"
   ]
  },
  {
   "cell_type": "code",
   "execution_count": 24,
   "metadata": {},
   "outputs": [],
   "source": [
    "model.get_layer('mbs_embedding').set_weights([embedding_matrix])\n",
    "model.get_layer('mbs_embedding').trainable = True"
   ]
  },
  {
   "cell_type": "code",
   "execution_count": 25,
   "metadata": {},
   "outputs": [],
   "source": [
    "# model.summary()"
   ]
  },
  {
   "cell_type": "code",
   "execution_count": 26,
   "metadata": {},
   "outputs": [
    {
     "data": {
      "image/svg+xml": [
       "<svg height=\"802pt\" viewBox=\"0.00 0.00 1055.50 802.00\" width=\"1056pt\" xmlns=\"http://www.w3.org/2000/svg\" xmlns:xlink=\"http://www.w3.org/1999/xlink\">\n",
       "<g class=\"graph\" id=\"graph0\" transform=\"scale(1 1) rotate(0) translate(4 798)\">\n",
       "<title>G</title>\n",
       "<polygon fill=\"white\" points=\"-4,4 -4,-798 1051.5,-798 1051.5,4 -4,4\" stroke=\"none\"/>\n",
       "<!-- 139764972432400 -->\n",
       "<g class=\"node\" id=\"node1\"><title>139764972432400</title>\n",
       "<polygon fill=\"none\" points=\"108.5,-747.5 108.5,-793.5 388.5,-793.5 388.5,-747.5 108.5,-747.5\" stroke=\"black\"/>\n",
       "<text font-family=\"Times,serif\" font-size=\"14.00\" text-anchor=\"middle\" x=\"179.5\" y=\"-766.8\">mbs_input: InputLayer</text>\n",
       "<polyline fill=\"none\" points=\"250.5,-747.5 250.5,-793.5 \" stroke=\"black\"/>\n",
       "<text font-family=\"Times,serif\" font-size=\"14.00\" text-anchor=\"middle\" x=\"278\" y=\"-778.3\">input:</text>\n",
       "<polyline fill=\"none\" points=\"250.5,-770.5 305.5,-770.5 \" stroke=\"black\"/>\n",
       "<text font-family=\"Times,serif\" font-size=\"14.00\" text-anchor=\"middle\" x=\"278\" y=\"-755.3\">output:</text>\n",
       "<polyline fill=\"none\" points=\"305.5,-747.5 305.5,-793.5 \" stroke=\"black\"/>\n",
       "<text font-family=\"Times,serif\" font-size=\"14.00\" text-anchor=\"middle\" x=\"347\" y=\"-778.3\">(None, 445)</text>\n",
       "<polyline fill=\"none\" points=\"305.5,-770.5 388.5,-770.5 \" stroke=\"black\"/>\n",
       "<text font-family=\"Times,serif\" font-size=\"14.00\" text-anchor=\"middle\" x=\"347\" y=\"-755.3\">(None, 445)</text>\n",
       "</g>\n",
       "<!-- 139764987320080 -->\n",
       "<g class=\"node\" id=\"node2\"><title>139764987320080</title>\n",
       "<polygon fill=\"none\" points=\"77,-664.5 77,-710.5 420,-710.5 420,-664.5 77,-664.5\" stroke=\"black\"/>\n",
       "<text font-family=\"Times,serif\" font-size=\"14.00\" text-anchor=\"middle\" x=\"166\" y=\"-683.8\">mbs_embedding: Embedding</text>\n",
       "<polyline fill=\"none\" points=\"255,-664.5 255,-710.5 \" stroke=\"black\"/>\n",
       "<text font-family=\"Times,serif\" font-size=\"14.00\" text-anchor=\"middle\" x=\"282.5\" y=\"-695.3\">input:</text>\n",
       "<polyline fill=\"none\" points=\"255,-687.5 310,-687.5 \" stroke=\"black\"/>\n",
       "<text font-family=\"Times,serif\" font-size=\"14.00\" text-anchor=\"middle\" x=\"282.5\" y=\"-672.3\">output:</text>\n",
       "<polyline fill=\"none\" points=\"310,-664.5 310,-710.5 \" stroke=\"black\"/>\n",
       "<text font-family=\"Times,serif\" font-size=\"14.00\" text-anchor=\"middle\" x=\"365\" y=\"-695.3\">(None, 445)</text>\n",
       "<polyline fill=\"none\" points=\"310,-687.5 420,-687.5 \" stroke=\"black\"/>\n",
       "<text font-family=\"Times,serif\" font-size=\"14.00\" text-anchor=\"middle\" x=\"365\" y=\"-672.3\">(None, 445, 300)</text>\n",
       "</g>\n",
       "<!-- 139764972432400&#45;&gt;139764987320080 -->\n",
       "<g class=\"edge\" id=\"edge1\"><title>139764972432400-&gt;139764987320080</title>\n",
       "<path d=\"M248.5,-747.366C248.5,-739.152 248.5,-729.658 248.5,-720.725\" fill=\"none\" stroke=\"black\"/>\n",
       "<polygon fill=\"black\" points=\"252,-720.607 248.5,-710.607 245,-720.607 252,-720.607\" stroke=\"black\"/>\n",
       "</g>\n",
       "<!-- 139764983301584 -->\n",
       "<g class=\"node\" id=\"node4\"><title>139764983301584</title>\n",
       "<polygon fill=\"none\" points=\"0,-581.5 0,-627.5 497,-627.5 497,-581.5 0,-581.5\" stroke=\"black\"/>\n",
       "<text font-family=\"Times,serif\" font-size=\"14.00\" text-anchor=\"middle\" x=\"166\" y=\"-600.8\">mbs_lstm(cu_dnnlstm_29): Bidirectional(CuDNNLSTM)</text>\n",
       "<polyline fill=\"none\" points=\"332,-581.5 332,-627.5 \" stroke=\"black\"/>\n",
       "<text font-family=\"Times,serif\" font-size=\"14.00\" text-anchor=\"middle\" x=\"359.5\" y=\"-612.3\">input:</text>\n",
       "<polyline fill=\"none\" points=\"332,-604.5 387,-604.5 \" stroke=\"black\"/>\n",
       "<text font-family=\"Times,serif\" font-size=\"14.00\" text-anchor=\"middle\" x=\"359.5\" y=\"-589.3\">output:</text>\n",
       "<polyline fill=\"none\" points=\"387,-581.5 387,-627.5 \" stroke=\"black\"/>\n",
       "<text font-family=\"Times,serif\" font-size=\"14.00\" text-anchor=\"middle\" x=\"442\" y=\"-612.3\">(None, 445, 300)</text>\n",
       "<polyline fill=\"none\" points=\"387,-604.5 497,-604.5 \" stroke=\"black\"/>\n",
       "<text font-family=\"Times,serif\" font-size=\"14.00\" text-anchor=\"middle\" x=\"442\" y=\"-589.3\">(None, 445, 128)</text>\n",
       "</g>\n",
       "<!-- 139764987320080&#45;&gt;139764983301584 -->\n",
       "<g class=\"edge\" id=\"edge2\"><title>139764987320080-&gt;139764983301584</title>\n",
       "<path d=\"M248.5,-664.366C248.5,-656.152 248.5,-646.658 248.5,-637.725\" fill=\"none\" stroke=\"black\"/>\n",
       "<polygon fill=\"black\" points=\"252,-637.607 248.5,-627.607 245,-637.607 252,-637.607\" stroke=\"black\"/>\n",
       "</g>\n",
       "<!-- 139764969825616 -->\n",
       "<g class=\"node\" id=\"node3\"><title>139764969825616</title>\n",
       "<polygon fill=\"none\" points=\"617.5,-664.5 617.5,-710.5 945.5,-710.5 945.5,-664.5 617.5,-664.5\" stroke=\"black\"/>\n",
       "<text font-family=\"Times,serif\" font-size=\"14.00\" text-anchor=\"middle\" x=\"705.5\" y=\"-683.8\">timestamp_input: InputLayer</text>\n",
       "<polyline fill=\"none\" points=\"793.5,-664.5 793.5,-710.5 \" stroke=\"black\"/>\n",
       "<text font-family=\"Times,serif\" font-size=\"14.00\" text-anchor=\"middle\" x=\"821\" y=\"-695.3\">input:</text>\n",
       "<polyline fill=\"none\" points=\"793.5,-687.5 848.5,-687.5 \" stroke=\"black\"/>\n",
       "<text font-family=\"Times,serif\" font-size=\"14.00\" text-anchor=\"middle\" x=\"821\" y=\"-672.3\">output:</text>\n",
       "<polyline fill=\"none\" points=\"848.5,-664.5 848.5,-710.5 \" stroke=\"black\"/>\n",
       "<text font-family=\"Times,serif\" font-size=\"14.00\" text-anchor=\"middle\" x=\"897\" y=\"-695.3\">(None, 445, 1)</text>\n",
       "<polyline fill=\"none\" points=\"848.5,-687.5 945.5,-687.5 \" stroke=\"black\"/>\n",
       "<text font-family=\"Times,serif\" font-size=\"14.00\" text-anchor=\"middle\" x=\"897\" y=\"-672.3\">(None, 445, 1)</text>\n",
       "</g>\n",
       "<!-- 139764969570000 -->\n",
       "<g class=\"node\" id=\"node5\"><title>139764969570000</title>\n",
       "<polygon fill=\"none\" points=\"515.5,-581.5 515.5,-627.5 1047.5,-627.5 1047.5,-581.5 515.5,-581.5\" stroke=\"black\"/>\n",
       "<text font-family=\"Times,serif\" font-size=\"14.00\" text-anchor=\"middle\" x=\"699\" y=\"-600.8\">timestamp_lstm(cu_dnnlstm_30): Bidirectional(CuDNNLSTM)</text>\n",
       "<polyline fill=\"none\" points=\"882.5,-581.5 882.5,-627.5 \" stroke=\"black\"/>\n",
       "<text font-family=\"Times,serif\" font-size=\"14.00\" text-anchor=\"middle\" x=\"910\" y=\"-612.3\">input:</text>\n",
       "<polyline fill=\"none\" points=\"882.5,-604.5 937.5,-604.5 \" stroke=\"black\"/>\n",
       "<text font-family=\"Times,serif\" font-size=\"14.00\" text-anchor=\"middle\" x=\"910\" y=\"-589.3\">output:</text>\n",
       "<polyline fill=\"none\" points=\"937.5,-581.5 937.5,-627.5 \" stroke=\"black\"/>\n",
       "<text font-family=\"Times,serif\" font-size=\"14.00\" text-anchor=\"middle\" x=\"992.5\" y=\"-612.3\">(None, 445, 1)</text>\n",
       "<polyline fill=\"none\" points=\"937.5,-604.5 1047.5,-604.5 \" stroke=\"black\"/>\n",
       "<text font-family=\"Times,serif\" font-size=\"14.00\" text-anchor=\"middle\" x=\"992.5\" y=\"-589.3\">(None, 445, 128)</text>\n",
       "</g>\n",
       "<!-- 139764969825616&#45;&gt;139764969570000 -->\n",
       "<g class=\"edge\" id=\"edge3\"><title>139764969825616-&gt;139764969570000</title>\n",
       "<path d=\"M781.5,-664.366C781.5,-656.152 781.5,-646.658 781.5,-637.725\" fill=\"none\" stroke=\"black\"/>\n",
       "<polygon fill=\"black\" points=\"785,-637.607 781.5,-627.607 778,-637.607 785,-637.607\" stroke=\"black\"/>\n",
       "</g>\n",
       "<!-- 139764969207120 -->\n",
       "<g class=\"node\" id=\"node6\"><title>139764969207120</title>\n",
       "<polygon fill=\"none\" points=\"277,-498.5 277,-544.5 800,-544.5 800,-498.5 277,-498.5\" stroke=\"black\"/>\n",
       "<text font-family=\"Times,serif\" font-size=\"14.00\" text-anchor=\"middle\" x=\"400.5\" y=\"-517.8\">tsg_attention: TimestampGuidedAttention</text>\n",
       "<polyline fill=\"none\" points=\"524,-498.5 524,-544.5 \" stroke=\"black\"/>\n",
       "<text font-family=\"Times,serif\" font-size=\"14.00\" text-anchor=\"middle\" x=\"551.5\" y=\"-529.3\">input:</text>\n",
       "<polyline fill=\"none\" points=\"524,-521.5 579,-521.5 \" stroke=\"black\"/>\n",
       "<text font-family=\"Times,serif\" font-size=\"14.00\" text-anchor=\"middle\" x=\"551.5\" y=\"-506.3\">output:</text>\n",
       "<polyline fill=\"none\" points=\"579,-498.5 579,-544.5 \" stroke=\"black\"/>\n",
       "<text font-family=\"Times,serif\" font-size=\"14.00\" text-anchor=\"middle\" x=\"689.5\" y=\"-529.3\">[(None, 445, 128), (None, 445, 128)]</text>\n",
       "<polyline fill=\"none\" points=\"579,-521.5 800,-521.5 \" stroke=\"black\"/>\n",
       "<text font-family=\"Times,serif\" font-size=\"14.00\" text-anchor=\"middle\" x=\"689.5\" y=\"-506.3\">(None, 445, 128)</text>\n",
       "</g>\n",
       "<!-- 139764983301584&#45;&gt;139764969207120 -->\n",
       "<g class=\"edge\" id=\"edge4\"><title>139764983301584-&gt;139764969207120</title>\n",
       "<path d=\"M327.361,-581.473C365.243,-570.893 410.79,-558.171 449.868,-547.256\" fill=\"none\" stroke=\"black\"/>\n",
       "<polygon fill=\"black\" points=\"450.965,-550.583 459.655,-544.522 449.082,-543.841 450.965,-550.583\" stroke=\"black\"/>\n",
       "</g>\n",
       "<!-- 139764969207248 -->\n",
       "<g class=\"node\" id=\"node7\"><title>139764969207248</title>\n",
       "<polygon fill=\"none\" points=\"174.5,-415.5 174.5,-461.5 612.5,-461.5 612.5,-415.5 174.5,-415.5\" stroke=\"black\"/>\n",
       "<text font-family=\"Times,serif\" font-size=\"14.00\" text-anchor=\"middle\" x=\"255.5\" y=\"-434.8\">context_creation: Multiply</text>\n",
       "<polyline fill=\"none\" points=\"336.5,-415.5 336.5,-461.5 \" stroke=\"black\"/>\n",
       "<text font-family=\"Times,serif\" font-size=\"14.00\" text-anchor=\"middle\" x=\"364\" y=\"-446.3\">input:</text>\n",
       "<polyline fill=\"none\" points=\"336.5,-438.5 391.5,-438.5 \" stroke=\"black\"/>\n",
       "<text font-family=\"Times,serif\" font-size=\"14.00\" text-anchor=\"middle\" x=\"364\" y=\"-423.3\">output:</text>\n",
       "<polyline fill=\"none\" points=\"391.5,-415.5 391.5,-461.5 \" stroke=\"black\"/>\n",
       "<text font-family=\"Times,serif\" font-size=\"14.00\" text-anchor=\"middle\" x=\"502\" y=\"-446.3\">[(None, 445, 128), (None, 445, 128)]</text>\n",
       "<polyline fill=\"none\" points=\"391.5,-438.5 612.5,-438.5 \" stroke=\"black\"/>\n",
       "<text font-family=\"Times,serif\" font-size=\"14.00\" text-anchor=\"middle\" x=\"502\" y=\"-423.3\">(None, 445, 128)</text>\n",
       "</g>\n",
       "<!-- 139764983301584&#45;&gt;139764969207248 -->\n",
       "<g class=\"edge\" id=\"edge7\"><title>139764983301584-&gt;139764969207248</title>\n",
       "<path d=\"M246.864,-581.356C246.333,-558.221 248.969,-522.017 267.5,-498 277.845,-484.592 291.995,-474.138 307.084,-466.026\" fill=\"none\" stroke=\"black\"/>\n",
       "<polygon fill=\"black\" points=\"308.692,-469.135 316.055,-461.516 305.548,-462.881 308.692,-469.135\" stroke=\"black\"/>\n",
       "</g>\n",
       "<!-- 139764969570000&#45;&gt;139764969207120 -->\n",
       "<g class=\"edge\" id=\"edge5\"><title>139764969570000-&gt;139764969207120</title>\n",
       "<path d=\"M715.42,-581.473C684.216,-571.072 646.804,-558.601 614.437,-547.812\" fill=\"none\" stroke=\"black\"/>\n",
       "<polygon fill=\"black\" points=\"615.16,-544.364 604.567,-544.522 612.947,-551.005 615.16,-544.364\" stroke=\"black\"/>\n",
       "</g>\n",
       "<!-- 139764969207120&#45;&gt;139764969207248 -->\n",
       "<g class=\"edge\" id=\"edge6\"><title>139764969207120-&gt;139764969207248</title>\n",
       "<path d=\"M498.878,-498.366C481.296,-488.544 460.44,-476.894 441.941,-466.56\" fill=\"none\" stroke=\"black\"/>\n",
       "<polygon fill=\"black\" points=\"443.511,-463.428 433.074,-461.607 440.097,-469.539 443.511,-463.428\" stroke=\"black\"/>\n",
       "</g>\n",
       "<!-- 139764966673616 -->\n",
       "<g class=\"node\" id=\"node8\"><title>139764966673616</title>\n",
       "<polygon fill=\"none\" points=\"208,-332.5 208,-378.5 579,-378.5 579,-332.5 208,-332.5\" stroke=\"black\"/>\n",
       "<text font-family=\"Times,serif\" font-size=\"14.00\" text-anchor=\"middle\" x=\"311\" y=\"-351.8\">pooling: GlobalAveragePooling1D</text>\n",
       "<polyline fill=\"none\" points=\"414,-332.5 414,-378.5 \" stroke=\"black\"/>\n",
       "<text font-family=\"Times,serif\" font-size=\"14.00\" text-anchor=\"middle\" x=\"441.5\" y=\"-363.3\">input:</text>\n",
       "<polyline fill=\"none\" points=\"414,-355.5 469,-355.5 \" stroke=\"black\"/>\n",
       "<text font-family=\"Times,serif\" font-size=\"14.00\" text-anchor=\"middle\" x=\"441.5\" y=\"-340.3\">output:</text>\n",
       "<polyline fill=\"none\" points=\"469,-332.5 469,-378.5 \" stroke=\"black\"/>\n",
       "<text font-family=\"Times,serif\" font-size=\"14.00\" text-anchor=\"middle\" x=\"524\" y=\"-363.3\">(None, 445, 128)</text>\n",
       "<polyline fill=\"none\" points=\"469,-355.5 579,-355.5 \" stroke=\"black\"/>\n",
       "<text font-family=\"Times,serif\" font-size=\"14.00\" text-anchor=\"middle\" x=\"524\" y=\"-340.3\">(None, 128)</text>\n",
       "</g>\n",
       "<!-- 139764969207248&#45;&gt;139764966673616 -->\n",
       "<g class=\"edge\" id=\"edge8\"><title>139764969207248-&gt;139764966673616</title>\n",
       "<path d=\"M393.5,-415.366C393.5,-407.152 393.5,-397.658 393.5,-388.725\" fill=\"none\" stroke=\"black\"/>\n",
       "<polygon fill=\"black\" points=\"397,-388.607 393.5,-378.607 390,-388.607 397,-388.607\" stroke=\"black\"/>\n",
       "</g>\n",
       "<!-- 139764969207184 -->\n",
       "<g class=\"node\" id=\"node9\"><title>139764969207184</title>\n",
       "<polygon fill=\"none\" points=\"262,-249.5 262,-295.5 525,-295.5 525,-249.5 262,-249.5\" stroke=\"black\"/>\n",
       "<text font-family=\"Times,serif\" font-size=\"14.00\" text-anchor=\"middle\" x=\"324.5\" y=\"-268.8\">dropout_1: Dropout</text>\n",
       "<polyline fill=\"none\" points=\"387,-249.5 387,-295.5 \" stroke=\"black\"/>\n",
       "<text font-family=\"Times,serif\" font-size=\"14.00\" text-anchor=\"middle\" x=\"414.5\" y=\"-280.3\">input:</text>\n",
       "<polyline fill=\"none\" points=\"387,-272.5 442,-272.5 \" stroke=\"black\"/>\n",
       "<text font-family=\"Times,serif\" font-size=\"14.00\" text-anchor=\"middle\" x=\"414.5\" y=\"-257.3\">output:</text>\n",
       "<polyline fill=\"none\" points=\"442,-249.5 442,-295.5 \" stroke=\"black\"/>\n",
       "<text font-family=\"Times,serif\" font-size=\"14.00\" text-anchor=\"middle\" x=\"483.5\" y=\"-280.3\">(None, 128)</text>\n",
       "<polyline fill=\"none\" points=\"442,-272.5 525,-272.5 \" stroke=\"black\"/>\n",
       "<text font-family=\"Times,serif\" font-size=\"14.00\" text-anchor=\"middle\" x=\"483.5\" y=\"-257.3\">(None, 128)</text>\n",
       "</g>\n",
       "<!-- 139764966673616&#45;&gt;139764969207184 -->\n",
       "<g class=\"edge\" id=\"edge9\"><title>139764966673616-&gt;139764969207184</title>\n",
       "<path d=\"M393.5,-332.366C393.5,-324.152 393.5,-314.658 393.5,-305.725\" fill=\"none\" stroke=\"black\"/>\n",
       "<polygon fill=\"black\" points=\"397,-305.607 393.5,-295.607 390,-305.607 397,-305.607\" stroke=\"black\"/>\n",
       "</g>\n",
       "<!-- 139764966794640 -->\n",
       "<g class=\"node\" id=\"node10\"><title>139764966794640</title>\n",
       "<polygon fill=\"none\" points=\"273.5,-166.5 273.5,-212.5 513.5,-212.5 513.5,-166.5 273.5,-166.5\" stroke=\"black\"/>\n",
       "<text font-family=\"Times,serif\" font-size=\"14.00\" text-anchor=\"middle\" x=\"324.5\" y=\"-185.8\">dense_1: Dense</text>\n",
       "<polyline fill=\"none\" points=\"375.5,-166.5 375.5,-212.5 \" stroke=\"black\"/>\n",
       "<text font-family=\"Times,serif\" font-size=\"14.00\" text-anchor=\"middle\" x=\"403\" y=\"-197.3\">input:</text>\n",
       "<polyline fill=\"none\" points=\"375.5,-189.5 430.5,-189.5 \" stroke=\"black\"/>\n",
       "<text font-family=\"Times,serif\" font-size=\"14.00\" text-anchor=\"middle\" x=\"403\" y=\"-174.3\">output:</text>\n",
       "<polyline fill=\"none\" points=\"430.5,-166.5 430.5,-212.5 \" stroke=\"black\"/>\n",
       "<text font-family=\"Times,serif\" font-size=\"14.00\" text-anchor=\"middle\" x=\"472\" y=\"-197.3\">(None, 128)</text>\n",
       "<polyline fill=\"none\" points=\"430.5,-189.5 513.5,-189.5 \" stroke=\"black\"/>\n",
       "<text font-family=\"Times,serif\" font-size=\"14.00\" text-anchor=\"middle\" x=\"472\" y=\"-174.3\">(None, 128)</text>\n",
       "</g>\n",
       "<!-- 139764969207184&#45;&gt;139764966794640 -->\n",
       "<g class=\"edge\" id=\"edge10\"><title>139764969207184-&gt;139764966794640</title>\n",
       "<path d=\"M393.5,-249.366C393.5,-241.152 393.5,-231.658 393.5,-222.725\" fill=\"none\" stroke=\"black\"/>\n",
       "<polygon fill=\"black\" points=\"397,-222.607 393.5,-212.607 390,-222.607 397,-222.607\" stroke=\"black\"/>\n",
       "</g>\n",
       "<!-- 139764965751760 -->\n",
       "<g class=\"node\" id=\"node11\"><title>139764965751760</title>\n",
       "<polygon fill=\"none\" points=\"262,-83.5 262,-129.5 525,-129.5 525,-83.5 262,-83.5\" stroke=\"black\"/>\n",
       "<text font-family=\"Times,serif\" font-size=\"14.00\" text-anchor=\"middle\" x=\"324.5\" y=\"-102.8\">dropout_2: Dropout</text>\n",
       "<polyline fill=\"none\" points=\"387,-83.5 387,-129.5 \" stroke=\"black\"/>\n",
       "<text font-family=\"Times,serif\" font-size=\"14.00\" text-anchor=\"middle\" x=\"414.5\" y=\"-114.3\">input:</text>\n",
       "<polyline fill=\"none\" points=\"387,-106.5 442,-106.5 \" stroke=\"black\"/>\n",
       "<text font-family=\"Times,serif\" font-size=\"14.00\" text-anchor=\"middle\" x=\"414.5\" y=\"-91.3\">output:</text>\n",
       "<polyline fill=\"none\" points=\"442,-83.5 442,-129.5 \" stroke=\"black\"/>\n",
       "<text font-family=\"Times,serif\" font-size=\"14.00\" text-anchor=\"middle\" x=\"483.5\" y=\"-114.3\">(None, 128)</text>\n",
       "<polyline fill=\"none\" points=\"442,-106.5 525,-106.5 \" stroke=\"black\"/>\n",
       "<text font-family=\"Times,serif\" font-size=\"14.00\" text-anchor=\"middle\" x=\"483.5\" y=\"-91.3\">(None, 128)</text>\n",
       "</g>\n",
       "<!-- 139764966794640&#45;&gt;139764965751760 -->\n",
       "<g class=\"edge\" id=\"edge11\"><title>139764966794640-&gt;139764965751760</title>\n",
       "<path d=\"M393.5,-166.366C393.5,-158.152 393.5,-148.658 393.5,-139.725\" fill=\"none\" stroke=\"black\"/>\n",
       "<polygon fill=\"black\" points=\"397,-139.607 393.5,-129.607 390,-139.607 397,-139.607\" stroke=\"black\"/>\n",
       "</g>\n",
       "<!-- 139764965751824 -->\n",
       "<g class=\"node\" id=\"node12\"><title>139764965751824</title>\n",
       "<polygon fill=\"none\" points=\"273.5,-0.5 273.5,-46.5 513.5,-46.5 513.5,-0.5 273.5,-0.5\" stroke=\"black\"/>\n",
       "<text font-family=\"Times,serif\" font-size=\"14.00\" text-anchor=\"middle\" x=\"324.5\" y=\"-19.8\">dense_2: Dense</text>\n",
       "<polyline fill=\"none\" points=\"375.5,-0.5 375.5,-46.5 \" stroke=\"black\"/>\n",
       "<text font-family=\"Times,serif\" font-size=\"14.00\" text-anchor=\"middle\" x=\"403\" y=\"-31.3\">input:</text>\n",
       "<polyline fill=\"none\" points=\"375.5,-23.5 430.5,-23.5 \" stroke=\"black\"/>\n",
       "<text font-family=\"Times,serif\" font-size=\"14.00\" text-anchor=\"middle\" x=\"403\" y=\"-8.3\">output:</text>\n",
       "<polyline fill=\"none\" points=\"430.5,-0.5 430.5,-46.5 \" stroke=\"black\"/>\n",
       "<text font-family=\"Times,serif\" font-size=\"14.00\" text-anchor=\"middle\" x=\"472\" y=\"-31.3\">(None, 128)</text>\n",
       "<polyline fill=\"none\" points=\"430.5,-23.5 513.5,-23.5 \" stroke=\"black\"/>\n",
       "<text font-family=\"Times,serif\" font-size=\"14.00\" text-anchor=\"middle\" x=\"472\" y=\"-8.3\">(None, 1)</text>\n",
       "</g>\n",
       "<!-- 139764965751760&#45;&gt;139764965751824 -->\n",
       "<g class=\"edge\" id=\"edge12\"><title>139764965751760-&gt;139764965751824</title>\n",
       "<path d=\"M393.5,-83.3664C393.5,-75.1516 393.5,-65.6579 393.5,-56.7252\" fill=\"none\" stroke=\"black\"/>\n",
       "<polygon fill=\"black\" points=\"397,-56.6068 393.5,-46.6068 390,-56.6069 397,-56.6068\" stroke=\"black\"/>\n",
       "</g>\n",
       "</g>\n",
       "</svg>"
      ],
      "text/plain": [
       "<IPython.core.display.SVG object>"
      ]
     },
     "execution_count": 26,
     "metadata": {},
     "output_type": "execute_result"
    }
   ],
   "source": [
    "from IPython.display import SVG\n",
    "from keras.utils.vis_utils import model_to_dot\n",
    "\n",
    "SVG(model_to_dot(model, show_shapes=True).create(prog='dot', format='svg'))"
   ]
  },
  {
   "cell_type": "code",
   "execution_count": null,
   "metadata": {},
   "outputs": [],
   "source": [
    "from keras.callbacks import EarlyStopping, ReduceLROnPlateau\n",
    "callbacks = [ReduceLROnPlateau(monitor='val_loss', factor=0.5, patience=7, min_lr=1e-6, verbose=1),\n",
    "             EarlyStopping(monitor='val_loss', patience=15)] \n",
    "\n",
    "history = model.fit([X_train, X_train_t.reshape(len(y_train), maxlen, 1)], y_train,\n",
    "                    epochs=100,\n",
    "                    callbacks=callbacks,\n",
    "                    batch_size=128,\n",
    "                    validation_data=([X_valid, X_valid_t.reshape(len(y_valid), maxlen, 1)], y_valid))"
   ]
  },
  {
   "cell_type": "code",
   "execution_count": null,
   "metadata": {},
   "outputs": [],
   "source": [
    "plt.figure(dpi=100)\n",
    "t = history.epoch\n",
    "\n",
    "plt.subplot(211)\n",
    "plt.plot(t, history.history['loss'], label='loss', color='C0')\n",
    "plt.plot(t, history.history['val_loss'], label='val_loss', color='C1')\n",
    "plt.xlabel('epochs')\n",
    "plt.ylabel('loss')\n",
    "plt.legend(loc=1)\n",
    "\n",
    "plt.subplot(212)\n",
    "plt.plot(t, history.history['acc'], label='acc', color='C2')\n",
    "plt.plot(t, history.history['val_acc'], label='val_acc', color='C3')\n",
    "plt.ylim([0.5, 1])\n",
    "plt.ylabel('acc')\n",
    "plt.xlabel('epochs')\n",
    "plt.legend(loc=1)\n",
    "\n",
    "plt.tight_layout()"
   ]
  },
  {
   "cell_type": "code",
   "execution_count": null,
   "metadata": {},
   "outputs": [],
   "source": [
    "y_pred = model.predict([X_test, X_test_t.reshape(len(y_test), maxlen, 1)]).ravel()"
   ]
  },
  {
   "cell_type": "code",
   "execution_count": null,
   "metadata": {},
   "outputs": [],
   "source": [
    "loss = metrics.log_loss(y_test, y_pred)\n",
    "acc = metrics.accuracy_score(y_test, y_pred > 0.5)\n",
    "prec = metrics.precision_score(y_test, y_pred > 0.5)\n",
    "rcll = metrics.recall_score(y_test, y_pred > 0.5)\n",
    "auc = metrics.roc_auc_score(y_test, y_pred)\n",
    "print('Test scores:\\n * Log-Loss\\t{}\\n * Accuracy:\\t{}\\n '\n",
    "      '* Precision:\\t{}\\n * Recall:\\t{}\\n * AUC: \\t{}'.format(loss, acc, prec, rcll, auc))"
   ]
  },
  {
   "cell_type": "code",
   "execution_count": null,
   "metadata": {},
   "outputs": [],
   "source": [
    "from mbspbs10pc.plotting import *\n",
    "\n",
    "# Plot non-normalized confusion matrix\n",
    "cnf_matrix = metrics.confusion_matrix(y_test, y_pred > 0.5)\n",
    "plt.figure(dpi=100)\n",
    "plot_confusion_matrix(cnf_matrix, classes=['METONLY', 'METX'],\n",
    "                      title='Confusion matrix', cmap=plt.cm.Blues);"
   ]
  },
  {
   "cell_type": "markdown",
   "metadata": {},
   "source": [
    "**TOP results so far [6341 training / 705 validation / 4698 test]**\n",
    "\n",
    "Test scores:\n",
    " * Log-Loss\t0.425300993082\n",
    " * Accuracy:\t0.810131971052\n",
    " * Precision:\t0.817983413357\n",
    " * Recall:\t0.797786292039\n",
    " * AUC: \t0.894714579232"
   ]
  },
  {
   "cell_type": "code",
   "execution_count": null,
   "metadata": {},
   "outputs": [],
   "source": [
    "# model.save_weights('model.h5')"
   ]
  },
  {
   "cell_type": "code",
   "execution_count": null,
   "metadata": {},
   "outputs": [],
   "source": [
    "model.load_weights('model.h5')"
   ]
  },
  {
   "cell_type": "markdown",
   "metadata": {},
   "source": [
    "# Attention viz"
   ]
  },
  {
   "cell_type": "code",
   "execution_count": null,
   "metadata": {},
   "outputs": [],
   "source": [
    "from mbspbs10pc import read_activations\n",
    "reload(read_activations);\n",
    "\n",
    "_x_test = [X_test, X_test_t.reshape(len(y_test), maxlen, 1)]\n",
    "a = read_activations.get_activations(model, _x_test, print_shape_only=True, layer_name='attention_matrix')"
   ]
  },
  {
   "cell_type": "code",
   "execution_count": null,
   "metadata": {},
   "outputs": [],
   "source": [
    "true_pos_idx = np.where(np.logical_and(y_test == 1, y_pred >= 0.5))[0]\n",
    "true_neg_idx = np.where(np.logical_and(y_test == 0, y_pred < 0.5))[0]\n",
    "false_pos_idx = np.where(np.logical_and(y_test == 1, y_pred < 0.5))[0]\n",
    "false_neg_idx = np.where(np.logical_and(y_test == 0, y_pred >= 0.5))[0]"
   ]
  },
  {
   "cell_type": "code",
   "execution_count": null,
   "metadata": {},
   "outputs": [],
   "source": [
    "def get_att(att, idx):\n",
    "    return np.mean(np.mean(att[0][idx, :, :], axis=0), axis=0)\n",
    "\n",
    "true_pos_att = get_att(a, true_pos_idx)\n",
    "true_neg_att = get_att(a, true_neg_idx)\n",
    "false_pos_att = get_att(a, false_pos_idx)\n",
    "false_neg_att = get_att(a, false_neg_idx)"
   ]
  },
  {
   "cell_type": "code",
   "execution_count": null,
   "metadata": {},
   "outputs": [],
   "source": [
    "plt.figure(dpi=100)\n",
    "plt.title('true pos att')\n",
    "plt.plot(np.arange(445), true_pos_att, 'o');"
   ]
  },
  {
   "cell_type": "code",
   "execution_count": null,
   "metadata": {},
   "outputs": [],
   "source": [
    "plt.figure(dpi=100)\n",
    "plt.title('true neg att')\n",
    "plt.plot(np.arange(445), true_neg_att, 'o');"
   ]
  },
  {
   "cell_type": "code",
   "execution_count": null,
   "metadata": {},
   "outputs": [],
   "source": [
    "plt.figure(dpi=100)\n",
    "plt.title('false pos att')\n",
    "plt.plot(np.arange(445), false_pos_att, 'o');"
   ]
  },
  {
   "cell_type": "code",
   "execution_count": null,
   "metadata": {},
   "outputs": [],
   "source": [
    "plt.figure(dpi=100)\n",
    "plt.title('false neg att')\n",
    "plt.plot(np.arange(445), false_neg_att, 'o');"
   ]
  },
  {
   "cell_type": "code",
   "execution_count": null,
   "metadata": {},
   "outputs": [],
   "source": []
  }
 ],
 "metadata": {
  "kernelspec": {
   "display_name": "Python 2",
   "language": "python",
   "name": "python2"
  },
  "language_info": {
   "codemirror_mode": {
    "name": "ipython",
    "version": 2
   },
   "file_extension": ".py",
   "mimetype": "text/x-python",
   "name": "python",
   "nbconvert_exporter": "python",
   "pygments_lexer": "ipython2",
   "version": "2.7.14"
  }
 },
 "nbformat": 4,
 "nbformat_minor": 2
}
