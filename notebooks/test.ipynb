{
 "cells": [
  {
   "cell_type": "code",
   "execution_count": 85,
   "metadata": {},
   "outputs": [
    {
     "name": "stdout",
     "output_type": "stream",
     "text": [
      "The autoreload extension is already loaded. To reload it, use:\n",
      "  %reload_ext autoreload\n"
     ]
    }
   ],
   "source": [
    "%matplotlib inline\n",
    "%load_ext autoreload"
   ]
  },
  {
   "cell_type": "code",
   "execution_count": 86,
   "metadata": {},
   "outputs": [],
   "source": [
    "import os\n",
    "import sys\n",
    "import numpy as np\n",
    "import pandas as pd\n",
    "import matplotlib.pyplot as plt\n",
    "\n",
    "sys.path.append('../../mbspbs10pc')\n",
    "\n",
    "from mbspbs10pc import utils"
   ]
  },
  {
   "cell_type": "markdown",
   "metadata": {},
   "source": [
    "# Check MBS-PBS 10% data availability"
   ]
  },
  {
   "cell_type": "code",
   "execution_count": 87,
   "metadata": {},
   "outputs": [
    {
     "name": "stdout",
     "output_type": "stream",
     "text": [
      "MBS files:\n",
      "../../../data/MBS_SAMPLE_10PCT_2013.csv\n",
      "../../../data/MBS_SAMPLE_10PCT_2012.csv\n",
      "../../../data/MBS_SAMPLE_10PCT_2010.csv\n",
      "../../../data/MBS_SAMPLE_10PCT_2011.csv\n",
      "../../../data/MBS_SAMPLE_10PCT_2014.csv\n",
      "../../../data/MBS_SAMPLE_10PCT_2008.csv\n",
      "../../../data/MBS_SAMPLE_10PCT_2009.csv\n",
      "PBS files:\n",
      "../../../data/PBS_SAMPLE_10PCT_2012.csv\n",
      "../../../data/PBS_SAMPLE_10PCT_2013.csv\n",
      "../../../data/PBS_SAMPLE_10PCT_2011.csv\n",
      "../../../data/PBS_SAMPLE_10PCT_2010.csv\n",
      "../../../data/PBS_SAMPLE_10PCT_2009.csv\n",
      "../../../data/PBS_SAMPLE_10PCT_2008.csv\n",
      "Sample PIN lookout: ../../../data/SAMPLE_PIN_LOOKUP.csv\n"
     ]
    }
   ],
   "source": [
    "ROOT = os.path.join('..','..','..','data')\n",
    "\n",
    "mbs_files = filter(lambda x: x.startswith('MBS'), os.listdir(ROOT))\n",
    "pbs_files = filter(lambda x: x.startswith('PBS'), os.listdir(ROOT))\n",
    "sample_pin_lookout = filter(lambda x: x.startswith('SAMPLE'), os.listdir(ROOT))[0]\n",
    "\n",
    "print('MBS files:')\n",
    "for mbs in mbs_files:\n",
    "    print('{}'.format(os.path.join(ROOT, mbs)))\n",
    "    \n",
    "print('PBS files:')\n",
    "for pbs in pbs_files:\n",
    "    print('{}'.format(os.path.join(ROOT, pbs)))\n",
    "    \n",
    "print('Sample PIN lookout: {}'.format(os.path.join(ROOT, sample_pin_lookout)))"
   ]
  },
  {
   "cell_type": "markdown",
   "metadata": {},
   "source": [
    "# PBS take a look"
   ]
  },
  {
   "cell_type": "code",
   "execution_count": 89,
   "metadata": {},
   "outputs": [
    {
     "name": "stdout",
     "output_type": "stream",
     "text": [
      "PBS_SAMPLE_10PCT_2008.csv\n"
     ]
    },
    {
     "data": {
      "text/plain": [
       "(1000, 13)"
      ]
     },
     "execution_count": 89,
     "metadata": {},
     "output_type": "execute_result"
    }
   ],
   "source": [
    "filename = pbs_files[-1]\n",
    "print(filename)\n",
    "df = pd.read_csv(os.path.join(ROOT, '{}'.format(filename)), header=0, index_col=0, nrows=1000)\n",
    "df.shape"
   ]
  },
  {
   "cell_type": "code",
   "execution_count": 90,
   "metadata": {},
   "outputs": [
    {
     "data": {
      "text/html": [
       "<div>\n",
       "<style scoped>\n",
       "    .dataframe tbody tr th:only-of-type {\n",
       "        vertical-align: middle;\n",
       "    }\n",
       "\n",
       "    .dataframe tbody tr th {\n",
       "        vertical-align: top;\n",
       "    }\n",
       "\n",
       "    .dataframe thead th {\n",
       "        text-align: right;\n",
       "    }\n",
       "</style>\n",
       "<table border=\"1\" class=\"dataframe\">\n",
       "  <thead>\n",
       "    <tr style=\"text-align: right;\">\n",
       "      <th></th>\n",
       "      <th>SPPLY_DT</th>\n",
       "      <th>ITM_CD</th>\n",
       "      <th>PBS_RGLTN24_ADJST_QTY</th>\n",
       "      <th>BNFT_AMT</th>\n",
       "      <th>PTNT_CNTRBTN_AMT</th>\n",
       "      <th>SRT_RPT_IND</th>\n",
       "      <th>RGLTN24_IND</th>\n",
       "      <th>DRG_TYP_CD</th>\n",
       "      <th>MJR_SPCLTY_GRP_CD</th>\n",
       "      <th>UNDR_CPRSCRPTN_TYP_CD</th>\n",
       "      <th>PRSCRPTN_CNT</th>\n",
       "      <th>PTNT_CTGRY_DRVD_CD</th>\n",
       "      <th>PTNT_STATE</th>\n",
       "    </tr>\n",
       "    <tr>\n",
       "      <th>PTNT_ID</th>\n",
       "      <th></th>\n",
       "      <th></th>\n",
       "      <th></th>\n",
       "      <th></th>\n",
       "      <th></th>\n",
       "      <th></th>\n",
       "      <th></th>\n",
       "      <th></th>\n",
       "      <th></th>\n",
       "      <th></th>\n",
       "      <th></th>\n",
       "      <th></th>\n",
       "      <th></th>\n",
       "    </tr>\n",
       "  </thead>\n",
       "  <tbody>\n",
       "    <tr>\n",
       "      <th>9772479275</th>\n",
       "      <td>05MAY2008</td>\n",
       "      <td>01171P</td>\n",
       "      <td>1</td>\n",
       "      <td>3.63</td>\n",
       "      <td>5.0</td>\n",
       "      <td>NaN</td>\n",
       "      <td>N</td>\n",
       "      <td>GE</td>\n",
       "      <td>1.0</td>\n",
       "      <td>NaN</td>\n",
       "      <td>1</td>\n",
       "      <td>C1</td>\n",
       "      <td>QLD</td>\n",
       "    </tr>\n",
       "    <tr>\n",
       "      <th>8114957183</th>\n",
       "      <td>06JUN2008</td>\n",
       "      <td>08681X</td>\n",
       "      <td>20</td>\n",
       "      <td>14.74</td>\n",
       "      <td>5.0</td>\n",
       "      <td>NaN</td>\n",
       "      <td>N</td>\n",
       "      <td>GE</td>\n",
       "      <td>1.0</td>\n",
       "      <td>NaN</td>\n",
       "      <td>1</td>\n",
       "      <td>C1</td>\n",
       "      <td>WA</td>\n",
       "    </tr>\n",
       "    <tr>\n",
       "      <th>8866313366</th>\n",
       "      <td>14DEC2008</td>\n",
       "      <td>01325R</td>\n",
       "      <td>60</td>\n",
       "      <td>6.60</td>\n",
       "      <td>5.0</td>\n",
       "      <td>NaN</td>\n",
       "      <td>N</td>\n",
       "      <td>GE</td>\n",
       "      <td>1.0</td>\n",
       "      <td>NaN</td>\n",
       "      <td>1</td>\n",
       "      <td>G1</td>\n",
       "      <td>WA</td>\n",
       "    </tr>\n",
       "    <tr>\n",
       "      <th>8493121914</th>\n",
       "      <td>15NOV2008</td>\n",
       "      <td>02236Q</td>\n",
       "      <td>30</td>\n",
       "      <td>24.23</td>\n",
       "      <td>0.0</td>\n",
       "      <td>R</td>\n",
       "      <td>N</td>\n",
       "      <td>GE</td>\n",
       "      <td>1.0</td>\n",
       "      <td>NaN</td>\n",
       "      <td>1</td>\n",
       "      <td>C0</td>\n",
       "      <td>VIC</td>\n",
       "    </tr>\n",
       "    <tr>\n",
       "      <th>5124189855</th>\n",
       "      <td>01SEP2008</td>\n",
       "      <td>02745L</td>\n",
       "      <td>2</td>\n",
       "      <td>45.29</td>\n",
       "      <td>5.0</td>\n",
       "      <td>NaN</td>\n",
       "      <td>N</td>\n",
       "      <td>GE</td>\n",
       "      <td>2.0</td>\n",
       "      <td>NaN</td>\n",
       "      <td>1</td>\n",
       "      <td>G1</td>\n",
       "      <td>VIC</td>\n",
       "    </tr>\n",
       "  </tbody>\n",
       "</table>\n",
       "</div>"
      ],
      "text/plain": [
       "             SPPLY_DT  ITM_CD  PBS_RGLTN24_ADJST_QTY  BNFT_AMT  \\\n",
       "PTNT_ID                                                          \n",
       "9772479275  05MAY2008  01171P                      1      3.63   \n",
       "8114957183  06JUN2008  08681X                     20     14.74   \n",
       "8866313366  14DEC2008  01325R                     60      6.60   \n",
       "8493121914  15NOV2008  02236Q                     30     24.23   \n",
       "5124189855  01SEP2008  02745L                      2     45.29   \n",
       "\n",
       "            PTNT_CNTRBTN_AMT SRT_RPT_IND RGLTN24_IND DRG_TYP_CD  \\\n",
       "PTNT_ID                                                           \n",
       "9772479275               5.0         NaN           N         GE   \n",
       "8114957183               5.0         NaN           N         GE   \n",
       "8866313366               5.0         NaN           N         GE   \n",
       "8493121914               0.0           R           N         GE   \n",
       "5124189855               5.0         NaN           N         GE   \n",
       "\n",
       "            MJR_SPCLTY_GRP_CD  UNDR_CPRSCRPTN_TYP_CD  PRSCRPTN_CNT  \\\n",
       "PTNT_ID                                                              \n",
       "9772479275                1.0                    NaN             1   \n",
       "8114957183                1.0                    NaN             1   \n",
       "8866313366                1.0                    NaN             1   \n",
       "8493121914                1.0                    NaN             1   \n",
       "5124189855                2.0                    NaN             1   \n",
       "\n",
       "           PTNT_CTGRY_DRVD_CD PTNT_STATE  \n",
       "PTNT_ID                                   \n",
       "9772479275                 C1        QLD  \n",
       "8114957183                 C1         WA  \n",
       "8866313366                 G1         WA  \n",
       "8493121914                 C0        VIC  \n",
       "5124189855                 G1        VIC  "
      ]
     },
     "execution_count": 90,
     "metadata": {},
     "output_type": "execute_result"
    }
   ],
   "source": [
    "df.head()"
   ]
  },
  {
   "cell_type": "markdown",
   "metadata": {},
   "source": [
    "# Drugs used in diabetes"
   ]
  },
  {
   "cell_type": "code",
   "execution_count": 91,
   "metadata": {},
   "outputs": [
    {
     "name": "stdout",
     "output_type": "stream",
     "text": [
      "(76, 1)\n"
     ]
    }
   ],
   "source": [
    "_dd = pd.read_csv(os.path.join('..', 'data', 'drugs_used_in_diabetes.csv'), header=0)\n",
    "\n",
    "# Fix 6-digit notation\n",
    "dd = set()\n",
    "for item in _dd.values.ravel():\n",
    "    if len(item)<6:\n",
    "        dd.add(str(0)+item)\n",
    "    else:\n",
    "        dd.add(item)\n",
    "\n",
    "# FIXME - exclude Metformins and Sulfonamides\n",
    "dd = pd.DataFrame(data=list(dd), columns=_dd.columns)\n",
    "ms = pd.read_csv(os.path.join('..', 'data', 'metformins_sulfonamides.csv'), header=0)\n",
    "mask = []\n",
    "for d in dd.values:\n",
    "    mask.append(d not in ms.values)\n",
    "dd = pd.DataFrame(data=dd.values[mask], columns=dd.columns)\n",
    "print(dd.shape)"
   ]
  },
  {
   "cell_type": "code",
   "execution_count": 92,
   "metadata": {},
   "outputs": [
    {
     "data": {
      "text/html": [
       "<div>\n",
       "<style scoped>\n",
       "    .dataframe tbody tr th:only-of-type {\n",
       "        vertical-align: middle;\n",
       "    }\n",
       "\n",
       "    .dataframe tbody tr th {\n",
       "        vertical-align: top;\n",
       "    }\n",
       "\n",
       "    .dataframe thead th {\n",
       "        text-align: right;\n",
       "    }\n",
       "</style>\n",
       "<table border=\"1\" class=\"dataframe\">\n",
       "  <thead>\n",
       "    <tr style=\"text-align: right;\">\n",
       "      <th></th>\n",
       "      <th>ITM_CD</th>\n",
       "    </tr>\n",
       "  </thead>\n",
       "  <tbody>\n",
       "    <tr>\n",
       "      <th>0</th>\n",
       "      <td>09061X</td>\n",
       "    </tr>\n",
       "    <tr>\n",
       "      <th>1</th>\n",
       "      <td>09180E</td>\n",
       "    </tr>\n",
       "    <tr>\n",
       "      <th>2</th>\n",
       "      <td>10649L</td>\n",
       "    </tr>\n",
       "    <tr>\n",
       "      <th>3</th>\n",
       "      <td>01763T</td>\n",
       "    </tr>\n",
       "    <tr>\n",
       "      <th>4</th>\n",
       "      <td>09449H</td>\n",
       "    </tr>\n",
       "  </tbody>\n",
       "</table>\n",
       "</div>"
      ],
      "text/plain": [
       "   ITM_CD\n",
       "0  09061X\n",
       "1  09180E\n",
       "2  10649L\n",
       "3  01763T\n",
       "4  09449H"
      ]
     },
     "execution_count": 92,
     "metadata": {},
     "output_type": "execute_result"
    }
   ],
   "source": [
    "dd.head()"
   ]
  },
  {
   "cell_type": "code",
   "execution_count": 93,
   "metadata": {},
   "outputs": [],
   "source": [
    "dd_set = set(list(dd.values.ravel()))"
   ]
  },
  {
   "cell_type": "markdown",
   "metadata": {},
   "source": [
    "# Filter diabetes"
   ]
  },
  {
   "cell_type": "code",
   "execution_count": 146,
   "metadata": {},
   "outputs": [
    {
     "data": {
      "text/html": [
       "<div>\n",
       "<style scoped>\n",
       "    .dataframe tbody tr th:only-of-type {\n",
       "        vertical-align: middle;\n",
       "    }\n",
       "\n",
       "    .dataframe tbody tr th {\n",
       "        vertical-align: top;\n",
       "    }\n",
       "\n",
       "    .dataframe thead th {\n",
       "        text-align: right;\n",
       "    }\n",
       "</style>\n",
       "<table border=\"1\" class=\"dataframe\">\n",
       "  <thead>\n",
       "    <tr style=\"text-align: right;\">\n",
       "      <th></th>\n",
       "      <th>SPPLY_DT</th>\n",
       "      <th>ITM_CD</th>\n",
       "      <th>BNFT_AMT</th>\n",
       "      <th>PTNT_CNTRBTN_AMT</th>\n",
       "    </tr>\n",
       "  </thead>\n",
       "  <tbody>\n",
       "    <tr>\n",
       "      <th>0</th>\n",
       "      <td>23NOV2011</td>\n",
       "      <td>09110L</td>\n",
       "      <td>28.19</td>\n",
       "      <td>0.0</td>\n",
       "    </tr>\n",
       "    <tr>\n",
       "      <th>1</th>\n",
       "      <td>05JUL2011</td>\n",
       "      <td>01558B</td>\n",
       "      <td>6.96</td>\n",
       "      <td>5.6</td>\n",
       "    </tr>\n",
       "    <tr>\n",
       "      <th>2</th>\n",
       "      <td>17SEP2011</td>\n",
       "      <td>08008L</td>\n",
       "      <td>30.71</td>\n",
       "      <td>0.0</td>\n",
       "    </tr>\n",
       "    <tr>\n",
       "      <th>3</th>\n",
       "      <td>23JUN2011</td>\n",
       "      <td>02843P</td>\n",
       "      <td>6.82</td>\n",
       "      <td>5.6</td>\n",
       "    </tr>\n",
       "    <tr>\n",
       "      <th>4</th>\n",
       "      <td>24MAR2011</td>\n",
       "      <td>08784H</td>\n",
       "      <td>5.10</td>\n",
       "      <td>0.0</td>\n",
       "    </tr>\n",
       "  </tbody>\n",
       "</table>\n",
       "</div>"
      ],
      "text/plain": [
       "    SPPLY_DT  ITM_CD  BNFT_AMT  PTNT_CNTRBTN_AMT\n",
       "0  23NOV2011  09110L     28.19               0.0\n",
       "1  05JUL2011  01558B      6.96               5.6\n",
       "2  17SEP2011  08008L     30.71               0.0\n",
       "3  23JUN2011  02843P      6.82               5.6\n",
       "4  24MAR2011  08784H      5.10               0.0"
      ]
     },
     "execution_count": 146,
     "metadata": {},
     "output_type": "execute_result"
    }
   ],
   "source": [
    "filename = 'PBS_SAMPLE_10PCT_2011.csv'\n",
    "costs = pd.read_csv(os.path.join(ROOT, '{}'.format(filename)), header=0,\n",
    "                    usecols=['BNFT_AMT', 'PTNT_CNTRBTN_AMT', 'ITM_CD', 'SPPLY_DT'])\n",
    "costs.head()"
   ]
  },
  {
   "cell_type": "code",
   "execution_count": 147,
   "metadata": {},
   "outputs": [
    {
     "name": "stdout",
     "output_type": "stream",
     "text": [
      "(215228, 4)\n"
     ]
    }
   ],
   "source": [
    "dd_costs = costs.loc[costs['ITM_CD'].isin(dd_set)]\n",
    "print(dd_costs.shape)"
   ]
  },
  {
   "cell_type": "code",
   "execution_count": 148,
   "metadata": {},
   "outputs": [
    {
     "name": "stderr",
     "output_type": "stream",
     "text": [
      "/Users/samu/miniconda2/lib/python2.7/site-packages/ipykernel/__main__.py:1: SettingWithCopyWarning: \n",
      "A value is trying to be set on a copy of a slice from a DataFrame.\n",
      "Try using .loc[row_indexer,col_indexer] = value instead\n",
      "\n",
      "See the caveats in the documentation: http://pandas.pydata.org/pandas-docs/stable/indexing.html#indexing-view-versus-copy\n",
      "  if __name__ == '__main__':\n"
     ]
    }
   ],
   "source": [
    "dd_costs['TOT'] = dd_costs['BNFT_AMT'] + dd_costs['PTNT_CNTRBTN_AMT']"
   ]
  },
  {
   "cell_type": "code",
   "execution_count": 149,
   "metadata": {},
   "outputs": [
    {
     "data": {
      "text/html": [
       "<div>\n",
       "<style scoped>\n",
       "    .dataframe tbody tr th:only-of-type {\n",
       "        vertical-align: middle;\n",
       "    }\n",
       "\n",
       "    .dataframe tbody tr th {\n",
       "        vertical-align: top;\n",
       "    }\n",
       "\n",
       "    .dataframe thead th {\n",
       "        text-align: right;\n",
       "    }\n",
       "</style>\n",
       "<table border=\"1\" class=\"dataframe\">\n",
       "  <thead>\n",
       "    <tr style=\"text-align: right;\">\n",
       "      <th></th>\n",
       "      <th>SPPLY_DT</th>\n",
       "      <th>ITM_CD</th>\n",
       "      <th>BNFT_AMT</th>\n",
       "      <th>PTNT_CNTRBTN_AMT</th>\n",
       "      <th>TOT</th>\n",
       "    </tr>\n",
       "  </thead>\n",
       "  <tbody>\n",
       "    <tr>\n",
       "      <th>3724230</th>\n",
       "      <td>23NOV2011</td>\n",
       "      <td>08694N</td>\n",
       "      <td>3.11</td>\n",
       "      <td>0.0</td>\n",
       "      <td>3.11</td>\n",
       "    </tr>\n",
       "    <tr>\n",
       "      <th>854527</th>\n",
       "      <td>26DEC2011</td>\n",
       "      <td>08838E</td>\n",
       "      <td>0.31</td>\n",
       "      <td>5.8</td>\n",
       "      <td>6.11</td>\n",
       "    </tr>\n",
       "    <tr>\n",
       "      <th>4705379</th>\n",
       "      <td>06OCT2011</td>\n",
       "      <td>08811R</td>\n",
       "      <td>3.54</td>\n",
       "      <td>5.6</td>\n",
       "      <td>9.14</td>\n",
       "    </tr>\n",
       "    <tr>\n",
       "      <th>12463310</th>\n",
       "      <td>28JAN2011</td>\n",
       "      <td>08838E</td>\n",
       "      <td>7.62</td>\n",
       "      <td>5.6</td>\n",
       "      <td>13.22</td>\n",
       "    </tr>\n",
       "    <tr>\n",
       "      <th>14740494</th>\n",
       "      <td>02DEC2011</td>\n",
       "      <td>08838E</td>\n",
       "      <td>7.62</td>\n",
       "      <td>5.6</td>\n",
       "      <td>13.22</td>\n",
       "    </tr>\n",
       "  </tbody>\n",
       "</table>\n",
       "</div>"
      ],
      "text/plain": [
       "           SPPLY_DT  ITM_CD  BNFT_AMT  PTNT_CNTRBTN_AMT    TOT\n",
       "3724230   23NOV2011  08694N      3.11               0.0   3.11\n",
       "854527    26DEC2011  08838E      0.31               5.8   6.11\n",
       "4705379   06OCT2011  08811R      3.54               5.6   9.14\n",
       "12463310  28JAN2011  08838E      7.62               5.6  13.22\n",
       "14740494  02DEC2011  08838E      7.62               5.6  13.22"
      ]
     },
     "execution_count": 149,
     "metadata": {},
     "output_type": "execute_result"
    }
   ],
   "source": [
    "dd_costs.sort_values(by='TOT').head()"
   ]
  },
  {
   "cell_type": "code",
   "execution_count": 150,
   "metadata": {},
   "outputs": [
    {
     "data": {
      "text/plain": [
       "Text(0.5,1,u'2011')"
      ]
     },
     "execution_count": 150,
     "metadata": {},
     "output_type": "execute_result"
    },
    {
     "data": {
      "image/png": "[encoded data removed]",
      "text/plain": [
       "<matplotlib.figure.Figure at 0x1221043d0>"
      ]
     },
     "metadata": {},
     "output_type": "display_data"
    }
   ],
   "source": [
    "plt.hist(dd_costs['TOT'], bins=200)\n",
    "plt.xlim([0,200])\n",
    "plt.title(2011)"
   ]
  },
  {
   "cell_type": "code",
   "execution_count": 145,
   "metadata": {},
   "outputs": [
    {
     "data": {
      "text/plain": [
       "Text(0.5,1,u'2012')"
      ]
     },
     "execution_count": 145,
     "metadata": {},
     "output_type": "execute_result"
    },
    {
     "data": {
      "image/png": "[encoded data removed]",
      "text/plain": [
       "<matplotlib.figure.Figure at 0x11bdbb190>"
      ]
     },
     "metadata": {},
     "output_type": "display_data"
    }
   ],
   "source": [
    "plt.hist(dd_costs['TOT'], bins=200)\n",
    "plt.xlim([0,200])\n",
    "plt.title(2012)"
   ]
  },
  {
   "cell_type": "code",
   "execution_count": 119,
   "metadata": {},
   "outputs": [],
   "source": [
    "#costs[np.logical_and(costs['PTNT_CNTRBTN_AMT'] > 35.4, costs['ITM_CD'].isin(dd_set))]"
   ]
  },
  {
   "cell_type": "code",
   "execution_count": 120,
   "metadata": {},
   "outputs": [
    {
     "name": "stdout",
     "output_type": "stream",
     "text": [
      "Reading 2008\n"
     ]
    }
   ],
   "source": [
    "over_copayment = []\n",
    "below_copayment = []\n",
    "thresholds = [31.3, 32.9, 33.3, 34.2, 35.4, 36.1]\n",
    "\n",
    "for year, thresh in zip(np.arange(2008,2014), thresholds):\n",
    "    print('Reading {}'.format(year))\n",
    "    filename = 'PBS_SAMPLE_10PCT_'+str(year)+'.csv'\n",
    "    costs = pd.read_csv(os.path.join(ROOT, '{}'.format(filename)), header=0,\n",
    "                        usecols=['BNFT_AMT', 'PTNT_CNTRBTN_AMT', 'ITM_CD', 'SPPLY_DT'])\n",
    "    dd_costs = costs.loc[costs['ITM_CD'].isin(dd_set)] # filter for diabetes\n",
    "    \n",
    "    c = dd_costs['BNFT_AMT'] + dd_costs['PTNT_CNTRBTN_AMT']\n",
    "    \n",
    "    break"
   ]
  },
  {
   "cell_type": "code",
   "execution_count": 124,
   "metadata": {},
   "outputs": [
    {
     "data": {
      "text/plain": [
       "114891"
      ]
     },
     "execution_count": 124,
     "metadata": {},
     "output_type": "execute_result"
    }
   ],
   "source": [
    "len(np.where(c > thresh)[0])"
   ]
  },
  {
   "cell_type": "code",
   "execution_count": 126,
   "metadata": {},
   "outputs": [
    {
     "data": {
      "text/plain": [
       "125842"
      ]
     },
     "execution_count": 126,
     "metadata": {},
     "output_type": "execute_result"
    }
   ],
   "source": [
    "len(c)"
   ]
  },
  {
   "cell_type": "markdown",
   "metadata": {},
   "source": [
    "# Costs plot"
   ]
  },
  {
   "cell_type": "code",
   "execution_count": 114,
   "metadata": {},
   "outputs": [],
   "source": [
    "#idx = np.where(np.logical_and(costs['PTNT_CNTRBTN_AMT'].values > 0, costs['PTNT_CNTRBTN_AMT'].values < 50))"
   ]
  },
  {
   "cell_type": "code",
   "execution_count": 115,
   "metadata": {},
   "outputs": [
    {
     "name": "stdout",
     "output_type": "stream",
     "text": [
      "0.17\n"
     ]
    }
   ],
   "source": [
    "xx = dd_costs['BNFT_AMT']\n",
    "print(xx.min())"
   ]
  },
  {
   "cell_type": "code",
   "execution_count": null,
   "metadata": {},
   "outputs": [],
   "source": []
  },
  {
   "cell_type": "code",
   "execution_count": 109,
   "metadata": {},
   "outputs": [
    {
     "data": {
      "image/png": "[encoded data removed]",
      "text/plain": [
       "<matplotlib.figure.Figure at 0x118b29390>"
      ]
     },
     "metadata": {},
     "output_type": "display_data"
    }
   ],
   "source": [
    "plt.figure(dpi=100)\n",
    "plt.hist(xx, bins=25);"
   ]
  },
  {
   "cell_type": "code",
   "execution_count": null,
   "metadata": {},
   "outputs": [],
   "source": []
  },
  {
   "cell_type": "markdown",
   "metadata": {},
   "source": [
    "# Summary plots"
   ]
  },
  {
   "cell_type": "code",
   "execution_count": 151,
   "metadata": {},
   "outputs": [],
   "source": [
    "import cPickle as pkl\n",
    "\n",
    "with open('../tmp/df3.pkl','rb') as f:\n",
    "    dfy = pkl.load(f)"
   ]
  },
  {
   "cell_type": "code",
   "execution_count": 155,
   "metadata": {},
   "outputs": [
    {
     "data": {
      "image/png": "[encoded data removed]",
      "text/plain": [
       "<matplotlib.figure.Figure at 0x120e1c450>"
      ]
     },
     "metadata": {},
     "output_type": "display_data"
    }
   ],
   "source": [
    "plt.figure(dpi=100)\n",
    "lengths = [len(dfy['PBS_SAMPLE_10PCT_'+str(k)+'.csv']) for k in np.arange(2008,2014)]\n",
    "plt.plot(np.arange(2008,2014), lengths, '-o')\n",
    "plt.ylabel('#people using drugs for diabetes')\n",
    "plt.ylim([0, 50000])\n",
    "plt.savefig('../tmp/people_using_dd.png');"
   ]
  },
  {
   "cell_type": "code",
   "execution_count": 153,
   "metadata": {},
   "outputs": [],
   "source": [
    "starting = []\n",
    "for target_year in np.arange(2009, 2014):\n",
    "    # From the target year, go backward and find the subjects\n",
    "    # that were prescribed with diabete control drugs for the\n",
    "    # first time\n",
    "    positive_subjects = set(dfy['PBS_SAMPLE_10PCT_'+str(target_year)+'.csv'])\n",
    "\n",
    "    for year in np.arange(2008, target_year)[::-1]:\n",
    "        curr = set(dfy['PBS_SAMPLE_10PCT_'+str(year)+'.csv'])\n",
    "        positive_subjects = set(filter(lambda x: x not in curr, positive_subjects))\n",
    "    starting.append(len(positive_subjects))"
   ]
  },
  {
   "cell_type": "code",
   "execution_count": 154,
   "metadata": {},
   "outputs": [
    {
     "data": {
      "image/png": "[encoded data removed]",
      "text/plain": [
       "<matplotlib.figure.Figure at 0x11c8b9dd0>"
      ]
     },
     "metadata": {},
     "output_type": "display_data"
    }
   ],
   "source": [
    "plt.figure(dpi=100)\n",
    "plt.bar(np.arange(len(starting)), starting)\n",
    "plt.xticks(np.arange(len(starting)), np.arange(2009, 2014))\n",
    "plt.ylabel('#people started using drugs for diabetes')\n",
    "plt.title('Max value is: {} achieved in {}'.format(np.max(starting),\n",
    "                                             np.arange(2009, 2014)[np.argmax(starting)]))\n",
    "plt.savefig('../tmp/people_started_using_dd.png');"
   ]
  },
  {
   "cell_type": "code",
   "execution_count": null,
   "metadata": {},
   "outputs": [],
   "source": []
  }
 ],
 "metadata": {
  "anaconda-cloud": {},
  "kernelspec": {
   "display_name": "Python [default]",
   "language": "python",
   "name": "python2"
  },
  "language_info": {
   "codemirror_mode": {
    "name": "ipython",
    "version": 2
   },
   "file_extension": ".py",
   "mimetype": "text/x-python",
   "name": "python",
   "nbconvert_exporter": "python",
   "pygments_lexer": "ipython2",
   "version": "2.7.14"
  }
 },
 "nbformat": 4,
 "nbformat_minor": 2
}
