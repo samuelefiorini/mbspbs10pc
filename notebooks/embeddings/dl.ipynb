{
 "cells": [
  {
   "cell_type": "code",
   "execution_count": 1,
   "metadata": {},
   "outputs": [
    {
     "name": "stderr",
     "output_type": "stream",
     "text": [
      "Using TensorFlow backend.\n"
     ]
    }
   ],
   "source": [
    "%matplotlib inline\n",
    "import pandas as pd\n",
    "import numpy as np\n",
    "import joblib as jl\n",
    "import matplotlib.pyplot as plt\n",
    "import warnings\n",
    "warnings.filterwarnings('ignore')\n",
    "\n",
    "from sklearn.model_selection import StratifiedShuffleSplit\n",
    "\n",
    "from keras.preprocessing.text import Tokenizer\n",
    "from keras.preprocessing.sequence import pad_sequences\n",
    "\n",
    "root = 'dl'"
   ]
  },
  {
   "cell_type": "markdown",
   "metadata": {},
   "source": [
    "# Load raw data"
   ]
  },
  {
   "cell_type": "code",
   "execution_count": 2,
   "metadata": {},
   "outputs": [
    {
     "data": {
      "text/html": [
       "<div>\n",
       "<style scoped>\n",
       "    .dataframe tbody tr th:only-of-type {\n",
       "        vertical-align: middle;\n",
       "    }\n",
       "\n",
       "    .dataframe tbody tr th {\n",
       "        vertical-align: top;\n",
       "    }\n",
       "\n",
       "    .dataframe thead th {\n",
       "        text-align: right;\n",
       "    }\n",
       "</style>\n",
       "<table border=\"1\" class=\"dataframe\">\n",
       "  <thead>\n",
       "    <tr style=\"text-align: right;\">\n",
       "      <th></th>\n",
       "      <th>CLASS</th>\n",
       "    </tr>\n",
       "    <tr>\n",
       "      <th>PIN</th>\n",
       "      <th></th>\n",
       "    </tr>\n",
       "  </thead>\n",
       "  <tbody>\n",
       "    <tr>\n",
       "      <th>568483</th>\n",
       "      <td>1</td>\n",
       "    </tr>\n",
       "    <tr>\n",
       "      <th>923748</th>\n",
       "      <td>0</td>\n",
       "    </tr>\n",
       "    <tr>\n",
       "      <th>2035328</th>\n",
       "      <td>0</td>\n",
       "    </tr>\n",
       "    <tr>\n",
       "      <th>2239386</th>\n",
       "      <td>1</td>\n",
       "    </tr>\n",
       "    <tr>\n",
       "      <th>2244533</th>\n",
       "      <td>1</td>\n",
       "    </tr>\n",
       "  </tbody>\n",
       "</table>\n",
       "</div>"
      ],
      "text/plain": [
       "         CLASS\n",
       "PIN           \n",
       "568483       1\n",
       "923748       0\n",
       "2035328      0\n",
       "2239386      1\n",
       "2244533      1"
      ]
     },
     "execution_count": 2,
     "metadata": {},
     "output_type": "execute_result"
    }
   ],
   "source": [
    "labels = pd.read_csv('../../tmp/1_METONLY_vs_METX/matched_CEM_table.csv', header=0).rename({'Unnamed: 0': 'PIN'}, axis=1)[['PIN', 'CLASS']].set_index('PIN')\n",
    "labels.head()"
   ]
  },
  {
   "cell_type": "code",
   "execution_count": 3,
   "metadata": {},
   "outputs": [
    {
     "data": {
      "text/html": [
       "<div>\n",
       "<style scoped>\n",
       "    .dataframe tbody tr th:only-of-type {\n",
       "        vertical-align: middle;\n",
       "    }\n",
       "\n",
       "    .dataframe tbody tr th {\n",
       "        vertical-align: top;\n",
       "    }\n",
       "\n",
       "    .dataframe thead th {\n",
       "        text-align: right;\n",
       "    }\n",
       "</style>\n",
       "<table border=\"1\" class=\"dataframe\">\n",
       "  <thead>\n",
       "    <tr style=\"text-align: right;\">\n",
       "      <th></th>\n",
       "      <th>Seq</th>\n",
       "      <th>Class</th>\n",
       "    </tr>\n",
       "    <tr>\n",
       "      <th>PIN</th>\n",
       "      <th></th>\n",
       "      <th></th>\n",
       "    </tr>\n",
       "  </thead>\n",
       "  <tbody>\n",
       "    <tr>\n",
       "      <th>568483</th>\n",
       "      <td>10990 0 23 16 725 0 10990 0 10990 0 10990 0 10...</td>\n",
       "      <td>1</td>\n",
       "    </tr>\n",
       "    <tr>\n",
       "      <th>923748</th>\n",
       "      <td>66653 0 65070 0 66515 5 10962 1 105 1 56807 42...</td>\n",
       "      <td>0</td>\n",
       "    </tr>\n",
       "    <tr>\n",
       "      <th>2035328</th>\n",
       "      <td>66536 0 74995 0 66512 0 66551 0 66608 0 66716 ...</td>\n",
       "      <td>0</td>\n",
       "    </tr>\n",
       "    <tr>\n",
       "      <th>2239386</th>\n",
       "      <td>10991 0 23 105 73928 0 66560 0 66515 0 66551 0...</td>\n",
       "      <td>1</td>\n",
       "    </tr>\n",
       "    <tr>\n",
       "      <th>2244533</th>\n",
       "      <td>10990 0 23 74 23 0 10990 1 73928 0 66500 0 665...</td>\n",
       "      <td>1</td>\n",
       "    </tr>\n",
       "  </tbody>\n",
       "</table>\n",
       "</div>"
      ],
      "text/plain": [
       "                                                       Seq  Class\n",
       "PIN                                                              \n",
       "568483   10990 0 23 16 725 0 10990 0 10990 0 10990 0 10...      1\n",
       "923748   66653 0 65070 0 66515 5 10962 1 105 1 56807 42...      0\n",
       "2035328  66536 0 74995 0 66512 0 66551 0 66608 0 66716 ...      0\n",
       "2239386  10991 0 23 105 73928 0 66560 0 66515 0 66551 0...      1\n",
       "2244533  10990 0 23 74 23 0 10990 1 73928 0 66500 0 665...      1"
      ]
     },
     "execution_count": 3,
     "metadata": {},
     "output_type": "execute_result"
    }
   ],
   "source": [
    "data = jl.load(open('../../tmp/item_days_raw_data_.pkl', 'rb')).loc[labels.index, 'seq']\n",
    "# data = pd.read_csv('../../tmp/raw_sequences.csv', header=0, index_col=0).loc[labels.index, 'seq']\n",
    "df = pd.DataFrame(columns=['Seq', 'Class'], index=data.index)\n",
    "df.loc[:, 'Seq'] = data\n",
    "df.loc[:, 'Class'] = labels['CLASS']\n",
    "df.head()"
   ]
  },
  {
   "cell_type": "markdown",
   "metadata": {},
   "source": [
    "# Separate MBS items and timepoints"
   ]
  },
  {
   "cell_type": "code",
   "execution_count": 4,
   "metadata": {},
   "outputs": [],
   "source": [
    "for idx in df.index:\n",
    "    _tmp = df.loc[idx, 'Seq'].split(' ')\n",
    "    df.loc[idx, 'mbs_seq'] = ' '.join(_tmp[::2])\n",
    "    df.loc[idx, 'times_seq'] = ' '.join(_tmp[1::2])"
   ]
  },
  {
   "cell_type": "code",
   "execution_count": 5,
   "metadata": {},
   "outputs": [
    {
     "data": {
      "text/html": [
       "<div>\n",
       "<style scoped>\n",
       "    .dataframe tbody tr th:only-of-type {\n",
       "        vertical-align: middle;\n",
       "    }\n",
       "\n",
       "    .dataframe tbody tr th {\n",
       "        vertical-align: top;\n",
       "    }\n",
       "\n",
       "    .dataframe thead th {\n",
       "        text-align: right;\n",
       "    }\n",
       "</style>\n",
       "<table border=\"1\" class=\"dataframe\">\n",
       "  <thead>\n",
       "    <tr style=\"text-align: right;\">\n",
       "      <th></th>\n",
       "      <th>Seq</th>\n",
       "      <th>Class</th>\n",
       "      <th>mbs_seq</th>\n",
       "      <th>times_seq</th>\n",
       "    </tr>\n",
       "    <tr>\n",
       "      <th>PIN</th>\n",
       "      <th></th>\n",
       "      <th></th>\n",
       "      <th></th>\n",
       "      <th></th>\n",
       "    </tr>\n",
       "  </thead>\n",
       "  <tbody>\n",
       "    <tr>\n",
       "      <th>568483</th>\n",
       "      <td>10990 0 23 16 725 0 10990 0 10990 0 10990 0 10...</td>\n",
       "      <td>1</td>\n",
       "      <td>10990 23 725 10990 10990 10990 10993 23 85311 ...</td>\n",
       "      <td>0 16 0 0 0 0 0 15 0 0 13 0 0 0 22 0 0 0 0 0 0 ...</td>\n",
       "    </tr>\n",
       "    <tr>\n",
       "      <th>923748</th>\n",
       "      <td>66653 0 65070 0 66515 5 10962 1 105 1 56807 42...</td>\n",
       "      <td>0</td>\n",
       "      <td>66653 65070 66515 10962 105 56807 10990 23 109...</td>\n",
       "      <td>0 0 5 1 1 42 0 26 35 0 0 0 9 0 0 0 5 0 0 0 21 ...</td>\n",
       "    </tr>\n",
       "    <tr>\n",
       "      <th>2035328</th>\n",
       "      <td>66536 0 74995 0 66512 0 66551 0 66608 0 66716 ...</td>\n",
       "      <td>0</td>\n",
       "      <td>66536 74995 66512 66551 66608 66716 66560 7392...</td>\n",
       "      <td>0 0 0 0 0 0 0 9 1 10 9 138 1 3 31 24 63 0 0 0 ...</td>\n",
       "    </tr>\n",
       "    <tr>\n",
       "      <th>2239386</th>\n",
       "      <td>10991 0 23 105 73928 0 66560 0 66515 0 66551 0...</td>\n",
       "      <td>1</td>\n",
       "      <td>10991 23 73928 66560 66515 66551 66536 2517 10...</td>\n",
       "      <td>0 105 0 0 0 0 4 2 27 1 1 7 0 18 132 0 0 0 1 0 ...</td>\n",
       "    </tr>\n",
       "    <tr>\n",
       "      <th>2244533</th>\n",
       "      <td>10990 0 23 74 23 0 10990 1 73928 0 66500 0 665...</td>\n",
       "      <td>1</td>\n",
       "      <td>10990 23 23 10990 73928 66500 66560 66551 23 1...</td>\n",
       "      <td>0 74 0 1 0 0 0 2 0 87 0 1 0 0 0 0 0 2 0 6 0 8 ...</td>\n",
       "    </tr>\n",
       "  </tbody>\n",
       "</table>\n",
       "</div>"
      ],
      "text/plain": [
       "                                                       Seq  Class  \\\n",
       "PIN                                                                 \n",
       "568483   10990 0 23 16 725 0 10990 0 10990 0 10990 0 10...      1   \n",
       "923748   66653 0 65070 0 66515 5 10962 1 105 1 56807 42...      0   \n",
       "2035328  66536 0 74995 0 66512 0 66551 0 66608 0 66716 ...      0   \n",
       "2239386  10991 0 23 105 73928 0 66560 0 66515 0 66551 0...      1   \n",
       "2244533  10990 0 23 74 23 0 10990 1 73928 0 66500 0 665...      1   \n",
       "\n",
       "                                                   mbs_seq  \\\n",
       "PIN                                                          \n",
       "568483   10990 23 725 10990 10990 10990 10993 23 85311 ...   \n",
       "923748   66653 65070 66515 10962 105 56807 10990 23 109...   \n",
       "2035328  66536 74995 66512 66551 66608 66716 66560 7392...   \n",
       "2239386  10991 23 73928 66560 66515 66551 66536 2517 10...   \n",
       "2244533  10990 23 23 10990 73928 66500 66560 66551 23 1...   \n",
       "\n",
       "                                                 times_seq  \n",
       "PIN                                                         \n",
       "568483   0 16 0 0 0 0 0 15 0 0 13 0 0 0 22 0 0 0 0 0 0 ...  \n",
       "923748   0 0 5 1 1 42 0 26 35 0 0 0 9 0 0 0 5 0 0 0 21 ...  \n",
       "2035328  0 0 0 0 0 0 0 9 1 10 9 138 1 3 31 24 63 0 0 0 ...  \n",
       "2239386  0 105 0 0 0 0 4 2 27 1 1 7 0 18 132 0 0 0 1 0 ...  \n",
       "2244533  0 74 0 1 0 0 0 2 0 87 0 1 0 0 0 0 0 2 0 6 0 8 ...  "
      ]
     },
     "execution_count": 5,
     "metadata": {},
     "output_type": "execute_result"
    }
   ],
   "source": [
    "df.head()"
   ]
  },
  {
   "cell_type": "markdown",
   "metadata": {},
   "source": [
    "# Seq2Tokens"
   ]
  },
  {
   "cell_type": "code",
   "execution_count": 6,
   "metadata": {},
   "outputs": [
    {
     "name": "stdout",
     "output_type": "stream",
     "text": [
      "2773\n",
      "(11744, 445)\n"
     ]
    }
   ],
   "source": [
    "# Define tokenizer object\n",
    "tokenizer = Tokenizer(char_level=False, lower=False, split=' ')\n",
    "\n",
    "# Fit on corpus and extract tokenized sequences\n",
    "tokenizer.fit_on_texts(df['mbs_seq'])\n",
    "n_feat = len(tokenizer.word_index.keys())\n",
    "print(n_feat)\n",
    "seq = tokenizer.texts_to_sequences(df['mbs_seq'])\n",
    "\n",
    "# Pad tokenized sequences\n",
    "lengths = [len(x) for x in seq]\n",
    "maxlen = int(np.percentile(lengths, 95))\n",
    "p_seq = pad_sequences(seq, maxlen=maxlen)\n",
    "print(p_seq.shape)"
   ]
  },
  {
   "cell_type": "markdown",
   "metadata": {},
   "source": [
    "# Training - Validation - Test split"
   ]
  },
  {
   "cell_type": "code",
   "execution_count": 7,
   "metadata": {},
   "outputs": [
    {
     "name": "stdout",
     "output_type": "stream",
     "text": [
      "5872 learn / 5872 test\n",
      "5284 training / 588 validation\n"
     ]
    }
   ],
   "source": [
    "# Full dataset\n",
    "y = df['Class'].ravel()\n",
    "X = p_seq\n",
    "\n",
    "# Learn / Test\n",
    "sss = StratifiedShuffleSplit(n_splits=1, test_size=0.5, random_state=0)\n",
    "learn_idx, test_idx = next(sss.split(X, y))\n",
    "\n",
    "X_learn, y_learn = X[learn_idx, :], y[learn_idx]\n",
    "X_test, y_test = X[test_idx, :], y[test_idx]\n",
    "\n",
    "print('{} learn / {} test'.format(len(y_learn), len(y_test)))\n",
    "\n",
    "# Training / Validation\n",
    "sss = StratifiedShuffleSplit(n_splits=1, test_size=0.1, random_state=1)\n",
    "train_idx, valid_idx = next(sss.split(X_learn, y_learn))\n",
    "\n",
    "X_train, y_train = X_learn[train_idx, :], y_learn[train_idx]\n",
    "X_valid, y_valid = X_learn[valid_idx, :], y_learn[valid_idx]\n",
    "\n",
    "print('{} training / {} validation'.format(len(y_train), len(y_valid)))"
   ]
  },
  {
   "cell_type": "markdown",
   "metadata": {},
   "source": [
    "# Init embedding matrix"
   ]
  },
  {
   "cell_type": "code",
   "execution_count": 8,
   "metadata": {},
   "outputs": [],
   "source": [
    "D = 100\n",
    "embedding = pd.read_csv('../../tmp/embedding.{}d.csv'.format(D), header=0, index_col=0)\n",
    "embedding_matrix = embedding.values"
   ]
  },
  {
   "cell_type": "markdown",
   "metadata": {},
   "source": [
    "# Model \\#1: Embedding + Dense (overfitting like crazy)"
   ]
  },
  {
   "cell_type": "code",
   "execution_count": 46,
   "metadata": {},
   "outputs": [
    {
     "ename": "TypeError",
     "evalue": "'int' object is not iterable",
     "output_type": "error",
     "traceback": [
      "\u001b[0;31m---------------------------------------------------------------------------\u001b[0m",
      "\u001b[0;31mTypeError\u001b[0m                                 Traceback (most recent call last)",
      "\u001b[0;32m<ipython-input-46-2859e4e2d66d>\u001b[0m in \u001b[0;36m<module>\u001b[0;34m()\u001b[0m\n\u001b[1;32m      5\u001b[0m \u001b[0;34m\u001b[0m\u001b[0m\n\u001b[1;32m      6\u001b[0m \u001b[0mmodel\u001b[0m \u001b[0;34m=\u001b[0m \u001b[0mSequential\u001b[0m\u001b[0;34m(\u001b[0m\u001b[0;34m)\u001b[0m\u001b[0;34m\u001b[0m\u001b[0m\n\u001b[0;32m----> 7\u001b[0;31m \u001b[0mmodel\u001b[0m\u001b[0;34m.\u001b[0m\u001b[0madd\u001b[0m\u001b[0;34m(\u001b[0m\u001b[0mEmbedding\u001b[0m\u001b[0;34m(\u001b[0m\u001b[0mn_feat\u001b[0m\u001b[0;34m,\u001b[0m \u001b[0mD\u001b[0m\u001b[0;34m,\u001b[0m \u001b[0minput_shape\u001b[0m\u001b[0;34m=\u001b[0m\u001b[0mmaxlen\u001b[0m\u001b[0;34m)\u001b[0m\u001b[0;34m)\u001b[0m\u001b[0;34m\u001b[0m\u001b[0m\n\u001b[0m\u001b[1;32m      8\u001b[0m \u001b[0mmodel\u001b[0m\u001b[0;34m.\u001b[0m\u001b[0madd\u001b[0m\u001b[0;34m(\u001b[0m\u001b[0mFlatten\u001b[0m\u001b[0;34m(\u001b[0m\u001b[0;34m)\u001b[0m\u001b[0;34m)\u001b[0m\u001b[0;34m\u001b[0m\u001b[0m\n\u001b[1;32m      9\u001b[0m \u001b[0mmodel\u001b[0m\u001b[0;34m.\u001b[0m\u001b[0madd\u001b[0m\u001b[0;34m(\u001b[0m\u001b[0mDense\u001b[0m\u001b[0;34m(\u001b[0m\u001b[0;36m1\u001b[0m\u001b[0;34m,\u001b[0m \u001b[0mactivation\u001b[0m\u001b[0;34m=\u001b[0m\u001b[0;34m'sigmoid'\u001b[0m\u001b[0;34m,\u001b[0m \u001b[0mkernel_regularizer\u001b[0m\u001b[0;34m=\u001b[0m\u001b[0mregularizers\u001b[0m\u001b[0;34m.\u001b[0m\u001b[0ml2\u001b[0m\u001b[0;34m(\u001b[0m\u001b[0;36m0.05\u001b[0m\u001b[0;34m)\u001b[0m\u001b[0;34m)\u001b[0m\u001b[0;34m)\u001b[0m\u001b[0;34m\u001b[0m\u001b[0m\n",
      "\u001b[0;32m/home/samu/miniconda2/lib/python2.7/site-packages/keras/legacy/interfaces.pyc\u001b[0m in \u001b[0;36mwrapper\u001b[0;34m(*args, **kwargs)\u001b[0m\n\u001b[1;32m     89\u001b[0m                 warnings.warn('Update your `' + object_name +\n\u001b[1;32m     90\u001b[0m                               '` call to the Keras 2 API: ' + signature, stacklevel=2)\n\u001b[0;32m---> 91\u001b[0;31m             \u001b[0;32mreturn\u001b[0m \u001b[0mfunc\u001b[0m\u001b[0;34m(\u001b[0m\u001b[0;34m*\u001b[0m\u001b[0margs\u001b[0m\u001b[0;34m,\u001b[0m \u001b[0;34m**\u001b[0m\u001b[0mkwargs\u001b[0m\u001b[0;34m)\u001b[0m\u001b[0;34m\u001b[0m\u001b[0m\n\u001b[0m\u001b[1;32m     92\u001b[0m         \u001b[0mwrapper\u001b[0m\u001b[0;34m.\u001b[0m\u001b[0m_original_function\u001b[0m \u001b[0;34m=\u001b[0m \u001b[0mfunc\u001b[0m\u001b[0;34m\u001b[0m\u001b[0m\n\u001b[1;32m     93\u001b[0m         \u001b[0;32mreturn\u001b[0m \u001b[0mwrapper\u001b[0m\u001b[0;34m\u001b[0m\u001b[0m\n",
      "\u001b[0;32m/home/samu/miniconda2/lib/python2.7/site-packages/keras/layers/embeddings.pyc\u001b[0m in \u001b[0;36m__init__\u001b[0;34m(self, input_dim, output_dim, embeddings_initializer, embeddings_regularizer, activity_regularizer, embeddings_constraint, mask_zero, input_length, **kwargs)\u001b[0m\n\u001b[1;32m     85\u001b[0m             \u001b[0;32melse\u001b[0m\u001b[0;34m:\u001b[0m\u001b[0;34m\u001b[0m\u001b[0m\n\u001b[1;32m     86\u001b[0m                 \u001b[0mkwargs\u001b[0m\u001b[0;34m[\u001b[0m\u001b[0;34m'input_shape'\u001b[0m\u001b[0;34m]\u001b[0m \u001b[0;34m=\u001b[0m \u001b[0;34m(\u001b[0m\u001b[0mNone\u001b[0m\u001b[0;34m,\u001b[0m\u001b[0;34m)\u001b[0m\u001b[0;34m\u001b[0m\u001b[0m\n\u001b[0;32m---> 87\u001b[0;31m         \u001b[0msuper\u001b[0m\u001b[0;34m(\u001b[0m\u001b[0mEmbedding\u001b[0m\u001b[0;34m,\u001b[0m \u001b[0mself\u001b[0m\u001b[0;34m)\u001b[0m\u001b[0;34m.\u001b[0m\u001b[0m__init__\u001b[0m\u001b[0;34m(\u001b[0m\u001b[0;34m**\u001b[0m\u001b[0mkwargs\u001b[0m\u001b[0;34m)\u001b[0m\u001b[0;34m\u001b[0m\u001b[0m\n\u001b[0m\u001b[1;32m     88\u001b[0m \u001b[0;34m\u001b[0m\u001b[0m\n\u001b[1;32m     89\u001b[0m         \u001b[0mself\u001b[0m\u001b[0;34m.\u001b[0m\u001b[0minput_dim\u001b[0m \u001b[0;34m=\u001b[0m \u001b[0minput_dim\u001b[0m\u001b[0;34m\u001b[0m\u001b[0m\n",
      "\u001b[0;32m/home/samu/miniconda2/lib/python2.7/site-packages/keras/engine/topology.pyc\u001b[0m in \u001b[0;36m__init__\u001b[0;34m(self, **kwargs)\u001b[0m\n\u001b[1;32m    309\u001b[0m                 \u001b[0;32melse\u001b[0m\u001b[0;34m:\u001b[0m\u001b[0;34m\u001b[0m\u001b[0m\n\u001b[1;32m    310\u001b[0m                     \u001b[0mbatch_size\u001b[0m \u001b[0;34m=\u001b[0m \u001b[0mNone\u001b[0m\u001b[0;34m\u001b[0m\u001b[0m\n\u001b[0;32m--> 311\u001b[0;31m                 \u001b[0mbatch_input_shape\u001b[0m \u001b[0;34m=\u001b[0m \u001b[0;34m(\u001b[0m\u001b[0mbatch_size\u001b[0m\u001b[0;34m,\u001b[0m\u001b[0;34m)\u001b[0m \u001b[0;34m+\u001b[0m \u001b[0mtuple\u001b[0m\u001b[0;34m(\u001b[0m\u001b[0mkwargs\u001b[0m\u001b[0;34m[\u001b[0m\u001b[0;34m'input_shape'\u001b[0m\u001b[0;34m]\u001b[0m\u001b[0;34m)\u001b[0m\u001b[0;34m\u001b[0m\u001b[0m\n\u001b[0m\u001b[1;32m    312\u001b[0m             \u001b[0mself\u001b[0m\u001b[0;34m.\u001b[0m\u001b[0mbatch_input_shape\u001b[0m \u001b[0;34m=\u001b[0m \u001b[0mbatch_input_shape\u001b[0m\u001b[0;34m\u001b[0m\u001b[0m\n\u001b[1;32m    313\u001b[0m \u001b[0;34m\u001b[0m\u001b[0m\n",
      "\u001b[0;31mTypeError\u001b[0m: 'int' object is not iterable"
     ]
    }
   ],
   "source": [
    "from keras.models import Sequential\n",
    "from keras.layers import Flatten, Dense, Embedding, Dropout\n",
    "from keras.callbacks import EarlyStopping\n",
    "from keras import regularizers\n",
    "\n",
    "model = Sequential()\n",
    "model.add(Embedding(n_feat, D, input_length=maxlen))\n",
    "model.add(Flatten())\n",
    "model.add(Dense(1, activation='sigmoid', kernel_regularizer=regularizers.l2(0.05)))\n",
    "model.compile(optimizer='rmsprop',\n",
    "              loss='binary_crossentropy',\n",
    "              metrics=['acc'])\n",
    "model.summary()"
   ]
  },
  {
   "cell_type": "code",
   "execution_count": 10,
   "metadata": {},
   "outputs": [],
   "source": [
    "model.layers[0].set_weights([embedding_matrix])\n",
    "model.layers[0].trainable = True"
   ]
  },
  {
   "cell_type": "code",
   "execution_count": 11,
   "metadata": {},
   "outputs": [
    {
     "name": "stdout",
     "output_type": "stream",
     "text": [
      "Train on 5284 samples, validate on 588 samples\n",
      "Epoch 1/500\n",
      "5284/5284 [==============================] - 1s 121us/step - loss: 4.8149 - acc: 0.4941 - val_loss: 1.2783 - val_acc: 0.5000\n",
      "Epoch 2/500\n",
      "5284/5284 [==============================] - 0s 57us/step - loss: 1.8335 - acc: 0.5019 - val_loss: 2.0491 - val_acc: 0.5000\n",
      "Epoch 3/500\n",
      "5284/5284 [==============================] - 0s 56us/step - loss: 1.5501 - acc: 0.5061 - val_loss: 1.3161 - val_acc: 0.5000\n",
      "Epoch 4/500\n",
      "5284/5284 [==============================] - 0s 60us/step - loss: 1.3852 - acc: 0.4939 - val_loss: 1.3146 - val_acc: 0.5000\n",
      "Epoch 5/500\n",
      "5284/5284 [==============================] - 0s 59us/step - loss: 1.2003 - acc: 0.4945 - val_loss: 1.0733 - val_acc: 0.5034\n",
      "Epoch 6/500\n",
      "5284/5284 [==============================] - 0s 63us/step - loss: 1.0801 - acc: 0.5049 - val_loss: 0.8522 - val_acc: 0.5476\n",
      "Epoch 7/500\n",
      "5284/5284 [==============================] - 0s 63us/step - loss: 0.9771 - acc: 0.5174 - val_loss: 0.7399 - val_acc: 0.6054\n",
      "Epoch 8/500\n",
      "5284/5284 [==============================] - 0s 62us/step - loss: 0.9034 - acc: 0.5305 - val_loss: 0.7074 - val_acc: 0.6616\n",
      "Epoch 9/500\n",
      "5284/5284 [==============================] - 0s 65us/step - loss: 0.8080 - acc: 0.6001 - val_loss: 0.8530 - val_acc: 0.5323\n",
      "Epoch 10/500\n",
      "5284/5284 [==============================] - 0s 62us/step - loss: 0.7671 - acc: 0.6158 - val_loss: 0.9241 - val_acc: 0.5187\n",
      "Epoch 11/500\n",
      "5284/5284 [==============================] - 0s 63us/step - loss: 0.7423 - acc: 0.6497 - val_loss: 0.9593 - val_acc: 0.5221\n",
      "Epoch 12/500\n",
      "5284/5284 [==============================] - 0s 62us/step - loss: 0.6773 - acc: 0.6953 - val_loss: 0.6825 - val_acc: 0.6854\n",
      "Epoch 13/500\n",
      "5284/5284 [==============================] - 0s 63us/step - loss: 0.6939 - acc: 0.6832 - val_loss: 0.7021 - val_acc: 0.6667\n",
      "Epoch 14/500\n",
      "5284/5284 [==============================] - 0s 64us/step - loss: 0.6732 - acc: 0.6860 - val_loss: 0.7529 - val_acc: 0.6446\n",
      "Epoch 15/500\n",
      "5284/5284 [==============================] - 0s 63us/step - loss: 0.6353 - acc: 0.7258 - val_loss: 0.6895 - val_acc: 0.6956\n",
      "Epoch 16/500\n",
      "5284/5284 [==============================] - 0s 59us/step - loss: 0.6303 - acc: 0.7299 - val_loss: 0.6727 - val_acc: 0.6888\n",
      "Epoch 17/500\n",
      "5284/5284 [==============================] - 0s 62us/step - loss: 0.6074 - acc: 0.7441 - val_loss: 0.6537 - val_acc: 0.7330\n",
      "Epoch 18/500\n",
      "5284/5284 [==============================] - 0s 62us/step - loss: 0.5846 - acc: 0.7752 - val_loss: 0.6551 - val_acc: 0.7228\n",
      "Epoch 19/500\n",
      "5284/5284 [==============================] - 0s 59us/step - loss: 0.5897 - acc: 0.7663 - val_loss: 0.7165 - val_acc: 0.6633\n",
      "Epoch 20/500\n",
      "5284/5284 [==============================] - 0s 62us/step - loss: 0.5712 - acc: 0.7733 - val_loss: 0.6486 - val_acc: 0.7364\n",
      "Epoch 21/500\n",
      "5284/5284 [==============================] - 0s 64us/step - loss: 0.5499 - acc: 0.7967 - val_loss: 0.7126 - val_acc: 0.6820\n",
      "Epoch 22/500\n",
      "5284/5284 [==============================] - 0s 66us/step - loss: 0.5510 - acc: 0.7950 - val_loss: 0.6543 - val_acc: 0.7194\n",
      "Epoch 23/500\n",
      "5284/5284 [==============================] - 0s 62us/step - loss: 0.5419 - acc: 0.8005 - val_loss: 0.6381 - val_acc: 0.7262\n",
      "Epoch 24/500\n",
      "5284/5284 [==============================] - 0s 64us/step - loss: 0.5338 - acc: 0.8106 - val_loss: 0.6433 - val_acc: 0.7381\n",
      "Epoch 25/500\n",
      "5284/5284 [==============================] - 0s 60us/step - loss: 0.5219 - acc: 0.8221 - val_loss: 0.6392 - val_acc: 0.7449\n",
      "Epoch 26/500\n",
      "5284/5284 [==============================] - 0s 60us/step - loss: 0.5165 - acc: 0.8352 - val_loss: 0.6984 - val_acc: 0.6939\n",
      "Epoch 27/500\n",
      "5284/5284 [==============================] - 0s 65us/step - loss: 0.5076 - acc: 0.8285 - val_loss: 0.6462 - val_acc: 0.7245\n",
      "Epoch 28/500\n",
      "5284/5284 [==============================] - 0s 64us/step - loss: 0.5009 - acc: 0.8325 - val_loss: 0.6681 - val_acc: 0.7092\n"
     ]
    }
   ],
   "source": [
    "callbacks = [EarlyStopping(monitor='val_loss', patience=5)]\n",
    "\n",
    "history = model.fit(X_train, y_train,\n",
    "                    epochs=500,\n",
    "                    callbacks=callbacks,\n",
    "                    batch_size=128,\n",
    "                    validation_data=(X_valid, y_valid))"
   ]
  },
  {
   "cell_type": "code",
   "execution_count": 12,
   "metadata": {},
   "outputs": [
    {
     "data": {
      "image/png": "[encoded data removed]",
      "text/plain": [
       "<matplotlib.figure.Figure at 0x7fbf67ad9850>"
      ]
     },
     "metadata": {},
     "output_type": "display_data"
    }
   ],
   "source": [
    "plt.figure(dpi=100)\n",
    "t = history.epoch\n",
    "\n",
    "plt.subplot(211)\n",
    "plt.plot(t, history.history['loss'], label='loss', color='C0')\n",
    "plt.plot(t, history.history['val_loss'], label='val_loss', color='C1')\n",
    "plt.xlabel('epochs')\n",
    "plt.ylabel('loss')\n",
    "plt.legend(loc=1)\n",
    "\n",
    "plt.subplot(212)\n",
    "plt.plot(t, history.history['acc'], label='acc', color='C2')\n",
    "plt.plot(t, history.history['val_acc'], label='val_acc', color='C3')\n",
    "plt.ylim([0.5, 1])\n",
    "plt.ylabel('acc')\n",
    "plt.xlabel('epochs')\n",
    "plt.legend(loc=1)\n",
    "\n",
    "plt.tight_layout()\n",
    "plt.savefig(root+'/embedding_dense.png')"
   ]
  },
  {
   "cell_type": "code",
   "execution_count": 13,
   "metadata": {},
   "outputs": [
    {
     "name": "stdout",
     "output_type": "stream",
     "text": [
      "5872/5872 [==============================] - 0s 81us/step\n",
      "test_loss: 0.6760 - test_acc: 0.7141\n"
     ]
    }
   ],
   "source": [
    "test_loss, test_acc = model.evaluate(X_test, y_test)\n",
    "print('test_loss: {:1.4f} - test_acc: {:1.4f}'.format(test_loss, test_acc))"
   ]
  },
  {
   "cell_type": "code",
   "execution_count": 14,
   "metadata": {},
   "outputs": [],
   "source": [
    "# model.save_weights('embedding_dense.h5')"
   ]
  },
  {
   "cell_type": "markdown",
   "metadata": {},
   "source": [
    "# Model \\#3: Embedding + LSTM"
   ]
  },
  {
   "cell_type": "code",
   "execution_count": 15,
   "metadata": {},
   "outputs": [
    {
     "name": "stdout",
     "output_type": "stream",
     "text": [
      "WARNING:tensorflow:From /home/samu/miniconda2/lib/python2.7/site-packages/tensorflow/contrib/learn/python/learn/datasets/base.py:198: retry (from tensorflow.contrib.learn.python.learn.datasets.base) is deprecated and will be removed in a future version.\n",
      "Instructions for updating:\n",
      "Use the retry module or similar alternatives.\n",
      "_________________________________________________________________\n",
      "Layer (type)                 Output Shape              Param #   \n",
      "=================================================================\n",
      "embedding_2 (Embedding)      (None, 445, 100)          277300    \n",
      "_________________________________________________________________\n",
      "cu_dnnlstm_1 (CuDNNLSTM)     (None, 32)                17152     \n",
      "_________________________________________________________________\n",
      "dense_2 (Dense)              (None, 1)                 33        \n",
      "=================================================================\n",
      "Total params: 294,485\n",
      "Trainable params: 294,485\n",
      "Non-trainable params: 0\n",
      "_________________________________________________________________\n"
     ]
    }
   ],
   "source": [
    "from keras.layers import CuDNNLSTM\n",
    "\n",
    "model = Sequential()\n",
    "model.add(Embedding(n_feat, D, input_length=maxlen))\n",
    "model.add(CuDNNLSTM(32))\n",
    "model.add(Dense(1, activation='sigmoid'))\n",
    "model.compile(optimizer='rmsprop',\n",
    "              loss='binary_crossentropy',\n",
    "              metrics=['acc'])\n",
    "model.summary()"
   ]
  },
  {
   "cell_type": "code",
   "execution_count": 16,
   "metadata": {},
   "outputs": [],
   "source": [
    "model.layers[0].set_weights([embedding_matrix])\n",
    "model.layers[0].trainable = True"
   ]
  },
  {
   "cell_type": "code",
   "execution_count": 17,
   "metadata": {},
   "outputs": [
    {
     "name": "stdout",
     "output_type": "stream",
     "text": [
      "Train on 5284 samples, validate on 588 samples\n",
      "Epoch 1/100\n",
      "5284/5284 [==============================] - 3s 636us/step - loss: 0.6788 - acc: 0.5679 - val_loss: 0.6444 - val_acc: 0.6412\n",
      "Epoch 2/100\n",
      "5284/5284 [==============================] - 2s 458us/step - loss: 0.6327 - acc: 0.6567 - val_loss: 0.6861 - val_acc: 0.5748\n",
      "Epoch 3/100\n",
      "5284/5284 [==============================] - 2s 460us/step - loss: 0.5920 - acc: 0.6864 - val_loss: 0.5665 - val_acc: 0.7143\n",
      "Epoch 4/100\n",
      "5284/5284 [==============================] - 2s 463us/step - loss: 0.5662 - acc: 0.7069 - val_loss: 0.5567 - val_acc: 0.7211\n",
      "Epoch 5/100\n",
      "5284/5284 [==============================] - 2s 465us/step - loss: 0.5417 - acc: 0.7279 - val_loss: 0.6560 - val_acc: 0.6480\n",
      "Epoch 6/100\n",
      "5284/5284 [==============================] - 2s 467us/step - loss: 0.5218 - acc: 0.7403 - val_loss: 0.5292 - val_acc: 0.7109\n",
      "Epoch 7/100\n",
      "5284/5284 [==============================] - 2s 460us/step - loss: 0.5067 - acc: 0.7508 - val_loss: 0.5237 - val_acc: 0.7126\n",
      "Epoch 8/100\n",
      "5284/5284 [==============================] - 2s 466us/step - loss: 0.4855 - acc: 0.7631 - val_loss: 0.6197 - val_acc: 0.6599\n",
      "Epoch 9/100\n",
      "5284/5284 [==============================] - 2s 468us/step - loss: 0.4671 - acc: 0.7737 - val_loss: 0.6046 - val_acc: 0.6718\n",
      "Epoch 10/100\n",
      "5284/5284 [==============================] - 2s 454us/step - loss: 0.4567 - acc: 0.7822 - val_loss: 0.5833 - val_acc: 0.6786\n",
      "Epoch 11/100\n",
      "5284/5284 [==============================] - 2s 461us/step - loss: 0.4417 - acc: 0.7884 - val_loss: 0.5016 - val_acc: 0.7466\n",
      "Epoch 12/100\n",
      "5284/5284 [==============================] - 2s 459us/step - loss: 0.4210 - acc: 0.7988 - val_loss: 0.5587 - val_acc: 0.7228\n",
      "Epoch 13/100\n",
      "5284/5284 [==============================] - 2s 467us/step - loss: 0.4031 - acc: 0.8070 - val_loss: 0.5287 - val_acc: 0.7262\n",
      "Epoch 14/100\n",
      "5284/5284 [==============================] - 2s 460us/step - loss: 0.3961 - acc: 0.8132 - val_loss: 0.5370 - val_acc: 0.7364\n",
      "Epoch 15/100\n",
      "5284/5284 [==============================] - 2s 466us/step - loss: 0.3767 - acc: 0.8242 - val_loss: 0.5625 - val_acc: 0.7041\n",
      "Epoch 16/100\n",
      "5284/5284 [==============================] - 2s 462us/step - loss: 0.3703 - acc: 0.8310 - val_loss: 0.5050 - val_acc: 0.7432\n",
      "Epoch 17/100\n",
      "5284/5284 [==============================] - 2s 459us/step - loss: 0.3561 - acc: 0.8382 - val_loss: 0.5524 - val_acc: 0.7381\n",
      "Epoch 18/100\n",
      "5284/5284 [==============================] - 2s 459us/step - loss: 0.3422 - acc: 0.8465 - val_loss: 0.5965 - val_acc: 0.7296\n"
     ]
    }
   ],
   "source": [
    "callbacks = [EarlyStopping(monitor='val_loss', patience=7)]\n",
    "\n",
    "history = model.fit(X_train, y_train,\n",
    "                    epochs=100,\n",
    "                    callbacks=callbacks,\n",
    "                    batch_size=128,\n",
    "                    validation_data=(X_valid, y_valid))"
   ]
  },
  {
   "cell_type": "code",
   "execution_count": 18,
   "metadata": {},
   "outputs": [
    {
     "data": {
      "image/png": "[encoded data removed]",
      "text/plain": [
       "<matplotlib.figure.Figure at 0x7fbe2bf19450>"
      ]
     },
     "metadata": {},
     "output_type": "display_data"
    }
   ],
   "source": [
    "plt.figure(dpi=100)\n",
    "t = history.epoch\n",
    "\n",
    "plt.subplot(211)\n",
    "plt.plot(t, history.history['loss'], label='loss', color='C0')\n",
    "plt.plot(t, history.history['val_loss'], label='val_loss', color='C1')\n",
    "plt.xlabel('epochs')\n",
    "plt.ylabel('loss')\n",
    "plt.legend(loc=1)\n",
    "\n",
    "plt.subplot(212)\n",
    "plt.plot(t, history.history['acc'], label='acc', color='C2')\n",
    "plt.plot(t, history.history['val_acc'], label='val_acc', color='C3')\n",
    "plt.ylim([0.5, 1])\n",
    "plt.ylabel('acc')\n",
    "plt.xlabel('epochs')\n",
    "plt.legend(loc=1)\n",
    "\n",
    "plt.tight_layout()\n",
    "plt.savefig(root+'/embedding_LSTM.png')"
   ]
  },
  {
   "cell_type": "code",
   "execution_count": 19,
   "metadata": {},
   "outputs": [
    {
     "name": "stdout",
     "output_type": "stream",
     "text": [
      "5872/5872 [==============================] - 4s 648us/step\n",
      "test_loss: 0.5877 - test_acc: 0.7187\n"
     ]
    }
   ],
   "source": [
    "test_loss, test_acc = model.evaluate(X_test, y_test)\n",
    "print('test_loss: {:1.4f} - test_acc: {:1.4f}'.format(test_loss, test_acc))"
   ]
  },
  {
   "cell_type": "code",
   "execution_count": 20,
   "metadata": {},
   "outputs": [],
   "source": [
    "model.save_weights(root+'lstm.h5')"
   ]
  },
  {
   "cell_type": "markdown",
   "metadata": {},
   "source": [
    "# Model \\#4: Embedding + Conv1D + LSTM"
   ]
  },
  {
   "cell_type": "code",
   "execution_count": 21,
   "metadata": {},
   "outputs": [
    {
     "name": "stdout",
     "output_type": "stream",
     "text": [
      "_________________________________________________________________\n",
      "Layer (type)                 Output Shape              Param #   \n",
      "=================================================================\n",
      "embedding_3 (Embedding)      (None, 445, 100)          277300    \n",
      "_________________________________________________________________\n",
      "conv1d_1 (Conv1D)            (None, 441, 64)           32064     \n",
      "_________________________________________________________________\n",
      "cu_dnnlstm_2 (CuDNNLSTM)     (None, 32)                12544     \n",
      "_________________________________________________________________\n",
      "dense_3 (Dense)              (None, 1)                 33        \n",
      "=================================================================\n",
      "Total params: 321,941\n",
      "Trainable params: 321,941\n",
      "Non-trainable params: 0\n",
      "_________________________________________________________________\n"
     ]
    }
   ],
   "source": [
    "from keras.layers import Conv1D\n",
    "\n",
    "model = Sequential()\n",
    "model.add(Embedding(n_feat, D, input_length=maxlen))\n",
    "model.add(Conv1D(64, 5, activation='relu'))\n",
    "model.add(CuDNNLSTM(32))\n",
    "model.add(Dense(1, activation='sigmoid'))\n",
    "model.compile(optimizer='adam',\n",
    "              loss='binary_crossentropy',\n",
    "              metrics=['acc'])\n",
    "model.summary()"
   ]
  },
  {
   "cell_type": "code",
   "execution_count": 22,
   "metadata": {},
   "outputs": [],
   "source": [
    "model.layers[0].set_weights([embedding_matrix])\n",
    "model.layers[0].trainable = True"
   ]
  },
  {
   "cell_type": "code",
   "execution_count": 23,
   "metadata": {},
   "outputs": [
    {
     "name": "stdout",
     "output_type": "stream",
     "text": [
      "Train on 5284 samples, validate on 588 samples\n",
      "Epoch 1/300\n",
      "5284/5284 [==============================] - 3s 659us/step - loss: 0.6890 - acc: 0.5413 - val_loss: 0.6666 - val_acc: 0.6378\n",
      "Epoch 2/300\n",
      "5284/5284 [==============================] - 3s 553us/step - loss: 0.6463 - acc: 0.6317 - val_loss: 0.6441 - val_acc: 0.6071\n",
      "Epoch 3/300\n",
      "5284/5284 [==============================] - 3s 554us/step - loss: 0.6129 - acc: 0.6637 - val_loss: 0.5822 - val_acc: 0.7075\n",
      "Epoch 4/300\n",
      "5284/5284 [==============================] - 3s 558us/step - loss: 0.5616 - acc: 0.7144 - val_loss: 0.5447 - val_acc: 0.7330\n",
      "Epoch 5/300\n",
      "5284/5284 [==============================] - 3s 563us/step - loss: 0.5304 - acc: 0.7343 - val_loss: 0.5458 - val_acc: 0.7126\n",
      "Epoch 6/300\n",
      "5284/5284 [==============================] - 3s 557us/step - loss: 0.5040 - acc: 0.7551 - val_loss: 0.5388 - val_acc: 0.7432\n",
      "Epoch 7/300\n",
      "5284/5284 [==============================] - 3s 557us/step - loss: 0.4734 - acc: 0.7763 - val_loss: 0.5213 - val_acc: 0.7483\n",
      "Epoch 8/300\n",
      "5284/5284 [==============================] - 3s 556us/step - loss: 0.4405 - acc: 0.7992 - val_loss: 0.5060 - val_acc: 0.7415\n",
      "Epoch 9/300\n",
      "5284/5284 [==============================] - 3s 555us/step - loss: 0.4132 - acc: 0.8047 - val_loss: 0.5178 - val_acc: 0.7466\n",
      "Epoch 10/300\n",
      "5284/5284 [==============================] - 3s 552us/step - loss: 0.3975 - acc: 0.8123 - val_loss: 0.4939 - val_acc: 0.7551\n",
      "Epoch 11/300\n",
      "5284/5284 [==============================] - 3s 559us/step - loss: 0.3693 - acc: 0.8299 - val_loss: 0.5257 - val_acc: 0.7500\n",
      "Epoch 12/300\n",
      "5284/5284 [==============================] - 3s 553us/step - loss: 0.3478 - acc: 0.8429 - val_loss: 0.5417 - val_acc: 0.7517\n",
      "Epoch 13/300\n",
      "5284/5284 [==============================] - 3s 559us/step - loss: 0.3382 - acc: 0.8469 - val_loss: 0.5336 - val_acc: 0.7704\n",
      "Epoch 14/300\n",
      "5284/5284 [==============================] - 3s 559us/step - loss: 0.3135 - acc: 0.8662 - val_loss: 0.5292 - val_acc: 0.7483\n",
      "Epoch 15/300\n",
      "5284/5284 [==============================] - 3s 561us/step - loss: 0.2953 - acc: 0.8736 - val_loss: 0.5758 - val_acc: 0.7313\n",
      "Epoch 16/300\n",
      "5284/5284 [==============================] - 3s 555us/step - loss: 0.2986 - acc: 0.8683 - val_loss: 0.5579 - val_acc: 0.7500\n",
      "Epoch 17/300\n",
      "5284/5284 [==============================] - 3s 559us/step - loss: 0.2816 - acc: 0.8804 - val_loss: 0.5886 - val_acc: 0.7381\n"
     ]
    }
   ],
   "source": [
    "callbacks = [EarlyStopping(monitor='val_loss', patience=7)]\n",
    "\n",
    "history = model.fit(X_train, y_train,\n",
    "                    epochs=300,\n",
    "                    callbacks=callbacks,\n",
    "                    batch_size=128,\n",
    "                    validation_data=(X_valid, y_valid))"
   ]
  },
  {
   "cell_type": "code",
   "execution_count": 24,
   "metadata": {},
   "outputs": [
    {
     "data": {
      "image/png": "[encoded data removed]",
      "text/plain": [
       "<matplotlib.figure.Figure at 0x7fbe2bea65d0>"
      ]
     },
     "metadata": {},
     "output_type": "display_data"
    }
   ],
   "source": [
    "plt.figure(dpi=100)\n",
    "t = history.epoch\n",
    "\n",
    "plt.subplot(211)\n",
    "plt.plot(t, history.history['loss'], label='loss', color='C0')\n",
    "plt.plot(t, history.history['val_loss'], label='val_loss', color='C1')\n",
    "plt.xlabel('epochs')\n",
    "plt.ylabel('loss')\n",
    "plt.legend(loc=1)\n",
    "\n",
    "plt.subplot(212)\n",
    "plt.plot(t, history.history['acc'], label='acc', color='C2')\n",
    "plt.plot(t, history.history['val_acc'], label='val_acc', color='C3')\n",
    "plt.ylim([0.5, 1])\n",
    "plt.ylabel('acc')\n",
    "plt.xlabel('epochs')\n",
    "plt.legend(loc=1)\n",
    "\n",
    "plt.tight_layout()\n",
    "plt.savefig(root+'/embedding_convLSTM.png')"
   ]
  },
  {
   "cell_type": "code",
   "execution_count": 25,
   "metadata": {},
   "outputs": [
    {
     "name": "stdout",
     "output_type": "stream",
     "text": [
      "5872/5872 [==============================] - 4s 670us/step\n",
      "test_loss: 0.5653 - test_acc: 0.7587\n"
     ]
    }
   ],
   "source": [
    "test_loss, test_acc = model.evaluate(X_test, y_test)\n",
    "print('test_loss: {:1.4f} - test_acc: {:1.4f}'.format(test_loss, test_acc))"
   ]
  },
  {
   "cell_type": "code",
   "execution_count": 26,
   "metadata": {},
   "outputs": [],
   "source": [
    "model.save_weights(root+'conv_lstm.h5')"
   ]
  },
  {
   "cell_type": "markdown",
   "metadata": {},
   "source": [
    "# Model \\#7: Embedding + BiLSTM"
   ]
  },
  {
   "cell_type": "code",
   "execution_count": 27,
   "metadata": {},
   "outputs": [
    {
     "name": "stdout",
     "output_type": "stream",
     "text": [
      "_________________________________________________________________\n",
      "Layer (type)                 Output Shape              Param #   \n",
      "=================================================================\n",
      "embedding_4 (Embedding)      (None, 445, 100)          277300    \n",
      "_________________________________________________________________\n",
      "bidirectional_1 (Bidirection (None, 64)                34304     \n",
      "_________________________________________________________________\n",
      "dense_4 (Dense)              (None, 1)                 65        \n",
      "=================================================================\n",
      "Total params: 311,669\n",
      "Trainable params: 311,669\n",
      "Non-trainable params: 0\n",
      "_________________________________________________________________\n"
     ]
    }
   ],
   "source": [
    "from keras.layers import Bidirectional\n",
    "\n",
    "model = Sequential()\n",
    "model.add(Embedding(n_feat, D, input_length=maxlen))\n",
    "model.add(Bidirectional(CuDNNLSTM(32)))\n",
    "model.add(Dense(1, activation='sigmoid'))\n",
    "model.compile(optimizer='rmsprop',\n",
    "              loss='binary_crossentropy',\n",
    "              metrics=['acc'])\n",
    "model.summary()"
   ]
  },
  {
   "cell_type": "code",
   "execution_count": 28,
   "metadata": {},
   "outputs": [],
   "source": [
    "model.layers[0].set_weights([embedding_matrix])\n",
    "model.layers[0].trainable = True"
   ]
  },
  {
   "cell_type": "code",
   "execution_count": 29,
   "metadata": {},
   "outputs": [
    {
     "name": "stdout",
     "output_type": "stream",
     "text": [
      "Train on 5284 samples, validate on 588 samples\n",
      "Epoch 1/300\n",
      "5284/5284 [==============================] - 6s 1ms/step - loss: 0.6859 - acc: 0.5530 - val_loss: 0.7427 - val_acc: 0.5034\n",
      "Epoch 2/300\n",
      "5284/5284 [==============================] - 5s 941us/step - loss: 0.6432 - acc: 0.6312 - val_loss: 0.6333 - val_acc: 0.6497\n",
      "Epoch 3/300\n",
      "5284/5284 [==============================] - 5s 947us/step - loss: 0.5969 - acc: 0.6832 - val_loss: 0.6449 - val_acc: 0.6224\n",
      "Epoch 4/300\n",
      "5284/5284 [==============================] - 5s 948us/step - loss: 0.5733 - acc: 0.7034 - val_loss: 0.5618 - val_acc: 0.7126\n",
      "Epoch 5/300\n",
      "5284/5284 [==============================] - 5s 944us/step - loss: 0.5556 - acc: 0.7173 - val_loss: 0.5676 - val_acc: 0.6922\n",
      "Epoch 6/300\n",
      "5284/5284 [==============================] - 5s 944us/step - loss: 0.5325 - acc: 0.7360 - val_loss: 0.6171 - val_acc: 0.6854\n",
      "Epoch 7/300\n",
      "5284/5284 [==============================] - 5s 939us/step - loss: 0.5195 - acc: 0.7428 - val_loss: 0.5346 - val_acc: 0.7228\n",
      "Epoch 8/300\n",
      "5284/5284 [==============================] - 5s 937us/step - loss: 0.4957 - acc: 0.7576 - val_loss: 0.5764 - val_acc: 0.6803\n",
      "Epoch 9/300\n",
      "5284/5284 [==============================] - 5s 942us/step - loss: 0.4800 - acc: 0.7674 - val_loss: 0.5126 - val_acc: 0.7483\n",
      "Epoch 10/300\n",
      "5284/5284 [==============================] - 5s 926us/step - loss: 0.4704 - acc: 0.7763 - val_loss: 0.4962 - val_acc: 0.7534\n",
      "Epoch 11/300\n",
      "5284/5284 [==============================] - 5s 932us/step - loss: 0.4616 - acc: 0.7824 - val_loss: 0.5892 - val_acc: 0.6871\n",
      "Epoch 12/300\n",
      "5284/5284 [==============================] - 5s 939us/step - loss: 0.4432 - acc: 0.7922 - val_loss: 0.5086 - val_acc: 0.7347\n",
      "Epoch 13/300\n",
      "5284/5284 [==============================] - 5s 936us/step - loss: 0.4353 - acc: 0.7939 - val_loss: 0.6033 - val_acc: 0.7041\n",
      "Epoch 14/300\n",
      "5284/5284 [==============================] - 5s 956us/step - loss: 0.4193 - acc: 0.8075 - val_loss: 0.4934 - val_acc: 0.7653\n",
      "Epoch 15/300\n",
      "5284/5284 [==============================] - 5s 940us/step - loss: 0.4046 - acc: 0.8100 - val_loss: 0.4955 - val_acc: 0.7551\n",
      "Epoch 16/300\n",
      "5284/5284 [==============================] - 5s 940us/step - loss: 0.4033 - acc: 0.8051 - val_loss: 0.5123 - val_acc: 0.7432\n",
      "Epoch 17/300\n",
      "5284/5284 [==============================] - 5s 944us/step - loss: 0.3768 - acc: 0.8285 - val_loss: 0.5068 - val_acc: 0.7653\n",
      "Epoch 18/300\n",
      "5284/5284 [==============================] - 5s 947us/step - loss: 0.3726 - acc: 0.8308 - val_loss: 0.4981 - val_acc: 0.7721\n",
      "Epoch 19/300\n",
      "5284/5284 [==============================] - 5s 946us/step - loss: 0.3622 - acc: 0.8354 - val_loss: 0.5768 - val_acc: 0.7279\n",
      "Epoch 20/300\n",
      "5284/5284 [==============================] - 5s 942us/step - loss: 0.3550 - acc: 0.8410 - val_loss: 0.5209 - val_acc: 0.7755\n",
      "Epoch 21/300\n",
      "5284/5284 [==============================] - 5s 938us/step - loss: 0.3408 - acc: 0.8463 - val_loss: 0.5437 - val_acc: 0.7483\n"
     ]
    }
   ],
   "source": [
    "callbacks = [EarlyStopping(monitor='val_loss', patience=7)]\n",
    "\n",
    "history = model.fit(X_train, y_train,\n",
    "                    epochs=300,\n",
    "                    callbacks=callbacks,\n",
    "                    batch_size=128,\n",
    "                    validation_data=(X_valid, y_valid))"
   ]
  },
  {
   "cell_type": "code",
   "execution_count": 30,
   "metadata": {},
   "outputs": [
    {
     "data": {
      "image/png": "[encoded data removed]",
      "text/plain": [
       "<matplotlib.figure.Figure at 0x7fbe04433610>"
      ]
     },
     "metadata": {},
     "output_type": "display_data"
    }
   ],
   "source": [
    "plt.figure(dpi=100)\n",
    "t = history.epoch\n",
    "\n",
    "plt.subplot(211)\n",
    "plt.plot(t, history.history['loss'], label='loss', color='C0')\n",
    "plt.plot(t, history.history['val_loss'], label='val_loss', color='C1')\n",
    "plt.xlabel('epochs')\n",
    "plt.ylabel('loss')\n",
    "plt.legend(loc=1)\n",
    "\n",
    "plt.subplot(212)\n",
    "plt.plot(t, history.history['acc'], label='acc', color='C2')\n",
    "plt.plot(t, history.history['val_acc'], label='val_acc', color='C3')\n",
    "plt.ylim([0.5, 1])\n",
    "plt.ylabel('acc')\n",
    "plt.xlabel('epochs')\n",
    "plt.legend(loc=1)\n",
    "\n",
    "plt.tight_layout()\n",
    "plt.savefig(root+'embedding_bilstm.png')"
   ]
  },
  {
   "cell_type": "code",
   "execution_count": 31,
   "metadata": {},
   "outputs": [
    {
     "name": "stdout",
     "output_type": "stream",
     "text": [
      "5872/5872 [==============================] - 7s 1ms/step\n",
      "test_loss: 0.5275 - test_acc: 0.7646\n"
     ]
    }
   ],
   "source": [
    "test_loss, test_acc = model.evaluate(X_test, y_test)\n",
    "print('test_loss: {:1.4f} - test_acc: {:1.4f}'.format(test_loss, test_acc))"
   ]
  },
  {
   "cell_type": "code",
   "execution_count": 32,
   "metadata": {},
   "outputs": [],
   "source": [
    "# model.save_weights('embedding_bilstm.h5')"
   ]
  },
  {
   "cell_type": "markdown",
   "metadata": {},
   "source": [
    "# Model \\#8: Embedding + Conv1D + BiLSTM"
   ]
  },
  {
   "cell_type": "code",
   "execution_count": 36,
   "metadata": {},
   "outputs": [
    {
     "name": "stdout",
     "output_type": "stream",
     "text": [
      "_________________________________________________________________\n",
      "Layer (type)                 Output Shape              Param #   \n",
      "=================================================================\n",
      "embedding_6 (Embedding)      (None, 445, 100)          277300    \n",
      "_________________________________________________________________\n",
      "conv1d_3 (Conv1D)            (None, 436, 64)           64064     \n",
      "_________________________________________________________________\n",
      "bidirectional_3 (Bidirection (None, 64)                25088     \n",
      "_________________________________________________________________\n",
      "dense_6 (Dense)              (None, 1)                 65        \n",
      "=================================================================\n",
      "Total params: 366,517\n",
      "Trainable params: 366,517\n",
      "Non-trainable params: 0\n",
      "_________________________________________________________________\n"
     ]
    }
   ],
   "source": [
    "from keras.optimizers import Adam\n",
    "from keras.layers import MaxPooling1D\n",
    "\n",
    "model = Sequential()\n",
    "model.add(Embedding(n_feat, D, input_length=maxlen))\n",
    "model.add(Conv1D(64, 10, activation='relu'))\n",
    "model.add(Bidirectional(CuDNNLSTM(32)))\n",
    "model.add(Dense(1, activation='sigmoid'))\n",
    "model.compile(optimizer='rmsprop',\n",
    "              loss='binary_crossentropy',\n",
    "              metrics=['acc'])\n",
    "model.summary()"
   ]
  },
  {
   "cell_type": "code",
   "execution_count": 37,
   "metadata": {},
   "outputs": [],
   "source": [
    "model.layers[0].set_weights([embedding_matrix])\n",
    "model.layers[0].trainable = True"
   ]
  },
  {
   "cell_type": "code",
   "execution_count": 38,
   "metadata": {},
   "outputs": [
    {
     "name": "stdout",
     "output_type": "stream",
     "text": [
      "Train on 5284 samples, validate on 588 samples\n",
      "Epoch 1/500\n",
      "5284/5284 [==============================] - 7s 1ms/step - loss: 0.6907 - acc: 0.5369 - val_loss: 0.6610 - val_acc: 0.6378\n",
      "Epoch 2/500\n",
      "5284/5284 [==============================] - 6s 1ms/step - loss: 0.6473 - acc: 0.6300 - val_loss: 0.6153 - val_acc: 0.6956\n",
      "Epoch 3/500\n",
      "5284/5284 [==============================] - 6s 1ms/step - loss: 0.6154 - acc: 0.6692 - val_loss: 0.6377 - val_acc: 0.6310\n",
      "Epoch 4/500\n",
      "5284/5284 [==============================] - 6s 1ms/step - loss: 0.5931 - acc: 0.6908 - val_loss: 0.5688 - val_acc: 0.7160\n",
      "Epoch 5/500\n",
      "5284/5284 [==============================] - 6s 1ms/step - loss: 0.5715 - acc: 0.7101 - val_loss: 0.5638 - val_acc: 0.7143\n",
      "Epoch 6/500\n",
      "5284/5284 [==============================] - 6s 1ms/step - loss: 0.5531 - acc: 0.7222 - val_loss: 0.6525 - val_acc: 0.6395\n",
      "Epoch 7/500\n",
      "5284/5284 [==============================] - 6s 1ms/step - loss: 0.5390 - acc: 0.7315 - val_loss: 0.5479 - val_acc: 0.7245\n",
      "Epoch 8/500\n",
      "5284/5284 [==============================] - 6s 1ms/step - loss: 0.5153 - acc: 0.7474 - val_loss: 0.5965 - val_acc: 0.6905\n",
      "Epoch 9/500\n",
      "5284/5284 [==============================] - 6s 1ms/step - loss: 0.5069 - acc: 0.7513 - val_loss: 0.5629 - val_acc: 0.7160\n",
      "Epoch 10/500\n",
      "5284/5284 [==============================] - 6s 1ms/step - loss: 0.4853 - acc: 0.7672 - val_loss: 0.5556 - val_acc: 0.7041\n",
      "Epoch 11/500\n",
      "5284/5284 [==============================] - 6s 1ms/step - loss: 0.4613 - acc: 0.7820 - val_loss: 0.5899 - val_acc: 0.7058\n",
      "Epoch 12/500\n",
      "5284/5284 [==============================] - 6s 1ms/step - loss: 0.4452 - acc: 0.7875 - val_loss: 0.5462 - val_acc: 0.7245\n",
      "Epoch 13/500\n",
      "5284/5284 [==============================] - 6s 1ms/step - loss: 0.4246 - acc: 0.7956 - val_loss: 0.5911 - val_acc: 0.7228\n",
      "Epoch 14/500\n",
      "5284/5284 [==============================] - 6s 1ms/step - loss: 0.4131 - acc: 0.8056 - val_loss: 0.5598 - val_acc: 0.7058\n",
      "Epoch 15/500\n",
      "5284/5284 [==============================] - 6s 1ms/step - loss: 0.3891 - acc: 0.8176 - val_loss: 0.6074 - val_acc: 0.6939\n",
      "Epoch 16/500\n",
      "5284/5284 [==============================] - 6s 1ms/step - loss: 0.3652 - acc: 0.8348 - val_loss: 0.5787 - val_acc: 0.7466\n",
      "Epoch 17/500\n",
      "5284/5284 [==============================] - 6s 1ms/step - loss: 0.3528 - acc: 0.8427 - val_loss: 0.5334 - val_acc: 0.7466\n",
      "Epoch 18/500\n",
      "5284/5284 [==============================] - 6s 1ms/step - loss: 0.3278 - acc: 0.8547 - val_loss: 0.5732 - val_acc: 0.7415\n",
      "Epoch 19/500\n",
      "5284/5284 [==============================] - 6s 1ms/step - loss: 0.3059 - acc: 0.8645 - val_loss: 0.5798 - val_acc: 0.7177\n",
      "Epoch 20/500\n",
      "5284/5284 [==============================] - 6s 1ms/step - loss: 0.2925 - acc: 0.8702 - val_loss: 0.5625 - val_acc: 0.7568\n",
      "Epoch 21/500\n",
      "5284/5284 [==============================] - 6s 1ms/step - loss: 0.2684 - acc: 0.8849 - val_loss: 0.6035 - val_acc: 0.7415\n",
      "Epoch 22/500\n",
      "5284/5284 [==============================] - 6s 1ms/step - loss: 0.2525 - acc: 0.8950 - val_loss: 0.7174 - val_acc: 0.7058\n",
      "Epoch 23/500\n",
      "5284/5284 [==============================] - 6s 1ms/step - loss: 0.2391 - acc: 0.9033 - val_loss: 0.6711 - val_acc: 0.7092\n",
      "Epoch 24/500\n",
      "5284/5284 [==============================] - 6s 1ms/step - loss: 0.2206 - acc: 0.9156 - val_loss: 0.6851 - val_acc: 0.7211\n"
     ]
    }
   ],
   "source": [
    "callbacks = [EarlyStopping(monitor='val_loss', patience=7)] \n",
    "\n",
    "history = model.fit(X_train, y_train,\n",
    "                    epochs=500,\n",
    "                    callbacks=callbacks,\n",
    "                    batch_size=128,\n",
    "                    validation_data=(X_valid, y_valid))"
   ]
  },
  {
   "cell_type": "code",
   "execution_count": 39,
   "metadata": {},
   "outputs": [
    {
     "data": {
      "image/png": "[encoded data removed]",
      "text/plain": [
       "<matplotlib.figure.Figure at 0x7fbdf0e07d50>"
      ]
     },
     "metadata": {},
     "output_type": "display_data"
    }
   ],
   "source": [
    "plt.figure(dpi=100)\n",
    "t = history.epoch\n",
    "\n",
    "plt.subplot(211)\n",
    "plt.plot(t, history.history['loss'], label='loss', color='C0')\n",
    "plt.plot(t, history.history['val_loss'], label='val_loss', color='C1')\n",
    "plt.xlabel('epochs')\n",
    "plt.ylabel('loss')\n",
    "plt.legend(loc=1)\n",
    "\n",
    "plt.subplot(212)\n",
    "plt.plot(t, history.history['acc'], label='acc', color='C2')\n",
    "plt.plot(t, history.history['val_acc'], label='val_acc', color='C3')\n",
    "plt.ylim([0.5, 1])\n",
    "plt.ylabel('acc')\n",
    "plt.xlabel('epochs')\n",
    "plt.legend(loc=1)\n",
    "\n",
    "plt.tight_layout()\n",
    "plt.savefig(root+'/embedding_conv_bilstm.png')"
   ]
  },
  {
   "cell_type": "code",
   "execution_count": 40,
   "metadata": {},
   "outputs": [
    {
     "name": "stdout",
     "output_type": "stream",
     "text": [
      "5872/5872 [==============================] - 8s 1ms/step\n",
      "test_loss: 0.7044 - test_acc: 0.7156\n"
     ]
    }
   ],
   "source": [
    "test_loss, test_acc = model.evaluate(X_test, y_test)\n",
    "print('test_loss: {:1.4f} - test_acc: {:1.4f}'.format(test_loss, test_acc))"
   ]
  },
  {
   "cell_type": "markdown",
   "metadata": {},
   "source": [
    "# Model \\#: 10"
   ]
  },
  {
   "cell_type": "code",
   "execution_count": 41,
   "metadata": {},
   "outputs": [
    {
     "name": "stdout",
     "output_type": "stream",
     "text": [
      "_________________________________________________________________\n",
      "Layer (type)                 Output Shape              Param #   \n",
      "=================================================================\n",
      "embedding_7 (Embedding)      (None, 445, 100)          277300    \n",
      "_________________________________________________________________\n",
      "bidirectional_4 (Bidirection (None, 64)                34048     \n",
      "_________________________________________________________________\n",
      "dense_7 (Dense)              (None, 1)                 65        \n",
      "=================================================================\n",
      "Total params: 311,413\n",
      "Trainable params: 311,413\n",
      "Non-trainable params: 0\n",
      "_________________________________________________________________\n"
     ]
    }
   ],
   "source": [
    "from keras.layers import LSTM\n",
    "\n",
    "model = Sequential()\n",
    "model.add(Embedding(n_feat, D, input_length=maxlen))\n",
    "model.add(Bidirectional(LSTM(32, recurrent_dropout=0.25, dropout=0.25)))\n",
    "model.add(Dense(1, activation='sigmoid'))\n",
    "model.compile(optimizer='rmsprop',\n",
    "              loss='binary_crossentropy',\n",
    "              metrics=['acc'])\n",
    "model.summary()"
   ]
  },
  {
   "cell_type": "code",
   "execution_count": 42,
   "metadata": {},
   "outputs": [],
   "source": [
    "model.layers[0].set_weights([embedding_matrix])\n",
    "model.layers[0].trainable = True"
   ]
  },
  {
   "cell_type": "code",
   "execution_count": 43,
   "metadata": {},
   "outputs": [
    {
     "name": "stdout",
     "output_type": "stream",
     "text": [
      "Train on 5284 samples, validate on 588 samples\n",
      "Epoch 1/100\n",
      "5284/5284 [==============================] - 81s 15ms/step - loss: 0.6949 - acc: 0.5201 - val_loss: 0.6787 - val_acc: 0.6497\n",
      "Epoch 2/100\n",
      "5284/5284 [==============================] - 77s 15ms/step - loss: 0.6765 - acc: 0.5785 - val_loss: 0.6720 - val_acc: 0.5476\n",
      "Epoch 3/100\n",
      "5284/5284 [==============================] - 78s 15ms/step - loss: 0.6520 - acc: 0.6281 - val_loss: 0.6191 - val_acc: 0.6820\n",
      "Epoch 4/100\n",
      "5284/5284 [==============================] - 73s 14ms/step - loss: 0.6258 - acc: 0.6535 - val_loss: 0.5814 - val_acc: 0.7075\n",
      "Epoch 5/100\n",
      "5284/5284 [==============================] - 76s 14ms/step - loss: 0.6053 - acc: 0.6732 - val_loss: 0.5723 - val_acc: 0.7245\n",
      "Epoch 6/100\n",
      "5284/5284 [==============================] - 73s 14ms/step - loss: 0.5919 - acc: 0.6896 - val_loss: 0.5783 - val_acc: 0.6990\n",
      "Epoch 7/100\n",
      "5284/5284 [==============================] - 69s 13ms/step - loss: 0.5810 - acc: 0.6955 - val_loss: 0.5581 - val_acc: 0.7262\n",
      "Epoch 8/100\n",
      "5284/5284 [==============================] - 69s 13ms/step - loss: 0.5644 - acc: 0.7127 - val_loss: 0.5560 - val_acc: 0.7194\n",
      "Epoch 9/100\n",
      "5284/5284 [==============================] - 70s 13ms/step - loss: 0.5624 - acc: 0.7108 - val_loss: 0.5652 - val_acc: 0.7024\n",
      "Epoch 10/100\n",
      "5284/5284 [==============================] - 69s 13ms/step - loss: 0.5474 - acc: 0.7229 - val_loss: 0.5331 - val_acc: 0.7585\n",
      "Epoch 11/100\n",
      "5284/5284 [==============================] - 71s 13ms/step - loss: 0.5363 - acc: 0.7271 - val_loss: 0.5385 - val_acc: 0.7483\n",
      "Epoch 12/100\n",
      "5284/5284 [==============================] - 74s 14ms/step - loss: 0.5323 - acc: 0.7324 - val_loss: 0.5197 - val_acc: 0.7602\n",
      "Epoch 13/100\n",
      "5284/5284 [==============================] - 74s 14ms/step - loss: 0.5181 - acc: 0.7398 - val_loss: 0.5222 - val_acc: 0.7755\n",
      "Epoch 14/100\n",
      "5284/5284 [==============================] - 74s 14ms/step - loss: 0.5097 - acc: 0.7436 - val_loss: 0.5117 - val_acc: 0.7653\n",
      "Epoch 15/100\n",
      "5284/5284 [==============================] - 71s 13ms/step - loss: 0.4983 - acc: 0.7602 - val_loss: 0.5043 - val_acc: 0.7755\n",
      "Epoch 16/100\n",
      "5284/5284 [==============================] - 75s 14ms/step - loss: 0.4892 - acc: 0.7629 - val_loss: 0.5050 - val_acc: 0.7874\n",
      "Epoch 17/100\n",
      "5284/5284 [==============================] - 73s 14ms/step - loss: 0.4784 - acc: 0.7695 - val_loss: 0.4963 - val_acc: 0.7806\n",
      "Epoch 18/100\n",
      "5284/5284 [==============================] - 73s 14ms/step - loss: 0.4682 - acc: 0.7786 - val_loss: 0.5273 - val_acc: 0.7670\n",
      "Epoch 19/100\n",
      "5284/5284 [==============================] - 72s 14ms/step - loss: 0.4624 - acc: 0.7746 - val_loss: 0.5167 - val_acc: 0.7517\n",
      "Epoch 20/100\n",
      "5284/5284 [==============================] - 73s 14ms/step - loss: 0.4455 - acc: 0.7869 - val_loss: 0.4918 - val_acc: 0.7602\n",
      "Epoch 21/100\n",
      "5284/5284 [==============================] - 71s 13ms/step - loss: 0.4403 - acc: 0.7873 - val_loss: 0.4907 - val_acc: 0.7585\n",
      "Epoch 22/100\n",
      "5284/5284 [==============================] - 71s 14ms/step - loss: 0.4358 - acc: 0.7928 - val_loss: 0.4722 - val_acc: 0.7874\n",
      "Epoch 23/100\n",
      "5284/5284 [==============================] - 84s 16ms/step - loss: 0.4239 - acc: 0.7983 - val_loss: 0.4900 - val_acc: 0.7636\n",
      "Epoch 24/100\n",
      "5284/5284 [==============================] - 82s 16ms/step - loss: 0.4131 - acc: 0.8043 - val_loss: 0.4989 - val_acc: 0.7636\n",
      "Epoch 25/100\n",
      "5284/5284 [==============================] - 73s 14ms/step - loss: 0.4149 - acc: 0.8032 - val_loss: 0.5559 - val_acc: 0.7483\n",
      "Epoch 26/100\n",
      "5284/5284 [==============================] - 74s 14ms/step - loss: 0.4100 - acc: 0.8106 - val_loss: 0.4879 - val_acc: 0.7772\n",
      "Epoch 27/100\n",
      "5284/5284 [==============================] - 77s 15ms/step - loss: 0.3993 - acc: 0.8149 - val_loss: 0.4955 - val_acc: 0.7602\n",
      "Epoch 28/100\n",
      "5284/5284 [==============================] - 75s 14ms/step - loss: 0.3935 - acc: 0.8185 - val_loss: 0.4874 - val_acc: 0.7619\n",
      "Epoch 29/100\n",
      "5284/5284 [==============================] - 74s 14ms/step - loss: 0.3843 - acc: 0.8198 - val_loss: 0.4995 - val_acc: 0.7619\n",
      "Epoch 30/100\n",
      "5284/5284 [==============================] - 75s 14ms/step - loss: 0.3762 - acc: 0.8272 - val_loss: 0.5221 - val_acc: 0.7704\n",
      "Epoch 31/100\n",
      "5284/5284 [==============================] - 76s 14ms/step - loss: 0.3710 - acc: 0.8231 - val_loss: 0.4933 - val_acc: 0.7670\n",
      "Epoch 32/100\n",
      "5284/5284 [==============================] - 72s 14ms/step - loss: 0.3636 - acc: 0.8308 - val_loss: 0.5060 - val_acc: 0.7551\n",
      "Epoch 33/100\n",
      "5284/5284 [==============================] - 76s 14ms/step - loss: 0.3610 - acc: 0.8376 - val_loss: 0.5050 - val_acc: 0.7585\n",
      "Epoch 34/100\n",
      "5284/5284 [==============================] - 74s 14ms/step - loss: 0.3576 - acc: 0.8346 - val_loss: 0.5152 - val_acc: 0.7636\n",
      "Epoch 35/100\n",
      "5284/5284 [==============================] - 74s 14ms/step - loss: 0.3486 - acc: 0.8422 - val_loss: 0.5156 - val_acc: 0.7619\n",
      "Epoch 36/100\n",
      "5284/5284 [==============================] - 76s 14ms/step - loss: 0.3519 - acc: 0.8395 - val_loss: 0.5263 - val_acc: 0.7602\n",
      "Epoch 37/100\n",
      "5284/5284 [==============================] - 76s 14ms/step - loss: 0.3406 - acc: 0.8488 - val_loss: 0.5158 - val_acc: 0.7670\n"
     ]
    }
   ],
   "source": [
    "callbacks = [EarlyStopping(monitor='val_loss', patience=15)] \n",
    "\n",
    "history = model.fit(X_train, y_train,\n",
    "                    epochs=100,\n",
    "                    callbacks=callbacks,\n",
    "                    batch_size=128,\n",
    "                    validation_data=(X_valid, y_valid))"
   ]
  },
  {
   "cell_type": "code",
   "execution_count": 44,
   "metadata": {},
   "outputs": [
    {
     "data": {
      "image/png": "[encoded data removed]",
      "text/plain": [
       "<matplotlib.figure.Figure at 0x7fbdee6a5e90>"
      ]
     },
     "metadata": {},
     "output_type": "display_data"
    }
   ],
   "source": [
    "plt.figure(dpi=100)\n",
    "t = history.epoch\n",
    "\n",
    "plt.subplot(211)\n",
    "plt.plot(t, history.history['loss'], label='loss', color='C0')\n",
    "plt.plot(t, history.history['val_loss'], label='val_loss', color='C1')\n",
    "plt.xlabel('epochs')\n",
    "plt.ylabel('loss')\n",
    "plt.legend(loc=1)\n",
    "\n",
    "plt.subplot(212)\n",
    "plt.plot(t, history.history['acc'], label='acc', color='C2')\n",
    "plt.plot(t, history.history['val_acc'], label='val_acc', color='C3')\n",
    "plt.ylim([0.5, 1])\n",
    "plt.ylabel('acc')\n",
    "plt.xlabel('epochs')\n",
    "plt.legend(loc=1)\n",
    "\n",
    "plt.tight_layout()\n",
    "plt.savefig(root+'/embedding_dropout_LSTM.png')"
   ]
  },
  {
   "cell_type": "code",
   "execution_count": 45,
   "metadata": {},
   "outputs": [
    {
     "name": "stdout",
     "output_type": "stream",
     "text": [
      "5872/5872 [==============================] - 64s 11ms/step\n",
      "test_loss: 0.4874 - test_acc: 0.7803\n"
     ]
    }
   ],
   "source": [
    "test_loss, test_acc = model.evaluate(X_test, y_test)\n",
    "print('test_loss: {:1.4f} - test_acc: {:1.4f}'.format(test_loss, test_acc))"
   ]
  },
  {
   "cell_type": "code",
   "execution_count": null,
   "metadata": {},
   "outputs": [],
   "source": []
  }
 ],
 "metadata": {
  "kernelspec": {
   "display_name": "Python 2",
   "language": "python",
   "name": "python2"
  },
  "language_info": {
   "codemirror_mode": {
    "name": "ipython",
    "version": 2
   },
   "file_extension": ".py",
   "mimetype": "text/x-python",
   "name": "python",
   "nbconvert_exporter": "python",
   "pygments_lexer": "ipython2",
   "version": "2.7.14"
  }
 },
 "nbformat": 4,
 "nbformat_minor": 2
}
