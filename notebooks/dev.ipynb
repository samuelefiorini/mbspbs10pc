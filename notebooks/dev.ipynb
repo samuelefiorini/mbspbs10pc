{
 "cells": [
  {
   "cell_type": "code",
   "execution_count": 1,
   "metadata": {},
   "outputs": [],
   "source": [
    "import pandas as pd\n",
    "import numpy as np\n",
    "import joblib as jl\n",
    "from tqdm import tqdm\n",
    "import multiprocessing as mp"
   ]
  },
  {
   "cell_type": "code",
   "execution_count": 2,
   "metadata": {},
   "outputs": [
    {
     "data": {
      "text/html": [
       "<div>\n",
       "<style scoped>\n",
       "    .dataframe tbody tr th:only-of-type {\n",
       "        vertical-align: middle;\n",
       "    }\n",
       "\n",
       "    .dataframe tbody tr th {\n",
       "        vertical-align: top;\n",
       "    }\n",
       "\n",
       "    .dataframe thead th {\n",
       "        text-align: right;\n",
       "    }\n",
       "</style>\n",
       "<table border=\"1\" class=\"dataframe\">\n",
       "  <thead>\n",
       "    <tr style=\"text-align: right;\">\n",
       "      <th></th>\n",
       "      <th>ITM_CD</th>\n",
       "      <th>PTNT_ID</th>\n",
       "      <th>SPPLY_DT</th>\n",
       "    </tr>\n",
       "  </thead>\n",
       "  <tbody>\n",
       "    <tr>\n",
       "      <th>6</th>\n",
       "      <td>03415R</td>\n",
       "      <td>233260879</td>\n",
       "      <td>2010-12-29</td>\n",
       "    </tr>\n",
       "    <tr>\n",
       "      <th>99</th>\n",
       "      <td>01801T</td>\n",
       "      <td>9856006811</td>\n",
       "      <td>2010-11-11</td>\n",
       "    </tr>\n",
       "    <tr>\n",
       "      <th>139</th>\n",
       "      <td>02430X</td>\n",
       "      <td>112017407</td>\n",
       "      <td>2010-01-09</td>\n",
       "    </tr>\n",
       "    <tr>\n",
       "      <th>170</th>\n",
       "      <td>09302N</td>\n",
       "      <td>145495445</td>\n",
       "      <td>2010-10-17</td>\n",
       "    </tr>\n",
       "    <tr>\n",
       "      <th>171</th>\n",
       "      <td>09302N</td>\n",
       "      <td>9272712359</td>\n",
       "      <td>2010-07-23</td>\n",
       "    </tr>\n",
       "  </tbody>\n",
       "</table>\n",
       "</div>"
      ],
      "text/plain": [
       "     ITM_CD     PTNT_ID   SPPLY_DT\n",
       "6    03415R   233260879 2010-12-29\n",
       "99   01801T  9856006811 2010-11-11\n",
       "139  02430X   112017407 2010-01-09\n",
       "170  09302N   145495445 2010-10-17\n",
       "171  09302N  9272712359 2010-07-23"
      ]
     },
     "execution_count": 2,
     "metadata": {},
     "output_type": "execute_result"
    }
   ],
   "source": [
    "dd = jl.load(open('../tmp/auxfile_dd_.pkl', 'rb'))\n",
    "dd.head()"
   ]
  },
  {
   "cell_type": "code",
   "execution_count": null,
   "metadata": {},
   "outputs": [],
   "source": [
    "metonly = set(pd.read_csv('../mbspbs10pc/data/metformin_items.csv', header=0)['ITM_CD'].values.tolist())\n",
    "metx = set(pd.read_csv('../mbspbs10pc/data/metformin+x_items.csv', header=0)['ITM_CD'].values.tolist())"
   ]
  },
  {
   "cell_type": "code",
   "execution_count": null,
   "metadata": {},
   "outputs": [],
   "source": [
    "# METONLY\n",
    "grouped = dd.groupby(by='PTNT_ID')\n",
    "filtered = grouped.filter(lambda x: set(x['ITM_CD']).issubset(metonly)).groupby(by='PTNT_ID')\n",
    "idx = []\n",
    "start_date = []\n",
    "for name, group in filtered:\n",
    "    idx.append(name)\n",
    "    start_date.append(group['SPPLY_DT'].min().strftime('%Y-%m-%d'))\n",
    "print(len(idx))"
   ]
  },
  {
   "cell_type": "code",
   "execution_count": null,
   "metadata": {},
   "outputs": [],
   "source": [
    "# MET+X\n",
    "min_metformin = 10  # metformin only\n",
    "\n",
    "def condition(group):\n",
    "    if len(group) <= min_metformin:\n",
    "        return False\n",
    "    else:\n",
    "        sorted_group = group.sort_values(by='SPPLY_DT')\n",
    "        head = set(sorted_group.head(min_metformin)['ITM_CD'].values) # these must all be metformin\n",
    "        tail = set(sorted_group.tail(-min_metformin)['ITM_CD'].values) # there should be both in here\n",
    "\n",
    "        cond1 = head.issubset(metonly)\n",
    "        cond2 = len(tail.intersection(metonly)) > 0 and len(tail.intersection(metonly)) < len(tail)\n",
    "        cond3 = len(tail.intersection(metx)) > 0 # handling special case of met+x items introduced after 2014\n",
    "\n",
    "        return cond1 and (cond2 or cond3)\n",
    "    \n",
    "\n",
    "grouped = dd.groupby(by='PTNT_ID')\n",
    "filtered = grouped.filter(condition).groupby(by='PTNT_ID')\n",
    "\n",
    "# Init return items\n",
    "idx, start_date, end_date = list(), list(), list()\n",
    "\n",
    "# Build output variables\n",
    "for name, group in tqdm(filtered, desc='Finalizing', leave=False):\n",
    "    idx.append(name)\n",
    "    \n",
    "    sorted_group = group.sort_values(by='SPPLY_DT')\n",
    "    start_date.append(sorted_group.head(1)['SPPLY_DT'].max().strftime('%Y-%m-%d')) # first date FIXME: max() added for consistency\n",
    "    filtered_group = sorted_group[~sorted_group['ITM_CD'].isin(metonly)] # get the non metformins\n",
    "    end_date.append(filtered_group['SPPLY_DT'].min().strftime('%Y-%m-%d'))"
   ]
  },
  {
   "cell_type": "code",
   "execution_count": null,
   "metadata": {},
   "outputs": [],
   "source": [
    "# MET2X\n",
    "def condition(group):\n",
    "    if len(group) <= min_metformin:\n",
    "        return False\n",
    "    else:\n",
    "        sorted_group = group.sort_values(by='SPPLY_DT')\n",
    "        head = set(sorted_group.head(min_metformin)['ITM_CD'].values) # these must all be metformin\n",
    "        tail = set(sorted_group.tail(-min_metformin)['ITM_CD'].values) # there should be NO metformin in here\n",
    "\n",
    "        cond1 = head.issubset(metonly)\n",
    "        cond2 = len(tail.intersection(metonly)) == 0\n",
    "        cond3 = len(tail.intersection(metx)) == 0\n",
    "\n",
    "        return cond1 and cond2 and cond3\n",
    "    \n",
    "\n",
    "grouped = dd.groupby(by='PTNT_ID')\n",
    "filtered = grouped.filter(condition).groupby(by='PTNT_ID')"
   ]
  },
  {
   "cell_type": "code",
   "execution_count": null,
   "metadata": {},
   "outputs": [],
   "source": [
    "# Init return items\n",
    "idx, start_date, end_date = list(), list(), list()\n",
    "\n",
    "# Build output variables\n",
    "for name, group in tqdm(filtered, desc='Finalizing', leave=False):\n",
    "    idx.append(name)\n",
    "    \n",
    "    sorted_group = group.sort_values(by='SPPLY_DT')\n",
    "    start_date.append(sorted_group.head(1)['SPPLY_DT'].max().strftime('%Y-%m-%d')) # first date FIXME: max() added for consistency\n",
    "    filtered_group = sorted_group[~sorted_group['ITM_CD'].isin(metonly)] # get the non metformins\n",
    "    end_date.append(filtered_group['SPPLY_DT'].min().strftime('%Y-%m-%d'))"
   ]
  },
  {
   "cell_type": "code",
   "execution_count": null,
   "metadata": {},
   "outputs": [],
   "source": []
  },
  {
   "cell_type": "code",
   "execution_count": null,
   "metadata": {},
   "outputs": [],
   "source": [
    "labels = pd.read_csv('../tmp/labels.csv', header=0, index_col=0)\n",
    "labels.shape[0] - labels.dropna().shape[0]"
   ]
  },
  {
   "cell_type": "code",
   "execution_count": null,
   "metadata": {},
   "outputs": [],
   "source": [
    "ids = dd['PTNT_ID']\n",
    "idx012 = labels.dropna().index\n",
    "idx_other = set(ids) - set(idx012)"
   ]
  },
  {
   "cell_type": "code",
   "execution_count": null,
   "metadata": {},
   "outputs": [],
   "source": [
    "grouped = dd.groupby(by='PTNT_ID')\n",
    "filtered = grouped.filter(lambda x: x['PTNT_ID'].values[0] in idx_other).groupby(by='PTNT_ID')"
   ]
  },
  {
   "cell_type": "code",
   "execution_count": null,
   "metadata": {},
   "outputs": [],
   "source": [
    "start_date, end_date = list(), list()\n",
    "\n",
    "# Build output variables\n",
    "for name, group in tqdm(filtered, desc='Finalizing', leave=False):    \n",
    "    start_date.append(group['SPPLY_DT'].min().strftime('%Y-%m-%d'))\n",
    "    end_date.append(group['SPPLY_DT'].max().strftime('%Y-%m-%d'))"
   ]
  },
  {
   "cell_type": "code",
   "execution_count": null,
   "metadata": {},
   "outputs": [],
   "source": [
    "set(pd.read_csv('../mbspbs10pc/data/pregnancy_items.csv',usecols=['ITEM'])['ITEM'])"
   ]
  },
  {
   "cell_type": "code",
   "execution_count": null,
   "metadata": {},
   "outputs": [],
   "source": [
    "np.array_split(labels['START_DATE'].values, 3)"
   ]
  },
  {
   "cell_type": "markdown",
   "metadata": {},
   "source": [
    "# raw-data-extr"
   ]
  },
  {
   "cell_type": "code",
   "execution_count": 3,
   "metadata": {},
   "outputs": [],
   "source": [
    "import os\n",
    "import datetime\n",
    "source = '../tmp/labels.csv'\n",
    "home = ['../mbspbs10pc']\n",
    "exclude_pregnancy = True\n",
    "sample_pin_lookout = '../../../data/SAMPLE_PIN_LOOKUP.csv'\n",
    "mbs_files = filter(lambda x: 'MBS' in x, os.listdir('../../../data'))\n",
    "mbs_files = [os.path.join('..', '..', '..', 'data', x) for x in mbs_files]"
   ]
  },
  {
   "cell_type": "code",
   "execution_count": 4,
   "metadata": {},
   "outputs": [],
   "source": [
    "raw_data = dict()\n",
    "\n",
    "# Step 0: load the source file, the btos4d file and the diabetes drugs file\n",
    "dfs = pd.read_csv(source, header=0, index_col=0)\n",
    "dfs['PTNT_ID'] = dfs.index  # FIXME: this is LEGACY CODE\n",
    "btos4d = pd.read_csv(os.path.join(home[0], 'data', 'btos4d.csv'), header=0,\n",
    "                     usecols=['ITEM', 'BTOS-4D'])\n",
    "\n",
    "# check weather or not exclude pregnant subjects\n",
    "if exclude_pregnancy:\n",
    "    pregnancy_items = pd.read_csv(os.path.join(home[0], 'data', 'pregnancy_items.csv'),\n",
    "                                  header=0, usecols=['ITEM'])\n",
    "    pregnancy_items = set(pregnancy_items['ITEM'])\n",
    "\n",
    "# Step 1: get sex and age\n",
    "df_pin_lookout = pd.read_csv(sample_pin_lookout, header=0)\n",
    "df_pin_lookout['AGE'] = datetime.datetime.now().year - df_pin_lookout['YOB']  # this is the age as of TODAY\n",
    "dfs = pd.merge(dfs, df_pin_lookout, how='left', left_on='PTNT_ID', right_on='PIN')[['PIN', 'SEX', 'AGE', 'START_DATE', 'END_DATE', 'YOB']]\n",
    "dfs = dfs.set_index('PIN')  # set PIN as index (easier access below)\n",
    "# SPPLY_DT is the date of the FIRST diabetes drug supply"
   ]
  },
  {
   "cell_type": "code",
   "execution_count": 5,
   "metadata": {},
   "outputs": [
    {
     "data": {
      "text/plain": [
       "SEX                    M\n",
       "AGE                   75\n",
       "START_DATE    2008-01-19\n",
       "END_DATE      2014-09-11\n",
       "YOB                 1943\n",
       "Name: 1866585844, dtype: object"
      ]
     },
     "execution_count": 5,
     "metadata": {},
     "output_type": "execute_result"
    }
   ],
   "source": [
    "dfs.loc[1866585844]"
   ]
  },
  {
   "cell_type": "code",
   "execution_count": 13,
   "metadata": {},
   "outputs": [
    {
     "name": "stderr",
     "output_type": "stream",
     "text": [
      "                                                                \r"
     ]
    }
   ],
   "source": [
    "mbs_df = pd.DataFrame(columns=['PIN', 'ITEM', 'DOS', 'PINSTATE'])\n",
    "for mbs in tqdm(mbs_files, desc='MBS files loading', leave=False):\n",
    "    dd = pd.read_csv(mbs, header=0, usecols=['PIN', 'ITEM', 'DOS', 'PINSTATE'], engine='c')\n",
    "    if exclude_pregnancy: dd = dd.loc[~dd['ITEM'].isin(pregnancy_items), :]\n",
    "    dd = dd.loc[dd['PIN'].isin(dfs.index), :]  # keep only the relevant samples\n",
    "    dd = pd.merge(dd, btos4d, how='left', on='ITEM') # get the BTOS4D\n",
    "    mbs_df = pd.concat((mbs_df, dd))\n",
    "mbs_df.loc[:, 'DOS'] = pd.to_datetime(mbs_df['DOS'], format='%d%b%Y')"
   ]
  },
  {
   "cell_type": "code",
   "execution_count": 14,
   "metadata": {},
   "outputs": [
    {
     "data": {
      "text/html": [
       "<div>\n",
       "<style scoped>\n",
       "    .dataframe tbody tr th:only-of-type {\n",
       "        vertical-align: middle;\n",
       "    }\n",
       "\n",
       "    .dataframe tbody tr th {\n",
       "        vertical-align: top;\n",
       "    }\n",
       "\n",
       "    .dataframe thead th {\n",
       "        text-align: right;\n",
       "    }\n",
       "</style>\n",
       "<table border=\"1\" class=\"dataframe\">\n",
       "  <thead>\n",
       "    <tr style=\"text-align: right;\">\n",
       "      <th></th>\n",
       "      <th>BTOS-4D</th>\n",
       "      <th>DOS</th>\n",
       "      <th>ITEM</th>\n",
       "      <th>PIN</th>\n",
       "      <th>PINSTATE</th>\n",
       "    </tr>\n",
       "  </thead>\n",
       "  <tbody>\n",
       "    <tr>\n",
       "      <th>0</th>\n",
       "      <td>G</td>\n",
       "      <td>2010-09-08</td>\n",
       "      <td>23</td>\n",
       "      <td>1866585844</td>\n",
       "      <td>2</td>\n",
       "    </tr>\n",
       "    <tr>\n",
       "      <th>1</th>\n",
       "      <td>G</td>\n",
       "      <td>2010-10-31</td>\n",
       "      <td>52</td>\n",
       "      <td>5065251748</td>\n",
       "      <td>4</td>\n",
       "    </tr>\n",
       "    <tr>\n",
       "      <th>2</th>\n",
       "      <td>T</td>\n",
       "      <td>2010-07-14</td>\n",
       "      <td>10990</td>\n",
       "      <td>7806690482</td>\n",
       "      <td>1</td>\n",
       "    </tr>\n",
       "  </tbody>\n",
       "</table>\n",
       "</div>"
      ],
      "text/plain": [
       "  BTOS-4D        DOS   ITEM         PIN PINSTATE\n",
       "0       G 2010-09-08     23  1866585844        2\n",
       "1       G 2010-10-31     52  5065251748        4\n",
       "2       T 2010-07-14  10990  7806690482        1"
      ]
     },
     "execution_count": 14,
     "metadata": {},
     "output_type": "execute_result"
    }
   ],
   "source": [
    "mbs_df.head(3)"
   ]
  },
  {
   "cell_type": "code",
   "execution_count": 25,
   "metadata": {},
   "outputs": [],
   "source": [
    "grouped = mbs_df.groupby('PIN').filter(lambda x: len(x)>1).groupby('PIN')"
   ]
  },
  {
   "cell_type": "code",
   "execution_count": 16,
   "metadata": {},
   "outputs": [],
   "source": [
    "# group = grouped.get_group(1866585844)\n",
    "# group.head(3)"
   ]
  },
  {
   "cell_type": "code",
   "execution_count": 17,
   "metadata": {},
   "outputs": [],
   "source": [
    "MIN_SEQ_LENGTH = 10\n",
    "\n",
    "# def extract_sequence(group, dfs=None):\n",
    "def extract_sequence(group):\n",
    "    out = pd.DataFrame(columns=['seq', 'avg_year', 'last_pinstate'])\n",
    "    pin = group.PIN.values[0]\n",
    "    tmp = group.sort_values(by='DOS')  # sort by DOS\n",
    "    start_date = dfs.loc[pin]['START_DATE']  # get start date\n",
    "    end_date = dfs.loc[pin]['END_DATE']  # get end date\n",
    "    # select sequence timespan\n",
    "    tmp = tmp.loc[np.logical_and(tmp['DOS'] >= start_date, tmp['DOS'] <= end_date), :]\n",
    "    \n",
    "    if tmp.shape[0] > MIN_SEQ_LENGTH:  # keep only non-trivial sequencences\n",
    "        # evaluate the first order difference and convert each entry in WEEKS\n",
    "        timedeltas = map(lambda x: pd.Timedelta(x).days,\n",
    "                         tmp['DOS'].values[1:] - tmp['DOS'].values[:-1])\n",
    "        # use the appropriate encoding\n",
    "        timedeltas = map(timespan_encoding, timedeltas)\n",
    "        # then build the sequence as ['exam', idle-days, 'exam', idle-days, ...]\n",
    "#         seq = flatten([[btos, dt] for btos, dt in zip(tmp['BTOS-4D'].values, timedeltas)])\n",
    "        seq = flatten([[btos, dt] for btos, dt in zip(tmp['ITEM'].values, timedeltas)])\n",
    "        seq.append(tmp['ITEM'].values.ravel()[-1])  # add the last exam (ignored by zip)\n",
    "        # and finally collapse everything down to a string like 'G0G1H...'\n",
    "        seq = ' '.join(map(str, seq))\n",
    "        # compute the average age during the treatment by computing the average year\n",
    "        avg_year = np.mean(pd.DatetimeIndex(tmp['DOS'].values.ravel()).year) - dfs.loc[pin]['YOB']\n",
    "        # extract the last pinstate\n",
    "        last_pinstate = tmp['PINSTATE'].values.ravel()[-1]\n",
    "    else:\n",
    "        seq,avg_year, last_pinstate = np.nan, np.nan, np.nan\n",
    "\n",
    "    return pd.Series({'seq': seq, 'avg_year': avg_year, 'last_pinstate': last_pinstate})"
   ]
  },
  {
   "cell_type": "code",
   "execution_count": 18,
   "metadata": {},
   "outputs": [],
   "source": [
    "def timespan_encoding(days):\n",
    "    \"\"\"Convert the input days in the desired timespan encoding.\n",
    "\n",
    "    This function follows this encoding:\n",
    "    --------------------------------\n",
    "    Time duration        | Encoding\n",
    "    --------------------------------\n",
    "    [same day - 2 weeks] | 0\n",
    "    (2 weeks  - 1 month] | 1\n",
    "    (1 month  - 3 monts] | 2\n",
    "    (3 months - 1 year]  | 3\n",
    "    more than 1 year     | 4\n",
    "    --------------------------------\n",
    "\n",
    "    Parameters:\n",
    "    --------------\n",
    "    days: int\n",
    "        The number of days between any two examinations.\n",
    "\n",
    "    Returns:\n",
    "    --------------\n",
    "    enc: string\n",
    "        The corresponding encoding.\n",
    "    \"\"\"\n",
    "    if days < 0:\n",
    "        raise ValueError('Unsupported negative timespans')\n",
    "    elif days >= 0 and days <= 14:\n",
    "        enc = 0\n",
    "    elif days > 14 and days <= 30:  # using the \"economic\" month duration\n",
    "        enc = 1\n",
    "    elif days > 30 and days <= 90:  # using the \"economic\" month duration\n",
    "        enc = 2\n",
    "    elif days > 90 and days <= 360:  # using the \"economic\" year duration\n",
    "        enc = 3\n",
    "    else:\n",
    "        enc = 4\n",
    "    return str(enc)\n",
    "\n",
    "def flatten(x):\n",
    "    \"\"\"Flatten a list.\"\"\"\n",
    "    return [y for l in x for y in flatten(l)] \\\n",
    "        if type(x) in (list, np.ndarray) else [x]"
   ]
  },
  {
   "cell_type": "code",
   "execution_count": 19,
   "metadata": {},
   "outputs": [],
   "source": [
    "# from joblib import Parallel, delayed\n",
    "# from functools import partial\n",
    "\n",
    "# def applyParallel(grouped, func):\n",
    "#     return pd.concat(Parallel(n_jobs=3)(delayed(func)(group) for name, group in grouped))\n",
    "\n",
    "# out = applyParallel(grouped, partial(extract_sequence, dfs=dfs))"
   ]
  },
  {
   "cell_type": "code",
   "execution_count": 26,
   "metadata": {},
   "outputs": [],
   "source": [
    "out = grouped.apply(extract_sequence).dropna()\n",
    "out.to_csv('../tmp/raw_sequences.csv')"
   ]
  },
  {
   "cell_type": "code",
   "execution_count": 21,
   "metadata": {},
   "outputs": [],
   "source": [
    "# out.head()"
   ]
  },
  {
   "cell_type": "code",
   "execution_count": 22,
   "metadata": {},
   "outputs": [
    {
     "data": {
      "text/plain": [
       "(1041, 5)"
      ]
     },
     "execution_count": 22,
     "metadata": {},
     "output_type": "execute_result"
    }
   ],
   "source": [
    "small_idx = set([1866585844, 5065251748, 7806690482])\n",
    "small_mbs_df = mbs_df.loc[mbs_df['PIN'].isin(small_idx), :]\n",
    "small_mbs_df.shape"
   ]
  },
  {
   "cell_type": "code",
   "execution_count": 23,
   "metadata": {},
   "outputs": [],
   "source": [
    "small_grouped = small_mbs_df.groupby('PIN').filter(lambda x: len(x)>1).groupby('PIN')"
   ]
  },
  {
   "cell_type": "code",
   "execution_count": 24,
   "metadata": {},
   "outputs": [
    {
     "data": {
      "text/html": [
       "<div>\n",
       "<style scoped>\n",
       "    .dataframe tbody tr th:only-of-type {\n",
       "        vertical-align: middle;\n",
       "    }\n",
       "\n",
       "    .dataframe tbody tr th {\n",
       "        vertical-align: top;\n",
       "    }\n",
       "\n",
       "    .dataframe thead th {\n",
       "        text-align: right;\n",
       "    }\n",
       "</style>\n",
       "<table border=\"1\" class=\"dataframe\">\n",
       "  <thead>\n",
       "    <tr style=\"text-align: right;\">\n",
       "      <th></th>\n",
       "      <th>avg_year</th>\n",
       "      <th>last_pinstate</th>\n",
       "      <th>seq</th>\n",
       "    </tr>\n",
       "    <tr>\n",
       "      <th>PIN</th>\n",
       "      <th></th>\n",
       "      <th></th>\n",
       "      <th></th>\n",
       "    </tr>\n",
       "  </thead>\n",
       "  <tbody>\n",
       "    <tr>\n",
       "      <th>1866585844</th>\n",
       "      <td>68.710900</td>\n",
       "      <td>2</td>\n",
       "      <td>66515 0 23 0 73938 0 66551 0 66655 1 66656 0 7...</td>\n",
       "    </tr>\n",
       "    <tr>\n",
       "      <th>5065251748</th>\n",
       "      <td>75.861538</td>\n",
       "      <td>4</td>\n",
       "      <td>10990 0 23 1 721 0 10990 0 10990 0 723 0 10962...</td>\n",
       "    </tr>\n",
       "    <tr>\n",
       "      <th>7806690482</th>\n",
       "      <td>66.618497</td>\n",
       "      <td>1</td>\n",
       "      <td>71097 0 69478 0 73928 0 66653 0 36 0 10990 1 1...</td>\n",
       "    </tr>\n",
       "  </tbody>\n",
       "</table>\n",
       "</div>"
      ],
      "text/plain": [
       "             avg_year  last_pinstate  \\\n",
       "PIN                                    \n",
       "1866585844  68.710900              2   \n",
       "5065251748  75.861538              4   \n",
       "7806690482  66.618497              1   \n",
       "\n",
       "                                                          seq  \n",
       "PIN                                                            \n",
       "1866585844  66515 0 23 0 73938 0 66551 0 66655 1 66656 0 7...  \n",
       "5065251748  10990 0 23 1 721 0 10990 0 10990 0 723 0 10962...  \n",
       "7806690482  71097 0 69478 0 73928 0 66653 0 36 0 10990 1 1...  "
      ]
     },
     "execution_count": 24,
     "metadata": {},
     "output_type": "execute_result"
    }
   ],
   "source": [
    "small_out = small_grouped.apply(extract_sequence).dropna()\n",
    "small_out"
   ]
  },
  {
   "cell_type": "code",
   "execution_count": null,
   "metadata": {},
   "outputs": [],
   "source": []
  },
  {
   "cell_type": "code",
   "execution_count": null,
   "metadata": {},
   "outputs": [],
   "source": []
  },
  {
   "cell_type": "code",
   "execution_count": null,
   "metadata": {},
   "outputs": [],
   "source": []
  },
  {
   "cell_type": "code",
   "execution_count": null,
   "metadata": {},
   "outputs": [],
   "source": []
  },
  {
   "cell_type": "code",
   "execution_count": null,
   "metadata": {},
   "outputs": [],
   "source": [
    "out.head()"
   ]
  },
  {
   "cell_type": "code",
   "execution_count": null,
   "metadata": {},
   "outputs": [],
   "source": [
    "# Define the PINSTATE map\n",
    "pinstate_map = {1.: 'ACT+NSW', 2.: 'VIC+TAS',\n",
    "                3.: 'NT+SA', 4.: 'QLD', 5.: 'WA'}"
   ]
  },
  {
   "cell_type": "code",
   "execution_count": null,
   "metadata": {},
   "outputs": [],
   "source": [
    "out.loc[:, 'last_pinstate'] = out.loc[:, 'last_pinstate'].map(lambda x: pinstate_map[x])\n",
    "out.head()\n"
   ]
  },
  {
   "cell_type": "code",
   "execution_count": null,
   "metadata": {},
   "outputs": [],
   "source": [
    "out['seq'].apply(lambda x: len(x))"
   ]
  },
  {
   "cell_type": "code",
   "execution_count": null,
   "metadata": {},
   "outputs": [],
   "source": []
  }
 ],
 "metadata": {
  "kernelspec": {
   "display_name": "Python 2",
   "language": "python",
   "name": "python2"
  },
  "language_info": {
   "codemirror_mode": {
    "name": "ipython",
    "version": 2
   },
   "file_extension": ".py",
   "mimetype": "text/x-python",
   "name": "python",
   "nbconvert_exporter": "python",
   "pygments_lexer": "ipython2",
   "version": "2.7.14"
  }
 },
 "nbformat": 4,
 "nbformat_minor": 2
}
