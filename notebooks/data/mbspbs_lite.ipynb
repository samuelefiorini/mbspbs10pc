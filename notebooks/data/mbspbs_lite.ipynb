{
 "cells": [
  {
   "cell_type": "code",
   "execution_count": 3,
   "metadata": {},
   "outputs": [],
   "source": [
    "import pandas as pd\n",
    "import numpy as np\n",
    "import os"
   ]
  },
  {
   "cell_type": "markdown",
   "metadata": {},
   "source": [
    "# Make lite versions of MBS-PBS dataset"
   ]
  },
  {
   "cell_type": "code",
   "execution_count": 7,
   "metadata": {},
   "outputs": [],
   "source": [
    "n_samples = 500000\n",
    "root = '../../../data/'\n",
    "root_lite = '../../../data_lite/'\n",
    "\n",
    "mbs_files = filter(lambda x: 'MBS' in x, os.listdir(root))\n",
    "pbs_files = filter(lambda x: 'PBS' in x, os.listdir(root))"
   ]
  },
  {
   "cell_type": "code",
   "execution_count": 10,
   "metadata": {},
   "outputs": [
    {
     "name": "stdout",
     "output_type": "stream",
     "text": [
      "MBS_SAMPLE_10PCT_2010.csv\n"
     ]
    },
    {
     "name": "stderr",
     "output_type": "stream",
     "text": [
      "/home/samu/miniconda2/lib/python2.7/site-packages/numpy/lib/arraysetops.py:472: FutureWarning: elementwise comparison failed; returning scalar instead, but in the future will perform elementwise comparison\n",
      "  mask |= (ar1 == a)\n"
     ]
    },
    {
     "name": "stdout",
     "output_type": "stream",
     "text": [
      "MBS_SAMPLE_10PCT_2013.csv\n",
      "MBS_SAMPLE_10PCT_2008.csv\n",
      "MBS_SAMPLE_10PCT_2009.csv\n",
      "MBS_SAMPLE_10PCT_2011.csv\n",
      "MBS_SAMPLE_10PCT_2014.csv\n",
      "MBS_SAMPLE_10PCT_2012.csv\n"
     ]
    }
   ],
   "source": [
    "for mbs in mbs_files:\n",
    "    print(mbs)\n",
    "    df = pd.read_csv(os.path.join(root, mbs), header=0, index_col=0)\n",
    "    idx = np.arange(n_samples)\n",
    "    np.random.shuffle(idx)\n",
    "    df.iloc[idx, :].to_csv(os.path.join(root_lite, mbs))"
   ]
  },
  {
   "cell_type": "code",
   "execution_count": 11,
   "metadata": {},
   "outputs": [
    {
     "name": "stdout",
     "output_type": "stream",
     "text": [
      "PBS_SAMPLE_10PCT_2010.csv\n"
     ]
    },
    {
     "name": "stderr",
     "output_type": "stream",
     "text": [
      "/home/samu/miniconda2/lib/python2.7/site-packages/IPython/core/interactiveshell.py:2718: DtypeWarning: Columns (10) have mixed types. Specify dtype option on import or set low_memory=False.\n",
      "  interactivity=interactivity, compiler=compiler, result=result)\n"
     ]
    },
    {
     "name": "stdout",
     "output_type": "stream",
     "text": [
      "PBS_SAMPLE_10PCT_2011.csv\n",
      "PBS_SAMPLE_10PCT_2012.csv\n",
      "PBS_SAMPLE_10PCT_2014.csv\n",
      "PBS_SAMPLE_10PCT_2009.csv\n",
      "PBS_SAMPLE_10PCT_2013.csv\n",
      "PBS_SAMPLE_10PCT_2008.csv\n"
     ]
    }
   ],
   "source": [
    "for pbs in pbs_files:\n",
    "    print(pbs)\n",
    "    df = pd.read_csv(os.path.join(root, pbs), header=0, index_col=0)\n",
    "    idx = np.arange(n_samples)\n",
    "    np.random.shuffle(idx)\n",
    "    df.iloc[idx, :].to_csv(os.path.join(root_lite, pbs))"
   ]
  },
  {
   "cell_type": "code",
   "execution_count": null,
   "metadata": {},
   "outputs": [],
   "source": []
  }
 ],
 "metadata": {
  "kernelspec": {
   "display_name": "Python 2",
   "language": "python",
   "name": "python2"
  },
  "language_info": {
   "codemirror_mode": {
    "name": "ipython",
    "version": 2
   },
   "file_extension": ".py",
   "mimetype": "text/x-python",
   "name": "python",
   "nbconvert_exporter": "python",
   "pygments_lexer": "ipython2",
   "version": "2.7.14"
  }
 },
 "nbformat": 4,
 "nbformat_minor": 2
}
