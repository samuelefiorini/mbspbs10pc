{
 "cells": [
  {
   "cell_type": "code",
   "execution_count": 1,
   "metadata": {},
   "outputs": [],
   "source": [
    "%matplotlib inline\n",
    "%load_ext autoreload"
   ]
  },
  {
   "cell_type": "code",
   "execution_count": 2,
   "metadata": {},
   "outputs": [],
   "source": [
    "import os\n",
    "import sys\n",
    "import numpy as np\n",
    "import pandas as pd\n",
    "import matplotlib.pyplot as plt\n",
    "\n",
    "sys.path.append('../../mbspbs10pc')\n",
    "\n",
    "from mbspbs10pc import utils"
   ]
  },
  {
   "cell_type": "markdown",
   "metadata": {},
   "source": [
    "# Check MBS-PBS 10% data availability"
   ]
  },
  {
   "cell_type": "code",
   "execution_count": 3,
   "metadata": {},
   "outputs": [
    {
     "name": "stdout",
     "output_type": "stream",
     "text": [
      "MBS files:\n",
      "../../../data/MBS_SAMPLE_10PCT_2014.csv\n",
      "../../../data/MBS_SAMPLE_10PCT_2010.csv\n",
      "../../../data/MBS_SAMPLE_10PCT_2012.csv\n",
      "../../../data/MBS_SAMPLE_10PCT_2008.csv\n",
      "../../../data/MBS_SAMPLE_10PCT_2009.csv\n",
      "../../../data/MBS_SAMPLE_10PCT_2013.csv\n",
      "../../../data/MBS_SAMPLE_10PCT_2011.csv\n",
      "PBS files:\n",
      "../../../data/PBS_SAMPLE_10PCT_2012.csv\n",
      "../../../data/PBS_SAMPLE_10PCT_2011.csv\n",
      "../../../data/PBS_SAMPLE_10PCT_2009.csv\n",
      "../../../data/PBS_SAMPLE_10PCT_2013.csv\n",
      "../../../data/PBS_SAMPLE_10PCT_2008.csv\n",
      "../../../data/PBS_SAMPLE_10PCT_2010.csv\n",
      "Sample PIN lookout: ../../../data/SAMPLE_PIN_LOOKUP.csv\n"
     ]
    }
   ],
   "source": [
    "ROOT = os.path.join('..','..','..','data')\n",
    "\n",
    "mbs_files = filter(lambda x: x.startswith('MBS'), os.listdir(ROOT))\n",
    "pbs_files = filter(lambda x: x.startswith('PBS'), os.listdir(ROOT))\n",
    "sample_pin_lookout = filter(lambda x: x.startswith('SAMPLE'), os.listdir(ROOT))[0]\n",
    "\n",
    "print('MBS files:')\n",
    "for mbs in mbs_files:\n",
    "    print('{}'.format(os.path.join(ROOT, mbs)))\n",
    "    \n",
    "print('PBS files:')\n",
    "for pbs in pbs_files:\n",
    "    print('{}'.format(os.path.join(ROOT, pbs)))\n",
    "    \n",
    "print('Sample PIN lookout: {}'.format(os.path.join(ROOT, sample_pin_lookout)))"
   ]
  },
  {
   "cell_type": "markdown",
   "metadata": {},
   "source": [
    "# PBS take a look"
   ]
  },
  {
   "cell_type": "code",
   "execution_count": 4,
   "metadata": {},
   "outputs": [
    {
     "data": {
      "text/plain": [
       "(1000, 13)"
      ]
     },
     "execution_count": 4,
     "metadata": {},
     "output_type": "execute_result"
    }
   ],
   "source": [
    "filename = pbs_files[0]\n",
    "df = pd.read_csv(os.path.join(ROOT, '{}'.format(filename)), header=0, index_col=0, nrows=1000)\n",
    "df.shape"
   ]
  },
  {
   "cell_type": "code",
   "execution_count": 5,
   "metadata": {},
   "outputs": [
    {
     "data": {
      "text/html": [
       "<div>\n",
       "<style scoped>\n",
       "    .dataframe tbody tr th:only-of-type {\n",
       "        vertical-align: middle;\n",
       "    }\n",
       "\n",
       "    .dataframe tbody tr th {\n",
       "        vertical-align: top;\n",
       "    }\n",
       "\n",
       "    .dataframe thead th {\n",
       "        text-align: right;\n",
       "    }\n",
       "</style>\n",
       "<table border=\"1\" class=\"dataframe\">\n",
       "  <thead>\n",
       "    <tr style=\"text-align: right;\">\n",
       "      <th></th>\n",
       "      <th>SPPLY_DT</th>\n",
       "      <th>ITM_CD</th>\n",
       "      <th>PBS_RGLTN24_ADJST_QTY</th>\n",
       "      <th>BNFT_AMT</th>\n",
       "      <th>PTNT_CNTRBTN_AMT</th>\n",
       "      <th>SRT_RPT_IND</th>\n",
       "      <th>RGLTN24_IND</th>\n",
       "      <th>DRG_TYP_CD</th>\n",
       "      <th>MJR_SPCLTY_GRP_CD</th>\n",
       "      <th>UNDR_CPRSCRPTN_TYP_CD</th>\n",
       "      <th>PRSCRPTN_CNT</th>\n",
       "      <th>PTNT_CTGRY_DRVD_CD</th>\n",
       "      <th>PTNT_STATE</th>\n",
       "    </tr>\n",
       "    <tr>\n",
       "      <th>PTNT_ID</th>\n",
       "      <th></th>\n",
       "      <th></th>\n",
       "      <th></th>\n",
       "      <th></th>\n",
       "      <th></th>\n",
       "      <th></th>\n",
       "      <th></th>\n",
       "      <th></th>\n",
       "      <th></th>\n",
       "      <th></th>\n",
       "      <th></th>\n",
       "      <th></th>\n",
       "      <th></th>\n",
       "    </tr>\n",
       "  </thead>\n",
       "  <tbody>\n",
       "    <tr>\n",
       "      <th>4599420094</th>\n",
       "      <td>11DEC2012</td>\n",
       "      <td>02236Q</td>\n",
       "      <td>30</td>\n",
       "      <td>0.00</td>\n",
       "      <td>16.01</td>\n",
       "      <td>R</td>\n",
       "      <td>N</td>\n",
       "      <td>GE</td>\n",
       "      <td>1.0</td>\n",
       "      <td>U</td>\n",
       "      <td>1</td>\n",
       "      <td>G2</td>\n",
       "      <td>VIC</td>\n",
       "    </tr>\n",
       "    <tr>\n",
       "      <th>5850597601</th>\n",
       "      <td>26NOV2012</td>\n",
       "      <td>08386J</td>\n",
       "      <td>56</td>\n",
       "      <td>72.91</td>\n",
       "      <td>0.00</td>\n",
       "      <td>R</td>\n",
       "      <td>N</td>\n",
       "      <td>GE</td>\n",
       "      <td>1.0</td>\n",
       "      <td>NaN</td>\n",
       "      <td>1</td>\n",
       "      <td>C0</td>\n",
       "      <td>NSW</td>\n",
       "    </tr>\n",
       "    <tr>\n",
       "      <th>1237668038</th>\n",
       "      <td>25FEB2012</td>\n",
       "      <td>08214H</td>\n",
       "      <td>30</td>\n",
       "      <td>22.60</td>\n",
       "      <td>35.40</td>\n",
       "      <td>R</td>\n",
       "      <td>N</td>\n",
       "      <td>GE</td>\n",
       "      <td>1.0</td>\n",
       "      <td>NaN</td>\n",
       "      <td>1</td>\n",
       "      <td>G2</td>\n",
       "      <td>VIC</td>\n",
       "    </tr>\n",
       "    <tr>\n",
       "      <th>4493310342</th>\n",
       "      <td>18JAN2012</td>\n",
       "      <td>02055E</td>\n",
       "      <td>120</td>\n",
       "      <td>18.92</td>\n",
       "      <td>5.80</td>\n",
       "      <td>R</td>\n",
       "      <td>N</td>\n",
       "      <td>GE</td>\n",
       "      <td>1.0</td>\n",
       "      <td>NaN</td>\n",
       "      <td>1</td>\n",
       "      <td>C1</td>\n",
       "      <td>VIC</td>\n",
       "    </tr>\n",
       "    <tr>\n",
       "      <th>2902208774</th>\n",
       "      <td>26DEC2012</td>\n",
       "      <td>02751T</td>\n",
       "      <td>30</td>\n",
       "      <td>11.56</td>\n",
       "      <td>0.00</td>\n",
       "      <td>NaN</td>\n",
       "      <td>N</td>\n",
       "      <td>GE</td>\n",
       "      <td>1.0</td>\n",
       "      <td>NaN</td>\n",
       "      <td>1</td>\n",
       "      <td>C0</td>\n",
       "      <td>SA</td>\n",
       "    </tr>\n",
       "  </tbody>\n",
       "</table>\n",
       "</div>"
      ],
      "text/plain": [
       "             SPPLY_DT  ITM_CD  PBS_RGLTN24_ADJST_QTY  BNFT_AMT  \\\n",
       "PTNT_ID                                                          \n",
       "4599420094  11DEC2012  02236Q                     30      0.00   \n",
       "5850597601  26NOV2012  08386J                     56     72.91   \n",
       "1237668038  25FEB2012  08214H                     30     22.60   \n",
       "4493310342  18JAN2012  02055E                    120     18.92   \n",
       "2902208774  26DEC2012  02751T                     30     11.56   \n",
       "\n",
       "            PTNT_CNTRBTN_AMT SRT_RPT_IND RGLTN24_IND DRG_TYP_CD  \\\n",
       "PTNT_ID                                                           \n",
       "4599420094             16.01           R           N         GE   \n",
       "5850597601              0.00           R           N         GE   \n",
       "1237668038             35.40           R           N         GE   \n",
       "4493310342              5.80           R           N         GE   \n",
       "2902208774              0.00         NaN           N         GE   \n",
       "\n",
       "            MJR_SPCLTY_GRP_CD UNDR_CPRSCRPTN_TYP_CD  PRSCRPTN_CNT  \\\n",
       "PTNT_ID                                                             \n",
       "4599420094                1.0                     U             1   \n",
       "5850597601                1.0                   NaN             1   \n",
       "1237668038                1.0                   NaN             1   \n",
       "4493310342                1.0                   NaN             1   \n",
       "2902208774                1.0                   NaN             1   \n",
       "\n",
       "           PTNT_CTGRY_DRVD_CD PTNT_STATE  \n",
       "PTNT_ID                                   \n",
       "4599420094                 G2        VIC  \n",
       "5850597601                 C0        NSW  \n",
       "1237668038                 G2        VIC  \n",
       "4493310342                 C1        VIC  \n",
       "2902208774                 C0         SA  "
      ]
     },
     "execution_count": 5,
     "metadata": {},
     "output_type": "execute_result"
    }
   ],
   "source": [
    "df.head()"
   ]
  },
  {
   "cell_type": "code",
   "execution_count": 6,
   "metadata": {},
   "outputs": [],
   "source": [
    "dd = pd.read_csv(os.path.join('..', 'data', 'drugs_used_in_diabetes.csv'), header=0)\n",
    "\n",
    "# Fix 6-digit notation\n",
    "dd_set = set()\n",
    "for item in dd.values.ravel():\n",
    "    if len(item)<6:\n",
    "        dd_set.add(str(0)+item)\n",
    "    else:\n",
    "        dd_set.add(item)"
   ]
  },
  {
   "cell_type": "code",
   "execution_count": null,
   "metadata": {},
   "outputs": [],
   "source": [
    "print(dd_set)"
   ]
  },
  {
   "cell_type": "code",
   "execution_count": null,
   "metadata": {},
   "outputs": [],
   "source": [
    "for filename in pbs_files:\n",
    "    reader = pd.read_csv(os.path.join(ROOT, '{}'.format(filename)), chunksize=1000)\n",
    "    \n",
    "    for i, chunk in enumerate(reader):\n",
    "        idx = chunk.loc[chunk['ITM_CD'].isin(dd_set)]['ITM_CD'].index\n",
    "        if len(idx)> 0: print(idx)\n",
    "    break"
   ]
  },
  {
   "cell_type": "code",
   "execution_count": null,
   "metadata": {},
   "outputs": [],
   "source": [
    "import multiprocessing as mp\n",
    "from multiprocessing import Manager\n",
    "\n",
    "manager = Manager()\n",
    "results = manager.dict()\n",
    "\n",
    "def process_chunk(i, chunk, results):\n",
    "    # process data frame\n",
    "    idx = chunk.loc[chunk['ITM_CD'].isin(dd_set)]['PTNT_ID']\n",
    "    if len(idx)>0: results[i] = idx.values\n",
    "\n",
    "reader = pd.read_csv(os.path.join(ROOT, '{}'.format(filename)), chunksize=5000)\n",
    "pool = mp.Pool(8) # use 4 processes\n",
    "\n",
    "jobs = []\n",
    "for i, chunk in enumerate(reader):\n",
    "    # process each data frame\n",
    "    f = pool.apply_async(process_chunk, [i, chunk, results])\n",
    "    jobs.append(f)\n",
    "\n",
    "for f in jobs:\n",
    "    f.get()\n",
    "\n",
    "\n"
   ]
  },
  {
   "cell_type": "code",
   "execution_count": null,
   "metadata": {},
   "outputs": [],
   "source": [
    "pbs_years = [s.split('_')[-1].split('.')[0] for s in pbs_files]"
   ]
  },
  {
   "cell_type": "code",
   "execution_count": 7,
   "metadata": {},
   "outputs": [],
   "source": [
    "import cPickle as pkl"
   ]
  },
  {
   "cell_type": "code",
   "execution_count": 15,
   "metadata": {},
   "outputs": [],
   "source": [
    "with open('../tmp/dfy.pkl','rb') as f:\n",
    "    dfy = pkl.load(f)"
   ]
  },
  {
   "cell_type": "code",
   "execution_count": 22,
   "metadata": {},
   "outputs": [
    {
     "data": {
      "text/plain": [
       "array([], dtype=object)"
      ]
     },
     "execution_count": 22,
     "metadata": {},
     "output_type": "execute_result"
    }
   ],
   "source": [
    "years = range(2008, 2014)\n",
    "\n",
    "np.intersect1d(dfy['../../data/PBS_SAMPLE_10PCT_2008.csv'], dfy['../../data/PBS_SAMPLE_10PCT_2009.csv'])"
   ]
  },
  {
   "cell_type": "code",
   "execution_count": null,
   "metadata": {},
   "outputs": [],
   "source": [
    "dfy['../../data/PBS_SAMPLE_10PCT_2008.csv']"
   ]
  },
  {
   "cell_type": "code",
   "execution_count": 19,
   "metadata": {},
   "outputs": [
    {
     "data": {
      "text/plain": [
       "([<matplotlib.axis.XTick at 0x7f9a9aafafd0>,\n",
       "  <matplotlib.axis.XTick at 0x7f9a9ab382d0>,\n",
       "  <matplotlib.axis.XTick at 0x7f9a9ab14c50>,\n",
       "  <matplotlib.axis.XTick at 0x7f9a9ab2a790>,\n",
       "  <matplotlib.axis.XTick at 0x7f9a9ab2ac50>,\n",
       "  <matplotlib.axis.XTick at 0x7f9a9aab7150>],\n",
       " <a list of 6 Text xticklabel objects>)"
      ]
     },
     "execution_count": 19,
     "metadata": {},
     "output_type": "execute_result"
    },
    {
     "data": {
      "image/png": "[encoded data removed]",
      "text/plain": [
       "<matplotlib.figure.Figure at 0x7f9a9ccdd450>"
      ]
     },
     "metadata": {},
     "output_type": "display_data"
    }
   ],
   "source": [
    "lengths = [len(dfy[k]) for k in dfy.keys()]\n",
    "plt.bar(range(len(lengths)), lengths)\n",
    "plt.xticks(range(len(lengths)), dfy.keys(), rotation='vertical')"
   ]
  },
  {
   "cell_type": "code",
   "execution_count": null,
   "metadata": {},
   "outputs": [],
   "source": []
  }
 ],
 "metadata": {
  "anaconda-cloud": {},
  "kernelspec": {
   "display_name": "Python 2",
   "language": "python",
   "name": "python2"
  },
  "language_info": {
   "codemirror_mode": {
    "name": "ipython",
    "version": 2
   },
   "file_extension": ".py",
   "mimetype": "text/x-python",
   "name": "python",
   "nbconvert_exporter": "python",
   "pygments_lexer": "ipython2",
   "version": "2.7.14"
  }
 },
 "nbformat": 4,
 "nbformat_minor": 2
}
