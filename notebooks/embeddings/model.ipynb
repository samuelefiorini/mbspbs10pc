{
 "cells": [
  {
   "cell_type": "code",
   "execution_count": 1,
   "metadata": {},
   "outputs": [
    {
     "name": "stderr",
     "output_type": "stream",
     "text": [
      "Using TensorFlow backend.\n"
     ]
    }
   ],
   "source": [
    "%matplotlib inline\n",
    "import pandas as pd\n",
    "import numpy as np\n",
    "import joblib as jl\n",
    "import matplotlib.pyplot as plt\n",
    "import warnings\n",
    "warnings.filterwarnings('ignore')\n",
    "\n",
    "from sklearn.model_selection import StratifiedShuffleSplit\n",
    "from sklearn import metrics\n",
    "\n",
    "from keras.preprocessing.text import Tokenizer\n",
    "from keras.preprocessing.sequence import pad_sequences\n",
    "\n",
    "root = 'dl'"
   ]
  },
  {
   "cell_type": "markdown",
   "metadata": {},
   "source": [
    "# Load raw data"
   ]
  },
  {
   "cell_type": "code",
   "execution_count": 2,
   "metadata": {},
   "outputs": [
    {
     "data": {
      "text/html": [
       "<div>\n",
       "<style scoped>\n",
       "    .dataframe tbody tr th:only-of-type {\n",
       "        vertical-align: middle;\n",
       "    }\n",
       "\n",
       "    .dataframe tbody tr th {\n",
       "        vertical-align: top;\n",
       "    }\n",
       "\n",
       "    .dataframe thead th {\n",
       "        text-align: right;\n",
       "    }\n",
       "</style>\n",
       "<table border=\"1\" class=\"dataframe\">\n",
       "  <thead>\n",
       "    <tr style=\"text-align: right;\">\n",
       "      <th></th>\n",
       "      <th>CLASS</th>\n",
       "    </tr>\n",
       "    <tr>\n",
       "      <th>PIN</th>\n",
       "      <th></th>\n",
       "    </tr>\n",
       "  </thead>\n",
       "  <tbody>\n",
       "    <tr>\n",
       "      <th>568483</th>\n",
       "      <td>1</td>\n",
       "    </tr>\n",
       "    <tr>\n",
       "      <th>923748</th>\n",
       "      <td>0</td>\n",
       "    </tr>\n",
       "    <tr>\n",
       "      <th>2035328</th>\n",
       "      <td>0</td>\n",
       "    </tr>\n",
       "    <tr>\n",
       "      <th>2239386</th>\n",
       "      <td>1</td>\n",
       "    </tr>\n",
       "    <tr>\n",
       "      <th>2244533</th>\n",
       "      <td>1</td>\n",
       "    </tr>\n",
       "  </tbody>\n",
       "</table>\n",
       "</div>"
      ],
      "text/plain": [
       "         CLASS\n",
       "PIN           \n",
       "568483       1\n",
       "923748       0\n",
       "2035328      0\n",
       "2239386      1\n",
       "2244533      1"
      ]
     },
     "execution_count": 2,
     "metadata": {},
     "output_type": "execute_result"
    }
   ],
   "source": [
    "labels = pd.read_csv('../../tmp/1_METONLY_vs_METX/matched_CEM_table.csv', header=0).rename({'Unnamed: 0': 'PIN'}, axis=1)[['PIN', 'CLASS']].set_index('PIN')\n",
    "labels.head()"
   ]
  },
  {
   "cell_type": "code",
   "execution_count": 3,
   "metadata": {},
   "outputs": [
    {
     "data": {
      "text/html": [
       "<div>\n",
       "<style scoped>\n",
       "    .dataframe tbody tr th:only-of-type {\n",
       "        vertical-align: middle;\n",
       "    }\n",
       "\n",
       "    .dataframe tbody tr th {\n",
       "        vertical-align: top;\n",
       "    }\n",
       "\n",
       "    .dataframe thead th {\n",
       "        text-align: right;\n",
       "    }\n",
       "</style>\n",
       "<table border=\"1\" class=\"dataframe\">\n",
       "  <thead>\n",
       "    <tr style=\"text-align: right;\">\n",
       "      <th></th>\n",
       "      <th>Seq</th>\n",
       "      <th>Class</th>\n",
       "    </tr>\n",
       "    <tr>\n",
       "      <th>PIN</th>\n",
       "      <th></th>\n",
       "      <th></th>\n",
       "    </tr>\n",
       "  </thead>\n",
       "  <tbody>\n",
       "    <tr>\n",
       "      <th>568483</th>\n",
       "      <td>10990 0 23 16 725 0 10990 0 10990 0 10990 0 10...</td>\n",
       "      <td>1</td>\n",
       "    </tr>\n",
       "    <tr>\n",
       "      <th>923748</th>\n",
       "      <td>66653 0 65070 0 66515 5 10962 1 105 1 56807 42...</td>\n",
       "      <td>0</td>\n",
       "    </tr>\n",
       "    <tr>\n",
       "      <th>2035328</th>\n",
       "      <td>66536 0 74995 0 66512 0 66551 0 66608 0 66716 ...</td>\n",
       "      <td>0</td>\n",
       "    </tr>\n",
       "    <tr>\n",
       "      <th>2239386</th>\n",
       "      <td>10991 0 23 105 73928 0 66560 0 66515 0 66551 0...</td>\n",
       "      <td>1</td>\n",
       "    </tr>\n",
       "    <tr>\n",
       "      <th>2244533</th>\n",
       "      <td>10990 0 23 74 23 0 10990 1 73928 0 66500 0 665...</td>\n",
       "      <td>1</td>\n",
       "    </tr>\n",
       "  </tbody>\n",
       "</table>\n",
       "</div>"
      ],
      "text/plain": [
       "                                                       Seq  Class\n",
       "PIN                                                              \n",
       "568483   10990 0 23 16 725 0 10990 0 10990 0 10990 0 10...      1\n",
       "923748   66653 0 65070 0 66515 5 10962 1 105 1 56807 42...      0\n",
       "2035328  66536 0 74995 0 66512 0 66551 0 66608 0 66716 ...      0\n",
       "2239386  10991 0 23 105 73928 0 66560 0 66515 0 66551 0...      1\n",
       "2244533  10990 0 23 74 23 0 10990 1 73928 0 66500 0 665...      1"
      ]
     },
     "execution_count": 3,
     "metadata": {},
     "output_type": "execute_result"
    }
   ],
   "source": [
    "data = jl.load(open('../../tmp/item_days_raw_data_.pkl', 'rb')).loc[labels.index, 'seq']\n",
    "df = pd.DataFrame(columns=['Seq', 'Class'], index=data.index)\n",
    "df.loc[:, 'Seq'] = data\n",
    "df.loc[:, 'Class'] = labels['CLASS']\n",
    "df.head()"
   ]
  },
  {
   "cell_type": "markdown",
   "metadata": {},
   "source": [
    "# Separate MBS items and timepoints"
   ]
  },
  {
   "cell_type": "code",
   "execution_count": 4,
   "metadata": {},
   "outputs": [],
   "source": [
    "for idx in df.index:\n",
    "    _tmp = df.loc[idx, 'Seq'].split(' ')\n",
    "    df.loc[idx, 'mbs_seq'] = ' '.join(_tmp[::2])\n",
    "    df.loc[idx, 'times_seq'] = ' '.join(_tmp[1::2])"
   ]
  },
  {
   "cell_type": "code",
   "execution_count": 5,
   "metadata": {},
   "outputs": [
    {
     "data": {
      "text/html": [
       "<div>\n",
       "<style scoped>\n",
       "    .dataframe tbody tr th:only-of-type {\n",
       "        vertical-align: middle;\n",
       "    }\n",
       "\n",
       "    .dataframe tbody tr th {\n",
       "        vertical-align: top;\n",
       "    }\n",
       "\n",
       "    .dataframe thead th {\n",
       "        text-align: right;\n",
       "    }\n",
       "</style>\n",
       "<table border=\"1\" class=\"dataframe\">\n",
       "  <thead>\n",
       "    <tr style=\"text-align: right;\">\n",
       "      <th></th>\n",
       "      <th>Seq</th>\n",
       "      <th>Class</th>\n",
       "      <th>mbs_seq</th>\n",
       "      <th>times_seq</th>\n",
       "    </tr>\n",
       "    <tr>\n",
       "      <th>PIN</th>\n",
       "      <th></th>\n",
       "      <th></th>\n",
       "      <th></th>\n",
       "      <th></th>\n",
       "    </tr>\n",
       "  </thead>\n",
       "  <tbody>\n",
       "    <tr>\n",
       "      <th>568483</th>\n",
       "      <td>10990 0 23 16 725 0 10990 0 10990 0 10990 0 10...</td>\n",
       "      <td>1</td>\n",
       "      <td>10990 23 725 10990 10990 10990 10993 23 85311 ...</td>\n",
       "      <td>0 16 0 0 0 0 0 15 0 0 13 0 0 0 22 0 0 0 0 0 0 ...</td>\n",
       "    </tr>\n",
       "    <tr>\n",
       "      <th>923748</th>\n",
       "      <td>66653 0 65070 0 66515 5 10962 1 105 1 56807 42...</td>\n",
       "      <td>0</td>\n",
       "      <td>66653 65070 66515 10962 105 56807 10990 23 109...</td>\n",
       "      <td>0 0 5 1 1 42 0 26 35 0 0 0 9 0 0 0 5 0 0 0 21 ...</td>\n",
       "    </tr>\n",
       "    <tr>\n",
       "      <th>2035328</th>\n",
       "      <td>66536 0 74995 0 66512 0 66551 0 66608 0 66716 ...</td>\n",
       "      <td>0</td>\n",
       "      <td>66536 74995 66512 66551 66608 66716 66560 7392...</td>\n",
       "      <td>0 0 0 0 0 0 0 9 1 10 9 138 1 3 31 24 63 0 0 0 ...</td>\n",
       "    </tr>\n",
       "    <tr>\n",
       "      <th>2239386</th>\n",
       "      <td>10991 0 23 105 73928 0 66560 0 66515 0 66551 0...</td>\n",
       "      <td>1</td>\n",
       "      <td>10991 23 73928 66560 66515 66551 66536 2517 10...</td>\n",
       "      <td>0 105 0 0 0 0 4 2 27 1 1 7 0 18 132 0 0 0 1 0 ...</td>\n",
       "    </tr>\n",
       "    <tr>\n",
       "      <th>2244533</th>\n",
       "      <td>10990 0 23 74 23 0 10990 1 73928 0 66500 0 665...</td>\n",
       "      <td>1</td>\n",
       "      <td>10990 23 23 10990 73928 66500 66560 66551 23 1...</td>\n",
       "      <td>0 74 0 1 0 0 0 2 0 87 0 1 0 0 0 0 0 2 0 6 0 8 ...</td>\n",
       "    </tr>\n",
       "  </tbody>\n",
       "</table>\n",
       "</div>"
      ],
      "text/plain": [
       "                                                       Seq  Class  \\\n",
       "PIN                                                                 \n",
       "568483   10990 0 23 16 725 0 10990 0 10990 0 10990 0 10...      1   \n",
       "923748   66653 0 65070 0 66515 5 10962 1 105 1 56807 42...      0   \n",
       "2035328  66536 0 74995 0 66512 0 66551 0 66608 0 66716 ...      0   \n",
       "2239386  10991 0 23 105 73928 0 66560 0 66515 0 66551 0...      1   \n",
       "2244533  10990 0 23 74 23 0 10990 1 73928 0 66500 0 665...      1   \n",
       "\n",
       "                                                   mbs_seq  \\\n",
       "PIN                                                          \n",
       "568483   10990 23 725 10990 10990 10990 10993 23 85311 ...   \n",
       "923748   66653 65070 66515 10962 105 56807 10990 23 109...   \n",
       "2035328  66536 74995 66512 66551 66608 66716 66560 7392...   \n",
       "2239386  10991 23 73928 66560 66515 66551 66536 2517 10...   \n",
       "2244533  10990 23 23 10990 73928 66500 66560 66551 23 1...   \n",
       "\n",
       "                                                 times_seq  \n",
       "PIN                                                         \n",
       "568483   0 16 0 0 0 0 0 15 0 0 13 0 0 0 22 0 0 0 0 0 0 ...  \n",
       "923748   0 0 5 1 1 42 0 26 35 0 0 0 9 0 0 0 5 0 0 0 21 ...  \n",
       "2035328  0 0 0 0 0 0 0 9 1 10 9 138 1 3 31 24 63 0 0 0 ...  \n",
       "2239386  0 105 0 0 0 0 4 2 27 1 1 7 0 18 132 0 0 0 1 0 ...  \n",
       "2244533  0 74 0 1 0 0 0 2 0 87 0 1 0 0 0 0 0 2 0 6 0 8 ...  "
      ]
     },
     "execution_count": 5,
     "metadata": {},
     "output_type": "execute_result"
    }
   ],
   "source": [
    "df.head()"
   ]
  },
  {
   "cell_type": "markdown",
   "metadata": {},
   "source": [
    "# Seq2Tokens"
   ]
  },
  {
   "cell_type": "code",
   "execution_count": 6,
   "metadata": {},
   "outputs": [
    {
     "name": "stdout",
     "output_type": "stream",
     "text": [
      "2773\n",
      "(11744, 445)\n",
      "(11744, 445)\n"
     ]
    }
   ],
   "source": [
    "# Define tokenizer object\n",
    "tokenizer = Tokenizer(char_level=False, lower=False, split=' ')\n",
    "\n",
    "# Fit on corpus and extract tokenized sequences\n",
    "tokenizer.fit_on_texts(df['mbs_seq'])\n",
    "n_feat = len(tokenizer.word_index.keys())\n",
    "print(n_feat)\n",
    "seq = tokenizer.texts_to_sequences(df['mbs_seq'])\n",
    "\n",
    "# Pad tokenized sequences\n",
    "lengths = [len(x) for x in seq]\n",
    "maxlen = int(np.percentile(lengths, 95))\n",
    "p_seq = pad_sequences(seq, maxlen=maxlen)\n",
    "print(p_seq.shape)\n",
    "\n",
    "# Pad timestamps\n",
    "t_seq = [map(int, df.loc[idx, 'times_seq'].split(' ')) for idx in df.index]\n",
    "p_t_seq = pad_sequences(t_seq, maxlen=maxlen)\n",
    "print(p_t_seq.shape)"
   ]
  },
  {
   "cell_type": "markdown",
   "metadata": {},
   "source": [
    "# Training - Validation - Test split"
   ]
  },
  {
   "cell_type": "code",
   "execution_count": 7,
   "metadata": {},
   "outputs": [
    {
     "name": "stdout",
     "output_type": "stream",
     "text": [
      "7046 learn / 4698 test\n",
      "6341 training / 705 validation\n"
     ]
    }
   ],
   "source": [
    "# Full dataset\n",
    "y = df['Class'].ravel()\n",
    "X = p_seq\n",
    "X_t = p_t_seq\n",
    "\n",
    "# Learn / Test\n",
    "sss = StratifiedShuffleSplit(n_splits=1, test_size=0.4, random_state=0)\n",
    "learn_idx, test_idx = next(sss.split(X, y))\n",
    "\n",
    "X_learn, y_learn = X[learn_idx, :], y[learn_idx]\n",
    "X_test, y_test = X[test_idx, :], y[test_idx]\n",
    "\n",
    "X_learn_t = X_t[learn_idx, :]\n",
    "X_test_t = X_t[test_idx, :]\n",
    "\n",
    "print('{} learn / {} test'.format(len(y_learn), len(y_test)))\n",
    "\n",
    "# Training / Validation\n",
    "sss = StratifiedShuffleSplit(n_splits=1, test_size=0.1, random_state=1)\n",
    "train_idx, valid_idx = next(sss.split(X_learn, y_learn))\n",
    "\n",
    "X_train, y_train = X_learn[train_idx, :], y_learn[train_idx]\n",
    "X_valid, y_valid = X_learn[valid_idx, :], y_learn[valid_idx]\n",
    "\n",
    "X_train_t = X_learn_t[train_idx, :]\n",
    "X_valid_t = X_learn_t[valid_idx, :]\n",
    "\n",
    "print('{} training / {} validation'.format(len(y_train), len(y_valid)))"
   ]
  },
  {
   "cell_type": "markdown",
   "metadata": {},
   "source": [
    "# Init embedding matrix"
   ]
  },
  {
   "cell_type": "code",
   "execution_count": 8,
   "metadata": {},
   "outputs": [],
   "source": [
    "D = 300\n",
    "embedding = pd.read_csv('../../tmp/embedding.{}d.csv'.format(D), header=0, index_col=0)\n",
    "embedding_matrix = embedding.values"
   ]
  },
  {
   "cell_type": "markdown",
   "metadata": {},
   "source": [
    "# Model"
   ]
  },
  {
   "cell_type": "code",
   "execution_count": 9,
   "metadata": {},
   "outputs": [],
   "source": [
    "from keras.models import Model\n",
    "from keras.models import Sequential\n",
    "from keras.layers import Input, Dense, Lambda\n",
    "from keras.layers import Embedding\n",
    "from keras.layers import CuDNNLSTM, LSTM\n",
    "from keras.layers import Dropout\n",
    "from keras.layers import Multiply, Add, RepeatVector\n",
    "from keras.layers import Permute\n",
    "from keras.layers import Bidirectional\n",
    "from keras.layers import GlobalAveragePooling1D\n",
    "\n",
    "from keras import backend as K\n",
    "from keras import optimizers as opt"
   ]
  },
  {
   "cell_type": "code",
   "execution_count": 15,
   "metadata": {},
   "outputs": [],
   "source": [
    "def build_model(mbs_input_shape, timestamp_input_shape, recurrent_units=32,\n",
    "                dense_units=128, bidirectional=False, single_attention=False):\n",
    "    # Channel 1: MBS\n",
    "    mbs_input = Input(shape=mbs_input_shape, name='mbs_input')\n",
    "    x1 = Embedding(n_feat, D, name='mbs_embedding')(mbs_input)\n",
    "    if bidirectional:\n",
    "        x1 = Bidirectional(LSTM(recurrent_units, return_sequences=True,\n",
    "                                dropout=0.5, recurrent_dropout=0.5), name='mbs_lstm')(x1)\n",
    "    else:\n",
    "        x1 = LSTM(recurrent_units, return_sequences=True,\n",
    "                  dropout=0.5, recurrent_dropout=0.5, name='mbs_lstm')(x1)\n",
    "    \n",
    "    # -- Timestamp-guided attention -- #\n",
    "    # Channel 2: Timestamps\n",
    "    timestamp_input = Input(shape=timestamp_input_shape, name='timestamp_input')\n",
    "    if bidirectional:\n",
    "        x2 = Bidirectional(LSTM(recurrent_units, return_sequences=True,\n",
    "                                dropout=0.5, recurrent_dropout=0.5), name='timestamp_lstm')(timestamp_input)\n",
    "    else:\n",
    "        x2 = LSTM(recurrent_units, return_sequences=True,\n",
    "                  dropout=0.5, recurrent_dropout=0.5,\n",
    "                  name='timestamp_lstm')(timestamp_input)\n",
    "    x2 = Permute((2, 1), name='transpose_timestamp')(x2)\n",
    "    x2 = Dense(mbs_input_shape[0], activation='linear', name='timestamp_dense')(x2)\n",
    "    \n",
    "    # Attention probability distribution\n",
    "    alpha = Permute((2, 1), name='hidden_to_time_permute')(x1)\n",
    "    alpha = Dense(mbs_input_shape[0], activation='linear', name='alpha_dense')(alpha)\n",
    "    alpha = Add(name='timestamp_induced_attention')([alpha, x2])\n",
    "    \n",
    "    alpha = Dense(mbs_input_shape[0], activation='tanh', name='attention_tanh')(alpha)\n",
    "    alpha = Dense(mbs_input_shape[0], activation='softmax', name='attention_matrix')(alpha)\n",
    "    if single_attention:\n",
    "        alpha = Lambda(lambda x: K.mean(x, axis=1), name='attention_probabilities')(alpha)\n",
    "        if bidirectional:\n",
    "            alpha = RepeatVector(2*recurrent_units)(alpha)\n",
    "        else:\n",
    "            alpha = RepeatVector(recurrent_units)(alpha)\n",
    "    alpha = Permute((2, 1), name='time_to_hidden_permute')(alpha)\n",
    "    # -- Timestamp-guided attention -- #\n",
    "    \n",
    "    # Combine channels to get context\n",
    "    context = Multiply(name='context_creation')([alpha, x1])\n",
    "     \n",
    "    # Output\n",
    "    x = GlobalAveragePooling1D(name='pooling')(context)\n",
    "    x = Dropout(0.5)(x)\n",
    "    x = Dense(dense_units, activation='relu')(x)\n",
    "    x = Dropout(0.5)(x)\n",
    "    output = Dense(1, activation='sigmoid')(x)\n",
    "    \n",
    "    # Define the model\n",
    "    model = Model(inputs=[mbs_input, timestamp_input],\n",
    "                  outputs=[output])\n",
    "    return model\n",
    "\n",
    "\n",
    "model = build_model(mbs_input_shape=(maxlen,),\n",
    "                    timestamp_input_shape=(maxlen, 1),\n",
    "                    recurrent_units=64,\n",
    "                    dense_units=128,\n",
    "                    bidirectional=True,\n",
    "                    single_attention=False)\n",
    "\n",
    "model.compile(optimizer=opt.RMSprop(lr=0.01),\n",
    "              loss='binary_crossentropy',\n",
    "              metrics=['acc'])\n"
   ]
  },
  {
   "cell_type": "code",
   "execution_count": 16,
   "metadata": {},
   "outputs": [],
   "source": [
    "model.get_layer('mbs_embedding').set_weights([embedding_matrix])\n",
    "model.get_layer('mbs_embedding').trainable = True"
   ]
  },
  {
   "cell_type": "code",
   "execution_count": 17,
   "metadata": {},
   "outputs": [
    {
     "name": "stdout",
     "output_type": "stream",
     "text": [
      "__________________________________________________________________________________________________\n",
      "Layer (type)                    Output Shape         Param #     Connected to                     \n",
      "==================================================================================================\n",
      "mbs_input (InputLayer)          (None, 445)          0                                            \n",
      "__________________________________________________________________________________________________\n",
      "mbs_embedding (Embedding)       (None, 445, 300)     831900      mbs_input[0][0]                  \n",
      "__________________________________________________________________________________________________\n",
      "timestamp_input (InputLayer)    (None, 445, 1)       0                                            \n",
      "__________________________________________________________________________________________________\n",
      "mbs_lstm (Bidirectional)        (None, 445, 128)     186880      mbs_embedding[0][0]              \n",
      "__________________________________________________________________________________________________\n",
      "timestamp_lstm (Bidirectional)  (None, 445, 128)     33792       timestamp_input[0][0]            \n",
      "__________________________________________________________________________________________________\n",
      "hidden_to_time_permute (Permute (None, 128, 445)     0           mbs_lstm[0][0]                   \n",
      "__________________________________________________________________________________________________\n",
      "transpose_timestamp (Permute)   (None, 128, 445)     0           timestamp_lstm[0][0]             \n",
      "__________________________________________________________________________________________________\n",
      "alpha_dense (Dense)             (None, 128, 445)     198470      hidden_to_time_permute[0][0]     \n",
      "__________________________________________________________________________________________________\n",
      "timestamp_dense (Dense)         (None, 128, 445)     198470      transpose_timestamp[0][0]        \n",
      "__________________________________________________________________________________________________\n",
      "timestamp_induced_attention (Ad (None, 128, 445)     0           alpha_dense[0][0]                \n",
      "                                                                 timestamp_dense[0][0]            \n",
      "__________________________________________________________________________________________________\n",
      "attention_tanh (Dense)          (None, 128, 445)     198470      timestamp_induced_attention[0][0]\n",
      "__________________________________________________________________________________________________\n",
      "attention_matrix (Dense)        (None, 128, 445)     198470      attention_tanh[0][0]             \n",
      "__________________________________________________________________________________________________\n",
      "time_to_hidden_permute (Permute (None, 445, 128)     0           attention_matrix[0][0]           \n",
      "__________________________________________________________________________________________________\n",
      "context_creation (Multiply)     (None, 445, 128)     0           time_to_hidden_permute[0][0]     \n",
      "                                                                 mbs_lstm[0][0]                   \n",
      "__________________________________________________________________________________________________\n",
      "pooling (GlobalAveragePooling1D (None, 128)          0           context_creation[0][0]           \n",
      "__________________________________________________________________________________________________\n",
      "dropout_3 (Dropout)             (None, 128)          0           pooling[0][0]                    \n",
      "__________________________________________________________________________________________________\n",
      "dense_3 (Dense)                 (None, 128)          16512       dropout_3[0][0]                  \n",
      "__________________________________________________________________________________________________\n",
      "dropout_4 (Dropout)             (None, 128)          0           dense_3[0][0]                    \n",
      "__________________________________________________________________________________________________\n",
      "dense_4 (Dense)                 (None, 1)            129         dropout_4[0][0]                  \n",
      "==================================================================================================\n",
      "Total params: 1,863,093\n",
      "Trainable params: 1,863,093\n",
      "Non-trainable params: 0\n",
      "__________________________________________________________________________________________________\n"
     ]
    }
   ],
   "source": [
    "model.summary()"
   ]
  },
  {
   "cell_type": "code",
   "execution_count": 18,
   "metadata": {},
   "outputs": [
    {
     "data": {
      "image/svg+xml": [
       "<svg height=\"1067pt\" viewBox=\"0.00 0.00 577.00 1067.00\" width=\"577pt\" xmlns=\"http://www.w3.org/2000/svg\" xmlns:xlink=\"http://www.w3.org/1999/xlink\">\n",
       "<g class=\"graph\" id=\"graph0\" transform=\"scale(1 1) rotate(0) translate(4 1063)\">\n",
       "<title>G</title>\n",
       "<polygon fill=\"white\" points=\"-4,4 -4,-1063 573,-1063 573,4 -4,4\" stroke=\"none\"/>\n",
       "<!-- 140647871940560 -->\n",
       "<g class=\"node\" id=\"node1\"><title>140647871940560</title>\n",
       "<polygon fill=\"none\" points=\"49.5,-1022.5 49.5,-1058.5 191.5,-1058.5 191.5,-1022.5 49.5,-1022.5\" stroke=\"black\"/>\n",
       "<text font-family=\"Times,serif\" font-size=\"14.00\" text-anchor=\"middle\" x=\"120.5\" y=\"-1036.8\">mbs_input: InputLayer</text>\n",
       "</g>\n",
       "<!-- 140647871940432 -->\n",
       "<g class=\"node\" id=\"node2\"><title>140647871940432</title>\n",
       "<polygon fill=\"none\" points=\"31.5,-949.5 31.5,-985.5 209.5,-985.5 209.5,-949.5 31.5,-949.5\" stroke=\"black\"/>\n",
       "<text font-family=\"Times,serif\" font-size=\"14.00\" text-anchor=\"middle\" x=\"120.5\" y=\"-963.8\">mbs_embedding: Embedding</text>\n",
       "</g>\n",
       "<!-- 140647871940560&#45;&gt;140647871940432 -->\n",
       "<g class=\"edge\" id=\"edge1\"><title>140647871940560-&gt;140647871940432</title>\n",
       "<path d=\"M120.5,-1022.31C120.5,-1014.29 120.5,-1004.55 120.5,-995.569\" fill=\"none\" stroke=\"black\"/>\n",
       "<polygon fill=\"black\" points=\"124,-995.529 120.5,-985.529 117,-995.529 124,-995.529\" stroke=\"black\"/>\n",
       "</g>\n",
       "<!-- 140647871941072 -->\n",
       "<g class=\"node\" id=\"node4\"><title>140647871941072</title>\n",
       "<polygon fill=\"none\" points=\"0,-876.5 0,-912.5 241,-912.5 241,-876.5 0,-876.5\" stroke=\"black\"/>\n",
       "<text font-family=\"Times,serif\" font-size=\"14.00\" text-anchor=\"middle\" x=\"120.5\" y=\"-890.8\">mbs_lstm(lstm_3): Bidirectional(LSTM)</text>\n",
       "</g>\n",
       "<!-- 140647871940432&#45;&gt;140647871941072 -->\n",
       "<g class=\"edge\" id=\"edge2\"><title>140647871940432-&gt;140647871941072</title>\n",
       "<path d=\"M120.5,-949.313C120.5,-941.289 120.5,-931.547 120.5,-922.569\" fill=\"none\" stroke=\"black\"/>\n",
       "<polygon fill=\"black\" points=\"124,-922.529 120.5,-912.529 117,-922.529 124,-922.529\" stroke=\"black\"/>\n",
       "</g>\n",
       "<!-- 140647872046928 -->\n",
       "<g class=\"node\" id=\"node3\"><title>140647872046928</title>\n",
       "<polygon fill=\"none\" points=\"343.5,-949.5 343.5,-985.5 519.5,-985.5 519.5,-949.5 343.5,-949.5\" stroke=\"black\"/>\n",
       "<text font-family=\"Times,serif\" font-size=\"14.00\" text-anchor=\"middle\" x=\"431.5\" y=\"-963.8\">timestamp_input: InputLayer</text>\n",
       "</g>\n",
       "<!-- 140646898586768 -->\n",
       "<g class=\"node\" id=\"node5\"><title>140646898586768</title>\n",
       "<polygon fill=\"none\" points=\"294,-876.5 294,-912.5 569,-912.5 569,-876.5 294,-876.5\" stroke=\"black\"/>\n",
       "<text font-family=\"Times,serif\" font-size=\"14.00\" text-anchor=\"middle\" x=\"431.5\" y=\"-890.8\">timestamp_lstm(lstm_4): Bidirectional(LSTM)</text>\n",
       "</g>\n",
       "<!-- 140647872046928&#45;&gt;140646898586768 -->\n",
       "<g class=\"edge\" id=\"edge3\"><title>140647872046928-&gt;140646898586768</title>\n",
       "<path d=\"M431.5,-949.313C431.5,-941.289 431.5,-931.547 431.5,-922.569\" fill=\"none\" stroke=\"black\"/>\n",
       "<polygon fill=\"black\" points=\"435,-922.529 431.5,-912.529 428,-922.529 435,-922.529\" stroke=\"black\"/>\n",
       "</g>\n",
       "<!-- 140643342844240 -->\n",
       "<g class=\"node\" id=\"node6\"><title>140643342844240</title>\n",
       "<polygon fill=\"none\" points=\"114,-803.5 114,-839.5 321,-839.5 321,-803.5 114,-803.5\" stroke=\"black\"/>\n",
       "<text font-family=\"Times,serif\" font-size=\"14.00\" text-anchor=\"middle\" x=\"217.5\" y=\"-817.8\">hidden_to_time_permute: Permute</text>\n",
       "</g>\n",
       "<!-- 140647871941072&#45;&gt;140643342844240 -->\n",
       "<g class=\"edge\" id=\"edge4\"><title>140647871941072-&gt;140643342844240</title>\n",
       "<path d=\"M143.981,-876.313C156.611,-867.069 172.357,-855.543 186.034,-845.532\" fill=\"none\" stroke=\"black\"/>\n",
       "<polygon fill=\"black\" points=\"188.233,-848.26 194.235,-839.529 184.099,-842.611 188.233,-848.26\" stroke=\"black\"/>\n",
       "</g>\n",
       "<!-- 140643341400592 -->\n",
       "<g class=\"node\" id=\"node14\"><title>140643341400592</title>\n",
       "<polygon fill=\"none\" points=\"70.5,-365.5 70.5,-401.5 232.5,-401.5 232.5,-365.5 70.5,-365.5\" stroke=\"black\"/>\n",
       "<text font-family=\"Times,serif\" font-size=\"14.00\" text-anchor=\"middle\" x=\"151.5\" y=\"-379.8\">context_creation: Multiply</text>\n",
       "</g>\n",
       "<!-- 140647871941072&#45;&gt;140643341400592 -->\n",
       "<g class=\"edge\" id=\"edge14\"><title>140647871941072-&gt;140643341400592</title>\n",
       "<path d=\"M113.417,-876.097C103.19,-849.353 85.5,-796.325 85.5,-749.5 85.5,-749.5 85.5,-749.5 85.5,-528.5 85.5,-487.401 86.1116,-474.756 104.5,-438 109.752,-427.503 117.572,-417.434 125.334,-408.919\" fill=\"none\" stroke=\"black\"/>\n",
       "<polygon fill=\"black\" points=\"127.983,-411.212 132.37,-401.568 122.926,-406.372 127.983,-411.212\" stroke=\"black\"/>\n",
       "</g>\n",
       "<!-- 140645758133712 -->\n",
       "<g class=\"node\" id=\"node7\"><title>140645758133712</title>\n",
       "<polygon fill=\"none\" points=\"339,-803.5 339,-839.5 524,-839.5 524,-803.5 339,-803.5\" stroke=\"black\"/>\n",
       "<text font-family=\"Times,serif\" font-size=\"14.00\" text-anchor=\"middle\" x=\"431.5\" y=\"-817.8\">transpose_timestamp: Permute</text>\n",
       "</g>\n",
       "<!-- 140646898586768&#45;&gt;140645758133712 -->\n",
       "<g class=\"edge\" id=\"edge5\"><title>140646898586768-&gt;140645758133712</title>\n",
       "<path d=\"M431.5,-876.313C431.5,-868.289 431.5,-858.547 431.5,-849.569\" fill=\"none\" stroke=\"black\"/>\n",
       "<polygon fill=\"black\" points=\"435,-849.529 431.5,-839.529 428,-849.529 435,-849.529\" stroke=\"black\"/>\n",
       "</g>\n",
       "<!-- 140643341861776 -->\n",
       "<g class=\"node\" id=\"node8\"><title>140643341861776</title>\n",
       "<polygon fill=\"none\" points=\"155,-730.5 155,-766.5 280,-766.5 280,-730.5 155,-730.5\" stroke=\"black\"/>\n",
       "<text font-family=\"Times,serif\" font-size=\"14.00\" text-anchor=\"middle\" x=\"217.5\" y=\"-744.8\">alpha_dense: Dense</text>\n",
       "</g>\n",
       "<!-- 140643342844240&#45;&gt;140643341861776 -->\n",
       "<g class=\"edge\" id=\"edge6\"><title>140643342844240-&gt;140643341861776</title>\n",
       "<path d=\"M217.5,-803.313C217.5,-795.289 217.5,-785.547 217.5,-776.569\" fill=\"none\" stroke=\"black\"/>\n",
       "<polygon fill=\"black\" points=\"221,-776.529 217.5,-766.529 214,-776.529 221,-776.529\" stroke=\"black\"/>\n",
       "</g>\n",
       "<!-- 140645758133776 -->\n",
       "<g class=\"node\" id=\"node9\"><title>140645758133776</title>\n",
       "<polygon fill=\"none\" points=\"326,-730.5 326,-766.5 479,-766.5 479,-730.5 326,-730.5\" stroke=\"black\"/>\n",
       "<text font-family=\"Times,serif\" font-size=\"14.00\" text-anchor=\"middle\" x=\"402.5\" y=\"-744.8\">timestamp_dense: Dense</text>\n",
       "</g>\n",
       "<!-- 140645758133712&#45;&gt;140645758133776 -->\n",
       "<g class=\"edge\" id=\"edge7\"><title>140645758133712-&gt;140645758133776</title>\n",
       "<path d=\"M424.48,-803.313C421.132,-795.115 417.05,-785.123 413.318,-775.985\" fill=\"none\" stroke=\"black\"/>\n",
       "<polygon fill=\"black\" points=\"416.477,-774.463 409.455,-766.529 409.997,-777.11 416.477,-774.463\" stroke=\"black\"/>\n",
       "</g>\n",
       "<!-- 140643341526480 -->\n",
       "<g class=\"node\" id=\"node10\"><title>140643341526480</title>\n",
       "<polygon fill=\"none\" points=\"114,-657.5 114,-693.5 323,-693.5 323,-657.5 114,-657.5\" stroke=\"black\"/>\n",
       "<text font-family=\"Times,serif\" font-size=\"14.00\" text-anchor=\"middle\" x=\"218.5\" y=\"-671.8\">timestamp_induced_attention: Add</text>\n",
       "</g>\n",
       "<!-- 140643341861776&#45;&gt;140643341526480 -->\n",
       "<g class=\"edge\" id=\"edge8\"><title>140643341861776-&gt;140643341526480</title>\n",
       "<path d=\"M217.742,-730.313C217.855,-722.289 217.992,-712.547 218.119,-703.569\" fill=\"none\" stroke=\"black\"/>\n",
       "<polygon fill=\"black\" points=\"221.619,-703.577 218.26,-693.529 214.62,-703.479 221.619,-703.577\" stroke=\"black\"/>\n",
       "</g>\n",
       "<!-- 140645758133776&#45;&gt;140643341526480 -->\n",
       "<g class=\"edge\" id=\"edge9\"><title>140645758133776-&gt;140643341526480</title>\n",
       "<path d=\"M358.427,-730.494C332.559,-720.512 299.677,-707.824 272.289,-697.255\" fill=\"none\" stroke=\"black\"/>\n",
       "<polygon fill=\"black\" points=\"273.44,-693.948 262.851,-693.614 270.92,-700.479 273.44,-693.948\" stroke=\"black\"/>\n",
       "</g>\n",
       "<!-- 140643341526544 -->\n",
       "<g class=\"node\" id=\"node11\"><title>140643341526544</title>\n",
       "<polygon fill=\"none\" points=\"150,-584.5 150,-620.5 285,-620.5 285,-584.5 150,-584.5\" stroke=\"black\"/>\n",
       "<text font-family=\"Times,serif\" font-size=\"14.00\" text-anchor=\"middle\" x=\"217.5\" y=\"-598.8\">attention_tanh: Dense</text>\n",
       "</g>\n",
       "<!-- 140643341526480&#45;&gt;140643341526544 -->\n",
       "<g class=\"edge\" id=\"edge10\"><title>140643341526480-&gt;140643341526544</title>\n",
       "<path d=\"M218.258,-657.313C218.145,-649.289 218.008,-639.547 217.881,-630.569\" fill=\"none\" stroke=\"black\"/>\n",
       "<polygon fill=\"black\" points=\"221.38,-630.479 217.74,-620.529 214.381,-630.577 221.38,-630.479\" stroke=\"black\"/>\n",
       "</g>\n",
       "<!-- 140643341623696 -->\n",
       "<g class=\"node\" id=\"node12\"><title>140643341623696</title>\n",
       "<polygon fill=\"none\" points=\"143.5,-511.5 143.5,-547.5 291.5,-547.5 291.5,-511.5 143.5,-511.5\" stroke=\"black\"/>\n",
       "<text font-family=\"Times,serif\" font-size=\"14.00\" text-anchor=\"middle\" x=\"217.5\" y=\"-525.8\">attention_matrix: Dense</text>\n",
       "</g>\n",
       "<!-- 140643341526544&#45;&gt;140643341623696 -->\n",
       "<g class=\"edge\" id=\"edge11\"><title>140643341526544-&gt;140643341623696</title>\n",
       "<path d=\"M217.5,-584.313C217.5,-576.289 217.5,-566.547 217.5,-557.569\" fill=\"none\" stroke=\"black\"/>\n",
       "<polygon fill=\"black\" points=\"221,-557.529 217.5,-547.529 214,-557.529 221,-557.529\" stroke=\"black\"/>\n",
       "</g>\n",
       "<!-- 140643341217424 -->\n",
       "<g class=\"node\" id=\"node13\"><title>140643341217424</title>\n",
       "<polygon fill=\"none\" points=\"114,-438.5 114,-474.5 321,-474.5 321,-438.5 114,-438.5\" stroke=\"black\"/>\n",
       "<text font-family=\"Times,serif\" font-size=\"14.00\" text-anchor=\"middle\" x=\"217.5\" y=\"-452.8\">time_to_hidden_permute: Permute</text>\n",
       "</g>\n",
       "<!-- 140643341623696&#45;&gt;140643341217424 -->\n",
       "<g class=\"edge\" id=\"edge12\"><title>140643341623696-&gt;140643341217424</title>\n",
       "<path d=\"M217.5,-511.313C217.5,-503.289 217.5,-493.547 217.5,-484.569\" fill=\"none\" stroke=\"black\"/>\n",
       "<polygon fill=\"black\" points=\"221,-484.529 217.5,-474.529 214,-484.529 221,-484.529\" stroke=\"black\"/>\n",
       "</g>\n",
       "<!-- 140643341217424&#45;&gt;140643341400592 -->\n",
       "<g class=\"edge\" id=\"edge13\"><title>140643341217424-&gt;140643341400592</title>\n",
       "<path d=\"M201.523,-438.313C193.335,-429.505 183.222,-418.625 174.236,-408.958\" fill=\"none\" stroke=\"black\"/>\n",
       "<polygon fill=\"black\" points=\"176.702,-406.47 167.33,-401.529 171.575,-411.236 176.702,-406.47\" stroke=\"black\"/>\n",
       "</g>\n",
       "<!-- 140642738992336 -->\n",
       "<g class=\"node\" id=\"node15\"><title>140642738992336</title>\n",
       "<polygon fill=\"none\" points=\"48.5,-292.5 48.5,-328.5 254.5,-328.5 254.5,-292.5 48.5,-292.5\" stroke=\"black\"/>\n",
       "<text font-family=\"Times,serif\" font-size=\"14.00\" text-anchor=\"middle\" x=\"151.5\" y=\"-306.8\">pooling: GlobalAveragePooling1D</text>\n",
       "</g>\n",
       "<!-- 140643341400592&#45;&gt;140642738992336 -->\n",
       "<g class=\"edge\" id=\"edge15\"><title>140643341400592-&gt;140642738992336</title>\n",
       "<path d=\"M151.5,-365.313C151.5,-357.289 151.5,-347.547 151.5,-338.569\" fill=\"none\" stroke=\"black\"/>\n",
       "<polygon fill=\"black\" points=\"155,-338.529 151.5,-328.529 148,-338.529 155,-338.529\" stroke=\"black\"/>\n",
       "</g>\n",
       "<!-- 140643341399760 -->\n",
       "<g class=\"node\" id=\"node16\"><title>140643341399760</title>\n",
       "<polygon fill=\"none\" points=\"89,-219.5 89,-255.5 214,-255.5 214,-219.5 89,-219.5\" stroke=\"black\"/>\n",
       "<text font-family=\"Times,serif\" font-size=\"14.00\" text-anchor=\"middle\" x=\"151.5\" y=\"-233.8\">dropout_3: Dropout</text>\n",
       "</g>\n",
       "<!-- 140642738992336&#45;&gt;140643341399760 -->\n",
       "<g class=\"edge\" id=\"edge16\"><title>140642738992336-&gt;140643341399760</title>\n",
       "<path d=\"M151.5,-292.313C151.5,-284.289 151.5,-274.547 151.5,-265.569\" fill=\"none\" stroke=\"black\"/>\n",
       "<polygon fill=\"black\" points=\"155,-265.529 151.5,-255.529 148,-265.529 155,-265.529\" stroke=\"black\"/>\n",
       "</g>\n",
       "<!-- 140642738662672 -->\n",
       "<g class=\"node\" id=\"node17\"><title>140642738662672</title>\n",
       "<polygon fill=\"none\" points=\"100.5,-146.5 100.5,-182.5 202.5,-182.5 202.5,-146.5 100.5,-146.5\" stroke=\"black\"/>\n",
       "<text font-family=\"Times,serif\" font-size=\"14.00\" text-anchor=\"middle\" x=\"151.5\" y=\"-160.8\">dense_3: Dense</text>\n",
       "</g>\n",
       "<!-- 140643341399760&#45;&gt;140642738662672 -->\n",
       "<g class=\"edge\" id=\"edge17\"><title>140643341399760-&gt;140642738662672</title>\n",
       "<path d=\"M151.5,-219.313C151.5,-211.289 151.5,-201.547 151.5,-192.569\" fill=\"none\" stroke=\"black\"/>\n",
       "<polygon fill=\"black\" points=\"155,-192.529 151.5,-182.529 148,-192.529 155,-192.529\" stroke=\"black\"/>\n",
       "</g>\n",
       "<!-- 140642738237968 -->\n",
       "<g class=\"node\" id=\"node18\"><title>140642738237968</title>\n",
       "<polygon fill=\"none\" points=\"89,-73.5 89,-109.5 214,-109.5 214,-73.5 89,-73.5\" stroke=\"black\"/>\n",
       "<text font-family=\"Times,serif\" font-size=\"14.00\" text-anchor=\"middle\" x=\"151.5\" y=\"-87.8\">dropout_4: Dropout</text>\n",
       "</g>\n",
       "<!-- 140642738662672&#45;&gt;140642738237968 -->\n",
       "<g class=\"edge\" id=\"edge18\"><title>140642738662672-&gt;140642738237968</title>\n",
       "<path d=\"M151.5,-146.313C151.5,-138.289 151.5,-128.547 151.5,-119.569\" fill=\"none\" stroke=\"black\"/>\n",
       "<polygon fill=\"black\" points=\"155,-119.529 151.5,-109.529 148,-119.529 155,-119.529\" stroke=\"black\"/>\n",
       "</g>\n",
       "<!-- 140642738240528 -->\n",
       "<g class=\"node\" id=\"node19\"><title>140642738240528</title>\n",
       "<polygon fill=\"none\" points=\"100.5,-0.5 100.5,-36.5 202.5,-36.5 202.5,-0.5 100.5,-0.5\" stroke=\"black\"/>\n",
       "<text font-family=\"Times,serif\" font-size=\"14.00\" text-anchor=\"middle\" x=\"151.5\" y=\"-14.8\">dense_4: Dense</text>\n",
       "</g>\n",
       "<!-- 140642738237968&#45;&gt;140642738240528 -->\n",
       "<g class=\"edge\" id=\"edge19\"><title>140642738237968-&gt;140642738240528</title>\n",
       "<path d=\"M151.5,-73.3129C151.5,-65.2895 151.5,-55.5475 151.5,-46.5691\" fill=\"none\" stroke=\"black\"/>\n",
       "<polygon fill=\"black\" points=\"155,-46.5288 151.5,-36.5288 148,-46.5289 155,-46.5288\" stroke=\"black\"/>\n",
       "</g>\n",
       "</g>\n",
       "</svg>"
      ],
      "text/plain": [
       "<IPython.core.display.SVG object>"
      ]
     },
     "execution_count": 18,
     "metadata": {},
     "output_type": "execute_result"
    }
   ],
   "source": [
    "from IPython.display import SVG\n",
    "from keras.utils.vis_utils import model_to_dot\n",
    "\n",
    "SVG(model_to_dot(model).create(prog='dot', format='svg'))"
   ]
  },
  {
   "cell_type": "code",
   "execution_count": 20,
   "metadata": {},
   "outputs": [
    {
     "name": "stdout",
     "output_type": "stream",
     "text": [
      "Train on 6341 samples, validate on 705 samples\n",
      "Epoch 1/100\n",
      "6341/6341 [==============================] - 158s 25ms/step - loss: 0.6941 - acc: 0.4939 - val_loss: 0.6882 - val_acc: 0.6156\n",
      "Epoch 2/100\n",
      "6341/6341 [==============================] - 153s 24ms/step - loss: 0.6835 - acc: 0.5668 - val_loss: 0.6675 - val_acc: 0.6085\n",
      "Epoch 3/100\n",
      "6341/6341 [==============================] - 152s 24ms/step - loss: 0.6586 - acc: 0.6068 - val_loss: 0.6382 - val_acc: 0.6340\n",
      "Epoch 4/100\n",
      "6341/6341 [==============================] - 152s 24ms/step - loss: 0.6241 - acc: 0.6619 - val_loss: 0.5961 - val_acc: 0.6922\n",
      "Epoch 5/100\n",
      "6341/6341 [==============================] - 154s 24ms/step - loss: 0.5887 - acc: 0.7007 - val_loss: 0.5660 - val_acc: 0.7277\n",
      "Epoch 6/100\n",
      "6341/6341 [==============================] - 154s 24ms/step - loss: 0.5584 - acc: 0.7303 - val_loss: 0.5587 - val_acc: 0.7390\n",
      "Epoch 7/100\n",
      "6341/6341 [==============================] - 155s 24ms/step - loss: 0.5331 - acc: 0.7500 - val_loss: 0.5477 - val_acc: 0.7333\n",
      "Epoch 8/100\n",
      "6341/6341 [==============================] - 154s 24ms/step - loss: 0.5092 - acc: 0.7620 - val_loss: 0.5456 - val_acc: 0.7404\n",
      "Epoch 9/100\n",
      "6341/6341 [==============================] - 154s 24ms/step - loss: 0.4839 - acc: 0.7772 - val_loss: 0.5164 - val_acc: 0.7631\n",
      "Epoch 10/100\n",
      "6341/6341 [==============================] - 154s 24ms/step - loss: 0.4736 - acc: 0.7828 - val_loss: 0.5238 - val_acc: 0.7489\n",
      "Epoch 11/100\n",
      "6341/6341 [==============================] - 155s 24ms/step - loss: 0.4631 - acc: 0.7923 - val_loss: 0.5178 - val_acc: 0.7674\n",
      "Epoch 12/100\n",
      "6341/6341 [==============================] - 154s 24ms/step - loss: 0.4484 - acc: 0.7970 - val_loss: 0.5409 - val_acc: 0.7447\n",
      "Epoch 13/100\n",
      "6341/6341 [==============================] - 156s 25ms/step - loss: 0.4476 - acc: 0.8082 - val_loss: 0.5379 - val_acc: 0.7390\n",
      "Epoch 14/100\n",
      "6341/6341 [==============================] - 185s 29ms/step - loss: 0.4436 - acc: 0.8052 - val_loss: 0.5518 - val_acc: 0.7418\n",
      "Epoch 15/100\n",
      "6341/6341 [==============================] - 273s 43ms/step - loss: 0.4318 - acc: 0.8120 - val_loss: 0.5425 - val_acc: 0.7404\n",
      "Epoch 16/100\n",
      "6341/6341 [==============================] - 275s 43ms/step - loss: 0.4058 - acc: 0.8264 - val_loss: 0.5392 - val_acc: 0.7433\n",
      "Epoch 17/100\n",
      "6341/6341 [==============================] - 274s 43ms/step - loss: 0.3988 - acc: 0.8294 - val_loss: 0.5434 - val_acc: 0.7291\n",
      "Epoch 18/100\n",
      "6341/6341 [==============================] - 265s 42ms/step - loss: 0.3994 - acc: 0.8278 - val_loss: 0.5337 - val_acc: 0.7418\n"
     ]
    }
   ],
   "source": [
    "from keras.callbacks import EarlyStopping, ReduceLROnPlateau\n",
    "callbacks = [ReduceLROnPlateau(monitor='val_loss', factor=0.5, patience=5, min_lr=0.001, verbose=1),\n",
    "             EarlyStopping(monitor='val_loss', patience=9)] \n",
    "\n",
    "history = model.fit([X_train, X_train_t.reshape(len(y_train), maxlen, 1)], y_train,\n",
    "                    epochs=100,\n",
    "                    callbacks=callbacks,\n",
    "                    batch_size=128,\n",
    "                    validation_data=([X_valid, X_valid_t.reshape(len(y_valid), maxlen, 1)], y_valid))"
   ]
  },
  {
   "cell_type": "code",
   "execution_count": 21,
   "metadata": {},
   "outputs": [
    {
     "data": {
      "image/png": "[encoded data removed]",
      "text/plain": [
       "<matplotlib.figure.Figure at 0x7feb17f1f990>"
      ]
     },
     "metadata": {},
     "output_type": "display_data"
    }
   ],
   "source": [
    "plt.figure(dpi=100)\n",
    "t = history.epoch\n",
    "\n",
    "plt.subplot(211)\n",
    "plt.plot(t, history.history['loss'], label='loss', color='C0')\n",
    "plt.plot(t, history.history['val_loss'], label='val_loss', color='C1')\n",
    "plt.xlabel('epochs')\n",
    "plt.ylabel('loss')\n",
    "plt.legend(loc=1)\n",
    "\n",
    "plt.subplot(212)\n",
    "plt.plot(t, history.history['acc'], label='acc', color='C2')\n",
    "plt.plot(t, history.history['val_acc'], label='val_acc', color='C3')\n",
    "plt.ylim([0.5, 1])\n",
    "plt.ylabel('acc')\n",
    "plt.xlabel('epochs')\n",
    "plt.legend(loc=1)\n",
    "\n",
    "plt.tight_layout()"
   ]
  },
  {
   "cell_type": "code",
   "execution_count": 22,
   "metadata": {},
   "outputs": [],
   "source": [
    "y_pred = model.predict([X_test, X_test_t.reshape(len(y_test), maxlen, 1)]).ravel()"
   ]
  },
  {
   "cell_type": "code",
   "execution_count": 23,
   "metadata": {},
   "outputs": [
    {
     "name": "stdout",
     "output_type": "stream",
     "text": [
      "Test scores:\n",
      " * Log-Loss\t0.484680893328\n",
      " * Accuracy:\t0.779480630055\n",
      " * Precision:\t0.773884021694\n",
      " * Recall:\t0.789697743721\n",
      " * AUC: \t0.857626253647\n"
     ]
    }
   ],
   "source": [
    "loss = metrics.log_loss(y_test, y_pred)\n",
    "acc = metrics.accuracy_score(y_test, y_pred > 0.5)\n",
    "prec = metrics.precision_score(y_test, y_pred > 0.5)\n",
    "rcll = metrics.recall_score(y_test, y_pred > 0.5)\n",
    "auc = metrics.roc_auc_score(y_test, y_pred)\n",
    "print('Test scores:\\n * Log-Loss\\t{}\\n * Accuracy:\\t{}\\n '\n",
    "      '* Precision:\\t{}\\n * Recall:\\t{}\\n * AUC: \\t{}'.format(loss, acc, prec, rcll, auc))"
   ]
  },
  {
   "cell_type": "code",
   "execution_count": 26,
   "metadata": {},
   "outputs": [
    {
     "data": {
      "image/png": "[encoded data removed]",
      "text/plain": [
       "<matplotlib.figure.Figure at 0x7feb17ff3ed0>"
      ]
     },
     "metadata": {},
     "output_type": "display_data"
    }
   ],
   "source": [
    "# Plot non-normalized confusion matrix\n",
    "cnf_matrix = metrics.confusion_matrix(y_test, y_pred > 0.5)\n",
    "plt.figure(dpi=100)\n",
    "plot_confusion_matrix(cnf_matrix, classes=['METONLY', 'METX'],\n",
    "                      title='Confusion matrix', cmap=plt.cm.Blues);"
   ]
  },
  {
   "cell_type": "markdown",
   "metadata": {},
   "source": [
    "**TOP results so far [6341 training / 705 validation / 4698 test]**\n",
    "\n",
    "Test scores:\n",
    " * Log-Loss\t0.425300993082\n",
    " * Accuracy:\t0.810131971052\n",
    " * Precision:\t0.817983413357\n",
    " * Recall:\t0.797786292039\n",
    " * AUC: \t0.894714579232"
   ]
  },
  {
   "cell_type": "code",
   "execution_count": null,
   "metadata": {},
   "outputs": [],
   "source": [
    "model.save_weights('model.h5')"
   ]
  },
  {
   "cell_type": "code",
   "execution_count": null,
   "metadata": {},
   "outputs": [],
   "source": [
    "model.load_weights('model.h5')"
   ]
  },
  {
   "cell_type": "markdown",
   "metadata": {},
   "source": [
    "# Attention viz"
   ]
  },
  {
   "cell_type": "code",
   "execution_count": 27,
   "metadata": {},
   "outputs": [
    {
     "name": "stdout",
     "output_type": "stream",
     "text": [
      "----- activations -----\n",
      "(4698, 128, 445)\n"
     ]
    }
   ],
   "source": [
    "from mbspbs10pc import read_activations\n",
    "reload(read_activations);\n",
    "\n",
    "_x_test = [X_test, X_test_t.reshape(len(y_test), maxlen, 1)]\n",
    "a = read_activations.get_activations(model, _x_test, print_shape_only=True, layer_name='attention_matrix')"
   ]
  },
  {
   "cell_type": "code",
   "execution_count": 32,
   "metadata": {},
   "outputs": [],
   "source": [
    "true_pos_idx = np.where(np.logical_and(y_test == 1, y_pred >= 0.5))[0]\n",
    "true_neg_idx = np.where(np.logical_and(y_test == 0, y_pred < 0.5))[0]\n",
    "false_pos_idx = np.where(np.logical_and(y_test == 1, y_pred < 0.5))[0]\n",
    "false_neg_idx = np.where(np.logical_and(y_test == 0, y_pred >= 0.5))[0]"
   ]
  },
  {
   "cell_type": "code",
   "execution_count": 64,
   "metadata": {},
   "outputs": [],
   "source": [
    "def get_att(att, idx):\n",
    "    return np.mean(np.mean(att[0][idx, :, :], axis=0), axis=0)\n",
    "\n",
    "true_pos_att = get_att(a, true_pos_idx)\n",
    "true_neg_att = get_att(a, true_neg_idx)\n",
    "false_pos_att = get_att(a, false_pos_idx)\n",
    "false_neg_att = get_att(a, false_neg_idx)"
   ]
  },
  {
   "cell_type": "code",
   "execution_count": 71,
   "metadata": {},
   "outputs": [
    {
     "data": {
      "image/png": "[encoded data removed]",
      "text/plain": [
       "<matplotlib.figure.Figure at 0x7fe9b08611d0>"
      ]
     },
     "metadata": {},
     "output_type": "display_data"
    }
   ],
   "source": [
    "plt.figure(dpi=100)\n",
    "plt.title('true pos att')\n",
    "plt.plot(np.arange(445), true_pos_att, 'o');"
   ]
  },
  {
   "cell_type": "code",
   "execution_count": 72,
   "metadata": {},
   "outputs": [
    {
     "data": {
      "image/png": "[encoded data removed]",
      "text/plain": [
       "<matplotlib.figure.Figure at 0x7fe9b0d98cd0>"
      ]
     },
     "metadata": {},
     "output_type": "display_data"
    }
   ],
   "source": [
    "plt.figure(dpi=100)\n",
    "plt.title('true neg att')\n",
    "plt.plot(np.arange(445), true_neg_att, 'o');"
   ]
  },
  {
   "cell_type": "code",
   "execution_count": 73,
   "metadata": {},
   "outputs": [
    {
     "data": {
      "image/png": "[encoded data removed]",
      "text/plain": [
       "<matplotlib.figure.Figure at 0x7fe9afa79750>"
      ]
     },
     "metadata": {},
     "output_type": "display_data"
    }
   ],
   "source": [
    "plt.figure(dpi=100)\n",
    "plt.title('false pos att')\n",
    "plt.plot(np.arange(445), false_pos_att, 'o');"
   ]
  },
  {
   "cell_type": "code",
   "execution_count": 74,
   "metadata": {},
   "outputs": [
    {
     "data": {
      "image/png": "[encoded data removed]",
      "text/plain": [
       "<matplotlib.figure.Figure at 0x7fe9ac5a3910>"
      ]
     },
     "metadata": {},
     "output_type": "display_data"
    }
   ],
   "source": [
    "plt.figure(dpi=100)\n",
    "plt.title('false neg att')\n",
    "plt.plot(np.arange(445), false_neg_att, 'o');"
   ]
  },
  {
   "cell_type": "code",
   "execution_count": 25,
   "metadata": {},
   "outputs": [],
   "source": [
    "import itertools\n",
    "def plot_confusion_matrix(cm, classes,\n",
    "                          normalize=False,\n",
    "                          title='Confusion matrix',\n",
    "                          cmap=plt.cm.Blues):\n",
    "    \"\"\"\n",
    "    This function prints and plots the confusion matrix.\n",
    "    Normalization can be applied by setting `normalize=True`.\n",
    "    \"\"\"\n",
    "    if normalize:\n",
    "        cm = cm.astype('float') / cm.sum(axis=1)[:, np.newaxis]\n",
    "        print(\"Normalized confusion matrix\")\n",
    "    \n",
    "    plt.imshow(cm, interpolation='nearest', cmap=cmap)\n",
    "    plt.title(title)\n",
    "    plt.colorbar()\n",
    "    tick_marks = np.arange(len(classes))\n",
    "    plt.xticks(tick_marks, classes, rotation=45)\n",
    "    plt.yticks(tick_marks, classes)\n",
    "\n",
    "    fmt = '.2f' if normalize else 'd'\n",
    "    thresh = cm.max() / 2.\n",
    "    for i, j in itertools.product(range(cm.shape[0]), range(cm.shape[1])):\n",
    "        plt.text(j, i, format(cm[i, j], fmt),\n",
    "                 horizontalalignment=\"center\",\n",
    "                 color=\"white\" if cm[i, j] > thresh else \"black\")\n",
    "\n",
    "    plt.tight_layout()\n",
    "    plt.ylabel('True label')\n",
    "    plt.xlabel('Predicted label')\n",
    "    return plt"
   ]
  },
  {
   "cell_type": "code",
   "execution_count": null,
   "metadata": {},
   "outputs": [],
   "source": []
  }
 ],
 "metadata": {
  "kernelspec": {
   "display_name": "Python 2",
   "language": "python",
   "name": "python2"
  },
  "language_info": {
   "codemirror_mode": {
    "name": "ipython",
    "version": 2
   },
   "file_extension": ".py",
   "mimetype": "text/x-python",
   "name": "python",
   "nbconvert_exporter": "python",
   "pygments_lexer": "ipython2",
   "version": "2.7.14"
  }
 },
 "nbformat": 4,
 "nbformat_minor": 2
}
