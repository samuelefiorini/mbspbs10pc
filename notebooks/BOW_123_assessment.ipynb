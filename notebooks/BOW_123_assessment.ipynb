{
 "cells": [
  {
   "cell_type": "code",
   "execution_count": 1,
   "metadata": {},
   "outputs": [],
   "source": [
    "import pandas as pd\n",
    "import numpy as np\n",
    "from sklearn.pipeline import Pipeline\n",
    "from sklearn.preprocessing import StandardScaler\n",
    "from sklearn.linear_model import LogisticRegressionCV\n",
    "from sklearn.model_selection import cross_validate\n",
    "\n",
    "import warnings\n",
    "warnings.filterwarnings('ignore')"
   ]
  },
  {
   "cell_type": "markdown",
   "metadata": {},
   "source": [
    "# BOW 1-2-3"
   ]
  },
  {
   "cell_type": "code",
   "execution_count": 2,
   "metadata": {},
   "outputs": [
    {
     "name": "stdout",
     "output_type": "stream",
     "text": [
      "Max ngram: 1\n",
      "('X0: ', (284718, 19))\n",
      "('X1: ', (25949, 19))\n",
      "(51898, 19)\n",
      "(51898,)\n",
      "Training: avg score: 0.899 +- 0.000\n",
      "Validation: avg score: 0.899 +- 0.003\n",
      "----------------------------------\n",
      "Max ngram: 2\n",
      "('X0: ', (284718, 129))\n",
      "('X1: ', (25949, 129))\n",
      "(51898, 129)\n",
      "(51898,)\n",
      "Training: avg score: 0.902 +- 0.001\n",
      "Validation: avg score: 0.901 +- 0.004\n",
      "----------------------------------\n",
      "Max ngram: 3\n",
      "('X0: ', (284718, 854))\n",
      "('X1: ', (25949, 854))\n",
      "(51898, 854)\n",
      "(51898,)\n",
      "Training: avg score: 0.909 +- 0.001\n",
      "Validation: avg score: 0.903 +- 0.005\n",
      "----------------------------------\n"
     ]
    }
   ],
   "source": [
    "results = {}\n",
    "for ngram in [1,2,3]:\n",
    "    print('Max ngram: {}'.format(ngram))\n",
    "    \n",
    "    # 0. Load BOW data\n",
    "    df0 = pd.read_csv('BOW-datasets/BOW_{}-gram_class0.csv'.format(ngram), header=0, index_col=0)\n",
    "    df1 = pd.read_csv('BOW-datasets/BOW_{}-gram_class1.csv'.format(ngram), header=0, index_col=0)\n",
    "\n",
    "    X0 = df0.values\n",
    "    X1 = df1.values\n",
    "    feat_names = df0.columns\n",
    "\n",
    "    print('X0: ', X0.shape)\n",
    "    print('X1: ', X1.shape)\n",
    "    \n",
    "    # 1. Create a balanced training set\n",
    "    n = X1.shape[0]\n",
    "\n",
    "    # Subsample X1\n",
    "    idx = np.arange(n)\n",
    "    np.random.shuffle(idx)\n",
    "    X1_small = X1[idx, :]\n",
    "    id1 = df1.index[idx]\n",
    "\n",
    "    # Subsample X0\n",
    "    idx = np.arange(n)\n",
    "    np.random.shuffle(idx)\n",
    "    X0_small = X0[idx, :]\n",
    "    id0 = df0.index[idx]\n",
    "\n",
    "    # Stack them\n",
    "    X_small = np.vstack((X1_small, X0_small))\n",
    "    y_small = np.hstack((np.ones(X1_small.shape[0]), np.zeros(X0_small.shape[0])))\n",
    "    id_small = id1.tolist()+id0.tolist()\n",
    "    print(X_small.shape)\n",
    "    print(y_small.shape)\n",
    "    \n",
    "    # Learning phase\n",
    "    pipe = Pipeline([('pp', StandardScaler()), ('mdl', LogisticRegressionCV(Cs=np.logspace(-5, 0, 10)))])\n",
    "\n",
    "    scores = cross_validate(pipe, X_small, y_small, cv=10, n_jobs=-1)\n",
    "    print('Training: avg score: {:2.3f} +- {:2.3f}'.format(np.mean(scores['train_score']),\n",
    "                                                           np.std(scores['train_score'])))\n",
    "    print('Validation: avg score: {:2.3f} +- {:2.3f}'.format(np.mean(scores['test_score']),\n",
    "                                                             np.std(scores['test_score'])))\n",
    "    \n",
    "    results[ngram] = scores\n",
    "    print('----------------------------------')"
   ]
  },
  {
   "cell_type": "code",
   "execution_count": null,
   "metadata": {},
   "outputs": [],
   "source": []
  }
 ],
 "metadata": {
  "kernelspec": {
   "display_name": "Python 2",
   "language": "python",
   "name": "python2"
  },
  "language_info": {
   "codemirror_mode": {
    "name": "ipython",
    "version": 2
   },
   "file_extension": ".py",
   "mimetype": "text/x-python",
   "name": "python",
   "nbconvert_exporter": "python",
   "pygments_lexer": "ipython2",
   "version": "2.7.14"
  }
 },
 "nbformat": 4,
 "nbformat_minor": 2
}
