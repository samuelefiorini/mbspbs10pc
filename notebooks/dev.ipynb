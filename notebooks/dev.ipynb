{
 "cells": [
  {
   "cell_type": "code",
   "execution_count": 74,
   "metadata": {},
   "outputs": [
    {
     "name": "stdout",
     "output_type": "stream",
     "text": [
      "2018 2 22 3 39 10\n"
     ]
    }
   ],
   "source": [
    "import datetime\n",
    "from tqdm import tqdm\n",
    "now = datetime.datetime.now()\n",
    "print now.year, now.month, now.day, now.hour, now.minute, now.second"
   ]
  },
  {
   "cell_type": "code",
   "execution_count": 2,
   "metadata": {},
   "outputs": [],
   "source": [
    "from sklearn.datasets.base import Bunch"
   ]
  },
  {
   "cell_type": "code",
   "execution_count": 12,
   "metadata": {},
   "outputs": [],
   "source": [
    "dd = {123: Bunch(seq=[1,1,4,5,6], info=['M', 52]),\n",
    "      456: Bunch(seq=[2,1,4,5,6], info=['M', 52]),\n",
    "      678: Bunch(seq=[3,1,4,5,6], info=['M', 52]),\n",
    "      999: Bunch(seq=[4,1,4,5,6], info=['M', 52]),}"
   ]
  },
  {
   "cell_type": "code",
   "execution_count": 43,
   "metadata": {},
   "outputs": [
    {
     "data": {
      "text/plain": [
       "[array([ 2,  2,  8, 10, 12]),\n",
       " array([ 4,  2,  8, 10, 12]),\n",
       " array([ 6,  2,  8, 10, 12]),\n",
       " array([ 8,  2,  8, 10, 12])]"
      ]
     },
     "execution_count": 43,
     "metadata": {},
     "output_type": "execute_result"
    },
    {
     "name": "stderr",
     "output_type": "stream",
     "text": [
      "Process PoolWorker-20:\n",
      "Process PoolWorker-21:\n",
      "Process PoolWorker-22:\n",
      "Traceback (most recent call last):\n",
      "Process PoolWorker-19:\n",
      "Traceback (most recent call last):\n",
      "Traceback (most recent call last):\n",
      "  File \"/home/samu/miniconda2/lib/python2.7/multiprocessing/process.py\", line 267, in _bootstrap\n",
      "Traceback (most recent call last):\n",
      "  File \"/home/samu/miniconda2/lib/python2.7/multiprocessing/process.py\", line 267, in _bootstrap\n",
      "  File \"/home/samu/miniconda2/lib/python2.7/multiprocessing/process.py\", line 267, in _bootstrap\n",
      "  File \"/home/samu/miniconda2/lib/python2.7/multiprocessing/process.py\", line 267, in _bootstrap\n",
      "    self.run()\n",
      "    self.run()\n",
      "    self.run()\n",
      "    self.run()\n",
      "  File \"/home/samu/miniconda2/lib/python2.7/multiprocessing/process.py\", line 114, in run\n",
      "  File \"/home/samu/miniconda2/lib/python2.7/multiprocessing/process.py\", line 114, in run\n",
      "  File \"/home/samu/miniconda2/lib/python2.7/multiprocessing/process.py\", line 114, in run\n",
      "  File \"/home/samu/miniconda2/lib/python2.7/multiprocessing/process.py\", line 114, in run\n",
      "    self._target(*self._args, **self._kwargs)\n",
      "    self._target(*self._args, **self._kwargs)\n",
      "    self._target(*self._args, **self._kwargs)\n",
      "    self._target(*self._args, **self._kwargs)\n",
      "  File \"/home/samu/miniconda2/lib/python2.7/multiprocessing/pool.py\", line 102, in worker\n",
      "  File \"/home/samu/miniconda2/lib/python2.7/multiprocessing/pool.py\", line 102, in worker\n",
      "  File \"/home/samu/miniconda2/lib/python2.7/multiprocessing/pool.py\", line 102, in worker\n",
      "  File \"/home/samu/miniconda2/lib/python2.7/multiprocessing/pool.py\", line 102, in worker\n",
      "    task = get()\n",
      "    task = get()\n",
      "    task = get()\n",
      "    task = get()\n",
      "  File \"/home/samu/miniconda2/lib/python2.7/multiprocessing/queues.py\", line 374, in get\n",
      "  File \"/home/samu/miniconda2/lib/python2.7/multiprocessing/queues.py\", line 376, in get\n",
      "  File \"/home/samu/miniconda2/lib/python2.7/multiprocessing/queues.py\", line 374, in get\n",
      "  File \"/home/samu/miniconda2/lib/python2.7/multiprocessing/queues.py\", line 374, in get\n",
      "    racquire()\n",
      "    return recv()\n",
      "    racquire()\n",
      "    racquire()\n",
      "KeyboardInterrupt\n",
      "KeyboardInterrupt\n",
      "KeyboardInterrupt\n",
      "KeyboardInterrupt\n"
     ]
    }
   ],
   "source": [
    "import multiprocessing as mp\n",
    "import numpy as np\n",
    "from multiprocessing import Manager\n",
    "\n",
    "def f(i, shared_arg=None):\n",
    "    return 2*np.array(shared_arg[i].seq)\n",
    "\n",
    "manager = Manager()\n",
    "shared_dict = manager.dict(dd)\n",
    "pool = mp.Pool(4)\n",
    "\n",
    "results = [pool.apply_async(f, [i, shared_dict]) for i in [123, 456, 678, 999]]\n",
    "results = [p.get() for p in results]\n",
    "results"
   ]
  },
  {
   "cell_type": "code",
   "execution_count": 23,
   "metadata": {},
   "outputs": [],
   "source": [
    "import pandas as pd\n",
    "from __future__ import division"
   ]
  },
  {
   "cell_type": "code",
   "execution_count": 24,
   "metadata": {},
   "outputs": [
    {
     "data": {
      "text/html": [
       "<div>\n",
       "<style scoped>\n",
       "    .dataframe tbody tr th:only-of-type {\n",
       "        vertical-align: middle;\n",
       "    }\n",
       "\n",
       "    .dataframe tbody tr th {\n",
       "        vertical-align: top;\n",
       "    }\n",
       "\n",
       "    .dataframe thead th {\n",
       "        text-align: right;\n",
       "    }\n",
       "</style>\n",
       "<table border=\"1\" class=\"dataframe\">\n",
       "  <thead>\n",
       "    <tr style=\"text-align: right;\">\n",
       "      <th></th>\n",
       "      <th>PTNT_ID</th>\n",
       "    </tr>\n",
       "  </thead>\n",
       "  <tbody>\n",
       "    <tr>\n",
       "      <th>0</th>\n",
       "      <td>2917138437</td>\n",
       "    </tr>\n",
       "    <tr>\n",
       "      <th>1</th>\n",
       "      <td>2644508681</td>\n",
       "    </tr>\n",
       "    <tr>\n",
       "      <th>2</th>\n",
       "      <td>3505389578</td>\n",
       "    </tr>\n",
       "    <tr>\n",
       "      <th>3</th>\n",
       "      <td>2453667855</td>\n",
       "    </tr>\n",
       "    <tr>\n",
       "      <th>4</th>\n",
       "      <td>3314548753</td>\n",
       "    </tr>\n",
       "  </tbody>\n",
       "</table>\n",
       "</div>"
      ],
      "text/plain": [
       "      PTNT_ID\n",
       "0  2917138437\n",
       "1  2644508681\n",
       "2  3505389578\n",
       "3  2453667855\n",
       "4  3314548753"
      ]
     },
     "execution_count": 24,
     "metadata": {},
     "output_type": "execute_result"
    }
   ],
   "source": [
    "df = pd.read_csv('../tmp/dump_class_0.csv', header=0)\n",
    "df.head()"
   ]
  },
  {
   "cell_type": "code",
   "execution_count": 85,
   "metadata": {},
   "outputs": [],
   "source": [
    "n_jobs = 32\n",
    "\n",
    "splits = np.array_split(df.values, n_jobs)"
   ]
  },
  {
   "cell_type": "code",
   "execution_count": 86,
   "metadata": {},
   "outputs": [
    {
     "data": {
      "text/plain": [
       "array([[2917138437],\n",
       "       [2644508681],\n",
       "       [3505389578],\n",
       "       ...,\n",
       "       [5105666806],\n",
       "       [4600253182],\n",
       "       [ 727862015]])"
      ]
     },
     "execution_count": 86,
     "metadata": {},
     "output_type": "execute_result"
    }
   ],
   "source": [
    "ss[0]"
   ]
  },
  {
   "cell_type": "code",
   "execution_count": 30,
   "metadata": {},
   "outputs": [
    {
     "data": {
      "text/plain": [
       "(253180, 1)"
      ]
     },
     "execution_count": 30,
     "metadata": {},
     "output_type": "execute_result"
    }
   ],
   "source": [
    "df.shape"
   ]
  },
  {
   "cell_type": "code",
   "execution_count": 45,
   "metadata": {},
   "outputs": [],
   "source": [
    "import cPickle as pkl\n",
    "\n",
    "pp = pkl.load(open('../tmp/dump_class_0__raw_data_.pkl', 'rb'))"
   ]
  },
  {
   "cell_type": "code",
   "execution_count": 49,
   "metadata": {},
   "outputs": [
    {
     "name": "stdout",
     "output_type": "stream",
     "text": [
      "['MBS_SAMPLE_10PCT_2010.csv', 'MBS_SAMPLE_10PCT_2013.csv', 'MBS_SAMPLE_10PCT_2008.csv', 'MBS_SAMPLE_10PCT_2009.csv', 'MBS_SAMPLE_10PCT_2011.csv', 'MBS_SAMPLE_10PCT_2014.csv', 'MBS_SAMPLE_10PCT_2012.csv']\n"
     ]
    }
   ],
   "source": [
    "import os\n",
    "mbs_files = filter(lambda x: x.startswith('MBS'), os.listdir('../../../data/'))\n",
    "print(mbs_files)"
   ]
  },
  {
   "cell_type": "code",
   "execution_count": 51,
   "metadata": {},
   "outputs": [],
   "source": [
    "___MBS_FILES_DICT__ = dict()\n",
    "for mbs in mbs_files:\n",
    "    mbs = os.path.join('..','..','..','data', mbs)\n",
    "    ___MBS_FILES_DICT__[mbs] = pd.read_csv(mbs, header=0,\n",
    "                                           usecols=['PIN', 'SPR_RSP', 'DOS'])"
   ]
  },
  {
   "cell_type": "code",
   "execution_count": 56,
   "metadata": {},
   "outputs": [],
   "source": [
    "mbs_dd = ___MBS_FILES_DICT__"
   ]
  },
  {
   "cell_type": "code",
   "execution_count": null,
   "metadata": {},
   "outputs": [],
   "source": [
    "raw_data = dict()"
   ]
  },
  {
   "cell_type": "code",
   "execution_count": 103,
   "metadata": {},
   "outputs": [],
   "source": [
    "split = set(splits[0].ravel())"
   ]
  },
  {
   "cell_type": "code",
   "execution_count": 197,
   "metadata": {},
   "outputs": [],
   "source": [
    "import time"
   ]
  },
  {
   "cell_type": "code",
   "execution_count": 199,
   "metadata": {},
   "outputs": [],
   "source": [
    "import warnings\n",
    "warnings.filterwarnings('ignore')"
   ]
  },
  {
   "cell_type": "code",
   "execution_count": 200,
   "metadata": {},
   "outputs": [
    {
     "name": "stderr",
     "output_type": "stream",
     "text": [
      "100%|██████████| 7/7 [01:54<00:00, 16.37s/it]\n",
      "100%|██████████| 7912/7912 [02:08<00:00, 61.80it/s]"
     ]
    },
    {
     "name": "stdout",
     "output_type": "stream",
     "text": [
      "242.623284817\n"
     ]
    },
    {
     "name": "stderr",
     "output_type": "stream",
     "text": [
      "\n"
     ]
    }
   ],
   "source": [
    "t1 = time.time()\n",
    "raw_data = dict()\n",
    "\n",
    "# Pre-filter: keep only the elements of mbs_dd that are in the current split\n",
    "# this helps in reducing the time of the next step\n",
    "small_mbs_dd = dict()\n",
    "for k in tqdm(sorted(mbs_dd.keys())):\n",
    "    # keep only a subset of the full MBS data\n",
    "    small_mbs_dd[k] = mbs_dd[k].loc[mbs_dd[k]['PIN'].isin(split)]\n",
    "    # change format to the right datetime format (this is gonna be useful later)\n",
    "    small_mbs_dd[k].loc[:,'DOS'] = pd.to_datetime(small_mbs_dd[k]['DOS'], format='%d%b%Y')    \n",
    "    # and sort by date\n",
    "    small_mbs_dd[k].sort_values(by='DOS', inplace=True)\n",
    "\n",
    "# Now track down each patient in the reduced MBS files\n",
    "for s in tqdm(split):\n",
    "    tmp = pd.DataFrame(columns=['PIN', 'DOS', 'SPR_RSP'])\n",
    "    for k in sorted(mbs_dd.keys()):\n",
    "        tmp = pd.concat((tmp, small_mbs_dd[k].loc[small_mbs_dd[k]['PIN'] == s]))\n",
    "        \n",
    "    # evaluate the first order difference and convert each entry in days\n",
    "    timedeltas = map(lambda x: pd.Timedelta(x).days, tmp['DOS'].values[1:] - tmp['DOS'].values[:-1])\n",
    "    # then build the sequence as ['exam', idle-days, 'exam', idle-days, ...]\n",
    "    raw_data[s] = flatten([[str(spr_rsp), dt] for spr_rsp, dt in zip(tmp['SPR_RSP'].values, timedeltas)])\n",
    "    raw_data[s].append(str(tmp['SPR_RSP'].values[-1]))\n",
    "    \n",
    "t2 = time.time()\n",
    "print(t2-t1)"
   ]
  },
  {
   "cell_type": "code",
   "execution_count": 208,
   "metadata": {},
   "outputs": [],
   "source": [
    "import multiprocessing as mp"
   ]
  },
  {
   "cell_type": "code",
   "execution_count": 209,
   "metadata": {},
   "outputs": [
    {
     "data": {
      "text/plain": [
       "<multiprocessing.pool.ThreadPool at 0x7fb6c1e5ea90>"
      ]
     },
     "execution_count": 209,
     "metadata": {},
     "output_type": "execute_result"
    }
   ],
   "source": [
    "mp.pool.ThreadPool()"
   ]
  },
  {
   "cell_type": "code",
   "execution_count": 210,
   "metadata": {},
   "outputs": [
    {
     "name": "stdout",
     "output_type": "stream",
     "text": [
      "megazord\r\n"
     ]
    }
   ],
   "source": [
    "!hostname"
   ]
  },
  {
   "cell_type": "code",
   "execution_count": null,
   "metadata": {},
   "outputs": [],
   "source": []
  }
 ],
 "metadata": {
  "kernelspec": {
   "display_name": "Python 2",
   "language": "python",
   "name": "python2"
  },
  "language_info": {
   "codemirror_mode": {
    "name": "ipython",
    "version": 2
   },
   "file_extension": ".py",
   "mimetype": "text/x-python",
   "name": "python",
   "nbconvert_exporter": "python",
   "pygments_lexer": "ipython2",
   "version": "2.7.14"
  }
 },
 "nbformat": 4,
 "nbformat_minor": 2
}
