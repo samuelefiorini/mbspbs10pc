{
 "cells": [
  {
   "cell_type": "code",
   "execution_count": 42,
   "metadata": {},
   "outputs": [],
   "source": [
    "%matplotlib inline\n",
    "import pandas as pd\n",
    "import numpy as np\n",
    "import matplotlib.pyplot as plt\n",
    "import warnings\n",
    "warnings.filterwarnings('ignore')\n",
    "\n",
    "from sklearn.model_selection import StratifiedShuffleSplit\n",
    "\n",
    "from keras.preprocessing.text import Tokenizer\n",
    "from keras.preprocessing.sequence import pad_sequences"
   ]
  },
  {
   "cell_type": "markdown",
   "metadata": {},
   "source": [
    "# Load raw data"
   ]
  },
  {
   "cell_type": "code",
   "execution_count": 43,
   "metadata": {},
   "outputs": [
    {
     "data": {
      "text/html": [
       "<div>\n",
       "<style scoped>\n",
       "    .dataframe tbody tr th:only-of-type {\n",
       "        vertical-align: middle;\n",
       "    }\n",
       "\n",
       "    .dataframe tbody tr th {\n",
       "        vertical-align: top;\n",
       "    }\n",
       "\n",
       "    .dataframe thead th {\n",
       "        text-align: right;\n",
       "    }\n",
       "</style>\n",
       "<table border=\"1\" class=\"dataframe\">\n",
       "  <thead>\n",
       "    <tr style=\"text-align: right;\">\n",
       "      <th></th>\n",
       "      <th>Seq</th>\n",
       "      <th>Class</th>\n",
       "    </tr>\n",
       "  </thead>\n",
       "  <tbody>\n",
       "    <tr>\n",
       "      <th>1667874818</th>\n",
       "      <td>P0P0P0P0E2T0G1P0P0P0P0P0P0G0T0G0T2G0T0T0G1G0T4...</td>\n",
       "      <td>1</td>\n",
       "    </tr>\n",
       "    <tr>\n",
       "      <th>893140995</th>\n",
       "      <td>P0P0P2P0P0P2T0T0G0G2G0T0P0P0P0P1I0G0T2P0P0P0E0...</td>\n",
       "      <td>1</td>\n",
       "    </tr>\n",
       "    <tr>\n",
       "      <th>8189009928</th>\n",
       "      <td>T0G3G0T1P0P0T0T0T0S0S0S0S0T0T0G2T0G3G0T0P0P0P0...</td>\n",
       "      <td>1</td>\n",
       "    </tr>\n",
       "    <tr>\n",
       "      <th>4599996427</th>\n",
       "      <td>I0T0O2T0I3G0T0T0G3G0T2G0T3G0T2O2G0T0P0P0P0P0P1...</td>\n",
       "      <td>1</td>\n",
       "    </tr>\n",
       "    <tr>\n",
       "      <th>6111690766</th>\n",
       "      <td>G2O0P0P0P0P2G0P0P0P2G0T2T3G0I0G1G3G1T0E0P0S0P0...</td>\n",
       "      <td>1</td>\n",
       "    </tr>\n",
       "  </tbody>\n",
       "</table>\n",
       "</div>"
      ],
      "text/plain": [
       "                                                          Seq  Class\n",
       "1667874818  P0P0P0P0E2T0G1P0P0P0P0P0P0G0T0G0T2G0T0T0G1G0T4...      1\n",
       "893140995   P0P0P2P0P0P2T0T0G0G2G0T0P0P0P0P1I0G0T2P0P0P0E0...      1\n",
       "8189009928  T0G3G0T1P0P0T0T0T0S0S0S0S0T0T0G2T0G3G0T0P0P0P0...      1\n",
       "4599996427  I0T0O2T0I3G0T0T0G3G0T2G0T3G0T2O2G0T0P0P0P0P0P1...      1\n",
       "6111690766  G2O0P0P0P0P2G0P0P0P2G0T2T3G0I0G1G3G1T0E0P0S0P0...      1"
      ]
     },
     "execution_count": 43,
     "metadata": {},
     "output_type": "execute_result"
    }
   ],
   "source": [
    "df = pd.read_csv('../tmp/matched_sequences.csv', header=0, index_col=0)\n",
    "df.head()"
   ]
  },
  {
   "cell_type": "markdown",
   "metadata": {},
   "source": [
    "# Seq2Tokens"
   ]
  },
  {
   "cell_type": "code",
   "execution_count": 44,
   "metadata": {},
   "outputs": [],
   "source": [
    "# Define tokenizer object\n",
    "tokenizer = Tokenizer(char_level=True, lower=False, split='')\n",
    "\n",
    "# Fit on corpus and extract tokenized sequences\n",
    "tokenizer.fit_on_texts(df['Seq'])\n",
    "n_feat = len(tokenizer.word_index.keys())\n",
    "seq = tokenizer.texts_to_sequences(df['Seq'])\n",
    "\n",
    "# Pad tokenized sequences\n",
    "lengths = [len(x) for x in seq]\n",
    "maxlen = int(np.percentile(lengths, 90))\n",
    "p_seq = pad_sequences(seq, maxlen=maxlen)"
   ]
  },
  {
   "cell_type": "markdown",
   "metadata": {},
   "source": [
    "# Training - Validation - Test split"
   ]
  },
  {
   "cell_type": "code",
   "execution_count": 45,
   "metadata": {},
   "outputs": [
    {
     "name": "stdout",
     "output_type": "stream",
     "text": [
      "28806 learn / 28806 test\n",
      "25925 training / 2881 validation\n"
     ]
    }
   ],
   "source": [
    "# Full dataset\n",
    "y = df['Class'].ravel()\n",
    "X = p_seq\n",
    "\n",
    "# Learn / Test\n",
    "sss = StratifiedShuffleSplit(n_splits=1, test_size=0.5, random_state=0)\n",
    "learn_idx, test_idx = next(sss.split(X, y))\n",
    "\n",
    "X_learn, y_learn = X[learn_idx, :], y[learn_idx]\n",
    "X_test, y_test = X[test_idx, :], y[test_idx]\n",
    "\n",
    "print('{} learn / {} test'.format(len(y_learn), len(y_test)))\n",
    "\n",
    "# Training / Validation\n",
    "sss = StratifiedShuffleSplit(n_splits=1, test_size=0.1, random_state=1)\n",
    "train_idx, valid_idx = next(sss.split(X_learn, y_learn))\n",
    "\n",
    "X_train, y_train = X_learn[train_idx, :], y_learn[train_idx]\n",
    "X_valid, y_valid = X_learn[valid_idx, :], y_learn[valid_idx]\n",
    "\n",
    "print('{} training / {} validation'.format(len(y_train), len(y_valid)))"
   ]
  },
  {
   "cell_type": "markdown",
   "metadata": {},
   "source": [
    "# Model \\#1: Embedding + Dense (good baseline)"
   ]
  },
  {
   "cell_type": "code",
   "execution_count": 150,
   "metadata": {},
   "outputs": [
    {
     "name": "stdout",
     "output_type": "stream",
     "text": [
      "_________________________________________________________________\n",
      "Layer (type)                 Output Shape              Param #   \n",
      "=================================================================\n",
      "embedding_30 (Embedding)     (None, 931, 64)           1088      \n",
      "_________________________________________________________________\n",
      "flatten_6 (Flatten)          (None, 59584)             0         \n",
      "_________________________________________________________________\n",
      "dense_30 (Dense)             (None, 1)                 59585     \n",
      "=================================================================\n",
      "Total params: 60,673\n",
      "Trainable params: 60,673\n",
      "Non-trainable params: 0\n",
      "_________________________________________________________________\n"
     ]
    }
   ],
   "source": [
    "from keras.models import Sequential\n",
    "from keras.layers import Flatten, Dense, Embedding\n",
    "from keras.callbacks import EarlyStopping\n",
    "\n",
    "model = Sequential()\n",
    "model.add(Embedding(n_feat, 64, input_length=maxlen))\n",
    "model.add(Flatten())\n",
    "model.add(Dense(1, activation='sigmoid'))\n",
    "model.compile(optimizer='rmsprop',\n",
    "              loss='binary_crossentropy',\n",
    "              metrics=['acc'])\n",
    "model.summary()"
   ]
  },
  {
   "cell_type": "code",
   "execution_count": 151,
   "metadata": {},
   "outputs": [
    {
     "name": "stdout",
     "output_type": "stream",
     "text": [
      "Train on 25925 samples, validate on 2881 samples\n",
      "Epoch 1/500\n",
      "25925/25925 [==============================] - 3s 124us/step - loss: 0.4659 - acc: 0.7750 - val_loss: 0.3308 - val_acc: 0.8601\n",
      "Epoch 2/500\n",
      "25925/25925 [==============================] - 2s 75us/step - loss: 0.3147 - acc: 0.8673 - val_loss: 0.3350 - val_acc: 0.8605\n",
      "Epoch 3/500\n",
      "25925/25925 [==============================] - 2s 77us/step - loss: 0.2890 - acc: 0.8796 - val_loss: 0.2883 - val_acc: 0.8778\n",
      "Epoch 4/500\n",
      "25925/25925 [==============================] - 2s 76us/step - loss: 0.2751 - acc: 0.8876 - val_loss: 0.3187 - val_acc: 0.8657\n",
      "Epoch 5/500\n",
      "25925/25925 [==============================] - 2s 77us/step - loss: 0.2630 - acc: 0.8926 - val_loss: 0.3678 - val_acc: 0.8542\n",
      "Epoch 6/500\n",
      "25925/25925 [==============================] - 2s 76us/step - loss: 0.2527 - acc: 0.8980 - val_loss: 0.3433 - val_acc: 0.8549\n",
      "Epoch 7/500\n",
      "25925/25925 [==============================] - 2s 77us/step - loss: 0.2464 - acc: 0.9011 - val_loss: 0.3266 - val_acc: 0.8622\n",
      "Epoch 8/500\n",
      "25925/25925 [==============================] - 2s 76us/step - loss: 0.2382 - acc: 0.9055 - val_loss: 0.3094 - val_acc: 0.8667\n",
      "Epoch 9/500\n",
      "25925/25925 [==============================] - 2s 74us/step - loss: 0.2337 - acc: 0.9077 - val_loss: 0.3349 - val_acc: 0.8584\n",
      "Epoch 10/500\n",
      "25925/25925 [==============================] - 2s 76us/step - loss: 0.2249 - acc: 0.9101 - val_loss: 0.3579 - val_acc: 0.8504\n",
      "Epoch 11/500\n",
      "25925/25925 [==============================] - 2s 75us/step - loss: 0.2228 - acc: 0.9125 - val_loss: 0.3523 - val_acc: 0.8535\n",
      "Epoch 12/500\n",
      "25925/25925 [==============================] - 2s 76us/step - loss: 0.2173 - acc: 0.9153 - val_loss: 0.3482 - val_acc: 0.8580\n",
      "Epoch 13/500\n",
      "25925/25925 [==============================] - 2s 75us/step - loss: 0.2154 - acc: 0.9165 - val_loss: 0.3590 - val_acc: 0.8674\n",
      "Epoch 14/500\n",
      "25925/25925 [==============================] - 2s 76us/step - loss: 0.2112 - acc: 0.9186 - val_loss: 0.3627 - val_acc: 0.8625\n",
      "Epoch 15/500\n",
      "25925/25925 [==============================] - 2s 76us/step - loss: 0.2081 - acc: 0.9193 - val_loss: 0.3853 - val_acc: 0.8667\n",
      "Epoch 16/500\n",
      "25925/25925 [==============================] - 2s 77us/step - loss: 0.2055 - acc: 0.9201 - val_loss: 0.3832 - val_acc: 0.8629\n",
      "Epoch 17/500\n",
      "25925/25925 [==============================] - 2s 77us/step - loss: 0.2039 - acc: 0.9210 - val_loss: 0.3912 - val_acc: 0.8612\n",
      "Epoch 18/500\n",
      "25925/25925 [==============================] - 2s 76us/step - loss: 0.2028 - acc: 0.9214 - val_loss: 0.3899 - val_acc: 0.8605\n",
      "Epoch 19/500\n",
      "25925/25925 [==============================] - 2s 76us/step - loss: 0.1990 - acc: 0.9219 - val_loss: 0.4103 - val_acc: 0.8625\n",
      "Epoch 20/500\n",
      "25925/25925 [==============================] - 2s 77us/step - loss: 0.1979 - acc: 0.9248 - val_loss: 0.4112 - val_acc: 0.8563\n",
      "Epoch 21/500\n",
      "25925/25925 [==============================] - 2s 77us/step - loss: 0.1959 - acc: 0.9252 - val_loss: 0.4260 - val_acc: 0.8438\n",
      "Epoch 22/500\n",
      "25925/25925 [==============================] - 2s 76us/step - loss: 0.1927 - acc: 0.9276 - val_loss: 0.4200 - val_acc: 0.8566\n",
      "Epoch 23/500\n",
      "25925/25925 [==============================] - 2s 76us/step - loss: 0.1913 - acc: 0.9271 - val_loss: 0.4326 - val_acc: 0.8501\n",
      "Epoch 24/500\n",
      "25925/25925 [==============================] - 2s 76us/step - loss: 0.1911 - acc: 0.9267 - val_loss: 0.4396 - val_acc: 0.8570\n",
      "Epoch 25/500\n",
      "25925/25925 [==============================] - 2s 75us/step - loss: 0.1893 - acc: 0.9266 - val_loss: 0.4426 - val_acc: 0.8462\n",
      "Epoch 26/500\n",
      "25925/25925 [==============================] - 2s 77us/step - loss: 0.1871 - acc: 0.9293 - val_loss: 0.4664 - val_acc: 0.8563\n",
      "Epoch 27/500\n",
      "25925/25925 [==============================] - 2s 75us/step - loss: 0.1861 - acc: 0.9294 - val_loss: 0.4714 - val_acc: 0.8407\n",
      "Epoch 28/500\n",
      "25925/25925 [==============================] - 2s 75us/step - loss: 0.1846 - acc: 0.9309 - val_loss: 0.5156 - val_acc: 0.8219\n",
      "Epoch 29/500\n",
      "25925/25925 [==============================] - 2s 76us/step - loss: 0.1839 - acc: 0.9301 - val_loss: 0.4821 - val_acc: 0.8410\n",
      "Epoch 30/500\n",
      "25925/25925 [==============================] - 2s 75us/step - loss: 0.1799 - acc: 0.9323 - val_loss: 0.4712 - val_acc: 0.8476\n",
      "Epoch 31/500\n",
      "25925/25925 [==============================] - 2s 76us/step - loss: 0.1799 - acc: 0.9311 - val_loss: 0.4964 - val_acc: 0.8348\n",
      "Epoch 32/500\n",
      "25925/25925 [==============================] - 2s 77us/step - loss: 0.1789 - acc: 0.9324 - val_loss: 0.4853 - val_acc: 0.8466\n",
      "Epoch 33/500\n",
      "25925/25925 [==============================] - 2s 76us/step - loss: 0.1788 - acc: 0.9339 - val_loss: 0.4972 - val_acc: 0.8428\n"
     ]
    }
   ],
   "source": [
    "callbacks = [EarlyStopping(monitor='val_loss', patience=30)]\n",
    "\n",
    "history = model.fit(X_train, y_train,\n",
    "                    epochs=500,\n",
    "                    callbacks=callbacks,\n",
    "                    batch_size=128,\n",
    "                    validation_data=(X_valid, y_valid))"
   ]
  },
  {
   "cell_type": "code",
   "execution_count": 152,
   "metadata": {},
   "outputs": [
    {
     "data": {
      "image/png": "[encoded data removed]",
      "text/plain": [
       "<matplotlib.figure.Figure at 0x7f52c4657190>"
      ]
     },
     "metadata": {},
     "output_type": "display_data"
    }
   ],
   "source": [
    "plt.figure(dpi=100)\n",
    "t = history.epoch\n",
    "\n",
    "plt.subplot(211)\n",
    "plt.plot(t, history.history['loss'], label='loss', color='C0')\n",
    "plt.plot(t, history.history['val_loss'], label='val_loss', color='C1')\n",
    "plt.xlabel('epochs')\n",
    "plt.ylabel('loss')\n",
    "plt.legend(loc=1)\n",
    "\n",
    "plt.subplot(212)\n",
    "plt.plot(t, history.history['acc'], label='acc', color='C2')\n",
    "plt.plot(t, history.history['val_acc'], label='val_acc', color='C3')\n",
    "plt.ylim([0.5, 1])\n",
    "plt.ylabel('acc')\n",
    "plt.xlabel('epochs')\n",
    "plt.legend(loc=1)\n",
    "\n",
    "plt.tight_layout()\n",
    "plt.savefig('embedding_dense.png')"
   ]
  },
  {
   "cell_type": "code",
   "execution_count": 153,
   "metadata": {},
   "outputs": [
    {
     "name": "stdout",
     "output_type": "stream",
     "text": [
      "28806/28806 [==============================] - 3s 103us/step\n",
      "test_loss: 0.5299 - test_acc: 0.8427\n"
     ]
    }
   ],
   "source": [
    "test_loss, test_acc = model.evaluate(X_test, y_test)\n",
    "print('test_loss: {:1.4f} - test_acc: {:1.4f}'.format(test_loss, test_acc))"
   ]
  },
  {
   "cell_type": "code",
   "execution_count": 154,
   "metadata": {},
   "outputs": [],
   "source": [
    "model.save_weights('embedding_dense.h5')"
   ]
  },
  {
   "cell_type": "markdown",
   "metadata": {},
   "source": [
    "# Model \\#2: Embedding + SimpleRNN (not working in our case)"
   ]
  },
  {
   "cell_type": "code",
   "execution_count": 97,
   "metadata": {},
   "outputs": [
    {
     "name": "stdout",
     "output_type": "stream",
     "text": [
      "_________________________________________________________________\n",
      "Layer (type)                 Output Shape              Param #   \n",
      "=================================================================\n",
      "embedding_10 (Embedding)     (None, 931, 64)           1088      \n",
      "_________________________________________________________________\n",
      "simple_rnn_5 (SimpleRNN)     (None, 32)                3104      \n",
      "_________________________________________________________________\n",
      "dense_10 (Dense)             (None, 1)                 33        \n",
      "=================================================================\n",
      "Total params: 4,225\n",
      "Trainable params: 4,225\n",
      "Non-trainable params: 0\n",
      "_________________________________________________________________\n"
     ]
    }
   ],
   "source": [
    "from keras.layers import SimpleRNN\n",
    "\n",
    "model = Sequential()\n",
    "model.add(Embedding(n_feat, 64, input_length=maxlen))\n",
    "model.add(SimpleRNN(32))\n",
    "model.add(Dense(1, activation='sigmoid'))\n",
    "model.compile(optimizer='rmsprop',\n",
    "              loss='binary_crossentropy',\n",
    "              metrics=['acc'])\n",
    "model.summary()"
   ]
  },
  {
   "cell_type": "code",
   "execution_count": 98,
   "metadata": {},
   "outputs": [
    {
     "name": "stdout",
     "output_type": "stream",
     "text": [
      "Train on 25925 samples, validate on 2881 samples\n",
      "Epoch 1/30\n",
      "25925/25925 [==============================] - 64s 2ms/step - loss: 0.6172 - acc: 0.6586 - val_loss: 0.5976 - val_acc: 0.6800\n",
      "Epoch 2/30\n",
      "25925/25925 [==============================] - 64s 2ms/step - loss: 0.5764 - acc: 0.7028 - val_loss: 0.5748 - val_acc: 0.7067\n",
      "Epoch 3/30\n",
      "25925/25925 [==============================] - 64s 2ms/step - loss: 0.6028 - acc: 0.6763 - val_loss: 0.5817 - val_acc: 0.7081\n",
      "Epoch 4/30\n",
      "25925/25925 [==============================] - 64s 2ms/step - loss: 0.5738 - acc: 0.7091 - val_loss: 0.5244 - val_acc: 0.7466\n",
      "Epoch 5/30\n",
      "25925/25925 [==============================] - 64s 2ms/step - loss: 0.5532 - acc: 0.7186 - val_loss: 0.5510 - val_acc: 0.7289\n",
      "Epoch 6/30\n",
      "25925/25925 [==============================] - 64s 2ms/step - loss: 0.5849 - acc: 0.6923 - val_loss: 0.5453 - val_acc: 0.7098\n",
      "Epoch 7/30\n",
      "25925/25925 [==============================] - 64s 2ms/step - loss: 0.5809 - acc: 0.7050 - val_loss: 0.5819 - val_acc: 0.7018\n",
      "Epoch 8/30\n",
      "25925/25925 [==============================] - 63s 2ms/step - loss: 0.5927 - acc: 0.6853 - val_loss: 0.5650 - val_acc: 0.7386\n",
      "Epoch 9/30\n",
      "24576/25925 [===========================>..] - ETA: 3s - loss: 0.5638 - acc: 0.7127"
     ]
    },
    {
     "ename": "KeyboardInterrupt",
     "evalue": "",
     "output_type": "error",
     "traceback": [
      "\u001b[0;31m---------------------------------------------------------------------------\u001b[0m",
      "\u001b[0;31mKeyboardInterrupt\u001b[0m                         Traceback (most recent call last)",
      "\u001b[0;32m<ipython-input-98-d7f2ac34506e>\u001b[0m in \u001b[0;36m<module>\u001b[0;34m()\u001b[0m\n\u001b[1;32m      5\u001b[0m \u001b[0;31m#                     callbacks=callbacks,\u001b[0m\u001b[0;34m\u001b[0m\u001b[0;34m\u001b[0m\u001b[0m\n\u001b[1;32m      6\u001b[0m                     \u001b[0mbatch_size\u001b[0m\u001b[0;34m=\u001b[0m\u001b[0;36m128\u001b[0m\u001b[0;34m,\u001b[0m\u001b[0;34m\u001b[0m\u001b[0m\n\u001b[0;32m----> 7\u001b[0;31m                     validation_data=(X_valid, y_valid))\n\u001b[0m",
      "\u001b[0;32m/home/samu/miniconda2/lib/python2.7/site-packages/keras/models.pyc\u001b[0m in \u001b[0;36mfit\u001b[0;34m(self, x, y, batch_size, epochs, verbose, callbacks, validation_split, validation_data, shuffle, class_weight, sample_weight, initial_epoch, steps_per_epoch, validation_steps, **kwargs)\u001b[0m\n\u001b[1;32m    963\u001b[0m                               \u001b[0minitial_epoch\u001b[0m\u001b[0;34m=\u001b[0m\u001b[0minitial_epoch\u001b[0m\u001b[0;34m,\u001b[0m\u001b[0;34m\u001b[0m\u001b[0m\n\u001b[1;32m    964\u001b[0m                               \u001b[0msteps_per_epoch\u001b[0m\u001b[0;34m=\u001b[0m\u001b[0msteps_per_epoch\u001b[0m\u001b[0;34m,\u001b[0m\u001b[0;34m\u001b[0m\u001b[0m\n\u001b[0;32m--> 965\u001b[0;31m                               validation_steps=validation_steps)\n\u001b[0m\u001b[1;32m    966\u001b[0m \u001b[0;34m\u001b[0m\u001b[0m\n\u001b[1;32m    967\u001b[0m     def evaluate(self, x=None, y=None,\n",
      "\u001b[0;32m/home/samu/miniconda2/lib/python2.7/site-packages/keras/engine/training.pyc\u001b[0m in \u001b[0;36mfit\u001b[0;34m(self, x, y, batch_size, epochs, verbose, callbacks, validation_split, validation_data, shuffle, class_weight, sample_weight, initial_epoch, steps_per_epoch, validation_steps, **kwargs)\u001b[0m\n\u001b[1;32m   1667\u001b[0m                               \u001b[0minitial_epoch\u001b[0m\u001b[0;34m=\u001b[0m\u001b[0minitial_epoch\u001b[0m\u001b[0;34m,\u001b[0m\u001b[0;34m\u001b[0m\u001b[0m\n\u001b[1;32m   1668\u001b[0m                               \u001b[0msteps_per_epoch\u001b[0m\u001b[0;34m=\u001b[0m\u001b[0msteps_per_epoch\u001b[0m\u001b[0;34m,\u001b[0m\u001b[0;34m\u001b[0m\u001b[0m\n\u001b[0;32m-> 1669\u001b[0;31m                               validation_steps=validation_steps)\n\u001b[0m\u001b[1;32m   1670\u001b[0m \u001b[0;34m\u001b[0m\u001b[0m\n\u001b[1;32m   1671\u001b[0m     def evaluate(self, x=None, y=None,\n",
      "\u001b[0;32m/home/samu/miniconda2/lib/python2.7/site-packages/keras/engine/training.pyc\u001b[0m in \u001b[0;36m_fit_loop\u001b[0;34m(self, f, ins, out_labels, batch_size, epochs, verbose, callbacks, val_f, val_ins, shuffle, callback_metrics, initial_epoch, steps_per_epoch, validation_steps)\u001b[0m\n\u001b[1;32m   1204\u001b[0m                         \u001b[0mins_batch\u001b[0m\u001b[0;34m[\u001b[0m\u001b[0mi\u001b[0m\u001b[0;34m]\u001b[0m \u001b[0;34m=\u001b[0m \u001b[0mins_batch\u001b[0m\u001b[0;34m[\u001b[0m\u001b[0mi\u001b[0m\u001b[0;34m]\u001b[0m\u001b[0;34m.\u001b[0m\u001b[0mtoarray\u001b[0m\u001b[0;34m(\u001b[0m\u001b[0;34m)\u001b[0m\u001b[0;34m\u001b[0m\u001b[0m\n\u001b[1;32m   1205\u001b[0m \u001b[0;34m\u001b[0m\u001b[0m\n\u001b[0;32m-> 1206\u001b[0;31m                     \u001b[0mouts\u001b[0m \u001b[0;34m=\u001b[0m \u001b[0mf\u001b[0m\u001b[0;34m(\u001b[0m\u001b[0mins_batch\u001b[0m\u001b[0;34m)\u001b[0m\u001b[0;34m\u001b[0m\u001b[0m\n\u001b[0m\u001b[1;32m   1207\u001b[0m                     \u001b[0;32mif\u001b[0m \u001b[0;32mnot\u001b[0m \u001b[0misinstance\u001b[0m\u001b[0;34m(\u001b[0m\u001b[0mouts\u001b[0m\u001b[0;34m,\u001b[0m \u001b[0mlist\u001b[0m\u001b[0;34m)\u001b[0m\u001b[0;34m:\u001b[0m\u001b[0;34m\u001b[0m\u001b[0m\n\u001b[1;32m   1208\u001b[0m                         \u001b[0mouts\u001b[0m \u001b[0;34m=\u001b[0m \u001b[0;34m[\u001b[0m\u001b[0mouts\u001b[0m\u001b[0;34m]\u001b[0m\u001b[0;34m\u001b[0m\u001b[0m\n",
      "\u001b[0;32m/home/samu/miniconda2/lib/python2.7/site-packages/keras/backend/tensorflow_backend.pyc\u001b[0m in \u001b[0;36m__call__\u001b[0;34m(self, inputs)\u001b[0m\n\u001b[1;32m   2473\u001b[0m         \u001b[0msession\u001b[0m \u001b[0;34m=\u001b[0m \u001b[0mget_session\u001b[0m\u001b[0;34m(\u001b[0m\u001b[0;34m)\u001b[0m\u001b[0;34m\u001b[0m\u001b[0m\n\u001b[1;32m   2474\u001b[0m         updated = session.run(fetches=fetches, feed_dict=feed_dict,\n\u001b[0;32m-> 2475\u001b[0;31m                               **self.session_kwargs)\n\u001b[0m\u001b[1;32m   2476\u001b[0m         \u001b[0;32mreturn\u001b[0m \u001b[0mupdated\u001b[0m\u001b[0;34m[\u001b[0m\u001b[0;34m:\u001b[0m\u001b[0mlen\u001b[0m\u001b[0;34m(\u001b[0m\u001b[0mself\u001b[0m\u001b[0;34m.\u001b[0m\u001b[0moutputs\u001b[0m\u001b[0;34m)\u001b[0m\u001b[0;34m]\u001b[0m\u001b[0;34m\u001b[0m\u001b[0m\n\u001b[1;32m   2477\u001b[0m \u001b[0;34m\u001b[0m\u001b[0m\n",
      "\u001b[0;32m/home/samu/miniconda2/lib/python2.7/site-packages/tensorflow/python/client/session.pyc\u001b[0m in \u001b[0;36mrun\u001b[0;34m(self, fetches, feed_dict, options, run_metadata)\u001b[0m\n\u001b[1;32m    787\u001b[0m     \u001b[0;32mtry\u001b[0m\u001b[0;34m:\u001b[0m\u001b[0;34m\u001b[0m\u001b[0m\n\u001b[1;32m    788\u001b[0m       result = self._run(None, fetches, feed_dict, options_ptr,\n\u001b[0;32m--> 789\u001b[0;31m                          run_metadata_ptr)\n\u001b[0m\u001b[1;32m    790\u001b[0m       \u001b[0;32mif\u001b[0m \u001b[0mrun_metadata\u001b[0m\u001b[0;34m:\u001b[0m\u001b[0;34m\u001b[0m\u001b[0m\n\u001b[1;32m    791\u001b[0m         \u001b[0mproto_data\u001b[0m \u001b[0;34m=\u001b[0m \u001b[0mtf_session\u001b[0m\u001b[0;34m.\u001b[0m\u001b[0mTF_GetBuffer\u001b[0m\u001b[0;34m(\u001b[0m\u001b[0mrun_metadata_ptr\u001b[0m\u001b[0;34m)\u001b[0m\u001b[0;34m\u001b[0m\u001b[0m\n",
      "\u001b[0;32m/home/samu/miniconda2/lib/python2.7/site-packages/tensorflow/python/client/session.pyc\u001b[0m in \u001b[0;36m_run\u001b[0;34m(self, handle, fetches, feed_dict, options, run_metadata)\u001b[0m\n\u001b[1;32m    995\u001b[0m     \u001b[0;32mif\u001b[0m \u001b[0mfinal_fetches\u001b[0m \u001b[0;32mor\u001b[0m \u001b[0mfinal_targets\u001b[0m\u001b[0;34m:\u001b[0m\u001b[0;34m\u001b[0m\u001b[0m\n\u001b[1;32m    996\u001b[0m       results = self._do_run(handle, final_targets, final_fetches,\n\u001b[0;32m--> 997\u001b[0;31m                              feed_dict_string, options, run_metadata)\n\u001b[0m\u001b[1;32m    998\u001b[0m     \u001b[0;32melse\u001b[0m\u001b[0;34m:\u001b[0m\u001b[0;34m\u001b[0m\u001b[0m\n\u001b[1;32m    999\u001b[0m       \u001b[0mresults\u001b[0m \u001b[0;34m=\u001b[0m \u001b[0;34m[\u001b[0m\u001b[0;34m]\u001b[0m\u001b[0;34m\u001b[0m\u001b[0m\n",
      "\u001b[0;32m/home/samu/miniconda2/lib/python2.7/site-packages/tensorflow/python/client/session.pyc\u001b[0m in \u001b[0;36m_do_run\u001b[0;34m(self, handle, target_list, fetch_list, feed_dict, options, run_metadata)\u001b[0m\n\u001b[1;32m   1130\u001b[0m     \u001b[0;32mif\u001b[0m \u001b[0mhandle\u001b[0m \u001b[0;32mis\u001b[0m \u001b[0mNone\u001b[0m\u001b[0;34m:\u001b[0m\u001b[0;34m\u001b[0m\u001b[0m\n\u001b[1;32m   1131\u001b[0m       return self._do_call(_run_fn, self._session, feed_dict, fetch_list,\n\u001b[0;32m-> 1132\u001b[0;31m                            target_list, options, run_metadata)\n\u001b[0m\u001b[1;32m   1133\u001b[0m     \u001b[0;32melse\u001b[0m\u001b[0;34m:\u001b[0m\u001b[0;34m\u001b[0m\u001b[0m\n\u001b[1;32m   1134\u001b[0m       return self._do_call(_prun_fn, self._session, handle, feed_dict,\n",
      "\u001b[0;32m/home/samu/miniconda2/lib/python2.7/site-packages/tensorflow/python/client/session.pyc\u001b[0m in \u001b[0;36m_do_call\u001b[0;34m(self, fn, *args)\u001b[0m\n\u001b[1;32m   1137\u001b[0m   \u001b[0;32mdef\u001b[0m \u001b[0m_do_call\u001b[0m\u001b[0;34m(\u001b[0m\u001b[0mself\u001b[0m\u001b[0;34m,\u001b[0m \u001b[0mfn\u001b[0m\u001b[0;34m,\u001b[0m \u001b[0;34m*\u001b[0m\u001b[0margs\u001b[0m\u001b[0;34m)\u001b[0m\u001b[0;34m:\u001b[0m\u001b[0;34m\u001b[0m\u001b[0m\n\u001b[1;32m   1138\u001b[0m     \u001b[0;32mtry\u001b[0m\u001b[0;34m:\u001b[0m\u001b[0;34m\u001b[0m\u001b[0m\n\u001b[0;32m-> 1139\u001b[0;31m       \u001b[0;32mreturn\u001b[0m \u001b[0mfn\u001b[0m\u001b[0;34m(\u001b[0m\u001b[0;34m*\u001b[0m\u001b[0margs\u001b[0m\u001b[0;34m)\u001b[0m\u001b[0;34m\u001b[0m\u001b[0m\n\u001b[0m\u001b[1;32m   1140\u001b[0m     \u001b[0;32mexcept\u001b[0m \u001b[0merrors\u001b[0m\u001b[0;34m.\u001b[0m\u001b[0mOpError\u001b[0m \u001b[0;32mas\u001b[0m \u001b[0me\u001b[0m\u001b[0;34m:\u001b[0m\u001b[0;34m\u001b[0m\u001b[0m\n\u001b[1;32m   1141\u001b[0m       \u001b[0mmessage\u001b[0m \u001b[0;34m=\u001b[0m \u001b[0mcompat\u001b[0m\u001b[0;34m.\u001b[0m\u001b[0mas_text\u001b[0m\u001b[0;34m(\u001b[0m\u001b[0me\u001b[0m\u001b[0;34m.\u001b[0m\u001b[0mmessage\u001b[0m\u001b[0;34m)\u001b[0m\u001b[0;34m\u001b[0m\u001b[0m\n",
      "\u001b[0;32m/home/samu/miniconda2/lib/python2.7/site-packages/tensorflow/python/client/session.pyc\u001b[0m in \u001b[0;36m_run_fn\u001b[0;34m(session, feed_dict, fetch_list, target_list, options, run_metadata)\u001b[0m\n\u001b[1;32m   1119\u001b[0m         return tf_session.TF_Run(session, options,\n\u001b[1;32m   1120\u001b[0m                                  \u001b[0mfeed_dict\u001b[0m\u001b[0;34m,\u001b[0m \u001b[0mfetch_list\u001b[0m\u001b[0;34m,\u001b[0m \u001b[0mtarget_list\u001b[0m\u001b[0;34m,\u001b[0m\u001b[0;34m\u001b[0m\u001b[0m\n\u001b[0;32m-> 1121\u001b[0;31m                                  status, run_metadata)\n\u001b[0m\u001b[1;32m   1122\u001b[0m \u001b[0;34m\u001b[0m\u001b[0m\n\u001b[1;32m   1123\u001b[0m     \u001b[0;32mdef\u001b[0m \u001b[0m_prun_fn\u001b[0m\u001b[0;34m(\u001b[0m\u001b[0msession\u001b[0m\u001b[0;34m,\u001b[0m \u001b[0mhandle\u001b[0m\u001b[0;34m,\u001b[0m \u001b[0mfeed_dict\u001b[0m\u001b[0;34m,\u001b[0m \u001b[0mfetch_list\u001b[0m\u001b[0;34m)\u001b[0m\u001b[0;34m:\u001b[0m\u001b[0;34m\u001b[0m\u001b[0m\n",
      "\u001b[0;31mKeyboardInterrupt\u001b[0m: "
     ]
    }
   ],
   "source": [
    "history = model.fit(X_train, y_train,\n",
    "                    epochs=30,\n",
    "                    batch_size=128,\n",
    "                    validation_data=(X_valid, y_valid))"
   ]
  },
  {
   "cell_type": "markdown",
   "metadata": {},
   "source": [
    "# Model \\#3: Embedding + LSTM (seems good for our case)"
   ]
  },
  {
   "cell_type": "code",
   "execution_count": 103,
   "metadata": {},
   "outputs": [
    {
     "name": "stdout",
     "output_type": "stream",
     "text": [
      "_________________________________________________________________\n",
      "Layer (type)                 Output Shape              Param #   \n",
      "=================================================================\n",
      "embedding_13 (Embedding)     (None, 931, 64)           1088      \n",
      "_________________________________________________________________\n",
      "cu_dnnlstm_2 (CuDNNLSTM)     (None, 32)                12544     \n",
      "_________________________________________________________________\n",
      "dense_13 (Dense)             (None, 1)                 33        \n",
      "=================================================================\n",
      "Total params: 13,665\n",
      "Trainable params: 13,665\n",
      "Non-trainable params: 0\n",
      "_________________________________________________________________\n"
     ]
    }
   ],
   "source": [
    "from keras.layers import CuDNNLSTM\n",
    "\n",
    "model = Sequential()\n",
    "model.add(Embedding(n_feat, 64, input_length=maxlen))\n",
    "model.add(CuDNNLSTM(32))\n",
    "model.add(Dense(1, activation='sigmoid'))\n",
    "model.compile(optimizer='adam',\n",
    "              loss='binary_crossentropy',\n",
    "              metrics=['acc'])\n",
    "model.summary()"
   ]
  },
  {
   "cell_type": "code",
   "execution_count": 104,
   "metadata": {},
   "outputs": [
    {
     "name": "stdout",
     "output_type": "stream",
     "text": [
      "Train on 25925 samples, validate on 2881 samples\n",
      "Epoch 1/30\n",
      "25925/25925 [==============================] - 22s 830us/step - loss: 0.6227 - acc: 0.6512 - val_loss: 0.6457 - val_acc: 0.6237\n",
      "Epoch 2/30\n",
      "25925/25925 [==============================] - 21s 811us/step - loss: 0.5623 - acc: 0.7148 - val_loss: 0.5112 - val_acc: 0.7605\n",
      "Epoch 3/30\n",
      "25925/25925 [==============================] - 21s 812us/step - loss: 0.5159 - acc: 0.7526 - val_loss: 0.4822 - val_acc: 0.7692\n",
      "Epoch 4/30\n",
      "25925/25925 [==============================] - 21s 829us/step - loss: 0.5188 - acc: 0.7478 - val_loss: 0.4192 - val_acc: 0.8171\n",
      "Epoch 5/30\n",
      "25925/25925 [==============================] - 22s 849us/step - loss: 0.5463 - acc: 0.7283 - val_loss: 0.5856 - val_acc: 0.6977\n",
      "Epoch 6/30\n",
      "25925/25925 [==============================] - 22s 848us/step - loss: 0.5194 - acc: 0.7527 - val_loss: 0.4807 - val_acc: 0.7848\n",
      "Epoch 7/30\n",
      "25925/25925 [==============================] - 22s 853us/step - loss: 0.4156 - acc: 0.8172 - val_loss: 0.3625 - val_acc: 0.8521\n",
      "Epoch 8/30\n",
      "25925/25925 [==============================] - 22s 839us/step - loss: 0.3401 - acc: 0.8622 - val_loss: 0.3265 - val_acc: 0.8664\n",
      "Epoch 9/30\n",
      "25925/25925 [==============================] - 22s 842us/step - loss: 0.3243 - acc: 0.8711 - val_loss: 0.3081 - val_acc: 0.8775\n",
      "Epoch 10/30\n",
      "25925/25925 [==============================] - 22s 836us/step - loss: 0.3286 - acc: 0.8601 - val_loss: 0.3331 - val_acc: 0.8660\n",
      "Epoch 11/30\n",
      "25925/25925 [==============================] - 22s 831us/step - loss: 0.3337 - acc: 0.8663 - val_loss: 0.3180 - val_acc: 0.8740\n",
      "Epoch 12/30\n",
      "25925/25925 [==============================] - 21s 814us/step - loss: 0.4087 - acc: 0.8252 - val_loss: 0.4211 - val_acc: 0.8501\n",
      "Epoch 13/30\n",
      "25925/25925 [==============================] - 21s 810us/step - loss: 0.3335 - acc: 0.8701 - val_loss: 0.3165 - val_acc: 0.8750\n",
      "Epoch 14/30\n",
      "25925/25925 [==============================] - 21s 813us/step - loss: 0.3026 - acc: 0.8810 - val_loss: 0.2884 - val_acc: 0.8844\n",
      "Epoch 15/30\n",
      "25925/25925 [==============================] - 21s 814us/step - loss: 0.2914 - acc: 0.8857 - val_loss: 0.2851 - val_acc: 0.8844\n",
      "Epoch 16/30\n",
      "25925/25925 [==============================] - 22s 843us/step - loss: 0.2874 - acc: 0.8878 - val_loss: 0.2725 - val_acc: 0.8910\n",
      "Epoch 17/30\n",
      "25925/25925 [==============================] - 22s 846us/step - loss: 0.2871 - acc: 0.8868 - val_loss: 0.2702 - val_acc: 0.8910\n",
      "Epoch 18/30\n",
      "25925/25925 [==============================] - 22s 838us/step - loss: 0.2819 - acc: 0.8901 - val_loss: 0.2731 - val_acc: 0.8921\n",
      "Epoch 19/30\n",
      "25925/25925 [==============================] - 22s 845us/step - loss: 0.2817 - acc: 0.8891 - val_loss: 0.2670 - val_acc: 0.8910\n",
      "Epoch 20/30\n",
      "25925/25925 [==============================] - 22s 849us/step - loss: 0.2770 - acc: 0.8913 - val_loss: 0.2634 - val_acc: 0.8952\n",
      "Epoch 21/30\n",
      "25925/25925 [==============================] - 22s 841us/step - loss: 0.2755 - acc: 0.8927 - val_loss: 0.2637 - val_acc: 0.8938\n",
      "Epoch 22/30\n",
      "25925/25925 [==============================] - 22s 843us/step - loss: 0.2750 - acc: 0.8912 - val_loss: 0.2623 - val_acc: 0.8948\n",
      "Epoch 23/30\n",
      "25925/25925 [==============================] - 22s 851us/step - loss: 0.2740 - acc: 0.8931 - val_loss: 0.2635 - val_acc: 0.8914\n",
      "Epoch 24/30\n",
      "25925/25925 [==============================] - 22s 847us/step - loss: 0.2768 - acc: 0.8927 - val_loss: 0.2744 - val_acc: 0.8848\n",
      "Epoch 25/30\n",
      "25925/25925 [==============================] - 22s 850us/step - loss: 0.2729 - acc: 0.8926 - val_loss: 0.2593 - val_acc: 0.8980\n",
      "Epoch 26/30\n",
      "25925/25925 [==============================] - 22s 840us/step - loss: 0.2748 - acc: 0.8927 - val_loss: 0.2588 - val_acc: 0.8955\n",
      "Epoch 27/30\n",
      "25925/25925 [==============================] - 22s 848us/step - loss: 0.2703 - acc: 0.8935 - val_loss: 0.2640 - val_acc: 0.8959\n",
      "Epoch 28/30\n",
      "25925/25925 [==============================] - 22s 838us/step - loss: 0.2681 - acc: 0.8948 - val_loss: 0.2547 - val_acc: 0.8955\n",
      "Epoch 29/30\n",
      "25925/25925 [==============================] - 22s 839us/step - loss: 0.2684 - acc: 0.8936 - val_loss: 0.2551 - val_acc: 0.8938\n",
      "Epoch 30/30\n",
      "25925/25925 [==============================] - 22s 848us/step - loss: 0.2848 - acc: 0.8878 - val_loss: 0.2726 - val_acc: 0.8886\n"
     ]
    }
   ],
   "source": [
    "history = model.fit(X_train, y_train,\n",
    "                    epochs=30,\n",
    "                    batch_size=128,\n",
    "                    validation_data=(X_valid, y_valid))"
   ]
  },
  {
   "cell_type": "code",
   "execution_count": 105,
   "metadata": {},
   "outputs": [
    {
     "data": {
      "image/png": "[encoded data removed]",
      "text/plain": [
       "<matplotlib.figure.Figure at 0x7f52ec7e4d90>"
      ]
     },
     "metadata": {},
     "output_type": "display_data"
    }
   ],
   "source": [
    "plt.figure(dpi=100)\n",
    "t = history.epoch\n",
    "\n",
    "plt.subplot(211)\n",
    "plt.plot(t, history.history['loss'], label='loss', color='C0')\n",
    "plt.plot(t, history.history['val_loss'], label='val_loss', color='C1')\n",
    "plt.xlabel('epochs')\n",
    "plt.ylabel('loss')\n",
    "plt.legend(loc=1)\n",
    "\n",
    "plt.subplot(212)\n",
    "plt.plot(t, history.history['acc'], label='acc', color='C2')\n",
    "plt.plot(t, history.history['val_acc'], label='val_acc', color='C3')\n",
    "plt.ylim([0.5, 1])\n",
    "plt.ylabel('acc')\n",
    "plt.xlabel('epochs')\n",
    "plt.legend(loc=1)\n",
    "\n",
    "plt.tight_layout()"
   ]
  },
  {
   "cell_type": "markdown",
   "metadata": {},
   "source": [
    "# Model \\#4: Embedding + Conv1D + LSTM (basically the same as before)"
   ]
  },
  {
   "cell_type": "code",
   "execution_count": 113,
   "metadata": {},
   "outputs": [
    {
     "name": "stdout",
     "output_type": "stream",
     "text": [
      "_________________________________________________________________\n",
      "Layer (type)                 Output Shape              Param #   \n",
      "=================================================================\n",
      "embedding_16 (Embedding)     (None, 931, 64)           1088      \n",
      "_________________________________________________________________\n",
      "conv1d_3 (Conv1D)            (None, 927, 64)           20544     \n",
      "_________________________________________________________________\n",
      "cu_dnnlstm_5 (CuDNNLSTM)     (None, 32)                12544     \n",
      "_________________________________________________________________\n",
      "dense_16 (Dense)             (None, 1)                 33        \n",
      "=================================================================\n",
      "Total params: 34,209\n",
      "Trainable params: 34,209\n",
      "Non-trainable params: 0\n",
      "_________________________________________________________________\n"
     ]
    }
   ],
   "source": [
    "from keras.layers import Conv1D\n",
    "\n",
    "model = Sequential()\n",
    "model.add(Embedding(n_feat, 64, input_length=maxlen))\n",
    "model.add(Conv1D(64, 5, activation='relu'))\n",
    "model.add(CuDNNLSTM(32))\n",
    "model.add(Dense(1, activation='sigmoid'))\n",
    "model.compile(optimizer='rmsprop',\n",
    "              loss='binary_crossentropy',\n",
    "              metrics=['acc'])\n",
    "model.summary()"
   ]
  },
  {
   "cell_type": "code",
   "execution_count": 114,
   "metadata": {},
   "outputs": [
    {
     "name": "stdout",
     "output_type": "stream",
     "text": [
      "Train on 25925 samples, validate on 2881 samples\n",
      "Epoch 1/30\n",
      "25925/25925 [==============================] - 28s 1ms/step - loss: 0.6040 - acc: 0.6682 - val_loss: 0.4600 - val_acc: 0.8067\n",
      "Epoch 2/30\n",
      "25925/25925 [==============================] - 26s 1ms/step - loss: 0.4844 - acc: 0.7754 - val_loss: 0.4954 - val_acc: 0.7671\n",
      "Epoch 3/30\n",
      "25925/25925 [==============================] - 26s 1ms/step - loss: 0.4374 - acc: 0.8085 - val_loss: 0.3686 - val_acc: 0.8386\n",
      "Epoch 4/30\n",
      "25925/25925 [==============================] - 26s 1ms/step - loss: 0.3710 - acc: 0.8447 - val_loss: 0.3167 - val_acc: 0.8761\n",
      "Epoch 5/30\n",
      "25925/25925 [==============================] - 26s 1ms/step - loss: 0.3677 - acc: 0.8503 - val_loss: 0.3369 - val_acc: 0.8757\n",
      "Epoch 6/30\n",
      "25925/25925 [==============================] - 26s 1ms/step - loss: 0.3344 - acc: 0.8634 - val_loss: 0.4743 - val_acc: 0.7803\n",
      "Epoch 7/30\n",
      "25925/25925 [==============================] - 26s 1ms/step - loss: 0.3213 - acc: 0.8697 - val_loss: 0.3511 - val_acc: 0.8698\n",
      "Epoch 8/30\n",
      "25925/25925 [==============================] - 26s 998us/step - loss: 0.3174 - acc: 0.8691 - val_loss: 0.2870 - val_acc: 0.8886\n",
      "Epoch 9/30\n",
      "25925/25925 [==============================] - 26s 989us/step - loss: 0.3145 - acc: 0.8717 - val_loss: 0.3038 - val_acc: 0.8726\n",
      "Epoch 10/30\n",
      "25925/25925 [==============================] - 25s 975us/step - loss: 0.4086 - acc: 0.8177 - val_loss: 0.5155 - val_acc: 0.7154\n",
      "Epoch 11/30\n",
      "25925/25925 [==============================] - 25s 975us/step - loss: 0.4099 - acc: 0.8188 - val_loss: 0.3695 - val_acc: 0.8466\n",
      "Epoch 12/30\n",
      "25925/25925 [==============================] - 25s 983us/step - loss: 0.3398 - acc: 0.8632 - val_loss: 0.3293 - val_acc: 0.8612\n",
      "Epoch 13/30\n",
      "25925/25925 [==============================] - 26s 1ms/step - loss: 0.3163 - acc: 0.8721 - val_loss: 0.2939 - val_acc: 0.8893\n",
      "Epoch 14/30\n",
      "25925/25925 [==============================] - 26s 1ms/step - loss: 0.3065 - acc: 0.8776 - val_loss: 0.2857 - val_acc: 0.8882\n",
      "Epoch 15/30\n",
      "25925/25925 [==============================] - 26s 1ms/step - loss: 0.2969 - acc: 0.8815 - val_loss: 0.2718 - val_acc: 0.8865\n",
      "Epoch 16/30\n",
      "25925/25925 [==============================] - 26s 1ms/step - loss: 0.3019 - acc: 0.8783 - val_loss: 0.2856 - val_acc: 0.8896\n",
      "Epoch 17/30\n",
      "25925/25925 [==============================] - 26s 1ms/step - loss: 0.3057 - acc: 0.8789 - val_loss: 0.3062 - val_acc: 0.8768\n",
      "Epoch 18/30\n",
      "25925/25925 [==============================] - 26s 995us/step - loss: 0.3089 - acc: 0.8776 - val_loss: 0.2783 - val_acc: 0.8924\n",
      "Epoch 19/30\n",
      "25925/25925 [==============================] - 26s 988us/step - loss: 0.3668 - acc: 0.8473 - val_loss: 0.3189 - val_acc: 0.8775\n",
      "Epoch 20/30\n",
      "25925/25925 [==============================] - 27s 1ms/step - loss: 0.3052 - acc: 0.8786 - val_loss: 0.2732 - val_acc: 0.8938\n",
      "Epoch 21/30\n",
      "25925/25925 [==============================] - 27s 1ms/step - loss: 0.2952 - acc: 0.8824 - val_loss: 0.2761 - val_acc: 0.8973\n",
      "Epoch 22/30\n",
      "25925/25925 [==============================] - 26s 1ms/step - loss: 0.2879 - acc: 0.8841 - val_loss: 0.2674 - val_acc: 0.8945\n",
      "Epoch 23/30\n",
      "25925/25925 [==============================] - 26s 1ms/step - loss: 0.2863 - acc: 0.8864 - val_loss: 0.2658 - val_acc: 0.8900\n",
      "Epoch 24/30\n",
      "25925/25925 [==============================] - 27s 1ms/step - loss: 0.2890 - acc: 0.8850 - val_loss: 0.3042 - val_acc: 0.8809\n",
      "Epoch 25/30\n",
      "25925/25925 [==============================] - 27s 1ms/step - loss: 0.2850 - acc: 0.8854 - val_loss: 0.2587 - val_acc: 0.8931\n",
      "Epoch 26/30\n",
      "25925/25925 [==============================] - 27s 1ms/step - loss: 0.2830 - acc: 0.8846 - val_loss: 0.2896 - val_acc: 0.8900\n",
      "Epoch 27/30\n",
      "25925/25925 [==============================] - 27s 1ms/step - loss: 0.2806 - acc: 0.8880 - val_loss: 0.2663 - val_acc: 0.8907\n",
      "Epoch 28/30\n",
      "25925/25925 [==============================] - 27s 1ms/step - loss: 0.2781 - acc: 0.8889 - val_loss: 0.2689 - val_acc: 0.8955\n",
      "Epoch 29/30\n",
      "25925/25925 [==============================] - 27s 1ms/step - loss: 0.2785 - acc: 0.8896 - val_loss: 0.2622 - val_acc: 0.8893\n",
      "Epoch 30/30\n",
      "25925/25925 [==============================] - 27s 1ms/step - loss: 0.2768 - acc: 0.8886 - val_loss: 0.2643 - val_acc: 0.8893\n"
     ]
    }
   ],
   "source": [
    "history = model.fit(X_train, y_train,\n",
    "                    epochs=30,\n",
    "                    batch_size=128,\n",
    "                    validation_data=(X_valid, y_valid))"
   ]
  },
  {
   "cell_type": "code",
   "execution_count": 115,
   "metadata": {},
   "outputs": [
    {
     "data": {
      "image/png": "[encoded data removed]",
      "text/plain": [
       "<matplotlib.figure.Figure at 0x7f52ec777f90>"
      ]
     },
     "metadata": {},
     "output_type": "display_data"
    }
   ],
   "source": [
    "plt.figure(dpi=100)\n",
    "t = history.epoch\n",
    "\n",
    "plt.subplot(211)\n",
    "plt.plot(t, history.history['loss'], label='loss', color='C0')\n",
    "plt.plot(t, history.history['val_loss'], label='val_loss', color='C1')\n",
    "plt.xlabel('epochs')\n",
    "plt.ylabel('loss')\n",
    "plt.legend(loc=1)\n",
    "\n",
    "plt.subplot(212)\n",
    "plt.plot(t, history.history['acc'], label='acc', color='C2')\n",
    "plt.plot(t, history.history['val_acc'], label='val_acc', color='C3')\n",
    "plt.ylim([0.5, 1])\n",
    "plt.ylabel('acc')\n",
    "plt.xlabel('epochs')\n",
    "plt.legend(loc=1)\n",
    "\n",
    "plt.tight_layout()"
   ]
  },
  {
   "cell_type": "markdown",
   "metadata": {},
   "source": [
    "# Model \\#5: Embedding + Conv1D + Pooling + LSTM (poor)"
   ]
  },
  {
   "cell_type": "code",
   "execution_count": 116,
   "metadata": {},
   "outputs": [
    {
     "name": "stdout",
     "output_type": "stream",
     "text": [
      "_________________________________________________________________\n",
      "Layer (type)                 Output Shape              Param #   \n",
      "=================================================================\n",
      "embedding_17 (Embedding)     (None, 931, 64)           1088      \n",
      "_________________________________________________________________\n",
      "conv1d_4 (Conv1D)            (None, 927, 64)           20544     \n",
      "_________________________________________________________________\n",
      "max_pooling1d_1 (MaxPooling1 (None, 463, 64)           0         \n",
      "_________________________________________________________________\n",
      "cu_dnnlstm_6 (CuDNNLSTM)     (None, 32)                12544     \n",
      "_________________________________________________________________\n",
      "dense_17 (Dense)             (None, 1)                 33        \n",
      "=================================================================\n",
      "Total params: 34,209\n",
      "Trainable params: 34,209\n",
      "Non-trainable params: 0\n",
      "_________________________________________________________________\n"
     ]
    }
   ],
   "source": [
    "from keras.layers import MaxPooling1D\n",
    "\n",
    "model = Sequential()\n",
    "model.add(Embedding(n_feat, 64, input_length=maxlen))\n",
    "model.add(Conv1D(64, 5, activation='relu'))\n",
    "model.add(MaxPooling1D(3, 2))\n",
    "model.add(CuDNNLSTM(32))\n",
    "model.add(Dense(1, activation='sigmoid'))\n",
    "model.compile(optimizer='rmsprop',\n",
    "              loss='binary_crossentropy',\n",
    "              metrics=['acc'])\n",
    "model.summary()"
   ]
  },
  {
   "cell_type": "code",
   "execution_count": 117,
   "metadata": {},
   "outputs": [
    {
     "name": "stdout",
     "output_type": "stream",
     "text": [
      "Train on 25925 samples, validate on 2881 samples\n",
      "Epoch 1/30\n",
      "25925/25925 [==============================] - 20s 784us/step - loss: 0.5094 - acc: 0.7498 - val_loss: 0.4164 - val_acc: 0.8150\n",
      "Epoch 2/30\n",
      "25925/25925 [==============================] - 18s 693us/step - loss: 0.3572 - acc: 0.8537 - val_loss: 0.3362 - val_acc: 0.8629\n",
      "Epoch 3/30\n",
      "25925/25925 [==============================] - 18s 676us/step - loss: 0.3262 - acc: 0.8672 - val_loss: 0.3719 - val_acc: 0.8507\n",
      "Epoch 4/30\n",
      "25925/25925 [==============================] - 18s 678us/step - loss: 0.3080 - acc: 0.8754 - val_loss: 0.3049 - val_acc: 0.8754\n",
      "Epoch 5/30\n",
      "25925/25925 [==============================] - 18s 676us/step - loss: 0.2968 - acc: 0.8808 - val_loss: 0.2917 - val_acc: 0.8886\n",
      "Epoch 6/30\n",
      "25925/25925 [==============================] - 18s 675us/step - loss: 0.2933 - acc: 0.8837 - val_loss: 0.2641 - val_acc: 0.8938\n",
      "Epoch 7/30\n",
      "25925/25925 [==============================] - 17s 675us/step - loss: 0.2873 - acc: 0.8843 - val_loss: 0.3915 - val_acc: 0.8209\n",
      "Epoch 8/30\n",
      "25925/25925 [==============================] - 18s 677us/step - loss: 0.3775 - acc: 0.8104 - val_loss: 0.7376 - val_acc: 0.4998\n",
      "Epoch 9/30\n",
      "25925/25925 [==============================] - 18s 679us/step - loss: 0.6724 - acc: 0.6142 - val_loss: 0.6623 - val_acc: 0.6630\n",
      "Epoch 10/30\n",
      "25925/25925 [==============================] - 18s 678us/step - loss: 0.6303 - acc: 0.6708 - val_loss: 0.6295 - val_acc: 0.6591\n",
      "Epoch 11/30\n",
      "25925/25925 [==============================] - 18s 675us/step - loss: 0.6415 - acc: 0.6315 - val_loss: 0.6566 - val_acc: 0.6175\n",
      "Epoch 12/30\n",
      "25925/25925 [==============================] - 18s 681us/step - loss: 0.6057 - acc: 0.6896 - val_loss: 0.5684 - val_acc: 0.7445\n",
      "Epoch 13/30\n",
      "25925/25925 [==============================] - 18s 679us/step - loss: 0.5313 - acc: 0.7568 - val_loss: 0.5035 - val_acc: 0.7702\n",
      "Epoch 14/30\n",
      "25925/25925 [==============================] - 18s 681us/step - loss: 0.5008 - acc: 0.7699 - val_loss: 0.4784 - val_acc: 0.7709\n",
      "Epoch 15/30\n",
      "25925/25925 [==============================] - 18s 682us/step - loss: 0.4810 - acc: 0.7754 - val_loss: 0.5828 - val_acc: 0.6907\n",
      "Epoch 16/30\n",
      "25925/25925 [==============================] - 18s 680us/step - loss: 0.4813 - acc: 0.7722 - val_loss: 0.4883 - val_acc: 0.7341\n",
      "Epoch 17/30\n",
      "25925/25925 [==============================] - 18s 680us/step - loss: 0.4746 - acc: 0.7740 - val_loss: 0.4754 - val_acc: 0.7758\n",
      "Epoch 18/30\n",
      "25925/25925 [==============================] - 18s 684us/step - loss: 0.4702 - acc: 0.7759 - val_loss: 0.4444 - val_acc: 0.7879\n",
      "Epoch 19/30\n",
      "25925/25925 [==============================] - 18s 689us/step - loss: 0.4596 - acc: 0.7817 - val_loss: 0.4328 - val_acc: 0.7949\n",
      "Epoch 20/30\n",
      "25925/25925 [==============================] - 19s 718us/step - loss: 0.4557 - acc: 0.7865 - val_loss: 0.5174 - val_acc: 0.7379\n",
      "Epoch 21/30\n",
      "25925/25925 [==============================] - 19s 725us/step - loss: 0.4516 - acc: 0.7853 - val_loss: 0.4222 - val_acc: 0.7949\n",
      "Epoch 22/30\n",
      "25925/25925 [==============================] - 19s 714us/step - loss: 0.4470 - acc: 0.7914 - val_loss: 0.4138 - val_acc: 0.8094\n",
      "Epoch 23/30\n",
      "25925/25925 [==============================] - 19s 725us/step - loss: 0.4462 - acc: 0.7925 - val_loss: 0.5064 - val_acc: 0.7504\n",
      "Epoch 24/30\n",
      "25925/25925 [==============================] - 19s 721us/step - loss: 0.4418 - acc: 0.7953 - val_loss: 0.4398 - val_acc: 0.7858\n",
      "Epoch 25/30\n",
      "25925/25925 [==============================] - 19s 719us/step - loss: 0.4397 - acc: 0.7966 - val_loss: 0.4116 - val_acc: 0.8081\n",
      "Epoch 26/30\n",
      "25925/25925 [==============================] - 18s 705us/step - loss: 0.4402 - acc: 0.7968 - val_loss: 0.5236 - val_acc: 0.7296\n",
      "Epoch 27/30\n",
      "25925/25925 [==============================] - 18s 690us/step - loss: 0.4764 - acc: 0.7799 - val_loss: 0.5317 - val_acc: 0.7345\n",
      "Epoch 28/30\n",
      "25925/25925 [==============================] - 18s 687us/step - loss: 0.4716 - acc: 0.7811 - val_loss: 0.4561 - val_acc: 0.7945\n",
      "Epoch 29/30\n",
      "25925/25925 [==============================] - 19s 724us/step - loss: 0.4701 - acc: 0.7831 - val_loss: 0.4528 - val_acc: 0.7938\n",
      "Epoch 30/30\n",
      "25925/25925 [==============================] - 18s 710us/step - loss: 0.4659 - acc: 0.7831 - val_loss: 0.5172 - val_acc: 0.7279\n"
     ]
    }
   ],
   "source": [
    "history = model.fit(X_train, y_train,\n",
    "                    epochs=30,\n",
    "                    batch_size=128,\n",
    "                    validation_data=(X_valid, y_valid))"
   ]
  },
  {
   "cell_type": "markdown",
   "metadata": {},
   "source": [
    "# Model \\#7: Embedding + BiLSTM"
   ]
  },
  {
   "cell_type": "code",
   "execution_count": 131,
   "metadata": {},
   "outputs": [
    {
     "name": "stdout",
     "output_type": "stream",
     "text": [
      "_________________________________________________________________\n",
      "Layer (type)                 Output Shape              Param #   \n",
      "=================================================================\n",
      "embedding_23 (Embedding)     (None, 931, 64)           1088      \n",
      "_________________________________________________________________\n",
      "bidirectional_3 (Bidirection (None, 64)                25088     \n",
      "_________________________________________________________________\n",
      "dense_23 (Dense)             (None, 1)                 65        \n",
      "=================================================================\n",
      "Total params: 26,241\n",
      "Trainable params: 26,241\n",
      "Non-trainable params: 0\n",
      "_________________________________________________________________\n"
     ]
    }
   ],
   "source": [
    "from keras.layers import Bidirectional\n",
    "\n",
    "model = Sequential()\n",
    "model.add(Embedding(n_feat, 64, input_length=maxlen))\n",
    "model.add(Bidirectional(CuDNNLSTM(32)))\n",
    "model.add(Dense(1, activation='sigmoid'))\n",
    "model.compile(optimizer='rmsprop',\n",
    "              loss='binary_crossentropy',\n",
    "              metrics=['acc'])\n",
    "model.summary()"
   ]
  },
  {
   "cell_type": "code",
   "execution_count": 132,
   "metadata": {},
   "outputs": [
    {
     "name": "stdout",
     "output_type": "stream",
     "text": [
      "Train on 25925 samples, validate on 2881 samples\n",
      "Epoch 1/500\n",
      "25925/25925 [==============================] - 43s 2ms/step - loss: 0.5792 - acc: 0.7071 - val_loss: 0.5119 - val_acc: 0.7459\n",
      "Epoch 2/500\n",
      "25925/25925 [==============================] - 42s 2ms/step - loss: 0.4919 - acc: 0.7771 - val_loss: 0.4728 - val_acc: 0.7858\n",
      "Epoch 3/500\n",
      "25925/25925 [==============================] - 42s 2ms/step - loss: 0.4799 - acc: 0.7858 - val_loss: 0.5178 - val_acc: 0.7463\n",
      "Epoch 4/500\n",
      "25925/25925 [==============================] - 42s 2ms/step - loss: 0.4752 - acc: 0.7882 - val_loss: 0.4803 - val_acc: 0.7876\n",
      "Epoch 5/500\n",
      "25925/25925 [==============================] - 42s 2ms/step - loss: 0.4301 - acc: 0.8157 - val_loss: 0.5322 - val_acc: 0.7362\n",
      "Epoch 6/500\n",
      "25925/25925 [==============================] - 42s 2ms/step - loss: 0.4497 - acc: 0.7945 - val_loss: 0.3950 - val_acc: 0.8393\n",
      "Epoch 7/500\n",
      "25925/25925 [==============================] - 42s 2ms/step - loss: 0.4059 - acc: 0.8275 - val_loss: 0.3790 - val_acc: 0.8601\n",
      "Epoch 8/500\n",
      "25925/25925 [==============================] - 42s 2ms/step - loss: 0.3831 - acc: 0.8408 - val_loss: 0.3500 - val_acc: 0.8671\n",
      "Epoch 9/500\n",
      "25925/25925 [==============================] - 42s 2ms/step - loss: 0.4414 - acc: 0.8182 - val_loss: 0.3647 - val_acc: 0.8556\n",
      "Epoch 10/500\n",
      "25925/25925 [==============================] - 42s 2ms/step - loss: 0.3508 - acc: 0.8566 - val_loss: 0.4180 - val_acc: 0.7799\n",
      "Epoch 11/500\n",
      "25925/25925 [==============================] - 42s 2ms/step - loss: 0.3407 - acc: 0.8627 - val_loss: 0.2973 - val_acc: 0.8785\n",
      "Epoch 12/500\n",
      "25925/25925 [==============================] - 42s 2ms/step - loss: 0.3239 - acc: 0.8686 - val_loss: 0.3065 - val_acc: 0.8723\n",
      "Epoch 13/500\n",
      "25925/25925 [==============================] - 42s 2ms/step - loss: 0.3212 - acc: 0.8714 - val_loss: 0.3069 - val_acc: 0.8695\n",
      "Epoch 14/500\n",
      "25925/25925 [==============================] - 42s 2ms/step - loss: 0.3129 - acc: 0.8740 - val_loss: 0.2931 - val_acc: 0.8924\n",
      "Epoch 15/500\n",
      "25925/25925 [==============================] - 42s 2ms/step - loss: 0.3110 - acc: 0.8724 - val_loss: 0.2861 - val_acc: 0.8844\n",
      "Epoch 16/500\n",
      "25925/25925 [==============================] - 42s 2ms/step - loss: 0.3071 - acc: 0.8762 - val_loss: 0.2990 - val_acc: 0.8907\n",
      "Epoch 17/500\n",
      "25925/25925 [==============================] - 42s 2ms/step - loss: 0.3163 - acc: 0.8678 - val_loss: 0.2880 - val_acc: 0.8927\n",
      "Epoch 18/500\n",
      "25925/25925 [==============================] - 42s 2ms/step - loss: 0.3026 - acc: 0.8778 - val_loss: 0.2999 - val_acc: 0.8678\n",
      "Epoch 19/500\n",
      "25925/25925 [==============================] - 42s 2ms/step - loss: 0.2999 - acc: 0.8789 - val_loss: 0.3318 - val_acc: 0.8650\n",
      "Epoch 20/500\n",
      "25925/25925 [==============================] - 42s 2ms/step - loss: 0.3035 - acc: 0.8767 - val_loss: 0.2811 - val_acc: 0.8865\n",
      "Epoch 21/500\n",
      "25925/25925 [==============================] - 42s 2ms/step - loss: 0.2962 - acc: 0.8800 - val_loss: 0.2704 - val_acc: 0.8914\n",
      "Epoch 22/500\n",
      "25925/25925 [==============================] - 42s 2ms/step - loss: 0.2973 - acc: 0.8819 - val_loss: 0.2656 - val_acc: 0.8907\n",
      "Epoch 23/500\n",
      "25925/25925 [==============================] - 42s 2ms/step - loss: 0.2909 - acc: 0.8849 - val_loss: 0.2716 - val_acc: 0.8931\n",
      "Epoch 24/500\n",
      "25925/25925 [==============================] - 42s 2ms/step - loss: 0.2908 - acc: 0.8843 - val_loss: 0.2772 - val_acc: 0.8820\n",
      "Epoch 25/500\n",
      "25925/25925 [==============================] - 42s 2ms/step - loss: 0.2882 - acc: 0.8855 - val_loss: 0.2833 - val_acc: 0.8844\n",
      "Epoch 26/500\n",
      "25925/25925 [==============================] - 42s 2ms/step - loss: 0.2869 - acc: 0.8845 - val_loss: 0.2826 - val_acc: 0.8809\n",
      "Epoch 27/500\n",
      "25925/25925 [==============================] - 42s 2ms/step - loss: 0.2874 - acc: 0.8854 - val_loss: 0.2676 - val_acc: 0.8914\n",
      "Epoch 28/500\n",
      "25925/25925 [==============================] - 42s 2ms/step - loss: 0.2853 - acc: 0.8875 - val_loss: 0.2741 - val_acc: 0.8879\n",
      "Epoch 29/500\n",
      "25925/25925 [==============================] - 42s 2ms/step - loss: 0.2793 - acc: 0.8888 - val_loss: 0.2701 - val_acc: 0.8921\n",
      "Epoch 30/500\n",
      "25925/25925 [==============================] - 42s 2ms/step - loss: 0.2837 - acc: 0.8856 - val_loss: 0.2658 - val_acc: 0.8865\n",
      "Epoch 31/500\n",
      "25925/25925 [==============================] - 42s 2ms/step - loss: 0.2794 - acc: 0.8875 - val_loss: 0.2636 - val_acc: 0.8952\n",
      "Epoch 32/500\n",
      "25925/25925 [==============================] - 42s 2ms/step - loss: 0.2763 - acc: 0.8886 - val_loss: 0.2977 - val_acc: 0.8778\n",
      "Epoch 33/500\n",
      "25925/25925 [==============================] - 42s 2ms/step - loss: 0.2770 - acc: 0.8885 - val_loss: 0.2611 - val_acc: 0.8900\n",
      "Epoch 34/500\n",
      "25925/25925 [==============================] - 42s 2ms/step - loss: 0.2742 - acc: 0.8893 - val_loss: 0.2629 - val_acc: 0.8924\n",
      "Epoch 35/500\n",
      "25925/25925 [==============================] - 42s 2ms/step - loss: 0.2740 - acc: 0.8908 - val_loss: 0.2560 - val_acc: 0.8966\n",
      "Epoch 36/500\n",
      "25925/25925 [==============================] - 42s 2ms/step - loss: 0.2731 - acc: 0.8918 - val_loss: 0.2576 - val_acc: 0.8917\n",
      "Epoch 37/500\n",
      "25925/25925 [==============================] - 42s 2ms/step - loss: 0.2699 - acc: 0.8918 - val_loss: 0.2584 - val_acc: 0.8896\n",
      "Epoch 38/500\n",
      "25925/25925 [==============================] - 42s 2ms/step - loss: 0.2710 - acc: 0.8912 - val_loss: 0.2557 - val_acc: 0.8921\n",
      "Epoch 39/500\n",
      "25925/25925 [==============================] - 42s 2ms/step - loss: 0.2684 - acc: 0.8922 - val_loss: 0.2577 - val_acc: 0.8903\n",
      "Epoch 40/500\n",
      "25925/25925 [==============================] - 42s 2ms/step - loss: 0.2669 - acc: 0.8915 - val_loss: 0.2693 - val_acc: 0.8823\n",
      "Epoch 41/500\n",
      "25925/25925 [==============================] - 42s 2ms/step - loss: 0.2673 - acc: 0.8918 - val_loss: 0.2609 - val_acc: 0.8882\n",
      "Epoch 42/500\n",
      "25925/25925 [==============================] - 42s 2ms/step - loss: 0.2653 - acc: 0.8946 - val_loss: 0.2636 - val_acc: 0.8921\n",
      "Epoch 43/500\n",
      "25925/25925 [==============================] - 42s 2ms/step - loss: 0.2656 - acc: 0.8928 - val_loss: 0.2587 - val_acc: 0.8900\n",
      "Epoch 44/500\n",
      "25925/25925 [==============================] - 42s 2ms/step - loss: 0.2651 - acc: 0.8924 - val_loss: 0.2824 - val_acc: 0.8820\n",
      "Epoch 45/500\n",
      "25925/25925 [==============================] - 42s 2ms/step - loss: 0.2630 - acc: 0.8926 - val_loss: 0.2534 - val_acc: 0.8924\n",
      "Epoch 46/500\n",
      "25925/25925 [==============================] - 42s 2ms/step - loss: 0.2604 - acc: 0.8955 - val_loss: 0.2517 - val_acc: 0.8959\n",
      "Epoch 47/500\n",
      "25925/25925 [==============================] - 42s 2ms/step - loss: 0.2617 - acc: 0.8928 - val_loss: 0.2483 - val_acc: 0.8986\n",
      "Epoch 48/500\n",
      "25925/25925 [==============================] - 42s 2ms/step - loss: 0.2610 - acc: 0.8937 - val_loss: 0.2486 - val_acc: 0.8969\n",
      "Epoch 49/500\n",
      "25925/25925 [==============================] - 42s 2ms/step - loss: 0.2585 - acc: 0.8963 - val_loss: 0.2530 - val_acc: 0.8945\n",
      "Epoch 50/500\n",
      "25925/25925 [==============================] - 42s 2ms/step - loss: 0.2591 - acc: 0.8942 - val_loss: 0.2474 - val_acc: 0.8945\n",
      "Epoch 51/500\n",
      "25925/25925 [==============================] - 42s 2ms/step - loss: 0.2600 - acc: 0.8942 - val_loss: 0.2722 - val_acc: 0.8816\n",
      "Epoch 52/500\n",
      "25925/25925 [==============================] - 42s 2ms/step - loss: 0.2564 - acc: 0.8967 - val_loss: 0.2595 - val_acc: 0.8900\n",
      "Epoch 53/500\n",
      "25925/25925 [==============================] - 42s 2ms/step - loss: 0.2553 - acc: 0.8970 - val_loss: 0.2654 - val_acc: 0.8900\n",
      "Epoch 54/500\n",
      "25925/25925 [==============================] - 42s 2ms/step - loss: 0.2549 - acc: 0.8976 - val_loss: 0.2556 - val_acc: 0.8938\n",
      "Epoch 55/500\n",
      "25925/25925 [==============================] - 42s 2ms/step - loss: 0.2532 - acc: 0.8984 - val_loss: 0.2519 - val_acc: 0.8952\n",
      "Epoch 56/500\n",
      "25925/25925 [==============================] - 42s 2ms/step - loss: 0.2533 - acc: 0.8969 - val_loss: 0.2467 - val_acc: 0.8983\n",
      "Epoch 57/500\n",
      "25925/25925 [==============================] - 42s 2ms/step - loss: 0.2522 - acc: 0.8975 - val_loss: 0.2705 - val_acc: 0.8875\n",
      "Epoch 58/500\n",
      "25925/25925 [==============================] - 42s 2ms/step - loss: 0.2498 - acc: 0.8991 - val_loss: 0.2429 - val_acc: 0.8976\n",
      "Epoch 59/500\n"
     ]
    },
    {
     "name": "stdout",
     "output_type": "stream",
     "text": [
      "25925/25925 [==============================] - 42s 2ms/step - loss: 0.2491 - acc: 0.8977 - val_loss: 0.2514 - val_acc: 0.8924\n",
      "Epoch 60/500\n",
      "25925/25925 [==============================] - 42s 2ms/step - loss: 0.2485 - acc: 0.8975 - val_loss: 0.2478 - val_acc: 0.8921\n",
      "Epoch 61/500\n",
      "25925/25925 [==============================] - 42s 2ms/step - loss: 0.2472 - acc: 0.8986 - val_loss: 0.2458 - val_acc: 0.8948\n",
      "Epoch 62/500\n",
      "25925/25925 [==============================] - 42s 2ms/step - loss: 0.2499 - acc: 0.8968 - val_loss: 0.2487 - val_acc: 0.8924\n",
      "Epoch 63/500\n",
      "25925/25925 [==============================] - 42s 2ms/step - loss: 0.2474 - acc: 0.9000 - val_loss: 0.2460 - val_acc: 0.8962\n",
      "Epoch 64/500\n",
      "25925/25925 [==============================] - 42s 2ms/step - loss: 0.2470 - acc: 0.8981 - val_loss: 0.2441 - val_acc: 0.9000\n",
      "Epoch 65/500\n",
      "25925/25925 [==============================] - 42s 2ms/step - loss: 0.2448 - acc: 0.9011 - val_loss: 0.2480 - val_acc: 0.8910\n",
      "Epoch 66/500\n",
      "25925/25925 [==============================] - 42s 2ms/step - loss: 0.2484 - acc: 0.8986 - val_loss: 0.2466 - val_acc: 0.8980\n",
      "Epoch 67/500\n",
      "25925/25925 [==============================] - 42s 2ms/step - loss: 0.2458 - acc: 0.8997 - val_loss: 0.2429 - val_acc: 0.9007\n",
      "Epoch 68/500\n",
      "25925/25925 [==============================] - 42s 2ms/step - loss: 0.2447 - acc: 0.8999 - val_loss: 0.2449 - val_acc: 0.8976\n",
      "Epoch 69/500\n",
      "25925/25925 [==============================] - 42s 2ms/step - loss: 0.2435 - acc: 0.9008 - val_loss: 0.2498 - val_acc: 0.8948\n",
      "Epoch 70/500\n",
      "25925/25925 [==============================] - 42s 2ms/step - loss: 0.2438 - acc: 0.9004 - val_loss: 0.2636 - val_acc: 0.8872\n",
      "Epoch 71/500\n",
      "25925/25925 [==============================] - 42s 2ms/step - loss: 0.2431 - acc: 0.9007 - val_loss: 0.2428 - val_acc: 0.9014\n",
      "Epoch 72/500\n",
      "25925/25925 [==============================] - 42s 2ms/step - loss: 0.2405 - acc: 0.9024 - val_loss: 0.2480 - val_acc: 0.9011\n",
      "Epoch 73/500\n",
      "25925/25925 [==============================] - 42s 2ms/step - loss: 0.2414 - acc: 0.9009 - val_loss: 0.2459 - val_acc: 0.8976\n",
      "Epoch 74/500\n",
      "25925/25925 [==============================] - 42s 2ms/step - loss: 0.2402 - acc: 0.9034 - val_loss: 0.2500 - val_acc: 0.8966\n",
      "Epoch 75/500\n",
      "25925/25925 [==============================] - 42s 2ms/step - loss: 0.2404 - acc: 0.9019 - val_loss: 0.2457 - val_acc: 0.9032\n",
      "Epoch 76/500\n",
      "25925/25925 [==============================] - 42s 2ms/step - loss: 0.2391 - acc: 0.9032 - val_loss: 0.2578 - val_acc: 0.8927\n",
      "Epoch 77/500\n",
      "25925/25925 [==============================] - 42s 2ms/step - loss: 0.2377 - acc: 0.9035 - val_loss: 0.2564 - val_acc: 0.8896\n",
      "Epoch 78/500\n",
      "25925/25925 [==============================] - 42s 2ms/step - loss: 0.2393 - acc: 0.9041 - val_loss: 0.2484 - val_acc: 0.8990\n",
      "Epoch 79/500\n",
      "25925/25925 [==============================] - 42s 2ms/step - loss: 0.2367 - acc: 0.9049 - val_loss: 0.2470 - val_acc: 0.8973\n",
      "Epoch 80/500\n",
      "25925/25925 [==============================] - 42s 2ms/step - loss: 0.2373 - acc: 0.9041 - val_loss: 0.2474 - val_acc: 0.9000\n",
      "Epoch 81/500\n",
      "25925/25925 [==============================] - 42s 2ms/step - loss: 0.2365 - acc: 0.9037 - val_loss: 0.2441 - val_acc: 0.9007\n",
      "Epoch 82/500\n",
      "25925/25925 [==============================] - 42s 2ms/step - loss: 0.2347 - acc: 0.9047 - val_loss: 0.2477 - val_acc: 0.8969\n",
      "Epoch 83/500\n",
      "25925/25925 [==============================] - 42s 2ms/step - loss: 0.2354 - acc: 0.9048 - val_loss: 0.2597 - val_acc: 0.8945\n",
      "Epoch 84/500\n",
      "25925/25925 [==============================] - 42s 2ms/step - loss: 0.2364 - acc: 0.9038 - val_loss: 0.2479 - val_acc: 0.8931\n",
      "Epoch 85/500\n",
      "25925/25925 [==============================] - 42s 2ms/step - loss: 0.2343 - acc: 0.9040 - val_loss: 0.2519 - val_acc: 0.8955\n",
      "Epoch 86/500\n",
      "25925/25925 [==============================] - 42s 2ms/step - loss: 0.2321 - acc: 0.9050 - val_loss: 0.2510 - val_acc: 0.8986\n",
      "Epoch 87/500\n",
      "25925/25925 [==============================] - 42s 2ms/step - loss: 0.2308 - acc: 0.9074 - val_loss: 0.2549 - val_acc: 0.8941\n",
      "Epoch 88/500\n",
      "25925/25925 [==============================] - 42s 2ms/step - loss: 0.2308 - acc: 0.9068 - val_loss: 0.2542 - val_acc: 0.8959\n",
      "Epoch 89/500\n",
      "25925/25925 [==============================] - 42s 2ms/step - loss: 0.2310 - acc: 0.9055 - val_loss: 0.2501 - val_acc: 0.9000\n",
      "Epoch 90/500\n",
      "25925/25925 [==============================] - 42s 2ms/step - loss: 0.2284 - acc: 0.9095 - val_loss: 0.2681 - val_acc: 0.8907\n",
      "Epoch 91/500\n",
      "25925/25925 [==============================] - 42s 2ms/step - loss: 0.2286 - acc: 0.9077 - val_loss: 0.2634 - val_acc: 0.8921\n",
      "Epoch 92/500\n",
      "25925/25925 [==============================] - 42s 2ms/step - loss: 0.2290 - acc: 0.9065 - val_loss: 0.2463 - val_acc: 0.8997\n",
      "Epoch 93/500\n",
      "25925/25925 [==============================] - 42s 2ms/step - loss: 0.2275 - acc: 0.9087 - val_loss: 0.2445 - val_acc: 0.9018\n",
      "Epoch 94/500\n",
      "25925/25925 [==============================] - 42s 2ms/step - loss: 0.2305 - acc: 0.9075 - val_loss: 0.2564 - val_acc: 0.8921\n",
      "Epoch 95/500\n",
      "25925/25925 [==============================] - 42s 2ms/step - loss: 0.2291 - acc: 0.9081 - val_loss: 0.2480 - val_acc: 0.9049\n",
      "Epoch 96/500\n",
      "25925/25925 [==============================] - 42s 2ms/step - loss: 0.2279 - acc: 0.9084 - val_loss: 0.2436 - val_acc: 0.9011\n",
      "Epoch 97/500\n",
      "25925/25925 [==============================] - 42s 2ms/step - loss: 0.2250 - acc: 0.9093 - val_loss: 0.2460 - val_acc: 0.9004\n",
      "Epoch 98/500\n",
      "25925/25925 [==============================] - 42s 2ms/step - loss: 0.2239 - acc: 0.9110 - val_loss: 0.2474 - val_acc: 0.9025\n",
      "Epoch 99/500\n",
      "25925/25925 [==============================] - 42s 2ms/step - loss: 0.2242 - acc: 0.9103 - val_loss: 0.2584 - val_acc: 0.8931\n",
      "Epoch 100/500\n",
      "25925/25925 [==============================] - 42s 2ms/step - loss: 0.2237 - acc: 0.9105 - val_loss: 0.2627 - val_acc: 0.8934\n",
      "Epoch 101/500\n",
      "25925/25925 [==============================] - 42s 2ms/step - loss: 0.2259 - acc: 0.9091 - val_loss: 0.2576 - val_acc: 0.8959\n"
     ]
    }
   ],
   "source": [
    "callbacks = [EarlyStopping(monitor='val_loss', patience=30)]\n",
    "\n",
    "history = model.fit(X_train, y_train,\n",
    "                    epochs=500,\n",
    "                    callbacks=callbacks,\n",
    "                    batch_size=128,\n",
    "                    validation_data=(X_valid, y_valid))"
   ]
  },
  {
   "cell_type": "code",
   "execution_count": 134,
   "metadata": {},
   "outputs": [
    {
     "data": {
      "image/png": "[encoded data removed]",
      "text/plain": [
       "<matplotlib.figure.Figure at 0x7f52c7e60f90>"
      ]
     },
     "metadata": {},
     "output_type": "display_data"
    }
   ],
   "source": [
    "plt.figure(dpi=100)\n",
    "t = history.epoch\n",
    "\n",
    "plt.subplot(211)\n",
    "plt.plot(t, history.history['loss'], label='loss', color='C0')\n",
    "plt.plot(t, history.history['val_loss'], label='val_loss', color='C1')\n",
    "plt.xlabel('epochs')\n",
    "plt.ylabel('loss')\n",
    "plt.legend(loc=1)\n",
    "\n",
    "plt.subplot(212)\n",
    "plt.plot(t, history.history['acc'], label='acc', color='C2')\n",
    "plt.plot(t, history.history['val_acc'], label='val_acc', color='C3')\n",
    "plt.ylim([0.5, 1])\n",
    "plt.ylabel('acc')\n",
    "plt.xlabel('epochs')\n",
    "plt.legend(loc=1)\n",
    "\n",
    "plt.tight_layout()\n",
    "plt.savefig('embedding_bilstm.png')"
   ]
  },
  {
   "cell_type": "code",
   "execution_count": 135,
   "metadata": {},
   "outputs": [
    {
     "name": "stdout",
     "output_type": "stream",
     "text": [
      "28806/28806 [==============================] - 69s 2ms/step\n",
      "test_loss: 0.2656 - test_acc: 0.8942\n"
     ]
    }
   ],
   "source": [
    "test_loss, test_acc = model.evaluate(X_test, y_test)\n",
    "print('test_loss: {:1.4f} - test_acc: {:1.4f}'.format(test_loss, test_acc))"
   ]
  },
  {
   "cell_type": "code",
   "execution_count": 136,
   "metadata": {},
   "outputs": [],
   "source": [
    "model.save_weights('embedding_bilstm.h5')"
   ]
  },
  {
   "cell_type": "markdown",
   "metadata": {},
   "source": [
    "# Model \\#8: Embedding + Conv1D + BiLSTM"
   ]
  },
  {
   "cell_type": "code",
   "execution_count": 178,
   "metadata": {},
   "outputs": [
    {
     "name": "stdout",
     "output_type": "stream",
     "text": [
      "_________________________________________________________________\n",
      "Layer (type)                 Output Shape              Param #   \n",
      "=================================================================\n",
      "embedding_43 (Embedding)     (None, 931, 64)           1088      \n",
      "_________________________________________________________________\n",
      "conv1d_24 (Conv1D)           (None, 922, 128)          82048     \n",
      "_________________________________________________________________\n",
      "max_pooling1d_17 (MaxPooling (None, 918, 128)          0         \n",
      "_________________________________________________________________\n",
      "bidirectional_12 (Bidirectio (None, 64)                41472     \n",
      "_________________________________________________________________\n",
      "dense_43 (Dense)             (None, 1)                 65        \n",
      "=================================================================\n",
      "Total params: 124,673\n",
      "Trainable params: 124,673\n",
      "Non-trainable params: 0\n",
      "_________________________________________________________________\n"
     ]
    }
   ],
   "source": [
    "from keras.optimizers import Adam\n",
    "\n",
    "model = Sequential()\n",
    "model.add(Embedding(n_feat, 64, input_length=maxlen))\n",
    "model.add(Conv1D(128, 10, activation='relu'))\n",
    "model.add(MaxPooling1D(5, 1))\n",
    "model.add(Bidirectional(CuDNNLSTM(32)))\n",
    "model.add(Dense(1, activation='sigmoid'))\n",
    "model.compile(optimizer=Adam(lr=1e-5, decay=1e-5),\n",
    "              loss='binary_crossentropy',\n",
    "              metrics=['acc'])\n",
    "model.summary()"
   ]
  },
  {
   "cell_type": "code",
   "execution_count": null,
   "metadata": {},
   "outputs": [
    {
     "name": "stdout",
     "output_type": "stream",
     "text": [
      "Train on 25925 samples, validate on 2881 samples\n",
      "Epoch 1/500\n",
      "25925/25925 [==============================] - 59s 2ms/step - loss: 0.6904 - acc: 0.5388 - val_loss: 0.6869 - val_acc: 0.5783\n",
      "Epoch 2/500\n",
      "25925/25925 [==============================] - 57s 2ms/step - loss: 0.6833 - acc: 0.5978 - val_loss: 0.6795 - val_acc: 0.6272\n",
      "Epoch 3/500\n",
      "25925/25925 [==============================] - 57s 2ms/step - loss: 0.6749 - acc: 0.6265 - val_loss: 0.6696 - val_acc: 0.6335\n",
      "Epoch 4/500\n",
      "25925/25925 [==============================] - 57s 2ms/step - loss: 0.6633 - acc: 0.6351 - val_loss: 0.6550 - val_acc: 0.6397\n",
      "Epoch 5/500\n",
      "25925/25925 [==============================] - 57s 2ms/step - loss: 0.6439 - acc: 0.6545 - val_loss: 0.6279 - val_acc: 0.6654\n",
      "Epoch 6/500\n",
      "25925/25925 [==============================] - 57s 2ms/step - loss: 0.6011 - acc: 0.6937 - val_loss: 0.5695 - val_acc: 0.7241\n",
      "Epoch 7/500\n",
      "25925/25925 [==============================] - 57s 2ms/step - loss: 0.5620 - acc: 0.7336 - val_loss: 0.5524 - val_acc: 0.7393\n",
      "Epoch 8/500\n",
      "25925/25925 [==============================] - 57s 2ms/step - loss: 0.5624 - acc: 0.7308 - val_loss: 0.6576 - val_acc: 0.6158\n",
      "Epoch 9/500\n",
      "25925/25925 [==============================] - 57s 2ms/step - loss: 0.5971 - acc: 0.6798 - val_loss: 0.5462 - val_acc: 0.7522\n",
      "Epoch 10/500\n",
      "25925/25925 [==============================] - 57s 2ms/step - loss: 0.5482 - acc: 0.7460 - val_loss: 0.5675 - val_acc: 0.7119\n",
      "Epoch 11/500\n",
      "25925/25925 [==============================] - 57s 2ms/step - loss: 0.5415 - acc: 0.7563 - val_loss: 0.5387 - val_acc: 0.7650\n",
      "Epoch 12/500\n",
      "25925/25925 [==============================] - 57s 2ms/step - loss: 0.5355 - acc: 0.7606 - val_loss: 0.5332 - val_acc: 0.7602\n",
      "Epoch 13/500\n",
      "25925/25925 [==============================] - 57s 2ms/step - loss: 0.5328 - acc: 0.7598 - val_loss: 0.5332 - val_acc: 0.7556\n",
      "Epoch 14/500\n",
      "25925/25925 [==============================] - 57s 2ms/step - loss: 0.5440 - acc: 0.7377 - val_loss: 0.5320 - val_acc: 0.7657\n",
      "Epoch 15/500\n",
      "25925/25925 [==============================] - 57s 2ms/step - loss: 0.5253 - acc: 0.7723 - val_loss: 0.5271 - val_acc: 0.7758\n",
      "Epoch 16/500\n",
      "25925/25925 [==============================] - 57s 2ms/step - loss: 0.5397 - acc: 0.7499 - val_loss: 0.5247 - val_acc: 0.7796\n",
      "Epoch 17/500\n",
      "25925/25925 [==============================] - 57s 2ms/step - loss: 0.5192 - acc: 0.7770 - val_loss: 0.5223 - val_acc: 0.7737\n",
      "Epoch 18/500\n",
      "25925/25925 [==============================] - 57s 2ms/step - loss: 0.5191 - acc: 0.7687 - val_loss: 0.5158 - val_acc: 0.7782\n",
      "Epoch 19/500\n",
      "25925/25925 [==============================] - 57s 2ms/step - loss: 0.5157 - acc: 0.7723 - val_loss: 0.5143 - val_acc: 0.7633\n",
      "Epoch 20/500\n",
      "25925/25925 [==============================] - 57s 2ms/step - loss: 0.5249 - acc: 0.7588 - val_loss: 0.5270 - val_acc: 0.7511\n",
      "Epoch 21/500\n",
      "25925/25925 [==============================] - 57s 2ms/step - loss: 0.5328 - acc: 0.7463 - val_loss: 0.5119 - val_acc: 0.7768\n",
      "Epoch 22/500\n",
      "25925/25925 [==============================] - 57s 2ms/step - loss: 0.5547 - acc: 0.7406 - val_loss: 0.6192 - val_acc: 0.6768\n",
      "Epoch 23/500\n",
      "25925/25925 [==============================] - 57s 2ms/step - loss: 0.5295 - acc: 0.7516 - val_loss: 0.5178 - val_acc: 0.7636\n",
      "Epoch 24/500\n",
      "25925/25925 [==============================] - 57s 2ms/step - loss: 0.5086 - acc: 0.7696 - val_loss: 0.5121 - val_acc: 0.7678\n",
      "Epoch 25/500\n",
      "25925/25925 [==============================] - 57s 2ms/step - loss: 0.5372 - acc: 0.7258 - val_loss: 0.5257 - val_acc: 0.7352\n",
      "Epoch 26/500\n",
      "25925/25925 [==============================] - 57s 2ms/step - loss: 0.4997 - acc: 0.7606 - val_loss: 0.5077 - val_acc: 0.7650\n",
      "Epoch 27/500\n",
      "25925/25925 [==============================] - 57s 2ms/step - loss: 0.4875 - acc: 0.7774 - val_loss: 0.4789 - val_acc: 0.7865\n",
      "Epoch 28/500\n",
      "25925/25925 [==============================] - 57s 2ms/step - loss: 0.4748 - acc: 0.7872 - val_loss: 0.4741 - val_acc: 0.7914\n",
      "Epoch 29/500\n",
      "25925/25925 [==============================] - 57s 2ms/step - loss: 0.4716 - acc: 0.7900 - val_loss: 0.4697 - val_acc: 0.7938\n",
      "Epoch 30/500\n",
      "25925/25925 [==============================] - 57s 2ms/step - loss: 0.4677 - acc: 0.7952 - val_loss: 0.4681 - val_acc: 0.7983\n",
      "Epoch 31/500\n",
      "25925/25925 [==============================] - 57s 2ms/step - loss: 0.4850 - acc: 0.7813 - val_loss: 0.4859 - val_acc: 0.7886\n",
      "Epoch 32/500\n",
      "25925/25925 [==============================] - 57s 2ms/step - loss: 0.5079 - acc: 0.7630 - val_loss: 0.6675 - val_acc: 0.6119\n",
      "Epoch 33/500\n",
      "25925/25925 [==============================] - 57s 2ms/step - loss: 0.6083 - acc: 0.6704 - val_loss: 0.5423 - val_acc: 0.7275\n",
      "Epoch 34/500\n",
      "25925/25925 [==============================] - 57s 2ms/step - loss: 0.5131 - acc: 0.7598 - val_loss: 0.4892 - val_acc: 0.7841\n",
      "Epoch 35/500\n",
      "25925/25925 [==============================] - 57s 2ms/step - loss: 0.4787 - acc: 0.7934 - val_loss: 0.4732 - val_acc: 0.7928\n",
      "Epoch 36/500\n",
      "25925/25925 [==============================] - 57s 2ms/step - loss: 0.4667 - acc: 0.7956 - val_loss: 0.4638 - val_acc: 0.7966\n",
      "Epoch 37/500\n",
      "25925/25925 [==============================] - 57s 2ms/step - loss: 0.4569 - acc: 0.8002 - val_loss: 0.4606 - val_acc: 0.8008\n",
      "Epoch 38/500\n",
      "25925/25925 [==============================] - 57s 2ms/step - loss: 0.4575 - acc: 0.8001 - val_loss: 0.4742 - val_acc: 0.7917\n",
      "Epoch 39/500\n",
      "25925/25925 [==============================] - 57s 2ms/step - loss: 0.4581 - acc: 0.7983 - val_loss: 0.4607 - val_acc: 0.7990\n",
      "Epoch 40/500\n",
      "25925/25925 [==============================] - 58s 2ms/step - loss: 0.4812 - acc: 0.7821 - val_loss: 0.5874 - val_acc: 0.6900\n",
      "Epoch 41/500\n",
      "25925/25925 [==============================] - 57s 2ms/step - loss: 0.5331 - acc: 0.7426 - val_loss: 0.4892 - val_acc: 0.7810\n",
      "Epoch 42/500\n",
      "25925/25925 [==============================] - 57s 2ms/step - loss: 0.4719 - acc: 0.7975 - val_loss: 0.4592 - val_acc: 0.8039\n",
      "Epoch 43/500\n",
      "25925/25925 [==============================] - 57s 2ms/step - loss: 0.4849 - acc: 0.7819 - val_loss: 0.4717 - val_acc: 0.7785\n",
      "Epoch 44/500\n",
      "25925/25925 [==============================] - 57s 2ms/step - loss: 0.4575 - acc: 0.8017 - val_loss: 0.4529 - val_acc: 0.8112\n",
      "Epoch 45/500\n",
      "25925/25925 [==============================] - 57s 2ms/step - loss: 0.4505 - acc: 0.8101 - val_loss: 0.4513 - val_acc: 0.8119\n",
      "Epoch 46/500\n",
      "25925/25925 [==============================] - 57s 2ms/step - loss: 0.4479 - acc: 0.8102 - val_loss: 0.4453 - val_acc: 0.8115\n",
      "Epoch 47/500\n",
      "25925/25925 [==============================] - 57s 2ms/step - loss: 0.4428 - acc: 0.8103 - val_loss: 0.4463 - val_acc: 0.8084\n",
      "Epoch 48/500\n",
      "25925/25925 [==============================] - 57s 2ms/step - loss: 0.4453 - acc: 0.8063 - val_loss: 0.4496 - val_acc: 0.8063\n",
      "Epoch 49/500\n",
      "25925/25925 [==============================] - 57s 2ms/step - loss: 0.4423 - acc: 0.8120 - val_loss: 0.4428 - val_acc: 0.8087\n",
      "Epoch 50/500\n",
      "25925/25925 [==============================] - 57s 2ms/step - loss: 0.4387 - acc: 0.8145 - val_loss: 0.4384 - val_acc: 0.8129\n",
      "Epoch 51/500\n",
      "25925/25925 [==============================] - 58s 2ms/step - loss: 0.4325 - acc: 0.8145 - val_loss: 0.4381 - val_acc: 0.8122\n",
      "Epoch 52/500\n",
      "25925/25925 [==============================] - 58s 2ms/step - loss: 0.4321 - acc: 0.8155 - val_loss: 0.4345 - val_acc: 0.8122\n",
      "Epoch 53/500\n",
      "25925/25925 [==============================] - 57s 2ms/step - loss: 0.4461 - acc: 0.8027 - val_loss: 0.4646 - val_acc: 0.8039\n",
      "Epoch 54/500\n",
      "25925/25925 [==============================] - 57s 2ms/step - loss: 0.4309 - acc: 0.8174 - val_loss: 0.4482 - val_acc: 0.8081\n",
      "Epoch 55/500\n",
      "25925/25925 [==============================] - 57s 2ms/step - loss: 0.4462 - acc: 0.8024 - val_loss: 0.4409 - val_acc: 0.8070\n",
      "Epoch 56/500\n",
      "25925/25925 [==============================] - 57s 2ms/step - loss: 0.6207 - acc: 0.6631 - val_loss: 0.6100 - val_acc: 0.6675\n",
      "Epoch 57/500\n",
      "25925/25925 [==============================] - 58s 2ms/step - loss: 0.5812 - acc: 0.7054 - val_loss: 0.5495 - val_acc: 0.7449\n",
      "Epoch 58/500\n",
      "25925/25925 [==============================] - 57s 2ms/step - loss: 0.5264 - acc: 0.7671 - val_loss: 0.4985 - val_acc: 0.7883\n",
      "Epoch 59/500\n"
     ]
    },
    {
     "name": "stdout",
     "output_type": "stream",
     "text": [
      "25925/25925 [==============================] - 57s 2ms/step - loss: 0.4834 - acc: 0.7951 - val_loss: 0.4764 - val_acc: 0.7987\n",
      "Epoch 60/500\n",
      "25925/25925 [==============================] - 57s 2ms/step - loss: 0.4539 - acc: 0.8139 - val_loss: 0.4534 - val_acc: 0.8146\n",
      "Epoch 61/500\n",
      "25925/25925 [==============================] - 57s 2ms/step - loss: 0.4436 - acc: 0.8199 - val_loss: 0.4502 - val_acc: 0.8074\n",
      "Epoch 62/500\n",
      "25925/25925 [==============================] - 57s 2ms/step - loss: 0.4286 - acc: 0.8257 - val_loss: 0.4344 - val_acc: 0.8219\n",
      "Epoch 63/500\n",
      "25925/25925 [==============================] - 57s 2ms/step - loss: 0.4277 - acc: 0.8231 - val_loss: 0.4283 - val_acc: 0.8237\n",
      "Epoch 64/500\n",
      "25925/25925 [==============================] - 58s 2ms/step - loss: 0.4218 - acc: 0.8243 - val_loss: 0.4253 - val_acc: 0.8258\n",
      "Epoch 65/500\n",
      "25925/25925 [==============================] - 57s 2ms/step - loss: 0.4407 - acc: 0.8148 - val_loss: 0.4289 - val_acc: 0.8199\n",
      "Epoch 66/500\n",
      "25925/25925 [==============================] - 57s 2ms/step - loss: 0.4180 - acc: 0.8226 - val_loss: 0.4285 - val_acc: 0.8216\n",
      "Epoch 67/500\n",
      "25925/25925 [==============================] - 57s 2ms/step - loss: 0.4219 - acc: 0.8182 - val_loss: 0.4188 - val_acc: 0.8261\n",
      "Epoch 68/500\n",
      "25925/25925 [==============================] - 57s 2ms/step - loss: 0.4215 - acc: 0.8223 - val_loss: 0.4178 - val_acc: 0.8278\n",
      "Epoch 69/500\n",
      "25925/25925 [==============================] - 57s 2ms/step - loss: 0.4171 - acc: 0.8214 - val_loss: 0.4171 - val_acc: 0.8258\n",
      "Epoch 70/500\n",
      "25925/25925 [==============================] - 57s 2ms/step - loss: 0.4384 - acc: 0.8095 - val_loss: 0.4333 - val_acc: 0.8192\n",
      "Epoch 71/500\n",
      "25925/25925 [==============================] - 57s 2ms/step - loss: 0.4170 - acc: 0.8258 - val_loss: 0.4253 - val_acc: 0.8219\n",
      "Epoch 72/500\n",
      "25925/25925 [==============================] - 58s 2ms/step - loss: 0.4156 - acc: 0.8229 - val_loss: 0.4167 - val_acc: 0.8271\n",
      "Epoch 73/500\n",
      "25925/25925 [==============================] - 58s 2ms/step - loss: 0.4154 - acc: 0.8262 - val_loss: 0.4317 - val_acc: 0.8192\n",
      "Epoch 74/500\n",
      "25925/25925 [==============================] - 57s 2ms/step - loss: 0.4161 - acc: 0.8221 - val_loss: 0.4160 - val_acc: 0.8192\n",
      "Epoch 75/500\n",
      "25925/25925 [==============================] - 57s 2ms/step - loss: 0.4076 - acc: 0.8251 - val_loss: 0.4104 - val_acc: 0.8282\n",
      "Epoch 76/500\n",
      "25925/25925 [==============================] - 57s 2ms/step - loss: 0.4083 - acc: 0.8216 - val_loss: 0.4084 - val_acc: 0.8289\n",
      "Epoch 77/500\n",
      "25925/25925 [==============================] - 57s 2ms/step - loss: 0.4051 - acc: 0.8246 - val_loss: 0.4082 - val_acc: 0.8237\n",
      "Epoch 78/500\n",
      "25925/25925 [==============================] - 57s 2ms/step - loss: 0.4041 - acc: 0.8269 - val_loss: 0.4089 - val_acc: 0.8268\n",
      "Epoch 79/500\n",
      "25925/25925 [==============================] - 57s 2ms/step - loss: 0.4036 - acc: 0.8285 - val_loss: 0.4131 - val_acc: 0.8275\n",
      "Epoch 80/500\n",
      "25925/25925 [==============================] - 57s 2ms/step - loss: 0.3995 - acc: 0.8265 - val_loss: 0.4014 - val_acc: 0.8289\n",
      "Epoch 81/500\n",
      "25925/25925 [==============================] - 58s 2ms/step - loss: 0.3985 - acc: 0.8288 - val_loss: 0.3970 - val_acc: 0.8341\n",
      "Epoch 82/500\n",
      "23296/25925 [=========================>....] - ETA: 5s - loss: 0.3959 - acc: 0.8347"
     ]
    }
   ],
   "source": [
    "callbacks = [EarlyStopping(monitor='val_loss', patience=15)] \n",
    "\n",
    "history = model.fit(X_train, y_train,\n",
    "                    epochs=500,\n",
    "                    callbacks=callbacks,\n",
    "                    batch_size=128,\n",
    "                    validation_data=(X_valid, y_valid))"
   ]
  },
  {
   "cell_type": "code",
   "execution_count": null,
   "metadata": {},
   "outputs": [],
   "source": [
    "plt.figure(dpi=100)\n",
    "t = history.epoch\n",
    "\n",
    "plt.subplot(211)\n",
    "plt.plot(t, history.history['loss'], label='loss', color='C0')\n",
    "plt.plot(t, history.history['val_loss'], label='val_loss', color='C1')\n",
    "plt.xlabel('epochs')\n",
    "plt.ylabel('loss')\n",
    "plt.legend(loc=1)\n",
    "\n",
    "plt.subplot(212)\n",
    "plt.plot(t, history.history['acc'], label='acc', color='C2')\n",
    "plt.plot(t, history.history['val_acc'], label='val_acc', color='C3')\n",
    "plt.ylim([0.5, 1])\n",
    "plt.ylabel('acc')\n",
    "plt.xlabel('epochs')\n",
    "plt.legend(loc=1)\n",
    "\n",
    "plt.tight_layout()\n",
    "plt.savefig('embedding_conv_bilstm.png')"
   ]
  },
  {
   "cell_type": "markdown",
   "metadata": {},
   "source": [
    "# Model \\#9: Embedding + Conv1D + Dense"
   ]
  },
  {
   "cell_type": "code",
   "execution_count": 169,
   "metadata": {},
   "outputs": [
    {
     "name": "stdout",
     "output_type": "stream",
     "text": [
      "_________________________________________________________________\n",
      "Layer (type)                 Output Shape              Param #   \n",
      "=================================================================\n",
      "embedding_40 (Embedding)     (None, 931, 64)           1088      \n",
      "_________________________________________________________________\n",
      "conv1d_21 (Conv1D)           (None, 927, 64)           20544     \n",
      "_________________________________________________________________\n",
      "max_pooling1d_14 (MaxPooling (None, 923, 64)           0         \n",
      "_________________________________________________________________\n",
      "dropout_7 (Dropout)          (None, 923, 64)           0         \n",
      "_________________________________________________________________\n",
      "flatten_15 (Flatten)         (None, 59072)             0         \n",
      "_________________________________________________________________\n",
      "dense_40 (Dense)             (None, 1)                 59073     \n",
      "=================================================================\n",
      "Total params: 80,705\n",
      "Trainable params: 80,705\n",
      "Non-trainable params: 0\n",
      "_________________________________________________________________\n"
     ]
    }
   ],
   "source": [
    "from keras.layers import Dropout\n",
    "\n",
    "model = Sequential()\n",
    "model.add(Embedding(n_feat, 64, input_length=maxlen))\n",
    "model.add(Conv1D(64, 5, activation='relu'))\n",
    "model.add(MaxPooling1D(5, 1))\n",
    "model.add(Dropout(0.5))\n",
    "model.add(Flatten())\n",
    "model.add(Dense(1, activation='sigmoid'))\n",
    "model.compile(optimizer='rmsprop',\n",
    "              loss='binary_crossentropy',\n",
    "              metrics=['acc'])\n",
    "model.summary()"
   ]
  },
  {
   "cell_type": "code",
   "execution_count": 171,
   "metadata": {},
   "outputs": [
    {
     "name": "stdout",
     "output_type": "stream",
     "text": [
      "Train on 25925 samples, validate on 2881 samples\n",
      "Epoch 1/100\n",
      "25925/25925 [==============================] - 9s 356us/step - loss: 0.1814 - acc: 0.9273 - val_loss: 0.4176 - val_acc: 0.8660\n",
      "Epoch 2/100\n",
      "25925/25925 [==============================] - 9s 354us/step - loss: 0.1806 - acc: 0.9284 - val_loss: 0.3588 - val_acc: 0.8653\n",
      "Epoch 3/100\n",
      "25925/25925 [==============================] - 9s 354us/step - loss: 0.1755 - acc: 0.9311 - val_loss: 0.4312 - val_acc: 0.8410\n",
      "Epoch 4/100\n",
      "25925/25925 [==============================] - 9s 355us/step - loss: 0.1800 - acc: 0.9310 - val_loss: 0.3747 - val_acc: 0.8702\n",
      "Epoch 5/100\n",
      "25925/25925 [==============================] - 9s 354us/step - loss: 0.1699 - acc: 0.9326 - val_loss: 0.3816 - val_acc: 0.8695\n",
      "Epoch 6/100\n",
      "25925/25925 [==============================] - 9s 354us/step - loss: 0.1656 - acc: 0.9350 - val_loss: 0.3786 - val_acc: 0.8632\n",
      "Epoch 7/100\n",
      "25925/25925 [==============================] - 9s 355us/step - loss: 0.1614 - acc: 0.9372 - val_loss: 0.4251 - val_acc: 0.8726\n",
      "Epoch 8/100\n",
      "25925/25925 [==============================] - 9s 355us/step - loss: 0.1590 - acc: 0.9366 - val_loss: 0.3853 - val_acc: 0.8702\n",
      "Epoch 9/100\n",
      "25925/25925 [==============================] - 9s 355us/step - loss: 0.1554 - acc: 0.9377 - val_loss: 0.4022 - val_acc: 0.8737\n",
      "Epoch 10/100\n",
      "25925/25925 [==============================] - 9s 354us/step - loss: 0.1516 - acc: 0.9406 - val_loss: 0.3939 - val_acc: 0.8622\n",
      "Epoch 11/100\n",
      "25925/25925 [==============================] - 9s 354us/step - loss: 0.1490 - acc: 0.9419 - val_loss: 0.4087 - val_acc: 0.8653\n",
      "Epoch 12/100\n",
      "25925/25925 [==============================] - 9s 355us/step - loss: 0.1482 - acc: 0.9397 - val_loss: 0.4031 - val_acc: 0.8733\n",
      "Epoch 13/100\n",
      "25925/25925 [==============================] - 9s 355us/step - loss: 0.1462 - acc: 0.9419 - val_loss: 0.4150 - val_acc: 0.8622\n",
      "Epoch 14/100\n",
      "25925/25925 [==============================] - 9s 355us/step - loss: 0.1403 - acc: 0.9438 - val_loss: 0.4214 - val_acc: 0.8612\n",
      "Epoch 15/100\n",
      "25925/25925 [==============================] - 9s 354us/step - loss: 0.1399 - acc: 0.9448 - val_loss: 0.4990 - val_acc: 0.8306\n",
      "Epoch 16/100\n",
      "25925/25925 [==============================] - 9s 355us/step - loss: 0.1414 - acc: 0.9449 - val_loss: 0.4206 - val_acc: 0.8705\n",
      "Epoch 17/100\n",
      "25925/25925 [==============================] - 9s 355us/step - loss: 0.1380 - acc: 0.9460 - val_loss: 0.4335 - val_acc: 0.8684\n"
     ]
    }
   ],
   "source": [
    "callbacks = [EarlyStopping(monitor='val_loss', patience=15)] ## TODO\n",
    "\n",
    "history = model.fit(X_train, y_train,\n",
    "                    epochs=100,\n",
    "                    callbacks=callbacks,\n",
    "                    batch_size=128,\n",
    "                    validation_data=(X_valid, y_valid))"
   ]
  },
  {
   "cell_type": "code",
   "execution_count": 172,
   "metadata": {},
   "outputs": [
    {
     "data": {
      "image/png": "[encoded data removed]",
      "text/plain": [
       "<matplotlib.figure.Figure at 0x7f5287459150>"
      ]
     },
     "metadata": {},
     "output_type": "display_data"
    }
   ],
   "source": [
    "plt.figure(dpi=100)\n",
    "t = history.epoch\n",
    "\n",
    "plt.subplot(211)\n",
    "plt.plot(t, history.history['loss'], label='loss', color='C0')\n",
    "plt.plot(t, history.history['val_loss'], label='val_loss', color='C1')\n",
    "plt.xlabel('epochs')\n",
    "plt.ylabel('loss')\n",
    "plt.legend(loc=1)\n",
    "\n",
    "plt.subplot(212)\n",
    "plt.plot(t, history.history['acc'], label='acc', color='C2')\n",
    "plt.plot(t, history.history['val_acc'], label='val_acc', color='C3')\n",
    "plt.ylim([0.5, 1])\n",
    "plt.ylabel('acc')\n",
    "plt.xlabel('epochs')\n",
    "plt.legend(loc=1)\n",
    "\n",
    "plt.tight_layout()\n",
    "plt.savefig('embedding_conv_dropout_dense.png')"
   ]
  },
  {
   "cell_type": "code",
   "execution_count": 173,
   "metadata": {},
   "outputs": [],
   "source": [
    "model.save_weights('embedding_conv_dropout_dense.png')"
   ]
  },
  {
   "cell_type": "markdown",
   "metadata": {},
   "source": [
    "# Try masking..."
   ]
  },
  {
   "cell_type": "code",
   "execution_count": null,
   "metadata": {},
   "outputs": [],
   "source": []
  }
 ],
 "metadata": {
  "kernelspec": {
   "display_name": "Python 2",
   "language": "python",
   "name": "python2"
  },
  "language_info": {
   "codemirror_mode": {
    "name": "ipython",
    "version": 2
   },
   "file_extension": ".py",
   "mimetype": "text/x-python",
   "name": "python",
   "nbconvert_exporter": "python",
   "pygments_lexer": "ipython2",
   "version": "2.7.14"
  }
 },
 "nbformat": 4,
 "nbformat_minor": 2
}
