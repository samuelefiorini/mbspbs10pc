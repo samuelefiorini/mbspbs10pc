{
 "cells": [
  {
   "cell_type": "code",
   "execution_count": 71,
   "metadata": {},
   "outputs": [],
   "source": [
    "from __future__ import print_function\n",
    "\n",
    "import pandas as pd\n",
    "import numpy as np\n",
    "import joblib as jl\n",
    "\n",
    "from sklearn.pipeline import Pipeline\n",
    "from sklearn.feature_extraction.text import CountVectorizer\n",
    "from sklearn.linear_model import LogisticRegression\n",
    "from sklearn.linear_model import LogisticRegressionCV\n",
    "from sklearn.ensemble import RandomForestClassifier\n",
    "from sklearn.model_selection import cross_validate\n",
    "from sklearn.model_selection import StratifiedShuffleSplit\n",
    "from sklearn.model_selection import learning_curve\n",
    "from sklearn.model_selection import train_test_split\n",
    "from sklearn.preprocessing import StandardScaler, Normalizer, MinMaxScaler\n",
    "from sklearn.preprocessing import FunctionTransformer\n",
    "from sklearn.feature_extraction.text import TfidfTransformer\n",
    "from sklearn.decomposition import PCA\n",
    "from sklearn.manifold import Isomap, TSNE\n",
    "from sklearn import metrics\n",
    "from sklearn.feature_selection import chi2\n",
    "from tqdm import tqdm\n",
    "\n",
    "from mpl_toolkits.mplot3d import Axes3D\n",
    "import matplotlib.pyplot as plt\n",
    "%matplotlib inline\n",
    "\n",
    "root = 'naive_clf_assessment'"
   ]
  },
  {
   "cell_type": "markdown",
   "metadata": {},
   "source": [
    "# Load data"
   ]
  },
  {
   "cell_type": "code",
   "execution_count": 72,
   "metadata": {},
   "outputs": [
    {
     "name": "stdout",
     "output_type": "stream",
     "text": [
      "(11744, 1)\n",
      "         CLASS\n",
      "PIN           \n",
      "568483       1\n",
      "923748       0\n",
      "2035328      0\n",
      "2239386      1\n",
      "2244533      1\n"
     ]
    }
   ],
   "source": [
    "labels = pd.read_csv('../../tmp/1_METONLY_vs_METX/matched_CEM_table.csv', header=0).rename({'Unnamed: 0': 'PIN'}, axis=1)[['PIN', 'CLASS']].set_index('PIN')\n",
    "print(labels.shape)\n",
    "print(labels.head())"
   ]
  },
  {
   "cell_type": "code",
   "execution_count": 73,
   "metadata": {},
   "outputs": [
    {
     "data": {
      "text/plain": [
       "PIN\n",
       "568483     10990 0 23 1 725 0 10990 0 10990 0 10990 0 109...\n",
       "923748     66653 0 65070 0 66515 0 10962 0 105 0 56807 2 ...\n",
       "2035328    66536 0 74995 0 66512 0 66551 0 66608 0 66716 ...\n",
       "2239386    10991 0 23 3 73928 0 66560 0 66515 0 66551 0 6...\n",
       "2244533    10990 0 23 2 23 0 10990 0 73928 0 66500 0 6656...\n",
       "Name: seq, dtype: object"
      ]
     },
     "execution_count": 73,
     "metadata": {},
     "output_type": "execute_result"
    }
   ],
   "source": [
    "data = pd.read_csv('../../tmp/raw_sequences.csv', header=0, index_col=0).loc[labels.index, 'seq']\n",
    "data.head()"
   ]
  },
  {
   "cell_type": "code",
   "execution_count": 104,
   "metadata": {},
   "outputs": [
    {
     "data": {
      "text/html": [
       "<div>\n",
       "<style scoped>\n",
       "    .dataframe tbody tr th:only-of-type {\n",
       "        vertical-align: middle;\n",
       "    }\n",
       "\n",
       "    .dataframe tbody tr th {\n",
       "        vertical-align: top;\n",
       "    }\n",
       "\n",
       "    .dataframe thead th {\n",
       "        text-align: right;\n",
       "    }\n",
       "</style>\n",
       "<table border=\"1\" class=\"dataframe\">\n",
       "  <thead>\n",
       "    <tr style=\"text-align: right;\">\n",
       "      <th></th>\n",
       "      <th>0</th>\n",
       "      <th>1</th>\n",
       "      <th>2</th>\n",
       "      <th>3</th>\n",
       "      <th>4</th>\n",
       "      <th>5</th>\n",
       "      <th>6</th>\n",
       "      <th>7</th>\n",
       "      <th>8</th>\n",
       "      <th>9</th>\n",
       "      <th>...</th>\n",
       "      <th>290</th>\n",
       "      <th>291</th>\n",
       "      <th>292</th>\n",
       "      <th>293</th>\n",
       "      <th>294</th>\n",
       "      <th>295</th>\n",
       "      <th>296</th>\n",
       "      <th>297</th>\n",
       "      <th>298</th>\n",
       "      <th>299</th>\n",
       "    </tr>\n",
       "  </thead>\n",
       "  <tbody>\n",
       "    <tr>\n",
       "      <th>1</th>\n",
       "      <td>-0.130043</td>\n",
       "      <td>0.034692</td>\n",
       "      <td>-0.006021</td>\n",
       "      <td>0.013212</td>\n",
       "      <td>0.001996</td>\n",
       "      <td>-0.042246</td>\n",
       "      <td>0.073535</td>\n",
       "      <td>-0.019646</td>\n",
       "      <td>-0.129925</td>\n",
       "      <td>-1.056039</td>\n",
       "      <td>...</td>\n",
       "      <td>-0.016195</td>\n",
       "      <td>-0.055285</td>\n",
       "      <td>-0.310134</td>\n",
       "      <td>-0.059643</td>\n",
       "      <td>0.070829</td>\n",
       "      <td>-0.004310</td>\n",
       "      <td>-0.071791</td>\n",
       "      <td>-0.104513</td>\n",
       "      <td>-0.013559</td>\n",
       "      <td>-0.025116</td>\n",
       "    </tr>\n",
       "    <tr>\n",
       "      <th>2</th>\n",
       "      <td>-0.130043</td>\n",
       "      <td>0.034692</td>\n",
       "      <td>-0.006021</td>\n",
       "      <td>0.013212</td>\n",
       "      <td>0.001996</td>\n",
       "      <td>-0.042246</td>\n",
       "      <td>0.073535</td>\n",
       "      <td>-0.019646</td>\n",
       "      <td>-0.129925</td>\n",
       "      <td>-1.056039</td>\n",
       "      <td>...</td>\n",
       "      <td>-0.016195</td>\n",
       "      <td>-0.055285</td>\n",
       "      <td>-0.310134</td>\n",
       "      <td>-0.059643</td>\n",
       "      <td>0.070829</td>\n",
       "      <td>-0.004310</td>\n",
       "      <td>-0.071791</td>\n",
       "      <td>-0.104513</td>\n",
       "      <td>-0.013559</td>\n",
       "      <td>-0.025116</td>\n",
       "    </tr>\n",
       "    <tr>\n",
       "      <th>3</th>\n",
       "      <td>-0.150065</td>\n",
       "      <td>0.102551</td>\n",
       "      <td>0.123458</td>\n",
       "      <td>0.003909</td>\n",
       "      <td>0.131512</td>\n",
       "      <td>0.014959</td>\n",
       "      <td>0.036136</td>\n",
       "      <td>0.016463</td>\n",
       "      <td>-0.146423</td>\n",
       "      <td>-1.268796</td>\n",
       "      <td>...</td>\n",
       "      <td>-0.036379</td>\n",
       "      <td>0.042793</td>\n",
       "      <td>-0.262882</td>\n",
       "      <td>-0.002599</td>\n",
       "      <td>0.145298</td>\n",
       "      <td>0.133144</td>\n",
       "      <td>-0.082144</td>\n",
       "      <td>-0.075551</td>\n",
       "      <td>0.101357</td>\n",
       "      <td>-0.149344</td>\n",
       "    </tr>\n",
       "    <tr>\n",
       "      <th>4</th>\n",
       "      <td>-0.201752</td>\n",
       "      <td>0.106557</td>\n",
       "      <td>0.092209</td>\n",
       "      <td>0.020688</td>\n",
       "      <td>0.051910</td>\n",
       "      <td>0.243464</td>\n",
       "      <td>0.157432</td>\n",
       "      <td>0.057078</td>\n",
       "      <td>-0.070607</td>\n",
       "      <td>-0.967402</td>\n",
       "      <td>...</td>\n",
       "      <td>-0.022403</td>\n",
       "      <td>-0.194310</td>\n",
       "      <td>-0.293100</td>\n",
       "      <td>-0.252164</td>\n",
       "      <td>0.110165</td>\n",
       "      <td>-0.050970</td>\n",
       "      <td>0.016583</td>\n",
       "      <td>-0.076823</td>\n",
       "      <td>-0.015480</td>\n",
       "      <td>-0.028163</td>\n",
       "    </tr>\n",
       "    <tr>\n",
       "      <th>57350</th>\n",
       "      <td>-0.215618</td>\n",
       "      <td>0.194823</td>\n",
       "      <td>0.074919</td>\n",
       "      <td>-0.067423</td>\n",
       "      <td>-0.035924</td>\n",
       "      <td>0.056523</td>\n",
       "      <td>0.002071</td>\n",
       "      <td>-0.027120</td>\n",
       "      <td>-0.071410</td>\n",
       "      <td>-1.115347</td>\n",
       "      <td>...</td>\n",
       "      <td>0.003674</td>\n",
       "      <td>-0.028858</td>\n",
       "      <td>-0.159660</td>\n",
       "      <td>-0.006941</td>\n",
       "      <td>0.054607</td>\n",
       "      <td>-0.002512</td>\n",
       "      <td>0.022903</td>\n",
       "      <td>-0.087150</td>\n",
       "      <td>-0.056744</td>\n",
       "      <td>-0.265652</td>\n",
       "    </tr>\n",
       "  </tbody>\n",
       "</table>\n",
       "<p>5 rows × 300 columns</p>\n",
       "</div>"
      ],
      "text/plain": [
       "              0         1         2         3         4         5         6  \\\n",
       "1     -0.130043  0.034692 -0.006021  0.013212  0.001996 -0.042246  0.073535   \n",
       "2     -0.130043  0.034692 -0.006021  0.013212  0.001996 -0.042246  0.073535   \n",
       "3     -0.150065  0.102551  0.123458  0.003909  0.131512  0.014959  0.036136   \n",
       "4     -0.201752  0.106557  0.092209  0.020688  0.051910  0.243464  0.157432   \n",
       "57350 -0.215618  0.194823  0.074919 -0.067423 -0.035924  0.056523  0.002071   \n",
       "\n",
       "              7         8         9    ...          290       291       292  \\\n",
       "1     -0.019646 -0.129925 -1.056039    ...    -0.016195 -0.055285 -0.310134   \n",
       "2     -0.019646 -0.129925 -1.056039    ...    -0.016195 -0.055285 -0.310134   \n",
       "3      0.016463 -0.146423 -1.268796    ...    -0.036379  0.042793 -0.262882   \n",
       "4      0.057078 -0.070607 -0.967402    ...    -0.022403 -0.194310 -0.293100   \n",
       "57350 -0.027120 -0.071410 -1.115347    ...     0.003674 -0.028858 -0.159660   \n",
       "\n",
       "            293       294       295       296       297       298       299  \n",
       "1     -0.059643  0.070829 -0.004310 -0.071791 -0.104513 -0.013559 -0.025116  \n",
       "2     -0.059643  0.070829 -0.004310 -0.071791 -0.104513 -0.013559 -0.025116  \n",
       "3     -0.002599  0.145298  0.133144 -0.082144 -0.075551  0.101357 -0.149344  \n",
       "4     -0.252164  0.110165 -0.050970  0.016583 -0.076823 -0.015480 -0.028163  \n",
       "57350 -0.006941  0.054607 -0.002512  0.022903 -0.087150 -0.056744 -0.265652  \n",
       "\n",
       "[5 rows x 300 columns]"
      ]
     },
     "execution_count": 104,
     "metadata": {},
     "output_type": "execute_result"
    }
   ],
   "source": [
    "D = 300\n",
    "embedding = pd.read_csv('../../tmp/embedding.{}d.csv'.format(D), header=0, index_col=0)\n",
    "embedding.head()"
   ]
  },
  {
   "cell_type": "markdown",
   "metadata": {},
   "source": [
    "# Prepare embedding dataset"
   ]
  },
  {
   "cell_type": "code",
   "execution_count": 107,
   "metadata": {},
   "outputs": [],
   "source": [
    "# dfx_dump = {}\n",
    "# dfx_dump[50] = dfX\n",
    "# dfx_dump[100] = dfX\n",
    "# dfx_dump[200] = dfX\n",
    "# dfx_dump[300] = dfX"
   ]
  },
  {
   "cell_type": "code",
   "execution_count": 108,
   "metadata": {},
   "outputs": [],
   "source": [
    "# jl.dump(dfx_dump, open('../../tmp/p.pkl', 'wb'))"
   ]
  },
  {
   "cell_type": "code",
   "execution_count": 105,
   "metadata": {},
   "outputs": [
    {
     "name": "stderr",
     "output_type": "stream",
     "text": [
      "100%|██████████| 11744/11744 [06:25<00:00, 30.43it/s]\n"
     ]
    }
   ],
   "source": [
    "X = []\n",
    "for idx in tqdm(data.index):\n",
    "    seq = map(int, data.loc[idx].split(' ')[::2])\n",
    "    x_i = np.array([embedding.loc[i] for i in seq])\n",
    "    X.append(np.sum(x_i, axis=0))\n",
    "dfX = pd.DataFrame(data=np.array(X), index=data.index)"
   ]
  },
  {
   "cell_type": "code",
   "execution_count": 106,
   "metadata": {},
   "outputs": [
    {
     "data": {
      "text/html": [
       "<div>\n",
       "<style scoped>\n",
       "    .dataframe tbody tr th:only-of-type {\n",
       "        vertical-align: middle;\n",
       "    }\n",
       "\n",
       "    .dataframe tbody tr th {\n",
       "        vertical-align: top;\n",
       "    }\n",
       "\n",
       "    .dataframe thead th {\n",
       "        text-align: right;\n",
       "    }\n",
       "</style>\n",
       "<table border=\"1\" class=\"dataframe\">\n",
       "  <thead>\n",
       "    <tr style=\"text-align: right;\">\n",
       "      <th></th>\n",
       "      <th>0</th>\n",
       "      <th>1</th>\n",
       "      <th>2</th>\n",
       "      <th>3</th>\n",
       "      <th>4</th>\n",
       "      <th>5</th>\n",
       "      <th>6</th>\n",
       "      <th>7</th>\n",
       "      <th>8</th>\n",
       "      <th>9</th>\n",
       "      <th>...</th>\n",
       "      <th>290</th>\n",
       "      <th>291</th>\n",
       "      <th>292</th>\n",
       "      <th>293</th>\n",
       "      <th>294</th>\n",
       "      <th>295</th>\n",
       "      <th>296</th>\n",
       "      <th>297</th>\n",
       "      <th>298</th>\n",
       "      <th>299</th>\n",
       "    </tr>\n",
       "    <tr>\n",
       "      <th>PIN</th>\n",
       "      <th></th>\n",
       "      <th></th>\n",
       "      <th></th>\n",
       "      <th></th>\n",
       "      <th></th>\n",
       "      <th></th>\n",
       "      <th></th>\n",
       "      <th></th>\n",
       "      <th></th>\n",
       "      <th></th>\n",
       "      <th></th>\n",
       "      <th></th>\n",
       "      <th></th>\n",
       "      <th></th>\n",
       "      <th></th>\n",
       "      <th></th>\n",
       "      <th></th>\n",
       "      <th></th>\n",
       "      <th></th>\n",
       "      <th></th>\n",
       "      <th></th>\n",
       "    </tr>\n",
       "  </thead>\n",
       "  <tbody>\n",
       "    <tr>\n",
       "      <th>568483</th>\n",
       "      <td>-10.011440</td>\n",
       "      <td>18.750437</td>\n",
       "      <td>-5.405550</td>\n",
       "      <td>-21.975051</td>\n",
       "      <td>14.458817</td>\n",
       "      <td>-1.059816</td>\n",
       "      <td>0.442639</td>\n",
       "      <td>-5.696844</td>\n",
       "      <td>-2.568834</td>\n",
       "      <td>-148.646898</td>\n",
       "      <td>...</td>\n",
       "      <td>-19.947786</td>\n",
       "      <td>-11.338891</td>\n",
       "      <td>-16.105075</td>\n",
       "      <td>-6.234533</td>\n",
       "      <td>0.419577</td>\n",
       "      <td>18.398759</td>\n",
       "      <td>9.052148</td>\n",
       "      <td>-14.396454</td>\n",
       "      <td>8.509744</td>\n",
       "      <td>-20.241641</td>\n",
       "    </tr>\n",
       "    <tr>\n",
       "      <th>923748</th>\n",
       "      <td>-71.347171</td>\n",
       "      <td>24.115230</td>\n",
       "      <td>21.429641</td>\n",
       "      <td>-7.160646</td>\n",
       "      <td>33.534944</td>\n",
       "      <td>0.307389</td>\n",
       "      <td>17.269091</td>\n",
       "      <td>-4.831674</td>\n",
       "      <td>-34.249560</td>\n",
       "      <td>-395.254200</td>\n",
       "      <td>...</td>\n",
       "      <td>-12.590618</td>\n",
       "      <td>-29.992889</td>\n",
       "      <td>-57.644199</td>\n",
       "      <td>-33.893598</td>\n",
       "      <td>14.044567</td>\n",
       "      <td>12.966772</td>\n",
       "      <td>5.854945</td>\n",
       "      <td>-48.867030</td>\n",
       "      <td>15.003209</td>\n",
       "      <td>-36.974439</td>\n",
       "    </tr>\n",
       "  </tbody>\n",
       "</table>\n",
       "<p>2 rows × 300 columns</p>\n",
       "</div>"
      ],
      "text/plain": [
       "              0          1          2          3          4         5    \\\n",
       "PIN                                                                       \n",
       "568483 -10.011440  18.750437  -5.405550 -21.975051  14.458817 -1.059816   \n",
       "923748 -71.347171  24.115230  21.429641  -7.160646  33.534944  0.307389   \n",
       "\n",
       "              6         7          8           9      ...            290  \\\n",
       "PIN                                                   ...                  \n",
       "568483   0.442639 -5.696844  -2.568834 -148.646898    ...     -19.947786   \n",
       "923748  17.269091 -4.831674 -34.249560 -395.254200    ...     -12.590618   \n",
       "\n",
       "              291        292        293        294        295       296  \\\n",
       "PIN                                                                       \n",
       "568483 -11.338891 -16.105075  -6.234533   0.419577  18.398759  9.052148   \n",
       "923748 -29.992889 -57.644199 -33.893598  14.044567  12.966772  5.854945   \n",
       "\n",
       "              297        298        299  \n",
       "PIN                                      \n",
       "568483 -14.396454   8.509744 -20.241641  \n",
       "923748 -48.867030  15.003209 -36.974439  \n",
       "\n",
       "[2 rows x 300 columns]"
      ]
     },
     "execution_count": 106,
     "metadata": {},
     "output_type": "execute_result"
    }
   ],
   "source": [
    "dfX.head(2)"
   ]
  },
  {
   "cell_type": "markdown",
   "metadata": {},
   "source": [
    "# Evaluate simple pipeline"
   ]
  },
  {
   "cell_type": "code",
   "execution_count": 121,
   "metadata": {},
   "outputs": [],
   "source": [
    "pipe = Pipeline([\n",
    "    ('clf', LogisticRegression())\n",
    "    ])"
   ]
  },
  {
   "cell_type": "code",
   "execution_count": 110,
   "metadata": {},
   "outputs": [],
   "source": [
    "sss = StratifiedShuffleSplit(n_splits=5, test_size=0.5)\n",
    "\n",
    "cv_results_ = cross_validate(pipe, dfX, labels.values.ravel(), n_jobs=-1,\n",
    "                             cv=sss, scoring=('accuracy', 'precision',\n",
    "                                              'recall', 'f1', 'roc_auc'),\n",
    "                             return_train_score=True\n",
    "                            )"
   ]
  },
  {
   "cell_type": "code",
   "execution_count": 111,
   "metadata": {},
   "outputs": [
    {
     "data": {
      "text/html": [
       "<div>\n",
       "<style scoped>\n",
       "    .dataframe tbody tr th:only-of-type {\n",
       "        vertical-align: middle;\n",
       "    }\n",
       "\n",
       "    .dataframe tbody tr th {\n",
       "        vertical-align: top;\n",
       "    }\n",
       "\n",
       "    .dataframe thead th {\n",
       "        text-align: right;\n",
       "    }\n",
       "</style>\n",
       "<table border=\"1\" class=\"dataframe\">\n",
       "  <thead>\n",
       "    <tr style=\"text-align: right;\">\n",
       "      <th></th>\n",
       "      <th>MEAN</th>\n",
       "      <th>STD</th>\n",
       "    </tr>\n",
       "  </thead>\n",
       "  <tbody>\n",
       "    <tr>\n",
       "      <th>fit_time</th>\n",
       "      <td>15.337961</td>\n",
       "      <td>2.815030</td>\n",
       "    </tr>\n",
       "    <tr>\n",
       "      <th>score_time</th>\n",
       "      <td>0.046393</td>\n",
       "      <td>0.009418</td>\n",
       "    </tr>\n",
       "    <tr>\n",
       "      <th>test_accuracy</th>\n",
       "      <td>0.692813</td>\n",
       "      <td>0.003350</td>\n",
       "    </tr>\n",
       "    <tr>\n",
       "      <th>test_f1</th>\n",
       "      <td>0.680525</td>\n",
       "      <td>0.002513</td>\n",
       "    </tr>\n",
       "    <tr>\n",
       "      <th>test_precision</th>\n",
       "      <td>0.708998</td>\n",
       "      <td>0.007019</td>\n",
       "    </tr>\n",
       "    <tr>\n",
       "      <th>test_recall</th>\n",
       "      <td>0.654360</td>\n",
       "      <td>0.006630</td>\n",
       "    </tr>\n",
       "    <tr>\n",
       "      <th>test_roc_auc</th>\n",
       "      <td>0.737446</td>\n",
       "      <td>0.003724</td>\n",
       "    </tr>\n",
       "    <tr>\n",
       "      <th>train_accuracy</th>\n",
       "      <td>0.731403</td>\n",
       "      <td>0.005364</td>\n",
       "    </tr>\n",
       "    <tr>\n",
       "      <th>train_f1</th>\n",
       "      <td>0.721715</td>\n",
       "      <td>0.004378</td>\n",
       "    </tr>\n",
       "    <tr>\n",
       "      <th>train_precision</th>\n",
       "      <td>0.748831</td>\n",
       "      <td>0.008089</td>\n",
       "    </tr>\n",
       "    <tr>\n",
       "      <th>train_recall</th>\n",
       "      <td>0.696526</td>\n",
       "      <td>0.002021</td>\n",
       "    </tr>\n",
       "    <tr>\n",
       "      <th>train_roc_auc</th>\n",
       "      <td>0.793775</td>\n",
       "      <td>0.002275</td>\n",
       "    </tr>\n",
       "  </tbody>\n",
       "</table>\n",
       "</div>"
      ],
      "text/plain": [
       "                      MEAN       STD\n",
       "fit_time         15.337961  2.815030\n",
       "score_time        0.046393  0.009418\n",
       "test_accuracy     0.692813  0.003350\n",
       "test_f1           0.680525  0.002513\n",
       "test_precision    0.708998  0.007019\n",
       "test_recall       0.654360  0.006630\n",
       "test_roc_auc      0.737446  0.003724\n",
       "train_accuracy    0.731403  0.005364\n",
       "train_f1          0.721715  0.004378\n",
       "train_precision   0.748831  0.008089\n",
       "train_recall      0.696526  0.002021\n",
       "train_roc_auc     0.793775  0.002275"
      ]
     },
     "execution_count": 111,
     "metadata": {},
     "output_type": "execute_result"
    }
   ],
   "source": [
    "cv_results = pd.DataFrame(cv_results_).transpose()\n",
    "cv_results.loc[:, 'MEAN'] = cv_results.mean(axis=1)\n",
    "cv_results.loc[:, 'STD'] = cv_results.std(axis=1)\n",
    "out = cv_results[['MEAN', 'STD']]\n",
    "out"
   ]
  },
  {
   "cell_type": "code",
   "execution_count": 113,
   "metadata": {},
   "outputs": [],
   "source": [
    "out.to_csv(root+'/d{}_cv_results.csv'.format(D))"
   ]
  },
  {
   "cell_type": "markdown",
   "metadata": {},
   "source": [
    "# Confusion matrix"
   ]
  },
  {
   "cell_type": "code",
   "execution_count": 114,
   "metadata": {},
   "outputs": [],
   "source": [
    "import itertools\n",
    "\n",
    "def plot_confusion_matrix(cm, classes,\n",
    "                          normalize=False,\n",
    "                          title='Confusion matrix',\n",
    "                          cmap=plt.cm.Blues):\n",
    "    \"\"\"\n",
    "    This function prints and plots the confusion matrix.\n",
    "    Normalization can be applied by setting `normalize=True`.\n",
    "    \"\"\"\n",
    "    if normalize:\n",
    "        cm = cm.astype('float') / cm.sum(axis=1)[:, np.newaxis]\n",
    "        print(\"Normalized confusion matrix\")\n",
    "    \n",
    "    plt.imshow(cm, interpolation='nearest', cmap=cmap)\n",
    "    plt.title(title)\n",
    "    plt.colorbar()\n",
    "    tick_marks = np.arange(len(classes))\n",
    "    plt.xticks(tick_marks, classes, rotation=45)\n",
    "    plt.yticks(tick_marks, classes)\n",
    "\n",
    "    fmt = '.2f' if normalize else 'd'\n",
    "    thresh = cm.max() / 2.\n",
    "    for i, j in itertools.product(range(cm.shape[0]), range(cm.shape[1])):\n",
    "        plt.text(j, i, format(cm[i, j], fmt),\n",
    "                 horizontalalignment=\"center\",\n",
    "                 color=\"white\" if cm[i, j] > thresh else \"black\")\n",
    "\n",
    "    plt.tight_layout()\n",
    "    plt.ylabel('True label')\n",
    "    plt.xlabel('Predicted label')\n",
    "    return plt"
   ]
  },
  {
   "cell_type": "code",
   "execution_count": 115,
   "metadata": {},
   "outputs": [
    {
     "name": "stdout",
     "output_type": "stream",
     "text": [
      "(5872, 300)\n"
     ]
    }
   ],
   "source": [
    "y = labels.values.ravel()\n",
    "\n",
    "sss = StratifiedShuffleSplit(n_splits=1, test_size=0.5)\n",
    "tr_idx, ts_idx = next(sss.split(np.empty_like(y), y))\n",
    "\n",
    "x_train = dfX.iloc[tr_idx]\n",
    "x_test = dfX.iloc[ts_idx]\n",
    "y_train, y_test = y[tr_idx], y[ts_idx]\n",
    "print(x_train.shape)\n",
    "\n",
    "classifier = LogisticRegressionCV(n_jobs=-1)\n",
    "y_pred = classifier.fit(x_train, y_train).predict(x_test)\n",
    "\n",
    "# Compute confusion matrix\n",
    "cnf_matrix = metrics.confusion_matrix(y_test, y_pred)\n",
    "np.set_printoptions(precision=2)"
   ]
  },
  {
   "cell_type": "code",
   "execution_count": 116,
   "metadata": {},
   "outputs": [
    {
     "name": "stdout",
     "output_type": "stream",
     "text": [
      "Test acc: 0.689\n",
      "Test AUC: 0.689\n"
     ]
    },
    {
     "data": {
      "image/png": "[encoded data removed]",
      "text/plain": [
       "<matplotlib.figure.Figure at 0x7ff4786a4e10>"
      ]
     },
     "metadata": {},
     "output_type": "display_data"
    }
   ],
   "source": [
    "print('Test acc: {:2.3f}'.format(metrics.accuracy_score(y_test, y_pred)))\n",
    "print('Test AUC: {:2.3f}'.format(metrics.roc_auc_score(y_test, y_pred)))\n",
    "\n",
    "# Plot non-normalized confusion matrix\n",
    "plt.figure(dpi=100)\n",
    "plot_confusion_matrix(cnf_matrix, classes=['METONLY', 'METX'],\n",
    "                      title='Confusion matrix', cmap=plt.cm.Blues)\n",
    "plt.savefig(root+'/d{}-_cm.png'.format(D))"
   ]
  },
  {
   "cell_type": "markdown",
   "metadata": {},
   "source": [
    "# Learning curves"
   ]
  },
  {
   "cell_type": "code",
   "execution_count": 117,
   "metadata": {},
   "outputs": [],
   "source": [
    "def plot_learning_curve(estimator, title, X, y, ylim=None, cv=None,\n",
    "                        n_jobs=1, train_sizes=np.linspace(.1, 1.0, 5)):\n",
    "    \"\"\"\n",
    "    Generate a simple plot of the test and training learning curve.\n",
    "    \"\"\"\n",
    "    plt.figure(dpi=100)\n",
    "    plt.title(title)\n",
    "    if ylim is not None:\n",
    "        plt.ylim(*ylim)\n",
    "    \n",
    "    plt.xlabel(\"Training examples\")\n",
    "    plt.ylabel(\"ROC AUC\")\n",
    "    \n",
    "    train_sizes, train_scores, test_scores = learning_curve(\n",
    "        estimator, X, y, cv=cv, n_jobs=n_jobs, train_sizes=train_sizes, scoring='roc_auc')\n",
    "    \n",
    "    train_scores_mean = np.mean(train_scores, axis=1)\n",
    "    train_scores_std = np.std(train_scores, axis=1)\n",
    "    test_scores_mean = np.mean(test_scores, axis=1)\n",
    "    test_scores_std = np.std(test_scores, axis=1)\n",
    "\n",
    "    plt.fill_between(train_sizes, train_scores_mean - train_scores_std,\n",
    "                     train_scores_mean + train_scores_std, alpha=0.1,\n",
    "                     color=\"C0\")\n",
    "    plt.fill_between(train_sizes, test_scores_mean - test_scores_std,\n",
    "                     test_scores_mean + test_scores_std, alpha=0.1, color=\"C1\")\n",
    "    plt.plot(train_sizes, train_scores_mean, 'o-', color=\"C0\",\n",
    "             label=\"Training score\")\n",
    "    plt.plot(train_sizes, test_scores_mean, 'x-', color=\"C1\",\n",
    "             label=\"Cross-validation score\")\n",
    "\n",
    "    plt.legend(loc=\"best\")\n",
    "    plt.tight_layout()\n",
    "    return plt"
   ]
  },
  {
   "cell_type": "code",
   "execution_count": 122,
   "metadata": {},
   "outputs": [
    {
     "data": {
      "image/png": "[encoded data removed]",
      "text/plain": [
       "<matplotlib.figure.Figure at 0x7ff4785c0950>"
      ]
     },
     "metadata": {},
     "output_type": "display_data"
    }
   ],
   "source": [
    "plot_learning_curve(pipe, 'D {}'.format(D),\n",
    "                    dfX, labels.values.ravel(), cv=sss, ylim=[0.5, 1],\n",
    "                    n_jobs=-1, train_sizes=np.linspace(0.01, 1, 20))\n",
    "plt.savefig(root+'/d{}_lcurves.png'.format(D));"
   ]
  },
  {
   "cell_type": "markdown",
   "metadata": {},
   "source": [
    "# Data viz"
   ]
  },
  {
   "cell_type": "code",
   "execution_count": null,
   "metadata": {},
   "outputs": [],
   "source": [
    "pipe = Pipeline([\n",
    "    ('dr1', TSNE(n_components=3, init='pca'))\n",
    "    ])\n",
    "\n",
    "x_r = pipe.fit_transform(dfX.values)"
   ]
  },
  {
   "cell_type": "code",
   "execution_count": null,
   "metadata": {},
   "outputs": [],
   "source": [
    "fig = plt.figure(dpi=300)\n",
    "ax = fig.add_subplot(111, projection='3d')\n",
    "\n",
    "idx = np.arange(x_r.shape[0])\n",
    "np.random.shuffle(idx)\n",
    "idx = idx[:600]\n",
    "\n",
    "ax.scatter(x_r[idx, 0], x_r[idx, 1], x_r[idx, 2], c=y[idx])\n",
    "plt.savefig(root+'/d{}_scatter.png'.format(D));"
   ]
  },
  {
   "cell_type": "code",
   "execution_count": null,
   "metadata": {},
   "outputs": [],
   "source": []
  }
 ],
 "metadata": {
  "kernelspec": {
   "display_name": "Python 2",
   "language": "python",
   "name": "python2"
  },
  "language_info": {
   "codemirror_mode": {
    "name": "ipython",
    "version": 2
   },
   "file_extension": ".py",
   "mimetype": "text/x-python",
   "name": "python",
   "nbconvert_exporter": "python",
   "pygments_lexer": "ipython2",
   "version": "2.7.14"
  }
 },
 "nbformat": 4,
 "nbformat_minor": 2
}
