{
 "cells": [
  {
   "cell_type": "code",
   "execution_count": 7,
   "metadata": {},
   "outputs": [],
   "source": [
    "%matplotlib inline\n",
    "import pandas as pd\n",
    "import numpy as np\n",
    "import joblib as jl\n",
    "import matplotlib.pyplot as plt\n",
    "import warnings\n",
    "warnings.filterwarnings('ignore')\n",
    "\n",
    "from sklearn.model_selection import StratifiedShuffleSplit\n",
    "from sklearn import metrics\n",
    "\n",
    "from keras.preprocessing.text import Tokenizer\n",
    "from keras.preprocessing.sequence import pad_sequences\n",
    "\n",
    "root = 'dl'"
   ]
  },
  {
   "cell_type": "markdown",
   "metadata": {},
   "source": [
    "# Load raw data"
   ]
  },
  {
   "cell_type": "code",
   "execution_count": 8,
   "metadata": {},
   "outputs": [
    {
     "data": {
      "text/html": [
       "<div>\n",
       "<style scoped>\n",
       "    .dataframe tbody tr th:only-of-type {\n",
       "        vertical-align: middle;\n",
       "    }\n",
       "\n",
       "    .dataframe tbody tr th {\n",
       "        vertical-align: top;\n",
       "    }\n",
       "\n",
       "    .dataframe thead th {\n",
       "        text-align: right;\n",
       "    }\n",
       "</style>\n",
       "<table border=\"1\" class=\"dataframe\">\n",
       "  <thead>\n",
       "    <tr style=\"text-align: right;\">\n",
       "      <th></th>\n",
       "      <th>CLASS</th>\n",
       "    </tr>\n",
       "    <tr>\n",
       "      <th>PIN</th>\n",
       "      <th></th>\n",
       "    </tr>\n",
       "  </thead>\n",
       "  <tbody>\n",
       "    <tr>\n",
       "      <th>568483</th>\n",
       "      <td>1</td>\n",
       "    </tr>\n",
       "    <tr>\n",
       "      <th>923748</th>\n",
       "      <td>0</td>\n",
       "    </tr>\n",
       "    <tr>\n",
       "      <th>2035328</th>\n",
       "      <td>0</td>\n",
       "    </tr>\n",
       "    <tr>\n",
       "      <th>2239386</th>\n",
       "      <td>1</td>\n",
       "    </tr>\n",
       "    <tr>\n",
       "      <th>2244533</th>\n",
       "      <td>1</td>\n",
       "    </tr>\n",
       "  </tbody>\n",
       "</table>\n",
       "</div>"
      ],
      "text/plain": [
       "         CLASS\n",
       "PIN           \n",
       "568483       1\n",
       "923748       0\n",
       "2035328      0\n",
       "2239386      1\n",
       "2244533      1"
      ]
     },
     "execution_count": 8,
     "metadata": {},
     "output_type": "execute_result"
    }
   ],
   "source": [
    "labels = pd.read_csv('../../tmp/1_METONLY_vs_METX/matched_CEM_table.csv', header=0).rename({'Unnamed: 0': 'PIN'}, axis=1)[['PIN', 'CLASS']].set_index('PIN')\n",
    "labels.head()"
   ]
  },
  {
   "cell_type": "code",
   "execution_count": 9,
   "metadata": {},
   "outputs": [
    {
     "data": {
      "text/html": [
       "<div>\n",
       "<style scoped>\n",
       "    .dataframe tbody tr th:only-of-type {\n",
       "        vertical-align: middle;\n",
       "    }\n",
       "\n",
       "    .dataframe tbody tr th {\n",
       "        vertical-align: top;\n",
       "    }\n",
       "\n",
       "    .dataframe thead th {\n",
       "        text-align: right;\n",
       "    }\n",
       "</style>\n",
       "<table border=\"1\" class=\"dataframe\">\n",
       "  <thead>\n",
       "    <tr style=\"text-align: right;\">\n",
       "      <th></th>\n",
       "      <th>Seq</th>\n",
       "      <th>Class</th>\n",
       "    </tr>\n",
       "    <tr>\n",
       "      <th>PIN</th>\n",
       "      <th></th>\n",
       "      <th></th>\n",
       "    </tr>\n",
       "  </thead>\n",
       "  <tbody>\n",
       "    <tr>\n",
       "      <th>568483</th>\n",
       "      <td>10990 0 23 16 725 0 10990 0 10990 0 10990 0 10...</td>\n",
       "      <td>1</td>\n",
       "    </tr>\n",
       "    <tr>\n",
       "      <th>923748</th>\n",
       "      <td>66653 0 65070 0 66515 5 10962 1 105 1 56807 42...</td>\n",
       "      <td>0</td>\n",
       "    </tr>\n",
       "    <tr>\n",
       "      <th>2035328</th>\n",
       "      <td>66536 0 74995 0 66512 0 66551 0 66608 0 66716 ...</td>\n",
       "      <td>0</td>\n",
       "    </tr>\n",
       "    <tr>\n",
       "      <th>2239386</th>\n",
       "      <td>10991 0 23 105 73928 0 66560 0 66515 0 66551 0...</td>\n",
       "      <td>1</td>\n",
       "    </tr>\n",
       "    <tr>\n",
       "      <th>2244533</th>\n",
       "      <td>10990 0 23 74 23 0 10990 1 73928 0 66500 0 665...</td>\n",
       "      <td>1</td>\n",
       "    </tr>\n",
       "  </tbody>\n",
       "</table>\n",
       "</div>"
      ],
      "text/plain": [
       "                                                       Seq  Class\n",
       "PIN                                                              \n",
       "568483   10990 0 23 16 725 0 10990 0 10990 0 10990 0 10...      1\n",
       "923748   66653 0 65070 0 66515 5 10962 1 105 1 56807 42...      0\n",
       "2035328  66536 0 74995 0 66512 0 66551 0 66608 0 66716 ...      0\n",
       "2239386  10991 0 23 105 73928 0 66560 0 66515 0 66551 0...      1\n",
       "2244533  10990 0 23 74 23 0 10990 1 73928 0 66500 0 665...      1"
      ]
     },
     "execution_count": 9,
     "metadata": {},
     "output_type": "execute_result"
    }
   ],
   "source": [
    "data = jl.load(open('../../tmp/item_days_raw_data_.pkl', 'rb')).loc[labels.index, 'seq']\n",
    "df = pd.DataFrame(columns=['Seq', 'Class'], index=data.index)\n",
    "df.loc[:, 'Seq'] = data\n",
    "df.loc[:, 'Class'] = labels['CLASS']\n",
    "df.head()"
   ]
  },
  {
   "cell_type": "markdown",
   "metadata": {},
   "source": [
    "# Separate MBS items and timepoints"
   ]
  },
  {
   "cell_type": "code",
   "execution_count": 10,
   "metadata": {},
   "outputs": [],
   "source": [
    "for idx in df.index:\n",
    "    _tmp = df.loc[idx, 'Seq'].split(' ')\n",
    "    df.loc[idx, 'mbs_seq'] = ' '.join(_tmp[::2])\n",
    "    df.loc[idx, 'times_seq'] = ' '.join(_tmp[1::2])"
   ]
  },
  {
   "cell_type": "code",
   "execution_count": 11,
   "metadata": {},
   "outputs": [
    {
     "data": {
      "text/html": [
       "<div>\n",
       "<style scoped>\n",
       "    .dataframe tbody tr th:only-of-type {\n",
       "        vertical-align: middle;\n",
       "    }\n",
       "\n",
       "    .dataframe tbody tr th {\n",
       "        vertical-align: top;\n",
       "    }\n",
       "\n",
       "    .dataframe thead th {\n",
       "        text-align: right;\n",
       "    }\n",
       "</style>\n",
       "<table border=\"1\" class=\"dataframe\">\n",
       "  <thead>\n",
       "    <tr style=\"text-align: right;\">\n",
       "      <th></th>\n",
       "      <th>Seq</th>\n",
       "      <th>Class</th>\n",
       "      <th>mbs_seq</th>\n",
       "      <th>times_seq</th>\n",
       "    </tr>\n",
       "    <tr>\n",
       "      <th>PIN</th>\n",
       "      <th></th>\n",
       "      <th></th>\n",
       "      <th></th>\n",
       "      <th></th>\n",
       "    </tr>\n",
       "  </thead>\n",
       "  <tbody>\n",
       "    <tr>\n",
       "      <th>568483</th>\n",
       "      <td>10990 0 23 16 725 0 10990 0 10990 0 10990 0 10...</td>\n",
       "      <td>1</td>\n",
       "      <td>10990 23 725 10990 10990 10990 10993 23 85311 ...</td>\n",
       "      <td>0 16 0 0 0 0 0 15 0 0 13 0 0 0 22 0 0 0 0 0 0 ...</td>\n",
       "    </tr>\n",
       "    <tr>\n",
       "      <th>923748</th>\n",
       "      <td>66653 0 65070 0 66515 5 10962 1 105 1 56807 42...</td>\n",
       "      <td>0</td>\n",
       "      <td>66653 65070 66515 10962 105 56807 10990 23 109...</td>\n",
       "      <td>0 0 5 1 1 42 0 26 35 0 0 0 9 0 0 0 5 0 0 0 21 ...</td>\n",
       "    </tr>\n",
       "    <tr>\n",
       "      <th>2035328</th>\n",
       "      <td>66536 0 74995 0 66512 0 66551 0 66608 0 66716 ...</td>\n",
       "      <td>0</td>\n",
       "      <td>66536 74995 66512 66551 66608 66716 66560 7392...</td>\n",
       "      <td>0 0 0 0 0 0 0 9 1 10 9 138 1 3 31 24 63 0 0 0 ...</td>\n",
       "    </tr>\n",
       "    <tr>\n",
       "      <th>2239386</th>\n",
       "      <td>10991 0 23 105 73928 0 66560 0 66515 0 66551 0...</td>\n",
       "      <td>1</td>\n",
       "      <td>10991 23 73928 66560 66515 66551 66536 2517 10...</td>\n",
       "      <td>0 105 0 0 0 0 4 2 27 1 1 7 0 18 132 0 0 0 1 0 ...</td>\n",
       "    </tr>\n",
       "    <tr>\n",
       "      <th>2244533</th>\n",
       "      <td>10990 0 23 74 23 0 10990 1 73928 0 66500 0 665...</td>\n",
       "      <td>1</td>\n",
       "      <td>10990 23 23 10990 73928 66500 66560 66551 23 1...</td>\n",
       "      <td>0 74 0 1 0 0 0 2 0 87 0 1 0 0 0 0 0 2 0 6 0 8 ...</td>\n",
       "    </tr>\n",
       "  </tbody>\n",
       "</table>\n",
       "</div>"
      ],
      "text/plain": [
       "                                                       Seq  Class  \\\n",
       "PIN                                                                 \n",
       "568483   10990 0 23 16 725 0 10990 0 10990 0 10990 0 10...      1   \n",
       "923748   66653 0 65070 0 66515 5 10962 1 105 1 56807 42...      0   \n",
       "2035328  66536 0 74995 0 66512 0 66551 0 66608 0 66716 ...      0   \n",
       "2239386  10991 0 23 105 73928 0 66560 0 66515 0 66551 0...      1   \n",
       "2244533  10990 0 23 74 23 0 10990 1 73928 0 66500 0 665...      1   \n",
       "\n",
       "                                                   mbs_seq  \\\n",
       "PIN                                                          \n",
       "568483   10990 23 725 10990 10990 10990 10993 23 85311 ...   \n",
       "923748   66653 65070 66515 10962 105 56807 10990 23 109...   \n",
       "2035328  66536 74995 66512 66551 66608 66716 66560 7392...   \n",
       "2239386  10991 23 73928 66560 66515 66551 66536 2517 10...   \n",
       "2244533  10990 23 23 10990 73928 66500 66560 66551 23 1...   \n",
       "\n",
       "                                                 times_seq  \n",
       "PIN                                                         \n",
       "568483   0 16 0 0 0 0 0 15 0 0 13 0 0 0 22 0 0 0 0 0 0 ...  \n",
       "923748   0 0 5 1 1 42 0 26 35 0 0 0 9 0 0 0 5 0 0 0 21 ...  \n",
       "2035328  0 0 0 0 0 0 0 9 1 10 9 138 1 3 31 24 63 0 0 0 ...  \n",
       "2239386  0 105 0 0 0 0 4 2 27 1 1 7 0 18 132 0 0 0 1 0 ...  \n",
       "2244533  0 74 0 1 0 0 0 2 0 87 0 1 0 0 0 0 0 2 0 6 0 8 ...  "
      ]
     },
     "execution_count": 11,
     "metadata": {},
     "output_type": "execute_result"
    }
   ],
   "source": [
    "df.head()"
   ]
  },
  {
   "cell_type": "markdown",
   "metadata": {},
   "source": [
    "# Seq2Tokens"
   ]
  },
  {
   "cell_type": "code",
   "execution_count": 12,
   "metadata": {},
   "outputs": [
    {
     "name": "stdout",
     "output_type": "stream",
     "text": [
      "2773\n",
      "(11744, 445)\n",
      "(11744, 445)\n"
     ]
    }
   ],
   "source": [
    "# Define tokenizer object\n",
    "tokenizer = Tokenizer(char_level=False, lower=False, split=' ')\n",
    "\n",
    "# Fit on corpus and extract tokenized sequences\n",
    "tokenizer.fit_on_texts(df['mbs_seq'])\n",
    "n_feat = len(tokenizer.word_index.keys())\n",
    "print(n_feat)\n",
    "seq = tokenizer.texts_to_sequences(df['mbs_seq'])\n",
    "\n",
    "# Pad tokenized sequences\n",
    "lengths = [len(x) for x in seq]\n",
    "maxlen = int(np.percentile(lengths, 95))\n",
    "p_seq = pad_sequences(seq, maxlen=maxlen)\n",
    "print(p_seq.shape)\n",
    "\n",
    "# Pad timestamps\n",
    "t_seq = [map(int, df.loc[idx, 'times_seq'].split(' ')) for idx in df.index]\n",
    "p_t_seq = pad_sequences(t_seq, maxlen=maxlen)\n",
    "print(p_t_seq.shape)"
   ]
  },
  {
   "cell_type": "markdown",
   "metadata": {},
   "source": [
    "# Training - Validation - Test split"
   ]
  },
  {
   "cell_type": "code",
   "execution_count": 13,
   "metadata": {},
   "outputs": [
    {
     "name": "stdout",
     "output_type": "stream",
     "text": [
      "5872 learn / 5872 test\n",
      "5284 training / 588 validation\n"
     ]
    }
   ],
   "source": [
    "# Full dataset\n",
    "y = df['Class'].ravel()\n",
    "X = p_seq\n",
    "X_t = p_t_seq\n",
    "\n",
    "# Learn / Test\n",
    "sss = StratifiedShuffleSplit(n_splits=1, test_size=0.5, random_state=0)\n",
    "learn_idx, test_idx = next(sss.split(X, y))\n",
    "\n",
    "X_learn, y_learn = X[learn_idx, :], y[learn_idx]\n",
    "X_test, y_test = X[test_idx, :], y[test_idx]\n",
    "\n",
    "X_learn_t = X_t[learn_idx, :]\n",
    "X_test_t = X_t[test_idx, :]\n",
    "\n",
    "print('{} learn / {} test'.format(len(y_learn), len(y_test)))\n",
    "\n",
    "# Training / Validation\n",
    "sss = StratifiedShuffleSplit(n_splits=1, test_size=0.1, random_state=1)\n",
    "train_idx, valid_idx = next(sss.split(X_learn, y_learn))\n",
    "\n",
    "X_train, y_train = X_learn[train_idx, :], y_learn[train_idx]\n",
    "X_valid, y_valid = X_learn[valid_idx, :], y_learn[valid_idx]\n",
    "\n",
    "X_train_t = X_learn_t[train_idx, :]\n",
    "X_valid_t = X_learn_t[valid_idx, :]\n",
    "\n",
    "print('{} training / {} validation'.format(len(y_train), len(y_valid)))"
   ]
  },
  {
   "cell_type": "markdown",
   "metadata": {},
   "source": [
    "# Init embedding matrix"
   ]
  },
  {
   "cell_type": "code",
   "execution_count": 55,
   "metadata": {},
   "outputs": [],
   "source": [
    "D = 200\n",
    "embedding = pd.read_csv('../../tmp/embedding.{}d.csv'.format(D), header=0, index_col=0)\n",
    "embedding_matrix = embedding.values"
   ]
  },
  {
   "cell_type": "markdown",
   "metadata": {},
   "source": [
    "# Model"
   ]
  },
  {
   "cell_type": "code",
   "execution_count": 56,
   "metadata": {},
   "outputs": [],
   "source": [
    "from keras.models import Model\n",
    "from keras.models import Sequential\n",
    "from keras.layers import Input, Dense, Flatten\n",
    "from keras.layers import Embedding\n",
    "from keras.layers import CuDNNLSTM, LSTM\n",
    "from keras.layers import Conv1D\n",
    "from keras.layers import Dropout\n",
    "from keras.layers import Multiply, merge\n",
    "from keras.layers import Permute, Reshape, RepeatVector\n",
    "from keras.layers.core import K"
   ]
  },
  {
   "cell_type": "code",
   "execution_count": 68,
   "metadata": {},
   "outputs": [
    {
     "name": "stdout",
     "output_type": "stream",
     "text": [
      "__________________________________________________________________________________________________\n",
      "Layer (type)                    Output Shape         Param #     Connected to                     \n",
      "==================================================================================================\n",
      "timestamp_input (InputLayer)    (None, 445, 1)       0                                            \n",
      "__________________________________________________________________________________________________\n",
      "mbs_input (InputLayer)          (None, 445)          0                                            \n",
      "__________________________________________________________________________________________________\n",
      "timestamp_conv1d (Conv1D)       (None, 445, 32)      128         timestamp_input[0][0]            \n",
      "__________________________________________________________________________________________________\n",
      "mbs_embedding (Embedding)       (None, 445, 200)     554600      mbs_input[0][0]                  \n",
      "__________________________________________________________________________________________________\n",
      "timestamp_lstm (CuDNNLSTM)      (None, 445, 32)      8448        timestamp_conv1d[0][0]           \n",
      "__________________________________________________________________________________________________\n",
      "mbs_lstm (CuDNNLSTM)            (None, 445, 32)      29952       mbs_embedding[0][0]              \n",
      "__________________________________________________________________________________________________\n",
      "transpose_timestamp (Permute)   (None, 32, 445)      0           timestamp_lstm[0][0]             \n",
      "__________________________________________________________________________________________________\n",
      "hidden_to_time_permute (Permute (None, 32, 445)      0           mbs_lstm[0][0]                   \n",
      "__________________________________________________________________________________________________\n",
      "timestamp_dense (Dense)         (None, 32, 445)      198470      transpose_timestamp[0][0]        \n",
      "__________________________________________________________________________________________________\n",
      "timestamp_induced_attention (Mu (None, 32, 445)      0           hidden_to_time_permute[0][0]     \n",
      "                                                                 timestamp_dense[0][0]            \n",
      "__________________________________________________________________________________________________\n",
      "attention_probabilities (Dense) (None, 32, 445)      198470      timestamp_induced_attention[0][0]\n",
      "__________________________________________________________________________________________________\n",
      "time_to_hidden_permute (Permute (None, 445, 32)      0           attention_probabilities[0][0]    \n",
      "__________________________________________________________________________________________________\n",
      "context_creation (Multiply)     (None, 445, 32)      0           time_to_hidden_permute[0][0]     \n",
      "                                                                 mbs_lstm[0][0]                   \n",
      "__________________________________________________________________________________________________\n",
      "top_lstm (LSTM)                 (None, 32)           8320        context_creation[0][0]           \n",
      "__________________________________________________________________________________________________\n",
      "dense_12 (Dense)                (None, 1)            33          top_lstm[0][0]                   \n",
      "==================================================================================================\n",
      "Total params: 998,421\n",
      "Trainable params: 998,421\n",
      "Non-trainable params: 0\n",
      "__________________________________________________________________________________________________\n"
     ]
    }
   ],
   "source": [
    "def build_model(mbs_input_shape, timestamp_input_shape):\n",
    "    # Channel 1: MBS\n",
    "    mbs_input = Input(shape=mbs_input_shape, name='mbs_input')\n",
    "    x1 = Embedding(n_feat, D, name='mbs_embedding')(mbs_input)\n",
    "    x1 = CuDNNLSTM(32, return_sequences=True, name='mbs_lstm')(x1)\n",
    "    \n",
    "    # -- Attention -- #\n",
    "    # Channel 2: Timestamps\n",
    "    timestamp_input = Input(shape=timestamp_input_shape, name='timestamp_input')\n",
    "    x2 = Conv1D(32, 3, activation='relu', padding='causal', name='timestamp_conv1d')(timestamp_input)\n",
    "    x2 = CuDNNLSTM(32, return_sequences=True, name='timestamp_lstm')(x2)\n",
    "    x2 = Permute((2, 1), name='transpose_timestamp')(x2)\n",
    "    x2 = Dense(mbs_input_shape[0], activation='linear', name='timestamp_dense')(x2)\n",
    "    \n",
    "    alpha = Permute((2, 1), name='hidden_to_time_permute')(x1)\n",
    "    alpha = Multiply(name='timestamp_induced_attention')([alpha, x2])\n",
    "    alpha = Dense(mbs_input_shape[0], activation='softmax', name='attention_probabilities')(alpha)\n",
    "    alpha = Permute((2, 1), name='time_to_hidden_permute')(alpha)\n",
    "    # -- Attention -- #\n",
    "    \n",
    "    \n",
    "    # Combine channels to get context\n",
    "    context = Multiply(name='context_creation')([alpha, x1])\n",
    "    \n",
    "    # Output\n",
    "#     x = Flatten()(context)\n",
    "#     x = Dense(128, activation='relu')(x)\n",
    "#     x = Dropout(0.25)(x)\n",
    "    x = LSTM(32, name='top_lstm', recurrent_dropout=0.5, dropout=0.5)(context)\n",
    "    output = Dense(1, activation='sigmoid')(x)\n",
    "    \n",
    "    # Define the model\n",
    "    model = Model(inputs=[mbs_input, timestamp_input],\n",
    "                  outputs=[output])\n",
    "    return model\n",
    "\n",
    "\n",
    "model = build_model(mbs_input_shape=(maxlen,),\n",
    "                    timestamp_input_shape=(maxlen, 1))\n",
    "model.compile(optimizer='adam',\n",
    "              loss='binary_crossentropy',\n",
    "              metrics=['acc'])\n",
    "model.summary()"
   ]
  },
  {
   "cell_type": "code",
   "execution_count": 69,
   "metadata": {},
   "outputs": [],
   "source": [
    "# model.load_weights('model.h5')\n",
    "model.get_layer('mbs_embedding').set_weights([embedding_matrix])\n",
    "model.get_layer('mbs_embedding').trainable = True"
   ]
  },
  {
   "cell_type": "code",
   "execution_count": 70,
   "metadata": {},
   "outputs": [
    {
     "data": {
      "image/svg+xml": [
       "<svg height=\"775pt\" viewBox=\"0.00 0.00 461.00 775.00\" width=\"461pt\" xmlns=\"http://www.w3.org/2000/svg\" xmlns:xlink=\"http://www.w3.org/1999/xlink\">\n",
       "<g class=\"graph\" id=\"graph0\" transform=\"scale(1 1) rotate(0) translate(4 771)\">\n",
       "<title>G</title>\n",
       "<polygon fill=\"white\" points=\"-4,4 -4,-771 457,-771 457,4 -4,4\" stroke=\"none\"/>\n",
       "<!-- 140706258991056 -->\n",
       "<g class=\"node\" id=\"node1\"><title>140706258991056</title>\n",
       "<polygon fill=\"none\" points=\"9,-730.5 9,-766.5 185,-766.5 185,-730.5 9,-730.5\" stroke=\"black\"/>\n",
       "<text font-family=\"Times,serif\" font-size=\"14.00\" text-anchor=\"middle\" x=\"97\" y=\"-744.8\">timestamp_input: InputLayer</text>\n",
       "</g>\n",
       "<!-- 140706259622096 -->\n",
       "<g class=\"node\" id=\"node3\"><title>140706259622096</title>\n",
       "<polygon fill=\"none\" points=\"10,-657.5 10,-693.5 184,-693.5 184,-657.5 10,-657.5\" stroke=\"black\"/>\n",
       "<text font-family=\"Times,serif\" font-size=\"14.00\" text-anchor=\"middle\" x=\"97\" y=\"-671.8\">timestamp_conv1d: Conv1D</text>\n",
       "</g>\n",
       "<!-- 140706258991056&#45;&gt;140706259622096 -->\n",
       "<g class=\"edge\" id=\"edge1\"><title>140706258991056-&gt;140706259622096</title>\n",
       "<path d=\"M97,-730.313C97,-722.289 97,-712.547 97,-703.569\" fill=\"none\" stroke=\"black\"/>\n",
       "<polygon fill=\"black\" points=\"100.5,-703.529 97,-693.529 93.5001,-703.529 100.5,-703.529\" stroke=\"black\"/>\n",
       "</g>\n",
       "<!-- 140706259597648 -->\n",
       "<g class=\"node\" id=\"node2\"><title>140706259597648</title>\n",
       "<polygon fill=\"none\" points=\"293,-657.5 293,-693.5 435,-693.5 435,-657.5 293,-657.5\" stroke=\"black\"/>\n",
       "<text font-family=\"Times,serif\" font-size=\"14.00\" text-anchor=\"middle\" x=\"364\" y=\"-671.8\">mbs_input: InputLayer</text>\n",
       "</g>\n",
       "<!-- 140706259597520 -->\n",
       "<g class=\"node\" id=\"node4\"><title>140706259597520</title>\n",
       "<polygon fill=\"none\" points=\"275,-584.5 275,-620.5 453,-620.5 453,-584.5 275,-584.5\" stroke=\"black\"/>\n",
       "<text font-family=\"Times,serif\" font-size=\"14.00\" text-anchor=\"middle\" x=\"364\" y=\"-598.8\">mbs_embedding: Embedding</text>\n",
       "</g>\n",
       "<!-- 140706259597648&#45;&gt;140706259597520 -->\n",
       "<g class=\"edge\" id=\"edge2\"><title>140706259597648-&gt;140706259597520</title>\n",
       "<path d=\"M364,-657.313C364,-649.289 364,-639.547 364,-630.569\" fill=\"none\" stroke=\"black\"/>\n",
       "<polygon fill=\"black\" points=\"367.5,-630.529 364,-620.529 360.5,-630.529 367.5,-630.529\" stroke=\"black\"/>\n",
       "</g>\n",
       "<!-- 140706259621520 -->\n",
       "<g class=\"node\" id=\"node5\"><title>140706259621520</title>\n",
       "<polygon fill=\"none\" points=\"0,-584.5 0,-620.5 194,-620.5 194,-584.5 0,-584.5\" stroke=\"black\"/>\n",
       "<text font-family=\"Times,serif\" font-size=\"14.00\" text-anchor=\"middle\" x=\"97\" y=\"-598.8\">timestamp_lstm: CuDNNLSTM</text>\n",
       "</g>\n",
       "<!-- 140706259622096&#45;&gt;140706259621520 -->\n",
       "<g class=\"edge\" id=\"edge3\"><title>140706259622096-&gt;140706259621520</title>\n",
       "<path d=\"M97,-657.313C97,-649.289 97,-639.547 97,-630.569\" fill=\"none\" stroke=\"black\"/>\n",
       "<polygon fill=\"black\" points=\"100.5,-630.529 97,-620.529 93.5001,-630.529 100.5,-630.529\" stroke=\"black\"/>\n",
       "</g>\n",
       "<!-- 140706259597392 -->\n",
       "<g class=\"node\" id=\"node6\"><title>140706259597392</title>\n",
       "<polygon fill=\"none\" points=\"284,-511.5 284,-547.5 444,-547.5 444,-511.5 284,-511.5\" stroke=\"black\"/>\n",
       "<text font-family=\"Times,serif\" font-size=\"14.00\" text-anchor=\"middle\" x=\"364\" y=\"-525.8\">mbs_lstm: CuDNNLSTM</text>\n",
       "</g>\n",
       "<!-- 140706259597520&#45;&gt;140706259597392 -->\n",
       "<g class=\"edge\" id=\"edge4\"><title>140706259597520-&gt;140706259597392</title>\n",
       "<path d=\"M364,-584.313C364,-576.289 364,-566.547 364,-557.569\" fill=\"none\" stroke=\"black\"/>\n",
       "<polygon fill=\"black\" points=\"367.5,-557.529 364,-547.529 360.5,-557.529 367.5,-557.529\" stroke=\"black\"/>\n",
       "</g>\n",
       "<!-- 140706071435600 -->\n",
       "<g class=\"node\" id=\"node7\"><title>140706071435600</title>\n",
       "<polygon fill=\"none\" points=\"4.5,-511.5 4.5,-547.5 189.5,-547.5 189.5,-511.5 4.5,-511.5\" stroke=\"black\"/>\n",
       "<text font-family=\"Times,serif\" font-size=\"14.00\" text-anchor=\"middle\" x=\"97\" y=\"-525.8\">transpose_timestamp: Permute</text>\n",
       "</g>\n",
       "<!-- 140706259621520&#45;&gt;140706071435600 -->\n",
       "<g class=\"edge\" id=\"edge5\"><title>140706259621520-&gt;140706071435600</title>\n",
       "<path d=\"M97,-584.313C97,-576.289 97,-566.547 97,-557.569\" fill=\"none\" stroke=\"black\"/>\n",
       "<polygon fill=\"black\" points=\"100.5,-557.529 97,-547.529 93.5001,-557.529 100.5,-557.529\" stroke=\"black\"/>\n",
       "</g>\n",
       "<!-- 140706229450192 -->\n",
       "<g class=\"node\" id=\"node8\"><title>140706229450192</title>\n",
       "<polygon fill=\"none\" points=\"191.5,-438.5 191.5,-474.5 398.5,-474.5 398.5,-438.5 191.5,-438.5\" stroke=\"black\"/>\n",
       "<text font-family=\"Times,serif\" font-size=\"14.00\" text-anchor=\"middle\" x=\"295\" y=\"-452.8\">hidden_to_time_permute: Permute</text>\n",
       "</g>\n",
       "<!-- 140706259597392&#45;&gt;140706229450192 -->\n",
       "<g class=\"edge\" id=\"edge6\"><title>140706259597392-&gt;140706229450192</title>\n",
       "<path d=\"M347.297,-511.313C338.737,-502.505 328.164,-491.625 318.769,-481.958\" fill=\"none\" stroke=\"black\"/>\n",
       "<polygon fill=\"black\" points=\"321.029,-479.261 311.549,-474.529 316.009,-484.14 321.029,-479.261\" stroke=\"black\"/>\n",
       "</g>\n",
       "<!-- 140706229183312 -->\n",
       "<g class=\"node\" id=\"node13\"><title>140706229183312</title>\n",
       "<polygon fill=\"none\" points=\"278,-146.5 278,-182.5 440,-182.5 440,-146.5 278,-146.5\" stroke=\"black\"/>\n",
       "<text font-family=\"Times,serif\" font-size=\"14.00\" text-anchor=\"middle\" x=\"359\" y=\"-160.8\">context_creation: Multiply</text>\n",
       "</g>\n",
       "<!-- 140706259597392&#45;&gt;140706229183312 -->\n",
       "<g class=\"edge\" id=\"edge13\"><title>140706259597392-&gt;140706229183312</title>\n",
       "<path d=\"M381.883,-511.219C391.021,-501.415 401.546,-488.443 408,-475 425.788,-437.95 427,-425.599 427,-384.5 427,-384.5 427,-384.5 427,-309.5 427,-268.106 423.906,-255.824 405,-219 399.689,-208.655 391.99,-198.624 384.406,-190.099\" fill=\"none\" stroke=\"black\"/>\n",
       "<polygon fill=\"black\" points=\"386.919,-187.662 377.544,-182.726 381.795,-192.431 386.919,-187.662\" stroke=\"black\"/>\n",
       "</g>\n",
       "<!-- 140706230449680 -->\n",
       "<g class=\"node\" id=\"node9\"><title>140706230449680</title>\n",
       "<polygon fill=\"none\" points=\"20.5,-438.5 20.5,-474.5 173.5,-474.5 173.5,-438.5 20.5,-438.5\" stroke=\"black\"/>\n",
       "<text font-family=\"Times,serif\" font-size=\"14.00\" text-anchor=\"middle\" x=\"97\" y=\"-452.8\">timestamp_dense: Dense</text>\n",
       "</g>\n",
       "<!-- 140706071435600&#45;&gt;140706230449680 -->\n",
       "<g class=\"edge\" id=\"edge7\"><title>140706071435600-&gt;140706230449680</title>\n",
       "<path d=\"M97,-511.313C97,-503.289 97,-493.547 97,-484.569\" fill=\"none\" stroke=\"black\"/>\n",
       "<polygon fill=\"black\" points=\"100.5,-484.529 97,-474.529 93.5001,-484.529 100.5,-484.529\" stroke=\"black\"/>\n",
       "</g>\n",
       "<!-- 140706229450384 -->\n",
       "<g class=\"node\" id=\"node10\"><title>140706229450384</title>\n",
       "<polygon fill=\"none\" points=\"165.5,-365.5 165.5,-401.5 398.5,-401.5 398.5,-365.5 165.5,-365.5\" stroke=\"black\"/>\n",
       "<text font-family=\"Times,serif\" font-size=\"14.00\" text-anchor=\"middle\" x=\"282\" y=\"-379.8\">timestamp_induced_attention: Multiply</text>\n",
       "</g>\n",
       "<!-- 140706229450192&#45;&gt;140706229450384 -->\n",
       "<g class=\"edge\" id=\"edge8\"><title>140706229450192-&gt;140706229450384</title>\n",
       "<path d=\"M291.853,-438.313C290.384,-430.289 288.6,-420.547 286.956,-411.569\" fill=\"none\" stroke=\"black\"/>\n",
       "<polygon fill=\"black\" points=\"290.362,-410.735 285.118,-401.529 283.476,-411.996 290.362,-410.735\" stroke=\"black\"/>\n",
       "</g>\n",
       "<!-- 140706230449680&#45;&gt;140706229450384 -->\n",
       "<g class=\"edge\" id=\"edge9\"><title>140706230449680-&gt;140706229450384</title>\n",
       "<path d=\"M141.312,-438.494C167.321,-428.512 200.382,-415.824 227.919,-405.255\" fill=\"none\" stroke=\"black\"/>\n",
       "<polygon fill=\"black\" points=\"229.326,-408.464 237.408,-401.614 226.818,-401.929 229.326,-408.464\" stroke=\"black\"/>\n",
       "</g>\n",
       "<!-- 140706229449936 -->\n",
       "<g class=\"node\" id=\"node11\"><title>140706229449936</title>\n",
       "<polygon fill=\"none\" points=\"196.5,-292.5 196.5,-328.5 375.5,-328.5 375.5,-292.5 196.5,-292.5\" stroke=\"black\"/>\n",
       "<text font-family=\"Times,serif\" font-size=\"14.00\" text-anchor=\"middle\" x=\"286\" y=\"-306.8\">attention_probabilities: Dense</text>\n",
       "</g>\n",
       "<!-- 140706229450384&#45;&gt;140706229449936 -->\n",
       "<g class=\"edge\" id=\"edge10\"><title>140706229450384-&gt;140706229449936</title>\n",
       "<path d=\"M282.968,-365.313C283.42,-357.289 283.969,-347.547 284.475,-338.569\" fill=\"none\" stroke=\"black\"/>\n",
       "<polygon fill=\"black\" points=\"287.973,-338.71 285.041,-328.529 280.984,-338.316 287.973,-338.71\" stroke=\"black\"/>\n",
       "</g>\n",
       "<!-- 140706229105872 -->\n",
       "<g class=\"node\" id=\"node12\"><title>140706229105872</title>\n",
       "<polygon fill=\"none\" points=\"188.5,-219.5 188.5,-255.5 395.5,-255.5 395.5,-219.5 188.5,-219.5\" stroke=\"black\"/>\n",
       "<text font-family=\"Times,serif\" font-size=\"14.00\" text-anchor=\"middle\" x=\"292\" y=\"-233.8\">time_to_hidden_permute: Permute</text>\n",
       "</g>\n",
       "<!-- 140706229449936&#45;&gt;140706229105872 -->\n",
       "<g class=\"edge\" id=\"edge11\"><title>140706229449936-&gt;140706229105872</title>\n",
       "<path d=\"M287.452,-292.313C288.13,-284.289 288.954,-274.547 289.712,-265.569\" fill=\"none\" stroke=\"black\"/>\n",
       "<polygon fill=\"black\" points=\"293.206,-265.788 290.561,-255.529 286.231,-265.199 293.206,-265.788\" stroke=\"black\"/>\n",
       "</g>\n",
       "<!-- 140706229105872&#45;&gt;140706229183312 -->\n",
       "<g class=\"edge\" id=\"edge12\"><title>140706229105872-&gt;140706229183312</title>\n",
       "<path d=\"M308.219,-219.313C316.531,-210.505 326.798,-199.625 335.92,-189.958\" fill=\"none\" stroke=\"black\"/>\n",
       "<polygon fill=\"black\" points=\"338.613,-192.204 342.931,-182.529 333.522,-187.4 338.613,-192.204\" stroke=\"black\"/>\n",
       "</g>\n",
       "<!-- 140706229182928 -->\n",
       "<g class=\"node\" id=\"node14\"><title>140706229182928</title>\n",
       "<polygon fill=\"none\" points=\"304.5,-73.5 304.5,-109.5 413.5,-109.5 413.5,-73.5 304.5,-73.5\" stroke=\"black\"/>\n",
       "<text font-family=\"Times,serif\" font-size=\"14.00\" text-anchor=\"middle\" x=\"359\" y=\"-87.8\">top_lstm: LSTM</text>\n",
       "</g>\n",
       "<!-- 140706229183312&#45;&gt;140706229182928 -->\n",
       "<g class=\"edge\" id=\"edge14\"><title>140706229183312-&gt;140706229182928</title>\n",
       "<path d=\"M359,-146.313C359,-138.289 359,-128.547 359,-119.569\" fill=\"none\" stroke=\"black\"/>\n",
       "<polygon fill=\"black\" points=\"362.5,-119.529 359,-109.529 355.5,-119.529 362.5,-119.529\" stroke=\"black\"/>\n",
       "</g>\n",
       "<!-- 140706228962320 -->\n",
       "<g class=\"node\" id=\"node15\"><title>140706228962320</title>\n",
       "<polygon fill=\"none\" points=\"304.5,-0.5 304.5,-36.5 413.5,-36.5 413.5,-0.5 304.5,-0.5\" stroke=\"black\"/>\n",
       "<text font-family=\"Times,serif\" font-size=\"14.00\" text-anchor=\"middle\" x=\"359\" y=\"-14.8\">dense_12: Dense</text>\n",
       "</g>\n",
       "<!-- 140706229182928&#45;&gt;140706228962320 -->\n",
       "<g class=\"edge\" id=\"edge15\"><title>140706229182928-&gt;140706228962320</title>\n",
       "<path d=\"M359,-73.3129C359,-65.2895 359,-55.5475 359,-46.5691\" fill=\"none\" stroke=\"black\"/>\n",
       "<polygon fill=\"black\" points=\"362.5,-46.5288 359,-36.5288 355.5,-46.5289 362.5,-46.5288\" stroke=\"black\"/>\n",
       "</g>\n",
       "</g>\n",
       "</svg>"
      ],
      "text/plain": [
       "<IPython.core.display.SVG object>"
      ]
     },
     "execution_count": 70,
     "metadata": {},
     "output_type": "execute_result"
    }
   ],
   "source": [
    "from IPython.display import SVG\n",
    "from keras.utils.vis_utils import model_to_dot\n",
    "\n",
    "SVG(model_to_dot(model).create(prog='dot', format='svg'))"
   ]
  },
  {
   "cell_type": "code",
   "execution_count": 71,
   "metadata": {},
   "outputs": [
    {
     "name": "stdout",
     "output_type": "stream",
     "text": [
      "Train on 5284 samples, validate on 588 samples\n",
      "Epoch 1/100\n",
      "5284/5284 [==============================] - 41s 8ms/step - loss: 0.6933 - acc: 0.4909 - val_loss: 0.6931 - val_acc: 0.5000\n",
      "Epoch 2/100\n",
      "5284/5284 [==============================] - 39s 7ms/step - loss: 0.6931 - acc: 0.5042 - val_loss: 0.6927 - val_acc: 0.5340\n",
      "Epoch 3/100\n",
      "5284/5284 [==============================] - 39s 7ms/step - loss: 0.6721 - acc: 0.5984 - val_loss: 0.6184 - val_acc: 0.6735\n",
      "Epoch 4/100\n",
      "5284/5284 [==============================] - 39s 7ms/step - loss: 0.6115 - acc: 0.6800 - val_loss: 0.5793 - val_acc: 0.7007\n",
      "Epoch 5/100\n",
      "5284/5284 [==============================] - 38s 7ms/step - loss: 0.5790 - acc: 0.7120 - val_loss: 0.5445 - val_acc: 0.7313\n",
      "Epoch 6/100\n",
      "5284/5284 [==============================] - 38s 7ms/step - loss: 0.5559 - acc: 0.7252 - val_loss: 0.5403 - val_acc: 0.7398\n",
      "Epoch 7/100\n",
      "5284/5284 [==============================] - 39s 7ms/step - loss: 0.5152 - acc: 0.7610 - val_loss: 0.5934 - val_acc: 0.6990\n",
      "Epoch 8/100\n",
      "5284/5284 [==============================] - 38s 7ms/step - loss: 0.4982 - acc: 0.7680 - val_loss: 0.5080 - val_acc: 0.7483\n",
      "Epoch 9/100\n",
      "5284/5284 [==============================] - 39s 7ms/step - loss: 0.4603 - acc: 0.7920 - val_loss: 0.4893 - val_acc: 0.7534\n",
      "Epoch 10/100\n",
      "5284/5284 [==============================] - 38s 7ms/step - loss: 0.4794 - acc: 0.7769 - val_loss: 0.6034 - val_acc: 0.6531\n",
      "Epoch 11/100\n",
      "5284/5284 [==============================] - 39s 7ms/step - loss: 0.5201 - acc: 0.7481 - val_loss: 0.5310 - val_acc: 0.7296\n",
      "Epoch 12/100\n",
      "5284/5284 [==============================] - 39s 7ms/step - loss: 0.4437 - acc: 0.7928 - val_loss: 0.5054 - val_acc: 0.7330\n",
      "Epoch 13/100\n",
      "5284/5284 [==============================] - 39s 7ms/step - loss: 0.4353 - acc: 0.8075 - val_loss: 0.5226 - val_acc: 0.7500\n",
      "Epoch 14/100\n",
      "5284/5284 [==============================] - 38s 7ms/step - loss: 0.4101 - acc: 0.8236 - val_loss: 0.5299 - val_acc: 0.7347\n",
      "Epoch 15/100\n",
      "5284/5284 [==============================] - 39s 7ms/step - loss: 0.3823 - acc: 0.8354 - val_loss: 0.5409 - val_acc: 0.7517\n",
      "Epoch 16/100\n",
      "5284/5284 [==============================] - 38s 7ms/step - loss: 0.3790 - acc: 0.8344 - val_loss: 0.5060 - val_acc: 0.7517\n"
     ]
    }
   ],
   "source": [
    "from keras.callbacks import EarlyStopping\n",
    "callbacks = [EarlyStopping(monitor='val_loss', patience=7)] \n",
    "\n",
    "history = model.fit([X_train, X_train_t.reshape(len(y_train), maxlen, 1)], y_train,\n",
    "                    epochs=100,\n",
    "                    callbacks=callbacks,\n",
    "                    batch_size=128,\n",
    "                    validation_data=([X_valid, X_valid_t.reshape(len(y_valid), maxlen, 1)],\n",
    "                                     y_valid))"
   ]
  },
  {
   "cell_type": "code",
   "execution_count": 72,
   "metadata": {},
   "outputs": [
    {
     "data": {
      "image/png": "[encoded data removed]",
      "text/plain": [
       "<matplotlib.figure.Figure at 0x7ff8b2bcf550>"
      ]
     },
     "metadata": {},
     "output_type": "display_data"
    }
   ],
   "source": [
    "plt.figure(dpi=100)\n",
    "t = history.epoch\n",
    "\n",
    "plt.subplot(211)\n",
    "plt.plot(t, history.history['loss'], label='loss', color='C0')\n",
    "plt.plot(t, history.history['val_loss'], label='val_loss', color='C1')\n",
    "plt.xlabel('epochs')\n",
    "plt.ylabel('loss')\n",
    "plt.legend(loc=1)\n",
    "\n",
    "plt.subplot(212)\n",
    "plt.plot(t, history.history['acc'], label='acc', color='C2')\n",
    "plt.plot(t, history.history['val_acc'], label='val_acc', color='C3')\n",
    "plt.ylim([0.5, 1])\n",
    "plt.ylabel('acc')\n",
    "plt.xlabel('epochs')\n",
    "plt.legend(loc=1)\n",
    "\n",
    "plt.tight_layout()"
   ]
  },
  {
   "cell_type": "code",
   "execution_count": 73,
   "metadata": {},
   "outputs": [],
   "source": [
    "y_pred = model.predict([X_test, X_test_t.reshape(len(y_test), maxlen, 1)]).ravel()"
   ]
  },
  {
   "cell_type": "code",
   "execution_count": 74,
   "metadata": {},
   "outputs": [
    {
     "name": "stdout",
     "output_type": "stream",
     "text": [
      "Test scores:\n",
      " * Log-Loss\t0.526277360537\n",
      " * Accuracy:\t0.746083106267\n",
      " * Precision:\t0.77650210486\n",
      " * Recall:\t0.691076294278\n",
      " * AUC: \t0.830410531391\n"
     ]
    }
   ],
   "source": [
    "loss = metrics.log_loss(y_test, y_pred)\n",
    "acc = metrics.accuracy_score(y_test, y_pred > 0.5)\n",
    "prec = metrics.precision_score(y_test, y_pred > 0.5)\n",
    "rcll = metrics.recall_score(y_test, y_pred > 0.5)\n",
    "auc = metrics.roc_auc_score(y_test, y_pred)\n",
    "print('Test scores:\\n * Log-Loss\\t{}\\n * Accuracy:\\t{}\\n '\n",
    "      '* Precision:\\t{}\\n * Recall:\\t{}\\n * AUC: \\t{}'.format(loss, acc, prec, rcll, auc))"
   ]
  },
  {
   "cell_type": "code",
   "execution_count": 75,
   "metadata": {},
   "outputs": [
    {
     "data": {
      "image/png": "[encoded data removed]",
      "text/plain": [
       "<matplotlib.figure.Figure at 0x7ff8b87bd110>"
      ]
     },
     "metadata": {},
     "output_type": "display_data"
    }
   ],
   "source": [
    "# Plot non-normalized confusion matrix\n",
    "cnf_matrix = metrics.confusion_matrix(y_test, y_pred > 0.5)\n",
    "plt.figure(dpi=100)\n",
    "plot_confusion_matrix(cnf_matrix, classes=['METONLY', 'METX'],\n",
    "                      title='Confusion matrix', cmap=plt.cm.Blues);"
   ]
  },
  {
   "cell_type": "code",
   "execution_count": null,
   "metadata": {},
   "outputs": [],
   "source": [
    "# model.save_weights('model.h5')"
   ]
  },
  {
   "cell_type": "code",
   "execution_count": 15,
   "metadata": {},
   "outputs": [],
   "source": [
    "import itertools\n",
    "def plot_confusion_matrix(cm, classes,\n",
    "                          normalize=False,\n",
    "                          title='Confusion matrix',\n",
    "                          cmap=plt.cm.Blues):\n",
    "    \"\"\"\n",
    "    This function prints and plots the confusion matrix.\n",
    "    Normalization can be applied by setting `normalize=True`.\n",
    "    \"\"\"\n",
    "    if normalize:\n",
    "        cm = cm.astype('float') / cm.sum(axis=1)[:, np.newaxis]\n",
    "        print(\"Normalized confusion matrix\")\n",
    "    \n",
    "    plt.imshow(cm, interpolation='nearest', cmap=cmap)\n",
    "    plt.title(title)\n",
    "    plt.colorbar()\n",
    "    tick_marks = np.arange(len(classes))\n",
    "    plt.xticks(tick_marks, classes, rotation=45)\n",
    "    plt.yticks(tick_marks, classes)\n",
    "\n",
    "    fmt = '.2f' if normalize else 'd'\n",
    "    thresh = cm.max() / 2.\n",
    "    for i, j in itertools.product(range(cm.shape[0]), range(cm.shape[1])):\n",
    "        plt.text(j, i, format(cm[i, j], fmt),\n",
    "                 horizontalalignment=\"center\",\n",
    "                 color=\"white\" if cm[i, j] > thresh else \"black\")\n",
    "\n",
    "    plt.tight_layout()\n",
    "    plt.ylabel('True label')\n",
    "    plt.xlabel('Predicted label')\n",
    "    return plt"
   ]
  },
  {
   "cell_type": "code",
   "execution_count": null,
   "metadata": {},
   "outputs": [],
   "source": []
  }
 ],
 "metadata": {
  "kernelspec": {
   "display_name": "Python 2",
   "language": "python",
   "name": "python2"
  },
  "language_info": {
   "codemirror_mode": {
    "name": "ipython",
    "version": 2
   },
   "file_extension": ".py",
   "mimetype": "text/x-python",
   "name": "python",
   "nbconvert_exporter": "python",
   "pygments_lexer": "ipython2",
   "version": "2.7.14"
  }
 },
 "nbformat": 4,
 "nbformat_minor": 2
}
