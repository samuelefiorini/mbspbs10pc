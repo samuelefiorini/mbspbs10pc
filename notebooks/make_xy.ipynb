{
 "cells": [
  {
   "cell_type": "code",
   "execution_count": 1,
   "metadata": {},
   "outputs": [],
   "source": [
    "from __future__ import division\n",
    "import cPickle as pkl\n",
    "import matplotlib.pyplot as plt\n",
    "from multiprocessing import Pool\n",
    "import numpy as np\n",
    "import os\n",
    "import pandas as pd\n",
    "from tqdm import tqdm\n",
    "%matplotlib inline"
   ]
  },
  {
   "cell_type": "markdown",
   "metadata": {},
   "source": [
    "# Quick inspection"
   ]
  },
  {
   "cell_type": "code",
   "execution_count": 2,
   "metadata": {},
   "outputs": [],
   "source": [
    "cc = pkl.load(open('../tmp/dump_2009_class_1__raw_data_.pkl','rb'))\n",
    "rd, ei = cc['raw_data'], cc['extra_info']"
   ]
  },
  {
   "cell_type": "code",
   "execution_count": 3,
   "metadata": {},
   "outputs": [
    {
     "data": {
      "image/png": "[encoded data removed]",
      "text/plain": [
       "<matplotlib.figure.Figure at 0x7fc2994e2250>"
      ]
     },
     "metadata": {},
     "output_type": "display_data"
    }
   ],
   "source": [
    "lenghts = [len(rd[k]) for k in rd.keys()]\n",
    "\n",
    "plt.figure(dpi=100)\n",
    "plt.hist(lenghts, bins=25)\n",
    "plt.xlabel('sequence length')\n",
    "plt.ylabel('count');"
   ]
  },
  {
   "cell_type": "code",
   "execution_count": 6,
   "metadata": {},
   "outputs": [
    {
     "name": "stdout",
     "output_type": "stream",
     "text": [
      "* T0G0T0G1T0G2G0T2G0T2T0G0T0G2T0G2T0G1P0T0P0G0P0P0P0P0T0B0T0P0P0P0I0P0G0T0B0T0P0P0T0G0I0I0I0I0B0T0T0G1P0P0B0P0P0I1G0T0T0G0B0T0G0P0P0G0T0B0E0E0P0P\n",
      "* O0O2G3P0P0P0P0G2P0P0G0P0G0T0G3G0G0E1E0S0S0S0G2G0E0E0S0P0P0S0I0G1P0P\n",
      "* G0T0P0P0P0P0G0T1O0T0G0E0T0T0G0G0T0T0G1L0G0T0S0E0S0G0T0T0G1O0T0G3T0P0P0G0P0L0O0T0G0T0T1T0G0P0P0T0P0I0E0E0G0T0O0I0E0S0G0T0G0T0P0P0P0P0E0G0T0G0T0T0G0L0L0L0L0L0L0E0L0L0L0T0G0T0G0G0G0T0T1G0T0O0L0G0T0G0T0E0P0P0P0P0G0T0E0G0T0O0T0G0T0G0T0G0G0T0T0G0G0T0D0T0G0T0E0P0P0P0P0T0G0O0G0G0T0T0T0G0L0T0L0G0L0L0G0T0O0E0E0P0P0P0P0P0T0G0P0P0T0G1G0T0G0T0G0T0G0T0O0G0T0O\n",
      "* T0G0P0P0T0E0P0P0G0T0I2G0T2T0G0P0P0P0P0P0P0E0P0P0P0T0G0P0P0T0P0P0E0E0S0S0E0E0E1T0G0G0T0E1E0E0P0P0P0P0E2E0T0G0G0T0P0P0P0P0P0P0P0P1E0I0I0G0T0I0T0G1T0G1E0I0T0G0P0T0G0P\n",
      "* G0T0G0T0E0G0T0G0T0G0T0T0G2G0T1T0G0G0T0P0T0G0P0P0P0P0P0G0T0T0G2G0T1T0G0T0G0T0G0T0G0T0G0T0G0G0T0E0S0T0G1T0G2G0T2T0G0T0G0P0P0T0G0G0T0T0G2T0G0T0G2G0T0P0P0P0P0G0P0P0P0T1G0T2G0T1T0G0G0T1T0G\n"
     ]
    }
   ],
   "source": [
    "for i, k in enumerate(rd.keys()):\n",
    "    print('* {}'.format(rd[k]))\n",
    "    if i>3: break"
   ]
  },
  {
   "cell_type": "markdown",
   "metadata": {},
   "source": [
    "# Load raw data"
   ]
  },
  {
   "cell_type": "code",
   "execution_count": null,
   "metadata": {},
   "outputs": [],
   "source": [
    "def load_data(dump_files):\n",
    "    \"\"\"Extract sequences, extra info and patient id from dump pkl.\"\"\"\n",
    "    # Positive raw data load\n",
    "    raw_data = []\n",
    "    extra_info = []\n",
    "    indexes = []\n",
    "    for f in tqdm(dump_files, desc='Loading dump files'):\n",
    "        _tmp = pkl.load(open(os.path.join('..', 'tmp', f), 'rb'))\n",
    "        _raw_data, _extra_info = _tmp['raw_data'], _tmp['extra_info'].set_index('PIN')\n",
    "        for k in _extra_info.index:\n",
    "            if len(_raw_data[k])>0: # Skip empty sequences\n",
    "                raw_data.append(_raw_data[k])\n",
    "                extra_info.append([_extra_info.loc[k]['SEX'], _extra_info.loc[k]['AGE']])\n",
    "                indexes.append(k)\n",
    "            else:\n",
    "                print('empty {}'.format(k))\n",
    "    return raw_data, extra_info, indexes"
   ]
  },
  {
   "cell_type": "code",
   "execution_count": null,
   "metadata": {},
   "outputs": [],
   "source": [
    "dump_files = filter(lambda x: 'raw_data' in x, os.listdir('../tmp/'))\n",
    "positive_dump_files = filter(lambda x: 'class_1' in x, dump_files)\n",
    "negative_dump_files = filter(lambda x: 'class_0' in x, dump_files)"
   ]
  },
  {
   "cell_type": "markdown",
   "metadata": {},
   "source": [
    "Sequences should be like `['A', 8, 'M', 0, ...]` where letters are btos and numbers are weeks from one btos to another"
   ]
  },
  {
   "cell_type": "code",
   "execution_count": null,
   "metadata": {},
   "outputs": [],
   "source": [
    "pos_raw_data, pos_extra_info, pos_id = load_data(positive_dump_files)\n",
    "print(len(pos_id), 'positive samples')"
   ]
  },
  {
   "cell_type": "code",
   "execution_count": null,
   "metadata": {},
   "outputs": [],
   "source": [
    "neg_raw_data, neg_extra_info, neg_id = load_data(negative_dump_files)\n",
    "print(len(neg_id), 'negative samples')"
   ]
  },
  {
   "cell_type": "markdown",
   "metadata": {},
   "source": [
    "# EDA"
   ]
  },
  {
   "cell_type": "code",
   "execution_count": null,
   "metadata": {},
   "outputs": [],
   "source": [
    "lenghts = np.array([len(x) for x in pos_BTOS_seq])\n",
    "pos_idx595 = np.argwhere(np.logical_and(lenghts>=np.percentile(lenghts, 5), lenghts<=np.percentile(lenghts, 95))).ravel()\n",
    "pos_lenghts = lenghts[pos_idx595]\n",
    "\n",
    "plt.figure(dpi=100)\n",
    "plt.hist(pos_lenghts, bins=25)\n",
    "plt.xlabel('sequence length')\n",
    "plt.ylabel('count');"
   ]
  },
  {
   "cell_type": "code",
   "execution_count": null,
   "metadata": {},
   "outputs": [],
   "source": [
    "lenghts = np.array([len(x) for x in neg_BTOS_seq])\n",
    "neg_idx595 = np.argwhere(np.logical_and(lenghts>=np.percentile(lenghts, 5), lenghts<=np.percentile(lenghts, 95))).ravel()\n",
    "neg_lenghts = lenghts[neg_idx595]\n",
    "\n",
    "plt.figure(dpi=100)\n",
    "plt.hist(neg_lenghts, bins=25)\n",
    "plt.xlabel('sequence length')\n",
    "plt.ylabel('count');"
   ]
  },
  {
   "cell_type": "code",
   "execution_count": null,
   "metadata": {},
   "outputs": [],
   "source": [
    "import pandas as pd\n",
    "imap = pd.read_csv('../mbspbs10pc/data/imap.tsv', sep='\\t', header=0, usecols=['ITEM', 'BTOS'])\n",
    "imap.head()"
   ]
  },
  {
   "cell_type": "code",
   "execution_count": null,
   "metadata": {},
   "outputs": [],
   "source": [
    "btos = pd.read_csv('../mbspbs10pc/data/btos_details.csv', header=0)\n",
    "btos.head()"
   ]
  },
  {
   "cell_type": "code",
   "execution_count": null,
   "metadata": {},
   "outputs": [],
   "source": [
    "tmp = pd.merge(imap, btos, left_on='BTOS', right_on='BTOS (Heirarchy order)', how='left')[['ITEM', 'BTOS_x', 'BTOS_y']]\n",
    "tmp = tmp.rename({'BTOS_y': 'BTOS', 'BTOS_x': 'BTOS (Heirarchy order)'}, axis=1)\n",
    "tmp.head()"
   ]
  },
  {
   "cell_type": "code",
   "execution_count": null,
   "metadata": {},
   "outputs": [],
   "source": [
    "tmp.to_csv('../mbspbs10pc/data/imap_derived.csv')"
   ]
  },
  {
   "cell_type": "code",
   "execution_count": null,
   "metadata": {},
   "outputs": [],
   "source": [
    "str('a')"
   ]
  },
  {
   "cell_type": "code",
   "execution_count": null,
   "metadata": {},
   "outputs": [],
   "source": [
    "''.join([])"
   ]
  },
  {
   "cell_type": "code",
   "execution_count": null,
   "metadata": {},
   "outputs": [],
   "source": []
  }
 ],
 "metadata": {
  "kernelspec": {
   "display_name": "Python 2",
   "language": "python",
   "name": "python2"
  },
  "language_info": {
   "codemirror_mode": {
    "name": "ipython",
    "version": 2
   },
   "file_extension": ".py",
   "mimetype": "text/x-python",
   "name": "python",
   "nbconvert_exporter": "python",
   "pygments_lexer": "ipython2",
   "version": "2.7.14"
  }
 },
 "nbformat": 4,
 "nbformat_minor": 2
}
