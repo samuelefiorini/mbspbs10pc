{
 "cells": [
  {
   "cell_type": "code",
   "execution_count": 1,
   "metadata": {},
   "outputs": [
    {
     "name": "stderr",
     "output_type": "stream",
     "text": [
      "/home/samu/miniconda2/lib/python2.7/site-packages/h5py/__init__.py:36: FutureWarning: Conversion of the second argument of issubdtype from `float` to `np.floating` is deprecated. In future, it will be treated as `np.float64 == np.dtype(float).type`.\n",
      "  from ._conv import register_converters as _register_converters\n",
      "Using TensorFlow backend.\n"
     ]
    }
   ],
   "source": [
    "import matplotlib.pyplot as plt\n",
    "import numpy as np\n",
    "import pandas as pd\n",
    "\n",
    "from copy import copy\n",
    "from keras.layers import LSTM\n",
    "from keras import optimizers as opt\n",
    "\n",
    "from collections import Counter\n",
    "\n",
    "import mbspbs10pc.model as mbs_model\n",
    "from mbspbs10pc import read_activations, utils, mbs_online\n",
    "%matplotlib inline"
   ]
  },
  {
   "cell_type": "markdown",
   "metadata": {},
   "source": [
    "# Load data"
   ]
  },
  {
   "cell_type": "code",
   "execution_count": 2,
   "metadata": {},
   "outputs": [],
   "source": [
    "labelsfile = '../../tmp/1_METONLY_vs_METX/matched_CEM_table.csv'\n",
    "datafile = '../../tmp/item_days_raw_data_.pkl'\n",
    "dataset = utils.load_data_labels(datafile, labelsfile)\n",
    "padded_mbs_seq, padded_timestamp_seq, tokenizer = utils.tokenize(dataset)\n",
    "maxlen = padded_mbs_seq.shape[1]\n",
    "\n",
    "# Split in training, validation, test sets\n",
    "tr_set, v_set, ts_set = utils.train_validation_test_split(\n",
    "    [padded_mbs_seq, padded_timestamp_seq], dataset['Class'],\n",
    "    test_size=0.4, validation_size=0.1,\n",
    "    verbose=False, random_state0=42, random_state1=420)"
   ]
  },
  {
   "cell_type": "code",
   "execution_count": 3,
   "metadata": {},
   "outputs": [
    {
     "data": {
      "text/html": [
       "<div>\n",
       "<style scoped>\n",
       "    .dataframe tbody tr th:only-of-type {\n",
       "        vertical-align: middle;\n",
       "    }\n",
       "\n",
       "    .dataframe tbody tr th {\n",
       "        vertical-align: top;\n",
       "    }\n",
       "\n",
       "    .dataframe thead th {\n",
       "        text-align: right;\n",
       "    }\n",
       "</style>\n",
       "<table border=\"1\" class=\"dataframe\">\n",
       "  <thead>\n",
       "    <tr style=\"text-align: right;\">\n",
       "      <th></th>\n",
       "      <th>Seq</th>\n",
       "      <th>Class</th>\n",
       "      <th>mbs_seq</th>\n",
       "      <th>times_seq</th>\n",
       "    </tr>\n",
       "    <tr>\n",
       "      <th>PIN</th>\n",
       "      <th></th>\n",
       "      <th></th>\n",
       "      <th></th>\n",
       "      <th></th>\n",
       "    </tr>\n",
       "  </thead>\n",
       "  <tbody>\n",
       "    <tr>\n",
       "      <th>568483</th>\n",
       "      <td>10990 0 23 16 725 0 10990 0 10990 0 10990 0 10...</td>\n",
       "      <td>1</td>\n",
       "      <td>10990 23 725 10990 10990 10990 10993 23 85311 ...</td>\n",
       "      <td>0 16 0 0 0 0 0 15 0 0 13 0 0 0 22 0 0 0 0 0 0 ...</td>\n",
       "    </tr>\n",
       "    <tr>\n",
       "      <th>923748</th>\n",
       "      <td>66653 0 65070 0 66515 5 10962 1 105 1 56807 42...</td>\n",
       "      <td>0</td>\n",
       "      <td>66653 65070 66515 10962 105 56807 10990 23 109...</td>\n",
       "      <td>0 0 5 1 1 42 0 26 35 0 0 0 9 0 0 0 5 0 0 0 21 ...</td>\n",
       "    </tr>\n",
       "    <tr>\n",
       "      <th>2035328</th>\n",
       "      <td>66536 0 74995 0 66512 0 66551 0 66608 0 66716 ...</td>\n",
       "      <td>0</td>\n",
       "      <td>66536 74995 66512 66551 66608 66716 66560 7392...</td>\n",
       "      <td>0 0 0 0 0 0 0 9 1 10 9 138 1 3 31 24 63 0 0 0 ...</td>\n",
       "    </tr>\n",
       "    <tr>\n",
       "      <th>2239386</th>\n",
       "      <td>10991 0 23 105 73928 0 66560 0 66515 0 66551 0...</td>\n",
       "      <td>1</td>\n",
       "      <td>10991 23 73928 66560 66515 66551 66536 2517 10...</td>\n",
       "      <td>0 105 0 0 0 0 4 2 27 1 1 7 0 18 132 0 0 0 1 0 ...</td>\n",
       "    </tr>\n",
       "    <tr>\n",
       "      <th>2244533</th>\n",
       "      <td>10990 0 23 74 23 0 10990 1 73928 0 66500 0 665...</td>\n",
       "      <td>1</td>\n",
       "      <td>10990 23 23 10990 73928 66500 66560 66551 23 1...</td>\n",
       "      <td>0 74 0 1 0 0 0 2 0 87 0 1 0 0 0 0 0 2 0 6 0 8 ...</td>\n",
       "    </tr>\n",
       "  </tbody>\n",
       "</table>\n",
       "</div>"
      ],
      "text/plain": [
       "                                                       Seq  Class  \\\n",
       "PIN                                                                 \n",
       "568483   10990 0 23 16 725 0 10990 0 10990 0 10990 0 10...      1   \n",
       "923748   66653 0 65070 0 66515 5 10962 1 105 1 56807 42...      0   \n",
       "2035328  66536 0 74995 0 66512 0 66551 0 66608 0 66716 ...      0   \n",
       "2239386  10991 0 23 105 73928 0 66560 0 66515 0 66551 0...      1   \n",
       "2244533  10990 0 23 74 23 0 10990 1 73928 0 66500 0 665...      1   \n",
       "\n",
       "                                                   mbs_seq  \\\n",
       "PIN                                                          \n",
       "568483   10990 23 725 10990 10990 10990 10993 23 85311 ...   \n",
       "923748   66653 65070 66515 10962 105 56807 10990 23 109...   \n",
       "2035328  66536 74995 66512 66551 66608 66716 66560 7392...   \n",
       "2239386  10991 23 73928 66560 66515 66551 66536 2517 10...   \n",
       "2244533  10990 23 23 10990 73928 66500 66560 66551 23 1...   \n",
       "\n",
       "                                                 times_seq  \n",
       "PIN                                                         \n",
       "568483   0 16 0 0 0 0 0 15 0 0 13 0 0 0 22 0 0 0 0 0 0 ...  \n",
       "923748   0 0 5 1 1 42 0 26 35 0 0 0 9 0 0 0 5 0 0 0 21 ...  \n",
       "2035328  0 0 0 0 0 0 0 9 1 10 9 138 1 3 31 24 63 0 0 0 ...  \n",
       "2239386  0 105 0 0 0 0 4 2 27 1 1 7 0 18 132 0 0 0 1 0 ...  \n",
       "2244533  0 74 0 1 0 0 0 2 0 87 0 1 0 0 0 0 0 2 0 6 0 8 ...  "
      ]
     },
     "execution_count": 3,
     "metadata": {},
     "output_type": "execute_result"
    }
   ],
   "source": [
    "dataset.head()"
   ]
  },
  {
   "cell_type": "code",
   "execution_count": 4,
   "metadata": {},
   "outputs": [],
   "source": [
    "zero_lenghts = [len(x) for x in dataset[dataset['Class'] == 0]['mbs_seq']]\n",
    "ones_lenghts = [len(x) for x in dataset[dataset['Class'] == 1]['mbs_seq']]"
   ]
  },
  {
   "cell_type": "code",
   "execution_count": 5,
   "metadata": {},
   "outputs": [
    {
     "data": {
      "text/plain": [
       "<matplotlib.legend.Legend at 0x7ff707e0d850>"
      ]
     },
     "execution_count": 5,
     "metadata": {},
     "output_type": "execute_result"
    },
    {
     "data": {
      "image/png": "[encoded data removed]",
      "text/plain": [
       "<matplotlib.figure.Figure at 0x7ff7ac4caa10>"
      ]
     },
     "metadata": {},
     "output_type": "display_data"
    }
   ],
   "source": [
    "plt.hist(zero_lenghts, label='0', bins=50)\n",
    "plt.hist(ones_lenghts, label='1', bins=50)\n",
    "plt.legend()"
   ]
  },
  {
   "cell_type": "code",
   "execution_count": 6,
   "metadata": {},
   "outputs": [],
   "source": [
    "neg = utils.flatten([x.split(' ') for x in dataset.loc[dataset['Class'] == 0, 'mbs_seq']])\n",
    "pos = utils.flatten([x.split(' ') for x in dataset.loc[dataset['Class'] == 1, 'mbs_seq']])"
   ]
  },
  {
   "cell_type": "code",
   "execution_count": 113,
   "metadata": {},
   "outputs": [],
   "source": [
    "from __future__ import division"
   ]
  },
  {
   "cell_type": "code",
   "execution_count": 114,
   "metadata": {},
   "outputs": [],
   "source": [
    "neg_unique = utils.flatten([len(np.unique(x.split(' ')))/len(x.split(' ')) for x in dataset.loc[dataset['Class'] == 0, 'mbs_seq']])\n",
    "pos_unique = utils.flatten([len(np.unique(x.split(' ')))/len(x.split(' ')) for x in dataset.loc[dataset['Class'] == 1, 'mbs_seq']])"
   ]
  },
  {
   "cell_type": "code",
   "execution_count": 115,
   "metadata": {},
   "outputs": [
    {
     "data": {
      "text/plain": [
       "<matplotlib.legend.Legend at 0x7ff6e4065ad0>"
      ]
     },
     "execution_count": 115,
     "metadata": {},
     "output_type": "execute_result"
    },
    {
     "data": {
      "image/png": "[encoded data removed]",
      "text/plain": [
       "<matplotlib.figure.Figure at 0x7ff6e5d253d0>"
      ]
     },
     "metadata": {},
     "output_type": "display_data"
    }
   ],
   "source": [
    "plt.hist(neg_unique, label='0', bins=50)\n",
    "plt.hist(pos_unique, label='1', bins=50)\n",
    "plt.legend()"
   ]
  },
  {
   "cell_type": "code",
   "execution_count": 118,
   "metadata": {},
   "outputs": [
    {
     "data": {
      "text/plain": [
       "0.25555555555555554"
      ]
     },
     "execution_count": 118,
     "metadata": {},
     "output_type": "execute_result"
    }
   ],
   "source": [
    "np.median(neg_unique)"
   ]
  },
  {
   "cell_type": "code",
   "execution_count": 119,
   "metadata": {},
   "outputs": [
    {
     "data": {
      "text/plain": [
       "0.26277372262773724"
      ]
     },
     "execution_count": 119,
     "metadata": {},
     "output_type": "execute_result"
    }
   ],
   "source": [
    "np.median(pos_unique)"
   ]
  },
  {
   "cell_type": "code",
   "execution_count": 7,
   "metadata": {},
   "outputs": [],
   "source": [
    "neg_count = pd.DataFrame.from_dict(Counter(neg), orient='index').rename(columns={0: 'Counts'})\n",
    "pos_count = pd.DataFrame.from_dict(Counter(pos), orient='index').rename(columns={0: 'Counts'})"
   ]
  },
  {
   "cell_type": "code",
   "execution_count": 94,
   "metadata": {},
   "outputs": [
    {
     "data": {
      "text/plain": [
       "Counts    12615\n",
       "Name: 73938, dtype: int64"
      ]
     },
     "execution_count": 94,
     "metadata": {},
     "output_type": "execute_result"
    }
   ],
   "source": [
    "#neg_count.nlargest(25, columns='Counts').index.ravel()\n",
    "neg_count.loc['73938']"
   ]
  },
  {
   "cell_type": "code",
   "execution_count": 95,
   "metadata": {},
   "outputs": [
    {
     "data": {
      "text/plain": [
       "Counts    15934\n",
       "Name: 73938, dtype: int64"
      ]
     },
     "execution_count": 95,
     "metadata": {},
     "output_type": "execute_result"
    }
   ],
   "source": [
    "#pos_count.nlargest(25, columns='Counts').index.ravel()\n",
    "pos_count.loc['73938']"
   ]
  },
  {
   "cell_type": "code",
   "execution_count": 10,
   "metadata": {},
   "outputs": [],
   "source": [
    "from sklearn.feature_extraction.text import CountVectorizer\n",
    "\n",
    "bow = CountVectorizer(ngram_range=(1, 1), tokenizer=lambda x: x.split(' '))"
   ]
  },
  {
   "cell_type": "code",
   "execution_count": 11,
   "metadata": {},
   "outputs": [],
   "source": [
    "tmp = dataset['mbs_seq'].copy()"
   ]
  },
  {
   "cell_type": "code",
   "execution_count": 12,
   "metadata": {},
   "outputs": [],
   "source": [
    "for i in tmp.index:\n",
    "    tmp.loc[i] = tmp.loc[i].replace('727', '732')\n",
    "    tmp.loc[i] = tmp.loc[i].replace('725', '732')"
   ]
  },
  {
   "cell_type": "code",
   "execution_count": 26,
   "metadata": {},
   "outputs": [],
   "source": [
    "Xbow = bow.fit_transform(tmp)"
   ]
  },
  {
   "cell_type": "code",
   "execution_count": 27,
   "metadata": {},
   "outputs": [],
   "source": [
    "from sklearn.model_selection import train_test_split\n",
    "\n",
    "X_train, X_test, y_train, y_test = train_test_split(Xbow, dataset['Class'].values,\n",
    "                                                    test_size=0.4, random_state=42)"
   ]
  },
  {
   "cell_type": "code",
   "execution_count": 28,
   "metadata": {},
   "outputs": [
    {
     "data": {
      "text/plain": [
       "LogisticRegression(C=1.0, class_weight=None, dual=False, fit_intercept=True,\n",
       "          intercept_scaling=1, max_iter=100, multi_class='ovr', n_jobs=1,\n",
       "          penalty='l2', random_state=None, solver='liblinear', tol=0.0001,\n",
       "          verbose=0, warm_start=False)"
      ]
     },
     "execution_count": 28,
     "metadata": {},
     "output_type": "execute_result"
    }
   ],
   "source": [
    "from sklearn.linear_model import LogisticRegression\n",
    "\n",
    "\n",
    "lr = LogisticRegression()\n",
    "lr.fit(X_train, y_train)"
   ]
  },
  {
   "cell_type": "code",
   "execution_count": 29,
   "metadata": {},
   "outputs": [],
   "source": [
    "y_pred = lr.predict(X_test)"
   ]
  },
  {
   "cell_type": "code",
   "execution_count": 30,
   "metadata": {},
   "outputs": [
    {
     "data": {
      "text/plain": [
       "0.7044154107131206"
      ]
     },
     "execution_count": 30,
     "metadata": {},
     "output_type": "execute_result"
    }
   ],
   "source": [
    "from sklearn import metrics\n",
    "\n",
    "metrics.roc_auc_score(y_test, y_pred)"
   ]
  },
  {
   "cell_type": "code",
   "execution_count": 31,
   "metadata": {},
   "outputs": [],
   "source": [
    "word_map = {bow.vocabulary_[k]: k for k in bow.vocabulary_.keys()}"
   ]
  },
  {
   "cell_type": "code",
   "execution_count": 32,
   "metadata": {},
   "outputs": [
    {
     "data": {
      "text/plain": [
       "-2.5316932680965536"
      ]
     },
     "execution_count": 32,
     "metadata": {},
     "output_type": "execute_result"
    }
   ],
   "source": [
    "lr.coef_.ravel()[bow.vocabulary_['66833']]"
   ]
  },
  {
   "cell_type": "code",
   "execution_count": 39,
   "metadata": {},
   "outputs": [],
   "source": [
    "coef = pd.DataFrame(index=[word_map[i] for i in range(len(lr.coef_[0]))],\n",
    "                    data=lr.coef_.T, columns=['Coef'])"
   ]
  },
  {
   "cell_type": "code",
   "execution_count": 47,
   "metadata": {},
   "outputs": [
    {
     "data": {
      "text/plain": [
       "Coef    0.014195\n",
       "Name: 66608, dtype: float64"
      ]
     },
     "execution_count": 47,
     "metadata": {},
     "output_type": "execute_result"
    }
   ],
   "source": [
    "coef.loc['66608']"
   ]
  },
  {
   "cell_type": "code",
   "execution_count": null,
   "metadata": {},
   "outputs": [],
   "source": [
    "imap = pd.read_csv('')"
   ]
  },
  {
   "cell_type": "code",
   "execution_count": 41,
   "metadata": {},
   "outputs": [],
   "source": [
    "from sklearn.feature_selection import chi2\n",
    "\n",
    "stat, pval = chi2(X_train, y_train)"
   ]
  },
  {
   "cell_type": "code",
   "execution_count": 42,
   "metadata": {},
   "outputs": [],
   "source": [
    "_chi2 = pd.DataFrame(index=[word_map[i] for i in range(len(lr.coef_[0]))],\n",
    "                     data=np.vstack((stat, pval)).T, columns=['stat', 'pval'])"
   ]
  },
  {
   "cell_type": "code",
   "execution_count": 43,
   "metadata": {},
   "outputs": [],
   "source": [
    "_chi2.loc[:, 'Coef'] = coef['Coef']"
   ]
  },
  {
   "cell_type": "code",
   "execution_count": 69,
   "metadata": {},
   "outputs": [],
   "source": [
    "overall_count = Counter(utils.flatten([x.split(' ') for x in dataset['mbs_seq']]))\n",
    "overall_count = pd.DataFrame.from_dict(overall_count, orient='index').rename(columns={0: 'overall'})"
   ]
  },
  {
   "cell_type": "code",
   "execution_count": 76,
   "metadata": {},
   "outputs": [
    {
     "name": "stderr",
     "output_type": "stream",
     "text": [
      "/home/samu/miniconda2/lib/python2.7/site-packages/pandas/core/indexing.py:1020: FutureWarning: \n",
      "Passing list-likes to .loc or [] with any missing label will raise\n",
      "KeyError in the future, you can use .reindex() as an alternative.\n",
      "\n",
      "See the documentation here:\n",
      "http://pandas.pydata.org/pandas-docs/stable/indexing.html#deprecate-loc-reindex-listlike\n",
      "  return getattr(section, self.name)[new_key]\n"
     ]
    }
   ],
   "source": [
    "_chi2.loc[:, 'overall'] = overall_count.loc[_chi2.index, 'overall']"
   ]
  },
  {
   "cell_type": "code",
   "execution_count": 52,
   "metadata": {},
   "outputs": [
    {
     "data": {
      "text/plain": [
       "stat    2.981223e+01\n",
       "pval    4.759804e-08\n",
       "Coef    1.419525e-02\n",
       "Name: 66608, dtype: float64"
      ]
     },
     "execution_count": 52,
     "metadata": {},
     "output_type": "execute_result"
    }
   ],
   "source": [
    "_chi2.loc['66608']"
   ]
  },
  {
   "cell_type": "code",
   "execution_count": 100,
   "metadata": {},
   "outputs": [
    {
     "data": {
      "text/html": [
       "<div>\n",
       "<style scoped>\n",
       "    .dataframe tbody tr th:only-of-type {\n",
       "        vertical-align: middle;\n",
       "    }\n",
       "\n",
       "    .dataframe tbody tr th {\n",
       "        vertical-align: top;\n",
       "    }\n",
       "\n",
       "    .dataframe thead th {\n",
       "        text-align: right;\n",
       "    }\n",
       "</style>\n",
       "<table border=\"1\" class=\"dataframe\">\n",
       "  <thead>\n",
       "    <tr style=\"text-align: right;\">\n",
       "      <th></th>\n",
       "      <th>stat</th>\n",
       "      <th>pval</th>\n",
       "      <th>Coef</th>\n",
       "      <th>overall</th>\n",
       "    </tr>\n",
       "  </thead>\n",
       "  <tbody>\n",
       "    <tr>\n",
       "      <th>32090</th>\n",
       "      <td>1.020663</td>\n",
       "      <td>3.123619e-01</td>\n",
       "      <td>-0.739395</td>\n",
       "      <td>1007.0</td>\n",
       "    </tr>\n",
       "    <tr>\n",
       "      <th>10900</th>\n",
       "      <td>34.266055</td>\n",
       "      <td>4.806935e-09</td>\n",
       "      <td>-0.508614</td>\n",
       "      <td>6318.0</td>\n",
       "    </tr>\n",
       "    <tr>\n",
       "      <th>74998</th>\n",
       "      <td>8.155967</td>\n",
       "      <td>4.291970e-03</td>\n",
       "      <td>-0.379048</td>\n",
       "      <td>21041.0</td>\n",
       "    </tr>\n",
       "    <tr>\n",
       "      <th>74993</th>\n",
       "      <td>117.481882</td>\n",
       "      <td>2.251474e-27</td>\n",
       "      <td>-0.340230</td>\n",
       "      <td>6269.0</td>\n",
       "    </tr>\n",
       "    <tr>\n",
       "      <th>74995</th>\n",
       "      <td>486.947946</td>\n",
       "      <td>6.575193e-108</td>\n",
       "      <td>-0.322882</td>\n",
       "      <td>71766.0</td>\n",
       "    </tr>\n",
       "    <tr>\n",
       "      <th>12323</th>\n",
       "      <td>10.363589</td>\n",
       "      <td>1.285251e-03</td>\n",
       "      <td>-0.320403</td>\n",
       "      <td>1005.0</td>\n",
       "    </tr>\n",
       "    <tr>\n",
       "      <th>57963</th>\n",
       "      <td>0.020629</td>\n",
       "      <td>8.857939e-01</td>\n",
       "      <td>-0.286321</td>\n",
       "      <td>1578.0</td>\n",
       "    </tr>\n",
       "    <tr>\n",
       "      <th>10914</th>\n",
       "      <td>23.836130</td>\n",
       "      <td>1.048949e-06</td>\n",
       "      <td>-0.271676</td>\n",
       "      <td>2169.0</td>\n",
       "    </tr>\n",
       "    <tr>\n",
       "      <th>707</th>\n",
       "      <td>50.267475</td>\n",
       "      <td>1.341548e-12</td>\n",
       "      <td>-0.270169</td>\n",
       "      <td>1217.0</td>\n",
       "    </tr>\n",
       "    <tr>\n",
       "      <th>66593</th>\n",
       "      <td>6.831596</td>\n",
       "      <td>8.955918e-03</td>\n",
       "      <td>-0.262794</td>\n",
       "      <td>1077.0</td>\n",
       "    </tr>\n",
       "    <tr>\n",
       "      <th>74999</th>\n",
       "      <td>94.996129</td>\n",
       "      <td>1.907579e-22</td>\n",
       "      <td>-0.248557</td>\n",
       "      <td>11085.0</td>\n",
       "    </tr>\n",
       "    <tr>\n",
       "      <th>10915</th>\n",
       "      <td>2.842188</td>\n",
       "      <td>9.181912e-02</td>\n",
       "      <td>-0.230768</td>\n",
       "      <td>5325.0</td>\n",
       "    </tr>\n",
       "    <tr>\n",
       "      <th>74997</th>\n",
       "      <td>9.251603</td>\n",
       "      <td>2.352893e-03</td>\n",
       "      <td>-0.201604</td>\n",
       "      <td>2113.0</td>\n",
       "    </tr>\n",
       "    <tr>\n",
       "      <th>56001</th>\n",
       "      <td>4.051469</td>\n",
       "      <td>4.413292e-02</td>\n",
       "      <td>-0.176028</td>\n",
       "      <td>1227.0</td>\n",
       "    </tr>\n",
       "    <tr>\n",
       "      <th>57715</th>\n",
       "      <td>16.571497</td>\n",
       "      <td>4.684988e-05</td>\n",
       "      <td>-0.167677</td>\n",
       "      <td>1518.0</td>\n",
       "    </tr>\n",
       "    <tr>\n",
       "      <th>55038</th>\n",
       "      <td>0.192620</td>\n",
       "      <td>6.607445e-01</td>\n",
       "      <td>-0.148085</td>\n",
       "      <td>1986.0</td>\n",
       "    </tr>\n",
       "    <tr>\n",
       "      <th>71057</th>\n",
       "      <td>0.114635</td>\n",
       "      <td>7.349279e-01</td>\n",
       "      <td>-0.147633</td>\n",
       "      <td>1140.0</td>\n",
       "    </tr>\n",
       "    <tr>\n",
       "      <th>85531</th>\n",
       "      <td>11.795570</td>\n",
       "      <td>5.937182e-04</td>\n",
       "      <td>-0.143833</td>\n",
       "      <td>1835.0</td>\n",
       "    </tr>\n",
       "    <tr>\n",
       "      <th>15705</th>\n",
       "      <td>25.316208</td>\n",
       "      <td>4.866026e-07</td>\n",
       "      <td>-0.143652</td>\n",
       "      <td>1728.0</td>\n",
       "    </tr>\n",
       "    <tr>\n",
       "      <th>57509</th>\n",
       "      <td>1.491616</td>\n",
       "      <td>2.219659e-01</td>\n",
       "      <td>-0.135780</td>\n",
       "      <td>1803.0</td>\n",
       "    </tr>\n",
       "    <tr>\n",
       "      <th>721</th>\n",
       "      <td>14.812630</td>\n",
       "      <td>1.187376e-04</td>\n",
       "      <td>-0.135305</td>\n",
       "      <td>14567.0</td>\n",
       "    </tr>\n",
       "    <tr>\n",
       "      <th>55244</th>\n",
       "      <td>0.024682</td>\n",
       "      <td>8.751613e-01</td>\n",
       "      <td>-0.108498</td>\n",
       "      <td>1125.0</td>\n",
       "    </tr>\n",
       "    <tr>\n",
       "      <th>85222</th>\n",
       "      <td>29.976337</td>\n",
       "      <td>4.373510e-08</td>\n",
       "      <td>-0.105490</td>\n",
       "      <td>1666.0</td>\n",
       "    </tr>\n",
       "    <tr>\n",
       "      <th>85311</th>\n",
       "      <td>24.070047</td>\n",
       "      <td>9.289410e-07</td>\n",
       "      <td>-0.099467</td>\n",
       "      <td>1042.0</td>\n",
       "    </tr>\n",
       "    <tr>\n",
       "      <th>66599</th>\n",
       "      <td>5.512630</td>\n",
       "      <td>1.887964e-02</td>\n",
       "      <td>-0.098819</td>\n",
       "      <td>3348.0</td>\n",
       "    </tr>\n",
       "    <tr>\n",
       "      <th>42702</th>\n",
       "      <td>0.010771</td>\n",
       "      <td>9.173393e-01</td>\n",
       "      <td>-0.097612</td>\n",
       "      <td>1031.0</td>\n",
       "    </tr>\n",
       "    <tr>\n",
       "      <th>11709</th>\n",
       "      <td>0.778672</td>\n",
       "      <td>3.775477e-01</td>\n",
       "      <td>-0.093511</td>\n",
       "      <td>1143.0</td>\n",
       "    </tr>\n",
       "    <tr>\n",
       "      <th>66695</th>\n",
       "      <td>5.776899</td>\n",
       "      <td>1.623817e-02</td>\n",
       "      <td>-0.092515</td>\n",
       "      <td>1801.0</td>\n",
       "    </tr>\n",
       "    <tr>\n",
       "      <th>55808</th>\n",
       "      <td>0.167992</td>\n",
       "      <td>6.819023e-01</td>\n",
       "      <td>-0.085347</td>\n",
       "      <td>1940.0</td>\n",
       "    </tr>\n",
       "    <tr>\n",
       "      <th>10916</th>\n",
       "      <td>6.271542</td>\n",
       "      <td>1.226923e-02</td>\n",
       "      <td>-0.075655</td>\n",
       "      <td>1694.0</td>\n",
       "    </tr>\n",
       "    <tr>\n",
       "      <th>66536</th>\n",
       "      <td>30.468653</td>\n",
       "      <td>3.393051e-08</td>\n",
       "      <td>-0.075540</td>\n",
       "      <td>9112.0</td>\n",
       "    </tr>\n",
       "    <tr>\n",
       "      <th>20740</th>\n",
       "      <td>2.157738</td>\n",
       "      <td>1.418534e-01</td>\n",
       "      <td>-0.074309</td>\n",
       "      <td>1127.0</td>\n",
       "    </tr>\n",
       "    <tr>\n",
       "      <th>55116</th>\n",
       "      <td>0.004373</td>\n",
       "      <td>9.472779e-01</td>\n",
       "      <td>-0.073761</td>\n",
       "      <td>1121.0</td>\n",
       "    </tr>\n",
       "    <tr>\n",
       "      <th>597</th>\n",
       "      <td>58.944629</td>\n",
       "      <td>1.621719e-14</td>\n",
       "      <td>-0.073179</td>\n",
       "      <td>1466.0</td>\n",
       "    </tr>\n",
       "    <tr>\n",
       "      <th>74996</th>\n",
       "      <td>21.452327</td>\n",
       "      <td>3.627356e-06</td>\n",
       "      <td>-0.061395</td>\n",
       "      <td>4493.0</td>\n",
       "    </tr>\n",
       "    <tr>\n",
       "      <th>73053</th>\n",
       "      <td>5.581268</td>\n",
       "      <td>1.815358e-02</td>\n",
       "      <td>-0.055798</td>\n",
       "      <td>1914.0</td>\n",
       "    </tr>\n",
       "    <tr>\n",
       "      <th>5040</th>\n",
       "      <td>1.796665</td>\n",
       "      <td>1.801163e-01</td>\n",
       "      <td>-0.052895</td>\n",
       "      <td>1223.0</td>\n",
       "    </tr>\n",
       "    <tr>\n",
       "      <th>65096</th>\n",
       "      <td>1.556040</td>\n",
       "      <td>2.122459e-01</td>\n",
       "      <td>-0.051877</td>\n",
       "      <td>1118.0</td>\n",
       "    </tr>\n",
       "    <tr>\n",
       "      <th>58106</th>\n",
       "      <td>2.127632</td>\n",
       "      <td>1.446641e-01</td>\n",
       "      <td>-0.051044</td>\n",
       "      <td>1482.0</td>\n",
       "    </tr>\n",
       "    <tr>\n",
       "      <th>85521</th>\n",
       "      <td>17.576154</td>\n",
       "      <td>2.760281e-05</td>\n",
       "      <td>-0.049801</td>\n",
       "      <td>1557.0</td>\n",
       "    </tr>\n",
       "    <tr>\n",
       "      <th>71097</th>\n",
       "      <td>0.058492</td>\n",
       "      <td>8.088956e-01</td>\n",
       "      <td>-0.047467</td>\n",
       "      <td>1393.0</td>\n",
       "    </tr>\n",
       "    <tr>\n",
       "      <th>85012</th>\n",
       "      <td>8.658612</td>\n",
       "      <td>3.255192e-03</td>\n",
       "      <td>-0.046298</td>\n",
       "      <td>1472.0</td>\n",
       "    </tr>\n",
       "    <tr>\n",
       "      <th>66656</th>\n",
       "      <td>0.668350</td>\n",
       "      <td>4.136276e-01</td>\n",
       "      <td>-0.041807</td>\n",
       "      <td>4607.0</td>\n",
       "    </tr>\n",
       "    <tr>\n",
       "      <th>10940</th>\n",
       "      <td>10.205769</td>\n",
       "      <td>1.400020e-03</td>\n",
       "      <td>-0.041081</td>\n",
       "      <td>1225.0</td>\n",
       "    </tr>\n",
       "    <tr>\n",
       "      <th>11503</th>\n",
       "      <td>0.256341</td>\n",
       "      <td>6.126454e-01</td>\n",
       "      <td>-0.038835</td>\n",
       "      <td>1107.0</td>\n",
       "    </tr>\n",
       "    <tr>\n",
       "      <th>56507</th>\n",
       "      <td>0.634521</td>\n",
       "      <td>4.257017e-01</td>\n",
       "      <td>-0.038216</td>\n",
       "      <td>1544.0</td>\n",
       "    </tr>\n",
       "    <tr>\n",
       "      <th>732</th>\n",
       "      <td>74.693187</td>\n",
       "      <td>5.498554e-18</td>\n",
       "      <td>-0.037047</td>\n",
       "      <td>17577.0</td>\n",
       "    </tr>\n",
       "    <tr>\n",
       "      <th>133</th>\n",
       "      <td>0.091169</td>\n",
       "      <td>7.626967e-01</td>\n",
       "      <td>-0.035756</td>\n",
       "      <td>1600.0</td>\n",
       "    </tr>\n",
       "    <tr>\n",
       "      <th>69306</th>\n",
       "      <td>2.091972</td>\n",
       "      <td>1.480748e-01</td>\n",
       "      <td>-0.032944</td>\n",
       "      <td>1605.0</td>\n",
       "    </tr>\n",
       "    <tr>\n",
       "      <th>105</th>\n",
       "      <td>0.440126</td>\n",
       "      <td>5.070615e-01</td>\n",
       "      <td>-0.027395</td>\n",
       "      <td>25731.0</td>\n",
       "    </tr>\n",
       "  </tbody>\n",
       "</table>\n",
       "</div>"
      ],
      "text/plain": [
       "             stat           pval      Coef  overall\n",
       "32090    1.020663   3.123619e-01 -0.739395   1007.0\n",
       "10900   34.266055   4.806935e-09 -0.508614   6318.0\n",
       "74998    8.155967   4.291970e-03 -0.379048  21041.0\n",
       "74993  117.481882   2.251474e-27 -0.340230   6269.0\n",
       "74995  486.947946  6.575193e-108 -0.322882  71766.0\n",
       "12323   10.363589   1.285251e-03 -0.320403   1005.0\n",
       "57963    0.020629   8.857939e-01 -0.286321   1578.0\n",
       "10914   23.836130   1.048949e-06 -0.271676   2169.0\n",
       "707     50.267475   1.341548e-12 -0.270169   1217.0\n",
       "66593    6.831596   8.955918e-03 -0.262794   1077.0\n",
       "74999   94.996129   1.907579e-22 -0.248557  11085.0\n",
       "10915    2.842188   9.181912e-02 -0.230768   5325.0\n",
       "74997    9.251603   2.352893e-03 -0.201604   2113.0\n",
       "56001    4.051469   4.413292e-02 -0.176028   1227.0\n",
       "57715   16.571497   4.684988e-05 -0.167677   1518.0\n",
       "55038    0.192620   6.607445e-01 -0.148085   1986.0\n",
       "71057    0.114635   7.349279e-01 -0.147633   1140.0\n",
       "85531   11.795570   5.937182e-04 -0.143833   1835.0\n",
       "15705   25.316208   4.866026e-07 -0.143652   1728.0\n",
       "57509    1.491616   2.219659e-01 -0.135780   1803.0\n",
       "721     14.812630   1.187376e-04 -0.135305  14567.0\n",
       "55244    0.024682   8.751613e-01 -0.108498   1125.0\n",
       "85222   29.976337   4.373510e-08 -0.105490   1666.0\n",
       "85311   24.070047   9.289410e-07 -0.099467   1042.0\n",
       "66599    5.512630   1.887964e-02 -0.098819   3348.0\n",
       "42702    0.010771   9.173393e-01 -0.097612   1031.0\n",
       "11709    0.778672   3.775477e-01 -0.093511   1143.0\n",
       "66695    5.776899   1.623817e-02 -0.092515   1801.0\n",
       "55808    0.167992   6.819023e-01 -0.085347   1940.0\n",
       "10916    6.271542   1.226923e-02 -0.075655   1694.0\n",
       "66536   30.468653   3.393051e-08 -0.075540   9112.0\n",
       "20740    2.157738   1.418534e-01 -0.074309   1127.0\n",
       "55116    0.004373   9.472779e-01 -0.073761   1121.0\n",
       "597     58.944629   1.621719e-14 -0.073179   1466.0\n",
       "74996   21.452327   3.627356e-06 -0.061395   4493.0\n",
       "73053    5.581268   1.815358e-02 -0.055798   1914.0\n",
       "5040     1.796665   1.801163e-01 -0.052895   1223.0\n",
       "65096    1.556040   2.122459e-01 -0.051877   1118.0\n",
       "58106    2.127632   1.446641e-01 -0.051044   1482.0\n",
       "85521   17.576154   2.760281e-05 -0.049801   1557.0\n",
       "71097    0.058492   8.088956e-01 -0.047467   1393.0\n",
       "85012    8.658612   3.255192e-03 -0.046298   1472.0\n",
       "66656    0.668350   4.136276e-01 -0.041807   4607.0\n",
       "10940   10.205769   1.400020e-03 -0.041081   1225.0\n",
       "11503    0.256341   6.126454e-01 -0.038835   1107.0\n",
       "56507    0.634521   4.257017e-01 -0.038216   1544.0\n",
       "732     74.693187   5.498554e-18 -0.037047  17577.0\n",
       "133      0.091169   7.626967e-01 -0.035756   1600.0\n",
       "69306    2.091972   1.480748e-01 -0.032944   1605.0\n",
       "105      0.440126   5.070615e-01 -0.027395  25731.0"
      ]
     },
     "execution_count": 100,
     "metadata": {},
     "output_type": "execute_result"
    }
   ],
   "source": [
    "_chi2.loc[_chi2['overall'] > 1000,:].sort_values(by='Coef', ascending=True).head(50)"
   ]
  },
  {
   "cell_type": "markdown",
   "metadata": {},
   "source": [
    "Basic counter"
   ]
  },
  {
   "cell_type": "code",
   "execution_count": null,
   "metadata": {},
   "outputs": [],
   "source": [
    "ll = utils.flatten([x.split(' ') for x in dataset['mbs_seq'].values.ravel()])\n",
    "dd = pd.DataFrame.from_dict(Counter(ll), orient='index').rename(columns={0: 'Counts'})"
   ]
  },
  {
   "cell_type": "code",
   "execution_count": null,
   "metadata": {},
   "outputs": [],
   "source": [
    "dd.nlargest(10, columns='Counts')"
   ]
  },
  {
   "cell_type": "code",
   "execution_count": null,
   "metadata": {},
   "outputs": [],
   "source": [
    "# x = tr_set[0][0]\n",
    "# t = tr_set[0][1].squeeze()"
   ]
  },
  {
   "cell_type": "code",
   "execution_count": null,
   "metadata": {},
   "outputs": [],
   "source": [
    "# Build an inverse word map\n",
    "word_map = {tokenizer.word_index[k]: k for k in tokenizer.word_index.keys()}\n",
    "word_map[0] = 0"
   ]
  },
  {
   "cell_type": "code",
   "execution_count": null,
   "metadata": {},
   "outputs": [],
   "source": [
    "item_map = pd.read_csv('../../mbspbs10pc/data/item_map.tsv', sep='\\t', header=0, index_col=0,\n",
    "                      usecols=['ITEM', 'Mapped_Item_Desc', 'CATEGORY_DESC'])\n",
    "item_map.loc[0, :] = ['', '']\n",
    "item_map.head()"
   ]
  },
  {
   "cell_type": "markdown",
   "metadata": {},
   "source": [
    "# Load model"
   ]
  },
  {
   "cell_type": "code",
   "execution_count": null,
   "metadata": {},
   "outputs": [],
   "source": [
    "model = mbs_model.build_model(mbs_input_shape=(maxlen,),\n",
    "                              timestamp_input_shape=(maxlen, 1),\n",
    "                              vocabulary_size=2774,\n",
    "                              embedding_size=50,\n",
    "                              recurrent_units=32,\n",
    "                              dense_units=32,\n",
    "                              bidirectional=True,\n",
    "                              LSTMLayer=LSTM)\n",
    "\n",
    "model.load_weights('../../tmp/single_run/proposed_auc_879/output_weights.h5')"
   ]
  },
  {
   "cell_type": "markdown",
   "metadata": {},
   "source": [
    "# Visualize the attention weights"
   ]
  },
  {
   "cell_type": "code",
   "execution_count": null,
   "metadata": {},
   "outputs": [],
   "source": [
    "D = copy(ts_set)\n",
    "\n",
    "alpha = read_activations.get_activations(model, D[0], print_shape_only=True, layer_name='tsg_attention')[0]\n",
    "omega = read_activations.get_activations(model, D[0], print_shape_only=True, layer_name='contribution')[0]"
   ]
  },
  {
   "cell_type": "code",
   "execution_count": null,
   "metadata": {},
   "outputs": [],
   "source": [
    "W_fc = model.get_layer(name='fc').get_weights()[0]\n",
    "W_out = model.get_layer(name='fc_output').get_weights()[0]\n",
    "W = W_fc.dot(W_out)  # 50 x 1\n",
    "We = model.get_layer(name='mbs_embedding').get_weights()[0]  # 2774 x 50\n",
    "w = We[D[0][0]].dot(W).squeeze()  # 6341 x 445\n",
    "print(w.shape)"
   ]
  },
  {
   "cell_type": "code",
   "execution_count": null,
   "metadata": {},
   "outputs": [],
   "source": [
    "# avg_alpha = np.mean(alpha, axis=-1).squeeze()\n",
    "avg_omega = np.mean(omega, axis=-1).squeeze()\n",
    "avg_omega.shape"
   ]
  },
  {
   "cell_type": "code",
   "execution_count": null,
   "metadata": {},
   "outputs": [],
   "source": [
    "c = w * avg_omega\n",
    "print(c.shape)"
   ]
  },
  {
   "cell_type": "code",
   "execution_count": null,
   "metadata": {},
   "outputs": [],
   "source": [
    "neg = np.where(D[1] == 0)[0]\n",
    "pos = np.where(D[1] == 1)[0]"
   ]
  },
  {
   "cell_type": "markdown",
   "metadata": {},
   "source": [
    "Group class attention:"
   ]
  },
  {
   "cell_type": "code",
   "execution_count": null,
   "metadata": {},
   "outputs": [],
   "source": [
    "def zero_to_nan(row, p=75):\n",
    "    out = np.array(row)\n",
    "    _idx = np.where(np.abs(row) < np.percentile(np.abs(row), p))[0]\n",
    "    out[_idx] = float('nan')\n",
    "    return out\n",
    "\n",
    "\n",
    "xaxis = np.arange(avg_omega.shape[1])\n",
    "\n",
    "plt.figure(figsize=(14, 8))\n",
    "plt.subplot(2,1,1)\n",
    "for i in pos[:100]:\n",
    "    plt.plot(xaxis, zero_to_nan(c[i, :].T), '.', color='C1')\n",
    "plt.plot(xaxis, np.zeros_like(xaxis), '--', color='k', linewidth=0.5)\n",
    "# plt.xlim([150, 250])\n",
    "plt.ylim([-6, 6])\n",
    "plt.title('positive samples')\n",
    "\n",
    "plt.subplot(2,1,2)\n",
    "for i in neg[:100]:\n",
    "    plt.plot(xaxis, zero_to_nan(c[i, :].T), '.', color='C2')\n",
    "plt.plot(xaxis, np.zeros_like(xaxis), '--', color='k', linewidth=0.5)\n",
    "# plt.xlim([150, 250])\n",
    "plt.ylim([-6, 6])\n",
    "plt.title('negative samples')\n",
    "\n",
    "plt.tight_layout();"
   ]
  },
  {
   "cell_type": "markdown",
   "metadata": {},
   "source": [
    "Single attention:"
   ]
  },
  {
   "cell_type": "code",
   "execution_count": null,
   "metadata": {},
   "outputs": [],
   "source": [
    "def attention_viz(i, color='C0'):\n",
    "    # Load the mbs sequence from the dataset\n",
    "    tokenized_seq = D[0][0][i]\n",
    "    mbs_seq = np.array([word_map[tk] for tk in tokenized_seq])\n",
    "    \n",
    "    # Retrieve the corresponding attention vector\n",
    "    attention = c[i].squeeze()\n",
    "    \n",
    "    # Filter out small attentions\n",
    "    _idx = np.where(np.abs(attention) >= np.percentile(np.abs(attention), 75))[0]\n",
    "    axis = np.arange(len(_idx))\n",
    "    \n",
    "    plt.bar(axis, attention[_idx], color=color)\n",
    "    plt.xticks(axis, mbs_seq[_idx], rotation='vertical', fontsize=15)\n",
    "    plt.yticks(fontsize=15)\n",
    "    plt.title('Subj id: {} [class {}]'.format(i, D[1][i]), fontsize=15)\n",
    "    plt.tight_layout();\n",
    "    \n",
    "\n",
    "plt.figure(dpi=100, figsize=(20, 12))\n",
    "\n",
    "plt.subplot(211)\n",
    "attention_viz(1000, color='C0')\n",
    "\n",
    "plt.subplot(212)\n",
    "attention_viz(10, color='C1')"
   ]
  },
  {
   "cell_type": "markdown",
   "metadata": {},
   "source": [
    "## Which MBS items get more attention?"
   ]
  },
  {
   "cell_type": "code",
   "execution_count": null,
   "metadata": {},
   "outputs": [],
   "source": [
    "from tqdm import tqdm, trange\n",
    "\n",
    "def get_MBS_attention():\n",
    "    # Save absolute value of attention level for each MBS item\n",
    "    attention_dict = {}\n",
    "    for i in trange(D[0][0].shape[0]):\n",
    "        # Load the mbs sequence from the dataset\n",
    "        tokenized_seq = D[0][0][i]\n",
    "        mbs_seq = np.array([word_map[tk] for tk in tokenized_seq])\n",
    "        \n",
    "        # Retrieve the corresponding attention vector\n",
    "        attention = np.abs(c[i].squeeze())\n",
    "        \n",
    "        # Keep nonzero only\n",
    "        nz = np.where(mbs_seq != '0')[0]\n",
    "        mbs_seq, attention = mbs_seq[nz], attention[nz]\n",
    "        \n",
    "        # Keep only the TOP 5%\n",
    "        top_idx = np.where(attention >= np.percentile(attention, 75))[0]\n",
    "        mbs_seq, attention = mbs_seq[top_idx], attention[top_idx]\n",
    "\n",
    "        # Update the dict\n",
    "        for item, att in zip(mbs_seq, attention):\n",
    "            if item in attention_dict:\n",
    "                attention_dict[item].append(att)\n",
    "            else:\n",
    "                attention_dict[item] = [att]\n",
    "    \n",
    "    return attention_dict\n",
    "\n",
    "attention = get_MBS_attention()\n",
    "print(len(attention.keys()))"
   ]
  },
  {
   "cell_type": "code",
   "execution_count": null,
   "metadata": {},
   "outputs": [],
   "source": [
    "lenghts = [len(attention[k]) for k in attention.keys()]\n",
    "np.percentile(lenghts, 50)"
   ]
  },
  {
   "cell_type": "code",
   "execution_count": null,
   "metadata": {},
   "outputs": [],
   "source": [
    "K = 100\n",
    "filtered_attention = {}\n",
    "for k in attention.keys():\n",
    "    curr_att = np.array(attention[k])\n",
    "    if len(curr_att) >= K:\n",
    "        idx = np.arange(K)\n",
    "        np.random.shuffle(idx)\n",
    "        filtered_attention[k] = curr_att[idx]\n",
    "print(len(filtered_attention.keys()))"
   ]
  },
  {
   "cell_type": "code",
   "execution_count": null,
   "metadata": {},
   "outputs": [],
   "source": [
    "avg_attention = {k: np.sum(filtered_attention[k]) for k in filtered_attention.keys()}\n",
    "dfa = pd.DataFrame(data=avg_attention.values(), index=avg_attention.keys(), columns=['Attention_overall'])\n",
    "dfa['Mapped_Item_Desc'] = [item_map.loc[i, 'Mapped_Item_Desc'] for i in map(int, dfa.index)]\n",
    "dfa['CATEGORY_DESC'] = [item_map.loc[i, 'CATEGORY_DESC'] for i in map(int, dfa.index)]"
   ]
  },
  {
   "cell_type": "code",
   "execution_count": null,
   "metadata": {},
   "outputs": [],
   "source": [
    "dfa.nlargest(25, columns='Attention_overall')"
   ]
  },
  {
   "cell_type": "code",
   "execution_count": null,
   "metadata": {},
   "outputs": [],
   "source": [
    "item = 66551\n",
    "dfa.loc[str(item)]['Mapped_Item_Desc']"
   ]
  },
  {
   "cell_type": "markdown",
   "metadata": {},
   "source": [
    "# Embedding viz"
   ]
  },
  {
   "cell_type": "code",
   "execution_count": null,
   "metadata": {},
   "outputs": [],
   "source": [
    "X = read_activations.get_activations(model, D[0], print_shape_only=True, layer_name='pooling')[0]"
   ]
  },
  {
   "cell_type": "code",
   "execution_count": null,
   "metadata": {},
   "outputs": [],
   "source": [
    "from sklearn.decomposition import PCA\n",
    "from mpl_toolkits.mplot3d import Axes3D\n",
    "\n",
    "X_r = PCA(n_components=3).fit_transform(X)"
   ]
  },
  {
   "cell_type": "code",
   "execution_count": null,
   "metadata": {},
   "outputs": [],
   "source": [
    "%matplotlib inline\n",
    "MAX = 250\n",
    "\n",
    "fig = plt.figure()\n",
    "ax = fig.add_subplot(111, projection='3d')\n",
    "\n",
    "ax.scatter(X_r[pos[:MAX], 0], X_r[pos[:MAX], 1], X_r[pos[:MAX], 2], c='C0', label='pos')\n",
    "ax.scatter(X_r[neg[:MAX], 0], X_r[neg[:MAX], 1], X_r[pos[:MAX], 2], c='C1', label='neg')\n",
    "plt.legend();"
   ]
  },
  {
   "cell_type": "code",
   "execution_count": null,
   "metadata": {},
   "outputs": [],
   "source": []
  },
  {
   "cell_type": "code",
   "execution_count": null,
   "metadata": {},
   "outputs": [],
   "source": []
  }
 ],
 "metadata": {
  "kernelspec": {
   "display_name": "Python 2",
   "language": "python",
   "name": "python2"
  },
  "language_info": {
   "codemirror_mode": {
    "name": "ipython",
    "version": 2
   },
   "file_extension": ".py",
   "mimetype": "text/x-python",
   "name": "python",
   "nbconvert_exporter": "python",
   "pygments_lexer": "ipython2",
   "version": "2.7.14"
  }
 },
 "nbformat": 4,
 "nbformat_minor": 2
}
