{
 "cells": [
  {
   "cell_type": "code",
   "execution_count": 27,
   "metadata": {},
   "outputs": [],
   "source": [
    "from __future__ import division\n",
    "import cPickle as pkl\n",
    "import matplotlib.pyplot as plt\n",
    "from multiprocessing import Pool\n",
    "import numpy as np\n",
    "import os\n",
    "import pandas as pd\n",
    "from tqdm import tqdm\n",
    "%matplotlib inline"
   ]
  },
  {
   "cell_type": "code",
   "execution_count": 28,
   "metadata": {},
   "outputs": [],
   "source": [
    "import warnings\n",
    "warnings.filterwarnings('ignore')"
   ]
  },
  {
   "cell_type": "markdown",
   "metadata": {},
   "source": [
    "# Quick inspection"
   ]
  },
  {
   "cell_type": "code",
   "execution_count": 29,
   "metadata": {},
   "outputs": [],
   "source": [
    "cc = pkl.load(open('../tmp/dump_2009_class_1__raw_data_.pkl','rb'))\n",
    "rd, ei = cc['raw_data'], cc['extra_info']"
   ]
  },
  {
   "cell_type": "code",
   "execution_count": 30,
   "metadata": {},
   "outputs": [
    {
     "data": {
      "image/png": "[encoded data removed]",
      "text/plain": [
       "<matplotlib.figure.Figure at 0x7fdfdc32fb50>"
      ]
     },
     "metadata": {},
     "output_type": "display_data"
    }
   ],
   "source": [
    "lenghts = [len(rd[k]) for k in rd.keys()]\n",
    "\n",
    "plt.figure(dpi=100)\n",
    "plt.hist(lenghts, bins=25)\n",
    "plt.xlabel('sequence length')\n",
    "plt.ylabel('count');"
   ]
  },
  {
   "cell_type": "code",
   "execution_count": 31,
   "metadata": {},
   "outputs": [
    {
     "name": "stdout",
     "output_type": "stream",
     "text": [
      "* G0T0G0T1G0T2G0T2T0G2G0T0G0T2G0T2G0T1P0P0G0T0P0P0P0P0T0T0B0P0P0P0P0I0T0G0T0B0P0P0G0T0I0I0I0I0B0T0T0G1P0P0P0P0B0I1G0T0T0G0B0G0T0P0P0T0G0B0P0P0E0E\n",
      "* T0G1T0G2P0P0T0G0P0P0T0P0P0G0T0G0T0G0G0T2G0T0G0T0G0T0G0T2T0G0G0T0G0T0G0T0T0G0T0G2L0T0T0G0G2G0T0G0T0T0G0P0P0P0P0G0T2G0T0T0G0I0G0T0I0I0T0G0I0T0G0T0G0L0L0L0L0I0L0L0L0L0L0L0L0L0L0L0L0L0L0L0O0L0L0L0L0L0E0L0L0G0T0L0L0L0T0G1I0I0I0H0P0P0T0G0P0L0L0L0G0T2L1L0L0T0G0P0P0P0P0G0G0T0T0P0T0L0G0T\n",
      "* O0O2G3P0P0P0P0G2G0P0P0P0G0T0G3G0G0E1S0E0S0S0G2G0S0P0S0P0E0E0I0G1P0P\n",
      "* T0G0P0P0P0P0T0G1O0G0T0T0E0T0G0T0T0G0G1L0G0T0E0S0S0G0T0G0T1O0T0G3P0P0P0T0G0L0O0T0G0T0T1T0G0P0P0P0T0I0E0E0T0G0O0I0S0E0T0G0G0T0P0P0P0P0E0T0G0G0T0T0G0L0L0L0L0L0L0L0L0L0E0T0G0G0T0T0T0G0G1G0T0O0T0G0L0T0G0E0T0P0P0P0G0P0E0G0T0O0T0G0G0T0G0T0T0G0G0G0T0T0D0T0G0T0E0P0P0P0P0T0G0O0G0T0T0G0T0G0L0G0T0L0L0L0T0G0O0E0E0P0P0P0P0P0P0G0T0P0T0G1G0T0G0T0G0T0T0G0O0T0G0O\n",
      "* P0P0P0P0G0G0T0T0E0E0E0E0P0P0E0P0E2T0G2G0T0T0G3G0T0P0P0T0T0T0G0P0P0P0P0I0I0G0P0P0T0E0P0P0T0G0P0P0P0P0P0P0T0E0T0G0P0P0T0G1P0P1P0P1E0T0G0P0P0P1T0G0G0T0P0P1P0P2P0P1P0P1P0P1P0P0P0G0P0I0T0P0G0T1P0P1P0P0T0G0T0G0P0P0P0P0P0P0P0P\n"
     ]
    }
   ],
   "source": [
    "for i, k in enumerate(rd.keys()):\n",
    "    print('* {}'.format(rd[k]))\n",
    "    if i>3: break"
   ]
  },
  {
   "cell_type": "code",
   "execution_count": 32,
   "metadata": {},
   "outputs": [
    {
     "data": {
      "text/html": [
       "<div>\n",
       "<style scoped>\n",
       "    .dataframe tbody tr th:only-of-type {\n",
       "        vertical-align: middle;\n",
       "    }\n",
       "\n",
       "    .dataframe tbody tr th {\n",
       "        vertical-align: top;\n",
       "    }\n",
       "\n",
       "    .dataframe thead th {\n",
       "        text-align: right;\n",
       "    }\n",
       "</style>\n",
       "<table border=\"1\" class=\"dataframe\">\n",
       "  <thead>\n",
       "    <tr style=\"text-align: right;\">\n",
       "      <th></th>\n",
       "      <th>SEX</th>\n",
       "      <th>AGE</th>\n",
       "      <th>SPPLY_DT</th>\n",
       "      <th>YOB</th>\n",
       "      <th>AVG_AGE</th>\n",
       "      <th>PINSTATE</th>\n",
       "    </tr>\n",
       "    <tr>\n",
       "      <th>PIN</th>\n",
       "      <th></th>\n",
       "      <th></th>\n",
       "      <th></th>\n",
       "      <th></th>\n",
       "      <th></th>\n",
       "      <th></th>\n",
       "    </tr>\n",
       "  </thead>\n",
       "  <tbody>\n",
       "    <tr>\n",
       "      <th>5702548244</th>\n",
       "      <td>F</td>\n",
       "      <td>79</td>\n",
       "      <td>2009-10-10</td>\n",
       "      <td>1939</td>\n",
       "      <td>69.400000</td>\n",
       "      <td>2.0</td>\n",
       "    </tr>\n",
       "    <tr>\n",
       "      <th>1745182723</th>\n",
       "      <td>F</td>\n",
       "      <td>52</td>\n",
       "      <td>2009-05-22</td>\n",
       "      <td>1966</td>\n",
       "      <td>42.500000</td>\n",
       "      <td>1.0</td>\n",
       "    </tr>\n",
       "    <tr>\n",
       "      <th>8023334750</th>\n",
       "      <td>F</td>\n",
       "      <td>82</td>\n",
       "      <td>2009-10-29</td>\n",
       "      <td>1936</td>\n",
       "      <td>72.650000</td>\n",
       "      <td>2.0</td>\n",
       "    </tr>\n",
       "    <tr>\n",
       "      <th>1047756805</th>\n",
       "      <td>M</td>\n",
       "      <td>75</td>\n",
       "      <td>2009-07-08</td>\n",
       "      <td>1943</td>\n",
       "      <td>65.558824</td>\n",
       "      <td>2.0</td>\n",
       "    </tr>\n",
       "    <tr>\n",
       "      <th>9267568649</th>\n",
       "      <td>M</td>\n",
       "      <td>91</td>\n",
       "      <td>2009-12-22</td>\n",
       "      <td>1927</td>\n",
       "      <td>81.752874</td>\n",
       "      <td>2.0</td>\n",
       "    </tr>\n",
       "  </tbody>\n",
       "</table>\n",
       "</div>"
      ],
      "text/plain": [
       "           SEX  AGE    SPPLY_DT   YOB    AVG_AGE  PINSTATE\n",
       "PIN                                                       \n",
       "5702548244   F   79  2009-10-10  1939  69.400000       2.0\n",
       "1745182723   F   52  2009-05-22  1966  42.500000       1.0\n",
       "8023334750   F   82  2009-10-29  1936  72.650000       2.0\n",
       "1047756805   M   75  2009-07-08  1943  65.558824       2.0\n",
       "9267568649   M   91  2009-12-22  1927  81.752874       2.0"
      ]
     },
     "execution_count": 32,
     "metadata": {},
     "output_type": "execute_result"
    }
   ],
   "source": [
    "ei.head()"
   ]
  },
  {
   "cell_type": "code",
   "execution_count": 16,
   "metadata": {},
   "outputs": [
    {
     "data": {
      "text/html": [
       "<div>\n",
       "<style scoped>\n",
       "    .dataframe tbody tr th:only-of-type {\n",
       "        vertical-align: middle;\n",
       "    }\n",
       "\n",
       "    .dataframe tbody tr th {\n",
       "        vertical-align: top;\n",
       "    }\n",
       "\n",
       "    .dataframe thead th {\n",
       "        text-align: right;\n",
       "    }\n",
       "</style>\n",
       "<table border=\"1\" class=\"dataframe\">\n",
       "  <thead>\n",
       "    <tr style=\"text-align: right;\">\n",
       "      <th></th>\n",
       "      <th>SEX</th>\n",
       "      <th>AGE</th>\n",
       "      <th>SPPLY_DT</th>\n",
       "      <th>YOB</th>\n",
       "      <th>AVG_AGE</th>\n",
       "      <th>PINSTATE</th>\n",
       "    </tr>\n",
       "    <tr>\n",
       "      <th>PIN</th>\n",
       "      <th></th>\n",
       "      <th></th>\n",
       "      <th></th>\n",
       "      <th></th>\n",
       "      <th></th>\n",
       "      <th></th>\n",
       "    </tr>\n",
       "  </thead>\n",
       "  <tbody>\n",
       "    <tr>\n",
       "      <th>9318507380</th>\n",
       "      <td>M</td>\n",
       "      <td>44</td>\n",
       "      <td>2009-05-23</td>\n",
       "      <td>1974</td>\n",
       "      <td>NaN</td>\n",
       "      <td>NaN</td>\n",
       "    </tr>\n",
       "    <tr>\n",
       "      <th>5493893173</th>\n",
       "      <td>M</td>\n",
       "      <td>50</td>\n",
       "      <td>2009-05-05</td>\n",
       "      <td>1968</td>\n",
       "      <td>NaN</td>\n",
       "      <td>NaN</td>\n",
       "    </tr>\n",
       "    <tr>\n",
       "      <th>2936424533</th>\n",
       "      <td>F</td>\n",
       "      <td>81</td>\n",
       "      <td>2009-08-24</td>\n",
       "      <td>1937</td>\n",
       "      <td>NaN</td>\n",
       "      <td>NaN</td>\n",
       "    </tr>\n",
       "    <tr>\n",
       "      <th>4936542896</th>\n",
       "      <td>M</td>\n",
       "      <td>35</td>\n",
       "      <td>2009-08-17</td>\n",
       "      <td>1983</td>\n",
       "      <td>NaN</td>\n",
       "      <td>NaN</td>\n",
       "    </tr>\n",
       "    <tr>\n",
       "      <th>106188827</th>\n",
       "      <td>M</td>\n",
       "      <td>88</td>\n",
       "      <td>2009-04-28</td>\n",
       "      <td>1930</td>\n",
       "      <td>NaN</td>\n",
       "      <td>NaN</td>\n",
       "    </tr>\n",
       "    <tr>\n",
       "      <th>9489084545</th>\n",
       "      <td>M</td>\n",
       "      <td>90</td>\n",
       "      <td>2009-05-24</td>\n",
       "      <td>1928</td>\n",
       "      <td>NaN</td>\n",
       "      <td>NaN</td>\n",
       "    </tr>\n",
       "    <tr>\n",
       "      <th>4659760611</th>\n",
       "      <td>F</td>\n",
       "      <td>92</td>\n",
       "      <td>2009-02-09</td>\n",
       "      <td>1926</td>\n",
       "      <td>NaN</td>\n",
       "      <td>NaN</td>\n",
       "    </tr>\n",
       "    <tr>\n",
       "      <th>1040687317</th>\n",
       "      <td>M</td>\n",
       "      <td>66</td>\n",
       "      <td>2009-06-06</td>\n",
       "      <td>1952</td>\n",
       "      <td>NaN</td>\n",
       "      <td>NaN</td>\n",
       "    </tr>\n",
       "    <tr>\n",
       "      <th>1688466373</th>\n",
       "      <td>F</td>\n",
       "      <td>86</td>\n",
       "      <td>2009-05-08</td>\n",
       "      <td>1932</td>\n",
       "      <td>NaN</td>\n",
       "      <td>NaN</td>\n",
       "    </tr>\n",
       "    <tr>\n",
       "      <th>9730898050</th>\n",
       "      <td>M</td>\n",
       "      <td>59</td>\n",
       "      <td>2009-01-15</td>\n",
       "      <td>1959</td>\n",
       "      <td>NaN</td>\n",
       "      <td>NaN</td>\n",
       "    </tr>\n",
       "    <tr>\n",
       "      <th>6900133675</th>\n",
       "      <td>M</td>\n",
       "      <td>94</td>\n",
       "      <td>2009-01-09</td>\n",
       "      <td>1924</td>\n",
       "      <td>NaN</td>\n",
       "      <td>NaN</td>\n",
       "    </tr>\n",
       "    <tr>\n",
       "      <th>9498712575</th>\n",
       "      <td>M</td>\n",
       "      <td>16</td>\n",
       "      <td>2009-09-16</td>\n",
       "      <td>2002</td>\n",
       "      <td>NaN</td>\n",
       "      <td>NaN</td>\n",
       "    </tr>\n",
       "    <tr>\n",
       "      <th>1881906405</th>\n",
       "      <td>M</td>\n",
       "      <td>54</td>\n",
       "      <td>2009-08-02</td>\n",
       "      <td>1964</td>\n",
       "      <td>NaN</td>\n",
       "      <td>NaN</td>\n",
       "    </tr>\n",
       "    <tr>\n",
       "      <th>964001585</th>\n",
       "      <td>M</td>\n",
       "      <td>67</td>\n",
       "      <td>2009-05-29</td>\n",
       "      <td>1951</td>\n",
       "      <td>NaN</td>\n",
       "      <td>NaN</td>\n",
       "    </tr>\n",
       "  </tbody>\n",
       "</table>\n",
       "</div>"
      ],
      "text/plain": [
       "           SEX  AGE    SPPLY_DT   YOB  AVG_AGE  PINSTATE\n",
       "PIN                                                     \n",
       "9318507380   M   44  2009-05-23  1974      NaN       NaN\n",
       "5493893173   M   50  2009-05-05  1968      NaN       NaN\n",
       "2936424533   F   81  2009-08-24  1937      NaN       NaN\n",
       "4936542896   M   35  2009-08-17  1983      NaN       NaN\n",
       "106188827    M   88  2009-04-28  1930      NaN       NaN\n",
       "9489084545   M   90  2009-05-24  1928      NaN       NaN\n",
       "4659760611   F   92  2009-02-09  1926      NaN       NaN\n",
       "1040687317   M   66  2009-06-06  1952      NaN       NaN\n",
       "1688466373   F   86  2009-05-08  1932      NaN       NaN\n",
       "9730898050   M   59  2009-01-15  1959      NaN       NaN\n",
       "6900133675   M   94  2009-01-09  1924      NaN       NaN\n",
       "9498712575   M   16  2009-09-16  2002      NaN       NaN\n",
       "1881906405   M   54  2009-08-02  1964      NaN       NaN\n",
       "964001585    M   67  2009-05-29  1951      NaN       NaN"
      ]
     },
     "execution_count": 16,
     "metadata": {},
     "output_type": "execute_result"
    }
   ],
   "source": [
    "ei[ei['AVG_AGE'].isna()]"
   ]
  },
  {
   "cell_type": "code",
   "execution_count": 24,
   "metadata": {},
   "outputs": [],
   "source": [
    "kk = set(rd.keys())\n",
    "pp = set(ei.dropna().index.tolist())"
   ]
  },
  {
   "cell_type": "code",
   "execution_count": 26,
   "metadata": {},
   "outputs": [
    {
     "data": {
      "text/plain": [
       "True"
      ]
     },
     "execution_count": 26,
     "metadata": {},
     "output_type": "execute_result"
    }
   ],
   "source": [
    "pp == kk"
   ]
  },
  {
   "cell_type": "markdown",
   "metadata": {},
   "source": [
    "# Load raw data"
   ]
  },
  {
   "cell_type": "code",
   "execution_count": null,
   "metadata": {},
   "outputs": [],
   "source": [
    "def load_data(dump_files):\n",
    "    \"\"\"Extract sequences, extra info and patient id from dump pkl.\"\"\"\n",
    "    # Positive raw data load\n",
    "    raw_data = []\n",
    "    extra_info = []\n",
    "    indexes = []\n",
    "    for f in tqdm(dump_files, desc='Loading dump files'):\n",
    "        _tmp = pkl.load(open(os.path.join('..', 'tmp', f), 'rb'))\n",
    "        _raw_data, _extra_info = _tmp['raw_data'], _tmp['extra_info'].set_index('PIN')\n",
    "        for k in _extra_info.index:\n",
    "            print(_raw_data[k])\n",
    "            if len(_raw_data[k])>0: # Skip empty sequences\n",
    "                raw_data.append(_raw_data[k])\n",
    "                extra_info.append([_extra_info.loc[k]['SEX'], _extra_info.loc[k]['AGE']])\n",
    "                indexes.append(k)\n",
    "#             else:\n",
    "#                 print('empty {}'.format(k))\n",
    "    return raw_data, extra_info, indexes"
   ]
  },
  {
   "cell_type": "code",
   "execution_count": null,
   "metadata": {},
   "outputs": [],
   "source": [
    "dump_files = filter(lambda x: 'raw_data' in x, os.listdir('../tmp/'))\n",
    "positive_dump_files = filter(lambda x: 'class_1' in x, dump_files)\n",
    "negative_dump_files = filter(lambda x: 'class_0' in x, dump_files)"
   ]
  },
  {
   "cell_type": "code",
   "execution_count": null,
   "metadata": {},
   "outputs": [],
   "source": []
  },
  {
   "cell_type": "markdown",
   "metadata": {},
   "source": [
    "Sequences should be like `['A', 8, 'M', 0, ...]` where letters are btos and numbers are weeks from one btos to another"
   ]
  },
  {
   "cell_type": "code",
   "execution_count": null,
   "metadata": {},
   "outputs": [],
   "source": [
    "pos_raw_data, pos_extra_info, pos_id = load_data(positive_dump_files)\n",
    "print(len(pos_id), 'positive samples')"
   ]
  },
  {
   "cell_type": "code",
   "execution_count": null,
   "metadata": {},
   "outputs": [],
   "source": [
    "neg_raw_data, neg_extra_info, neg_id = load_data(negative_dump_files)\n",
    "print(len(neg_id), 'negative samples')"
   ]
  },
  {
   "cell_type": "markdown",
   "metadata": {},
   "source": [
    "# EDA\n",
    "I want to use the negative samples with comparable length."
   ]
  },
  {
   "cell_type": "code",
   "execution_count": null,
   "metadata": {},
   "outputs": [],
   "source": [
    "# Extracting the lenghts of the positive\n",
    "lenghts = np.array([len(x) for x in pos_raw_data])\n",
    "\n",
    "# Calculating 5-95 percentile\n",
    "p5 = np.percentile(lenghts, 5)\n",
    "p95 = np.percentile(lenghts, 95)\n",
    "print('5%:{} | 95%{}'.format(p5, p95))\n",
    "\n",
    "# Identifying the indexes\n",
    "pos_idx595 = np.argwhere(np.logical_and(lenghts>=p5, lenghts<=p95)).ravel()\n",
    "pos_lenghts = lenghts[pos_idx595]\n",
    "\n",
    "# And for negative class as well\n",
    "lenghts = np.array([len(x) for x in neg_raw_data])\n",
    "neg_idx595 = np.argwhere(np.logical_and(lenghts>=p5, lenghts<=p95)).ravel()\n",
    "neg_lenghts = lenghts[neg_idx595]\n",
    "\n",
    "\n",
    "plt.figure(figsize=(8, 4))\n",
    "plt.subplot(121)\n",
    "plt.hist(pos_lenghts, bins=25)\n",
    "plt.title('{} sequences'.format(len(pos_lenghts)))\n",
    "plt.xlabel('sequence length')\n",
    "plt.ylabel('count')\n",
    "\n",
    "plt.subplot(122)\n",
    "plt.hist(neg_lenghts, bins=25)\n",
    "plt.title('{} sequences'.format(len(neg_lenghts)))\n",
    "plt.xlabel('sequence length')\n",
    "plt.ylabel('count')\n",
    "\n",
    "plt.tight_layout();"
   ]
  },
  {
   "cell_type": "code",
   "execution_count": null,
   "metadata": {},
   "outputs": [],
   "source": [
    "# Extract only the relevant samples\n",
    "pos_raw_data595 = [pos_raw_data[i] for i in pos_idx595]\n",
    "neg_raw_data595 = [neg_raw_data[i] for i in neg_idx595]"
   ]
  },
  {
   "cell_type": "code",
   "execution_count": null,
   "metadata": {},
   "outputs": [],
   "source": [
    "pos_extra_info595 = [pos_extra_info[i] for i in pos_idx595]\n",
    "neg_extra_info595 = [neg_extra_info[i] for i in neg_idx595]"
   ]
  },
  {
   "cell_type": "code",
   "execution_count": null,
   "metadata": {},
   "outputs": [],
   "source": [
    "pos_id595 = [pos_id[i] for i in pos_idx595]\n",
    "neg_id595 = [neg_id[i] for i in neg_idx595]"
   ]
  },
  {
   "cell_type": "markdown",
   "metadata": {},
   "source": [
    "# Make Xy"
   ]
  },
  {
   "cell_type": "code",
   "execution_count": null,
   "metadata": {},
   "outputs": [],
   "source": [
    "# Bag-of-words representation\n",
    "from sklearn.feature_extraction.text import CountVectorizer\n",
    "\n",
    "# Adding extra info\n",
    "def add_extra_info(X, extra_info):\n",
    "    extra_info = np.array(extra_info)\n",
    "    extra_info[:, 0] = np.where(extra_info[:,0] == 'F', 1, 0) # mapping F->1 | M->0\n",
    "    extra_info = extra_info.astype(np.int)\n",
    "    return np.hstack((X, extra_info))\n",
    "\n",
    "# Create 3 data sets\n",
    "for max_ngram in [1, 2, 3]:\n",
    "    print('max ngram: ', max_ngram)\n",
    "    bow = CountVectorizer(analyzer='char', ngram_range=[1, max_ngram])\n",
    "    \n",
    "    print('Creating BOW...')\n",
    "    X1 = bow.fit_transform(pos_raw_data595).todense()\n",
    "    print(X1.shape)\n",
    "\n",
    "    X0 = bow.transform(neg_raw_data595).todense()\n",
    "    print(X0.shape)\n",
    "\n",
    "    print('Adding extra info...')\n",
    "    X1 = add_extra_info(X1, pos_extra_info595)\n",
    "    print(X1.shape)\n",
    "\n",
    "    X0 = add_extra_info(X0, neg_extra_info595)\n",
    "    print(X0.shape)\n",
    "    \n",
    "    # Feature names\n",
    "    print('Feature names:')\n",
    "    feat_names = bow.vocabulary_.keys()\n",
    "    feat_names.append('SEX')\n",
    "    feat_names.append('AGE')\n",
    "    print(feat_names)\n",
    "    \n",
    "    print('Save dataset')\n",
    "    pd.DataFrame(data=X1, index=pos_id595, columns=feat_names).to_csv('BOW_{}-gram_class1.csv'.format(max_ngram))\n",
    "    pd.DataFrame(data=X0, index=neg_id595, columns=feat_names).to_csv('BOW_{}-gram_class0.csv'.format(max_ngram))\n",
    "    print('done.')"
   ]
  },
  {
   "cell_type": "markdown",
   "metadata": {},
   "source": [
    "# Load the desired BOW dataset"
   ]
  },
  {
   "cell_type": "code",
   "execution_count": null,
   "metadata": {},
   "outputs": [],
   "source": [
    "ngram=3\n",
    "\n",
    "df0 = pd.read_csv('BOW-datasets/BOW_{}-gram_class0.csv'.format(ngram), header=0, index_col=0)\n",
    "df1 = pd.read_csv('BOW-datasets/BOW_{}-gram_class1.csv'.format(ngram), header=0, index_col=0)\n",
    "\n",
    "X0 = df0.values\n",
    "X1 = df1.values\n",
    "feat_names = df0.columns\n",
    "\n",
    "print(X0.shape)\n",
    "print(X1.shape)"
   ]
  },
  {
   "cell_type": "markdown",
   "metadata": {},
   "source": [
    "# Learning"
   ]
  },
  {
   "cell_type": "code",
   "execution_count": null,
   "metadata": {},
   "outputs": [],
   "source": [
    "# Create a balanced training set\n",
    "n = X1.shape[0]\n",
    "\n",
    "# Subsample X1\n",
    "idx = np.arange(n)\n",
    "np.random.shuffle(idx)\n",
    "X1_small = X1[idx, :]\n",
    "id1 = df1.index[idx]\n",
    "\n",
    "# Subsample X0\n",
    "idx = np.arange(n)\n",
    "np.random.shuffle(idx)\n",
    "X0_small = X0[idx, :]\n",
    "id0 = df0.index[idx]\n",
    "\n",
    "# Stack them\n",
    "X_small = np.vstack((X1_small, X0_small))\n",
    "y_small = np.hstack((np.ones(X1_small.shape[0]), np.zeros(X0_small.shape[0])))\n",
    "id_small = id1.tolist()+id0.tolist()\n",
    "print(X_small.shape)\n",
    "print(y_small.shape)"
   ]
  },
  {
   "cell_type": "code",
   "execution_count": null,
   "metadata": {},
   "outputs": [],
   "source": [
    "# pd.DataFrame(X_small, index=id_small, columns=feat_names).to_csv('BOW-datasets/X_balanced.csv')\n",
    "# pd.DataFrame(y_small, index=id_small, columns=['Class']).to_csv('BOW-datasets/y_balanced.csv')"
   ]
  },
  {
   "cell_type": "code",
   "execution_count": null,
   "metadata": {},
   "outputs": [],
   "source": [
    "# Simple assessment\n",
    "from sklearn.pipeline import Pipeline\n",
    "from sklearn.preprocessing import StandardScaler\n",
    "from sklearn.linear_model import LogisticRegression\n",
    "from sklearn.model_selection import cross_validate\n",
    "\n",
    "pipe = Pipeline([('pp', StandardScaler()), ('mdl', LogisticRegression())])\n",
    "\n",
    "scores = cross_validate(pipe, X_small, y_small, cv=5, n_jobs=-1)\n",
    "print('Training: avg score: {:2.3f} +- {:2.3f}'.format(np.mean(scores['train_score']), np.std(scores['train_score'])))\n",
    "print('Validation: avg score: {:2.3f} +- {:2.3f}'.format(np.mean(scores['test_score']), np.std(scores['test_score'])))"
   ]
  },
  {
   "cell_type": "code",
   "execution_count": null,
   "metadata": {},
   "outputs": [],
   "source": [
    "from sklearn.ensemble import RandomForestClassifier\n",
    "\n",
    "pipe = Pipeline([('pp', StandardScaler()),\n",
    "                 ('mdl', RandomForestClassifier(n_estimators=500, max_features=0.25, n_jobs=-1))])\n",
    "\n",
    "scores = cross_validate(pipe, X_small, y_small, cv=5)\n",
    "print('Training: avg score: {:2.3f} +- {:2.3f}'.format(np.mean(scores['train_score']), np.std(scores['train_score'])))\n",
    "print('Validation: avg score: {:2.3f} +- {:2.3f}'.format(np.mean(scores['test_score']), np.std(scores['test_score'])))"
   ]
  },
  {
   "cell_type": "code",
   "execution_count": null,
   "metadata": {},
   "outputs": [],
   "source": [
    "# Single split with GB and early stopping\n",
    "from sklearn.ensemble import GradientBoostingClassifier\n",
    "from sklearn.model_selection import GridSearchCV\n",
    "from sklearn.model_selection import StratifiedShuffleSplit\n",
    "from sklearn.metrics import accuracy_score\n",
    "\n",
    "params = {'mdl__max_depth': map(int, np.linspace(10, 100, 15)),\n",
    "          'mdl__max_features': ['log2', 'sqrt', 0.5, None]},\n",
    "\n",
    "pipe = Pipeline([('pp', StandardScaler()),\n",
    "                 ('mdl', GradientBoostingClassifier(learning_rate=0.1, n_estimators=1000,\n",
    "                                                    validation_fraction=0.1,\n",
    "                                                    n_iter_no_change=10))])\n",
    "pipe_cv = GridSearchCV(pipe, param_grid=params, n_jobs=-1)\n",
    "\n",
    "sss = StratifiedShuffleSplit(n_splits=1, test_size=0.25)\n",
    "train_idx, test_idx = next(sss.split(X_small, y_small))\n",
    "\n",
    "pipe_cv.fit(X_small[train_idx, :], y_small[train_idx])\n",
    "\n",
    "print('Boosting iter: {}'.format(pipe_cv.best_estimator_.steps[1][1].n_estimators_))\n",
    "print('Training score: {:2.3f} '.format(accuracy_score(pipe_cv.predict(X_small[train_idx, :]), y_small[train_idx])))\n",
    "print('Validation score: {:2.3f}'.format(accuracy_score(pipe_cv.predict(X_small[test_idx, :]), y_small[test_idx])))"
   ]
  },
  {
   "cell_type": "code",
   "execution_count": null,
   "metadata": {},
   "outputs": [],
   "source": [
    "# Build a forest and compute the feature importances\n",
    "forest = RandomForestClassifier(n_estimators=512, n_jobs=-1, max_features=0.1,)\n",
    "\n",
    "forest.fit(X_small, y_small)"
   ]
  },
  {
   "cell_type": "code",
   "execution_count": null,
   "metadata": {},
   "outputs": [],
   "source": [
    "# workaround\n",
    "# forest = pipe_cv.best_estimator_.steps[1][1]"
   ]
  },
  {
   "cell_type": "code",
   "execution_count": null,
   "metadata": {},
   "outputs": [],
   "source": [
    "importances = forest.feature_importances_\n",
    "std = np.std([tree.feature_importances_ for tree in forest.estimators_], axis=0)\n",
    "indices = np.argsort(importances)[::-1]\n",
    "\n",
    "# Print the feature ranking\n",
    "# print(\"Feature ranking:\")\n",
    "\n",
    "# for f in range(X_small.shape[1]):\n",
    "#     print(\"%d. feature %s (%f)\" % (f + 1, feat_names[f], importances[indices[f]]))\n",
    "\n",
    "# Plot the feature importances of the forest\n",
    "top_k = 20\n",
    "plt.figure(figsize=(12, 6))\n",
    "plt.title(\"Feature importances\", fontsize=15)\n",
    "plt.bar(range(top_k), importances[indices][:top_k], yerr=std[indices[:top_k]], align=\"center\")\n",
    "plt.bar(range(top_k), importances[indices][:top_k], align=\"center\")\n",
    "plt.xticks(range(top_k), [s.upper() for s in np.array(feat_names)[indices][:top_k]], fontsize=15)\n",
    "plt.yticks(fontsize=15)\n",
    "plt.xlim([-1, top_k]);"
   ]
  },
  {
   "cell_type": "markdown",
   "metadata": {},
   "source": [
    "# Dataviz"
   ]
  },
  {
   "cell_type": "code",
   "execution_count": null,
   "metadata": {},
   "outputs": [],
   "source": [
    "from sklearn.manifold import Isomap\n",
    "from mpl_toolkits.mplot3d import Axes3D\n",
    "\n",
    "sss = StratifiedShuffleSplit(n_splits=1, test_size=500)\n",
    "_, _idx = next(sss.split(X_small, y_small))"
   ]
  },
  {
   "cell_type": "code",
   "execution_count": null,
   "metadata": {},
   "outputs": [],
   "source": [
    "pp = StandardScaler()\n",
    "# tsne = TSNE(n_components=3, perplexity=100, init='pca')\n",
    "isomap = Isomap(n_components=3)\n",
    "pipe = Pipeline([('pp', pp), ('dr', isomap)])\n",
    "\n",
    "x_r = pipe.fit_transform(X_small[_idx, :])"
   ]
  },
  {
   "cell_type": "code",
   "execution_count": null,
   "metadata": {},
   "outputs": [],
   "source": [
    "fig = plt.figure(dpi=300)\n",
    "ax = fig.add_subplot(111, projection='3d')\n",
    "\n",
    "xs = x_r[:, 0]\n",
    "ys = x_r[:, 1]\n",
    "zs = x_r[:, 2]\n",
    "ax.scatter(xs, ys, zs, c=y_small[_idx]);"
   ]
  },
  {
   "cell_type": "code",
   "execution_count": null,
   "metadata": {},
   "outputs": [],
   "source": []
  },
  {
   "cell_type": "code",
   "execution_count": null,
   "metadata": {},
   "outputs": [],
   "source": []
  }
 ],
 "metadata": {
  "kernelspec": {
   "display_name": "Python 2",
   "language": "python",
   "name": "python2"
  },
  "language_info": {
   "codemirror_mode": {
    "name": "ipython",
    "version": 2
   },
   "file_extension": ".py",
   "mimetype": "text/x-python",
   "name": "python",
   "nbconvert_exporter": "python",
   "pygments_lexer": "ipython2",
   "version": "2.7.14"
  }
 },
 "nbformat": 4,
 "nbformat_minor": 2
}
