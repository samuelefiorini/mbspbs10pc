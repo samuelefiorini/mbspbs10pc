{
 "cells": [
  {
   "cell_type": "code",
   "execution_count": 13,
   "metadata": {},
   "outputs": [],
   "source": [
    "import requests\n",
    "from bs4 import BeautifulSoup\n",
    "import re\n",
    "import numpy as np"
   ]
  },
  {
   "cell_type": "code",
   "execution_count": 14,
   "metadata": {},
   "outputs": [],
   "source": [
    "item = 66841\n",
    "url = 'http://www9.health.gov.au/mbs/search.cfm?'\n",
    "payload = {'q': '{}'.format(str(item)),\n",
    "          'sopt': 'I'}\n",
    "r = requests.get(url, params=payload)\n",
    "# r = requests.get('http://www9.health.gov.au/mbs/search.cfm?q={}&sopt=S'.format(str(item)))\n",
    "soup = BeautifulSoup(r.text, 'html.parser')"
   ]
  },
  {
   "cell_type": "code",
   "execution_count": 15,
   "metadata": {},
   "outputs": [
    {
     "data": {
      "text/plain": [
       "bs4.BeautifulSoup"
      ]
     },
     "execution_count": 15,
     "metadata": {},
     "output_type": "execute_result"
    }
   ],
   "source": [
    "type(soup)"
   ]
  },
  {
   "cell_type": "code",
   "execution_count": 16,
   "metadata": {},
   "outputs": [],
   "source": [
    "# print(soup.prettify())"
   ]
  },
  {
   "cell_type": "code",
   "execution_count": 24,
   "metadata": {},
   "outputs": [
    {
     "name": "stdout",
     "output_type": "stream",
     "text": [
      "Categories: Category 6 - PATHOLOGY SERVICES\n"
     ]
    }
   ],
   "source": [
    "def get_categories(soup):\n",
    "    \"\"\"Extract the categories from the soup.\"\"\"\n",
    "    category_elem = filter(lambda x: 'category' in x.text.lower(), soup.find_all('h3'))[0]\n",
    "    return category_elem.text.split('<')[0]\n",
    "\n",
    "categories = get_categories(soup)\n",
    "print('Categories: {}'.format(categories))"
   ]
  },
  {
   "cell_type": "code",
   "execution_count": 8,
   "metadata": {},
   "outputs": [
    {
     "name": "stdout",
     "output_type": "stream",
     "text": [
      "Group: P2 - Chemical\n",
      "Subgroup: None\n",
      "Subheading: None\n"
     ]
    }
   ],
   "source": [
    "def get_info(soup):\n",
    "    \"\"\"Extract group, subgroup and subheading from the soup.\"\"\"\n",
    "    group = None\n",
    "    subgroup = None\n",
    "    subheading = None\n",
    "    out = []\n",
    "    for elem in soup.find_all('div'):\n",
    "        elem_class = elem.get('class')\n",
    "        if (elem_class is not None) and (u'span9' in elem_class):\n",
    "            out.append(elem.text)\n",
    "    group = out[0]\n",
    "    if len(out) > 1: subgroup = out[1]\n",
    "    if len(out) > 2: subheading = out[2]\n",
    "    return group, subgroup, subheading\n",
    "\n",
    "group, subgroup, subheading = get_info(soup)\n",
    "print('Group: {}'.format(group))\n",
    "print('Subgroup: {}'.format(subgroup))\n",
    "print('Subheading: {}'.format(subheading))"
   ]
  },
  {
   "cell_type": "code",
   "execution_count": 13,
   "metadata": {},
   "outputs": [
    {
     "name": "stdout",
     "output_type": "stream",
     "text": [
      "Description: Quantitation of HbA1c (glycated haemoglobin) performed for the diagnosis of diabetes in asymptomatic patients at high risk.  (Item is subject to rule 25)\n"
     ]
    }
   ],
   "source": [
    "def get_description(soup):\n",
    "    \"\"\"Extract the item description from the soup.\"\"\"\n",
    "    description = None\n",
    "    for elem in soup.find_all('p'):\n",
    "        if elem.get('align') =='justify':\n",
    "            description = elem.text.encode('utf-8').strip()\n",
    "    return str(description)\n",
    "\n",
    "description = get_description(soup)\n",
    "print('Description: {}'.format(description))"
   ]
  },
  {
   "cell_type": "code",
   "execution_count": 14,
   "metadata": {},
   "outputs": [
    {
     "name": "stdout",
     "output_type": "stream",
     "text": [
      "Relevant dates: {u'Schedule Fee Start Date:': u'01-Nov-2014', u'Description Start Date:': u'01-Nov-2014', u'Item Start Date:': u'01-Nov-2014'}\n"
     ]
    }
   ],
   "source": [
    "def get_dates(soup):\n",
    "    \"\"\"Extract the relevant dates from the soup.\"\"\"\n",
    "    dates_keys = []\n",
    "    dates_values = []\n",
    "    for elem in soup.find_all('p'):\n",
    "        if 'date' in elem.text.lower():\n",
    "            for i, div_elem in enumerate(elem.find_all('div')):\n",
    "                if u'span8' in div_elem.get('class'):\n",
    "                    dates_keys.append(div_elem.text)\n",
    "                elif u'span4' in div_elem.get('class'):\n",
    "                    dates_values.append(div_elem.text)\n",
    "    dates = {k: v for k, v in zip(dates_keys, dates_values)}\n",
    "    return dates\n",
    "\n",
    "dates = get_dates(soup)\n",
    "print('Relevant dates: {}'.format(dates))"
   ]
  },
  {
   "cell_type": "code",
   "execution_count": 89,
   "metadata": {},
   "outputs": [
    {
     "name": "stdout",
     "output_type": "stream",
     "text": [
      "Fee: 16.8 $\n",
      "Benefit 75%: 12.6 $\n",
      "Benefit 85%: 14.3 $\n",
      "Safety net: None $\n"
     ]
    }
   ],
   "source": [
    "def get_fees(soup):\n",
    "    \"\"\"Extract the fees from the soup.\"\"\"\n",
    "    fee = None\n",
    "    benefit75 = None\n",
    "    benefit85 = None\n",
    "    safety_net = None\n",
    "    for elem in soup.find_all('p'):\n",
    "        for elem_p in elem.find_all('p'):\n",
    "            if '$' in elem_p.text:\n",
    "                splitted = np.array(re.sub(' +', ' ', elem_p.text).split(' '))\n",
    "                if u'Fee:' in splitted:\n",
    "                    fees = filter(lambda x: '$' in x, splitted) \n",
    "                    fee = np.float(fees[0].split('$')[1])\n",
    "                    benefit75 = np.float(fees[1].split('$')[1])\n",
    "                    if len(fees) > 2: benefit85 = np.float(fees[2].split('$')[1]) # this is not always there\n",
    "                elif u'Safety' in splitted:\n",
    "                    safety_net = np.float(splitted[-1].split('$')[1])\n",
    "    return fee, benefit75, benefit85, safety_net\n",
    "\n",
    "fee, benefit75, benefit85, safety_net = get_fees(soup)\n",
    "\n",
    "print('Fee: {} $'.format(fee))\n",
    "print('Benefit 75%: {} $'.format(benefit75))\n",
    "print('Benefit 85%: {} $'.format(benefit85))\n",
    "print('Safety net: {} $'.format(safety_net))"
   ]
  },
  {
   "cell_type": "markdown",
   "metadata": {},
   "source": [
    "# Test class"
   ]
  },
  {
   "cell_type": "code",
   "execution_count": 28,
   "metadata": {},
   "outputs": [],
   "source": [
    "from mbspbs10pc import mbs_online\n",
    "reload(mbs_online);"
   ]
  },
  {
   "cell_type": "code",
   "execution_count": 29,
   "metadata": {},
   "outputs": [],
   "source": [
    "mbs = mbs_online.MBSOnline(52018)\n",
    "mbs.set_attributes()"
   ]
  },
  {
   "cell_type": "code",
   "execution_count": 30,
   "metadata": {},
   "outputs": [
    {
     "name": "stdout",
     "output_type": "stream",
     "text": [
      "                                                                    52018\n",
      "Category                     Category 4 - ORAL AND MAXILLOFACIAL SERVICES\n",
      "Group                                                O3 - General Surgery\n",
      "Subgroup                                                              NaN\n",
      "Subheading                                                            NaN\n",
      "Description             FOREIGN BODY IN MUSCLE, TENDON OR OTHER DEEP T...\n",
      "Fee start date                                                 2012-11-01\n",
      "Description start date                                         2007-11-01\n",
      "Item start date                                                1991-12-01\n",
      "Fee (A$)                                                            276.8\n",
      "Benefit 75% (A$)                                                    207.6\n",
      "Benefit 85% (A$)                                                    235.3\n",
      "Safety Net                                                            NaN\n"
     ]
    }
   ],
   "source": [
    "mbs.display()"
   ]
  },
  {
   "cell_type": "code",
   "execution_count": null,
   "metadata": {},
   "outputs": [],
   "source": []
  },
  {
   "cell_type": "code",
   "execution_count": null,
   "metadata": {},
   "outputs": [],
   "source": []
  }
 ],
 "metadata": {
  "kernelspec": {
   "display_name": "Python 2",
   "language": "python",
   "name": "python2"
  },
  "language_info": {
   "codemirror_mode": {
    "name": "ipython",
    "version": 2
   },
   "file_extension": ".py",
   "mimetype": "text/x-python",
   "name": "python",
   "nbconvert_exporter": "python",
   "pygments_lexer": "ipython2",
   "version": "2.7.14"
  }
 },
 "nbformat": 4,
 "nbformat_minor": 2
}
