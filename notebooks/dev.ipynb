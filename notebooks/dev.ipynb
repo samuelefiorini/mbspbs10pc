{
 "cells": [
  {
   "cell_type": "code",
   "execution_count": 58,
   "metadata": {},
   "outputs": [],
   "source": [
    "import pandas as pd\n",
    "import numpy as np\n",
    "import joblib as jl\n",
    "from tqdm import tqdm\n",
    "import multiprocessing as mp"
   ]
  },
  {
   "cell_type": "code",
   "execution_count": 59,
   "metadata": {},
   "outputs": [
    {
     "data": {
      "text/html": [
       "<div>\n",
       "<style scoped>\n",
       "    .dataframe tbody tr th:only-of-type {\n",
       "        vertical-align: middle;\n",
       "    }\n",
       "\n",
       "    .dataframe tbody tr th {\n",
       "        vertical-align: top;\n",
       "    }\n",
       "\n",
       "    .dataframe thead th {\n",
       "        text-align: right;\n",
       "    }\n",
       "</style>\n",
       "<table border=\"1\" class=\"dataframe\">\n",
       "  <thead>\n",
       "    <tr style=\"text-align: right;\">\n",
       "      <th></th>\n",
       "      <th>ITM_CD</th>\n",
       "      <th>PTNT_ID</th>\n",
       "      <th>SPPLY_DT</th>\n",
       "    </tr>\n",
       "  </thead>\n",
       "  <tbody>\n",
       "    <tr>\n",
       "      <th>6</th>\n",
       "      <td>03415R</td>\n",
       "      <td>233260879</td>\n",
       "      <td>2010-12-29</td>\n",
       "    </tr>\n",
       "    <tr>\n",
       "      <th>99</th>\n",
       "      <td>01801T</td>\n",
       "      <td>9856006811</td>\n",
       "      <td>2010-11-11</td>\n",
       "    </tr>\n",
       "    <tr>\n",
       "      <th>139</th>\n",
       "      <td>02430X</td>\n",
       "      <td>112017407</td>\n",
       "      <td>2010-01-09</td>\n",
       "    </tr>\n",
       "    <tr>\n",
       "      <th>170</th>\n",
       "      <td>09302N</td>\n",
       "      <td>145495445</td>\n",
       "      <td>2010-10-17</td>\n",
       "    </tr>\n",
       "    <tr>\n",
       "      <th>171</th>\n",
       "      <td>09302N</td>\n",
       "      <td>9272712359</td>\n",
       "      <td>2010-07-23</td>\n",
       "    </tr>\n",
       "  </tbody>\n",
       "</table>\n",
       "</div>"
      ],
      "text/plain": [
       "     ITM_CD     PTNT_ID   SPPLY_DT\n",
       "6    03415R   233260879 2010-12-29\n",
       "99   01801T  9856006811 2010-11-11\n",
       "139  02430X   112017407 2010-01-09\n",
       "170  09302N   145495445 2010-10-17\n",
       "171  09302N  9272712359 2010-07-23"
      ]
     },
     "execution_count": 59,
     "metadata": {},
     "output_type": "execute_result"
    }
   ],
   "source": [
    "dd = jl.load(open('../tmp/auxfile_dd_.pkl', 'rb'))\n",
    "dd.head()"
   ]
  },
  {
   "cell_type": "code",
   "execution_count": 60,
   "metadata": {},
   "outputs": [],
   "source": [
    "metonly = set(pd.read_csv('../mbspbs10pc/data/metformin_items.csv', header=0)['ITM_CD'].values.tolist())\n",
    "metx = set(pd.read_csv('../mbspbs10pc/data/metformin+x_items.csv', header=0)['ITM_CD'].values.tolist())"
   ]
  },
  {
   "cell_type": "code",
   "execution_count": 84,
   "metadata": {},
   "outputs": [
    {
     "name": "stdout",
     "output_type": "stream",
     "text": [
      "21637\n"
     ]
    }
   ],
   "source": [
    "# METONLY\n",
    "grouped = dd.groupby(by='PTNT_ID')\n",
    "filtered = grouped.filter(lambda x: set(x['ITM_CD']).issubset(metonly)).groupby(by='PTNT_ID')\n",
    "idx = []\n",
    "start_date = []\n",
    "for name, group in filtered:\n",
    "    idx.append(name)\n",
    "    start_date.append(group['SPPLY_DT'].min().strftime('%Y-%m-%d'))\n",
    "print(len(idx))"
   ]
  },
  {
   "cell_type": "code",
   "execution_count": 203,
   "metadata": {},
   "outputs": [
    {
     "name": "stderr",
     "output_type": "stream",
     "text": [
      "                                                                \r"
     ]
    }
   ],
   "source": [
    "# MET+X\n",
    "min_metformin = 10  # metformin only\n",
    "\n",
    "def condition(group):\n",
    "    if len(group) <= min_metformin:\n",
    "        return False\n",
    "    else:\n",
    "        sorted_group = group.sort_values(by='SPPLY_DT')\n",
    "        head = set(sorted_group.head(min_metformin)['ITM_CD'].values) # these must all be metformin\n",
    "        tail = set(sorted_group.tail(-min_metformin)['ITM_CD'].values) # there should be both in here\n",
    "\n",
    "        cond1 = head.issubset(metonly)\n",
    "        cond2 = len(tail.intersection(metonly)) > 0 and len(tail.intersection(metonly)) < len(tail)\n",
    "        cond3 = len(tail.intersection(metx)) > 0 # handling special case of met+x items introduced after 2014\n",
    "\n",
    "        return cond1 and (cond2 or cond3)\n",
    "    \n",
    "\n",
    "grouped = dd.groupby(by='PTNT_ID')\n",
    "filtered = grouped.filter(condition).groupby(by='PTNT_ID')\n",
    "\n",
    "# Init return items\n",
    "idx, start_date, end_date = list(), list(), list()\n",
    "\n",
    "# Build output variables\n",
    "for name, group in tqdm(filtered, desc='Finalizing', leave=False):\n",
    "    idx.append(name)\n",
    "    \n",
    "    sorted_group = group.sort_values(by='SPPLY_DT')\n",
    "    start_date.append(sorted_group.head(1)['SPPLY_DT'].max().strftime('%Y-%m-%d')) # first date FIXME: max() added for consistency\n",
    "    filtered_group = sorted_group[~sorted_group['ITM_CD'].isin(metonly)] # get the non metformins\n",
    "    end_date.append(filtered_group['SPPLY_DT'].min().strftime('%Y-%m-%d'))"
   ]
  },
  {
   "cell_type": "code",
   "execution_count": 214,
   "metadata": {},
   "outputs": [],
   "source": [
    "# MET2X\n",
    "def condition(group):\n",
    "    if len(group) <= min_metformin:\n",
    "        return False\n",
    "    else:\n",
    "        sorted_group = group.sort_values(by='SPPLY_DT')\n",
    "        head = set(sorted_group.head(min_metformin)['ITM_CD'].values) # these must all be metformin\n",
    "        tail = set(sorted_group.tail(-min_metformin)['ITM_CD'].values) # there should be NO metformin in here\n",
    "\n",
    "        cond1 = head.issubset(metonly)\n",
    "        cond2 = len(tail.intersection(metonly)) == 0\n",
    "        cond3 = len(tail.intersection(metx)) == 0\n",
    "\n",
    "        return cond1 and cond2 and cond3\n",
    "    \n",
    "\n",
    "grouped = dd.groupby(by='PTNT_ID')\n",
    "filtered = grouped.filter(condition).groupby(by='PTNT_ID')"
   ]
  },
  {
   "cell_type": "code",
   "execution_count": 215,
   "metadata": {},
   "outputs": [
    {
     "name": "stderr",
     "output_type": "stream",
     "text": [
      "                                                  \r"
     ]
    }
   ],
   "source": [
    "# Init return items\n",
    "idx, start_date, end_date = list(), list(), list()\n",
    "\n",
    "# Build output variables\n",
    "for name, group in tqdm(filtered, desc='Finalizing', leave=False):\n",
    "    idx.append(name)\n",
    "    \n",
    "    sorted_group = group.sort_values(by='SPPLY_DT')\n",
    "    start_date.append(sorted_group.head(1)['SPPLY_DT'].max().strftime('%Y-%m-%d')) # first date FIXME: max() added for consistency\n",
    "    filtered_group = sorted_group[~sorted_group['ITM_CD'].isin(metonly)] # get the non metformins\n",
    "    end_date.append(filtered_group['SPPLY_DT'].min().strftime('%Y-%m-%d'))"
   ]
  },
  {
   "cell_type": "code",
   "execution_count": null,
   "metadata": {},
   "outputs": [],
   "source": []
  },
  {
   "cell_type": "code",
   "execution_count": 218,
   "metadata": {},
   "outputs": [
    {
     "data": {
      "text/plain": [
       "38464"
      ]
     },
     "execution_count": 218,
     "metadata": {},
     "output_type": "execute_result"
    }
   ],
   "source": [
    "labels = pd.read_csv('../tmp/labels.csv', header=0, index_col=0)\n",
    "labels.shape[0] - labels.dropna().shape[0]"
   ]
  },
  {
   "cell_type": "code",
   "execution_count": 243,
   "metadata": {},
   "outputs": [],
   "source": [
    "ids = dd['PTNT_ID']\n",
    "idx012 = labels.dropna().index\n",
    "idx_other = set(ids) - set(idx012)"
   ]
  },
  {
   "cell_type": "code",
   "execution_count": 244,
   "metadata": {},
   "outputs": [],
   "source": [
    "grouped = dd.groupby(by='PTNT_ID')\n",
    "filtered = grouped.filter(lambda x: x['PTNT_ID'].values[0] in idx_other).groupby(by='PTNT_ID')"
   ]
  },
  {
   "cell_type": "code",
   "execution_count": 245,
   "metadata": {},
   "outputs": [
    {
     "name": "stderr",
     "output_type": "stream",
     "text": [
      "                                                                   \r"
     ]
    }
   ],
   "source": [
    "start_date, end_date = list(), list()\n",
    "\n",
    "# Build output variables\n",
    "for name, group in tqdm(filtered, desc='Finalizing', leave=False):    \n",
    "    start_date.append(group['SPPLY_DT'].min().strftime('%Y-%m-%d'))\n",
    "    end_date.append(group['SPPLY_DT'].max().strftime('%Y-%m-%d'))"
   ]
  },
  {
   "cell_type": "code",
   "execution_count": null,
   "metadata": {},
   "outputs": [],
   "source": []
  }
 ],
 "metadata": {
  "kernelspec": {
   "display_name": "Python 2",
   "language": "python",
   "name": "python2"
  },
  "language_info": {
   "codemirror_mode": {
    "name": "ipython",
    "version": 2
   },
   "file_extension": ".py",
   "mimetype": "text/x-python",
   "name": "python",
   "nbconvert_exporter": "python",
   "pygments_lexer": "ipython2",
   "version": "2.7.14"
  }
 },
 "nbformat": 4,
 "nbformat_minor": 2
}
