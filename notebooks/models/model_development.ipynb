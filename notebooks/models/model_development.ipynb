{
 "cells": [
  {
   "cell_type": "code",
   "execution_count": 1,
   "metadata": {},
   "outputs": [
    {
     "name": "stderr",
     "output_type": "stream",
     "text": [
      "Using TensorFlow backend.\n"
     ]
    }
   ],
   "source": [
    "%matplotlib inline\n",
    "import pandas as pd\n",
    "import numpy as np\n",
    "import joblib as jl\n",
    "import matplotlib.pyplot as plt\n",
    "import warnings\n",
    "warnings.filterwarnings('ignore')\n",
    "\n",
    "from sklearn.model_selection import StratifiedShuffleSplit\n",
    "from sklearn import metrics\n",
    "\n",
    "from keras.preprocessing.text import Tokenizer\n",
    "from keras.preprocessing.sequence import pad_sequences\n",
    "from keras.layers import CuDNNLSTM\n",
    "\n",
    "from tangle import read_activations\n",
    "from tangle.mbspbs10pc import utils\n",
    "\n",
    "reload(read_activations)\n",
    "reload(utils);\n",
    "\n",
    "root = 'dl'"
   ]
  },
  {
   "cell_type": "markdown",
   "metadata": {},
   "source": [
    "# Load raw data"
   ]
  },
  {
   "cell_type": "code",
   "execution_count": 2,
   "metadata": {},
   "outputs": [],
   "source": [
    "labelsfile = '../../tmp/1_METONLY_vs_METX/matched_CEM_table.csv'\n",
    "datafile = '../../tmp/item_days_raw_data_.pkl'\n",
    "dataset = utils.load_data_labels(datafile, labelsfile)\n",
    "padded_mbs_seq, padded_timespan_seq, _ = utils.tokenize(dataset)\n",
    "maxlen = padded_mbs_seq.shape[1]\n",
    "\n",
    "# Split in training, validation, test sets\n",
    "tr_set, v_set, ts_set = utils.train_validation_test_split(\n",
    "    [padded_mbs_seq, padded_timespan_seq], dataset['Class'],\n",
    "    test_size=0.4, validation_size=0.1,\n",
    "    verbose=False)"
   ]
  },
  {
   "cell_type": "code",
   "execution_count": 3,
   "metadata": {},
   "outputs": [
    {
     "data": {
      "text/plain": [
       "(6341, 250)"
      ]
     },
     "execution_count": 3,
     "metadata": {},
     "output_type": "execute_result"
    }
   ],
   "source": [
    "tr_set[0][0].shape"
   ]
  },
  {
   "cell_type": "markdown",
   "metadata": {},
   "source": [
    "# Init embedding matrix"
   ]
  },
  {
   "cell_type": "code",
   "execution_count": 4,
   "metadata": {},
   "outputs": [
    {
     "data": {
      "text/plain": [
       "(2774, 50)"
      ]
     },
     "execution_count": 4,
     "metadata": {},
     "output_type": "execute_result"
    }
   ],
   "source": [
    "D = 50\n",
    "embedding = pd.read_csv('../../tmp/embedding.{}d.csv'.format(D), header=0, index_col=0)\n",
    "embedding_matrix = embedding.values\n",
    "embedding_matrix.shape"
   ]
  },
  {
   "cell_type": "markdown",
   "metadata": {},
   "source": [
    "# Model"
   ]
  },
  {
   "cell_type": "code",
   "execution_count": 15,
   "metadata": {},
   "outputs": [],
   "source": [
    "from tangle import model as mbs_model\n",
    "reload(mbs_model);\n",
    "\n",
    "# model = mbs_model.build_tangle(mbs_input_shape=(maxlen,),\n",
    "#                                timespan_input_shape=(maxlen, 1),\n",
    "#                                vocabulary_size=2774,\n",
    "#                                embedding_size=50,\n",
    "#                                recurrent_units=32,\n",
    "#                                dense_units=32,\n",
    "#                                attention_units=128,\n",
    "#                                bidirectional=True,\n",
    "#                                LSTMLayer=CuDNNLSTM)\n",
    "\n",
    "# model = mbs_model.build_attention_model(mbs_input_shape=(maxlen,),\n",
    "#                                         timespan_input_shape=(maxlen, 1),\n",
    "#                                         vocabulary_size=2774,\n",
    "#                                         embedding_size=50,\n",
    "#                                         recurrent_units=32,\n",
    "#                                         dense_units=32,\n",
    "#                                         attention_units=128,\n",
    "#                                         bidirectional=True,\n",
    "#                                         LSTMLayer=CuDNNLSTM)\n",
    "\n",
    "model = mbs_model.build_baseline_model(mbs_input_shape=(maxlen,),\n",
    "                                       timespan_input_shape=(maxlen, 1),\n",
    "                                       vocabulary_size=2774,\n",
    "                                       embedding_size=50,\n",
    "                                       recurrent_units=32,\n",
    "                                       dense_units=32,\n",
    "                                       bidirectional=True,\n",
    "                                       LSTMLayer=CuDNNLSTM)"
   ]
  },
  {
   "cell_type": "code",
   "execution_count": 16,
   "metadata": {},
   "outputs": [],
   "source": [
    "from keras import optimizers as opt\n",
    "model.compile(optimizer=opt.RMSprop(lr=0.01),\n",
    "              loss='binary_crossentropy',\n",
    "              metrics=['acc'])"
   ]
  },
  {
   "cell_type": "code",
   "execution_count": 17,
   "metadata": {},
   "outputs": [],
   "source": [
    "model.get_layer('mbs_embedding').set_weights([embedding_matrix])\n",
    "model.get_layer('mbs_embedding').trainable = True"
   ]
  },
  {
   "cell_type": "code",
   "execution_count": 18,
   "metadata": {},
   "outputs": [
    {
     "name": "stdout",
     "output_type": "stream",
     "text": [
      "_________________________________________________________________\n",
      "Layer (type)                 Output Shape              Param #   \n",
      "=================================================================\n",
      "mbs_input (InputLayer)       (None, 250)               0         \n",
      "_________________________________________________________________\n",
      "mbs_embedding (Embedding)    (None, 250, 50)           138700    \n",
      "_________________________________________________________________\n",
      "mbs_lstm (Bidirectional)     (None, 250, 64)           21504     \n",
      "_________________________________________________________________\n",
      "permute_4 (Permute)          (None, 64, 250)           0         \n",
      "_________________________________________________________________\n",
      "pooling (GlobalAveragePoolin (None, 250)               0         \n",
      "_________________________________________________________________\n",
      "dropout_7 (Dropout)          (None, 250)               0         \n",
      "_________________________________________________________________\n",
      "fc (Dense)                   (None, 32)                8032      \n",
      "_________________________________________________________________\n",
      "dropout_8 (Dropout)          (None, 32)                0         \n",
      "_________________________________________________________________\n",
      "fc_output (Dense)            (None, 1)                 33        \n",
      "=================================================================\n",
      "Total params: 168,269\n",
      "Trainable params: 168,269\n",
      "Non-trainable params: 0\n",
      "_________________________________________________________________\n"
     ]
    }
   ],
   "source": [
    "model.summary()"
   ]
  },
  {
   "cell_type": "code",
   "execution_count": 19,
   "metadata": {},
   "outputs": [
    {
     "data": {
      "image/svg+xml": [
       "<svg height=\"719pt\" viewBox=\"0.00 0.00 493.00 719.00\" width=\"493pt\" xmlns=\"http://www.w3.org/2000/svg\" xmlns:xlink=\"http://www.w3.org/1999/xlink\">\n",
       "<g class=\"graph\" id=\"graph0\" transform=\"scale(1 1) rotate(0) translate(4 715)\">\n",
       "<title>G</title>\n",
       "<polygon fill=\"white\" points=\"-4,4 -4,-715 489,-715 489,4 -4,4\" stroke=\"none\"/>\n",
       "<!-- 140256189712848 -->\n",
       "<g class=\"node\" id=\"node1\"><title>140256189712848</title>\n",
       "<polygon fill=\"none\" points=\"102.5,-664.5 102.5,-710.5 382.5,-710.5 382.5,-664.5 102.5,-664.5\" stroke=\"black\"/>\n",
       "<text font-family=\"Times,serif\" font-size=\"14.00\" text-anchor=\"middle\" x=\"173.5\" y=\"-683.8\">mbs_input: InputLayer</text>\n",
       "<polyline fill=\"none\" points=\"244.5,-664.5 244.5,-710.5 \" stroke=\"black\"/>\n",
       "<text font-family=\"Times,serif\" font-size=\"14.00\" text-anchor=\"middle\" x=\"272\" y=\"-695.3\">input:</text>\n",
       "<polyline fill=\"none\" points=\"244.5,-687.5 299.5,-687.5 \" stroke=\"black\"/>\n",
       "<text font-family=\"Times,serif\" font-size=\"14.00\" text-anchor=\"middle\" x=\"272\" y=\"-672.3\">output:</text>\n",
       "<polyline fill=\"none\" points=\"299.5,-664.5 299.5,-710.5 \" stroke=\"black\"/>\n",
       "<text font-family=\"Times,serif\" font-size=\"14.00\" text-anchor=\"middle\" x=\"341\" y=\"-695.3\">(None, 250)</text>\n",
       "<polyline fill=\"none\" points=\"299.5,-687.5 382.5,-687.5 \" stroke=\"black\"/>\n",
       "<text font-family=\"Times,serif\" font-size=\"14.00\" text-anchor=\"middle\" x=\"341\" y=\"-672.3\">(None, 250)</text>\n",
       "</g>\n",
       "<!-- 140256189712912 -->\n",
       "<g class=\"node\" id=\"node2\"><title>140256189712912</title>\n",
       "<polygon fill=\"none\" points=\"74,-581.5 74,-627.5 411,-627.5 411,-581.5 74,-581.5\" stroke=\"black\"/>\n",
       "<text font-family=\"Times,serif\" font-size=\"14.00\" text-anchor=\"middle\" x=\"163\" y=\"-600.8\">mbs_embedding: Embedding</text>\n",
       "<polyline fill=\"none\" points=\"252,-581.5 252,-627.5 \" stroke=\"black\"/>\n",
       "<text font-family=\"Times,serif\" font-size=\"14.00\" text-anchor=\"middle\" x=\"279.5\" y=\"-612.3\">input:</text>\n",
       "<polyline fill=\"none\" points=\"252,-604.5 307,-604.5 \" stroke=\"black\"/>\n",
       "<text font-family=\"Times,serif\" font-size=\"14.00\" text-anchor=\"middle\" x=\"279.5\" y=\"-589.3\">output:</text>\n",
       "<polyline fill=\"none\" points=\"307,-581.5 307,-627.5 \" stroke=\"black\"/>\n",
       "<text font-family=\"Times,serif\" font-size=\"14.00\" text-anchor=\"middle\" x=\"359\" y=\"-612.3\">(None, 250)</text>\n",
       "<polyline fill=\"none\" points=\"307,-604.5 411,-604.5 \" stroke=\"black\"/>\n",
       "<text font-family=\"Times,serif\" font-size=\"14.00\" text-anchor=\"middle\" x=\"359\" y=\"-589.3\">(None, 250, 50)</text>\n",
       "</g>\n",
       "<!-- 140256189712848&#45;&gt;140256189712912 -->\n",
       "<g class=\"edge\" id=\"edge1\"><title>140256189712848-&gt;140256189712912</title>\n",
       "<path d=\"M242.5,-664.366C242.5,-656.152 242.5,-646.658 242.5,-637.725\" fill=\"none\" stroke=\"black\"/>\n",
       "<polygon fill=\"black\" points=\"246,-637.607 242.5,-627.607 239,-637.607 246,-637.607\" stroke=\"black\"/>\n",
       "</g>\n",
       "<!-- 140256190029456 -->\n",
       "<g class=\"node\" id=\"node3\"><title>140256190029456</title>\n",
       "<polygon fill=\"none\" points=\"0,-498.5 0,-544.5 485,-544.5 485,-498.5 0,-498.5\" stroke=\"black\"/>\n",
       "<text font-family=\"Times,serif\" font-size=\"14.00\" text-anchor=\"middle\" x=\"163\" y=\"-517.8\">mbs_lstm(cu_dnnlstm_4): Bidirectional(CuDNNLSTM)</text>\n",
       "<polyline fill=\"none\" points=\"326,-498.5 326,-544.5 \" stroke=\"black\"/>\n",
       "<text font-family=\"Times,serif\" font-size=\"14.00\" text-anchor=\"middle\" x=\"353.5\" y=\"-529.3\">input:</text>\n",
       "<polyline fill=\"none\" points=\"326,-521.5 381,-521.5 \" stroke=\"black\"/>\n",
       "<text font-family=\"Times,serif\" font-size=\"14.00\" text-anchor=\"middle\" x=\"353.5\" y=\"-506.3\">output:</text>\n",
       "<polyline fill=\"none\" points=\"381,-498.5 381,-544.5 \" stroke=\"black\"/>\n",
       "<text font-family=\"Times,serif\" font-size=\"14.00\" text-anchor=\"middle\" x=\"433\" y=\"-529.3\">(None, 250, 50)</text>\n",
       "<polyline fill=\"none\" points=\"381,-521.5 485,-521.5 \" stroke=\"black\"/>\n",
       "<text font-family=\"Times,serif\" font-size=\"14.00\" text-anchor=\"middle\" x=\"433\" y=\"-506.3\">(None, 250, 64)</text>\n",
       "</g>\n",
       "<!-- 140256189712912&#45;&gt;140256190029456 -->\n",
       "<g class=\"edge\" id=\"edge2\"><title>140256189712912-&gt;140256190029456</title>\n",
       "<path d=\"M242.5,-581.366C242.5,-573.152 242.5,-563.658 242.5,-554.725\" fill=\"none\" stroke=\"black\"/>\n",
       "<polygon fill=\"black\" points=\"246,-554.607 242.5,-544.607 239,-554.607 246,-554.607\" stroke=\"black\"/>\n",
       "</g>\n",
       "<!-- 140256188760400 -->\n",
       "<g class=\"node\" id=\"node4\"><title>140256188760400</title>\n",
       "<polygon fill=\"none\" points=\"99,-415.5 99,-461.5 386,-461.5 386,-415.5 99,-415.5\" stroke=\"black\"/>\n",
       "<text font-family=\"Times,serif\" font-size=\"14.00\" text-anchor=\"middle\" x=\"163\" y=\"-434.8\">permute_4: Permute</text>\n",
       "<polyline fill=\"none\" points=\"227,-415.5 227,-461.5 \" stroke=\"black\"/>\n",
       "<text font-family=\"Times,serif\" font-size=\"14.00\" text-anchor=\"middle\" x=\"254.5\" y=\"-446.3\">input:</text>\n",
       "<polyline fill=\"none\" points=\"227,-438.5 282,-438.5 \" stroke=\"black\"/>\n",
       "<text font-family=\"Times,serif\" font-size=\"14.00\" text-anchor=\"middle\" x=\"254.5\" y=\"-423.3\">output:</text>\n",
       "<polyline fill=\"none\" points=\"282,-415.5 282,-461.5 \" stroke=\"black\"/>\n",
       "<text font-family=\"Times,serif\" font-size=\"14.00\" text-anchor=\"middle\" x=\"334\" y=\"-446.3\">(None, 250, 64)</text>\n",
       "<polyline fill=\"none\" points=\"282,-438.5 386,-438.5 \" stroke=\"black\"/>\n",
       "<text font-family=\"Times,serif\" font-size=\"14.00\" text-anchor=\"middle\" x=\"334\" y=\"-423.3\">(None, 64, 250)</text>\n",
       "</g>\n",
       "<!-- 140256190029456&#45;&gt;140256188760400 -->\n",
       "<g class=\"edge\" id=\"edge3\"><title>140256190029456-&gt;140256188760400</title>\n",
       "<path d=\"M242.5,-498.366C242.5,-490.152 242.5,-480.658 242.5,-471.725\" fill=\"none\" stroke=\"black\"/>\n",
       "<polygon fill=\"black\" points=\"246,-471.607 242.5,-461.607 239,-471.607 246,-471.607\" stroke=\"black\"/>\n",
       "</g>\n",
       "<!-- 140256189696784 -->\n",
       "<g class=\"node\" id=\"node5\"><title>140256189696784</title>\n",
       "<polygon fill=\"none\" points=\"60,-332.5 60,-378.5 425,-378.5 425,-332.5 60,-332.5\" stroke=\"black\"/>\n",
       "<text font-family=\"Times,serif\" font-size=\"14.00\" text-anchor=\"middle\" x=\"163\" y=\"-351.8\">pooling: GlobalAveragePooling1D</text>\n",
       "<polyline fill=\"none\" points=\"266,-332.5 266,-378.5 \" stroke=\"black\"/>\n",
       "<text font-family=\"Times,serif\" font-size=\"14.00\" text-anchor=\"middle\" x=\"293.5\" y=\"-363.3\">input:</text>\n",
       "<polyline fill=\"none\" points=\"266,-355.5 321,-355.5 \" stroke=\"black\"/>\n",
       "<text font-family=\"Times,serif\" font-size=\"14.00\" text-anchor=\"middle\" x=\"293.5\" y=\"-340.3\">output:</text>\n",
       "<polyline fill=\"none\" points=\"321,-332.5 321,-378.5 \" stroke=\"black\"/>\n",
       "<text font-family=\"Times,serif\" font-size=\"14.00\" text-anchor=\"middle\" x=\"373\" y=\"-363.3\">(None, 64, 250)</text>\n",
       "<polyline fill=\"none\" points=\"321,-355.5 425,-355.5 \" stroke=\"black\"/>\n",
       "<text font-family=\"Times,serif\" font-size=\"14.00\" text-anchor=\"middle\" x=\"373\" y=\"-340.3\">(None, 250)</text>\n",
       "</g>\n",
       "<!-- 140256188760400&#45;&gt;140256189696784 -->\n",
       "<g class=\"edge\" id=\"edge4\"><title>140256188760400-&gt;140256189696784</title>\n",
       "<path d=\"M242.5,-415.366C242.5,-407.152 242.5,-397.658 242.5,-388.725\" fill=\"none\" stroke=\"black\"/>\n",
       "<polygon fill=\"black\" points=\"246,-388.607 242.5,-378.607 239,-388.607 246,-388.607\" stroke=\"black\"/>\n",
       "</g>\n",
       "<!-- 140256187658896 -->\n",
       "<g class=\"node\" id=\"node6\"><title>140256187658896</title>\n",
       "<polygon fill=\"none\" points=\"111,-249.5 111,-295.5 374,-295.5 374,-249.5 111,-249.5\" stroke=\"black\"/>\n",
       "<text font-family=\"Times,serif\" font-size=\"14.00\" text-anchor=\"middle\" x=\"173.5\" y=\"-268.8\">dropout_7: Dropout</text>\n",
       "<polyline fill=\"none\" points=\"236,-249.5 236,-295.5 \" stroke=\"black\"/>\n",
       "<text font-family=\"Times,serif\" font-size=\"14.00\" text-anchor=\"middle\" x=\"263.5\" y=\"-280.3\">input:</text>\n",
       "<polyline fill=\"none\" points=\"236,-272.5 291,-272.5 \" stroke=\"black\"/>\n",
       "<text font-family=\"Times,serif\" font-size=\"14.00\" text-anchor=\"middle\" x=\"263.5\" y=\"-257.3\">output:</text>\n",
       "<polyline fill=\"none\" points=\"291,-249.5 291,-295.5 \" stroke=\"black\"/>\n",
       "<text font-family=\"Times,serif\" font-size=\"14.00\" text-anchor=\"middle\" x=\"332.5\" y=\"-280.3\">(None, 250)</text>\n",
       "<polyline fill=\"none\" points=\"291,-272.5 374,-272.5 \" stroke=\"black\"/>\n",
       "<text font-family=\"Times,serif\" font-size=\"14.00\" text-anchor=\"middle\" x=\"332.5\" y=\"-257.3\">(None, 250)</text>\n",
       "</g>\n",
       "<!-- 140256189696784&#45;&gt;140256187658896 -->\n",
       "<g class=\"edge\" id=\"edge5\"><title>140256189696784-&gt;140256187658896</title>\n",
       "<path d=\"M242.5,-332.366C242.5,-324.152 242.5,-314.658 242.5,-305.725\" fill=\"none\" stroke=\"black\"/>\n",
       "<polygon fill=\"black\" points=\"246,-305.607 242.5,-295.607 239,-305.607 246,-305.607\" stroke=\"black\"/>\n",
       "</g>\n",
       "<!-- 140256187659472 -->\n",
       "<g class=\"node\" id=\"node7\"><title>140256187659472</title>\n",
       "<polygon fill=\"none\" points=\"139.5,-166.5 139.5,-212.5 345.5,-212.5 345.5,-166.5 139.5,-166.5\" stroke=\"black\"/>\n",
       "<text font-family=\"Times,serif\" font-size=\"14.00\" text-anchor=\"middle\" x=\"173.5\" y=\"-185.8\">fc: Dense</text>\n",
       "<polyline fill=\"none\" points=\"207.5,-166.5 207.5,-212.5 \" stroke=\"black\"/>\n",
       "<text font-family=\"Times,serif\" font-size=\"14.00\" text-anchor=\"middle\" x=\"235\" y=\"-197.3\">input:</text>\n",
       "<polyline fill=\"none\" points=\"207.5,-189.5 262.5,-189.5 \" stroke=\"black\"/>\n",
       "<text font-family=\"Times,serif\" font-size=\"14.00\" text-anchor=\"middle\" x=\"235\" y=\"-174.3\">output:</text>\n",
       "<polyline fill=\"none\" points=\"262.5,-166.5 262.5,-212.5 \" stroke=\"black\"/>\n",
       "<text font-family=\"Times,serif\" font-size=\"14.00\" text-anchor=\"middle\" x=\"304\" y=\"-197.3\">(None, 250)</text>\n",
       "<polyline fill=\"none\" points=\"262.5,-189.5 345.5,-189.5 \" stroke=\"black\"/>\n",
       "<text font-family=\"Times,serif\" font-size=\"14.00\" text-anchor=\"middle\" x=\"304\" y=\"-174.3\">(None, 32)</text>\n",
       "</g>\n",
       "<!-- 140256187658896&#45;&gt;140256187659472 -->\n",
       "<g class=\"edge\" id=\"edge6\"><title>140256187658896-&gt;140256187659472</title>\n",
       "<path d=\"M242.5,-249.366C242.5,-241.152 242.5,-231.658 242.5,-222.725\" fill=\"none\" stroke=\"black\"/>\n",
       "<polygon fill=\"black\" points=\"246,-222.607 242.5,-212.607 239,-222.607 246,-222.607\" stroke=\"black\"/>\n",
       "</g>\n",
       "<!-- 140256187659664 -->\n",
       "<g class=\"node\" id=\"node8\"><title>140256187659664</title>\n",
       "<polygon fill=\"none\" points=\"114.5,-83.5 114.5,-129.5 370.5,-129.5 370.5,-83.5 114.5,-83.5\" stroke=\"black\"/>\n",
       "<text font-family=\"Times,serif\" font-size=\"14.00\" text-anchor=\"middle\" x=\"177\" y=\"-102.8\">dropout_8: Dropout</text>\n",
       "<polyline fill=\"none\" points=\"239.5,-83.5 239.5,-129.5 \" stroke=\"black\"/>\n",
       "<text font-family=\"Times,serif\" font-size=\"14.00\" text-anchor=\"middle\" x=\"267\" y=\"-114.3\">input:</text>\n",
       "<polyline fill=\"none\" points=\"239.5,-106.5 294.5,-106.5 \" stroke=\"black\"/>\n",
       "<text font-family=\"Times,serif\" font-size=\"14.00\" text-anchor=\"middle\" x=\"267\" y=\"-91.3\">output:</text>\n",
       "<polyline fill=\"none\" points=\"294.5,-83.5 294.5,-129.5 \" stroke=\"black\"/>\n",
       "<text font-family=\"Times,serif\" font-size=\"14.00\" text-anchor=\"middle\" x=\"332.5\" y=\"-114.3\">(None, 32)</text>\n",
       "<polyline fill=\"none\" points=\"294.5,-106.5 370.5,-106.5 \" stroke=\"black\"/>\n",
       "<text font-family=\"Times,serif\" font-size=\"14.00\" text-anchor=\"middle\" x=\"332.5\" y=\"-91.3\">(None, 32)</text>\n",
       "</g>\n",
       "<!-- 140256187659472&#45;&gt;140256187659664 -->\n",
       "<g class=\"edge\" id=\"edge7\"><title>140256187659472-&gt;140256187659664</title>\n",
       "<path d=\"M242.5,-166.366C242.5,-158.152 242.5,-148.658 242.5,-139.725\" fill=\"none\" stroke=\"black\"/>\n",
       "<polygon fill=\"black\" points=\"246,-139.607 242.5,-129.607 239,-139.607 246,-139.607\" stroke=\"black\"/>\n",
       "</g>\n",
       "<!-- 140256187305552 -->\n",
       "<g class=\"node\" id=\"node9\"><title>140256187305552</title>\n",
       "<polygon fill=\"none\" points=\"122,-0.5 122,-46.5 363,-46.5 363,-0.5 122,-0.5\" stroke=\"black\"/>\n",
       "<text font-family=\"Times,serif\" font-size=\"14.00\" text-anchor=\"middle\" x=\"177\" y=\"-19.8\">fc_output: Dense</text>\n",
       "<polyline fill=\"none\" points=\"232,-0.5 232,-46.5 \" stroke=\"black\"/>\n",
       "<text font-family=\"Times,serif\" font-size=\"14.00\" text-anchor=\"middle\" x=\"259.5\" y=\"-31.3\">input:</text>\n",
       "<polyline fill=\"none\" points=\"232,-23.5 287,-23.5 \" stroke=\"black\"/>\n",
       "<text font-family=\"Times,serif\" font-size=\"14.00\" text-anchor=\"middle\" x=\"259.5\" y=\"-8.3\">output:</text>\n",
       "<polyline fill=\"none\" points=\"287,-0.5 287,-46.5 \" stroke=\"black\"/>\n",
       "<text font-family=\"Times,serif\" font-size=\"14.00\" text-anchor=\"middle\" x=\"325\" y=\"-31.3\">(None, 32)</text>\n",
       "<polyline fill=\"none\" points=\"287,-23.5 363,-23.5 \" stroke=\"black\"/>\n",
       "<text font-family=\"Times,serif\" font-size=\"14.00\" text-anchor=\"middle\" x=\"325\" y=\"-8.3\">(None, 1)</text>\n",
       "</g>\n",
       "<!-- 140256187659664&#45;&gt;140256187305552 -->\n",
       "<g class=\"edge\" id=\"edge8\"><title>140256187659664-&gt;140256187305552</title>\n",
       "<path d=\"M242.5,-83.3664C242.5,-75.1516 242.5,-65.6579 242.5,-56.7252\" fill=\"none\" stroke=\"black\"/>\n",
       "<polygon fill=\"black\" points=\"246,-56.6068 242.5,-46.6068 239,-56.6069 246,-56.6068\" stroke=\"black\"/>\n",
       "</g>\n",
       "</g>\n",
       "</svg>"
      ],
      "text/plain": [
       "<IPython.core.display.SVG object>"
      ]
     },
     "execution_count": 19,
     "metadata": {},
     "output_type": "execute_result"
    }
   ],
   "source": [
    "from IPython.display import SVG\n",
    "from keras.utils.vis_utils import model_to_dot\n",
    "\n",
    "SVG(model_to_dot(model, show_shapes=True).create(prog='dot', format='svg'))"
   ]
  },
  {
   "cell_type": "code",
   "execution_count": null,
   "metadata": {},
   "outputs": [],
   "source": [
    "# from keras.utils import plot_model\n",
    "\n",
    "# plot_model(model, show_shapes=True, to_file='tangle.png')"
   ]
  },
  {
   "cell_type": "code",
   "execution_count": null,
   "metadata": {},
   "outputs": [],
   "source": [
    "from keras.callbacks import EarlyStopping, ReduceLROnPlateau\n",
    "callbacks = [ReduceLROnPlateau(monitor='val_loss', factor=0.5, patience=7, min_lr=1e-6, verbose=1),\n",
    "             EarlyStopping(monitor='val_loss', patience=15)] \n",
    "\n",
    "history = model.fit(tr_set[0], tr_set[1],\n",
    "                    epochs=10,\n",
    "                    callbacks=callbacks,\n",
    "                    batch_size=128,\n",
    "                    validation_data=(v_set))"
   ]
  },
  {
   "cell_type": "code",
   "execution_count": null,
   "metadata": {},
   "outputs": [],
   "source": [
    "plt.figure(dpi=100)\n",
    "t = history.epoch\n",
    "\n",
    "plt.subplot(211)\n",
    "plt.plot(t, history.history['loss'], label='loss', color='C0')\n",
    "plt.plot(t, history.history['val_loss'], label='val_loss', color='C1')\n",
    "plt.xlabel('epochs')\n",
    "plt.ylabel('loss')\n",
    "plt.legend(loc=1)\n",
    "\n",
    "plt.subplot(212)\n",
    "plt.plot(t, history.history['acc'], label='acc', color='C2')\n",
    "plt.plot(t, history.history['val_acc'], label='val_acc', color='C3')\n",
    "plt.ylim([0.5, 1])\n",
    "plt.ylabel('acc')\n",
    "plt.xlabel('epochs')\n",
    "plt.legend(loc=1)\n",
    "\n",
    "plt.tight_layout()"
   ]
  },
  {
   "cell_type": "code",
   "execution_count": null,
   "metadata": {},
   "outputs": [],
   "source": [
    "y_pred = model.predict(ts_set[0]).ravel()"
   ]
  },
  {
   "cell_type": "code",
   "execution_count": null,
   "metadata": {},
   "outputs": [],
   "source": [
    "y_test = ts_set[1]\n",
    "loss = metrics.log_loss(y_test, y_pred)\n",
    "acc = metrics.accuracy_score(y_test, y_pred > 0.5)\n",
    "prec = metrics.precision_score(y_test, y_pred > 0.5)\n",
    "rcll = metrics.recall_score(y_test, y_pred > 0.5)\n",
    "auc = metrics.roc_auc_score(y_test, y_pred)\n",
    "print('Test scores:\\n * Log-Loss\\t{}\\n * Accuracy:\\t{}\\n '\n",
    "      '* Precision:\\t{}\\n * Recall:\\t{}\\n * AUC: \\t{}'.format(loss, acc, prec, rcll, auc))"
   ]
  },
  {
   "cell_type": "code",
   "execution_count": null,
   "metadata": {},
   "outputs": [],
   "source": [
    "from tangle.plotting import *\n",
    "\n",
    "# Plot non-normalized confusion matrix\n",
    "cnf_matrix = metrics.confusion_matrix(y_test, y_pred > 0.5)\n",
    "plt.figure(dpi=100)\n",
    "plot_confusion_matrix(cnf_matrix, classes=['METONLY', 'METX'],\n",
    "                      title='Confusion matrix', cmap=plt.cm.Blues);"
   ]
  },
  {
   "cell_type": "markdown",
   "metadata": {},
   "source": [
    "**TOP results so far [6341 training / 705 validation / 4698 test]**\n",
    "\n",
    "Test scores:\n",
    " * Log-Loss\t0.425300993082\n",
    " * Accuracy:\t0.810131971052\n",
    " * Precision:\t0.817983413357\n",
    " * Recall:\t0.797786292039\n",
    " * AUC: \t0.894714579232"
   ]
  },
  {
   "cell_type": "code",
   "execution_count": null,
   "metadata": {},
   "outputs": [],
   "source": [
    "model.save_weights('model.h5')"
   ]
  }
 ],
 "metadata": {
  "kernelspec": {
   "display_name": "Python 2",
   "language": "python",
   "name": "python2"
  },
  "language_info": {
   "codemirror_mode": {
    "name": "ipython",
    "version": 2
   },
   "file_extension": ".py",
   "mimetype": "text/x-python",
   "name": "python",
   "nbconvert_exporter": "python",
   "pygments_lexer": "ipython2",
   "version": "2.7.15"
  }
 },
 "nbformat": 4,
 "nbformat_minor": 2
}
