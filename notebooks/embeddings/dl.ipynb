{
 "cells": [
  {
   "cell_type": "code",
   "execution_count": 1,
   "metadata": {},
   "outputs": [
    {
     "name": "stderr",
     "output_type": "stream",
     "text": [
      "Using TensorFlow backend.\n"
     ]
    }
   ],
   "source": [
    "%matplotlib inline\n",
    "import pandas as pd\n",
    "import numpy as np\n",
    "import joblib as jl\n",
    "import matplotlib.pyplot as plt\n",
    "import warnings\n",
    "warnings.filterwarnings('ignore')\n",
    "\n",
    "from sklearn.model_selection import StratifiedShuffleSplit\n",
    "\n",
    "from keras.preprocessing.text import Tokenizer\n",
    "from keras.preprocessing.sequence import pad_sequences\n",
    "\n",
    "root = 'dl'"
   ]
  },
  {
   "cell_type": "markdown",
   "metadata": {},
   "source": [
    "# Load raw data"
   ]
  },
  {
   "cell_type": "code",
   "execution_count": 2,
   "metadata": {},
   "outputs": [
    {
     "data": {
      "text/html": [
       "<div>\n",
       "<style scoped>\n",
       "    .dataframe tbody tr th:only-of-type {\n",
       "        vertical-align: middle;\n",
       "    }\n",
       "\n",
       "    .dataframe tbody tr th {\n",
       "        vertical-align: top;\n",
       "    }\n",
       "\n",
       "    .dataframe thead th {\n",
       "        text-align: right;\n",
       "    }\n",
       "</style>\n",
       "<table border=\"1\" class=\"dataframe\">\n",
       "  <thead>\n",
       "    <tr style=\"text-align: right;\">\n",
       "      <th></th>\n",
       "      <th>CLASS</th>\n",
       "    </tr>\n",
       "    <tr>\n",
       "      <th>PIN</th>\n",
       "      <th></th>\n",
       "    </tr>\n",
       "  </thead>\n",
       "  <tbody>\n",
       "    <tr>\n",
       "      <th>568483</th>\n",
       "      <td>1</td>\n",
       "    </tr>\n",
       "    <tr>\n",
       "      <th>923748</th>\n",
       "      <td>0</td>\n",
       "    </tr>\n",
       "    <tr>\n",
       "      <th>2035328</th>\n",
       "      <td>0</td>\n",
       "    </tr>\n",
       "    <tr>\n",
       "      <th>2239386</th>\n",
       "      <td>1</td>\n",
       "    </tr>\n",
       "    <tr>\n",
       "      <th>2244533</th>\n",
       "      <td>1</td>\n",
       "    </tr>\n",
       "  </tbody>\n",
       "</table>\n",
       "</div>"
      ],
      "text/plain": [
       "         CLASS\n",
       "PIN           \n",
       "568483       1\n",
       "923748       0\n",
       "2035328      0\n",
       "2239386      1\n",
       "2244533      1"
      ]
     },
     "execution_count": 2,
     "metadata": {},
     "output_type": "execute_result"
    }
   ],
   "source": [
    "labels = pd.read_csv('../../tmp/1_METONLY_vs_METX/matched_CEM_table.csv', header=0).rename({'Unnamed: 0': 'PIN'}, axis=1)[['PIN', 'CLASS']].set_index('PIN')\n",
    "labels.head()"
   ]
  },
  {
   "cell_type": "code",
   "execution_count": 13,
   "metadata": {},
   "outputs": [
    {
     "data": {
      "text/html": [
       "<div>\n",
       "<style scoped>\n",
       "    .dataframe tbody tr th:only-of-type {\n",
       "        vertical-align: middle;\n",
       "    }\n",
       "\n",
       "    .dataframe tbody tr th {\n",
       "        vertical-align: top;\n",
       "    }\n",
       "\n",
       "    .dataframe thead th {\n",
       "        text-align: right;\n",
       "    }\n",
       "</style>\n",
       "<table border=\"1\" class=\"dataframe\">\n",
       "  <thead>\n",
       "    <tr style=\"text-align: right;\">\n",
       "      <th></th>\n",
       "      <th>Seq</th>\n",
       "      <th>Class</th>\n",
       "    </tr>\n",
       "    <tr>\n",
       "      <th>PIN</th>\n",
       "      <th></th>\n",
       "      <th></th>\n",
       "    </tr>\n",
       "  </thead>\n",
       "  <tbody>\n",
       "    <tr>\n",
       "      <th>568483</th>\n",
       "      <td>10990 0 23 1 725 0 10990 0 10990 0 10990 0 109...</td>\n",
       "      <td>1</td>\n",
       "    </tr>\n",
       "    <tr>\n",
       "      <th>923748</th>\n",
       "      <td>66653 0 65070 0 66515 0 10962 0 105 0 56807 2 ...</td>\n",
       "      <td>0</td>\n",
       "    </tr>\n",
       "    <tr>\n",
       "      <th>2035328</th>\n",
       "      <td>66536 0 74995 0 66512 0 66551 0 66608 0 66716 ...</td>\n",
       "      <td>0</td>\n",
       "    </tr>\n",
       "    <tr>\n",
       "      <th>2239386</th>\n",
       "      <td>10991 0 23 3 73928 0 66560 0 66515 0 66551 0 6...</td>\n",
       "      <td>1</td>\n",
       "    </tr>\n",
       "    <tr>\n",
       "      <th>2244533</th>\n",
       "      <td>10990 0 23 2 23 0 10990 0 73928 0 66500 0 6656...</td>\n",
       "      <td>1</td>\n",
       "    </tr>\n",
       "  </tbody>\n",
       "</table>\n",
       "</div>"
      ],
      "text/plain": [
       "                                                       Seq  Class\n",
       "PIN                                                              \n",
       "568483   10990 0 23 1 725 0 10990 0 10990 0 10990 0 109...      1\n",
       "923748   66653 0 65070 0 66515 0 10962 0 105 0 56807 2 ...      0\n",
       "2035328  66536 0 74995 0 66512 0 66551 0 66608 0 66716 ...      0\n",
       "2239386  10991 0 23 3 73928 0 66560 0 66515 0 66551 0 6...      1\n",
       "2244533  10990 0 23 2 23 0 10990 0 73928 0 66500 0 6656...      1"
      ]
     },
     "execution_count": 13,
     "metadata": {},
     "output_type": "execute_result"
    }
   ],
   "source": [
    "# data = jl.load(open('../../tmp/item_days_raw_data_.pkl', 'rb')).loc[labels.index, 'seq']\n",
    "data = pd.read_csv('../../tmp/raw_sequences.csv', header=0, index_col=0).loc[labels.index, 'seq']\n",
    "df = pd.DataFrame(columns=['Seq', 'Class'], index=data.index)\n",
    "df.loc[:, 'Seq'] = data\n",
    "df.loc[:, 'Class'] = labels['CLASS']\n",
    "df.head()"
   ]
  },
  {
   "cell_type": "markdown",
   "metadata": {},
   "source": [
    "# Separate MBS items and timepoints"
   ]
  },
  {
   "cell_type": "code",
   "execution_count": 14,
   "metadata": {},
   "outputs": [],
   "source": [
    "for idx in df.index:\n",
    "    _tmp = df.loc[idx, 'Seq'].split(' ')\n",
    "    df.loc[idx, 'mbs_seq'] = ' '.join(_tmp[::2])\n",
    "    df.loc[idx, 'times_seq'] = ' '.join(_tmp[1::2])"
   ]
  },
  {
   "cell_type": "code",
   "execution_count": 15,
   "metadata": {},
   "outputs": [
    {
     "data": {
      "text/html": [
       "<div>\n",
       "<style scoped>\n",
       "    .dataframe tbody tr th:only-of-type {\n",
       "        vertical-align: middle;\n",
       "    }\n",
       "\n",
       "    .dataframe tbody tr th {\n",
       "        vertical-align: top;\n",
       "    }\n",
       "\n",
       "    .dataframe thead th {\n",
       "        text-align: right;\n",
       "    }\n",
       "</style>\n",
       "<table border=\"1\" class=\"dataframe\">\n",
       "  <thead>\n",
       "    <tr style=\"text-align: right;\">\n",
       "      <th></th>\n",
       "      <th>Seq</th>\n",
       "      <th>Class</th>\n",
       "      <th>mbs_seq</th>\n",
       "      <th>times_seq</th>\n",
       "    </tr>\n",
       "    <tr>\n",
       "      <th>PIN</th>\n",
       "      <th></th>\n",
       "      <th></th>\n",
       "      <th></th>\n",
       "      <th></th>\n",
       "    </tr>\n",
       "  </thead>\n",
       "  <tbody>\n",
       "    <tr>\n",
       "      <th>568483</th>\n",
       "      <td>10990 0 23 1 725 0 10990 0 10990 0 10990 0 109...</td>\n",
       "      <td>1</td>\n",
       "      <td>10990 23 725 10990 10990 10990 10993 23 85311 ...</td>\n",
       "      <td>0 1 0 0 0 0 0 1 0 0 0 0 0 0 1 0 0 0 0 0 0 0 0 ...</td>\n",
       "    </tr>\n",
       "    <tr>\n",
       "      <th>923748</th>\n",
       "      <td>66653 0 65070 0 66515 0 10962 0 105 0 56807 2 ...</td>\n",
       "      <td>0</td>\n",
       "      <td>66653 65070 66515 10962 105 56807 10990 23 109...</td>\n",
       "      <td>0 0 0 0 0 2 0 1 2 0 0 0 0 0 0 0 0 0 0 0 1 2 1 ...</td>\n",
       "    </tr>\n",
       "    <tr>\n",
       "      <th>2035328</th>\n",
       "      <td>66536 0 74995 0 66512 0 66551 0 66608 0 66716 ...</td>\n",
       "      <td>0</td>\n",
       "      <td>66536 74995 66512 66551 66608 66716 66560 7392...</td>\n",
       "      <td>0 0 0 0 0 0 0 0 0 0 0 3 0 0 2 1 2 0 0 0 0 0 0 ...</td>\n",
       "    </tr>\n",
       "    <tr>\n",
       "      <th>2239386</th>\n",
       "      <td>10991 0 23 3 73928 0 66560 0 66515 0 66551 0 6...</td>\n",
       "      <td>1</td>\n",
       "      <td>10991 23 73928 66560 66515 66551 66536 2517 10...</td>\n",
       "      <td>0 3 0 0 0 0 0 0 1 0 0 0 0 1 3 0 0 0 0 0 0 2 0 ...</td>\n",
       "    </tr>\n",
       "    <tr>\n",
       "      <th>2244533</th>\n",
       "      <td>10990 0 23 2 23 0 10990 0 73928 0 66500 0 6656...</td>\n",
       "      <td>1</td>\n",
       "      <td>10990 23 23 10990 73928 66500 66560 66551 23 1...</td>\n",
       "      <td>0 2 0 0 0 0 0 0 0 2 0 0 0 0 0 0 0 0 0 0 0 0 0 ...</td>\n",
       "    </tr>\n",
       "  </tbody>\n",
       "</table>\n",
       "</div>"
      ],
      "text/plain": [
       "                                                       Seq  Class  \\\n",
       "PIN                                                                 \n",
       "568483   10990 0 23 1 725 0 10990 0 10990 0 10990 0 109...      1   \n",
       "923748   66653 0 65070 0 66515 0 10962 0 105 0 56807 2 ...      0   \n",
       "2035328  66536 0 74995 0 66512 0 66551 0 66608 0 66716 ...      0   \n",
       "2239386  10991 0 23 3 73928 0 66560 0 66515 0 66551 0 6...      1   \n",
       "2244533  10990 0 23 2 23 0 10990 0 73928 0 66500 0 6656...      1   \n",
       "\n",
       "                                                   mbs_seq  \\\n",
       "PIN                                                          \n",
       "568483   10990 23 725 10990 10990 10990 10993 23 85311 ...   \n",
       "923748   66653 65070 66515 10962 105 56807 10990 23 109...   \n",
       "2035328  66536 74995 66512 66551 66608 66716 66560 7392...   \n",
       "2239386  10991 23 73928 66560 66515 66551 66536 2517 10...   \n",
       "2244533  10990 23 23 10990 73928 66500 66560 66551 23 1...   \n",
       "\n",
       "                                                 times_seq  \n",
       "PIN                                                         \n",
       "568483   0 1 0 0 0 0 0 1 0 0 0 0 0 0 1 0 0 0 0 0 0 0 0 ...  \n",
       "923748   0 0 0 0 0 2 0 1 2 0 0 0 0 0 0 0 0 0 0 0 1 2 1 ...  \n",
       "2035328  0 0 0 0 0 0 0 0 0 0 0 3 0 0 2 1 2 0 0 0 0 0 0 ...  \n",
       "2239386  0 3 0 0 0 0 0 0 1 0 0 0 0 1 3 0 0 0 0 0 0 2 0 ...  \n",
       "2244533  0 2 0 0 0 0 0 0 0 2 0 0 0 0 0 0 0 0 0 0 0 0 0 ...  "
      ]
     },
     "execution_count": 15,
     "metadata": {},
     "output_type": "execute_result"
    }
   ],
   "source": [
    "df.head()"
   ]
  },
  {
   "cell_type": "markdown",
   "metadata": {},
   "source": [
    "# Seq2Tokens"
   ]
  },
  {
   "cell_type": "code",
   "execution_count": 20,
   "metadata": {},
   "outputs": [
    {
     "name": "stdout",
     "output_type": "stream",
     "text": [
      "2773\n",
      "(11744, 445)\n"
     ]
    }
   ],
   "source": [
    "# Define tokenizer object\n",
    "tokenizer = Tokenizer(char_level=False, lower=False, split=' ')\n",
    "\n",
    "# Fit on corpus and extract tokenized sequences\n",
    "tokenizer.fit_on_texts(df['mbs_seq'])\n",
    "n_feat = len(tokenizer.word_index.keys())\n",
    "print(n_feat)\n",
    "seq = tokenizer.texts_to_sequences(df['mbs_seq'])\n",
    "\n",
    "# Pad tokenized sequences\n",
    "lengths = [len(x) for x in seq]\n",
    "maxlen = int(np.percentile(lengths, 95))\n",
    "p_seq = pad_sequences(seq, maxlen=maxlen)\n",
    "print(p_seq.shape)"
   ]
  },
  {
   "cell_type": "markdown",
   "metadata": {},
   "source": [
    "# Training - Validation - Test split"
   ]
  },
  {
   "cell_type": "code",
   "execution_count": 21,
   "metadata": {},
   "outputs": [
    {
     "name": "stdout",
     "output_type": "stream",
     "text": [
      "5872 learn / 5872 test\n",
      "5284 training / 588 validation\n"
     ]
    }
   ],
   "source": [
    "# Full dataset\n",
    "y = df['Class'].ravel()\n",
    "X = p_seq\n",
    "\n",
    "# Learn / Test\n",
    "sss = StratifiedShuffleSplit(n_splits=1, test_size=0.5, random_state=0)\n",
    "learn_idx, test_idx = next(sss.split(X, y))\n",
    "\n",
    "X_learn, y_learn = X[learn_idx, :], y[learn_idx]\n",
    "X_test, y_test = X[test_idx, :], y[test_idx]\n",
    "\n",
    "print('{} learn / {} test'.format(len(y_learn), len(y_test)))\n",
    "\n",
    "# Training / Validation\n",
    "sss = StratifiedShuffleSplit(n_splits=1, test_size=0.1, random_state=1)\n",
    "train_idx, valid_idx = next(sss.split(X_learn, y_learn))\n",
    "\n",
    "X_train, y_train = X_learn[train_idx, :], y_learn[train_idx]\n",
    "X_valid, y_valid = X_learn[valid_idx, :], y_learn[valid_idx]\n",
    "\n",
    "print('{} training / {} validation'.format(len(y_train), len(y_valid)))"
   ]
  },
  {
   "cell_type": "code",
   "execution_count": null,
   "metadata": {},
   "outputs": [],
   "source": []
  },
  {
   "cell_type": "markdown",
   "metadata": {},
   "source": [
    "# Init embedding matrix"
   ]
  },
  {
   "cell_type": "code",
   "execution_count": 31,
   "metadata": {},
   "outputs": [],
   "source": [
    "D = 50\n",
    "embedding = pd.read_csv('../../tmp/embedding.{}d.csv'.format(D), header=0, index_col=0)\n",
    "embedding_matrix = embedding.values"
   ]
  },
  {
   "cell_type": "markdown",
   "metadata": {},
   "source": [
    "# Model \\#1: Embedding + Dense (overfitting like crazy)"
   ]
  },
  {
   "cell_type": "code",
   "execution_count": 30,
   "metadata": {},
   "outputs": [
    {
     "name": "stdout",
     "output_type": "stream",
     "text": [
      "_________________________________________________________________\n",
      "Layer (type)                 Output Shape              Param #   \n",
      "=================================================================\n",
      "embedding_4 (Embedding)      (None, 445, 50)           138650    \n",
      "_________________________________________________________________\n",
      "flatten_4 (Flatten)          (None, 22250)             0         \n",
      "_________________________________________________________________\n",
      "dense_4 (Dense)              (None, 1)                 22251     \n",
      "=================================================================\n",
      "Total params: 160,901\n",
      "Trainable params: 160,901\n",
      "Non-trainable params: 0\n",
      "_________________________________________________________________\n"
     ]
    }
   ],
   "source": [
    "from keras.models import Sequential\n",
    "from keras.layers import Flatten, Dense, Embedding, Dropout\n",
    "from keras.callbacks import EarlyStopping\n",
    "from keras import regularizers\n",
    "\n",
    "model = Sequential()\n",
    "model.add(Embedding(n_feat, D, input_length=maxlen))\n",
    "model.add(Flatten())\n",
    "model.add(Dense(1, activation='sigmoid', kernel_regularizer=regularizers.l2(0.05)))\n",
    "model.compile(optimizer='rmsprop',\n",
    "              loss='binary_crossentropy',\n",
    "              metrics=['acc'])\n",
    "model.summary()"
   ]
  },
  {
   "cell_type": "code",
   "execution_count": 32,
   "metadata": {},
   "outputs": [],
   "source": [
    "model.layers[0].set_weights([embedding_matrix])\n",
    "model.layers[0].trainable = False"
   ]
  },
  {
   "cell_type": "code",
   "execution_count": 33,
   "metadata": {},
   "outputs": [
    {
     "name": "stdout",
     "output_type": "stream",
     "text": [
      "Train on 5284 samples, validate on 588 samples\n",
      "Epoch 1/500\n",
      "5284/5284 [==============================] - 1s 129us/step - loss: 0.8726 - acc: 0.4886 - val_loss: 0.7443 - val_acc: 0.5000\n",
      "Epoch 2/500\n",
      "5284/5284 [==============================] - 0s 53us/step - loss: 0.7443 - acc: 0.5276 - val_loss: 0.8172 - val_acc: 0.5000\n",
      "Epoch 3/500\n",
      "5284/5284 [==============================] - 0s 49us/step - loss: 0.7201 - acc: 0.5397 - val_loss: 0.6894 - val_acc: 0.6684\n",
      "Epoch 4/500\n",
      "5284/5284 [==============================] - 0s 51us/step - loss: 0.6871 - acc: 0.5999 - val_loss: 0.7730 - val_acc: 0.5000\n",
      "Epoch 5/500\n",
      "5284/5284 [==============================] - 0s 50us/step - loss: 0.6723 - acc: 0.6382 - val_loss: 0.6708 - val_acc: 0.6701\n",
      "Epoch 6/500\n",
      "5284/5284 [==============================] - 0s 51us/step - loss: 0.6509 - acc: 0.6898 - val_loss: 0.6852 - val_acc: 0.6071\n",
      "Epoch 7/500\n",
      "5284/5284 [==============================] - 0s 52us/step - loss: 0.6327 - acc: 0.7197 - val_loss: 0.6472 - val_acc: 0.7041\n",
      "Epoch 8/500\n",
      "5284/5284 [==============================] - 0s 57us/step - loss: 0.6201 - acc: 0.7371 - val_loss: 0.6887 - val_acc: 0.6173\n",
      "Epoch 9/500\n",
      "5284/5284 [==============================] - 0s 56us/step - loss: 0.6097 - acc: 0.7421 - val_loss: 0.6910 - val_acc: 0.6224\n",
      "Epoch 10/500\n",
      "5284/5284 [==============================] - 0s 54us/step - loss: 0.5984 - acc: 0.7591 - val_loss: 0.6309 - val_acc: 0.7007\n",
      "Epoch 11/500\n",
      "5284/5284 [==============================] - 0s 52us/step - loss: 0.5855 - acc: 0.7670 - val_loss: 0.7028 - val_acc: 0.6344\n",
      "Epoch 12/500\n",
      "5284/5284 [==============================] - 0s 52us/step - loss: 0.5782 - acc: 0.7716 - val_loss: 0.6342 - val_acc: 0.7075\n",
      "Epoch 13/500\n",
      "5284/5284 [==============================] - 0s 52us/step - loss: 0.5708 - acc: 0.7799 - val_loss: 0.6466 - val_acc: 0.6888\n",
      "Epoch 14/500\n",
      "5284/5284 [==============================] - 0s 61us/step - loss: 0.5598 - acc: 0.7943 - val_loss: 0.6046 - val_acc: 0.7483\n",
      "Epoch 15/500\n",
      "5284/5284 [==============================] - 0s 56us/step - loss: 0.5507 - acc: 0.7960 - val_loss: 0.6219 - val_acc: 0.7279\n",
      "Epoch 16/500\n",
      "5284/5284 [==============================] - 0s 64us/step - loss: 0.5469 - acc: 0.7935 - val_loss: 0.6271 - val_acc: 0.6973\n",
      "Epoch 17/500\n",
      "5284/5284 [==============================] - 0s 50us/step - loss: 0.5387 - acc: 0.8039 - val_loss: 0.6186 - val_acc: 0.7109\n",
      "Epoch 18/500\n",
      "5284/5284 [==============================] - 0s 52us/step - loss: 0.5334 - acc: 0.8081 - val_loss: 0.5964 - val_acc: 0.7551\n",
      "Epoch 19/500\n",
      "5284/5284 [==============================] - 0s 55us/step - loss: 0.5291 - acc: 0.8138 - val_loss: 0.5942 - val_acc: 0.7466\n",
      "Epoch 20/500\n",
      "5284/5284 [==============================] - 0s 50us/step - loss: 0.5204 - acc: 0.8204 - val_loss: 0.6207 - val_acc: 0.7041\n",
      "Epoch 21/500\n",
      "5284/5284 [==============================] - 0s 56us/step - loss: 0.5162 - acc: 0.8215 - val_loss: 0.5996 - val_acc: 0.7483\n",
      "Epoch 22/500\n",
      "5284/5284 [==============================] - 0s 52us/step - loss: 0.5096 - acc: 0.8257 - val_loss: 0.6209 - val_acc: 0.7160\n",
      "Epoch 23/500\n",
      "5284/5284 [==============================] - 0s 54us/step - loss: 0.5040 - acc: 0.8278 - val_loss: 0.6099 - val_acc: 0.7228\n",
      "Epoch 24/500\n",
      "5284/5284 [==============================] - 0s 50us/step - loss: 0.5023 - acc: 0.8306 - val_loss: 0.5892 - val_acc: 0.7449\n",
      "Epoch 25/500\n",
      "5284/5284 [==============================] - 0s 48us/step - loss: 0.4967 - acc: 0.8327 - val_loss: 0.5956 - val_acc: 0.7568\n",
      "Epoch 26/500\n",
      "5284/5284 [==============================] - 0s 53us/step - loss: 0.4921 - acc: 0.8393 - val_loss: 0.5956 - val_acc: 0.7534\n",
      "Epoch 27/500\n",
      "5284/5284 [==============================] - 0s 52us/step - loss: 0.4885 - acc: 0.8405 - val_loss: 0.5860 - val_acc: 0.7432\n",
      "Epoch 28/500\n",
      "5284/5284 [==============================] - 0s 52us/step - loss: 0.4842 - acc: 0.8429 - val_loss: 0.5841 - val_acc: 0.7704\n",
      "Epoch 29/500\n",
      "5284/5284 [==============================] - 0s 53us/step - loss: 0.4786 - acc: 0.8435 - val_loss: 0.5971 - val_acc: 0.7551\n",
      "Epoch 30/500\n",
      "5284/5284 [==============================] - 0s 48us/step - loss: 0.4747 - acc: 0.8503 - val_loss: 0.5798 - val_acc: 0.7721\n",
      "Epoch 31/500\n",
      "5284/5284 [==============================] - 0s 52us/step - loss: 0.4728 - acc: 0.8461 - val_loss: 0.6093 - val_acc: 0.7364\n",
      "Epoch 32/500\n",
      "5284/5284 [==============================] - 0s 56us/step - loss: 0.4684 - acc: 0.8503 - val_loss: 0.5787 - val_acc: 0.7653\n",
      "Epoch 33/500\n",
      "5284/5284 [==============================] - 0s 47us/step - loss: 0.4634 - acc: 0.8547 - val_loss: 0.5983 - val_acc: 0.7500\n",
      "Epoch 34/500\n",
      "5284/5284 [==============================] - 0s 51us/step - loss: 0.4614 - acc: 0.8543 - val_loss: 0.5775 - val_acc: 0.7687\n",
      "Epoch 35/500\n",
      "5284/5284 [==============================] - 0s 58us/step - loss: 0.4578 - acc: 0.8571 - val_loss: 0.5868 - val_acc: 0.7670\n",
      "Epoch 36/500\n",
      "5284/5284 [==============================] - 0s 60us/step - loss: 0.4533 - acc: 0.8664 - val_loss: 0.6044 - val_acc: 0.7381\n",
      "Epoch 37/500\n",
      "5284/5284 [==============================] - 0s 62us/step - loss: 0.4520 - acc: 0.8586 - val_loss: 0.5943 - val_acc: 0.7483\n",
      "Epoch 38/500\n",
      "5284/5284 [==============================] - 0s 60us/step - loss: 0.4480 - acc: 0.8624 - val_loss: 0.5852 - val_acc: 0.7619\n",
      "Epoch 39/500\n",
      "5284/5284 [==============================] - 0s 51us/step - loss: 0.4460 - acc: 0.8662 - val_loss: 0.5859 - val_acc: 0.7568\n"
     ]
    }
   ],
   "source": [
    "callbacks = [EarlyStopping(monitor='val_loss', patience=5)]\n",
    "\n",
    "history = model.fit(X_train, y_train,\n",
    "                    epochs=500,\n",
    "                    callbacks=callbacks,\n",
    "                    batch_size=128,\n",
    "                    validation_data=(X_valid, y_valid))"
   ]
  },
  {
   "cell_type": "code",
   "execution_count": 34,
   "metadata": {},
   "outputs": [
    {
     "data": {
      "image/png": "[encoded data removed]",
      "text/plain": [
       "<matplotlib.figure.Figure at 0x7f82282d1150>"
      ]
     },
     "metadata": {},
     "output_type": "display_data"
    }
   ],
   "source": [
    "plt.figure(dpi=100)\n",
    "t = history.epoch\n",
    "\n",
    "plt.subplot(211)\n",
    "plt.plot(t, history.history['loss'], label='loss', color='C0')\n",
    "plt.plot(t, history.history['val_loss'], label='val_loss', color='C1')\n",
    "plt.xlabel('epochs')\n",
    "plt.ylabel('loss')\n",
    "plt.legend(loc=1)\n",
    "\n",
    "plt.subplot(212)\n",
    "plt.plot(t, history.history['acc'], label='acc', color='C2')\n",
    "plt.plot(t, history.history['val_acc'], label='val_acc', color='C3')\n",
    "plt.ylim([0.5, 1])\n",
    "plt.ylabel('acc')\n",
    "plt.xlabel('epochs')\n",
    "plt.legend(loc=1)\n",
    "\n",
    "plt.tight_layout()\n",
    "plt.savefig(root+'/embedding_dense.png')"
   ]
  },
  {
   "cell_type": "code",
   "execution_count": 35,
   "metadata": {},
   "outputs": [
    {
     "name": "stdout",
     "output_type": "stream",
     "text": [
      "5872/5872 [==============================] - 0s 73us/step\n",
      "test_loss: 0.5728 - test_acc: 0.7687\n"
     ]
    }
   ],
   "source": [
    "test_loss, test_acc = model.evaluate(X_test, y_test)\n",
    "print('test_loss: {:1.4f} - test_acc: {:1.4f}'.format(test_loss, test_acc))"
   ]
  },
  {
   "cell_type": "code",
   "execution_count": 10,
   "metadata": {},
   "outputs": [],
   "source": [
    "# model.save_weights('embedding_dense.h5')"
   ]
  },
  {
   "cell_type": "markdown",
   "metadata": {},
   "source": [
    "# Model \\#3: Embedding + LSTM"
   ]
  },
  {
   "cell_type": "code",
   "execution_count": 44,
   "metadata": {},
   "outputs": [
    {
     "name": "stdout",
     "output_type": "stream",
     "text": [
      "_________________________________________________________________\n",
      "Layer (type)                 Output Shape              Param #   \n",
      "=================================================================\n",
      "embedding_7 (Embedding)      (None, 445, 50)           138650    \n",
      "_________________________________________________________________\n",
      "cu_dnnlstm_3 (CuDNNLSTM)     (None, 32)                10752     \n",
      "_________________________________________________________________\n",
      "dense_7 (Dense)              (None, 1)                 33        \n",
      "=================================================================\n",
      "Total params: 149,435\n",
      "Trainable params: 149,435\n",
      "Non-trainable params: 0\n",
      "_________________________________________________________________\n"
     ]
    }
   ],
   "source": [
    "from keras.layers import CuDNNLSTM\n",
    "\n",
    "model = Sequential()\n",
    "model.add(Embedding(n_feat, D, input_length=maxlen))\n",
    "model.add(CuDNNLSTM(32))\n",
    "model.add(Dense(1, activation='sigmoid'))\n",
    "model.compile(optimizer='rmsprop',\n",
    "              loss='binary_crossentropy',\n",
    "              metrics=['acc'])\n",
    "model.summary()"
   ]
  },
  {
   "cell_type": "code",
   "execution_count": 45,
   "metadata": {},
   "outputs": [],
   "source": [
    "model.layers[0].set_weights([embedding_matrix])\n",
    "model.layers[0].trainable = True"
   ]
  },
  {
   "cell_type": "code",
   "execution_count": 46,
   "metadata": {},
   "outputs": [
    {
     "name": "stdout",
     "output_type": "stream",
     "text": [
      "Train on 5284 samples, validate on 588 samples\n",
      "Epoch 1/100\n",
      "5284/5284 [==============================] - 3s 551us/step - loss: 0.6861 - acc: 0.5587 - val_loss: 0.6792 - val_acc: 0.5374\n",
      "Epoch 2/100\n",
      "5284/5284 [==============================] - 2s 454us/step - loss: 0.6321 - acc: 0.6514 - val_loss: 0.5923 - val_acc: 0.7058\n",
      "Epoch 3/100\n",
      "5284/5284 [==============================] - 2s 451us/step - loss: 0.5819 - acc: 0.6963 - val_loss: 0.5895 - val_acc: 0.7041\n",
      "Epoch 4/100\n",
      "5284/5284 [==============================] - 2s 451us/step - loss: 0.5476 - acc: 0.7233 - val_loss: 0.5441 - val_acc: 0.7347\n",
      "Epoch 5/100\n",
      "5284/5284 [==============================] - 2s 450us/step - loss: 0.5151 - acc: 0.7428 - val_loss: 0.5145 - val_acc: 0.7449\n",
      "Epoch 6/100\n",
      "5284/5284 [==============================] - 2s 449us/step - loss: 0.5037 - acc: 0.7555 - val_loss: 0.4859 - val_acc: 0.7602\n",
      "Epoch 7/100\n",
      "5284/5284 [==============================] - 2s 450us/step - loss: 0.4774 - acc: 0.7667 - val_loss: 0.5132 - val_acc: 0.7466\n",
      "Epoch 8/100\n",
      "5284/5284 [==============================] - 2s 452us/step - loss: 0.4627 - acc: 0.7729 - val_loss: 0.4954 - val_acc: 0.7432\n",
      "Epoch 9/100\n",
      "5284/5284 [==============================] - 2s 453us/step - loss: 0.4520 - acc: 0.7905 - val_loss: 0.5389 - val_acc: 0.7024\n",
      "Epoch 10/100\n",
      "5284/5284 [==============================] - 2s 449us/step - loss: 0.4424 - acc: 0.8024 - val_loss: 0.4638 - val_acc: 0.7789\n",
      "Epoch 11/100\n",
      "5284/5284 [==============================] - 2s 446us/step - loss: 0.4339 - acc: 0.7954 - val_loss: 0.5108 - val_acc: 0.7568\n",
      "Epoch 12/100\n",
      "5284/5284 [==============================] - 2s 452us/step - loss: 0.4157 - acc: 0.8062 - val_loss: 0.4848 - val_acc: 0.7602\n",
      "Epoch 13/100\n",
      "5284/5284 [==============================] - 2s 446us/step - loss: 0.4005 - acc: 0.8111 - val_loss: 0.4923 - val_acc: 0.7466\n",
      "Epoch 14/100\n",
      "5284/5284 [==============================] - 2s 449us/step - loss: 0.3926 - acc: 0.8147 - val_loss: 0.4696 - val_acc: 0.7806\n",
      "Epoch 15/100\n",
      "5284/5284 [==============================] - 2s 446us/step - loss: 0.3860 - acc: 0.8229 - val_loss: 0.5386 - val_acc: 0.7194\n",
      "Epoch 16/100\n",
      "5284/5284 [==============================] - 2s 456us/step - loss: 0.3773 - acc: 0.8282 - val_loss: 0.5006 - val_acc: 0.7534\n",
      "Epoch 17/100\n",
      "5284/5284 [==============================] - 2s 453us/step - loss: 0.3640 - acc: 0.8327 - val_loss: 0.4772 - val_acc: 0.7653\n"
     ]
    }
   ],
   "source": [
    "callbacks = [EarlyStopping(monitor='val_loss', patience=7)]\n",
    "\n",
    "history = model.fit(X_train, y_train,\n",
    "                    epochs=100,\n",
    "                    callbacks=callbacks,\n",
    "                    batch_size=128,\n",
    "                    validation_data=(X_valid, y_valid))"
   ]
  },
  {
   "cell_type": "code",
   "execution_count": 47,
   "metadata": {},
   "outputs": [
    {
     "data": {
      "image/png": "[encoded data removed]",
      "text/plain": [
       "<matplotlib.figure.Figure at 0x7f80dc150310>"
      ]
     },
     "metadata": {},
     "output_type": "display_data"
    }
   ],
   "source": [
    "plt.figure(dpi=100)\n",
    "t = history.epoch\n",
    "\n",
    "plt.subplot(211)\n",
    "plt.plot(t, history.history['loss'], label='loss', color='C0')\n",
    "plt.plot(t, history.history['val_loss'], label='val_loss', color='C1')\n",
    "plt.xlabel('epochs')\n",
    "plt.ylabel('loss')\n",
    "plt.legend(loc=1)\n",
    "\n",
    "plt.subplot(212)\n",
    "plt.plot(t, history.history['acc'], label='acc', color='C2')\n",
    "plt.plot(t, history.history['val_acc'], label='val_acc', color='C3')\n",
    "plt.ylim([0.5, 1])\n",
    "plt.ylabel('acc')\n",
    "plt.xlabel('epochs')\n",
    "plt.legend(loc=1)\n",
    "\n",
    "plt.tight_layout()\n",
    "plt.savefig(root+'/embedding_LSTM.png')"
   ]
  },
  {
   "cell_type": "code",
   "execution_count": 48,
   "metadata": {},
   "outputs": [
    {
     "name": "stdout",
     "output_type": "stream",
     "text": [
      "5872/5872 [==============================] - 4s 653us/step\n",
      "test_loss: 0.4665 - test_acc: 0.7750\n"
     ]
    }
   ],
   "source": [
    "test_loss, test_acc = model.evaluate(X_test, y_test)\n",
    "print('test_loss: {:1.4f} - test_acc: {:1.4f}'.format(test_loss, test_acc))"
   ]
  },
  {
   "cell_type": "code",
   "execution_count": 49,
   "metadata": {},
   "outputs": [],
   "source": [
    "model.save_weights(root+'lstm.h5')"
   ]
  },
  {
   "cell_type": "markdown",
   "metadata": {},
   "source": [
    "# Model \\#4: Embedding + Conv1D + LSTM"
   ]
  },
  {
   "cell_type": "code",
   "execution_count": 55,
   "metadata": {},
   "outputs": [
    {
     "name": "stdout",
     "output_type": "stream",
     "text": [
      "_________________________________________________________________\n",
      "Layer (type)                 Output Shape              Param #   \n",
      "=================================================================\n",
      "embedding_9 (Embedding)      (None, 445, 50)           138650    \n",
      "_________________________________________________________________\n",
      "conv1d_2 (Conv1D)            (None, 441, 64)           16064     \n",
      "_________________________________________________________________\n",
      "cu_dnnlstm_5 (CuDNNLSTM)     (None, 32)                12544     \n",
      "_________________________________________________________________\n",
      "dense_9 (Dense)              (None, 1)                 33        \n",
      "=================================================================\n",
      "Total params: 167,291\n",
      "Trainable params: 167,291\n",
      "Non-trainable params: 0\n",
      "_________________________________________________________________\n"
     ]
    }
   ],
   "source": [
    "from keras.layers import Conv1D\n",
    "\n",
    "model = Sequential()\n",
    "model.add(Embedding(n_feat, D, input_length=maxlen))\n",
    "model.add(Conv1D(64, 5, activation='relu'))\n",
    "model.add(CuDNNLSTM(32))\n",
    "model.add(Dense(1, activation='sigmoid'))\n",
    "model.compile(optimizer='adam',\n",
    "              loss='binary_crossentropy',\n",
    "              metrics=['acc'])\n",
    "model.summary()"
   ]
  },
  {
   "cell_type": "code",
   "execution_count": 56,
   "metadata": {},
   "outputs": [],
   "source": [
    "model.layers[0].set_weights([embedding_matrix])\n",
    "model.layers[0].trainable = True"
   ]
  },
  {
   "cell_type": "code",
   "execution_count": 57,
   "metadata": {},
   "outputs": [
    {
     "name": "stdout",
     "output_type": "stream",
     "text": [
      "Train on 5284 samples, validate on 588 samples\n",
      "Epoch 1/300\n",
      "5284/5284 [==============================] - 3s 614us/step - loss: 0.6899 - acc: 0.5534 - val_loss: 0.6687 - val_acc: 0.6735\n",
      "Epoch 2/300\n",
      "5284/5284 [==============================] - 3s 513us/step - loss: 0.6261 - acc: 0.6635 - val_loss: 0.5710 - val_acc: 0.7296\n",
      "Epoch 3/300\n",
      "5284/5284 [==============================] - 3s 512us/step - loss: 0.5614 - acc: 0.7116 - val_loss: 0.5638 - val_acc: 0.7041\n",
      "Epoch 4/300\n",
      "5284/5284 [==============================] - 3s 513us/step - loss: 0.5207 - acc: 0.7417 - val_loss: 0.5174 - val_acc: 0.7398\n",
      "Epoch 5/300\n",
      "5284/5284 [==============================] - 3s 511us/step - loss: 0.4840 - acc: 0.7648 - val_loss: 0.4795 - val_acc: 0.7704\n",
      "Epoch 6/300\n",
      "5284/5284 [==============================] - 3s 513us/step - loss: 0.4481 - acc: 0.7888 - val_loss: 0.5005 - val_acc: 0.7619\n",
      "Epoch 7/300\n",
      "5284/5284 [==============================] - 3s 512us/step - loss: 0.4183 - acc: 0.8024 - val_loss: 0.4971 - val_acc: 0.7381\n",
      "Epoch 8/300\n",
      "5284/5284 [==============================] - 3s 507us/step - loss: 0.3972 - acc: 0.8142 - val_loss: 0.4947 - val_acc: 0.7551\n",
      "Epoch 9/300\n",
      "5284/5284 [==============================] - 3s 506us/step - loss: 0.3757 - acc: 0.8251 - val_loss: 0.5010 - val_acc: 0.7517\n",
      "Epoch 10/300\n",
      "5284/5284 [==============================] - 3s 508us/step - loss: 0.3624 - acc: 0.8333 - val_loss: 0.4955 - val_acc: 0.7585\n",
      "Epoch 11/300\n",
      "5284/5284 [==============================] - 3s 508us/step - loss: 0.3636 - acc: 0.8350 - val_loss: 0.4994 - val_acc: 0.7687\n",
      "Epoch 12/300\n",
      "5284/5284 [==============================] - 3s 513us/step - loss: 0.3416 - acc: 0.8463 - val_loss: 0.5147 - val_acc: 0.7602\n"
     ]
    }
   ],
   "source": [
    "callbacks = [EarlyStopping(monitor='val_loss', patience=7)]\n",
    "\n",
    "history = model.fit(X_train, y_train,\n",
    "                    epochs=300,\n",
    "                    callbacks=callbacks,\n",
    "                    batch_size=128,\n",
    "                    validation_data=(X_valid, y_valid))"
   ]
  },
  {
   "cell_type": "code",
   "execution_count": 58,
   "metadata": {},
   "outputs": [
    {
     "data": {
      "image/png": "[encoded data removed]",
      "text/plain": [
       "<matplotlib.figure.Figure at 0x7f80b0c62b90>"
      ]
     },
     "metadata": {},
     "output_type": "display_data"
    }
   ],
   "source": [
    "plt.figure(dpi=100)\n",
    "t = history.epoch\n",
    "\n",
    "plt.subplot(211)\n",
    "plt.plot(t, history.history['loss'], label='loss', color='C0')\n",
    "plt.plot(t, history.history['val_loss'], label='val_loss', color='C1')\n",
    "plt.xlabel('epochs')\n",
    "plt.ylabel('loss')\n",
    "plt.legend(loc=1)\n",
    "\n",
    "plt.subplot(212)\n",
    "plt.plot(t, history.history['acc'], label='acc', color='C2')\n",
    "plt.plot(t, history.history['val_acc'], label='val_acc', color='C3')\n",
    "plt.ylim([0.5, 1])\n",
    "plt.ylabel('acc')\n",
    "plt.xlabel('epochs')\n",
    "plt.legend(loc=1)\n",
    "\n",
    "plt.tight_layout()\n",
    "plt.savefig(root+'/embedding_convLSTM.png')"
   ]
  },
  {
   "cell_type": "code",
   "execution_count": 59,
   "metadata": {},
   "outputs": [
    {
     "name": "stdout",
     "output_type": "stream",
     "text": [
      "5872/5872 [==============================] - 4s 670us/step\n",
      "test_loss: 0.5230 - test_acc: 0.7635\n"
     ]
    }
   ],
   "source": [
    "test_loss, test_acc = model.evaluate(X_test, y_test)\n",
    "print('test_loss: {:1.4f} - test_acc: {:1.4f}'.format(test_loss, test_acc))"
   ]
  },
  {
   "cell_type": "code",
   "execution_count": 60,
   "metadata": {},
   "outputs": [],
   "source": [
    "model.save_weights(root+'conv_lstm.h5')"
   ]
  },
  {
   "cell_type": "markdown",
   "metadata": {},
   "source": [
    "# Model \\#7: Embedding + BiLSTM"
   ]
  },
  {
   "cell_type": "code",
   "execution_count": 62,
   "metadata": {},
   "outputs": [
    {
     "name": "stdout",
     "output_type": "stream",
     "text": [
      "_________________________________________________________________\n",
      "Layer (type)                 Output Shape              Param #   \n",
      "=================================================================\n",
      "embedding_11 (Embedding)     (None, 445, 50)           138650    \n",
      "_________________________________________________________________\n",
      "bidirectional_2 (Bidirection (None, 64)                21504     \n",
      "_________________________________________________________________\n",
      "dense_11 (Dense)             (None, 1)                 65        \n",
      "=================================================================\n",
      "Total params: 160,219\n",
      "Trainable params: 160,219\n",
      "Non-trainable params: 0\n",
      "_________________________________________________________________\n"
     ]
    }
   ],
   "source": [
    "from keras.layers import Bidirectional\n",
    "\n",
    "model = Sequential()\n",
    "model.add(Embedding(n_feat, D, input_length=maxlen))\n",
    "model.add(Bidirectional(CuDNNLSTM(32)))\n",
    "model.add(Dense(1, activation='sigmoid'))\n",
    "model.compile(optimizer='rmsprop',\n",
    "              loss='binary_crossentropy',\n",
    "              metrics=['acc'])\n",
    "model.summary()"
   ]
  },
  {
   "cell_type": "code",
   "execution_count": 63,
   "metadata": {},
   "outputs": [],
   "source": [
    "model.layers[0].set_weights([embedding_matrix])\n",
    "model.layers[0].trainable = True"
   ]
  },
  {
   "cell_type": "code",
   "execution_count": 64,
   "metadata": {},
   "outputs": [
    {
     "name": "stdout",
     "output_type": "stream",
     "text": [
      "Train on 5284 samples, validate on 588 samples\n",
      "Epoch 1/300\n",
      "5284/5284 [==============================] - 5s 992us/step - loss: 0.6834 - acc: 0.5590 - val_loss: 0.6629 - val_acc: 0.5782\n",
      "Epoch 2/300\n",
      "5284/5284 [==============================] - 5s 881us/step - loss: 0.6351 - acc: 0.6470 - val_loss: 0.5940 - val_acc: 0.6973\n",
      "Epoch 3/300\n",
      "5284/5284 [==============================] - 5s 890us/step - loss: 0.5868 - acc: 0.6930 - val_loss: 0.5957 - val_acc: 0.6837\n",
      "Epoch 4/300\n",
      "5284/5284 [==============================] - 5s 892us/step - loss: 0.5572 - acc: 0.7161 - val_loss: 0.5732 - val_acc: 0.7024\n",
      "Epoch 5/300\n",
      "5284/5284 [==============================] - 5s 894us/step - loss: 0.5312 - acc: 0.7326 - val_loss: 0.8198 - val_acc: 0.6020\n",
      "Epoch 6/300\n",
      "5284/5284 [==============================] - 5s 896us/step - loss: 0.5135 - acc: 0.7424 - val_loss: 0.6067 - val_acc: 0.6650\n",
      "Epoch 7/300\n",
      "5284/5284 [==============================] - 5s 892us/step - loss: 0.4885 - acc: 0.7597 - val_loss: 0.5018 - val_acc: 0.7568\n",
      "Epoch 8/300\n",
      "5284/5284 [==============================] - 5s 882us/step - loss: 0.4661 - acc: 0.7816 - val_loss: 0.8003 - val_acc: 0.5952\n",
      "Epoch 9/300\n",
      "5284/5284 [==============================] - 5s 885us/step - loss: 0.4620 - acc: 0.7773 - val_loss: 0.4687 - val_acc: 0.7755\n",
      "Epoch 10/300\n",
      "5284/5284 [==============================] - 5s 895us/step - loss: 0.4545 - acc: 0.7807 - val_loss: 0.5768 - val_acc: 0.6990\n",
      "Epoch 11/300\n",
      "5284/5284 [==============================] - 5s 886us/step - loss: 0.4348 - acc: 0.7877 - val_loss: 0.5108 - val_acc: 0.7517\n",
      "Epoch 12/300\n",
      "5284/5284 [==============================] - 5s 897us/step - loss: 0.4272 - acc: 0.7950 - val_loss: 0.4686 - val_acc: 0.7806\n",
      "Epoch 13/300\n",
      "5284/5284 [==============================] - 5s 888us/step - loss: 0.4170 - acc: 0.8047 - val_loss: 0.4721 - val_acc: 0.7806\n",
      "Epoch 14/300\n",
      "5284/5284 [==============================] - 5s 884us/step - loss: 0.4068 - acc: 0.8051 - val_loss: 0.4961 - val_acc: 0.7602\n",
      "Epoch 15/300\n",
      "5284/5284 [==============================] - 5s 894us/step - loss: 0.4015 - acc: 0.8106 - val_loss: 0.4732 - val_acc: 0.7840\n",
      "Epoch 16/300\n",
      "5284/5284 [==============================] - 5s 891us/step - loss: 0.3904 - acc: 0.8240 - val_loss: 0.4953 - val_acc: 0.7738\n",
      "Epoch 17/300\n",
      "5284/5284 [==============================] - 5s 892us/step - loss: 0.3836 - acc: 0.8204 - val_loss: 0.5250 - val_acc: 0.7670\n",
      "Epoch 18/300\n",
      "5284/5284 [==============================] - 5s 889us/step - loss: 0.3807 - acc: 0.8189 - val_loss: 0.5123 - val_acc: 0.7449\n",
      "Epoch 19/300\n",
      "5284/5284 [==============================] - 5s 901us/step - loss: 0.3666 - acc: 0.8314 - val_loss: 0.8280 - val_acc: 0.7160\n"
     ]
    }
   ],
   "source": [
    "callbacks = [EarlyStopping(monitor='val_loss', patience=7)]\n",
    "\n",
    "history = model.fit(X_train, y_train,\n",
    "                    epochs=300,\n",
    "                    callbacks=callbacks,\n",
    "                    batch_size=128,\n",
    "                    validation_data=(X_valid, y_valid))"
   ]
  },
  {
   "cell_type": "code",
   "execution_count": 65,
   "metadata": {},
   "outputs": [
    {
     "data": {
      "image/png": "[encoded data removed]",
      "text/plain": [
       "<matplotlib.figure.Figure at 0x7f80aff50510>"
      ]
     },
     "metadata": {},
     "output_type": "display_data"
    }
   ],
   "source": [
    "plt.figure(dpi=100)\n",
    "t = history.epoch\n",
    "\n",
    "plt.subplot(211)\n",
    "plt.plot(t, history.history['loss'], label='loss', color='C0')\n",
    "plt.plot(t, history.history['val_loss'], label='val_loss', color='C1')\n",
    "plt.xlabel('epochs')\n",
    "plt.ylabel('loss')\n",
    "plt.legend(loc=1)\n",
    "\n",
    "plt.subplot(212)\n",
    "plt.plot(t, history.history['acc'], label='acc', color='C2')\n",
    "plt.plot(t, history.history['val_acc'], label='val_acc', color='C3')\n",
    "plt.ylim([0.5, 1])\n",
    "plt.ylabel('acc')\n",
    "plt.xlabel('epochs')\n",
    "plt.legend(loc=1)\n",
    "\n",
    "plt.tight_layout()\n",
    "plt.savefig(root+'embedding_bilstm.png')"
   ]
  },
  {
   "cell_type": "code",
   "execution_count": 66,
   "metadata": {},
   "outputs": [
    {
     "name": "stdout",
     "output_type": "stream",
     "text": [
      "5872/5872 [==============================] - 7s 1ms/step\n",
      "test_loss: 0.8755 - test_acc: 0.7011\n"
     ]
    }
   ],
   "source": [
    "test_loss, test_acc = model.evaluate(X_test, y_test)\n",
    "print('test_loss: {:1.4f} - test_acc: {:1.4f}'.format(test_loss, test_acc))"
   ]
  },
  {
   "cell_type": "code",
   "execution_count": 67,
   "metadata": {},
   "outputs": [],
   "source": [
    "# model.save_weights('embedding_bilstm.h5')"
   ]
  },
  {
   "cell_type": "markdown",
   "metadata": {},
   "source": [
    "# Model \\#8: Embedding + Conv1D + BiLSTM"
   ]
  },
  {
   "cell_type": "code",
   "execution_count": 68,
   "metadata": {},
   "outputs": [
    {
     "name": "stdout",
     "output_type": "stream",
     "text": [
      "_________________________________________________________________\n",
      "Layer (type)                 Output Shape              Param #   \n",
      "=================================================================\n",
      "embedding_12 (Embedding)     (None, 445, 50)           138650    \n",
      "_________________________________________________________________\n",
      "conv1d_3 (Conv1D)            (None, 436, 128)          64128     \n",
      "_________________________________________________________________\n",
      "max_pooling1d_1 (MaxPooling1 (None, 432, 128)          0         \n",
      "_________________________________________________________________\n",
      "bidirectional_3 (Bidirection (None, 64)                41472     \n",
      "_________________________________________________________________\n",
      "dense_12 (Dense)             (None, 1)                 65        \n",
      "=================================================================\n",
      "Total params: 244,315\n",
      "Trainable params: 244,315\n",
      "Non-trainable params: 0\n",
      "_________________________________________________________________\n"
     ]
    }
   ],
   "source": [
    "from keras.optimizers import Adam\n",
    "from keras.layers import MaxPooling1D\n",
    "\n",
    "model = Sequential()\n",
    "model.add(Embedding(n_feat, D, input_length=maxlen))\n",
    "model.add(Conv1D(128, 10, activation='relu'))\n",
    "model.add(MaxPooling1D(5, 1))\n",
    "model.add(Bidirectional(CuDNNLSTM(32)))\n",
    "model.add(Dense(1, activation='sigmoid'))\n",
    "model.compile(optimizer='rmsprop',#Adam(lr=1e-5, decay=1e-5),\n",
    "              loss='binary_crossentropy',\n",
    "              metrics=['acc'])\n",
    "model.summary()"
   ]
  },
  {
   "cell_type": "code",
   "execution_count": 69,
   "metadata": {},
   "outputs": [],
   "source": [
    "model.layers[0].set_weights([embedding_matrix])\n",
    "model.layers[0].trainable = True"
   ]
  },
  {
   "cell_type": "code",
   "execution_count": 70,
   "metadata": {},
   "outputs": [
    {
     "name": "stdout",
     "output_type": "stream",
     "text": [
      "Train on 5284 samples, validate on 588 samples\n",
      "Epoch 1/500\n",
      "5284/5284 [==============================] - 7s 1ms/step - loss: 0.6967 - acc: 0.5337 - val_loss: 0.7367 - val_acc: 0.5000\n",
      "Epoch 2/500\n",
      "5284/5284 [==============================] - 6s 1ms/step - loss: 0.6452 - acc: 0.6306 - val_loss: 0.5981 - val_acc: 0.6837\n",
      "Epoch 3/500\n",
      "5284/5284 [==============================] - 6s 1ms/step - loss: 0.6020 - acc: 0.6819 - val_loss: 0.5848 - val_acc: 0.6973\n",
      "Epoch 4/500\n",
      "5284/5284 [==============================] - 6s 1ms/step - loss: 0.5659 - acc: 0.7123 - val_loss: 0.5866 - val_acc: 0.6769\n",
      "Epoch 5/500\n",
      "5284/5284 [==============================] - 6s 1ms/step - loss: 0.5341 - acc: 0.7324 - val_loss: 0.5742 - val_acc: 0.6922\n",
      "Epoch 6/500\n",
      "5284/5284 [==============================] - 6s 1ms/step - loss: 0.5038 - acc: 0.7538 - val_loss: 0.5709 - val_acc: 0.7041\n",
      "Epoch 7/500\n",
      "5284/5284 [==============================] - 6s 1ms/step - loss: 0.4692 - acc: 0.7731 - val_loss: 0.5222 - val_acc: 0.7517\n",
      "Epoch 8/500\n",
      "5284/5284 [==============================] - 6s 1ms/step - loss: 0.4564 - acc: 0.7799 - val_loss: 0.5185 - val_acc: 0.7313\n",
      "Epoch 9/500\n",
      "5284/5284 [==============================] - 6s 1ms/step - loss: 0.4328 - acc: 0.7988 - val_loss: 0.5120 - val_acc: 0.7296\n",
      "Epoch 10/500\n",
      "5284/5284 [==============================] - 6s 1ms/step - loss: 0.3957 - acc: 0.8195 - val_loss: 0.4971 - val_acc: 0.7432\n",
      "Epoch 11/500\n",
      "5284/5284 [==============================] - 6s 1ms/step - loss: 0.3663 - acc: 0.8314 - val_loss: 0.5468 - val_acc: 0.7466\n",
      "Epoch 12/500\n",
      "5284/5284 [==============================] - 6s 1ms/step - loss: 0.3323 - acc: 0.8565 - val_loss: 0.6616 - val_acc: 0.6939\n",
      "Epoch 13/500\n",
      "5284/5284 [==============================] - 6s 1ms/step - loss: 0.3205 - acc: 0.8609 - val_loss: 0.5521 - val_acc: 0.7398\n",
      "Epoch 14/500\n",
      "5284/5284 [==============================] - 6s 1ms/step - loss: 0.2709 - acc: 0.8895 - val_loss: 0.6152 - val_acc: 0.6939\n",
      "Epoch 15/500\n",
      "5284/5284 [==============================] - 6s 1ms/step - loss: 0.2448 - acc: 0.9054 - val_loss: 0.5776 - val_acc: 0.7177\n",
      "Epoch 16/500\n",
      "5284/5284 [==============================] - 6s 1ms/step - loss: 0.2050 - acc: 0.9194 - val_loss: 0.8226 - val_acc: 0.6769\n",
      "Epoch 17/500\n",
      "5284/5284 [==============================] - 6s 1ms/step - loss: 0.1704 - acc: 0.9385 - val_loss: 0.7446 - val_acc: 0.7194\n"
     ]
    }
   ],
   "source": [
    "callbacks = [EarlyStopping(monitor='val_loss', patience=7)] \n",
    "\n",
    "history = model.fit(X_train, y_train,\n",
    "                    epochs=500,\n",
    "                    callbacks=callbacks,\n",
    "                    batch_size=128,\n",
    "                    validation_data=(X_valid, y_valid))"
   ]
  },
  {
   "cell_type": "code",
   "execution_count": 71,
   "metadata": {},
   "outputs": [
    {
     "data": {
      "image/png": "[encoded data removed]",
      "text/plain": [
       "<matplotlib.figure.Figure at 0x7f80af3c0450>"
      ]
     },
     "metadata": {},
     "output_type": "display_data"
    }
   ],
   "source": [
    "plt.figure(dpi=100)\n",
    "t = history.epoch\n",
    "\n",
    "plt.subplot(211)\n",
    "plt.plot(t, history.history['loss'], label='loss', color='C0')\n",
    "plt.plot(t, history.history['val_loss'], label='val_loss', color='C1')\n",
    "plt.xlabel('epochs')\n",
    "plt.ylabel('loss')\n",
    "plt.legend(loc=1)\n",
    "\n",
    "plt.subplot(212)\n",
    "plt.plot(t, history.history['acc'], label='acc', color='C2')\n",
    "plt.plot(t, history.history['val_acc'], label='val_acc', color='C3')\n",
    "plt.ylim([0.5, 1])\n",
    "plt.ylabel('acc')\n",
    "plt.xlabel('epochs')\n",
    "plt.legend(loc=1)\n",
    "\n",
    "plt.tight_layout()\n",
    "plt.savefig(root+'/embedding_conv_bilstm.png')"
   ]
  },
  {
   "cell_type": "code",
   "execution_count": 72,
   "metadata": {},
   "outputs": [
    {
     "name": "stdout",
     "output_type": "stream",
     "text": [
      "5872/5872 [==============================] - 8s 1ms/step\n",
      "test_loss: 0.8000 - test_acc: 0.6860\n"
     ]
    }
   ],
   "source": [
    "test_loss, test_acc = model.evaluate(X_test, y_test)\n",
    "print('test_loss: {:1.4f} - test_acc: {:1.4f}'.format(test_loss, test_acc))"
   ]
  },
  {
   "cell_type": "markdown",
   "metadata": {},
   "source": [
    "# Model \\#: 10"
   ]
  },
  {
   "cell_type": "code",
   "execution_count": 73,
   "metadata": {},
   "outputs": [
    {
     "name": "stdout",
     "output_type": "stream",
     "text": [
      "_________________________________________________________________\n",
      "Layer (type)                 Output Shape              Param #   \n",
      "=================================================================\n",
      "embedding_13 (Embedding)     (None, 445, 50)           138650    \n",
      "_________________________________________________________________\n",
      "bidirectional_4 (Bidirection (None, 64)                21248     \n",
      "_________________________________________________________________\n",
      "dense_13 (Dense)             (None, 1)                 65        \n",
      "=================================================================\n",
      "Total params: 159,963\n",
      "Trainable params: 159,963\n",
      "Non-trainable params: 0\n",
      "_________________________________________________________________\n"
     ]
    }
   ],
   "source": [
    "from keras.layers import LSTM\n",
    "\n",
    "model = Sequential()\n",
    "model.add(Embedding(n_feat, D, input_length=maxlen))\n",
    "model.add(Bidirectional(LSTM(32, recurrent_dropout=0.25, dropout=0.25)))\n",
    "model.add(Dense(1, activation='sigmoid'))\n",
    "model.compile(optimizer='rmsprop',\n",
    "              loss='binary_crossentropy',\n",
    "              metrics=['acc'])\n",
    "model.summary()"
   ]
  },
  {
   "cell_type": "code",
   "execution_count": 74,
   "metadata": {},
   "outputs": [],
   "source": [
    "model.layers[0].set_weights([embedding_matrix])\n",
    "model.layers[0].trainable = True"
   ]
  },
  {
   "cell_type": "code",
   "execution_count": 75,
   "metadata": {},
   "outputs": [
    {
     "name": "stdout",
     "output_type": "stream",
     "text": [
      "Train on 5284 samples, validate on 588 samples\n",
      "Epoch 1/100\n",
      "5284/5284 [==============================] - 70s 13ms/step - loss: 0.6918 - acc: 0.5254 - val_loss: 0.6856 - val_acc: 0.5068\n",
      "Epoch 2/100\n",
      "5284/5284 [==============================] - 66s 13ms/step - loss: 0.6706 - acc: 0.6028 - val_loss: 0.6399 - val_acc: 0.6565\n",
      "Epoch 3/100\n",
      "5284/5284 [==============================] - 68s 13ms/step - loss: 0.6320 - acc: 0.6531 - val_loss: 0.6118 - val_acc: 0.6769\n",
      "Epoch 4/100\n",
      "5284/5284 [==============================] - 68s 13ms/step - loss: 0.6030 - acc: 0.6760 - val_loss: 0.5735 - val_acc: 0.7160\n",
      "Epoch 5/100\n",
      "5284/5284 [==============================] - 68s 13ms/step - loss: 0.5852 - acc: 0.6953 - val_loss: 0.5737 - val_acc: 0.7075\n",
      "Epoch 6/100\n",
      "5284/5284 [==============================] - 67s 13ms/step - loss: 0.5677 - acc: 0.7116 - val_loss: 0.5520 - val_acc: 0.7432\n",
      "Epoch 7/100\n",
      "5284/5284 [==============================] - 67s 13ms/step - loss: 0.5524 - acc: 0.7178 - val_loss: 0.5419 - val_acc: 0.7432\n",
      "Epoch 8/100\n",
      "5284/5284 [==============================] - 66s 12ms/step - loss: 0.5400 - acc: 0.7288 - val_loss: 0.5310 - val_acc: 0.7330\n",
      "Epoch 9/100\n",
      "5284/5284 [==============================] - 67s 13ms/step - loss: 0.5319 - acc: 0.7320 - val_loss: 0.5251 - val_acc: 0.7500\n",
      "Epoch 10/100\n",
      "5284/5284 [==============================] - 67s 13ms/step - loss: 0.5217 - acc: 0.7343 - val_loss: 0.5278 - val_acc: 0.7415\n",
      "Epoch 11/100\n",
      "5284/5284 [==============================] - 68s 13ms/step - loss: 0.5155 - acc: 0.7369 - val_loss: 0.5365 - val_acc: 0.7551\n",
      "Epoch 12/100\n",
      "5284/5284 [==============================] - 67s 13ms/step - loss: 0.5108 - acc: 0.7436 - val_loss: 0.5050 - val_acc: 0.7466\n",
      "Epoch 13/100\n",
      "5284/5284 [==============================] - 68s 13ms/step - loss: 0.4917 - acc: 0.7576 - val_loss: 0.4934 - val_acc: 0.7466\n",
      "Epoch 14/100\n",
      "5284/5284 [==============================] - 68s 13ms/step - loss: 0.4892 - acc: 0.7523 - val_loss: 0.5223 - val_acc: 0.7228\n",
      "Epoch 15/100\n",
      "5284/5284 [==============================] - 68s 13ms/step - loss: 0.4785 - acc: 0.7640 - val_loss: 0.5000 - val_acc: 0.7500\n",
      "Epoch 16/100\n",
      "5284/5284 [==============================] - 67s 13ms/step - loss: 0.4672 - acc: 0.7702 - val_loss: 0.4933 - val_acc: 0.7534\n",
      "Epoch 17/100\n",
      "5284/5284 [==============================] - 66s 13ms/step - loss: 0.4610 - acc: 0.7748 - val_loss: 0.5208 - val_acc: 0.7466\n",
      "Epoch 18/100\n",
      "5284/5284 [==============================] - 67s 13ms/step - loss: 0.4560 - acc: 0.7782 - val_loss: 0.4811 - val_acc: 0.7585\n",
      "Epoch 19/100\n",
      "5284/5284 [==============================] - 69s 13ms/step - loss: 0.4451 - acc: 0.7894 - val_loss: 0.4927 - val_acc: 0.7534\n",
      "Epoch 20/100\n",
      "5284/5284 [==============================] - 68s 13ms/step - loss: 0.4346 - acc: 0.7930 - val_loss: 0.4901 - val_acc: 0.7466\n",
      "Epoch 21/100\n",
      "5284/5284 [==============================] - 68s 13ms/step - loss: 0.4383 - acc: 0.7928 - val_loss: 0.4920 - val_acc: 0.7755\n",
      "Epoch 22/100\n",
      "5284/5284 [==============================] - 68s 13ms/step - loss: 0.4317 - acc: 0.7922 - val_loss: 0.4763 - val_acc: 0.7789\n",
      "Epoch 23/100\n",
      "5284/5284 [==============================] - 67s 13ms/step - loss: 0.4274 - acc: 0.7949 - val_loss: 0.5440 - val_acc: 0.7109\n",
      "Epoch 24/100\n",
      "5284/5284 [==============================] - 67s 13ms/step - loss: 0.4208 - acc: 0.7988 - val_loss: 0.4681 - val_acc: 0.7772\n",
      "Epoch 25/100\n",
      "5284/5284 [==============================] - 67s 13ms/step - loss: 0.4191 - acc: 0.8051 - val_loss: 0.4874 - val_acc: 0.7585\n",
      "Epoch 26/100\n",
      "5284/5284 [==============================] - 68s 13ms/step - loss: 0.4053 - acc: 0.8087 - val_loss: 0.4700 - val_acc: 0.7755\n",
      "Epoch 27/100\n",
      "5284/5284 [==============================] - 68s 13ms/step - loss: 0.4094 - acc: 0.8089 - val_loss: 0.5098 - val_acc: 0.7466\n",
      "Epoch 28/100\n",
      "5284/5284 [==============================] - 67s 13ms/step - loss: 0.4010 - acc: 0.8121 - val_loss: 0.4772 - val_acc: 0.7738\n",
      "Epoch 29/100\n",
      "5284/5284 [==============================] - 68s 13ms/step - loss: 0.3978 - acc: 0.8119 - val_loss: 0.4807 - val_acc: 0.7755\n",
      "Epoch 30/100\n",
      "5284/5284 [==============================] - 68s 13ms/step - loss: 0.3891 - acc: 0.8200 - val_loss: 0.4799 - val_acc: 0.7840\n",
      "Epoch 31/100\n",
      "5284/5284 [==============================] - 68s 13ms/step - loss: 0.3877 - acc: 0.8225 - val_loss: 0.4794 - val_acc: 0.7755\n",
      "Epoch 32/100\n",
      "5284/5284 [==============================] - 69s 13ms/step - loss: 0.3830 - acc: 0.8215 - val_loss: 0.4766 - val_acc: 0.7738\n",
      "Epoch 33/100\n",
      "5284/5284 [==============================] - 67s 13ms/step - loss: 0.3816 - acc: 0.8238 - val_loss: 0.4799 - val_acc: 0.7789\n",
      "Epoch 34/100\n",
      "5284/5284 [==============================] - 66s 12ms/step - loss: 0.3729 - acc: 0.8293 - val_loss: 0.4879 - val_acc: 0.7772\n",
      "Epoch 35/100\n",
      "5284/5284 [==============================] - 68s 13ms/step - loss: 0.3774 - acc: 0.8270 - val_loss: 0.5438 - val_acc: 0.7500\n",
      "Epoch 36/100\n",
      "5284/5284 [==============================] - 68s 13ms/step - loss: 0.3683 - acc: 0.8306 - val_loss: 0.4922 - val_acc: 0.7721\n",
      "Epoch 37/100\n",
      "5284/5284 [==============================] - 68s 13ms/step - loss: 0.3721 - acc: 0.8316 - val_loss: 0.5073 - val_acc: 0.7755\n",
      "Epoch 38/100\n",
      "5284/5284 [==============================] - 68s 13ms/step - loss: 0.3629 - acc: 0.8297 - val_loss: 0.4978 - val_acc: 0.7823\n",
      "Epoch 39/100\n",
      "5284/5284 [==============================] - 67s 13ms/step - loss: 0.3581 - acc: 0.8386 - val_loss: 0.5009 - val_acc: 0.7772\n"
     ]
    }
   ],
   "source": [
    "callbacks = [EarlyStopping(monitor='val_loss', patience=15)] \n",
    "\n",
    "history = model.fit(X_train, y_train,\n",
    "                    epochs=100,\n",
    "                    callbacks=callbacks,\n",
    "                    batch_size=128,\n",
    "                    validation_data=(X_valid, y_valid))"
   ]
  },
  {
   "cell_type": "code",
   "execution_count": 76,
   "metadata": {},
   "outputs": [
    {
     "data": {
      "image/png": "[encoded data removed]",
      "text/plain": [
       "<matplotlib.figure.Figure at 0x7f80ad08be10>"
      ]
     },
     "metadata": {},
     "output_type": "display_data"
    }
   ],
   "source": [
    "plt.figure(dpi=100)\n",
    "t = history.epoch\n",
    "\n",
    "plt.subplot(211)\n",
    "plt.plot(t, history.history['loss'], label='loss', color='C0')\n",
    "plt.plot(t, history.history['val_loss'], label='val_loss', color='C1')\n",
    "plt.xlabel('epochs')\n",
    "plt.ylabel('loss')\n",
    "plt.legend(loc=1)\n",
    "\n",
    "plt.subplot(212)\n",
    "plt.plot(t, history.history['acc'], label='acc', color='C2')\n",
    "plt.plot(t, history.history['val_acc'], label='val_acc', color='C3')\n",
    "plt.ylim([0.5, 1])\n",
    "plt.ylabel('acc')\n",
    "plt.xlabel('epochs')\n",
    "plt.legend(loc=1)\n",
    "\n",
    "plt.tight_layout()\n",
    "plt.savefig(root+'/embedding_dropout_LSTM.png')"
   ]
  },
  {
   "cell_type": "code",
   "execution_count": 77,
   "metadata": {},
   "outputs": [
    {
     "name": "stdout",
     "output_type": "stream",
     "text": [
      "5872/5872 [==============================] - 61s 10ms/step\n",
      "test_loss: 0.5080 - test_acc: 0.7737\n"
     ]
    }
   ],
   "source": [
    "test_loss, test_acc = model.evaluate(X_test, y_test)\n",
    "print('test_loss: {:1.4f} - test_acc: {:1.4f}'.format(test_loss, test_acc))"
   ]
  },
  {
   "cell_type": "code",
   "execution_count": null,
   "metadata": {},
   "outputs": [],
   "source": []
  }
 ],
 "metadata": {
  "kernelspec": {
   "display_name": "Python 2",
   "language": "python",
   "name": "python2"
  },
  "language_info": {
   "codemirror_mode": {
    "name": "ipython",
    "version": 2
   },
   "file_extension": ".py",
   "mimetype": "text/x-python",
   "name": "python",
   "nbconvert_exporter": "python",
   "pygments_lexer": "ipython2",
   "version": "2.7.14"
  }
 },
 "nbformat": 4,
 "nbformat_minor": 2
}
