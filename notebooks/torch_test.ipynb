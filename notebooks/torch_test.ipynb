{
 "cells": [
  {
   "cell_type": "markdown",
   "metadata": {},
   "source": [
    "# Preamble\n",
    "raw csv $\\rightarrow$ tokenized data $\\rightarrow$ training/validation/test splits"
   ]
  },
  {
   "cell_type": "code",
   "execution_count": 3,
   "metadata": {},
   "outputs": [
    {
     "name": "stderr",
     "output_type": "stream",
     "text": [
      "Using TensorFlow backend.\n"
     ]
    },
    {
     "name": "stdout",
     "output_type": "stream",
     "text": [
      "5872 learn / 5872 test\n",
      "5284 training / 588 validation\n"
     ]
    }
   ],
   "source": [
    "from __future__ import division\n",
    "import pandas as pd\n",
    "import numpy as np\n",
    "\n",
    "from keras.preprocessing.text import Tokenizer\n",
    "from keras.preprocessing.sequence import pad_sequences\n",
    "\n",
    "from sklearn.model_selection import StratifiedShuffleSplit\n",
    "\n",
    "# Load raw csv\n",
    "labels = pd.read_csv('../tmp/1_METONLY_vs_METX/matched_CEM_table.csv', header=0).rename({'Unnamed: 0': 'PIN'}, axis=1)[['PIN', 'CLASS']].set_index('PIN')\n",
    "data = pd.read_csv('../tmp/raw_sequences2.csv', header=0, index_col=0).loc[labels.index, 'seq']\n",
    "df = pd.DataFrame(columns=['Seq', 'Class'], index=data.index)\n",
    "df.loc[:, 'Seq'] = data\n",
    "df.loc[:, 'Class'] = labels['CLASS']\n",
    "\n",
    "# Define tokenizer object\n",
    "tokenizer = Tokenizer(char_level=False, lower=False, split=' ')\n",
    "\n",
    "# Fit on corpus and extract tokenized sequences\n",
    "tokenizer.fit_on_texts(df['Seq'])\n",
    "n_feat = len(tokenizer.word_index.keys())\n",
    "seq = tokenizer.texts_to_sequences(df['Seq'])\n",
    "\n",
    "# Pad tokenized sequences\n",
    "lengths = [len(x) for x in seq]\n",
    "maxlen = int(np.percentile(lengths, 95))\n",
    "p_seq = pad_sequences(seq, maxlen=maxlen)\n",
    "\n",
    "# Full dataset\n",
    "y = df['Class'].ravel()\n",
    "X = p_seq\n",
    "\n",
    "# Learn / Test\n",
    "sss = StratifiedShuffleSplit(n_splits=1, test_size=0.5, random_state=0)\n",
    "learn_idx, test_idx = next(sss.split(X, y))\n",
    "\n",
    "X_learn, y_learn = X[learn_idx, :], y[learn_idx]\n",
    "X_test, y_test = X[test_idx, :], y[test_idx]\n",
    "\n",
    "print('{} learn / {} test'.format(len(y_learn), len(y_test)))\n",
    "\n",
    "# Training / Validation\n",
    "sss = StratifiedShuffleSplit(n_splits=1, test_size=0.1, random_state=1)\n",
    "train_idx, valid_idx = next(sss.split(X_learn, y_learn))\n",
    "\n",
    "X_train, y_train = X_learn[train_idx, :], y_learn[train_idx]\n",
    "X_valid, y_valid = X_learn[valid_idx, :], y_learn[valid_idx]\n",
    "\n",
    "print('{} training / {} validation'.format(len(y_train), len(y_valid)))"
   ]
  },
  {
   "cell_type": "code",
   "execution_count": 4,
   "metadata": {},
   "outputs": [
    {
     "data": {
      "text/plain": [
       "(5284, 889)"
      ]
     },
     "execution_count": 4,
     "metadata": {},
     "output_type": "execute_result"
    }
   ],
   "source": [
    "X_train.shape"
   ]
  },
  {
   "cell_type": "markdown",
   "metadata": {},
   "source": [
    "# Simple pytorch LSTM"
   ]
  },
  {
   "cell_type": "code",
   "execution_count": 5,
   "metadata": {},
   "outputs": [],
   "source": [
    "import torch\n",
    "\n",
    "X_train_ft = torch.LongTensor(X_train)\n",
    "y_train_ft = torch.LongTensor(y_train)\n",
    "X_valid_ft = torch.LongTensor(X_valid)\n",
    "y_valid_ft = torch.LongTensor(y_valid)\n",
    "X_test_ft = torch.LongTensor(X_test)\n",
    "y_test_ft = torch.LongTensor(y_test)"
   ]
  },
  {
   "cell_type": "code",
   "execution_count": 6,
   "metadata": {},
   "outputs": [],
   "source": [
    "from torch.utils.data import DataLoader, TensorDataset\n",
    "batch_size = 128\n",
    "\n",
    "training_set = TensorDataset(X_train_ft, y_train_ft)\n",
    "train_loader = DataLoader(training_set,\n",
    "                          batch_size=batch_size,\n",
    "                          shuffle=True,\n",
    "                          num_workers=4)\n",
    "\n",
    "valid_set = TensorDataset(X_valid_ft, y_valid_ft)\n",
    "valid_loader = DataLoader(valid_set,\n",
    "                          batch_size=batch_size,\n",
    "                          shuffle=False,\n",
    "                          num_workers=4)\n",
    "\n",
    "test_set = TensorDataset(X_test_ft, y_test_ft)\n",
    "test_loader = DataLoader(test_set,\n",
    "                         batch_size=batch_size,\n",
    "                         shuffle=False,\n",
    "                         num_workers=4)"
   ]
  },
  {
   "cell_type": "code",
   "execution_count": 19,
   "metadata": {},
   "outputs": [],
   "source": [
    "import torch.nn as nn\n",
    "from torch import optim\n",
    "from torch.autograd import Variable\n",
    "\n",
    "class LSTMClassifier(nn.Module):\n",
    "\n",
    "    def __init__(self, embedding_dim, hidden_dim, vocab_size,\n",
    "                 label_size, batch_size, use_gpu, lstm_dropout):\n",
    "        super(LSTMClassifier, self).__init__()\n",
    "        self.hidden_dim = hidden_dim\n",
    "        self.batch_size = batch_size\n",
    "        self.use_gpu = use_gpu\n",
    "\n",
    "        self.word_embeddings = nn.Embedding(vocab_size, embedding_dim)\n",
    "        self.lstm = nn.LSTM(embedding_dim, hidden_dim, dropout=lstm_dropout)\n",
    "        self.hidden2label = nn.Linear(hidden_dim, label_size)\n",
    "        self.hidden = self.init_hidden()\n",
    "\n",
    "    def init_hidden(self):\n",
    "        if self.use_gpu:\n",
    "            h0 = Variable(torch.zeros(1, self.batch_size, self.hidden_dim).cuda())\n",
    "            c0 = Variable(torch.zeros(1, self.batch_size, self.hidden_dim).cuda())\n",
    "        else:\n",
    "            h0 = Variable(torch.zeros(1, self.batch_size, self.hidden_dim))\n",
    "            c0 = Variable(torch.zeros(1, self.batch_size, self.hidden_dim))\n",
    "        return (h0, c0)\n",
    "\n",
    "    def forward(self, sentence):\n",
    "        embeds = self.word_embeddings(sentence)\n",
    "        x = embeds.view(len(sentence), self.batch_size, -1)\n",
    "        lstm_out, self.hidden = self.lstm(x, self.hidden)\n",
    "        y  = self.hidden2label(lstm_out[-1])\n",
    "        return y"
   ]
  },
  {
   "cell_type": "code",
   "execution_count": 21,
   "metadata": {},
   "outputs": [],
   "source": [
    "embedding_dim = 64\n",
    "hidden_dim = 32\n",
    "sentence_len = maxlen\n",
    "learning_rate = 0.05\n",
    "lstm_droput = 0.25\n",
    "\n",
    "### create model\n",
    "model = LSTMClassifier(embedding_dim=embedding_dim,\n",
    "                       hidden_dim=hidden_dim,\n",
    "                       lstm_dropout=lstm_droput,\n",
    "                       vocab_size=n_feat,\n",
    "                       label_size=2,\n",
    "                       batch_size=128,\n",
    "                       use_gpu=True)\n",
    "model = model.cuda()\n",
    "optimizer = optim.Adam(model.parameters(), lr=learning_rate)\n",
    "loss_function = nn.CrossEntropyLoss()"
   ]
  },
  {
   "cell_type": "code",
   "execution_count": 22,
   "metadata": {},
   "outputs": [
    {
     "name": "stdout",
     "output_type": "stream",
     "text": [
      "[epoch 1]: loss: 5.04656e-03 acc: 0.63531 | valid loss: 5.34040e-03 valid acc 0.67517\n",
      "[epoch 2]: loss: 4.63650e-03 acc: 0.69550 | valid loss: 5.33416e-03 valid acc 0.67687\n",
      "[epoch 3]: loss: 4.48323e-03 acc: 0.70988 | valid loss: 5.28331e-03 valid acc 0.68878\n",
      "[epoch 4]: loss: 4.41308e-03 acc: 0.70742 | valid loss: 5.38647e-03 valid acc 0.66837\n",
      "[epoch 5]: loss: 4.32866e-03 acc: 0.71915 | valid loss: 5.39054e-03 valid acc 0.65816\n"
     ]
    }
   ],
   "source": [
    "n_epochs = 5\n",
    "train_loss_ = []\n",
    "valid_loss_ = []\n",
    "train_acc_ = []\n",
    "valid_acc_ = []\n",
    "\n",
    "### training procedure\n",
    "for i, epoch in enumerate(range(n_epochs)):\n",
    "    ## training epoch\n",
    "    total_acc = 0.0\n",
    "    total_loss = 0.0\n",
    "    total = 0.0\n",
    "    \n",
    "    ## Trainining epoch\n",
    "    for _iter, traindata in enumerate(train_loader):\n",
    "        train_inputs, train_labels = traindata\n",
    "        train_labels = torch.squeeze(train_labels)\n",
    "        \n",
    "        train_inputs, train_labels = Variable(train_inputs.cuda()), Variable(train_labels.cuda())\n",
    "\n",
    "        model.zero_grad()\n",
    "        model.batch_size = len(train_labels)\n",
    "        model.hidden = model.init_hidden()\n",
    "        output = model(train_inputs.t())\n",
    "        \n",
    "        loss = loss_function(output, train_labels)\n",
    "        loss.backward()\n",
    "        optimizer.step()\n",
    "        \n",
    "        # calc training acc\n",
    "        _, predicted = torch.max(output.data, 1)\n",
    "        total_acc += (predicted == train_labels.data).sum()\n",
    "        total += len(train_labels)\n",
    "        total_loss += loss.data[0]\n",
    "        \n",
    "    train_loss_.append(total_loss / total)\n",
    "    train_acc_.append(total_acc / total)\n",
    "    \n",
    "    ## Validation epoch\n",
    "    total_acc = 0.0\n",
    "    total_loss = 0.0\n",
    "    total = 0.0\n",
    "    for _iter, validdata in enumerate(valid_loader):\n",
    "        valid_inputs, valid_labels = validdata\n",
    "        valid_labels = torch.squeeze(valid_labels)\n",
    "\n",
    "        valid_inputs, valid_labels = Variable(valid_inputs.cuda()), Variable(valid_labels.cuda())\n",
    "\n",
    "        model.batch_size = len(valid_labels)\n",
    "        model.hidden = model.init_hidden()\n",
    "        output = model(valid_inputs.t())\n",
    "\n",
    "        loss = loss_function(output, valid_labels)\n",
    "\n",
    "        # calc testing acc\n",
    "        _, predicted = torch.max(output.data, 1)\n",
    "        total_acc += (predicted == valid_labels.data).sum()\n",
    "        total += len(valid_labels)\n",
    "        total_loss += loss.data[0]\n",
    "    \n",
    "    valid_loss_.append(total_loss / total)\n",
    "    valid_acc_.append(total_acc / total)\n",
    "    \n",
    "    print('[epoch {}]: loss: {:1.5e} acc: {:1.5f} '\n",
    "          '| valid loss: {:1.5e} valid acc {:1.5f}'.format(i+1, train_loss_[-1],\n",
    "                                                           train_acc_[-1], valid_loss_[-1],\n",
    "                                                           valid_acc_[-1]))"
   ]
  },
  {
   "cell_type": "code",
   "execution_count": null,
   "metadata": {},
   "outputs": [],
   "source": []
  }
 ],
 "metadata": {
  "kernelspec": {
   "display_name": "Python 2",
   "language": "python",
   "name": "python2"
  },
  "language_info": {
   "codemirror_mode": {
    "name": "ipython",
    "version": 2
   },
   "file_extension": ".py",
   "mimetype": "text/x-python",
   "name": "python",
   "nbconvert_exporter": "python",
   "pygments_lexer": "ipython2",
   "version": "2.7.14"
  }
 },
 "nbformat": 4,
 "nbformat_minor": 2
}
