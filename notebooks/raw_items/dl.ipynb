{
 "cells": [
  {
   "cell_type": "code",
   "execution_count": 1,
   "metadata": {},
   "outputs": [
    {
     "name": "stderr",
     "output_type": "stream",
     "text": [
      "Using TensorFlow backend.\n"
     ]
    }
   ],
   "source": [
    "%matplotlib inline\n",
    "import pandas as pd\n",
    "import numpy as np\n",
    "import joblib as jl\n",
    "import matplotlib.pyplot as plt\n",
    "import warnings\n",
    "warnings.filterwarnings('ignore')\n",
    "\n",
    "from sklearn.model_selection import StratifiedShuffleSplit\n",
    "\n",
    "from keras.preprocessing.text import Tokenizer\n",
    "from keras.preprocessing.sequence import pad_sequences\n",
    "\n",
    "root = 'dl'"
   ]
  },
  {
   "cell_type": "markdown",
   "metadata": {},
   "source": [
    "# Load raw data"
   ]
  },
  {
   "cell_type": "code",
   "execution_count": 2,
   "metadata": {},
   "outputs": [
    {
     "data": {
      "text/html": [
       "<div>\n",
       "<style scoped>\n",
       "    .dataframe tbody tr th:only-of-type {\n",
       "        vertical-align: middle;\n",
       "    }\n",
       "\n",
       "    .dataframe tbody tr th {\n",
       "        vertical-align: top;\n",
       "    }\n",
       "\n",
       "    .dataframe thead th {\n",
       "        text-align: right;\n",
       "    }\n",
       "</style>\n",
       "<table border=\"1\" class=\"dataframe\">\n",
       "  <thead>\n",
       "    <tr style=\"text-align: right;\">\n",
       "      <th></th>\n",
       "      <th>CLASS</th>\n",
       "    </tr>\n",
       "    <tr>\n",
       "      <th>PIN</th>\n",
       "      <th></th>\n",
       "    </tr>\n",
       "  </thead>\n",
       "  <tbody>\n",
       "    <tr>\n",
       "      <th>568483</th>\n",
       "      <td>1</td>\n",
       "    </tr>\n",
       "    <tr>\n",
       "      <th>923748</th>\n",
       "      <td>0</td>\n",
       "    </tr>\n",
       "    <tr>\n",
       "      <th>2035328</th>\n",
       "      <td>0</td>\n",
       "    </tr>\n",
       "    <tr>\n",
       "      <th>2239386</th>\n",
       "      <td>1</td>\n",
       "    </tr>\n",
       "    <tr>\n",
       "      <th>2244533</th>\n",
       "      <td>1</td>\n",
       "    </tr>\n",
       "  </tbody>\n",
       "</table>\n",
       "</div>"
      ],
      "text/plain": [
       "         CLASS\n",
       "PIN           \n",
       "568483       1\n",
       "923748       0\n",
       "2035328      0\n",
       "2239386      1\n",
       "2244533      1"
      ]
     },
     "execution_count": 2,
     "metadata": {},
     "output_type": "execute_result"
    }
   ],
   "source": [
    "labels = pd.read_csv('../../tmp/1_METONLY_vs_METX/matched_CEM_table.csv', header=0).rename({'Unnamed: 0': 'PIN'}, axis=1)[['PIN', 'CLASS']].set_index('PIN')\n",
    "labels.head()"
   ]
  },
  {
   "cell_type": "code",
   "execution_count": 3,
   "metadata": {},
   "outputs": [
    {
     "data": {
      "text/html": [
       "<div>\n",
       "<style scoped>\n",
       "    .dataframe tbody tr th:only-of-type {\n",
       "        vertical-align: middle;\n",
       "    }\n",
       "\n",
       "    .dataframe tbody tr th {\n",
       "        vertical-align: top;\n",
       "    }\n",
       "\n",
       "    .dataframe thead th {\n",
       "        text-align: right;\n",
       "    }\n",
       "</style>\n",
       "<table border=\"1\" class=\"dataframe\">\n",
       "  <thead>\n",
       "    <tr style=\"text-align: right;\">\n",
       "      <th></th>\n",
       "      <th>Seq</th>\n",
       "      <th>Class</th>\n",
       "    </tr>\n",
       "    <tr>\n",
       "      <th>PIN</th>\n",
       "      <th></th>\n",
       "      <th></th>\n",
       "    </tr>\n",
       "  </thead>\n",
       "  <tbody>\n",
       "    <tr>\n",
       "      <th>568483</th>\n",
       "      <td>1099 0 23 1 725 0 1099 0 1099 0 1099 0 1099 0 ...</td>\n",
       "      <td>1</td>\n",
       "    </tr>\n",
       "    <tr>\n",
       "      <th>923748</th>\n",
       "      <td>6665 0 6507 0 6651 0 1096 0 105 0 5680 2 1099 ...</td>\n",
       "      <td>0</td>\n",
       "    </tr>\n",
       "    <tr>\n",
       "      <th>2035328</th>\n",
       "      <td>6653 0 7499 0 6651 0 6655 0 6660 0 6671 0 6656...</td>\n",
       "      <td>0</td>\n",
       "    </tr>\n",
       "    <tr>\n",
       "      <th>2239386</th>\n",
       "      <td>1099 0 23 3 7392 0 6656 0 6651 0 6655 0 6653 0...</td>\n",
       "      <td>1</td>\n",
       "    </tr>\n",
       "    <tr>\n",
       "      <th>2244533</th>\n",
       "      <td>1099 0 23 2 23 0 1099 0 7392 0 6650 0 6656 0 6...</td>\n",
       "      <td>1</td>\n",
       "    </tr>\n",
       "  </tbody>\n",
       "</table>\n",
       "</div>"
      ],
      "text/plain": [
       "                                                       Seq  Class\n",
       "PIN                                                              \n",
       "568483   1099 0 23 1 725 0 1099 0 1099 0 1099 0 1099 0 ...      1\n",
       "923748   6665 0 6507 0 6651 0 1096 0 105 0 5680 2 1099 ...      0\n",
       "2035328  6653 0 7499 0 6651 0 6655 0 6660 0 6671 0 6656...      0\n",
       "2239386  1099 0 23 3 7392 0 6656 0 6651 0 6655 0 6653 0...      1\n",
       "2244533  1099 0 23 2 23 0 1099 0 7392 0 6650 0 6656 0 6...      1"
      ]
     },
     "execution_count": 3,
     "metadata": {},
     "output_type": "execute_result"
    }
   ],
   "source": [
    "data = pd.read_csv('../../tmp/raw_sequences2.csv', header=0, index_col=0).loc[labels.index, 'seq']\n",
    "df = pd.DataFrame(columns=['Seq', 'Class'], index=data.index)\n",
    "df.loc[:, 'Seq'] = data\n",
    "df.loc[:, 'Class'] = labels['CLASS']\n",
    "df.head()"
   ]
  },
  {
   "cell_type": "markdown",
   "metadata": {},
   "source": [
    "# Seq2Tokens"
   ]
  },
  {
   "cell_type": "code",
   "execution_count": 4,
   "metadata": {},
   "outputs": [
    {
     "name": "stdout",
     "output_type": "stream",
     "text": [
      "1293\n",
      "(11744, 889)\n"
     ]
    }
   ],
   "source": [
    "# Define tokenizer object\n",
    "tokenizer = Tokenizer(char_level=False, lower=False, split=' ')\n",
    "\n",
    "# Fit on corpus and extract tokenized sequences\n",
    "tokenizer.fit_on_texts(df['Seq'])\n",
    "n_feat = len(tokenizer.word_index.keys())\n",
    "print(n_feat)\n",
    "seq = tokenizer.texts_to_sequences(df['Seq'])\n",
    "\n",
    "# Pad tokenized sequences\n",
    "lengths = [len(x) for x in seq]\n",
    "maxlen = int(np.percentile(lengths, 95))\n",
    "p_seq = pad_sequences(seq, maxlen=maxlen)\n",
    "print(p_seq.shape)"
   ]
  },
  {
   "cell_type": "markdown",
   "metadata": {},
   "source": [
    "# Training - Validation - Test split"
   ]
  },
  {
   "cell_type": "code",
   "execution_count": 5,
   "metadata": {},
   "outputs": [
    {
     "name": "stdout",
     "output_type": "stream",
     "text": [
      "5872 learn / 5872 test\n",
      "5284 training / 588 validation\n"
     ]
    }
   ],
   "source": [
    "# Full dataset\n",
    "y = df['Class'].ravel()\n",
    "X = p_seq\n",
    "\n",
    "# Learn / Test\n",
    "sss = StratifiedShuffleSplit(n_splits=1, test_size=0.5, random_state=0)\n",
    "learn_idx, test_idx = next(sss.split(X, y))\n",
    "\n",
    "X_learn, y_learn = X[learn_idx, :], y[learn_idx]\n",
    "X_test, y_test = X[test_idx, :], y[test_idx]\n",
    "\n",
    "print('{} learn / {} test'.format(len(y_learn), len(y_test)))\n",
    "\n",
    "# Training / Validation\n",
    "sss = StratifiedShuffleSplit(n_splits=1, test_size=0.1, random_state=1)\n",
    "train_idx, valid_idx = next(sss.split(X_learn, y_learn))\n",
    "\n",
    "X_train, y_train = X_learn[train_idx, :], y_learn[train_idx]\n",
    "X_valid, y_valid = X_learn[valid_idx, :], y_learn[valid_idx]\n",
    "\n",
    "print('{} training / {} validation'.format(len(y_train), len(y_valid)))"
   ]
  },
  {
   "cell_type": "markdown",
   "metadata": {},
   "source": [
    "# Model \\#1: Embedding + Dense (overfitting like crazy)"
   ]
  },
  {
   "cell_type": "code",
   "execution_count": 6,
   "metadata": {},
   "outputs": [
    {
     "name": "stdout",
     "output_type": "stream",
     "text": [
      "_________________________________________________________________\n",
      "Layer (type)                 Output Shape              Param #   \n",
      "=================================================================\n",
      "embedding_1 (Embedding)      (None, 889, 64)           82752     \n",
      "_________________________________________________________________\n",
      "flatten_1 (Flatten)          (None, 56896)             0         \n",
      "_________________________________________________________________\n",
      "dense_1 (Dense)              (None, 1)                 56897     \n",
      "=================================================================\n",
      "Total params: 139,649\n",
      "Trainable params: 139,649\n",
      "Non-trainable params: 0\n",
      "_________________________________________________________________\n"
     ]
    }
   ],
   "source": [
    "from keras.models import Sequential\n",
    "from keras.layers import Flatten, Dense, Embedding, Dropout\n",
    "from keras.callbacks import EarlyStopping\n",
    "from keras import regularizers\n",
    "\n",
    "model = Sequential()\n",
    "model.add(Embedding(n_feat, 64, input_length=maxlen))\n",
    "model.add(Flatten())\n",
    "model.add(Dense(1, activation='sigmoid', kernel_regularizer=regularizers.l2(0.05)))\n",
    "model.compile(optimizer='rmsprop',\n",
    "              loss='binary_crossentropy',\n",
    "              metrics=['acc'])\n",
    "model.summary()"
   ]
  },
  {
   "cell_type": "code",
   "execution_count": 7,
   "metadata": {},
   "outputs": [
    {
     "name": "stdout",
     "output_type": "stream",
     "text": [
      "Train on 5284 samples, validate on 588 samples\n",
      "Epoch 1/500\n",
      "5284/5284 [==============================] - 2s 299us/step - loss: 0.7440 - acc: 0.5161 - val_loss: 0.7085 - val_acc: 0.5000\n",
      "Epoch 2/500\n",
      "5284/5284 [==============================] - 0s 87us/step - loss: 0.6914 - acc: 0.5958 - val_loss: 0.6805 - val_acc: 0.6752\n",
      "Epoch 3/500\n",
      "5284/5284 [==============================] - 0s 83us/step - loss: 0.6712 - acc: 0.6853 - val_loss: 0.6683 - val_acc: 0.6582\n",
      "Epoch 4/500\n",
      "5284/5284 [==============================] - 0s 79us/step - loss: 0.6557 - acc: 0.7061 - val_loss: 0.6569 - val_acc: 0.6905\n",
      "Epoch 5/500\n",
      "5284/5284 [==============================] - 0s 83us/step - loss: 0.6420 - acc: 0.7184 - val_loss: 0.6440 - val_acc: 0.7024\n",
      "Epoch 6/500\n",
      "5284/5284 [==============================] - 0s 83us/step - loss: 0.6289 - acc: 0.7381 - val_loss: 0.6477 - val_acc: 0.6922\n",
      "Epoch 7/500\n",
      "5284/5284 [==============================] - 0s 85us/step - loss: 0.6182 - acc: 0.7447 - val_loss: 0.6350 - val_acc: 0.7007\n",
      "Epoch 8/500\n",
      "5284/5284 [==============================] - 0s 87us/step - loss: 0.6090 - acc: 0.7534 - val_loss: 0.6246 - val_acc: 0.7313\n",
      "Epoch 9/500\n",
      "5284/5284 [==============================] - 0s 86us/step - loss: 0.6021 - acc: 0.7612 - val_loss: 0.6310 - val_acc: 0.7075\n",
      "Epoch 10/500\n",
      "5284/5284 [==============================] - 0s 85us/step - loss: 0.5946 - acc: 0.7600 - val_loss: 0.6209 - val_acc: 0.7279\n",
      "Epoch 11/500\n",
      "5284/5284 [==============================] - 0s 84us/step - loss: 0.5877 - acc: 0.7657 - val_loss: 0.6191 - val_acc: 0.7160\n",
      "Epoch 12/500\n",
      "5284/5284 [==============================] - 0s 83us/step - loss: 0.5827 - acc: 0.7701 - val_loss: 0.6149 - val_acc: 0.7228\n",
      "Epoch 13/500\n",
      "5284/5284 [==============================] - 0s 83us/step - loss: 0.5754 - acc: 0.7774 - val_loss: 0.6044 - val_acc: 0.7398\n",
      "Epoch 14/500\n",
      "5284/5284 [==============================] - 0s 87us/step - loss: 0.5694 - acc: 0.7816 - val_loss: 0.6086 - val_acc: 0.7262\n",
      "Epoch 15/500\n",
      "5284/5284 [==============================] - 0s 86us/step - loss: 0.5651 - acc: 0.7848 - val_loss: 0.6104 - val_acc: 0.7398\n",
      "Epoch 16/500\n",
      "5284/5284 [==============================] - 0s 86us/step - loss: 0.5607 - acc: 0.7888 - val_loss: 0.6045 - val_acc: 0.7432\n",
      "Epoch 17/500\n",
      "5284/5284 [==============================] - 0s 89us/step - loss: 0.5539 - acc: 0.7897 - val_loss: 0.6094 - val_acc: 0.7177\n",
      "Epoch 18/500\n",
      "5284/5284 [==============================] - 0s 86us/step - loss: 0.5489 - acc: 0.7956 - val_loss: 0.6085 - val_acc: 0.7347\n"
     ]
    }
   ],
   "source": [
    "callbacks = [EarlyStopping(monitor='val_loss', patience=5)]\n",
    "\n",
    "history = model.fit(X_train, y_train,\n",
    "                    epochs=500,\n",
    "                    callbacks=callbacks,\n",
    "                    batch_size=128,\n",
    "                    validation_data=(X_valid, y_valid))"
   ]
  },
  {
   "cell_type": "code",
   "execution_count": 8,
   "metadata": {},
   "outputs": [
    {
     "data": {
      "image/png": "[encoded data removed]",
      "text/plain": [
       "<matplotlib.figure.Figure at 0x7f0887874a10>"
      ]
     },
     "metadata": {},
     "output_type": "display_data"
    }
   ],
   "source": [
    "plt.figure(dpi=100)\n",
    "t = history.epoch\n",
    "\n",
    "plt.subplot(211)\n",
    "plt.plot(t, history.history['loss'], label='loss', color='C0')\n",
    "plt.plot(t, history.history['val_loss'], label='val_loss', color='C1')\n",
    "plt.xlabel('epochs')\n",
    "plt.ylabel('loss')\n",
    "plt.legend(loc=1)\n",
    "\n",
    "plt.subplot(212)\n",
    "plt.plot(t, history.history['acc'], label='acc', color='C2')\n",
    "plt.plot(t, history.history['val_acc'], label='val_acc', color='C3')\n",
    "plt.ylim([0.5, 1])\n",
    "plt.ylabel('acc')\n",
    "plt.xlabel('epochs')\n",
    "plt.legend(loc=1)\n",
    "\n",
    "plt.tight_layout()\n",
    "plt.savefig(root+'/embedding_dense.png')"
   ]
  },
  {
   "cell_type": "code",
   "execution_count": 9,
   "metadata": {},
   "outputs": [
    {
     "name": "stdout",
     "output_type": "stream",
     "text": [
      "5872/5872 [==============================] - 1s 107us/step\n",
      "test_loss: 0.6168 - test_acc: 0.7394\n"
     ]
    }
   ],
   "source": [
    "test_loss, test_acc = model.evaluate(X_test, y_test)\n",
    "print('test_loss: {:1.4f} - test_acc: {:1.4f}'.format(test_loss, test_acc))"
   ]
  },
  {
   "cell_type": "code",
   "execution_count": 10,
   "metadata": {},
   "outputs": [],
   "source": [
    "# model.save_weights('embedding_dense.h5')"
   ]
  },
  {
   "cell_type": "markdown",
   "metadata": {},
   "source": [
    "# Model \\#3: Embedding + LSTM"
   ]
  },
  {
   "cell_type": "code",
   "execution_count": 11,
   "metadata": {},
   "outputs": [
    {
     "name": "stdout",
     "output_type": "stream",
     "text": [
      "WARNING:tensorflow:From /home/samu/miniconda2/lib/python2.7/site-packages/tensorflow/contrib/learn/python/learn/datasets/base.py:198: retry (from tensorflow.contrib.learn.python.learn.datasets.base) is deprecated and will be removed in a future version.\n",
      "Instructions for updating:\n",
      "Use the retry module or similar alternatives.\n",
      "_________________________________________________________________\n",
      "Layer (type)                 Output Shape              Param #   \n",
      "=================================================================\n",
      "embedding_2 (Embedding)      (None, 889, 64)           82752     \n",
      "_________________________________________________________________\n",
      "cu_dnnlstm_1 (CuDNNLSTM)     (None, 32)                12544     \n",
      "_________________________________________________________________\n",
      "dense_2 (Dense)              (None, 1)                 33        \n",
      "=================================================================\n",
      "Total params: 95,329\n",
      "Trainable params: 95,329\n",
      "Non-trainable params: 0\n",
      "_________________________________________________________________\n"
     ]
    }
   ],
   "source": [
    "from keras.layers import CuDNNLSTM\n",
    "\n",
    "model = Sequential()\n",
    "model.add(Embedding(n_feat, 64, input_length=maxlen))\n",
    "model.add(CuDNNLSTM(32))\n",
    "model.add(Dense(1, activation='sigmoid'))\n",
    "model.compile(optimizer='adam',\n",
    "              loss='binary_crossentropy',\n",
    "              metrics=['acc'])\n",
    "model.summary()"
   ]
  },
  {
   "cell_type": "code",
   "execution_count": 12,
   "metadata": {},
   "outputs": [
    {
     "name": "stdout",
     "output_type": "stream",
     "text": [
      "Train on 5284 samples, validate on 588 samples\n",
      "Epoch 1/100\n",
      "5284/5284 [==============================] - 5s 993us/step - loss: 0.6813 - acc: 0.5806 - val_loss: 0.6367 - val_acc: 0.6582\n",
      "Epoch 2/100\n",
      "5284/5284 [==============================] - 4s 803us/step - loss: 0.6120 - acc: 0.6764 - val_loss: 0.5718 - val_acc: 0.7211\n",
      "Epoch 3/100\n",
      "5284/5284 [==============================] - 4s 803us/step - loss: 0.5646 - acc: 0.7161 - val_loss: 0.5216 - val_acc: 0.7415\n",
      "Epoch 4/100\n",
      "5284/5284 [==============================] - 4s 802us/step - loss: 0.5250 - acc: 0.7417 - val_loss: 0.5209 - val_acc: 0.7568\n",
      "Epoch 5/100\n",
      "5284/5284 [==============================] - 4s 801us/step - loss: 0.5016 - acc: 0.7615 - val_loss: 0.4879 - val_acc: 0.7857\n",
      "Epoch 6/100\n",
      "5284/5284 [==============================] - 4s 808us/step - loss: 0.4810 - acc: 0.7695 - val_loss: 0.5076 - val_acc: 0.7602\n",
      "Epoch 7/100\n",
      "5284/5284 [==============================] - 4s 804us/step - loss: 0.4735 - acc: 0.7720 - val_loss: 0.4787 - val_acc: 0.7823\n",
      "Epoch 8/100\n",
      "5284/5284 [==============================] - 4s 805us/step - loss: 0.4570 - acc: 0.7931 - val_loss: 0.4767 - val_acc: 0.7857\n",
      "Epoch 9/100\n",
      "5284/5284 [==============================] - 4s 806us/step - loss: 0.4595 - acc: 0.7824 - val_loss: 0.4799 - val_acc: 0.7670\n",
      "Epoch 10/100\n",
      "5284/5284 [==============================] - 4s 804us/step - loss: 0.4352 - acc: 0.7971 - val_loss: 0.4972 - val_acc: 0.7432\n",
      "Epoch 11/100\n",
      "5284/5284 [==============================] - 4s 809us/step - loss: 0.4330 - acc: 0.7973 - val_loss: 0.4735 - val_acc: 0.7789\n",
      "Epoch 12/100\n",
      "5284/5284 [==============================] - 4s 796us/step - loss: 0.4215 - acc: 0.8062 - val_loss: 0.4960 - val_acc: 0.7636\n",
      "Epoch 13/100\n",
      "5284/5284 [==============================] - 4s 801us/step - loss: 0.4403 - acc: 0.7943 - val_loss: 0.5091 - val_acc: 0.7517\n",
      "Epoch 14/100\n",
      "5284/5284 [==============================] - 4s 802us/step - loss: 0.4152 - acc: 0.8055 - val_loss: 0.4775 - val_acc: 0.7721\n",
      "Epoch 15/100\n",
      "5284/5284 [==============================] - 4s 797us/step - loss: 0.4070 - acc: 0.8151 - val_loss: 0.4727 - val_acc: 0.7840\n",
      "Epoch 16/100\n",
      "5284/5284 [==============================] - 4s 805us/step - loss: 0.4007 - acc: 0.8138 - val_loss: 0.4883 - val_acc: 0.7653\n",
      "Epoch 17/100\n",
      "5284/5284 [==============================] - 4s 805us/step - loss: 0.4002 - acc: 0.8200 - val_loss: 0.4821 - val_acc: 0.7755\n",
      "Epoch 18/100\n",
      "5284/5284 [==============================] - 4s 808us/step - loss: 0.3846 - acc: 0.8287 - val_loss: 0.4692 - val_acc: 0.7840\n",
      "Epoch 19/100\n",
      "5284/5284 [==============================] - 4s 806us/step - loss: 0.3750 - acc: 0.8348 - val_loss: 0.4706 - val_acc: 0.7772\n",
      "Epoch 20/100\n",
      "5284/5284 [==============================] - 4s 802us/step - loss: 0.3770 - acc: 0.8323 - val_loss: 0.4813 - val_acc: 0.7772\n",
      "Epoch 21/100\n",
      "5284/5284 [==============================] - 4s 808us/step - loss: 0.3784 - acc: 0.8295 - val_loss: 0.4864 - val_acc: 0.7738\n",
      "Epoch 22/100\n",
      "5284/5284 [==============================] - 4s 805us/step - loss: 0.3734 - acc: 0.8340 - val_loss: 0.4977 - val_acc: 0.7772\n",
      "Epoch 23/100\n",
      "5284/5284 [==============================] - 4s 809us/step - loss: 0.3677 - acc: 0.8369 - val_loss: 0.4765 - val_acc: 0.7891\n",
      "Epoch 24/100\n",
      "5284/5284 [==============================] - 4s 799us/step - loss: 0.3515 - acc: 0.8450 - val_loss: 0.5199 - val_acc: 0.7585\n",
      "Epoch 25/100\n",
      "5284/5284 [==============================] - 4s 806us/step - loss: 0.3434 - acc: 0.8450 - val_loss: 0.5028 - val_acc: 0.7670\n"
     ]
    }
   ],
   "source": [
    "callbacks = [EarlyStopping(monitor='val_loss', patience=7)]\n",
    "\n",
    "history = model.fit(X_train, y_train,\n",
    "                    epochs=100,\n",
    "                    callbacks=callbacks,\n",
    "                    batch_size=128,\n",
    "                    validation_data=(X_valid, y_valid))"
   ]
  },
  {
   "cell_type": "code",
   "execution_count": 13,
   "metadata": {},
   "outputs": [
    {
     "data": {
      "image/png": "[encoded data removed]",
      "text/plain": [
       "<matplotlib.figure.Figure at 0x7f07346fb510>"
      ]
     },
     "metadata": {},
     "output_type": "display_data"
    }
   ],
   "source": [
    "plt.figure(dpi=100)\n",
    "t = history.epoch\n",
    "\n",
    "plt.subplot(211)\n",
    "plt.plot(t, history.history['loss'], label='loss', color='C0')\n",
    "plt.plot(t, history.history['val_loss'], label='val_loss', color='C1')\n",
    "plt.xlabel('epochs')\n",
    "plt.ylabel('loss')\n",
    "plt.legend(loc=1)\n",
    "\n",
    "plt.subplot(212)\n",
    "plt.plot(t, history.history['acc'], label='acc', color='C2')\n",
    "plt.plot(t, history.history['val_acc'], label='val_acc', color='C3')\n",
    "plt.ylim([0.5, 1])\n",
    "plt.ylabel('acc')\n",
    "plt.xlabel('epochs')\n",
    "plt.legend(loc=1)\n",
    "\n",
    "plt.tight_layout()\n",
    "plt.savefig(root+'/embedding_LSTM.png')"
   ]
  },
  {
   "cell_type": "code",
   "execution_count": 14,
   "metadata": {},
   "outputs": [
    {
     "name": "stdout",
     "output_type": "stream",
     "text": [
      "5872/5872 [==============================] - 7s 1ms/step\n",
      "test_loss: 0.5227 - test_acc: 0.7638\n"
     ]
    }
   ],
   "source": [
    "test_loss, test_acc = model.evaluate(X_test, y_test)\n",
    "print('test_loss: {:1.4f} - test_acc: {:1.4f}'.format(test_loss, test_acc))"
   ]
  },
  {
   "cell_type": "code",
   "execution_count": 15,
   "metadata": {},
   "outputs": [],
   "source": [
    "model.save_weights(root+'lstm.h5')"
   ]
  },
  {
   "cell_type": "markdown",
   "metadata": {},
   "source": [
    "# Model \\#4: Embedding + Conv1D + LSTM"
   ]
  },
  {
   "cell_type": "code",
   "execution_count": 16,
   "metadata": {},
   "outputs": [
    {
     "name": "stdout",
     "output_type": "stream",
     "text": [
      "_________________________________________________________________\n",
      "Layer (type)                 Output Shape              Param #   \n",
      "=================================================================\n",
      "embedding_3 (Embedding)      (None, 889, 64)           82752     \n",
      "_________________________________________________________________\n",
      "conv1d_1 (Conv1D)            (None, 885, 64)           20544     \n",
      "_________________________________________________________________\n",
      "cu_dnnlstm_2 (CuDNNLSTM)     (None, 32)                12544     \n",
      "_________________________________________________________________\n",
      "dense_3 (Dense)              (None, 1)                 33        \n",
      "=================================================================\n",
      "Total params: 115,873\n",
      "Trainable params: 115,873\n",
      "Non-trainable params: 0\n",
      "_________________________________________________________________\n"
     ]
    }
   ],
   "source": [
    "from keras.layers import Conv1D\n",
    "\n",
    "model = Sequential()\n",
    "model.add(Embedding(n_feat, 64, input_length=maxlen))\n",
    "model.add(Conv1D(64, 5, activation='relu'))\n",
    "model.add(CuDNNLSTM(32))\n",
    "model.add(Dense(1, activation='sigmoid'))\n",
    "model.compile(optimizer='rmsprop',\n",
    "              loss='binary_crossentropy',\n",
    "              metrics=['acc'])\n",
    "model.summary()"
   ]
  },
  {
   "cell_type": "code",
   "execution_count": 17,
   "metadata": {},
   "outputs": [
    {
     "name": "stdout",
     "output_type": "stream",
     "text": [
      "Train on 5284 samples, validate on 588 samples\n",
      "Epoch 1/300\n",
      "5284/5284 [==============================] - 6s 1ms/step - loss: 0.6517 - acc: 0.6243 - val_loss: 0.5846 - val_acc: 0.7228\n",
      "Epoch 2/300\n",
      "5284/5284 [==============================] - 5s 941us/step - loss: 0.5800 - acc: 0.7017 - val_loss: 0.6506 - val_acc: 0.6224\n",
      "Epoch 3/300\n",
      "5284/5284 [==============================] - 5s 941us/step - loss: 0.5602 - acc: 0.7192 - val_loss: 0.5364 - val_acc: 0.7415\n",
      "Epoch 4/300\n",
      "5284/5284 [==============================] - 5s 944us/step - loss: 0.5386 - acc: 0.7356 - val_loss: 0.5365 - val_acc: 0.7602\n",
      "Epoch 5/300\n",
      "5284/5284 [==============================] - 5s 948us/step - loss: 0.5208 - acc: 0.7434 - val_loss: 0.5262 - val_acc: 0.7262\n",
      "Epoch 6/300\n",
      "5284/5284 [==============================] - 5s 948us/step - loss: 0.5111 - acc: 0.7530 - val_loss: 0.5399 - val_acc: 0.7551\n",
      "Epoch 7/300\n",
      "5284/5284 [==============================] - 5s 945us/step - loss: 0.4996 - acc: 0.7600 - val_loss: 0.5241 - val_acc: 0.7568\n",
      "Epoch 8/300\n",
      "5284/5284 [==============================] - 5s 948us/step - loss: 0.4892 - acc: 0.7610 - val_loss: 0.4946 - val_acc: 0.7721\n",
      "Epoch 9/300\n",
      "5284/5284 [==============================] - 5s 947us/step - loss: 0.4769 - acc: 0.7737 - val_loss: 0.5364 - val_acc: 0.7296\n",
      "Epoch 10/300\n",
      "5284/5284 [==============================] - 5s 939us/step - loss: 0.4697 - acc: 0.7750 - val_loss: 0.4967 - val_acc: 0.7585\n",
      "Epoch 11/300\n",
      "5284/5284 [==============================] - 5s 942us/step - loss: 0.4643 - acc: 0.7793 - val_loss: 0.4945 - val_acc: 0.7636\n",
      "Epoch 12/300\n",
      "5284/5284 [==============================] - 5s 945us/step - loss: 0.4581 - acc: 0.7786 - val_loss: 0.5263 - val_acc: 0.7313\n",
      "Epoch 13/300\n",
      "5284/5284 [==============================] - 5s 944us/step - loss: 0.4494 - acc: 0.7888 - val_loss: 0.4896 - val_acc: 0.7806\n",
      "Epoch 14/300\n",
      "5284/5284 [==============================] - 5s 944us/step - loss: 0.4664 - acc: 0.7844 - val_loss: 0.4949 - val_acc: 0.7704\n",
      "Epoch 15/300\n",
      "5284/5284 [==============================] - 5s 948us/step - loss: 0.4371 - acc: 0.7990 - val_loss: 0.5181 - val_acc: 0.7551\n",
      "Epoch 16/300\n",
      "5284/5284 [==============================] - 5s 945us/step - loss: 0.4225 - acc: 0.8053 - val_loss: 0.4943 - val_acc: 0.7585\n",
      "Epoch 17/300\n",
      "5284/5284 [==============================] - 5s 944us/step - loss: 0.4331 - acc: 0.7960 - val_loss: 0.4739 - val_acc: 0.7908\n",
      "Epoch 18/300\n",
      "5284/5284 [==============================] - 5s 948us/step - loss: 0.4186 - acc: 0.8085 - val_loss: 0.4775 - val_acc: 0.7925\n",
      "Epoch 19/300\n",
      "5284/5284 [==============================] - 5s 944us/step - loss: 0.4147 - acc: 0.8098 - val_loss: 0.6761 - val_acc: 0.6854\n",
      "Epoch 20/300\n",
      "5284/5284 [==============================] - 5s 945us/step - loss: 0.4158 - acc: 0.8075 - val_loss: 0.5365 - val_acc: 0.7432\n",
      "Epoch 21/300\n",
      "5284/5284 [==============================] - 5s 946us/step - loss: 0.4089 - acc: 0.8104 - val_loss: 0.5088 - val_acc: 0.7789\n",
      "Epoch 22/300\n",
      "5284/5284 [==============================] - 5s 946us/step - loss: 0.4009 - acc: 0.8151 - val_loss: 0.5337 - val_acc: 0.7551\n",
      "Epoch 23/300\n",
      "5284/5284 [==============================] - 5s 947us/step - loss: 0.3924 - acc: 0.8221 - val_loss: 0.5504 - val_acc: 0.7364\n",
      "Epoch 24/300\n",
      "5284/5284 [==============================] - 5s 946us/step - loss: 0.3837 - acc: 0.8238 - val_loss: 0.4994 - val_acc: 0.7738\n"
     ]
    }
   ],
   "source": [
    "callbacks = [EarlyStopping(monitor='val_loss', patience=7)]\n",
    "\n",
    "history = model.fit(X_train, y_train,\n",
    "                    epochs=300,\n",
    "                    callbacks=callbacks,\n",
    "                    batch_size=128,\n",
    "                    validation_data=(X_valid, y_valid))"
   ]
  },
  {
   "cell_type": "code",
   "execution_count": 18,
   "metadata": {},
   "outputs": [
    {
     "data": {
      "image/png": "[encoded data removed]",
      "text/plain": [
       "<matplotlib.figure.Figure at 0x7f07346d6590>"
      ]
     },
     "metadata": {},
     "output_type": "display_data"
    }
   ],
   "source": [
    "plt.figure(dpi=100)\n",
    "t = history.epoch\n",
    "\n",
    "plt.subplot(211)\n",
    "plt.plot(t, history.history['loss'], label='loss', color='C0')\n",
    "plt.plot(t, history.history['val_loss'], label='val_loss', color='C1')\n",
    "plt.xlabel('epochs')\n",
    "plt.ylabel('loss')\n",
    "plt.legend(loc=1)\n",
    "\n",
    "plt.subplot(212)\n",
    "plt.plot(t, history.history['acc'], label='acc', color='C2')\n",
    "plt.plot(t, history.history['val_acc'], label='val_acc', color='C3')\n",
    "plt.ylim([0.5, 1])\n",
    "plt.ylabel('acc')\n",
    "plt.xlabel('epochs')\n",
    "plt.legend(loc=1)\n",
    "\n",
    "plt.tight_layout()\n",
    "plt.savefig(root+'/embedding_convLSTM.png')"
   ]
  },
  {
   "cell_type": "code",
   "execution_count": 19,
   "metadata": {},
   "outputs": [
    {
     "name": "stdout",
     "output_type": "stream",
     "text": [
      "5872/5872 [==============================] - 7s 1ms/step\n",
      "test_loss: 0.5354 - test_acc: 0.7534\n"
     ]
    }
   ],
   "source": [
    "test_loss, test_acc = model.evaluate(X_test, y_test)\n",
    "print('test_loss: {:1.4f} - test_acc: {:1.4f}'.format(test_loss, test_acc))"
   ]
  },
  {
   "cell_type": "code",
   "execution_count": 20,
   "metadata": {},
   "outputs": [],
   "source": [
    "model.save_weights(root+'conv_lstm.h5')"
   ]
  },
  {
   "cell_type": "markdown",
   "metadata": {},
   "source": [
    "# Model \\#7: Embedding + BiLSTM"
   ]
  },
  {
   "cell_type": "code",
   "execution_count": 21,
   "metadata": {},
   "outputs": [
    {
     "name": "stdout",
     "output_type": "stream",
     "text": [
      "_________________________________________________________________\n",
      "Layer (type)                 Output Shape              Param #   \n",
      "=================================================================\n",
      "embedding_4 (Embedding)      (None, 889, 64)           82752     \n",
      "_________________________________________________________________\n",
      "bidirectional_1 (Bidirection (None, 64)                25088     \n",
      "_________________________________________________________________\n",
      "dense_4 (Dense)              (None, 1)                 65        \n",
      "=================================================================\n",
      "Total params: 107,905\n",
      "Trainable params: 107,905\n",
      "Non-trainable params: 0\n",
      "_________________________________________________________________\n"
     ]
    }
   ],
   "source": [
    "from keras.layers import Bidirectional\n",
    "\n",
    "model = Sequential()\n",
    "model.add(Embedding(n_feat, 64, input_length=maxlen))\n",
    "model.add(Bidirectional(CuDNNLSTM(32)))\n",
    "model.add(Dense(1, activation='sigmoid'))\n",
    "model.compile(optimizer='rmsprop',\n",
    "              loss='binary_crossentropy',\n",
    "              metrics=['acc'])\n",
    "model.summary()"
   ]
  },
  {
   "cell_type": "code",
   "execution_count": 22,
   "metadata": {},
   "outputs": [
    {
     "name": "stdout",
     "output_type": "stream",
     "text": [
      "Train on 5284 samples, validate on 588 samples\n",
      "Epoch 1/300\n",
      "5284/5284 [==============================] - 9s 2ms/step - loss: 0.6637 - acc: 0.6166 - val_loss: 0.6065 - val_acc: 0.6888\n",
      "Epoch 2/300\n",
      "5284/5284 [==============================] - 8s 2ms/step - loss: 0.6046 - acc: 0.6836 - val_loss: 0.5756 - val_acc: 0.7143\n",
      "Epoch 3/300\n",
      "5284/5284 [==============================] - 8s 2ms/step - loss: 0.5728 - acc: 0.7106 - val_loss: 0.5310 - val_acc: 0.7449\n",
      "Epoch 4/300\n",
      "5284/5284 [==============================] - 8s 2ms/step - loss: 0.5529 - acc: 0.7193 - val_loss: 0.5164 - val_acc: 0.7500\n",
      "Epoch 5/300\n",
      "5284/5284 [==============================] - 8s 2ms/step - loss: 0.5413 - acc: 0.7335 - val_loss: 0.5975 - val_acc: 0.6803\n",
      "Epoch 6/300\n",
      "5284/5284 [==============================] - 8s 2ms/step - loss: 0.5209 - acc: 0.7455 - val_loss: 0.5416 - val_acc: 0.7228\n",
      "Epoch 7/300\n",
      "5284/5284 [==============================] - 8s 2ms/step - loss: 0.5067 - acc: 0.7498 - val_loss: 0.5135 - val_acc: 0.7619\n",
      "Epoch 8/300\n",
      "5284/5284 [==============================] - 8s 2ms/step - loss: 0.5052 - acc: 0.7545 - val_loss: 0.4923 - val_acc: 0.7755\n",
      "Epoch 9/300\n",
      "5284/5284 [==============================] - 8s 2ms/step - loss: 0.4975 - acc: 0.7606 - val_loss: 0.4913 - val_acc: 0.7568\n",
      "Epoch 10/300\n",
      "5284/5284 [==============================] - 8s 2ms/step - loss: 0.4792 - acc: 0.7704 - val_loss: 0.6506 - val_acc: 0.6837\n",
      "Epoch 11/300\n",
      "5284/5284 [==============================] - 8s 2ms/step - loss: 0.4766 - acc: 0.7721 - val_loss: 0.4905 - val_acc: 0.7517\n",
      "Epoch 12/300\n",
      "5284/5284 [==============================] - 8s 2ms/step - loss: 0.4673 - acc: 0.7761 - val_loss: 0.5054 - val_acc: 0.7364\n",
      "Epoch 13/300\n",
      "5284/5284 [==============================] - 8s 2ms/step - loss: 0.4607 - acc: 0.7837 - val_loss: 0.5115 - val_acc: 0.7364\n",
      "Epoch 14/300\n",
      "5284/5284 [==============================] - 8s 2ms/step - loss: 0.4591 - acc: 0.7843 - val_loss: 0.5040 - val_acc: 0.7534\n",
      "Epoch 15/300\n",
      "5284/5284 [==============================] - 8s 2ms/step - loss: 0.4555 - acc: 0.7829 - val_loss: 0.4953 - val_acc: 0.7568\n",
      "Epoch 16/300\n",
      "5284/5284 [==============================] - 8s 2ms/step - loss: 0.4464 - acc: 0.7880 - val_loss: 0.4682 - val_acc: 0.8010\n",
      "Epoch 17/300\n",
      "5284/5284 [==============================] - 8s 2ms/step - loss: 0.4381 - acc: 0.7949 - val_loss: 0.4703 - val_acc: 0.7840\n",
      "Epoch 18/300\n",
      "5284/5284 [==============================] - 8s 2ms/step - loss: 0.4574 - acc: 0.7918 - val_loss: 0.4662 - val_acc: 0.7857\n",
      "Epoch 19/300\n",
      "5284/5284 [==============================] - 8s 2ms/step - loss: 0.4431 - acc: 0.7950 - val_loss: 0.4732 - val_acc: 0.7738\n",
      "Epoch 20/300\n",
      "5284/5284 [==============================] - 8s 2ms/step - loss: 0.4380 - acc: 0.7935 - val_loss: 0.4878 - val_acc: 0.7704\n",
      "Epoch 21/300\n",
      "5284/5284 [==============================] - 8s 2ms/step - loss: 0.4250 - acc: 0.8000 - val_loss: 0.4809 - val_acc: 0.7806\n",
      "Epoch 22/300\n",
      "5284/5284 [==============================] - 8s 2ms/step - loss: 0.4242 - acc: 0.8030 - val_loss: 0.6682 - val_acc: 0.6769\n",
      "Epoch 23/300\n",
      "5284/5284 [==============================] - 8s 2ms/step - loss: 0.4254 - acc: 0.8022 - val_loss: 0.4761 - val_acc: 0.7840\n",
      "Epoch 24/300\n",
      "5284/5284 [==============================] - 8s 2ms/step - loss: 0.4097 - acc: 0.8090 - val_loss: 0.4841 - val_acc: 0.7670\n",
      "Epoch 25/300\n",
      "5284/5284 [==============================] - 8s 2ms/step - loss: 0.4065 - acc: 0.8132 - val_loss: 0.5318 - val_acc: 0.7585\n"
     ]
    }
   ],
   "source": [
    "callbacks = [EarlyStopping(monitor='val_loss', patience=7)]\n",
    "\n",
    "history = model.fit(X_train, y_train,\n",
    "                    epochs=300,\n",
    "                    callbacks=callbacks,\n",
    "                    batch_size=128,\n",
    "                    validation_data=(X_valid, y_valid))"
   ]
  },
  {
   "cell_type": "code",
   "execution_count": 23,
   "metadata": {},
   "outputs": [
    {
     "data": {
      "image/png": "[encoded data removed]",
      "text/plain": [
       "<matplotlib.figure.Figure at 0x7f06cc42f250>"
      ]
     },
     "metadata": {},
     "output_type": "display_data"
    }
   ],
   "source": [
    "plt.figure(dpi=100)\n",
    "t = history.epoch\n",
    "\n",
    "plt.subplot(211)\n",
    "plt.plot(t, history.history['loss'], label='loss', color='C0')\n",
    "plt.plot(t, history.history['val_loss'], label='val_loss', color='C1')\n",
    "plt.xlabel('epochs')\n",
    "plt.ylabel('loss')\n",
    "plt.legend(loc=1)\n",
    "\n",
    "plt.subplot(212)\n",
    "plt.plot(t, history.history['acc'], label='acc', color='C2')\n",
    "plt.plot(t, history.history['val_acc'], label='val_acc', color='C3')\n",
    "plt.ylim([0.5, 1])\n",
    "plt.ylabel('acc')\n",
    "plt.xlabel('epochs')\n",
    "plt.legend(loc=1)\n",
    "\n",
    "plt.tight_layout()\n",
    "plt.savefig(root+'embedding_bilstm.png')"
   ]
  },
  {
   "cell_type": "code",
   "execution_count": 24,
   "metadata": {},
   "outputs": [
    {
     "name": "stdout",
     "output_type": "stream",
     "text": [
      "5872/5872 [==============================] - 14s 2ms/step\n",
      "test_loss: 0.5824 - test_acc: 0.7628\n"
     ]
    }
   ],
   "source": [
    "test_loss, test_acc = model.evaluate(X_test, y_test)\n",
    "print('test_loss: {:1.4f} - test_acc: {:1.4f}'.format(test_loss, test_acc))"
   ]
  },
  {
   "cell_type": "code",
   "execution_count": 25,
   "metadata": {},
   "outputs": [],
   "source": [
    "# model.save_weights('embedding_bilstm.h5')"
   ]
  },
  {
   "cell_type": "markdown",
   "metadata": {},
   "source": [
    "# Model \\#8: Embedding + Conv1D + BiLSTM"
   ]
  },
  {
   "cell_type": "code",
   "execution_count": 26,
   "metadata": {},
   "outputs": [
    {
     "name": "stdout",
     "output_type": "stream",
     "text": [
      "_________________________________________________________________\n",
      "Layer (type)                 Output Shape              Param #   \n",
      "=================================================================\n",
      "embedding_5 (Embedding)      (None, 889, 64)           82752     \n",
      "_________________________________________________________________\n",
      "conv1d_2 (Conv1D)            (None, 880, 128)          82048     \n",
      "_________________________________________________________________\n",
      "max_pooling1d_1 (MaxPooling1 (None, 876, 128)          0         \n",
      "_________________________________________________________________\n",
      "bidirectional_2 (Bidirection (None, 64)                41472     \n",
      "_________________________________________________________________\n",
      "dense_5 (Dense)              (None, 1)                 65        \n",
      "=================================================================\n",
      "Total params: 206,337\n",
      "Trainable params: 206,337\n",
      "Non-trainable params: 0\n",
      "_________________________________________________________________\n"
     ]
    }
   ],
   "source": [
    "from keras.optimizers import Adam\n",
    "from keras.layers import MaxPooling1D\n",
    "\n",
    "model = Sequential()\n",
    "model.add(Embedding(n_feat, 64, input_length=maxlen))\n",
    "model.add(Conv1D(128, 10, activation='relu'))\n",
    "model.add(MaxPooling1D(5, 1))\n",
    "model.add(Bidirectional(CuDNNLSTM(32)))\n",
    "model.add(Dense(1, activation='sigmoid'))\n",
    "model.compile(optimizer='rmsprop',#Adam(lr=1e-5, decay=1e-5),\n",
    "              loss='binary_crossentropy',\n",
    "              metrics=['acc'])\n",
    "model.summary()"
   ]
  },
  {
   "cell_type": "code",
   "execution_count": 27,
   "metadata": {},
   "outputs": [
    {
     "name": "stdout",
     "output_type": "stream",
     "text": [
      "Train on 5284 samples, validate on 588 samples\n",
      "Epoch 1/500\n",
      "5284/5284 [==============================] - 12s 2ms/step - loss: 0.6445 - acc: 0.6302 - val_loss: 0.6035 - val_acc: 0.6769\n",
      "Epoch 2/500\n",
      "5284/5284 [==============================] - 11s 2ms/step - loss: 0.5873 - acc: 0.6934 - val_loss: 0.5514 - val_acc: 0.7296\n",
      "Epoch 3/500\n",
      "5284/5284 [==============================] - 11s 2ms/step - loss: 0.5612 - acc: 0.7156 - val_loss: 0.5675 - val_acc: 0.7058\n",
      "Epoch 4/500\n",
      "5284/5284 [==============================] - 11s 2ms/step - loss: 0.5449 - acc: 0.7271 - val_loss: 0.5246 - val_acc: 0.7466\n",
      "Epoch 5/500\n",
      "5284/5284 [==============================] - 11s 2ms/step - loss: 0.5254 - acc: 0.7449 - val_loss: 0.5211 - val_acc: 0.7483\n",
      "Epoch 6/500\n",
      "5284/5284 [==============================] - 11s 2ms/step - loss: 0.5103 - acc: 0.7506 - val_loss: 0.5198 - val_acc: 0.7449\n",
      "Epoch 7/500\n",
      "5284/5284 [==============================] - 11s 2ms/step - loss: 0.4884 - acc: 0.7742 - val_loss: 0.5595 - val_acc: 0.7160\n",
      "Epoch 8/500\n",
      "5284/5284 [==============================] - 11s 2ms/step - loss: 0.4702 - acc: 0.7824 - val_loss: 0.5551 - val_acc: 0.7211\n",
      "Epoch 9/500\n",
      "5284/5284 [==============================] - 11s 2ms/step - loss: 0.4437 - acc: 0.7966 - val_loss: 0.5643 - val_acc: 0.7228\n",
      "Epoch 10/500\n",
      "5284/5284 [==============================] - 11s 2ms/step - loss: 0.4295 - acc: 0.8005 - val_loss: 0.5036 - val_acc: 0.7704\n",
      "Epoch 11/500\n",
      "5284/5284 [==============================] - 11s 2ms/step - loss: 0.3974 - acc: 0.8212 - val_loss: 0.5511 - val_acc: 0.7109\n",
      "Epoch 12/500\n",
      "5284/5284 [==============================] - 11s 2ms/step - loss: 0.3766 - acc: 0.8367 - val_loss: 0.6055 - val_acc: 0.7211\n",
      "Epoch 13/500\n",
      "5284/5284 [==============================] - 11s 2ms/step - loss: 0.3511 - acc: 0.8473 - val_loss: 0.6416 - val_acc: 0.6956\n",
      "Epoch 14/500\n",
      "5284/5284 [==============================] - 11s 2ms/step - loss: 0.3231 - acc: 0.8671 - val_loss: 0.5990 - val_acc: 0.6990\n",
      "Epoch 15/500\n",
      "5284/5284 [==============================] - 11s 2ms/step - loss: 0.2946 - acc: 0.8794 - val_loss: 0.6195 - val_acc: 0.7177\n",
      "Epoch 16/500\n",
      "5284/5284 [==============================] - 11s 2ms/step - loss: 0.2603 - acc: 0.8997 - val_loss: 0.6401 - val_acc: 0.7194\n",
      "Epoch 17/500\n",
      "5284/5284 [==============================] - 11s 2ms/step - loss: 0.2362 - acc: 0.9082 - val_loss: 0.6467 - val_acc: 0.7296\n"
     ]
    }
   ],
   "source": [
    "callbacks = [EarlyStopping(monitor='val_loss', patience=7)] \n",
    "\n",
    "history = model.fit(X_train, y_train,\n",
    "                    epochs=500,\n",
    "                    callbacks=callbacks,\n",
    "                    batch_size=128,\n",
    "                    validation_data=(X_valid, y_valid))"
   ]
  },
  {
   "cell_type": "code",
   "execution_count": 28,
   "metadata": {},
   "outputs": [
    {
     "data": {
      "image/png": "[encoded data removed]",
      "text/plain": [
       "<matplotlib.figure.Figure at 0x7f06b8062c50>"
      ]
     },
     "metadata": {},
     "output_type": "display_data"
    }
   ],
   "source": [
    "plt.figure(dpi=100)\n",
    "t = history.epoch\n",
    "\n",
    "plt.subplot(211)\n",
    "plt.plot(t, history.history['loss'], label='loss', color='C0')\n",
    "plt.plot(t, history.history['val_loss'], label='val_loss', color='C1')\n",
    "plt.xlabel('epochs')\n",
    "plt.ylabel('loss')\n",
    "plt.legend(loc=1)\n",
    "\n",
    "plt.subplot(212)\n",
    "plt.plot(t, history.history['acc'], label='acc', color='C2')\n",
    "plt.plot(t, history.history['val_acc'], label='val_acc', color='C3')\n",
    "plt.ylim([0.5, 1])\n",
    "plt.ylabel('acc')\n",
    "plt.xlabel('epochs')\n",
    "plt.legend(loc=1)\n",
    "\n",
    "plt.tight_layout()\n",
    "plt.savefig(root+'/embedding_conv_bilstm.png')"
   ]
  },
  {
   "cell_type": "code",
   "execution_count": 29,
   "metadata": {},
   "outputs": [
    {
     "name": "stdout",
     "output_type": "stream",
     "text": [
      "5872/5872 [==============================] - 15s 3ms/step\n",
      "test_loss: 0.6981 - test_acc: 0.7190\n"
     ]
    }
   ],
   "source": [
    "test_loss, test_acc = model.evaluate(X_test, y_test)\n",
    "print('test_loss: {:1.4f} - test_acc: {:1.4f}'.format(test_loss, test_acc))"
   ]
  },
  {
   "cell_type": "markdown",
   "metadata": {},
   "source": [
    "# Model \\#: 10"
   ]
  },
  {
   "cell_type": "code",
   "execution_count": null,
   "metadata": {},
   "outputs": [
    {
     "name": "stdout",
     "output_type": "stream",
     "text": [
      "_________________________________________________________________\n",
      "Layer (type)                 Output Shape              Param #   \n",
      "=================================================================\n",
      "embedding_6 (Embedding)      (None, 889, 64)           82752     \n",
      "_________________________________________________________________\n",
      "bidirectional_3 (Bidirection (None, 64)                24832     \n",
      "_________________________________________________________________\n",
      "dense_6 (Dense)              (None, 1)                 65        \n",
      "=================================================================\n",
      "Total params: 107,649\n",
      "Trainable params: 107,649\n",
      "Non-trainable params: 0\n",
      "_________________________________________________________________\n"
     ]
    }
   ],
   "source": [
    "from keras.layers import LSTM\n",
    "\n",
    "model = Sequential()\n",
    "model.add(Embedding(n_feat, 64, input_length=maxlen))\n",
    "model.add(Bidirectional(LSTM(32, recurrent_dropout=0.25, dropout=0.25)))\n",
    "model.add(Dense(1, activation='sigmoid'))\n",
    "model.compile(optimizer='rmsprop',\n",
    "              loss='binary_crossentropy',\n",
    "              metrics=['acc'])\n",
    "model.summary()"
   ]
  },
  {
   "cell_type": "code",
   "execution_count": null,
   "metadata": {},
   "outputs": [
    {
     "name": "stdout",
     "output_type": "stream",
     "text": [
      "Train on 5284 samples, validate on 588 samples\n",
      "Epoch 1/100\n",
      "5284/5284 [==============================] - 131s 25ms/step - loss: 0.6775 - acc: 0.5942 - val_loss: 0.6352 - val_acc: 0.7041\n",
      "Epoch 2/100\n",
      "5284/5284 [==============================] - 125s 24ms/step - loss: 0.6253 - acc: 0.6758 - val_loss: 0.5759 - val_acc: 0.7075\n",
      "Epoch 3/100\n",
      "5284/5284 [==============================] - 126s 24ms/step - loss: 0.5863 - acc: 0.7046 - val_loss: 0.5502 - val_acc: 0.7330\n",
      "Epoch 4/100\n",
      "5284/5284 [==============================] - 124s 23ms/step - loss: 0.5718 - acc: 0.7123 - val_loss: 0.5362 - val_acc: 0.7551\n",
      "Epoch 5/100\n",
      " 640/5284 [==>...........................] - ETA: 1:41 - loss: 0.5590 - acc: 0.7031"
     ]
    }
   ],
   "source": [
    "callbacks = [EarlyStopping(monitor='val_loss', patience=15)] \n",
    "\n",
    "history = model.fit(X_train, y_train,\n",
    "                    epochs=100,\n",
    "                    callbacks=callbacks,\n",
    "                    batch_size=128,\n",
    "                    validation_data=(X_valid, y_valid))"
   ]
  },
  {
   "cell_type": "code",
   "execution_count": null,
   "metadata": {},
   "outputs": [],
   "source": [
    "plt.figure(dpi=100)\n",
    "t = history.epoch\n",
    "\n",
    "plt.subplot(211)\n",
    "plt.plot(t, history.history['loss'], label='loss', color='C0')\n",
    "plt.plot(t, history.history['val_loss'], label='val_loss', color='C1')\n",
    "plt.xlabel('epochs')\n",
    "plt.ylabel('loss')\n",
    "plt.legend(loc=1)\n",
    "\n",
    "plt.subplot(212)\n",
    "plt.plot(t, history.history['acc'], label='acc', color='C2')\n",
    "plt.plot(t, history.history['val_acc'], label='val_acc', color='C3')\n",
    "plt.ylim([0.5, 1])\n",
    "plt.ylabel('acc')\n",
    "plt.xlabel('epochs')\n",
    "plt.legend(loc=1)\n",
    "\n",
    "plt.tight_layout()\n",
    "plt.savefig(root+'/embedding_dropout_LSTM.png')"
   ]
  },
  {
   "cell_type": "code",
   "execution_count": null,
   "metadata": {},
   "outputs": [],
   "source": [
    "test_loss, test_acc = model.evaluate(X_test, y_test)\n",
    "print('test_loss: {:1.4f} - test_acc: {:1.4f}'.format(test_loss, test_acc))"
   ]
  },
  {
   "cell_type": "code",
   "execution_count": null,
   "metadata": {},
   "outputs": [],
   "source": []
  }
 ],
 "metadata": {
  "kernelspec": {
   "display_name": "Python 2",
   "language": "python",
   "name": "python2"
  },
  "language_info": {
   "codemirror_mode": {
    "name": "ipython",
    "version": 2
   },
   "file_extension": ".py",
   "mimetype": "text/x-python",
   "name": "python",
   "nbconvert_exporter": "python",
   "pygments_lexer": "ipython2",
   "version": "2.7.14"
  }
 },
 "nbformat": 4,
 "nbformat_minor": 2
}
