{
 "cells": [
  {
   "cell_type": "code",
   "execution_count": 1,
   "metadata": {},
   "outputs": [
    {
     "name": "stderr",
     "output_type": "stream",
     "text": [
      "Using TensorFlow backend.\n"
     ]
    }
   ],
   "source": [
    "%matplotlib inline\n",
    "import pandas as pd\n",
    "import numpy as np\n",
    "import joblib as jl\n",
    "import matplotlib.pyplot as plt\n",
    "import warnings\n",
    "warnings.filterwarnings('ignore')\n",
    "\n",
    "from sklearn.model_selection import StratifiedShuffleSplit\n",
    "\n",
    "from keras.preprocessing.text import Tokenizer\n",
    "from keras.preprocessing.sequence import pad_sequences\n",
    "\n",
    "root = 'dl'"
   ]
  },
  {
   "cell_type": "markdown",
   "metadata": {},
   "source": [
    "# Load raw data"
   ]
  },
  {
   "cell_type": "code",
   "execution_count": 3,
   "metadata": {},
   "outputs": [
    {
     "data": {
      "text/html": [
       "<div>\n",
       "<style scoped>\n",
       "    .dataframe tbody tr th:only-of-type {\n",
       "        vertical-align: middle;\n",
       "    }\n",
       "\n",
       "    .dataframe tbody tr th {\n",
       "        vertical-align: top;\n",
       "    }\n",
       "\n",
       "    .dataframe thead th {\n",
       "        text-align: right;\n",
       "    }\n",
       "</style>\n",
       "<table border=\"1\" class=\"dataframe\">\n",
       "  <thead>\n",
       "    <tr style=\"text-align: right;\">\n",
       "      <th></th>\n",
       "      <th>CLASS</th>\n",
       "    </tr>\n",
       "    <tr>\n",
       "      <th>PIN</th>\n",
       "      <th></th>\n",
       "    </tr>\n",
       "  </thead>\n",
       "  <tbody>\n",
       "    <tr>\n",
       "      <th>568483</th>\n",
       "      <td>1</td>\n",
       "    </tr>\n",
       "    <tr>\n",
       "      <th>923748</th>\n",
       "      <td>0</td>\n",
       "    </tr>\n",
       "    <tr>\n",
       "      <th>2035328</th>\n",
       "      <td>0</td>\n",
       "    </tr>\n",
       "    <tr>\n",
       "      <th>2239386</th>\n",
       "      <td>1</td>\n",
       "    </tr>\n",
       "    <tr>\n",
       "      <th>2244533</th>\n",
       "      <td>1</td>\n",
       "    </tr>\n",
       "  </tbody>\n",
       "</table>\n",
       "</div>"
      ],
      "text/plain": [
       "         CLASS\n",
       "PIN           \n",
       "568483       1\n",
       "923748       0\n",
       "2035328      0\n",
       "2239386      1\n",
       "2244533      1"
      ]
     },
     "execution_count": 3,
     "metadata": {},
     "output_type": "execute_result"
    }
   ],
   "source": [
    "labels = pd.read_csv('../../tmp/1_METONLY_vs_METX/matched_CEM_table.csv', header=0).rename({'Unnamed: 0': 'PIN'}, axis=1)[['PIN', 'CLASS']].set_index('PIN')\n",
    "labels.head()"
   ]
  },
  {
   "cell_type": "code",
   "execution_count": 4,
   "metadata": {},
   "outputs": [
    {
     "data": {
      "text/html": [
       "<div>\n",
       "<style scoped>\n",
       "    .dataframe tbody tr th:only-of-type {\n",
       "        vertical-align: middle;\n",
       "    }\n",
       "\n",
       "    .dataframe tbody tr th {\n",
       "        vertical-align: top;\n",
       "    }\n",
       "\n",
       "    .dataframe thead th {\n",
       "        text-align: right;\n",
       "    }\n",
       "</style>\n",
       "<table border=\"1\" class=\"dataframe\">\n",
       "  <thead>\n",
       "    <tr style=\"text-align: right;\">\n",
       "      <th></th>\n",
       "      <th>Seq</th>\n",
       "      <th>Class</th>\n",
       "    </tr>\n",
       "    <tr>\n",
       "      <th>PIN</th>\n",
       "      <th></th>\n",
       "      <th></th>\n",
       "    </tr>\n",
       "  </thead>\n",
       "  <tbody>\n",
       "    <tr>\n",
       "      <th>568483</th>\n",
       "      <td>10990 0 23 1 725 0 10990 0 10990 0 10990 0 109...</td>\n",
       "      <td>1</td>\n",
       "    </tr>\n",
       "    <tr>\n",
       "      <th>923748</th>\n",
       "      <td>66653 0 65070 0 66515 0 10962 0 105 0 56807 2 ...</td>\n",
       "      <td>0</td>\n",
       "    </tr>\n",
       "    <tr>\n",
       "      <th>2035328</th>\n",
       "      <td>66536 0 74995 0 66512 0 66551 0 66608 0 66716 ...</td>\n",
       "      <td>0</td>\n",
       "    </tr>\n",
       "    <tr>\n",
       "      <th>2239386</th>\n",
       "      <td>10991 0 23 3 73928 0 66560 0 66515 0 66551 0 6...</td>\n",
       "      <td>1</td>\n",
       "    </tr>\n",
       "    <tr>\n",
       "      <th>2244533</th>\n",
       "      <td>10990 0 23 2 23 0 10990 0 73928 0 66500 0 6656...</td>\n",
       "      <td>1</td>\n",
       "    </tr>\n",
       "  </tbody>\n",
       "</table>\n",
       "</div>"
      ],
      "text/plain": [
       "                                                       Seq  Class\n",
       "PIN                                                              \n",
       "568483   10990 0 23 1 725 0 10990 0 10990 0 10990 0 109...      1\n",
       "923748   66653 0 65070 0 66515 0 10962 0 105 0 56807 2 ...      0\n",
       "2035328  66536 0 74995 0 66512 0 66551 0 66608 0 66716 ...      0\n",
       "2239386  10991 0 23 3 73928 0 66560 0 66515 0 66551 0 6...      1\n",
       "2244533  10990 0 23 2 23 0 10990 0 73928 0 66500 0 6656...      1"
      ]
     },
     "execution_count": 4,
     "metadata": {},
     "output_type": "execute_result"
    }
   ],
   "source": [
    "data = pd.read_csv('../../tmp/raw_sequences.csv', header=0, index_col=0).loc[labels.index, 'seq']\n",
    "df = pd.DataFrame(columns=['Seq', 'Class'], index=data.index)\n",
    "df.loc[:, 'Seq'] = data\n",
    "df.loc[:, 'Class'] = labels['CLASS']\n",
    "df.head()"
   ]
  },
  {
   "cell_type": "markdown",
   "metadata": {},
   "source": [
    "# Seq2Tokens"
   ]
  },
  {
   "cell_type": "code",
   "execution_count": 12,
   "metadata": {},
   "outputs": [
    {
     "name": "stdout",
     "output_type": "stream",
     "text": [
      "2774\n",
      "(11744, 889)\n"
     ]
    }
   ],
   "source": [
    "# Define tokenizer object\n",
    "tokenizer = Tokenizer(char_level=False, lower=False, split=' ')\n",
    "\n",
    "# Fit on corpus and extract tokenized sequences\n",
    "tokenizer.fit_on_texts(df['Seq'])\n",
    "n_feat = len(tokenizer.word_index.keys())\n",
    "print(n_feat)\n",
    "seq = tokenizer.texts_to_sequences(df['Seq'])\n",
    "\n",
    "# Pad tokenized sequences\n",
    "lengths = [len(x) for x in seq]\n",
    "maxlen = int(np.percentile(lengths, 95))\n",
    "p_seq = pad_sequences(seq, maxlen=maxlen)\n",
    "print(p_seq.shape)"
   ]
  },
  {
   "cell_type": "markdown",
   "metadata": {},
   "source": [
    "# Training - Validation - Test split"
   ]
  },
  {
   "cell_type": "code",
   "execution_count": 13,
   "metadata": {},
   "outputs": [
    {
     "name": "stdout",
     "output_type": "stream",
     "text": [
      "5872 learn / 5872 test\n",
      "5284 training / 588 validation\n"
     ]
    }
   ],
   "source": [
    "# Full dataset\n",
    "y = df['Class'].ravel()\n",
    "X = p_seq\n",
    "\n",
    "# Learn / Test\n",
    "sss = StratifiedShuffleSplit(n_splits=1, test_size=0.5, random_state=0)\n",
    "learn_idx, test_idx = next(sss.split(X, y))\n",
    "\n",
    "X_learn, y_learn = X[learn_idx, :], y[learn_idx]\n",
    "X_test, y_test = X[test_idx, :], y[test_idx]\n",
    "\n",
    "print('{} learn / {} test'.format(len(y_learn), len(y_test)))\n",
    "\n",
    "# Training / Validation\n",
    "sss = StratifiedShuffleSplit(n_splits=1, test_size=0.1, random_state=1)\n",
    "train_idx, valid_idx = next(sss.split(X_learn, y_learn))\n",
    "\n",
    "X_train, y_train = X_learn[train_idx, :], y_learn[train_idx]\n",
    "X_valid, y_valid = X_learn[valid_idx, :], y_learn[valid_idx]\n",
    "\n",
    "print('{} training / {} validation'.format(len(y_train), len(y_valid)))"
   ]
  },
  {
   "cell_type": "markdown",
   "metadata": {},
   "source": [
    "# Model \\#1: Embedding + Dense (overfitting like crazy)"
   ]
  },
  {
   "cell_type": "code",
   "execution_count": 19,
   "metadata": {},
   "outputs": [
    {
     "name": "stdout",
     "output_type": "stream",
     "text": [
      "_________________________________________________________________\n",
      "Layer (type)                 Output Shape              Param #   \n",
      "=================================================================\n",
      "embedding_3 (Embedding)      (None, 889, 64)           177536    \n",
      "_________________________________________________________________\n",
      "flatten_3 (Flatten)          (None, 56896)             0         \n",
      "_________________________________________________________________\n",
      "dropout_1 (Dropout)          (None, 56896)             0         \n",
      "_________________________________________________________________\n",
      "dense_2 (Dense)              (None, 1)                 56897     \n",
      "=================================================================\n",
      "Total params: 234,433\n",
      "Trainable params: 234,433\n",
      "Non-trainable params: 0\n",
      "_________________________________________________________________\n"
     ]
    }
   ],
   "source": [
    "from keras.models import Sequential\n",
    "from keras.layers import Flatten, Dense, Embedding, Dropout\n",
    "from keras.callbacks import EarlyStopping\n",
    "\n",
    "model = Sequential()\n",
    "model.add(Embedding(n_feat, 64, input_length=maxlen))\n",
    "model.add(Flatten())\n",
    "model.add(Dropout(0.5))\n",
    "model.add(Dense(1, activation='sigmoid'))\n",
    "model.compile(optimizer='rmsprop',\n",
    "              loss='binary_crossentropy',\n",
    "              metrics=['acc'])\n",
    "model.summary()"
   ]
  },
  {
   "cell_type": "code",
   "execution_count": 20,
   "metadata": {},
   "outputs": [
    {
     "name": "stdout",
     "output_type": "stream",
     "text": [
      "Train on 5284 samples, validate on 588 samples\n",
      "Epoch 1/500\n",
      "5284/5284 [==============================] - 4s 689us/step - loss: 0.7149 - acc: 0.5195 - val_loss: 0.6746 - val_acc: 0.5578\n",
      "Epoch 2/500\n",
      "5284/5284 [==============================] - 3s 633us/step - loss: 0.6426 - acc: 0.6491 - val_loss: 0.6296 - val_acc: 0.6446\n",
      "Epoch 3/500\n",
      "5284/5284 [==============================] - 3s 633us/step - loss: 0.5718 - acc: 0.7515 - val_loss: 0.5833 - val_acc: 0.7075\n",
      "Epoch 4/500\n",
      "5284/5284 [==============================] - 3s 639us/step - loss: 0.5018 - acc: 0.7914 - val_loss: 0.5482 - val_acc: 0.7296\n",
      "Epoch 5/500\n",
      "5284/5284 [==============================] - 3s 626us/step - loss: 0.4423 - acc: 0.8234 - val_loss: 0.5706 - val_acc: 0.7092\n",
      "Epoch 6/500\n",
      "5284/5284 [==============================] - 3s 636us/step - loss: 0.3995 - acc: 0.8422 - val_loss: 0.5165 - val_acc: 0.7670\n",
      "Epoch 7/500\n",
      "5284/5284 [==============================] - 3s 618us/step - loss: 0.3565 - acc: 0.8664 - val_loss: 0.5161 - val_acc: 0.7432\n",
      "Epoch 8/500\n",
      "5284/5284 [==============================] - 3s 652us/step - loss: 0.3235 - acc: 0.8810 - val_loss: 0.5024 - val_acc: 0.7704\n",
      "Epoch 9/500\n",
      "5284/5284 [==============================] - 3s 620us/step - loss: 0.2936 - acc: 0.8965 - val_loss: 0.5099 - val_acc: 0.7568\n",
      "Epoch 10/500\n",
      "5284/5284 [==============================] - 3s 611us/step - loss: 0.2679 - acc: 0.9063 - val_loss: 0.5269 - val_acc: 0.7483\n",
      "Epoch 11/500\n",
      "5284/5284 [==============================] - 3s 626us/step - loss: 0.2464 - acc: 0.9186 - val_loss: 0.5519 - val_acc: 0.7347\n",
      "Epoch 12/500\n",
      "5284/5284 [==============================] - 3s 633us/step - loss: 0.2294 - acc: 0.9205 - val_loss: 0.5206 - val_acc: 0.7687\n",
      "Epoch 13/500\n",
      "5284/5284 [==============================] - 3s 637us/step - loss: 0.2111 - acc: 0.9302 - val_loss: 0.5300 - val_acc: 0.7619\n"
     ]
    }
   ],
   "source": [
    "callbacks = [EarlyStopping(monitor='val_loss', patience=5)]\n",
    "\n",
    "history = model.fit(X_train, y_train,\n",
    "                    epochs=500,\n",
    "                    callbacks=callbacks,\n",
    "                    batch_size=128,\n",
    "                    validation_data=(X_valid, y_valid))"
   ]
  },
  {
   "cell_type": "code",
   "execution_count": 21,
   "metadata": {},
   "outputs": [
    {
     "data": {
      "image/png": "[encoded data removed]",
      "text/plain": [
       "<matplotlib.figure.Figure at 0x7fa419a9ffd0>"
      ]
     },
     "metadata": {},
     "output_type": "display_data"
    }
   ],
   "source": [
    "plt.figure(dpi=100)\n",
    "t = history.epoch\n",
    "\n",
    "plt.subplot(211)\n",
    "plt.plot(t, history.history['loss'], label='loss', color='C0')\n",
    "plt.plot(t, history.history['val_loss'], label='val_loss', color='C1')\n",
    "plt.xlabel('epochs')\n",
    "plt.ylabel('loss')\n",
    "plt.legend(loc=1)\n",
    "\n",
    "plt.subplot(212)\n",
    "plt.plot(t, history.history['acc'], label='acc', color='C2')\n",
    "plt.plot(t, history.history['val_acc'], label='val_acc', color='C3')\n",
    "plt.ylim([0.5, 1])\n",
    "plt.ylabel('acc')\n",
    "plt.xlabel('epochs')\n",
    "plt.legend(loc=1)\n",
    "\n",
    "plt.tight_layout()\n",
    "plt.savefig(root+'/embedding_dense.png')"
   ]
  },
  {
   "cell_type": "code",
   "execution_count": 23,
   "metadata": {},
   "outputs": [
    {
     "name": "stdout",
     "output_type": "stream",
     "text": [
      "5872/5872 [==============================] - 5s 831us/step\n",
      "test_loss: 0.5277 - test_acc: 0.7517\n"
     ]
    }
   ],
   "source": [
    "test_loss, test_acc = model.evaluate(X_test, y_test)\n",
    "print('test_loss: {:1.4f} - test_acc: {:1.4f}'.format(test_loss, test_acc))"
   ]
  },
  {
   "cell_type": "code",
   "execution_count": null,
   "metadata": {},
   "outputs": [],
   "source": [
    "# model.save_weights('embedding_dense.h5')"
   ]
  },
  {
   "cell_type": "markdown",
   "metadata": {},
   "source": [
    "# Model \\#2: Embedding + SimpleRNN (slow training)"
   ]
  },
  {
   "cell_type": "code",
   "execution_count": 24,
   "metadata": {},
   "outputs": [
    {
     "name": "stdout",
     "output_type": "stream",
     "text": [
      "_________________________________________________________________\n",
      "Layer (type)                 Output Shape              Param #   \n",
      "=================================================================\n",
      "embedding_4 (Embedding)      (None, 889, 64)           177536    \n",
      "_________________________________________________________________\n",
      "simple_rnn_1 (SimpleRNN)     (None, 32)                3104      \n",
      "_________________________________________________________________\n",
      "dense_3 (Dense)              (None, 1)                 33        \n",
      "=================================================================\n",
      "Total params: 180,673\n",
      "Trainable params: 180,673\n",
      "Non-trainable params: 0\n",
      "_________________________________________________________________\n"
     ]
    }
   ],
   "source": [
    "from keras.layers import SimpleRNN\n",
    "\n",
    "model = Sequential()\n",
    "model.add(Embedding(n_feat, 64, input_length=maxlen))\n",
    "model.add(SimpleRNN(32))\n",
    "model.add(Dense(1, activation='sigmoid'))\n",
    "model.compile(optimizer='rmsprop',\n",
    "              loss='binary_crossentropy',\n",
    "              metrics=['acc'])\n",
    "model.summary()"
   ]
  },
  {
   "cell_type": "code",
   "execution_count": 26,
   "metadata": {},
   "outputs": [],
   "source": [
    "# history = model.fit(X_train, y_train,\n",
    "#                     epochs=30,\n",
    "#                     batch_size=128,\n",
    "#                     validation_data=(X_valid, y_valid))"
   ]
  },
  {
   "cell_type": "markdown",
   "metadata": {},
   "source": [
    "# Model \\#3: Embedding + LSTM"
   ]
  },
  {
   "cell_type": "code",
   "execution_count": 30,
   "metadata": {},
   "outputs": [
    {
     "name": "stdout",
     "output_type": "stream",
     "text": [
      "_________________________________________________________________\n",
      "Layer (type)                 Output Shape              Param #   \n",
      "=================================================================\n",
      "embedding_6 (Embedding)      (None, 889, 64)           177536    \n",
      "_________________________________________________________________\n",
      "cu_dnnlstm_2 (CuDNNLSTM)     (None, 32)                12544     \n",
      "_________________________________________________________________\n",
      "dense_5 (Dense)              (None, 1)                 33        \n",
      "=================================================================\n",
      "Total params: 190,113\n",
      "Trainable params: 190,113\n",
      "Non-trainable params: 0\n",
      "_________________________________________________________________\n"
     ]
    }
   ],
   "source": [
    "from keras.layers import CuDNNLSTM\n",
    "\n",
    "model = Sequential()\n",
    "model.add(Embedding(n_feat, 64, input_length=maxlen))\n",
    "model.add(CuDNNLSTM(32))\n",
    "model.add(Dense(1, activation='sigmoid'))\n",
    "model.compile(optimizer='adam',\n",
    "              loss='binary_crossentropy',\n",
    "              metrics=['acc'])\n",
    "model.summary()"
   ]
  },
  {
   "cell_type": "code",
   "execution_count": 31,
   "metadata": {},
   "outputs": [
    {
     "name": "stdout",
     "output_type": "stream",
     "text": [
      "Train on 5284 samples, validate on 588 samples\n",
      "Epoch 1/100\n",
      "5284/5284 [==============================] - 25s 5ms/step - loss: 0.6784 - acc: 0.5833 - val_loss: 0.6328 - val_acc: 0.6497\n",
      "Epoch 2/100\n",
      "5284/5284 [==============================] - 25s 5ms/step - loss: 0.6025 - acc: 0.6826 - val_loss: 0.5757 - val_acc: 0.6769\n",
      "Epoch 3/100\n",
      "5284/5284 [==============================] - 26s 5ms/step - loss: 0.5433 - acc: 0.7322 - val_loss: 0.5189 - val_acc: 0.7500\n",
      "Epoch 4/100\n",
      "5284/5284 [==============================] - 25s 5ms/step - loss: 0.4925 - acc: 0.7604 - val_loss: 0.4903 - val_acc: 0.7653\n",
      "Epoch 5/100\n",
      "5284/5284 [==============================] - 25s 5ms/step - loss: 0.4552 - acc: 0.7875 - val_loss: 0.4914 - val_acc: 0.7568\n",
      "Epoch 6/100\n",
      "5284/5284 [==============================] - 25s 5ms/step - loss: 0.4575 - acc: 0.7884 - val_loss: 0.5038 - val_acc: 0.7636\n",
      "Epoch 7/100\n",
      "5284/5284 [==============================] - 25s 5ms/step - loss: 0.4221 - acc: 0.8073 - val_loss: 0.4624 - val_acc: 0.7721\n",
      "Epoch 8/100\n",
      "5284/5284 [==============================] - 25s 5ms/step - loss: 0.4087 - acc: 0.8077 - val_loss: 0.4845 - val_acc: 0.7806\n",
      "Epoch 9/100\n",
      "5284/5284 [==============================] - 25s 5ms/step - loss: 0.3791 - acc: 0.8314 - val_loss: 0.4908 - val_acc: 0.7704\n",
      "Epoch 10/100\n",
      "5284/5284 [==============================] - 25s 5ms/step - loss: 0.3640 - acc: 0.8361 - val_loss: 0.5224 - val_acc: 0.7364\n",
      "Epoch 11/100\n",
      "5284/5284 [==============================] - 25s 5ms/step - loss: 0.3779 - acc: 0.8251 - val_loss: 0.4650 - val_acc: 0.7942\n",
      "Epoch 12/100\n",
      "5284/5284 [==============================] - 25s 5ms/step - loss: 0.3519 - acc: 0.8412 - val_loss: 0.4724 - val_acc: 0.7687\n",
      "Epoch 13/100\n",
      "5284/5284 [==============================] - 25s 5ms/step - loss: 0.3557 - acc: 0.8386 - val_loss: 0.4403 - val_acc: 0.7891\n",
      "Epoch 14/100\n",
      "5284/5284 [==============================] - 25s 5ms/step - loss: 0.3179 - acc: 0.8654 - val_loss: 0.5157 - val_acc: 0.7823\n",
      "Epoch 15/100\n",
      "5284/5284 [==============================] - 25s 5ms/step - loss: 0.3604 - acc: 0.8310 - val_loss: 0.4760 - val_acc: 0.7789\n",
      "Epoch 16/100\n",
      "5284/5284 [==============================] - 25s 5ms/step - loss: 0.3272 - acc: 0.8545 - val_loss: 0.4974 - val_acc: 0.7840\n",
      "Epoch 17/100\n",
      "5284/5284 [==============================] - 25s 5ms/step - loss: 0.3131 - acc: 0.8609 - val_loss: 0.4765 - val_acc: 0.7772\n",
      "Epoch 18/100\n",
      "5284/5284 [==============================] - 25s 5ms/step - loss: 0.2873 - acc: 0.8751 - val_loss: 0.4692 - val_acc: 0.7908\n",
      "Epoch 19/100\n",
      "5284/5284 [==============================] - 25s 5ms/step - loss: 0.2950 - acc: 0.8777 - val_loss: 0.4837 - val_acc: 0.7823\n",
      "Epoch 20/100\n",
      "5284/5284 [==============================] - 25s 5ms/step - loss: 0.2881 - acc: 0.8762 - val_loss: 0.5127 - val_acc: 0.7755\n"
     ]
    }
   ],
   "source": [
    "callbacks = [EarlyStopping(monitor='val_loss', patience=7)]\n",
    "\n",
    "history = model.fit(X_train, y_train,\n",
    "                    epochs=100,\n",
    "                    callbacks=callbacks,\n",
    "                    batch_size=128,\n",
    "                    validation_data=(X_valid, y_valid))"
   ]
  },
  {
   "cell_type": "code",
   "execution_count": 32,
   "metadata": {},
   "outputs": [
    {
     "data": {
      "image/png": "[encoded data removed]",
      "text/plain": [
       "<matplotlib.figure.Figure at 0x7fa2f9acab50>"
      ]
     },
     "metadata": {},
     "output_type": "display_data"
    }
   ],
   "source": [
    "plt.figure(dpi=100)\n",
    "t = history.epoch\n",
    "\n",
    "plt.subplot(211)\n",
    "plt.plot(t, history.history['loss'], label='loss', color='C0')\n",
    "plt.plot(t, history.history['val_loss'], label='val_loss', color='C1')\n",
    "plt.xlabel('epochs')\n",
    "plt.ylabel('loss')\n",
    "plt.legend(loc=1)\n",
    "\n",
    "plt.subplot(212)\n",
    "plt.plot(t, history.history['acc'], label='acc', color='C2')\n",
    "plt.plot(t, history.history['val_acc'], label='val_acc', color='C3')\n",
    "plt.ylim([0.5, 1])\n",
    "plt.ylabel('acc')\n",
    "plt.xlabel('epochs')\n",
    "plt.legend(loc=1)\n",
    "\n",
    "plt.tight_layout()\n",
    "plt.savefig(root+'/embedding_LSTM.png')"
   ]
  },
  {
   "cell_type": "code",
   "execution_count": 33,
   "metadata": {},
   "outputs": [
    {
     "name": "stdout",
     "output_type": "stream",
     "text": [
      "5872/5872 [==============================] - 42s 7ms/step\n",
      "test_loss: 0.5361 - test_acc: 0.7738\n"
     ]
    }
   ],
   "source": [
    "test_loss, test_acc = model.evaluate(X_test, y_test)\n",
    "print('test_loss: {:1.4f} - test_acc: {:1.4f}'.format(test_loss, test_acc))"
   ]
  },
  {
   "cell_type": "code",
   "execution_count": 34,
   "metadata": {},
   "outputs": [],
   "source": [
    "model.save_weights(root+'lstm.h5')"
   ]
  },
  {
   "cell_type": "markdown",
   "metadata": {},
   "source": [
    "# Model \\#4: Embedding + Conv1D + LSTM"
   ]
  },
  {
   "cell_type": "code",
   "execution_count": 38,
   "metadata": {},
   "outputs": [
    {
     "name": "stdout",
     "output_type": "stream",
     "text": [
      "_________________________________________________________________\n",
      "Layer (type)                 Output Shape              Param #   \n",
      "=================================================================\n",
      "embedding_8 (Embedding)      (None, 889, 64)           177536    \n",
      "_________________________________________________________________\n",
      "conv1d_2 (Conv1D)            (None, 885, 64)           20544     \n",
      "_________________________________________________________________\n",
      "cu_dnnlstm_4 (CuDNNLSTM)     (None, 32)                12544     \n",
      "_________________________________________________________________\n",
      "dense_7 (Dense)              (None, 1)                 33        \n",
      "=================================================================\n",
      "Total params: 210,657\n",
      "Trainable params: 210,657\n",
      "Non-trainable params: 0\n",
      "_________________________________________________________________\n"
     ]
    }
   ],
   "source": [
    "from keras.layers import Conv1D\n",
    "\n",
    "model = Sequential()\n",
    "model.add(Embedding(n_feat, 64, input_length=maxlen))\n",
    "model.add(Conv1D(64, 5, activation='relu'))\n",
    "model.add(CuDNNLSTM(32))\n",
    "model.add(Dense(1, activation='sigmoid'))\n",
    "model.compile(optimizer='rmsprop',\n",
    "              loss='binary_crossentropy',\n",
    "              metrics=['acc'])\n",
    "model.summary()"
   ]
  },
  {
   "cell_type": "code",
   "execution_count": 39,
   "metadata": {},
   "outputs": [
    {
     "name": "stdout",
     "output_type": "stream",
     "text": [
      "Train on 5284 samples, validate on 588 samples\n",
      "Epoch 1/300\n",
      "5284/5284 [==============================] - 30s 6ms/step - loss: 0.6509 - acc: 0.6238 - val_loss: 0.5845 - val_acc: 0.7143\n",
      "Epoch 2/300\n",
      "5284/5284 [==============================] - 28s 5ms/step - loss: 0.5710 - acc: 0.7053 - val_loss: 0.5690 - val_acc: 0.7058\n",
      "Epoch 3/300\n",
      "5284/5284 [==============================] - 28s 5ms/step - loss: 0.5366 - acc: 0.7377 - val_loss: 0.5222 - val_acc: 0.7585\n",
      "Epoch 4/300\n",
      "5284/5284 [==============================] - 28s 5ms/step - loss: 0.5178 - acc: 0.7483 - val_loss: 0.5312 - val_acc: 0.7296\n",
      "Epoch 5/300\n",
      "5284/5284 [==============================] - 29s 5ms/step - loss: 0.4920 - acc: 0.7653 - val_loss: 0.5132 - val_acc: 0.7415\n",
      "Epoch 6/300\n",
      "5284/5284 [==============================] - 29s 5ms/step - loss: 0.4756 - acc: 0.7786 - val_loss: 0.4988 - val_acc: 0.7534\n",
      "Epoch 7/300\n",
      "5284/5284 [==============================] - 29s 5ms/step - loss: 0.4651 - acc: 0.7799 - val_loss: 0.6862 - val_acc: 0.6259\n",
      "Epoch 8/300\n",
      "5284/5284 [==============================] - 29s 5ms/step - loss: 0.4556 - acc: 0.7852 - val_loss: 0.4563 - val_acc: 0.7772\n",
      "Epoch 9/300\n",
      "5284/5284 [==============================] - 29s 5ms/step - loss: 0.4370 - acc: 0.8013 - val_loss: 0.8088 - val_acc: 0.7041\n",
      "Epoch 10/300\n",
      "5284/5284 [==============================] - 12s 2ms/step - loss: 0.4313 - acc: 0.7996 - val_loss: 0.4720 - val_acc: 0.7857\n",
      "Epoch 11/300\n",
      "5284/5284 [==============================] - 6s 1ms/step - loss: 0.4006 - acc: 0.8181 - val_loss: 0.4736 - val_acc: 0.7738\n",
      "Epoch 12/300\n",
      "5284/5284 [==============================] - 5s 1ms/step - loss: 0.3913 - acc: 0.8217 - val_loss: 0.5895 - val_acc: 0.6956\n",
      "Epoch 13/300\n",
      "5284/5284 [==============================] - 5s 1ms/step - loss: 0.3902 - acc: 0.8219 - val_loss: 0.4991 - val_acc: 0.7551\n",
      "Epoch 14/300\n",
      "5284/5284 [==============================] - 5s 1ms/step - loss: 0.3675 - acc: 0.8333 - val_loss: 0.4722 - val_acc: 0.7721\n",
      "Epoch 15/300\n",
      "5284/5284 [==============================] - 5s 1ms/step - loss: 0.3669 - acc: 0.8350 - val_loss: 0.5207 - val_acc: 0.7534\n"
     ]
    }
   ],
   "source": [
    "callbacks = [EarlyStopping(monitor='val_loss', patience=7)]\n",
    "\n",
    "history = model.fit(X_train, y_train,\n",
    "                    epochs=300,\n",
    "                    callbacks=callbacks,\n",
    "                    batch_size=128,\n",
    "                    validation_data=(X_valid, y_valid))"
   ]
  },
  {
   "cell_type": "code",
   "execution_count": 40,
   "metadata": {},
   "outputs": [
    {
     "data": {
      "image/png": "[encoded data removed]",
      "text/plain": [
       "<matplotlib.figure.Figure at 0x7fa2a34e87d0>"
      ]
     },
     "metadata": {},
     "output_type": "display_data"
    }
   ],
   "source": [
    "plt.figure(dpi=100)\n",
    "t = history.epoch\n",
    "\n",
    "plt.subplot(211)\n",
    "plt.plot(t, history.history['loss'], label='loss', color='C0')\n",
    "plt.plot(t, history.history['val_loss'], label='val_loss', color='C1')\n",
    "plt.xlabel('epochs')\n",
    "plt.ylabel('loss')\n",
    "plt.legend(loc=1)\n",
    "\n",
    "plt.subplot(212)\n",
    "plt.plot(t, history.history['acc'], label='acc', color='C2')\n",
    "plt.plot(t, history.history['val_acc'], label='val_acc', color='C3')\n",
    "plt.ylim([0.5, 1])\n",
    "plt.ylabel('acc')\n",
    "plt.xlabel('epochs')\n",
    "plt.legend(loc=1)\n",
    "\n",
    "plt.tight_layout()\n",
    "plt.savefig(root+'/embedding_convLSTM.png')"
   ]
  },
  {
   "cell_type": "code",
   "execution_count": 41,
   "metadata": {},
   "outputs": [
    {
     "name": "stdout",
     "output_type": "stream",
     "text": [
      "5872/5872 [==============================] - 7s 1ms/step\n",
      "test_loss: 0.5042 - test_acc: 0.7757\n"
     ]
    }
   ],
   "source": [
    "test_loss, test_acc = model.evaluate(X_test, y_test)\n",
    "print('test_loss: {:1.4f} - test_acc: {:1.4f}'.format(test_loss, test_acc))"
   ]
  },
  {
   "cell_type": "code",
   "execution_count": 42,
   "metadata": {},
   "outputs": [],
   "source": [
    "model.save_weights(root+'conv_lstm.h5')"
   ]
  },
  {
   "cell_type": "markdown",
   "metadata": {},
   "source": [
    "# Model \\#7: Embedding + BiLSTM"
   ]
  },
  {
   "cell_type": "code",
   "execution_count": 44,
   "metadata": {},
   "outputs": [
    {
     "name": "stdout",
     "output_type": "stream",
     "text": [
      "_________________________________________________________________\n",
      "Layer (type)                 Output Shape              Param #   \n",
      "=================================================================\n",
      "embedding_10 (Embedding)     (None, 889, 64)           177536    \n",
      "_________________________________________________________________\n",
      "bidirectional_2 (Bidirection (None, 64)                25088     \n",
      "_________________________________________________________________\n",
      "dense_9 (Dense)              (None, 1)                 65        \n",
      "=================================================================\n",
      "Total params: 202,689\n",
      "Trainable params: 202,689\n",
      "Non-trainable params: 0\n",
      "_________________________________________________________________\n"
     ]
    }
   ],
   "source": [
    "from keras.layers import Bidirectional\n",
    "\n",
    "model = Sequential()\n",
    "model.add(Embedding(n_feat, 64, input_length=maxlen))\n",
    "model.add(Bidirectional(CuDNNLSTM(32)))\n",
    "model.add(Dense(1, activation='sigmoid'))\n",
    "model.compile(optimizer='rmsprop',\n",
    "              loss='binary_crossentropy',\n",
    "              metrics=['acc'])\n",
    "model.summary()"
   ]
  },
  {
   "cell_type": "code",
   "execution_count": 45,
   "metadata": {},
   "outputs": [
    {
     "name": "stdout",
     "output_type": "stream",
     "text": [
      "Train on 5284 samples, validate on 588 samples\n",
      "Epoch 1/300\n",
      "5284/5284 [==============================] - 10s 2ms/step - loss: 0.6706 - acc: 0.5855 - val_loss: 0.6097 - val_acc: 0.6854\n",
      "Epoch 2/300\n",
      "5284/5284 [==============================] - 9s 2ms/step - loss: 0.6043 - acc: 0.6849 - val_loss: 0.5597 - val_acc: 0.7228\n",
      "Epoch 3/300\n",
      "5284/5284 [==============================] - 9s 2ms/step - loss: 0.5601 - acc: 0.7250 - val_loss: 0.5405 - val_acc: 0.7177\n",
      "Epoch 4/300\n",
      "5284/5284 [==============================] - 9s 2ms/step - loss: 0.5407 - acc: 0.7364 - val_loss: 0.5305 - val_acc: 0.7449\n",
      "Epoch 5/300\n",
      "5284/5284 [==============================] - 9s 2ms/step - loss: 0.5136 - acc: 0.7538 - val_loss: 0.5003 - val_acc: 0.7585\n",
      "Epoch 6/300\n",
      "5284/5284 [==============================] - 9s 2ms/step - loss: 0.5026 - acc: 0.7585 - val_loss: 0.5053 - val_acc: 0.7619\n",
      "Epoch 7/300\n",
      "5284/5284 [==============================] - 9s 2ms/step - loss: 0.4882 - acc: 0.7754 - val_loss: 0.4980 - val_acc: 0.7551\n",
      "Epoch 8/300\n",
      "5284/5284 [==============================] - 9s 2ms/step - loss: 0.4781 - acc: 0.7759 - val_loss: 0.4846 - val_acc: 0.7857\n",
      "Epoch 9/300\n",
      "5284/5284 [==============================] - 9s 2ms/step - loss: 0.4629 - acc: 0.7860 - val_loss: 0.5148 - val_acc: 0.7721\n",
      "Epoch 10/300\n",
      "5284/5284 [==============================] - 9s 2ms/step - loss: 0.4649 - acc: 0.7812 - val_loss: 0.5098 - val_acc: 0.7381\n",
      "Epoch 11/300\n",
      "5284/5284 [==============================] - 9s 2ms/step - loss: 0.4407 - acc: 0.7914 - val_loss: 0.5377 - val_acc: 0.7058\n",
      "Epoch 12/300\n",
      "5284/5284 [==============================] - 9s 2ms/step - loss: 0.4405 - acc: 0.8019 - val_loss: 0.4962 - val_acc: 0.7670\n",
      "Epoch 13/300\n",
      "5284/5284 [==============================] - 9s 2ms/step - loss: 0.4216 - acc: 0.8039 - val_loss: 0.4596 - val_acc: 0.7806\n",
      "Epoch 14/300\n",
      "5284/5284 [==============================] - 9s 2ms/step - loss: 0.4217 - acc: 0.8019 - val_loss: 0.4876 - val_acc: 0.7653\n",
      "Epoch 15/300\n",
      "5284/5284 [==============================] - 9s 2ms/step - loss: 0.4099 - acc: 0.8085 - val_loss: 0.4969 - val_acc: 0.7517\n",
      "Epoch 16/300\n",
      "5284/5284 [==============================] - 9s 2ms/step - loss: 0.4035 - acc: 0.8145 - val_loss: 0.5330 - val_acc: 0.7704\n",
      "Epoch 17/300\n",
      "5284/5284 [==============================] - 9s 2ms/step - loss: 0.3999 - acc: 0.8155 - val_loss: 0.4769 - val_acc: 0.7738\n",
      "Epoch 18/300\n",
      "5284/5284 [==============================] - 9s 2ms/step - loss: 0.3924 - acc: 0.8210 - val_loss: 0.4867 - val_acc: 0.7551\n",
      "Epoch 19/300\n",
      "5284/5284 [==============================] - 9s 2ms/step - loss: 0.3741 - acc: 0.8338 - val_loss: 0.4841 - val_acc: 0.7670\n",
      "Epoch 20/300\n",
      "5284/5284 [==============================] - 9s 2ms/step - loss: 0.3960 - acc: 0.8274 - val_loss: 0.4511 - val_acc: 0.7891\n",
      "Epoch 21/300\n",
      "5284/5284 [==============================] - 9s 2ms/step - loss: 0.3711 - acc: 0.8255 - val_loss: 0.4690 - val_acc: 0.7738\n",
      "Epoch 22/300\n",
      "5284/5284 [==============================] - 9s 2ms/step - loss: 0.3577 - acc: 0.8371 - val_loss: 0.5394 - val_acc: 0.7738\n",
      "Epoch 23/300\n",
      "5284/5284 [==============================] - 9s 2ms/step - loss: 0.3613 - acc: 0.8371 - val_loss: 0.5807 - val_acc: 0.7483\n",
      "Epoch 24/300\n",
      "5284/5284 [==============================] - 9s 2ms/step - loss: 0.3488 - acc: 0.8452 - val_loss: 0.5132 - val_acc: 0.7602\n",
      "Epoch 25/300\n",
      "5284/5284 [==============================] - 9s 2ms/step - loss: 0.3335 - acc: 0.8552 - val_loss: 0.4856 - val_acc: 0.7823\n",
      "Epoch 26/300\n",
      "5284/5284 [==============================] - 9s 2ms/step - loss: 0.3365 - acc: 0.8526 - val_loss: 0.4907 - val_acc: 0.7687\n",
      "Epoch 27/300\n",
      "5284/5284 [==============================] - 9s 2ms/step - loss: 0.3238 - acc: 0.8567 - val_loss: 0.9035 - val_acc: 0.6888\n",
      "Epoch 28/300\n",
      "5284/5284 [==============================] - 9s 2ms/step - loss: 0.3352 - acc: 0.8533 - val_loss: 0.6305 - val_acc: 0.7109\n",
      "Epoch 29/300\n",
      "5284/5284 [==============================] - 9s 2ms/step - loss: 0.3146 - acc: 0.8620 - val_loss: 1.4071 - val_acc: 0.6871\n",
      "Epoch 30/300\n",
      "5284/5284 [==============================] - 9s 2ms/step - loss: 0.3358 - acc: 0.8558 - val_loss: 0.5025 - val_acc: 0.7721\n",
      "Epoch 31/300\n",
      "5284/5284 [==============================] - 9s 2ms/step - loss: 0.3023 - acc: 0.8653 - val_loss: 0.5557 - val_acc: 0.7619\n",
      "Epoch 32/300\n",
      "5284/5284 [==============================] - 9s 2ms/step - loss: 0.3287 - acc: 0.8677 - val_loss: 0.5440 - val_acc: 0.7636\n",
      "Epoch 33/300\n",
      "5284/5284 [==============================] - 9s 2ms/step - loss: 0.3001 - acc: 0.8723 - val_loss: 0.5896 - val_acc: 0.7704\n",
      "Epoch 34/300\n",
      "5284/5284 [==============================] - 9s 2ms/step - loss: 0.3170 - acc: 0.8740 - val_loss: 0.5189 - val_acc: 0.7704\n",
      "Epoch 35/300\n",
      "5284/5284 [==============================] - 9s 2ms/step - loss: 0.2882 - acc: 0.8777 - val_loss: 0.6264 - val_acc: 0.7364\n",
      "Epoch 36/300\n",
      "5284/5284 [==============================] - 9s 2ms/step - loss: 0.2794 - acc: 0.8830 - val_loss: 0.6721 - val_acc: 0.7517\n",
      "Epoch 37/300\n",
      "5284/5284 [==============================] - 9s 2ms/step - loss: 0.2742 - acc: 0.8840 - val_loss: 0.6502 - val_acc: 0.7347\n",
      "Epoch 38/300\n",
      "5284/5284 [==============================] - 9s 2ms/step - loss: 0.2921 - acc: 0.8745 - val_loss: 0.6328 - val_acc: 0.7738\n",
      "Epoch 39/300\n",
      "5284/5284 [==============================] - 9s 2ms/step - loss: 0.2608 - acc: 0.8874 - val_loss: 0.5617 - val_acc: 0.7772\n",
      "Epoch 40/300\n",
      "5284/5284 [==============================] - 9s 2ms/step - loss: 0.2640 - acc: 0.8878 - val_loss: 0.6066 - val_acc: 0.7551\n",
      "Epoch 41/300\n",
      "5284/5284 [==============================] - 9s 2ms/step - loss: 0.2626 - acc: 0.8882 - val_loss: 0.5345 - val_acc: 0.7721\n",
      "Epoch 42/300\n",
      "5284/5284 [==============================] - 9s 2ms/step - loss: 0.2487 - acc: 0.8936 - val_loss: 0.6219 - val_acc: 0.7653\n",
      "Epoch 43/300\n",
      "5284/5284 [==============================] - 9s 2ms/step - loss: 0.2513 - acc: 0.8944 - val_loss: 0.7170 - val_acc: 0.7211\n",
      "Epoch 44/300\n",
      "5284/5284 [==============================] - 9s 2ms/step - loss: 0.2524 - acc: 0.8959 - val_loss: 0.5835 - val_acc: 0.7585\n",
      "Epoch 45/300\n",
      "5284/5284 [==============================] - 9s 2ms/step - loss: 0.2396 - acc: 0.8997 - val_loss: 0.7618 - val_acc: 0.7211\n"
     ]
    }
   ],
   "source": [
    "callbacks = [EarlyStopping(monitor='val_loss', patience=25)]\n",
    "\n",
    "history = model.fit(X_train, y_train,\n",
    "                    epochs=300,\n",
    "                    callbacks=callbacks,\n",
    "                    batch_size=128,\n",
    "                    validation_data=(X_valid, y_valid))"
   ]
  },
  {
   "cell_type": "code",
   "execution_count": 46,
   "metadata": {},
   "outputs": [
    {
     "data": {
      "image/png": "[encoded data removed]",
      "text/plain": [
       "<matplotlib.figure.Figure at 0x7fa2a28f3d10>"
      ]
     },
     "metadata": {},
     "output_type": "display_data"
    }
   ],
   "source": [
    "plt.figure(dpi=100)\n",
    "t = history.epoch\n",
    "\n",
    "plt.subplot(211)\n",
    "plt.plot(t, history.history['loss'], label='loss', color='C0')\n",
    "plt.plot(t, history.history['val_loss'], label='val_loss', color='C1')\n",
    "plt.xlabel('epochs')\n",
    "plt.ylabel('loss')\n",
    "plt.legend(loc=1)\n",
    "\n",
    "plt.subplot(212)\n",
    "plt.plot(t, history.history['acc'], label='acc', color='C2')\n",
    "plt.plot(t, history.history['val_acc'], label='val_acc', color='C3')\n",
    "plt.ylim([0.5, 1])\n",
    "plt.ylabel('acc')\n",
    "plt.xlabel('epochs')\n",
    "plt.legend(loc=1)\n",
    "\n",
    "plt.tight_layout()\n",
    "plt.savefig(root+'embedding_bilstm.png')"
   ]
  },
  {
   "cell_type": "code",
   "execution_count": 47,
   "metadata": {},
   "outputs": [
    {
     "name": "stdout",
     "output_type": "stream",
     "text": [
      "5872/5872 [==============================] - 14s 2ms/step\n",
      "test_loss: 0.6941 - test_acc: 0.7490\n"
     ]
    }
   ],
   "source": [
    "test_loss, test_acc = model.evaluate(X_test, y_test)\n",
    "print('test_loss: {:1.4f} - test_acc: {:1.4f}'.format(test_loss, test_acc))"
   ]
  },
  {
   "cell_type": "code",
   "execution_count": 48,
   "metadata": {},
   "outputs": [],
   "source": [
    "# model.save_weights('embedding_bilstm.h5')"
   ]
  },
  {
   "cell_type": "markdown",
   "metadata": {},
   "source": [
    "# Model \\#8: Embedding + Conv1D + BiLSTM"
   ]
  },
  {
   "cell_type": "code",
   "execution_count": 51,
   "metadata": {},
   "outputs": [
    {
     "name": "stdout",
     "output_type": "stream",
     "text": [
      "_________________________________________________________________\n",
      "Layer (type)                 Output Shape              Param #   \n",
      "=================================================================\n",
      "embedding_12 (Embedding)     (None, 889, 64)           177536    \n",
      "_________________________________________________________________\n",
      "conv1d_4 (Conv1D)            (None, 880, 128)          82048     \n",
      "_________________________________________________________________\n",
      "max_pooling1d_1 (MaxPooling1 (None, 876, 128)          0         \n",
      "_________________________________________________________________\n",
      "bidirectional_3 (Bidirection (None, 64)                41472     \n",
      "_________________________________________________________________\n",
      "dense_10 (Dense)             (None, 1)                 65        \n",
      "=================================================================\n",
      "Total params: 301,121\n",
      "Trainable params: 301,121\n",
      "Non-trainable params: 0\n",
      "_________________________________________________________________\n"
     ]
    }
   ],
   "source": [
    "from keras.optimizers import Adam\n",
    "from keras.layers import MaxPooling1D\n",
    "\n",
    "model = Sequential()\n",
    "model.add(Embedding(n_feat, 64, input_length=maxlen))\n",
    "model.add(Conv1D(128, 10, activation='relu'))\n",
    "model.add(MaxPooling1D(5, 1))\n",
    "model.add(Bidirectional(CuDNNLSTM(32)))\n",
    "model.add(Dense(1, activation='sigmoid'))\n",
    "model.compile(optimizer=Adam(lr=1e-5, decay=1e-5),\n",
    "              loss='binary_crossentropy',\n",
    "              metrics=['acc'])\n",
    "model.summary()"
   ]
  },
  {
   "cell_type": "code",
   "execution_count": 52,
   "metadata": {},
   "outputs": [
    {
     "name": "stdout",
     "output_type": "stream",
     "text": [
      "Train on 5284 samples, validate on 588 samples\n",
      "Epoch 1/500\n",
      "5284/5284 [==============================] - 13s 2ms/step - loss: 0.6926 - acc: 0.5598 - val_loss: 0.6922 - val_acc: 0.5646\n",
      "Epoch 2/500\n",
      "5284/5284 [==============================] - 12s 2ms/step - loss: 0.6919 - acc: 0.5910 - val_loss: 0.6915 - val_acc: 0.5952\n",
      "Epoch 3/500\n",
      "5284/5284 [==============================] - 12s 2ms/step - loss: 0.6913 - acc: 0.6117 - val_loss: 0.6908 - val_acc: 0.6088\n",
      "Epoch 4/500\n",
      "5284/5284 [==============================] - 12s 2ms/step - loss: 0.6906 - acc: 0.6158 - val_loss: 0.6901 - val_acc: 0.6378\n",
      "Epoch 5/500\n",
      "5284/5284 [==============================] - 11s 2ms/step - loss: 0.6899 - acc: 0.6132 - val_loss: 0.6893 - val_acc: 0.6276\n",
      "Epoch 6/500\n",
      "5284/5284 [==============================] - 12s 2ms/step - loss: 0.6891 - acc: 0.6194 - val_loss: 0.6885 - val_acc: 0.6310\n",
      "Epoch 7/500\n",
      "5284/5284 [==============================] - 12s 2ms/step - loss: 0.6883 - acc: 0.6241 - val_loss: 0.6875 - val_acc: 0.6293\n",
      "Epoch 8/500\n",
      "5284/5284 [==============================] - 12s 2ms/step - loss: 0.6875 - acc: 0.6249 - val_loss: 0.6865 - val_acc: 0.6327\n",
      "Epoch 9/500\n",
      "5284/5284 [==============================] - 12s 2ms/step - loss: 0.6865 - acc: 0.6270 - val_loss: 0.6854 - val_acc: 0.6412\n",
      "Epoch 10/500\n",
      "5284/5284 [==============================] - 12s 2ms/step - loss: 0.6855 - acc: 0.6221 - val_loss: 0.6843 - val_acc: 0.6446\n",
      "Epoch 11/500\n",
      "5284/5284 [==============================] - 12s 2ms/step - loss: 0.6844 - acc: 0.6294 - val_loss: 0.6829 - val_acc: 0.6429\n",
      "Epoch 12/500\n",
      "5284/5284 [==============================] - 12s 2ms/step - loss: 0.6832 - acc: 0.6323 - val_loss: 0.6816 - val_acc: 0.6446\n",
      "Epoch 13/500\n",
      "5284/5284 [==============================] - 12s 2ms/step - loss: 0.6819 - acc: 0.6340 - val_loss: 0.6800 - val_acc: 0.6480\n",
      "Epoch 14/500\n",
      "5284/5284 [==============================] - 12s 2ms/step - loss: 0.6805 - acc: 0.6364 - val_loss: 0.6783 - val_acc: 0.6548\n",
      "Epoch 15/500\n",
      "5284/5284 [==============================] - 12s 2ms/step - loss: 0.6789 - acc: 0.6319 - val_loss: 0.6764 - val_acc: 0.6497\n",
      "Epoch 16/500\n",
      "5284/5284 [==============================] - 12s 2ms/step - loss: 0.6772 - acc: 0.6310 - val_loss: 0.6744 - val_acc: 0.6497\n",
      "Epoch 17/500\n",
      "5284/5284 [==============================] - 12s 2ms/step - loss: 0.6754 - acc: 0.6366 - val_loss: 0.6722 - val_acc: 0.6565\n",
      "Epoch 18/500\n",
      "5284/5284 [==============================] - 12s 2ms/step - loss: 0.6734 - acc: 0.6376 - val_loss: 0.6697 - val_acc: 0.6599\n",
      "Epoch 19/500\n",
      "5284/5284 [==============================] - 12s 2ms/step - loss: 0.6712 - acc: 0.6410 - val_loss: 0.6672 - val_acc: 0.6548\n",
      "Epoch 20/500\n",
      "5284/5284 [==============================] - 12s 2ms/step - loss: 0.6690 - acc: 0.6387 - val_loss: 0.6643 - val_acc: 0.6633\n",
      "Epoch 21/500\n",
      "5284/5284 [==============================] - 11s 2ms/step - loss: 0.6666 - acc: 0.6433 - val_loss: 0.6615 - val_acc: 0.6633\n",
      "Epoch 22/500\n",
      "5284/5284 [==============================] - 12s 2ms/step - loss: 0.6640 - acc: 0.6452 - val_loss: 0.6582 - val_acc: 0.6633\n",
      "Epoch 23/500\n",
      "5284/5284 [==============================] - 12s 2ms/step - loss: 0.6614 - acc: 0.6427 - val_loss: 0.6549 - val_acc: 0.6633\n",
      "Epoch 24/500\n",
      "5284/5284 [==============================] - 12s 2ms/step - loss: 0.6587 - acc: 0.6463 - val_loss: 0.6517 - val_acc: 0.6684\n",
      "Epoch 25/500\n",
      "5284/5284 [==============================] - 12s 2ms/step - loss: 0.6560 - acc: 0.6470 - val_loss: 0.6483 - val_acc: 0.6701\n",
      "Epoch 26/500\n",
      "5284/5284 [==============================] - 12s 2ms/step - loss: 0.6533 - acc: 0.6472 - val_loss: 0.6450 - val_acc: 0.6701\n",
      "Epoch 27/500\n",
      "5284/5284 [==============================] - 12s 2ms/step - loss: 0.6507 - acc: 0.6499 - val_loss: 0.6418 - val_acc: 0.6684\n",
      "Epoch 28/500\n",
      "5284/5284 [==============================] - 12s 2ms/step - loss: 0.6481 - acc: 0.6506 - val_loss: 0.6388 - val_acc: 0.6684\n",
      "Epoch 29/500\n",
      "5284/5284 [==============================] - 12s 2ms/step - loss: 0.6456 - acc: 0.6482 - val_loss: 0.6357 - val_acc: 0.6616\n",
      "Epoch 30/500\n",
      "5284/5284 [==============================] - 12s 2ms/step - loss: 0.6431 - acc: 0.6533 - val_loss: 0.6327 - val_acc: 0.6684\n",
      "Epoch 31/500\n",
      "5284/5284 [==============================] - 12s 2ms/step - loss: 0.6409 - acc: 0.6546 - val_loss: 0.6302 - val_acc: 0.6650\n",
      "Epoch 32/500\n",
      "5284/5284 [==============================] - 12s 2ms/step - loss: 0.6388 - acc: 0.6561 - val_loss: 0.6277 - val_acc: 0.6701\n",
      "Epoch 33/500\n",
      "5284/5284 [==============================] - 12s 2ms/step - loss: 0.6367 - acc: 0.6559 - val_loss: 0.6251 - val_acc: 0.6701\n",
      "Epoch 34/500\n",
      "5284/5284 [==============================] - 11s 2ms/step - loss: 0.6346 - acc: 0.6571 - val_loss: 0.6230 - val_acc: 0.6718\n",
      "Epoch 35/500\n",
      "5284/5284 [==============================] - 11s 2ms/step - loss: 0.6326 - acc: 0.6576 - val_loss: 0.6210 - val_acc: 0.6752\n",
      "Epoch 36/500\n",
      "5284/5284 [==============================] - 12s 2ms/step - loss: 0.6307 - acc: 0.6609 - val_loss: 0.6190 - val_acc: 0.6769\n",
      "Epoch 37/500\n",
      "5284/5284 [==============================] - 12s 2ms/step - loss: 0.6288 - acc: 0.6637 - val_loss: 0.6171 - val_acc: 0.6786\n",
      "Epoch 38/500\n",
      "5284/5284 [==============================] - 12s 2ms/step - loss: 0.6268 - acc: 0.6664 - val_loss: 0.6150 - val_acc: 0.6803\n",
      "Epoch 39/500\n",
      "5284/5284 [==============================] - 12s 2ms/step - loss: 0.6250 - acc: 0.6662 - val_loss: 0.6132 - val_acc: 0.6820\n",
      "Epoch 40/500\n",
      "5284/5284 [==============================] - 12s 2ms/step - loss: 0.6230 - acc: 0.6699 - val_loss: 0.6115 - val_acc: 0.6803\n",
      "Epoch 41/500\n",
      "5284/5284 [==============================] - 12s 2ms/step - loss: 0.6211 - acc: 0.6709 - val_loss: 0.6097 - val_acc: 0.6820\n",
      "Epoch 42/500\n",
      "5284/5284 [==============================] - 12s 2ms/step - loss: 0.6192 - acc: 0.6730 - val_loss: 0.6077 - val_acc: 0.6820\n",
      "Epoch 43/500\n",
      "5284/5284 [==============================] - 12s 2ms/step - loss: 0.6172 - acc: 0.6732 - val_loss: 0.6062 - val_acc: 0.6820\n",
      "Epoch 44/500\n",
      "5284/5284 [==============================] - 12s 2ms/step - loss: 0.6151 - acc: 0.6745 - val_loss: 0.6043 - val_acc: 0.6854\n",
      "Epoch 45/500\n",
      "5284/5284 [==============================] - 12s 2ms/step - loss: 0.6129 - acc: 0.6773 - val_loss: 0.6027 - val_acc: 0.6871\n",
      "Epoch 46/500\n",
      "5284/5284 [==============================] - 12s 2ms/step - loss: 0.6107 - acc: 0.6775 - val_loss: 0.6007 - val_acc: 0.6888\n",
      "Epoch 47/500\n",
      "5284/5284 [==============================] - 12s 2ms/step - loss: 0.6085 - acc: 0.6817 - val_loss: 0.5990 - val_acc: 0.6854\n",
      "Epoch 48/500\n",
      "5284/5284 [==============================] - 12s 2ms/step - loss: 0.6062 - acc: 0.6838 - val_loss: 0.5970 - val_acc: 0.6854\n",
      "Epoch 49/500\n",
      "5284/5284 [==============================] - 12s 2ms/step - loss: 0.6034 - acc: 0.6883 - val_loss: 0.5955 - val_acc: 0.6939\n",
      "Epoch 50/500\n",
      "5284/5284 [==============================] - 12s 2ms/step - loss: 0.6009 - acc: 0.6881 - val_loss: 0.5929 - val_acc: 0.6990\n",
      "Epoch 51/500\n",
      "5284/5284 [==============================] - 12s 2ms/step - loss: 0.5976 - acc: 0.6925 - val_loss: 0.5916 - val_acc: 0.6939\n",
      "Epoch 52/500\n",
      "5284/5284 [==============================] - 12s 2ms/step - loss: 0.5944 - acc: 0.6949 - val_loss: 0.5883 - val_acc: 0.7092\n",
      "Epoch 53/500\n",
      "5284/5284 [==============================] - 12s 2ms/step - loss: 0.5909 - acc: 0.6981 - val_loss: 0.5869 - val_acc: 0.7041\n",
      "Epoch 54/500\n",
      "5284/5284 [==============================] - 12s 2ms/step - loss: 0.5867 - acc: 0.7040 - val_loss: 0.5830 - val_acc: 0.7228\n",
      "Epoch 55/500\n",
      "5284/5284 [==============================] - 12s 2ms/step - loss: 0.5828 - acc: 0.7029 - val_loss: 0.5819 - val_acc: 0.7058\n",
      "Epoch 56/500\n",
      "5284/5284 [==============================] - 12s 2ms/step - loss: 0.5780 - acc: 0.7097 - val_loss: 0.5784 - val_acc: 0.7092\n",
      "Epoch 57/500\n",
      "5284/5284 [==============================] - 12s 2ms/step - loss: 0.5728 - acc: 0.7150 - val_loss: 0.5769 - val_acc: 0.7024\n",
      "Epoch 58/500\n",
      "5284/5284 [==============================] - 12s 2ms/step - loss: 0.5677 - acc: 0.7184 - val_loss: 0.5728 - val_acc: 0.7160\n",
      "Epoch 59/500\n",
      "5284/5284 [==============================] - 12s 2ms/step - loss: 0.5618 - acc: 0.7207 - val_loss: 0.5660 - val_acc: 0.7228\n",
      "Epoch 60/500\n"
     ]
    },
    {
     "name": "stdout",
     "output_type": "stream",
     "text": [
      "5284/5284 [==============================] - 12s 2ms/step - loss: 0.5570 - acc: 0.7245 - val_loss: 0.5613 - val_acc: 0.7245\n",
      "Epoch 61/500\n",
      "5284/5284 [==============================] - 12s 2ms/step - loss: 0.5514 - acc: 0.7320 - val_loss: 0.5597 - val_acc: 0.7262\n",
      "Epoch 62/500\n",
      "5284/5284 [==============================] - 12s 2ms/step - loss: 0.5466 - acc: 0.7364 - val_loss: 0.5558 - val_acc: 0.7296\n",
      "Epoch 63/500\n",
      "5284/5284 [==============================] - 12s 2ms/step - loss: 0.5422 - acc: 0.7386 - val_loss: 0.5538 - val_acc: 0.7330\n",
      "Epoch 64/500\n",
      "5284/5284 [==============================] - 12s 2ms/step - loss: 0.5382 - acc: 0.7402 - val_loss: 0.5509 - val_acc: 0.7330\n",
      "Epoch 65/500\n",
      "5284/5284 [==============================] - 12s 2ms/step - loss: 0.5370 - acc: 0.7385 - val_loss: 0.5501 - val_acc: 0.7347\n",
      "Epoch 66/500\n",
      "5284/5284 [==============================] - 12s 2ms/step - loss: 0.5308 - acc: 0.7477 - val_loss: 0.5464 - val_acc: 0.7398\n",
      "Epoch 67/500\n",
      "5284/5284 [==============================] - 12s 2ms/step - loss: 0.5278 - acc: 0.7506 - val_loss: 0.5434 - val_acc: 0.7432\n",
      "Epoch 68/500\n",
      "5284/5284 [==============================] - 12s 2ms/step - loss: 0.5248 - acc: 0.7492 - val_loss: 0.5409 - val_acc: 0.7449\n",
      "Epoch 69/500\n",
      "5284/5284 [==============================] - 12s 2ms/step - loss: 0.5246 - acc: 0.7466 - val_loss: 0.5417 - val_acc: 0.7381\n",
      "Epoch 70/500\n",
      "5284/5284 [==============================] - 11s 2ms/step - loss: 0.5187 - acc: 0.7547 - val_loss: 0.5381 - val_acc: 0.7381\n",
      "Epoch 71/500\n",
      "5284/5284 [==============================] - 12s 2ms/step - loss: 0.5158 - acc: 0.7561 - val_loss: 0.5396 - val_acc: 0.7398\n",
      "Epoch 72/500\n",
      "5284/5284 [==============================] - 12s 2ms/step - loss: 0.5129 - acc: 0.7604 - val_loss: 0.5371 - val_acc: 0.7381\n",
      "Epoch 73/500\n",
      "5284/5284 [==============================] - 12s 2ms/step - loss: 0.5096 - acc: 0.7614 - val_loss: 0.5330 - val_acc: 0.7347\n",
      "Epoch 74/500\n",
      "5284/5284 [==============================] - 12s 2ms/step - loss: 0.5103 - acc: 0.7597 - val_loss: 0.5300 - val_acc: 0.7432\n",
      "Epoch 75/500\n",
      "5284/5284 [==============================] - 12s 2ms/step - loss: 0.5049 - acc: 0.7638 - val_loss: 0.5309 - val_acc: 0.7432\n",
      "Epoch 76/500\n",
      "5284/5284 [==============================] - 12s 2ms/step - loss: 0.5006 - acc: 0.7644 - val_loss: 0.5363 - val_acc: 0.7313\n",
      "Epoch 77/500\n",
      "5284/5284 [==============================] - 12s 2ms/step - loss: 0.5002 - acc: 0.7663 - val_loss: 0.5263 - val_acc: 0.7466\n",
      "Epoch 78/500\n",
      "5284/5284 [==============================] - 12s 2ms/step - loss: 0.4965 - acc: 0.7710 - val_loss: 0.5221 - val_acc: 0.7534\n",
      "Epoch 79/500\n",
      "5284/5284 [==============================] - 12s 2ms/step - loss: 0.4949 - acc: 0.7699 - val_loss: 0.5241 - val_acc: 0.7466\n",
      "Epoch 80/500\n",
      "5284/5284 [==============================] - 12s 2ms/step - loss: 0.4922 - acc: 0.7731 - val_loss: 0.5161 - val_acc: 0.7534\n",
      "Epoch 81/500\n",
      "5284/5284 [==============================] - 12s 2ms/step - loss: 0.4893 - acc: 0.7754 - val_loss: 0.5165 - val_acc: 0.7534\n",
      "Epoch 82/500\n",
      "5284/5284 [==============================] - 12s 2ms/step - loss: 0.4868 - acc: 0.7754 - val_loss: 0.5228 - val_acc: 0.7449\n",
      "Epoch 83/500\n",
      "5284/5284 [==============================] - 12s 2ms/step - loss: 0.4850 - acc: 0.7769 - val_loss: 0.5172 - val_acc: 0.7517\n",
      "Epoch 84/500\n",
      "5284/5284 [==============================] - 12s 2ms/step - loss: 0.4843 - acc: 0.7748 - val_loss: 0.5110 - val_acc: 0.7585\n",
      "Epoch 85/500\n",
      "5284/5284 [==============================] - 12s 2ms/step - loss: 0.4845 - acc: 0.7742 - val_loss: 0.5144 - val_acc: 0.7517\n",
      "Epoch 86/500\n",
      "5284/5284 [==============================] - 12s 2ms/step - loss: 0.4782 - acc: 0.7837 - val_loss: 0.5126 - val_acc: 0.7551\n",
      "Epoch 87/500\n",
      "5284/5284 [==============================] - 12s 2ms/step - loss: 0.4760 - acc: 0.7835 - val_loss: 0.5075 - val_acc: 0.7585\n",
      "Epoch 88/500\n",
      "5284/5284 [==============================] - 12s 2ms/step - loss: 0.4816 - acc: 0.7769 - val_loss: 0.5120 - val_acc: 0.7568\n",
      "Epoch 89/500\n",
      "5284/5284 [==============================] - 12s 2ms/step - loss: 0.4720 - acc: 0.7886 - val_loss: 0.5105 - val_acc: 0.7585\n",
      "Epoch 90/500\n",
      "5284/5284 [==============================] - 12s 2ms/step - loss: 0.4701 - acc: 0.7901 - val_loss: 0.5064 - val_acc: 0.7585\n",
      "Epoch 91/500\n",
      "5284/5284 [==============================] - 12s 2ms/step - loss: 0.4673 - acc: 0.7911 - val_loss: 0.5046 - val_acc: 0.7602\n",
      "Epoch 92/500\n",
      "5284/5284 [==============================] - 12s 2ms/step - loss: 0.4650 - acc: 0.7911 - val_loss: 0.4988 - val_acc: 0.7602\n",
      "Epoch 93/500\n",
      "5284/5284 [==============================] - 12s 2ms/step - loss: 0.4681 - acc: 0.7890 - val_loss: 0.5064 - val_acc: 0.7585\n",
      "Epoch 94/500\n",
      "5284/5284 [==============================] - 12s 2ms/step - loss: 0.4622 - acc: 0.7918 - val_loss: 0.4986 - val_acc: 0.7636\n",
      "Epoch 95/500\n",
      "5284/5284 [==============================] - 12s 2ms/step - loss: 0.4613 - acc: 0.7897 - val_loss: 0.4959 - val_acc: 0.7670\n",
      "Epoch 96/500\n",
      "5284/5284 [==============================] - 12s 2ms/step - loss: 0.4581 - acc: 0.7960 - val_loss: 0.4946 - val_acc: 0.7721\n",
      "Epoch 97/500\n",
      "5284/5284 [==============================] - 12s 2ms/step - loss: 0.4554 - acc: 0.7971 - val_loss: 0.5034 - val_acc: 0.7653\n",
      "Epoch 98/500\n",
      "5284/5284 [==============================] - 12s 2ms/step - loss: 0.4536 - acc: 0.8003 - val_loss: 0.4973 - val_acc: 0.7653\n",
      "Epoch 99/500\n",
      "5284/5284 [==============================] - 12s 2ms/step - loss: 0.4511 - acc: 0.7996 - val_loss: 0.4898 - val_acc: 0.7704\n",
      "Epoch 100/500\n",
      "5284/5284 [==============================] - 12s 2ms/step - loss: 0.4477 - acc: 0.8009 - val_loss: 0.4904 - val_acc: 0.7670\n",
      "Epoch 101/500\n",
      "5284/5284 [==============================] - 12s 2ms/step - loss: 0.4498 - acc: 0.7964 - val_loss: 0.4912 - val_acc: 0.7636\n",
      "Epoch 102/500\n",
      "5284/5284 [==============================] - 12s 2ms/step - loss: 0.4448 - acc: 0.8032 - val_loss: 0.4890 - val_acc: 0.7704\n",
      "Epoch 103/500\n",
      "5284/5284 [==============================] - 12s 2ms/step - loss: 0.4442 - acc: 0.8062 - val_loss: 0.4876 - val_acc: 0.7704\n",
      "Epoch 104/500\n",
      "5284/5284 [==============================] - 12s 2ms/step - loss: 0.4406 - acc: 0.8081 - val_loss: 0.4858 - val_acc: 0.7687\n",
      "Epoch 105/500\n",
      "5284/5284 [==============================] - 12s 2ms/step - loss: 0.4387 - acc: 0.8077 - val_loss: 0.4931 - val_acc: 0.7704\n",
      "Epoch 106/500\n",
      "5284/5284 [==============================] - 12s 2ms/step - loss: 0.4369 - acc: 0.8094 - val_loss: 0.4816 - val_acc: 0.7687\n",
      "Epoch 107/500\n",
      "5284/5284 [==============================] - 12s 2ms/step - loss: 0.4358 - acc: 0.8100 - val_loss: 0.4820 - val_acc: 0.7721\n",
      "Epoch 108/500\n",
      "5284/5284 [==============================] - 12s 2ms/step - loss: 0.4349 - acc: 0.8102 - val_loss: 0.4794 - val_acc: 0.7738\n",
      "Epoch 109/500\n",
      "5284/5284 [==============================] - 12s 2ms/step - loss: 0.4332 - acc: 0.8107 - val_loss: 0.4838 - val_acc: 0.7670\n",
      "Epoch 110/500\n",
      "5284/5284 [==============================] - 12s 2ms/step - loss: 0.4304 - acc: 0.8115 - val_loss: 0.4884 - val_acc: 0.7704\n",
      "Epoch 111/500\n",
      "5284/5284 [==============================] - 12s 2ms/step - loss: 0.4406 - acc: 0.8062 - val_loss: 0.4749 - val_acc: 0.7772\n",
      "Epoch 112/500\n",
      "5284/5284 [==============================] - 12s 2ms/step - loss: 0.4281 - acc: 0.8109 - val_loss: 0.4814 - val_acc: 0.7789\n",
      "Epoch 113/500\n",
      "5284/5284 [==============================] - 12s 2ms/step - loss: 0.4289 - acc: 0.8143 - val_loss: 0.4744 - val_acc: 0.7772\n",
      "Epoch 114/500\n",
      "5284/5284 [==============================] - 12s 2ms/step - loss: 0.4304 - acc: 0.8119 - val_loss: 0.4713 - val_acc: 0.7772\n",
      "Epoch 115/500\n",
      "5284/5284 [==============================] - 12s 2ms/step - loss: 0.4229 - acc: 0.8196 - val_loss: 0.4835 - val_acc: 0.7823\n",
      "Epoch 116/500\n",
      "5284/5284 [==============================] - 12s 2ms/step - loss: 0.4225 - acc: 0.8191 - val_loss: 0.4698 - val_acc: 0.7789\n",
      "Epoch 117/500\n",
      "5284/5284 [==============================] - 12s 2ms/step - loss: 0.4195 - acc: 0.8210 - val_loss: 0.4680 - val_acc: 0.7840\n",
      "Epoch 118/500\n",
      "5284/5284 [==============================] - 12s 2ms/step - loss: 0.4181 - acc: 0.8232 - val_loss: 0.4711 - val_acc: 0.7755\n",
      "Epoch 119/500\n",
      "5284/5284 [==============================] - 12s 2ms/step - loss: 0.4158 - acc: 0.8229 - val_loss: 0.4633 - val_acc: 0.7840\n"
     ]
    },
    {
     "name": "stdout",
     "output_type": "stream",
     "text": [
      "Epoch 120/500\n",
      "5284/5284 [==============================] - 12s 2ms/step - loss: 0.4172 - acc: 0.8213 - val_loss: 0.4643 - val_acc: 0.7908\n",
      "Epoch 121/500\n",
      "5284/5284 [==============================] - 12s 2ms/step - loss: 0.4180 - acc: 0.8223 - val_loss: 0.4615 - val_acc: 0.7908\n",
      "Epoch 122/500\n",
      "5284/5284 [==============================] - 12s 2ms/step - loss: 0.4112 - acc: 0.8255 - val_loss: 0.4676 - val_acc: 0.7942\n",
      "Epoch 123/500\n",
      "5284/5284 [==============================] - 12s 2ms/step - loss: 0.4091 - acc: 0.8266 - val_loss: 0.4598 - val_acc: 0.7874\n",
      "Epoch 124/500\n",
      "5284/5284 [==============================] - 12s 2ms/step - loss: 0.4102 - acc: 0.8251 - val_loss: 0.4603 - val_acc: 0.7908\n",
      "Epoch 125/500\n",
      "5284/5284 [==============================] - 12s 2ms/step - loss: 0.4080 - acc: 0.8272 - val_loss: 0.4629 - val_acc: 0.7806\n",
      "Epoch 126/500\n",
      "5284/5284 [==============================] - 12s 2ms/step - loss: 0.4075 - acc: 0.8285 - val_loss: 0.4566 - val_acc: 0.7874\n",
      "Epoch 127/500\n",
      "5284/5284 [==============================] - 12s 2ms/step - loss: 0.4061 - acc: 0.8293 - val_loss: 0.4593 - val_acc: 0.7976\n",
      "Epoch 128/500\n",
      "5284/5284 [==============================] - 12s 2ms/step - loss: 0.4028 - acc: 0.8312 - val_loss: 0.4620 - val_acc: 0.7959\n",
      "Epoch 129/500\n",
      "5284/5284 [==============================] - 12s 2ms/step - loss: 0.4010 - acc: 0.8319 - val_loss: 0.4609 - val_acc: 0.7959\n",
      "Epoch 130/500\n",
      "5284/5284 [==============================] - 12s 2ms/step - loss: 0.3992 - acc: 0.8325 - val_loss: 0.4591 - val_acc: 0.7925\n",
      "Epoch 131/500\n",
      "5284/5284 [==============================] - 12s 2ms/step - loss: 0.4006 - acc: 0.8333 - val_loss: 0.4525 - val_acc: 0.7874\n",
      "Epoch 132/500\n",
      "5284/5284 [==============================] - 12s 2ms/step - loss: 0.3987 - acc: 0.8327 - val_loss: 0.4599 - val_acc: 0.8010\n",
      "Epoch 133/500\n",
      "5284/5284 [==============================] - 12s 2ms/step - loss: 0.3947 - acc: 0.8359 - val_loss: 0.4560 - val_acc: 0.8010\n",
      "Epoch 134/500\n",
      "5284/5284 [==============================] - 12s 2ms/step - loss: 0.3961 - acc: 0.8359 - val_loss: 0.4588 - val_acc: 0.7874\n",
      "Epoch 135/500\n",
      "5284/5284 [==============================] - 12s 2ms/step - loss: 0.3950 - acc: 0.8338 - val_loss: 0.4544 - val_acc: 0.7993\n",
      "Epoch 136/500\n",
      "5284/5284 [==============================] - 12s 2ms/step - loss: 0.3961 - acc: 0.8348 - val_loss: 0.4887 - val_acc: 0.7738\n",
      "Epoch 137/500\n",
      "5284/5284 [==============================] - 12s 2ms/step - loss: 0.5495 - acc: 0.7254 - val_loss: 0.4703 - val_acc: 0.7823\n",
      "Epoch 138/500\n",
      "5284/5284 [==============================] - 12s 2ms/step - loss: 0.4316 - acc: 0.8111 - val_loss: 0.4669 - val_acc: 0.7857\n",
      "Epoch 139/500\n",
      "5284/5284 [==============================] - 12s 2ms/step - loss: 0.4132 - acc: 0.8189 - val_loss: 0.4585 - val_acc: 0.7823\n",
      "Epoch 140/500\n",
      "5284/5284 [==============================] - 12s 2ms/step - loss: 0.4014 - acc: 0.8263 - val_loss: 0.4553 - val_acc: 0.7993\n",
      "Epoch 141/500\n",
      "5284/5284 [==============================] - 12s 2ms/step - loss: 0.3952 - acc: 0.8331 - val_loss: 0.4530 - val_acc: 0.7959\n",
      "Epoch 142/500\n",
      "5284/5284 [==============================] - 12s 2ms/step - loss: 0.3904 - acc: 0.8378 - val_loss: 0.4535 - val_acc: 0.7908\n",
      "Epoch 143/500\n",
      "5284/5284 [==============================] - 12s 2ms/step - loss: 0.3877 - acc: 0.8397 - val_loss: 0.4578 - val_acc: 0.7993\n",
      "Epoch 144/500\n",
      "5284/5284 [==============================] - 11s 2ms/step - loss: 0.3866 - acc: 0.8376 - val_loss: 0.4556 - val_acc: 0.8010\n",
      "Epoch 145/500\n",
      "5284/5284 [==============================] - 12s 2ms/step - loss: 0.3848 - acc: 0.8408 - val_loss: 0.4514 - val_acc: 0.7942\n",
      "Epoch 146/500\n",
      "5284/5284 [==============================] - 12s 2ms/step - loss: 0.3830 - acc: 0.8429 - val_loss: 0.4546 - val_acc: 0.7959\n",
      "Epoch 147/500\n",
      "5284/5284 [==============================] - 12s 2ms/step - loss: 0.3819 - acc: 0.8427 - val_loss: 0.4518 - val_acc: 0.8010\n",
      "Epoch 148/500\n",
      "5284/5284 [==============================] - 12s 2ms/step - loss: 0.3836 - acc: 0.8418 - val_loss: 0.4647 - val_acc: 0.7908\n",
      "Epoch 149/500\n",
      "5284/5284 [==============================] - 12s 2ms/step - loss: 0.3814 - acc: 0.8397 - val_loss: 0.4495 - val_acc: 0.7976\n",
      "Epoch 150/500\n",
      "5284/5284 [==============================] - 12s 2ms/step - loss: 0.3793 - acc: 0.8456 - val_loss: 0.4495 - val_acc: 0.7993\n",
      "Epoch 151/500\n",
      "5284/5284 [==============================] - 12s 2ms/step - loss: 0.3774 - acc: 0.8460 - val_loss: 0.4477 - val_acc: 0.7993\n",
      "Epoch 152/500\n",
      "5284/5284 [==============================] - 12s 2ms/step - loss: 0.3840 - acc: 0.8408 - val_loss: 0.4576 - val_acc: 0.7993\n",
      "Epoch 153/500\n",
      "5284/5284 [==============================] - 12s 2ms/step - loss: 0.3785 - acc: 0.8429 - val_loss: 0.4714 - val_acc: 0.7925\n",
      "Epoch 154/500\n",
      "5284/5284 [==============================] - 12s 2ms/step - loss: 0.3783 - acc: 0.8427 - val_loss: 0.4539 - val_acc: 0.8010\n",
      "Epoch 155/500\n",
      "5284/5284 [==============================] - 12s 2ms/step - loss: 0.3762 - acc: 0.8465 - val_loss: 0.4575 - val_acc: 0.8027\n",
      "Epoch 156/500\n",
      "5284/5284 [==============================] - 12s 2ms/step - loss: 0.3748 - acc: 0.8458 - val_loss: 0.4600 - val_acc: 0.8027\n",
      "Epoch 157/500\n",
      "5284/5284 [==============================] - 12s 2ms/step - loss: 0.3740 - acc: 0.8482 - val_loss: 0.4507 - val_acc: 0.8010\n",
      "Epoch 158/500\n",
      "5284/5284 [==============================] - 12s 2ms/step - loss: 0.3799 - acc: 0.8416 - val_loss: 0.4530 - val_acc: 0.7908\n",
      "Epoch 159/500\n",
      "5284/5284 [==============================] - 12s 2ms/step - loss: 0.3759 - acc: 0.8456 - val_loss: 0.4634 - val_acc: 0.7959\n",
      "Epoch 160/500\n",
      "5284/5284 [==============================] - 12s 2ms/step - loss: 0.3703 - acc: 0.8499 - val_loss: 0.4553 - val_acc: 0.7993\n",
      "Epoch 161/500\n",
      "5284/5284 [==============================] - 12s 2ms/step - loss: 0.3705 - acc: 0.8471 - val_loss: 0.4517 - val_acc: 0.8044\n",
      "Epoch 162/500\n",
      "5284/5284 [==============================] - 12s 2ms/step - loss: 0.3682 - acc: 0.8494 - val_loss: 0.4462 - val_acc: 0.8044\n",
      "Epoch 163/500\n",
      "5284/5284 [==============================] - 12s 2ms/step - loss: 0.3673 - acc: 0.8516 - val_loss: 0.4658 - val_acc: 0.7925\n",
      "Epoch 164/500\n",
      "5284/5284 [==============================] - 12s 2ms/step - loss: 0.3668 - acc: 0.8533 - val_loss: 0.4457 - val_acc: 0.8061\n",
      "Epoch 165/500\n",
      "5284/5284 [==============================] - 12s 2ms/step - loss: 0.3666 - acc: 0.8509 - val_loss: 0.4524 - val_acc: 0.8044\n",
      "Epoch 166/500\n",
      "5284/5284 [==============================] - 12s 2ms/step - loss: 0.3659 - acc: 0.8509 - val_loss: 0.4481 - val_acc: 0.8095\n",
      "Epoch 167/500\n",
      "5284/5284 [==============================] - 12s 2ms/step - loss: 0.3646 - acc: 0.8531 - val_loss: 0.4487 - val_acc: 0.7993\n",
      "Epoch 168/500\n",
      "5284/5284 [==============================] - 12s 2ms/step - loss: 0.3627 - acc: 0.8530 - val_loss: 0.4511 - val_acc: 0.8044\n",
      "Epoch 169/500\n",
      "5284/5284 [==============================] - 12s 2ms/step - loss: 0.3619 - acc: 0.8548 - val_loss: 0.4457 - val_acc: 0.8027\n",
      "Epoch 170/500\n",
      "5284/5284 [==============================] - 12s 2ms/step - loss: 0.3646 - acc: 0.8512 - val_loss: 0.4588 - val_acc: 0.7976\n",
      "Epoch 171/500\n",
      "5284/5284 [==============================] - 12s 2ms/step - loss: 0.3653 - acc: 0.8505 - val_loss: 0.4625 - val_acc: 0.7976\n",
      "Epoch 172/500\n",
      "5284/5284 [==============================] - 12s 2ms/step - loss: 0.3749 - acc: 0.8403 - val_loss: 0.4428 - val_acc: 0.7976\n",
      "Epoch 173/500\n",
      "5284/5284 [==============================] - 12s 2ms/step - loss: 0.3616 - acc: 0.8564 - val_loss: 0.4426 - val_acc: 0.8027\n",
      "Epoch 174/500\n",
      "5284/5284 [==============================] - 12s 2ms/step - loss: 0.3635 - acc: 0.8486 - val_loss: 0.4431 - val_acc: 0.8044\n",
      "Epoch 175/500\n",
      "5284/5284 [==============================] - 12s 2ms/step - loss: 0.3624 - acc: 0.8575 - val_loss: 0.4422 - val_acc: 0.8027\n",
      "Epoch 176/500\n",
      "5284/5284 [==============================] - 12s 2ms/step - loss: 0.3583 - acc: 0.8562 - val_loss: 0.4491 - val_acc: 0.8044\n",
      "Epoch 177/500\n",
      "5284/5284 [==============================] - 12s 2ms/step - loss: 0.3615 - acc: 0.8558 - val_loss: 0.4703 - val_acc: 0.7908\n",
      "Epoch 178/500\n",
      "5284/5284 [==============================] - 12s 2ms/step - loss: 0.3561 - acc: 0.8560 - val_loss: 0.4461 - val_acc: 0.7908\n",
      "Epoch 179/500\n"
     ]
    },
    {
     "name": "stdout",
     "output_type": "stream",
     "text": [
      "5284/5284 [==============================] - 12s 2ms/step - loss: 0.3609 - acc: 0.8567 - val_loss: 0.4481 - val_acc: 0.8010\n",
      "Epoch 180/500\n",
      "5284/5284 [==============================] - 12s 2ms/step - loss: 0.3598 - acc: 0.8520 - val_loss: 0.4455 - val_acc: 0.7925\n",
      "Epoch 181/500\n",
      "5284/5284 [==============================] - 12s 2ms/step - loss: 0.3537 - acc: 0.8596 - val_loss: 0.4463 - val_acc: 0.8078\n",
      "Epoch 182/500\n",
      "5284/5284 [==============================] - 11s 2ms/step - loss: 0.3527 - acc: 0.8588 - val_loss: 0.4442 - val_acc: 0.8061\n",
      "Epoch 183/500\n",
      "5284/5284 [==============================] - 12s 2ms/step - loss: 0.3892 - acc: 0.8359 - val_loss: 0.4497 - val_acc: 0.7874\n",
      "Epoch 184/500\n",
      "5284/5284 [==============================] - 12s 2ms/step - loss: 0.3969 - acc: 0.8276 - val_loss: 0.4452 - val_acc: 0.7925\n",
      "Epoch 185/500\n",
      "5284/5284 [==============================] - 12s 2ms/step - loss: 0.3620 - acc: 0.8535 - val_loss: 0.4549 - val_acc: 0.8095\n",
      "Epoch 186/500\n",
      "5284/5284 [==============================] - 12s 2ms/step - loss: 0.3535 - acc: 0.8607 - val_loss: 0.4484 - val_acc: 0.7925\n",
      "Epoch 187/500\n",
      "5284/5284 [==============================] - 12s 2ms/step - loss: 0.3842 - acc: 0.8350 - val_loss: 0.4529 - val_acc: 0.7908\n",
      "Epoch 188/500\n",
      "5284/5284 [==============================] - 12s 2ms/step - loss: 0.3583 - acc: 0.8558 - val_loss: 0.4449 - val_acc: 0.8044\n",
      "Epoch 189/500\n",
      "5284/5284 [==============================] - 12s 2ms/step - loss: 0.3497 - acc: 0.8605 - val_loss: 0.4506 - val_acc: 0.8027\n",
      "Epoch 190/500\n",
      "5284/5284 [==============================] - 12s 2ms/step - loss: 0.3476 - acc: 0.8624 - val_loss: 0.4530 - val_acc: 0.8010\n"
     ]
    }
   ],
   "source": [
    "callbacks = [EarlyStopping(monitor='val_loss', patience=15)] \n",
    "\n",
    "history = model.fit(X_train, y_train,\n",
    "                    epochs=500,\n",
    "                    callbacks=callbacks,\n",
    "                    batch_size=128,\n",
    "                    validation_data=(X_valid, y_valid))"
   ]
  },
  {
   "cell_type": "code",
   "execution_count": 53,
   "metadata": {},
   "outputs": [
    {
     "data": {
      "image/png": "[encoded data removed]",
      "text/plain": [
       "<matplotlib.figure.Figure at 0x7fa2a1ddcc90>"
      ]
     },
     "metadata": {},
     "output_type": "display_data"
    }
   ],
   "source": [
    "plt.figure(dpi=100)\n",
    "t = history.epoch\n",
    "\n",
    "plt.subplot(211)\n",
    "plt.plot(t, history.history['loss'], label='loss', color='C0')\n",
    "plt.plot(t, history.history['val_loss'], label='val_loss', color='C1')\n",
    "plt.xlabel('epochs')\n",
    "plt.ylabel('loss')\n",
    "plt.legend(loc=1)\n",
    "\n",
    "plt.subplot(212)\n",
    "plt.plot(t, history.history['acc'], label='acc', color='C2')\n",
    "plt.plot(t, history.history['val_acc'], label='val_acc', color='C3')\n",
    "plt.ylim([0.5, 1])\n",
    "plt.ylabel('acc')\n",
    "plt.xlabel('epochs')\n",
    "plt.legend(loc=1)\n",
    "\n",
    "plt.tight_layout()\n",
    "plt.savefig(root+'/embedding_conv_bilstm.png')"
   ]
  },
  {
   "cell_type": "code",
   "execution_count": 54,
   "metadata": {},
   "outputs": [
    {
     "name": "stdout",
     "output_type": "stream",
     "text": [
      "5872/5872 [==============================] - 14s 2ms/step\n",
      "test_loss: 0.4852 - test_acc: 0.7667\n"
     ]
    }
   ],
   "source": [
    "test_loss, test_acc = model.evaluate(X_test, y_test)\n",
    "print('test_loss: {:1.4f} - test_acc: {:1.4f}'.format(test_loss, test_acc))"
   ]
  },
  {
   "cell_type": "markdown",
   "metadata": {},
   "source": [
    "# Model \\#9: Embedding + Conv1D + Dense"
   ]
  },
  {
   "cell_type": "code",
   "execution_count": 55,
   "metadata": {},
   "outputs": [
    {
     "name": "stdout",
     "output_type": "stream",
     "text": [
      "_________________________________________________________________\n",
      "Layer (type)                 Output Shape              Param #   \n",
      "=================================================================\n",
      "embedding_13 (Embedding)     (None, 889, 64)           177536    \n",
      "_________________________________________________________________\n",
      "conv1d_5 (Conv1D)            (None, 885, 64)           20544     \n",
      "_________________________________________________________________\n",
      "max_pooling1d_2 (MaxPooling1 (None, 881, 64)           0         \n",
      "_________________________________________________________________\n",
      "dropout_2 (Dropout)          (None, 881, 64)           0         \n",
      "_________________________________________________________________\n",
      "flatten_4 (Flatten)          (None, 56384)             0         \n",
      "_________________________________________________________________\n",
      "dense_11 (Dense)             (None, 1)                 56385     \n",
      "=================================================================\n",
      "Total params: 254,465\n",
      "Trainable params: 254,465\n",
      "Non-trainable params: 0\n",
      "_________________________________________________________________\n"
     ]
    }
   ],
   "source": [
    "from keras.layers import Dropout\n",
    "\n",
    "model = Sequential()\n",
    "model.add(Embedding(n_feat, 64, input_length=maxlen))\n",
    "model.add(Conv1D(64, 5, activation='relu'))\n",
    "model.add(MaxPooling1D(5, 1))\n",
    "model.add(Dropout(0.5))\n",
    "model.add(Flatten())\n",
    "model.add(Dense(1, activation='sigmoid'))\n",
    "model.compile(optimizer='rmsprop',\n",
    "              loss='binary_crossentropy',\n",
    "              metrics=['acc'])\n",
    "model.summary()"
   ]
  },
  {
   "cell_type": "code",
   "execution_count": 56,
   "metadata": {},
   "outputs": [
    {
     "name": "stdout",
     "output_type": "stream",
     "text": [
      "Train on 5284 samples, validate on 588 samples\n",
      "Epoch 1/100\n",
      "5284/5284 [==============================] - 2s 440us/step - loss: 0.7055 - acc: 0.5327 - val_loss: 0.6819 - val_acc: 0.5425\n",
      "Epoch 2/100\n",
      "5284/5284 [==============================] - 2s 355us/step - loss: 0.6251 - acc: 0.6408 - val_loss: 0.5770 - val_acc: 0.7211\n",
      "Epoch 3/100\n",
      "5284/5284 [==============================] - 2s 358us/step - loss: 0.5022 - acc: 0.7632 - val_loss: 0.5124 - val_acc: 0.7449\n",
      "Epoch 4/100\n",
      "5284/5284 [==============================] - 2s 350us/step - loss: 0.4432 - acc: 0.7922 - val_loss: 0.5379 - val_acc: 0.7194\n",
      "Epoch 5/100\n",
      "5284/5284 [==============================] - 2s 352us/step - loss: 0.4032 - acc: 0.8166 - val_loss: 0.4870 - val_acc: 0.7670\n",
      "Epoch 6/100\n",
      "5284/5284 [==============================] - 2s 355us/step - loss: 0.3773 - acc: 0.8336 - val_loss: 0.4871 - val_acc: 0.7602\n",
      "Epoch 7/100\n",
      "5284/5284 [==============================] - 2s 349us/step - loss: 0.3455 - acc: 0.8562 - val_loss: 0.4920 - val_acc: 0.7755\n",
      "Epoch 8/100\n",
      "5284/5284 [==============================] - 2s 353us/step - loss: 0.3164 - acc: 0.8723 - val_loss: 0.4889 - val_acc: 0.7636\n",
      "Epoch 9/100\n",
      "5284/5284 [==============================] - 2s 348us/step - loss: 0.2848 - acc: 0.8844 - val_loss: 0.5408 - val_acc: 0.7432\n",
      "Epoch 10/100\n",
      "5284/5284 [==============================] - 2s 352us/step - loss: 0.2704 - acc: 0.8946 - val_loss: 0.5485 - val_acc: 0.7602\n",
      "Epoch 11/100\n",
      "5284/5284 [==============================] - 2s 353us/step - loss: 0.2561 - acc: 0.8989 - val_loss: 0.5585 - val_acc: 0.7670\n",
      "Epoch 12/100\n",
      "5284/5284 [==============================] - 2s 355us/step - loss: 0.2288 - acc: 0.9116 - val_loss: 0.6012 - val_acc: 0.7534\n",
      "Epoch 13/100\n",
      "5284/5284 [==============================] - 2s 354us/step - loss: 0.2150 - acc: 0.9196 - val_loss: 0.6033 - val_acc: 0.7568\n",
      "Epoch 14/100\n",
      "5284/5284 [==============================] - 2s 353us/step - loss: 0.1941 - acc: 0.9230 - val_loss: 0.6455 - val_acc: 0.7449\n",
      "Epoch 15/100\n",
      "5284/5284 [==============================] - 2s 352us/step - loss: 0.1822 - acc: 0.9305 - val_loss: 0.7006 - val_acc: 0.7602\n",
      "Epoch 16/100\n",
      "5284/5284 [==============================] - 2s 354us/step - loss: 0.1654 - acc: 0.9387 - val_loss: 0.7431 - val_acc: 0.7568\n",
      "Epoch 17/100\n",
      "5284/5284 [==============================] - 2s 354us/step - loss: 0.1538 - acc: 0.9438 - val_loss: 0.7461 - val_acc: 0.7551\n",
      "Epoch 18/100\n",
      "5284/5284 [==============================] - 2s 353us/step - loss: 0.1342 - acc: 0.9531 - val_loss: 0.7520 - val_acc: 0.7483\n",
      "Epoch 19/100\n",
      "5284/5284 [==============================] - 2s 353us/step - loss: 0.1254 - acc: 0.9569 - val_loss: 0.8080 - val_acc: 0.7517\n",
      "Epoch 20/100\n",
      "5284/5284 [==============================] - 2s 351us/step - loss: 0.1183 - acc: 0.9595 - val_loss: 0.8217 - val_acc: 0.7398\n"
     ]
    }
   ],
   "source": [
    "callbacks = [EarlyStopping(monitor='val_loss', patience=15)]\n",
    "\n",
    "history = model.fit(X_train, y_train,\n",
    "                    epochs=100,\n",
    "                    callbacks=callbacks,\n",
    "                    batch_size=128,\n",
    "                    validation_data=(X_valid, y_valid))"
   ]
  },
  {
   "cell_type": "code",
   "execution_count": 57,
   "metadata": {},
   "outputs": [
    {
     "data": {
      "image/png": "[encoded data removed]",
      "text/plain": [
       "<matplotlib.figure.Figure at 0x7fa2a1449e90>"
      ]
     },
     "metadata": {},
     "output_type": "display_data"
    }
   ],
   "source": [
    "plt.figure(dpi=100)\n",
    "t = history.epoch\n",
    "\n",
    "plt.subplot(211)\n",
    "plt.plot(t, history.history['loss'], label='loss', color='C0')\n",
    "plt.plot(t, history.history['val_loss'], label='val_loss', color='C1')\n",
    "plt.xlabel('epochs')\n",
    "plt.ylabel('loss')\n",
    "plt.legend(loc=1)\n",
    "\n",
    "plt.subplot(212)\n",
    "plt.plot(t, history.history['acc'], label='acc', color='C2')\n",
    "plt.plot(t, history.history['val_acc'], label='val_acc', color='C3')\n",
    "plt.ylim([0.5, 1])\n",
    "plt.ylabel('acc')\n",
    "plt.xlabel('epochs')\n",
    "plt.legend(loc=1)\n",
    "\n",
    "plt.tight_layout()\n",
    "plt.savefig(root+'/embedding_conv_dropout_dense.png')"
   ]
  },
  {
   "cell_type": "code",
   "execution_count": 58,
   "metadata": {},
   "outputs": [
    {
     "name": "stdout",
     "output_type": "stream",
     "text": [
      "5872/5872 [==============================] - 1s 190us/step\n",
      "test_loss: 0.7669 - test_acc: 0.7446\n"
     ]
    }
   ],
   "source": [
    "test_loss, test_acc = model.evaluate(X_test, y_test)\n",
    "print('test_loss: {:1.4f} - test_acc: {:1.4f}'.format(test_loss, test_acc))"
   ]
  },
  {
   "cell_type": "markdown",
   "metadata": {},
   "source": [
    "# Model \\#: 10"
   ]
  },
  {
   "cell_type": "code",
   "execution_count": 59,
   "metadata": {},
   "outputs": [
    {
     "name": "stdout",
     "output_type": "stream",
     "text": [
      "_________________________________________________________________\n",
      "Layer (type)                 Output Shape              Param #   \n",
      "=================================================================\n",
      "embedding_14 (Embedding)     (None, 889, 64)           177536    \n",
      "_________________________________________________________________\n",
      "bidirectional_4 (Bidirection (None, 64)                24832     \n",
      "_________________________________________________________________\n",
      "dense_12 (Dense)             (None, 1)                 65        \n",
      "=================================================================\n",
      "Total params: 202,433\n",
      "Trainable params: 202,433\n",
      "Non-trainable params: 0\n",
      "_________________________________________________________________\n"
     ]
    }
   ],
   "source": [
    "from keras.layers import LSTM\n",
    "\n",
    "model = Sequential()\n",
    "model.add(Embedding(n_feat, 64, input_length=maxlen))\n",
    "model.add(Bidirectional(LSTM(32, recurrent_dropout=0.25, dropout=0.25)))\n",
    "model.add(Dense(1, activation='sigmoid'))\n",
    "model.compile(optimizer='rmsprop',\n",
    "              loss='binary_crossentropy',\n",
    "              metrics=['acc'])\n",
    "model.summary()"
   ]
  },
  {
   "cell_type": "code",
   "execution_count": 60,
   "metadata": {},
   "outputs": [
    {
     "name": "stdout",
     "output_type": "stream",
     "text": [
      "Train on 5284 samples, validate on 588 samples\n",
      "Epoch 1/100\n",
      "5284/5284 [==============================] - 127s 24ms/step - loss: 0.6775 - acc: 0.5914 - val_loss: 0.6378 - val_acc: 0.6939\n",
      "Epoch 2/100\n",
      "5284/5284 [==============================] - 127s 24ms/step - loss: 0.6266 - acc: 0.6781 - val_loss: 0.5918 - val_acc: 0.6956\n",
      "Epoch 3/100\n",
      "5284/5284 [==============================] - 125s 24ms/step - loss: 0.5936 - acc: 0.6953 - val_loss: 0.5708 - val_acc: 0.7245\n",
      "Epoch 4/100\n",
      "5284/5284 [==============================] - 123s 23ms/step - loss: 0.5688 - acc: 0.7176 - val_loss: 0.5682 - val_acc: 0.7092\n",
      "Epoch 5/100\n",
      "5284/5284 [==============================] - 127s 24ms/step - loss: 0.5530 - acc: 0.7292 - val_loss: 0.5277 - val_acc: 0.7517\n",
      "Epoch 6/100\n",
      "5284/5284 [==============================] - 126s 24ms/step - loss: 0.5371 - acc: 0.7381 - val_loss: 0.5304 - val_acc: 0.7381\n",
      "Epoch 7/100\n",
      "5284/5284 [==============================] - 125s 24ms/step - loss: 0.5290 - acc: 0.7468 - val_loss: 0.5279 - val_acc: 0.7296\n",
      "Epoch 8/100\n",
      "5284/5284 [==============================] - 124s 23ms/step - loss: 0.5129 - acc: 0.7547 - val_loss: 0.5122 - val_acc: 0.7551\n",
      "Epoch 9/100\n",
      "5284/5284 [==============================] - 126s 24ms/step - loss: 0.5070 - acc: 0.7574 - val_loss: 0.5126 - val_acc: 0.7636\n",
      "Epoch 10/100\n",
      "5284/5284 [==============================] - 125s 24ms/step - loss: 0.5012 - acc: 0.7597 - val_loss: 0.5072 - val_acc: 0.7551\n",
      "Epoch 11/100\n",
      "5284/5284 [==============================] - 123s 23ms/step - loss: 0.4945 - acc: 0.7661 - val_loss: 0.5729 - val_acc: 0.7313\n",
      "Epoch 12/100\n",
      "5284/5284 [==============================] - 126s 24ms/step - loss: 0.4893 - acc: 0.7665 - val_loss: 0.4870 - val_acc: 0.7551\n",
      "Epoch 13/100\n",
      "5284/5284 [==============================] - 128s 24ms/step - loss: 0.4816 - acc: 0.7738 - val_loss: 0.4934 - val_acc: 0.7704\n",
      "Epoch 14/100\n",
      "5284/5284 [==============================] - 126s 24ms/step - loss: 0.4717 - acc: 0.7748 - val_loss: 0.5015 - val_acc: 0.7568\n",
      "Epoch 15/100\n",
      "5284/5284 [==============================] - 126s 24ms/step - loss: 0.4650 - acc: 0.7812 - val_loss: 0.4878 - val_acc: 0.7602\n",
      "Epoch 16/100\n",
      "5284/5284 [==============================] - 127s 24ms/step - loss: 0.4602 - acc: 0.7860 - val_loss: 0.5133 - val_acc: 0.7500\n",
      "Epoch 17/100\n",
      "5284/5284 [==============================] - 127s 24ms/step - loss: 0.4535 - acc: 0.7877 - val_loss: 0.4837 - val_acc: 0.7755\n",
      "Epoch 18/100\n",
      "5284/5284 [==============================] - 125s 24ms/step - loss: 0.4579 - acc: 0.7875 - val_loss: 0.4852 - val_acc: 0.7721\n",
      "Epoch 19/100\n",
      "5284/5284 [==============================] - 127s 24ms/step - loss: 0.4490 - acc: 0.7945 - val_loss: 0.4892 - val_acc: 0.7704\n",
      "Epoch 20/100\n",
      "5284/5284 [==============================] - 127s 24ms/step - loss: 0.4453 - acc: 0.7966 - val_loss: 0.4929 - val_acc: 0.7585\n",
      "Epoch 21/100\n",
      "5284/5284 [==============================] - 129s 24ms/step - loss: 0.4368 - acc: 0.7967 - val_loss: 0.4535 - val_acc: 0.7755\n",
      "Epoch 22/100\n",
      "5284/5284 [==============================] - 127s 24ms/step - loss: 0.4461 - acc: 0.8005 - val_loss: 0.4747 - val_acc: 0.7619\n",
      "Epoch 23/100\n",
      "5284/5284 [==============================] - 127s 24ms/step - loss: 0.4391 - acc: 0.7977 - val_loss: 0.4596 - val_acc: 0.7942\n",
      "Epoch 24/100\n",
      "5284/5284 [==============================] - 129s 24ms/step - loss: 0.4304 - acc: 0.8045 - val_loss: 0.4727 - val_acc: 0.7823\n",
      "Epoch 25/100\n",
      "5284/5284 [==============================] - 126s 24ms/step - loss: 0.4246 - acc: 0.8043 - val_loss: 0.4877 - val_acc: 0.7738\n",
      "Epoch 26/100\n",
      "5284/5284 [==============================] - 127s 24ms/step - loss: 0.4192 - acc: 0.8066 - val_loss: 0.4688 - val_acc: 0.7687\n",
      "Epoch 27/100\n",
      "5284/5284 [==============================] - 126s 24ms/step - loss: 0.4215 - acc: 0.8077 - val_loss: 0.4935 - val_acc: 0.7585\n",
      "Epoch 28/100\n",
      "5284/5284 [==============================] - 127s 24ms/step - loss: 0.4180 - acc: 0.8083 - val_loss: 0.4943 - val_acc: 0.7789\n",
      "Epoch 29/100\n",
      "5284/5284 [==============================] - 126s 24ms/step - loss: 0.4131 - acc: 0.8087 - val_loss: 0.4797 - val_acc: 0.7755\n",
      "Epoch 30/100\n",
      "5284/5284 [==============================] - 126s 24ms/step - loss: 0.4205 - acc: 0.8073 - val_loss: 0.4854 - val_acc: 0.7670\n",
      "Epoch 31/100\n",
      "5284/5284 [==============================] - 125s 24ms/step - loss: 0.4062 - acc: 0.8130 - val_loss: 0.4775 - val_acc: 0.7772\n",
      "Epoch 32/100\n",
      "5284/5284 [==============================] - 125s 24ms/step - loss: 0.3997 - acc: 0.8176 - val_loss: 0.4718 - val_acc: 0.7806\n",
      "Epoch 33/100\n",
      "5284/5284 [==============================] - 124s 23ms/step - loss: 0.3967 - acc: 0.8217 - val_loss: 0.4802 - val_acc: 0.7823\n",
      "Epoch 34/100\n",
      "5284/5284 [==============================] - 123s 23ms/step - loss: 0.3986 - acc: 0.8242 - val_loss: 0.4804 - val_acc: 0.7704\n",
      "Epoch 35/100\n",
      "5284/5284 [==============================] - 124s 23ms/step - loss: 0.3864 - acc: 0.8272 - val_loss: 0.4762 - val_acc: 0.7840\n",
      "Epoch 36/100\n",
      "5284/5284 [==============================] - 122s 23ms/step - loss: 0.3844 - acc: 0.8282 - val_loss: 0.4765 - val_acc: 0.7823\n"
     ]
    }
   ],
   "source": [
    "callbacks = [EarlyStopping(monitor='val_loss', patience=15)] ## TODO\n",
    "\n",
    "history = model.fit(X_train, y_train,\n",
    "                    epochs=100,\n",
    "                    callbacks=callbacks,\n",
    "                    batch_size=128,\n",
    "                    validation_data=(X_valid, y_valid))"
   ]
  },
  {
   "cell_type": "code",
   "execution_count": 61,
   "metadata": {},
   "outputs": [
    {
     "data": {
      "image/png": "[encoded data removed]",
      "text/plain": [
       "<matplotlib.figure.Figure at 0x7fa29f5071d0>"
      ]
     },
     "metadata": {},
     "output_type": "display_data"
    }
   ],
   "source": [
    "plt.figure(dpi=100)\n",
    "t = history.epoch\n",
    "\n",
    "plt.subplot(211)\n",
    "plt.plot(t, history.history['loss'], label='loss', color='C0')\n",
    "plt.plot(t, history.history['val_loss'], label='val_loss', color='C1')\n",
    "plt.xlabel('epochs')\n",
    "plt.ylabel('loss')\n",
    "plt.legend(loc=1)\n",
    "\n",
    "plt.subplot(212)\n",
    "plt.plot(t, history.history['acc'], label='acc', color='C2')\n",
    "plt.plot(t, history.history['val_acc'], label='val_acc', color='C3')\n",
    "plt.ylim([0.5, 1])\n",
    "plt.ylabel('acc')\n",
    "plt.xlabel('epochs')\n",
    "plt.legend(loc=1)\n",
    "\n",
    "plt.tight_layout()\n",
    "plt.savefig(root+'/embedding_dropout_LSTM.png')"
   ]
  },
  {
   "cell_type": "code",
   "execution_count": 62,
   "metadata": {},
   "outputs": [
    {
     "name": "stdout",
     "output_type": "stream",
     "text": [
      "5872/5872 [==============================] - 117s 20ms/step\n",
      "test_loss: 0.4917 - test_acc: 0.7738\n"
     ]
    }
   ],
   "source": [
    "test_loss, test_acc = model.evaluate(X_test, y_test)\n",
    "print('test_loss: {:1.4f} - test_acc: {:1.4f}'.format(test_loss, test_acc))"
   ]
  },
  {
   "cell_type": "code",
   "execution_count": null,
   "metadata": {},
   "outputs": [],
   "source": []
  }
 ],
 "metadata": {
  "kernelspec": {
   "display_name": "Python 2",
   "language": "python",
   "name": "python2"
  },
  "language_info": {
   "codemirror_mode": {
    "name": "ipython",
    "version": 2
   },
   "file_extension": ".py",
   "mimetype": "text/x-python",
   "name": "python",
   "nbconvert_exporter": "python",
   "pygments_lexer": "ipython2",
   "version": "2.7.14"
  }
 },
 "nbformat": 4,
 "nbformat_minor": 2
}
