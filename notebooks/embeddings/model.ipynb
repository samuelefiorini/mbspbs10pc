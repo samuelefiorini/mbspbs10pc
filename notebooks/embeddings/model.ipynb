{
 "cells": [
  {
   "cell_type": "code",
   "execution_count": 75,
   "metadata": {},
   "outputs": [],
   "source": [
    "%matplotlib inline\n",
    "import pandas as pd\n",
    "import numpy as np\n",
    "import joblib as jl\n",
    "import matplotlib.pyplot as plt\n",
    "import warnings\n",
    "warnings.filterwarnings('ignore')\n",
    "\n",
    "from sklearn.model_selection import StratifiedShuffleSplit\n",
    "from sklearn import metrics\n",
    "\n",
    "from keras.preprocessing.text import Tokenizer\n",
    "from keras.preprocessing.sequence import pad_sequences\n",
    "\n",
    "root = 'dl'"
   ]
  },
  {
   "cell_type": "markdown",
   "metadata": {},
   "source": [
    "# Load raw data"
   ]
  },
  {
   "cell_type": "code",
   "execution_count": 76,
   "metadata": {},
   "outputs": [
    {
     "data": {
      "text/html": [
       "<div>\n",
       "<style scoped>\n",
       "    .dataframe tbody tr th:only-of-type {\n",
       "        vertical-align: middle;\n",
       "    }\n",
       "\n",
       "    .dataframe tbody tr th {\n",
       "        vertical-align: top;\n",
       "    }\n",
       "\n",
       "    .dataframe thead th {\n",
       "        text-align: right;\n",
       "    }\n",
       "</style>\n",
       "<table border=\"1\" class=\"dataframe\">\n",
       "  <thead>\n",
       "    <tr style=\"text-align: right;\">\n",
       "      <th></th>\n",
       "      <th>CLASS</th>\n",
       "    </tr>\n",
       "    <tr>\n",
       "      <th>PIN</th>\n",
       "      <th></th>\n",
       "    </tr>\n",
       "  </thead>\n",
       "  <tbody>\n",
       "    <tr>\n",
       "      <th>568483</th>\n",
       "      <td>1</td>\n",
       "    </tr>\n",
       "    <tr>\n",
       "      <th>923748</th>\n",
       "      <td>0</td>\n",
       "    </tr>\n",
       "    <tr>\n",
       "      <th>2035328</th>\n",
       "      <td>0</td>\n",
       "    </tr>\n",
       "    <tr>\n",
       "      <th>2239386</th>\n",
       "      <td>1</td>\n",
       "    </tr>\n",
       "    <tr>\n",
       "      <th>2244533</th>\n",
       "      <td>1</td>\n",
       "    </tr>\n",
       "  </tbody>\n",
       "</table>\n",
       "</div>"
      ],
      "text/plain": [
       "         CLASS\n",
       "PIN           \n",
       "568483       1\n",
       "923748       0\n",
       "2035328      0\n",
       "2239386      1\n",
       "2244533      1"
      ]
     },
     "execution_count": 76,
     "metadata": {},
     "output_type": "execute_result"
    }
   ],
   "source": [
    "labels = pd.read_csv('../../tmp/1_METONLY_vs_METX/matched_CEM_table.csv', header=0).rename({'Unnamed: 0': 'PIN'}, axis=1)[['PIN', 'CLASS']].set_index('PIN')\n",
    "labels.head()"
   ]
  },
  {
   "cell_type": "code",
   "execution_count": 77,
   "metadata": {},
   "outputs": [
    {
     "data": {
      "text/html": [
       "<div>\n",
       "<style scoped>\n",
       "    .dataframe tbody tr th:only-of-type {\n",
       "        vertical-align: middle;\n",
       "    }\n",
       "\n",
       "    .dataframe tbody tr th {\n",
       "        vertical-align: top;\n",
       "    }\n",
       "\n",
       "    .dataframe thead th {\n",
       "        text-align: right;\n",
       "    }\n",
       "</style>\n",
       "<table border=\"1\" class=\"dataframe\">\n",
       "  <thead>\n",
       "    <tr style=\"text-align: right;\">\n",
       "      <th></th>\n",
       "      <th>Seq</th>\n",
       "      <th>Class</th>\n",
       "    </tr>\n",
       "    <tr>\n",
       "      <th>PIN</th>\n",
       "      <th></th>\n",
       "      <th></th>\n",
       "    </tr>\n",
       "  </thead>\n",
       "  <tbody>\n",
       "    <tr>\n",
       "      <th>568483</th>\n",
       "      <td>10990 0 23 16 725 0 10990 0 10990 0 10990 0 10...</td>\n",
       "      <td>1</td>\n",
       "    </tr>\n",
       "    <tr>\n",
       "      <th>923748</th>\n",
       "      <td>66653 0 65070 0 66515 5 10962 1 105 1 56807 42...</td>\n",
       "      <td>0</td>\n",
       "    </tr>\n",
       "    <tr>\n",
       "      <th>2035328</th>\n",
       "      <td>66536 0 74995 0 66512 0 66551 0 66608 0 66716 ...</td>\n",
       "      <td>0</td>\n",
       "    </tr>\n",
       "    <tr>\n",
       "      <th>2239386</th>\n",
       "      <td>10991 0 23 105 73928 0 66560 0 66515 0 66551 0...</td>\n",
       "      <td>1</td>\n",
       "    </tr>\n",
       "    <tr>\n",
       "      <th>2244533</th>\n",
       "      <td>10990 0 23 74 23 0 10990 1 73928 0 66500 0 665...</td>\n",
       "      <td>1</td>\n",
       "    </tr>\n",
       "  </tbody>\n",
       "</table>\n",
       "</div>"
      ],
      "text/plain": [
       "                                                       Seq  Class\n",
       "PIN                                                              \n",
       "568483   10990 0 23 16 725 0 10990 0 10990 0 10990 0 10...      1\n",
       "923748   66653 0 65070 0 66515 5 10962 1 105 1 56807 42...      0\n",
       "2035328  66536 0 74995 0 66512 0 66551 0 66608 0 66716 ...      0\n",
       "2239386  10991 0 23 105 73928 0 66560 0 66515 0 66551 0...      1\n",
       "2244533  10990 0 23 74 23 0 10990 1 73928 0 66500 0 665...      1"
      ]
     },
     "execution_count": 77,
     "metadata": {},
     "output_type": "execute_result"
    }
   ],
   "source": [
    "data = jl.load(open('../../tmp/item_days_raw_data_.pkl', 'rb')).loc[labels.index, 'seq']\n",
    "df = pd.DataFrame(columns=['Seq', 'Class'], index=data.index)\n",
    "df.loc[:, 'Seq'] = data\n",
    "df.loc[:, 'Class'] = labels['CLASS']\n",
    "df.head()"
   ]
  },
  {
   "cell_type": "markdown",
   "metadata": {},
   "source": [
    "# Separate MBS items and timepoints"
   ]
  },
  {
   "cell_type": "code",
   "execution_count": 78,
   "metadata": {},
   "outputs": [],
   "source": [
    "for idx in df.index:\n",
    "    _tmp = df.loc[idx, 'Seq'].split(' ')\n",
    "    df.loc[idx, 'mbs_seq'] = ' '.join(_tmp[::2])\n",
    "    df.loc[idx, 'times_seq'] = ' '.join(_tmp[1::2])"
   ]
  },
  {
   "cell_type": "code",
   "execution_count": 79,
   "metadata": {},
   "outputs": [
    {
     "data": {
      "text/html": [
       "<div>\n",
       "<style scoped>\n",
       "    .dataframe tbody tr th:only-of-type {\n",
       "        vertical-align: middle;\n",
       "    }\n",
       "\n",
       "    .dataframe tbody tr th {\n",
       "        vertical-align: top;\n",
       "    }\n",
       "\n",
       "    .dataframe thead th {\n",
       "        text-align: right;\n",
       "    }\n",
       "</style>\n",
       "<table border=\"1\" class=\"dataframe\">\n",
       "  <thead>\n",
       "    <tr style=\"text-align: right;\">\n",
       "      <th></th>\n",
       "      <th>Seq</th>\n",
       "      <th>Class</th>\n",
       "      <th>mbs_seq</th>\n",
       "      <th>times_seq</th>\n",
       "    </tr>\n",
       "    <tr>\n",
       "      <th>PIN</th>\n",
       "      <th></th>\n",
       "      <th></th>\n",
       "      <th></th>\n",
       "      <th></th>\n",
       "    </tr>\n",
       "  </thead>\n",
       "  <tbody>\n",
       "    <tr>\n",
       "      <th>568483</th>\n",
       "      <td>10990 0 23 16 725 0 10990 0 10990 0 10990 0 10...</td>\n",
       "      <td>1</td>\n",
       "      <td>10990 23 725 10990 10990 10990 10993 23 85311 ...</td>\n",
       "      <td>0 16 0 0 0 0 0 15 0 0 13 0 0 0 22 0 0 0 0 0 0 ...</td>\n",
       "    </tr>\n",
       "    <tr>\n",
       "      <th>923748</th>\n",
       "      <td>66653 0 65070 0 66515 5 10962 1 105 1 56807 42...</td>\n",
       "      <td>0</td>\n",
       "      <td>66653 65070 66515 10962 105 56807 10990 23 109...</td>\n",
       "      <td>0 0 5 1 1 42 0 26 35 0 0 0 9 0 0 0 5 0 0 0 21 ...</td>\n",
       "    </tr>\n",
       "    <tr>\n",
       "      <th>2035328</th>\n",
       "      <td>66536 0 74995 0 66512 0 66551 0 66608 0 66716 ...</td>\n",
       "      <td>0</td>\n",
       "      <td>66536 74995 66512 66551 66608 66716 66560 7392...</td>\n",
       "      <td>0 0 0 0 0 0 0 9 1 10 9 138 1 3 31 24 63 0 0 0 ...</td>\n",
       "    </tr>\n",
       "    <tr>\n",
       "      <th>2239386</th>\n",
       "      <td>10991 0 23 105 73928 0 66560 0 66515 0 66551 0...</td>\n",
       "      <td>1</td>\n",
       "      <td>10991 23 73928 66560 66515 66551 66536 2517 10...</td>\n",
       "      <td>0 105 0 0 0 0 4 2 27 1 1 7 0 18 132 0 0 0 1 0 ...</td>\n",
       "    </tr>\n",
       "    <tr>\n",
       "      <th>2244533</th>\n",
       "      <td>10990 0 23 74 23 0 10990 1 73928 0 66500 0 665...</td>\n",
       "      <td>1</td>\n",
       "      <td>10990 23 23 10990 73928 66500 66560 66551 23 1...</td>\n",
       "      <td>0 74 0 1 0 0 0 2 0 87 0 1 0 0 0 0 0 2 0 6 0 8 ...</td>\n",
       "    </tr>\n",
       "  </tbody>\n",
       "</table>\n",
       "</div>"
      ],
      "text/plain": [
       "                                                       Seq  Class  \\\n",
       "PIN                                                                 \n",
       "568483   10990 0 23 16 725 0 10990 0 10990 0 10990 0 10...      1   \n",
       "923748   66653 0 65070 0 66515 5 10962 1 105 1 56807 42...      0   \n",
       "2035328  66536 0 74995 0 66512 0 66551 0 66608 0 66716 ...      0   \n",
       "2239386  10991 0 23 105 73928 0 66560 0 66515 0 66551 0...      1   \n",
       "2244533  10990 0 23 74 23 0 10990 1 73928 0 66500 0 665...      1   \n",
       "\n",
       "                                                   mbs_seq  \\\n",
       "PIN                                                          \n",
       "568483   10990 23 725 10990 10990 10990 10993 23 85311 ...   \n",
       "923748   66653 65070 66515 10962 105 56807 10990 23 109...   \n",
       "2035328  66536 74995 66512 66551 66608 66716 66560 7392...   \n",
       "2239386  10991 23 73928 66560 66515 66551 66536 2517 10...   \n",
       "2244533  10990 23 23 10990 73928 66500 66560 66551 23 1...   \n",
       "\n",
       "                                                 times_seq  \n",
       "PIN                                                         \n",
       "568483   0 16 0 0 0 0 0 15 0 0 13 0 0 0 22 0 0 0 0 0 0 ...  \n",
       "923748   0 0 5 1 1 42 0 26 35 0 0 0 9 0 0 0 5 0 0 0 21 ...  \n",
       "2035328  0 0 0 0 0 0 0 9 1 10 9 138 1 3 31 24 63 0 0 0 ...  \n",
       "2239386  0 105 0 0 0 0 4 2 27 1 1 7 0 18 132 0 0 0 1 0 ...  \n",
       "2244533  0 74 0 1 0 0 0 2 0 87 0 1 0 0 0 0 0 2 0 6 0 8 ...  "
      ]
     },
     "execution_count": 79,
     "metadata": {},
     "output_type": "execute_result"
    }
   ],
   "source": [
    "df.head()"
   ]
  },
  {
   "cell_type": "markdown",
   "metadata": {},
   "source": [
    "# Seq2Tokens"
   ]
  },
  {
   "cell_type": "code",
   "execution_count": 80,
   "metadata": {},
   "outputs": [
    {
     "name": "stdout",
     "output_type": "stream",
     "text": [
      "2773\n",
      "(11744, 445)\n",
      "(11744, 445)\n"
     ]
    }
   ],
   "source": [
    "# Define tokenizer object\n",
    "tokenizer = Tokenizer(char_level=False, lower=False, split=' ')\n",
    "\n",
    "# Fit on corpus and extract tokenized sequences\n",
    "tokenizer.fit_on_texts(df['mbs_seq'])\n",
    "n_feat = len(tokenizer.word_index.keys())\n",
    "print(n_feat)\n",
    "seq = tokenizer.texts_to_sequences(df['mbs_seq'])\n",
    "\n",
    "# Pad tokenized sequences\n",
    "lengths = [len(x) for x in seq]\n",
    "maxlen = int(np.percentile(lengths, 95))\n",
    "p_seq = pad_sequences(seq, maxlen=maxlen)\n",
    "print(p_seq.shape)\n",
    "\n",
    "# Pad timestamps\n",
    "t_seq = [map(int, df.loc[idx, 'times_seq'].split(' ')) for idx in df.index]\n",
    "p_t_seq = pad_sequences(t_seq, maxlen=maxlen)\n",
    "print(p_t_seq.shape)"
   ]
  },
  {
   "cell_type": "markdown",
   "metadata": {},
   "source": [
    "# Training - Validation - Test split"
   ]
  },
  {
   "cell_type": "code",
   "execution_count": 81,
   "metadata": {},
   "outputs": [
    {
     "name": "stdout",
     "output_type": "stream",
     "text": [
      "7046 learn / 4698 test\n",
      "6341 training / 705 validation\n"
     ]
    }
   ],
   "source": [
    "# Full dataset\n",
    "y = df['Class'].ravel()\n",
    "X = p_seq\n",
    "X_t = p_t_seq\n",
    "\n",
    "# Learn / Test\n",
    "sss = StratifiedShuffleSplit(n_splits=1, test_size=0.4, random_state=0)\n",
    "learn_idx, test_idx = next(sss.split(X, y))\n",
    "\n",
    "X_learn, y_learn = X[learn_idx, :], y[learn_idx]\n",
    "X_test, y_test = X[test_idx, :], y[test_idx]\n",
    "\n",
    "X_learn_t = X_t[learn_idx, :]\n",
    "X_test_t = X_t[test_idx, :]\n",
    "\n",
    "print('{} learn / {} test'.format(len(y_learn), len(y_test)))\n",
    "\n",
    "# Training / Validation\n",
    "sss = StratifiedShuffleSplit(n_splits=1, test_size=0.1, random_state=1)\n",
    "train_idx, valid_idx = next(sss.split(X_learn, y_learn))\n",
    "\n",
    "X_train, y_train = X_learn[train_idx, :], y_learn[train_idx]\n",
    "X_valid, y_valid = X_learn[valid_idx, :], y_learn[valid_idx]\n",
    "\n",
    "X_train_t = X_learn_t[train_idx, :]\n",
    "X_valid_t = X_learn_t[valid_idx, :]\n",
    "\n",
    "print('{} training / {} validation'.format(len(y_train), len(y_valid)))"
   ]
  },
  {
   "cell_type": "markdown",
   "metadata": {},
   "source": [
    "# Init embedding matrix"
   ]
  },
  {
   "cell_type": "code",
   "execution_count": 82,
   "metadata": {},
   "outputs": [],
   "source": [
    "D = 300\n",
    "embedding = pd.read_csv('../../tmp/embedding.{}d.csv'.format(D), header=0, index_col=0)\n",
    "embedding_matrix = embedding.values"
   ]
  },
  {
   "cell_type": "markdown",
   "metadata": {},
   "source": [
    "# Model"
   ]
  },
  {
   "cell_type": "code",
   "execution_count": 113,
   "metadata": {},
   "outputs": [],
   "source": [
    "from keras.models import Model\n",
    "from keras.layers import Input, Dense, Lambda\n",
    "from keras.layers import Embedding\n",
    "from keras.layers import CuDNNLSTM, LSTM\n",
    "from keras.layers import Dropout\n",
    "from keras.layers import Multiply, Add, RepeatVector\n",
    "from keras.layers import Permute\n",
    "from keras.layers import Bidirectional\n",
    "from keras.layers import GlobalAveragePooling1D\n",
    "\n",
    "from keras.regularizers import l2\n",
    "\n",
    "from keras import backend as K\n",
    "from keras import optimizers as opt"
   ]
  },
  {
   "cell_type": "code",
   "execution_count": 146,
   "metadata": {},
   "outputs": [],
   "source": [
    "def build_model(mbs_input_shape, timestamp_input_shape, recurrent_units=32,\n",
    "                dense_units=128, bidirectional=False, single_attention=False):\n",
    "    # Channel 1: MBS\n",
    "    mbs_input = Input(shape=mbs_input_shape, name='mbs_input')\n",
    "    x1 = Embedding(n_feat, D, name='mbs_embedding')(mbs_input)\n",
    "    if bidirectional:\n",
    "        x1 = Bidirectional(CuDNNLSTM(recurrent_units, return_sequences=True), name='mbs_lstm')(x1)\n",
    "    else:\n",
    "        x1 = CuDNNLSTM(recurrent_units, return_sequences=True, name='mbs_lstm')(x1)\n",
    "    \n",
    "    # -- Timestamp-guided attention -- #\n",
    "    # Channel 2: Timestamps\n",
    "    timestamp_input = Input(shape=timestamp_input_shape, name='timestamp_input')\n",
    "    if bidirectional:\n",
    "        x2 = Bidirectional(CuDNNLSTM(recurrent_units, return_sequences=True), name='timestamp_lstm')(timestamp_input)\n",
    "    else:\n",
    "        x2 = CuDNNLSTM(recurrent_units, return_sequences=True, name='timestamp_lstm')(timestamp_input)\n",
    "    x2 = Permute((2, 1), name='transpose_timestamp')(x2)\n",
    "    x2 = Dense(mbs_input_shape[0], activation='linear', name='timestamp_dense')(x2)\n",
    "    \n",
    "    # Attention probability distribution\n",
    "    alpha = Permute((2, 1), name='hidden_to_time_permute')(x1)\n",
    "    alpha = Dense(mbs_input_shape[0], activation='linear', name='alpha_dense')(alpha)\n",
    "    alpha = Multiply(name='timestamp_induced_attention')([alpha, x2])\n",
    "    \n",
    "    alpha = Dense(mbs_input_shape[0], activation='tanh', name='attention_tanh')(alpha)\n",
    "    alpha = Dense(mbs_input_shape[0], activation='softmax', name='attention_matrix')(alpha)\n",
    "    if single_attention:\n",
    "        alpha = Lambda(lambda x: K.mean(x, axis=1), name='attention_probabilities')(alpha)\n",
    "        if bidirectional:\n",
    "            alpha = RepeatVector(2*recurrent_units)(alpha)\n",
    "        else:\n",
    "            alpha = RepeatVector(recurrent_units)(alpha)\n",
    "    alpha = Permute((2, 1), name='time_to_hidden_permute')(alpha)\n",
    "    # -- Timestamp-guided attention -- #\n",
    "    \n",
    "    # Combine channels to get context\n",
    "    context = Multiply(name='context_creation')([alpha, x1])\n",
    "     \n",
    "    # Output\n",
    "    x = GlobalAveragePooling1D(name='pooling')(context)\n",
    "    x = Dropout(0.5)(x)\n",
    "    x = Dense(dense_units, activation='relu')(x)\n",
    "    x = Dropout(0.5)(x)\n",
    "    output = Dense(1, activation='sigmoid', activity_regularizer=l2(0.002))(x)\n",
    "    \n",
    "    # Define the model\n",
    "    model = Model(inputs=[mbs_input, timestamp_input],\n",
    "                  outputs=[output])\n",
    "    return model\n",
    "\n",
    "\n",
    "model = build_model(mbs_input_shape=(maxlen,),\n",
    "                    timestamp_input_shape=(maxlen, 1),\n",
    "                    recurrent_units=64,\n",
    "                    dense_units=128,\n",
    "                    bidirectional=True,\n",
    "                    single_attention=False)\n",
    "\n",
    "model.compile(optimizer=opt.RMSprop(lr=0.001),\n",
    "              loss='binary_crossentropy',\n",
    "              metrics=['acc'])\n"
   ]
  },
  {
   "cell_type": "code",
   "execution_count": 147,
   "metadata": {},
   "outputs": [],
   "source": [
    "model.get_layer('mbs_embedding').set_weights([embedding_matrix])\n",
    "model.get_layer('mbs_embedding').trainable = True"
   ]
  },
  {
   "cell_type": "code",
   "execution_count": 148,
   "metadata": {},
   "outputs": [
    {
     "name": "stdout",
     "output_type": "stream",
     "text": [
      "__________________________________________________________________________________________________\n",
      "Layer (type)                    Output Shape         Param #     Connected to                     \n",
      "==================================================================================================\n",
      "mbs_input (InputLayer)          (None, 445)          0                                            \n",
      "__________________________________________________________________________________________________\n",
      "mbs_embedding (Embedding)       (None, 445, 300)     831900      mbs_input[0][0]                  \n",
      "__________________________________________________________________________________________________\n",
      "timestamp_input (InputLayer)    (None, 445, 1)       0                                            \n",
      "__________________________________________________________________________________________________\n",
      "mbs_lstm (Bidirectional)        (None, 445, 128)     187392      mbs_embedding[0][0]              \n",
      "__________________________________________________________________________________________________\n",
      "timestamp_lstm (Bidirectional)  (None, 445, 128)     34304       timestamp_input[0][0]            \n",
      "__________________________________________________________________________________________________\n",
      "hidden_to_time_permute (Permute (None, 128, 445)     0           mbs_lstm[0][0]                   \n",
      "__________________________________________________________________________________________________\n",
      "transpose_timestamp (Permute)   (None, 128, 445)     0           timestamp_lstm[0][0]             \n",
      "__________________________________________________________________________________________________\n",
      "alpha_dense (Dense)             (None, 128, 445)     198470      hidden_to_time_permute[0][0]     \n",
      "__________________________________________________________________________________________________\n",
      "timestamp_dense (Dense)         (None, 128, 445)     198470      transpose_timestamp[0][0]        \n",
      "__________________________________________________________________________________________________\n",
      "timestamp_induced_attention (Mu (None, 128, 445)     0           alpha_dense[0][0]                \n",
      "                                                                 timestamp_dense[0][0]            \n",
      "__________________________________________________________________________________________________\n",
      "attention_tanh (Dense)          (None, 128, 445)     198470      timestamp_induced_attention[0][0]\n",
      "__________________________________________________________________________________________________\n",
      "attention_matrix (Dense)        (None, 128, 445)     198470      attention_tanh[0][0]             \n",
      "__________________________________________________________________________________________________\n",
      "time_to_hidden_permute (Permute (None, 445, 128)     0           attention_matrix[0][0]           \n",
      "__________________________________________________________________________________________________\n",
      "context_creation (Multiply)     (None, 445, 128)     0           time_to_hidden_permute[0][0]     \n",
      "                                                                 mbs_lstm[0][0]                   \n",
      "__________________________________________________________________________________________________\n",
      "pooling (GlobalAveragePooling1D (None, 128)          0           context_creation[0][0]           \n",
      "__________________________________________________________________________________________________\n",
      "dropout_21 (Dropout)            (None, 128)          0           pooling[0][0]                    \n",
      "__________________________________________________________________________________________________\n",
      "dense_21 (Dense)                (None, 128)          16512       dropout_21[0][0]                 \n",
      "__________________________________________________________________________________________________\n",
      "dropout_22 (Dropout)            (None, 128)          0           dense_21[0][0]                   \n",
      "__________________________________________________________________________________________________\n",
      "dense_22 (Dense)                (None, 1)            129         dropout_22[0][0]                 \n",
      "==================================================================================================\n",
      "Total params: 1,864,117\n",
      "Trainable params: 1,864,117\n",
      "Non-trainable params: 0\n",
      "__________________________________________________________________________________________________\n"
     ]
    }
   ],
   "source": [
    "model.summary()"
   ]
  },
  {
   "cell_type": "code",
   "execution_count": 149,
   "metadata": {},
   "outputs": [
    {
     "data": {
      "image/svg+xml": [
       "<svg height=\"1067pt\" viewBox=\"0.00 0.00 725.50 1067.00\" width=\"726pt\" xmlns=\"http://www.w3.org/2000/svg\" xmlns:xlink=\"http://www.w3.org/1999/xlink\">\n",
       "<g class=\"graph\" id=\"graph0\" transform=\"scale(1 1) rotate(0) translate(4 1063)\">\n",
       "<title>G</title>\n",
       "<polygon fill=\"white\" points=\"-4,4 -4,-1063 721.5,-1063 721.5,4 -4,4\" stroke=\"none\"/>\n",
       "<!-- 140641938844624 -->\n",
       "<g class=\"node\" id=\"node1\"><title>140641938844624</title>\n",
       "<polygon fill=\"none\" points=\"95,-1022.5 95,-1058.5 237,-1058.5 237,-1022.5 95,-1022.5\" stroke=\"black\"/>\n",
       "<text font-family=\"Times,serif\" font-size=\"14.00\" text-anchor=\"middle\" x=\"166\" y=\"-1036.8\">mbs_input: InputLayer</text>\n",
       "</g>\n",
       "<!-- 140641991346704 -->\n",
       "<g class=\"node\" id=\"node2\"><title>140641991346704</title>\n",
       "<polygon fill=\"none\" points=\"77,-949.5 77,-985.5 255,-985.5 255,-949.5 77,-949.5\" stroke=\"black\"/>\n",
       "<text font-family=\"Times,serif\" font-size=\"14.00\" text-anchor=\"middle\" x=\"166\" y=\"-963.8\">mbs_embedding: Embedding</text>\n",
       "</g>\n",
       "<!-- 140641938844624&#45;&gt;140641991346704 -->\n",
       "<g class=\"edge\" id=\"edge1\"><title>140641938844624-&gt;140641991346704</title>\n",
       "<path d=\"M166,-1022.31C166,-1014.29 166,-1004.55 166,-995.569\" fill=\"none\" stroke=\"black\"/>\n",
       "<polygon fill=\"black\" points=\"169.5,-995.529 166,-985.529 162.5,-995.529 169.5,-995.529\" stroke=\"black\"/>\n",
       "</g>\n",
       "<!-- 140641991345168 -->\n",
       "<g class=\"node\" id=\"node4\"><title>140641991345168</title>\n",
       "<polygon fill=\"none\" points=\"0,-876.5 0,-912.5 332,-912.5 332,-876.5 0,-876.5\" stroke=\"black\"/>\n",
       "<text font-family=\"Times,serif\" font-size=\"14.00\" text-anchor=\"middle\" x=\"166\" y=\"-890.8\">mbs_lstm(cu_dnnlstm_21): Bidirectional(CuDNNLSTM)</text>\n",
       "</g>\n",
       "<!-- 140641991346704&#45;&gt;140641991345168 -->\n",
       "<g class=\"edge\" id=\"edge2\"><title>140641991346704-&gt;140641991345168</title>\n",
       "<path d=\"M166,-949.313C166,-941.289 166,-931.547 166,-922.569\" fill=\"none\" stroke=\"black\"/>\n",
       "<polygon fill=\"black\" points=\"169.5,-922.529 166,-912.529 162.5,-922.529 169.5,-922.529\" stroke=\"black\"/>\n",
       "</g>\n",
       "<!-- 140641938883472 -->\n",
       "<g class=\"node\" id=\"node3\"><title>140641938883472</title>\n",
       "<polygon fill=\"none\" points=\"446,-949.5 446,-985.5 622,-985.5 622,-949.5 446,-949.5\" stroke=\"black\"/>\n",
       "<text font-family=\"Times,serif\" font-size=\"14.00\" text-anchor=\"middle\" x=\"534\" y=\"-963.8\">timestamp_input: InputLayer</text>\n",
       "</g>\n",
       "<!-- 140642209141712 -->\n",
       "<g class=\"node\" id=\"node5\"><title>140642209141712</title>\n",
       "<polygon fill=\"none\" points=\"350.5,-876.5 350.5,-912.5 717.5,-912.5 717.5,-876.5 350.5,-876.5\" stroke=\"black\"/>\n",
       "<text font-family=\"Times,serif\" font-size=\"14.00\" text-anchor=\"middle\" x=\"534\" y=\"-890.8\">timestamp_lstm(cu_dnnlstm_22): Bidirectional(CuDNNLSTM)</text>\n",
       "</g>\n",
       "<!-- 140641938883472&#45;&gt;140642209141712 -->\n",
       "<g class=\"edge\" id=\"edge3\"><title>140641938883472-&gt;140642209141712</title>\n",
       "<path d=\"M534,-949.313C534,-941.289 534,-931.547 534,-922.569\" fill=\"none\" stroke=\"black\"/>\n",
       "<polygon fill=\"black\" points=\"537.5,-922.529 534,-912.529 530.5,-922.529 537.5,-922.529\" stroke=\"black\"/>\n",
       "</g>\n",
       "<!-- 140641934151248 -->\n",
       "<g class=\"node\" id=\"node6\"><title>140641934151248</title>\n",
       "<polygon fill=\"none\" points=\"200.5,-803.5 200.5,-839.5 407.5,-839.5 407.5,-803.5 200.5,-803.5\" stroke=\"black\"/>\n",
       "<text font-family=\"Times,serif\" font-size=\"14.00\" text-anchor=\"middle\" x=\"304\" y=\"-817.8\">hidden_to_time_permute: Permute</text>\n",
       "</g>\n",
       "<!-- 140641991345168&#45;&gt;140641934151248 -->\n",
       "<g class=\"edge\" id=\"edge4\"><title>140641991345168-&gt;140641934151248</title>\n",
       "<path d=\"M199.054,-876.494C217.863,-866.817 241.615,-854.597 261.764,-844.23\" fill=\"none\" stroke=\"black\"/>\n",
       "<polygon fill=\"black\" points=\"263.446,-847.301 270.737,-839.614 260.244,-841.076 263.446,-847.301\" stroke=\"black\"/>\n",
       "</g>\n",
       "<!-- 140641623200592 -->\n",
       "<g class=\"node\" id=\"node14\"><title>140641623200592</title>\n",
       "<polygon fill=\"none\" points=\"152,-365.5 152,-401.5 314,-401.5 314,-365.5 152,-365.5\" stroke=\"black\"/>\n",
       "<text font-family=\"Times,serif\" font-size=\"14.00\" text-anchor=\"middle\" x=\"233\" y=\"-379.8\">context_creation: Multiply</text>\n",
       "</g>\n",
       "<!-- 140641991345168&#45;&gt;140641623200592 -->\n",
       "<g class=\"edge\" id=\"edge14\"><title>140641991345168-&gt;140641623200592</title>\n",
       "<path d=\"M166,-876.211C166,-849.176 166,-795.25 166,-749.5 166,-749.5 166,-749.5 166,-528.5 166,-487.209 168.334,-474.831 187,-438 192.257,-427.627 199.942,-417.59 207.53,-409.066\" fill=\"none\" stroke=\"black\"/>\n",
       "<polygon fill=\"black\" points=\"210.14,-411.398 214.399,-401.697 205.02,-406.625 210.14,-411.398\" stroke=\"black\"/>\n",
       "</g>\n",
       "<!-- 140641934657936 -->\n",
       "<g class=\"node\" id=\"node7\"><title>140641934657936</title>\n",
       "<polygon fill=\"none\" points=\"433.5,-803.5 433.5,-839.5 618.5,-839.5 618.5,-803.5 433.5,-803.5\" stroke=\"black\"/>\n",
       "<text font-family=\"Times,serif\" font-size=\"14.00\" text-anchor=\"middle\" x=\"526\" y=\"-817.8\">transpose_timestamp: Permute</text>\n",
       "</g>\n",
       "<!-- 140642209141712&#45;&gt;140641934657936 -->\n",
       "<g class=\"edge\" id=\"edge5\"><title>140642209141712-&gt;140641934657936</title>\n",
       "<path d=\"M532.063,-876.313C531.159,-868.289 530.062,-858.547 529.05,-849.569\" fill=\"none\" stroke=\"black\"/>\n",
       "<polygon fill=\"black\" points=\"532.516,-849.074 527.919,-839.529 525.561,-849.858 532.516,-849.074\" stroke=\"black\"/>\n",
       "</g>\n",
       "<!-- 140641934062928 -->\n",
       "<g class=\"node\" id=\"node8\"><title>140641934062928</title>\n",
       "<polygon fill=\"none\" points=\"244.5,-730.5 244.5,-766.5 369.5,-766.5 369.5,-730.5 244.5,-730.5\" stroke=\"black\"/>\n",
       "<text font-family=\"Times,serif\" font-size=\"14.00\" text-anchor=\"middle\" x=\"307\" y=\"-744.8\">alpha_dense: Dense</text>\n",
       "</g>\n",
       "<!-- 140641934151248&#45;&gt;140641934062928 -->\n",
       "<g class=\"edge\" id=\"edge6\"><title>140641934151248-&gt;140641934062928</title>\n",
       "<path d=\"M304.726,-803.313C305.065,-795.289 305.477,-785.547 305.856,-776.569\" fill=\"none\" stroke=\"black\"/>\n",
       "<polygon fill=\"black\" points=\"309.355,-776.668 306.28,-766.529 302.361,-776.372 309.355,-776.668\" stroke=\"black\"/>\n",
       "</g>\n",
       "<!-- 140641936406864 -->\n",
       "<g class=\"node\" id=\"node9\"><title>140641936406864</title>\n",
       "<polygon fill=\"none\" points=\"419.5,-730.5 419.5,-766.5 572.5,-766.5 572.5,-730.5 419.5,-730.5\" stroke=\"black\"/>\n",
       "<text font-family=\"Times,serif\" font-size=\"14.00\" text-anchor=\"middle\" x=\"496\" y=\"-744.8\">timestamp_dense: Dense</text>\n",
       "</g>\n",
       "<!-- 140641934657936&#45;&gt;140641936406864 -->\n",
       "<g class=\"edge\" id=\"edge7\"><title>140641934657936-&gt;140641936406864</title>\n",
       "<path d=\"M518.738,-803.313C515.274,-795.115 511.052,-785.123 507.191,-775.985\" fill=\"none\" stroke=\"black\"/>\n",
       "<polygon fill=\"black\" points=\"510.312,-774.378 503.195,-766.529 503.863,-777.103 510.312,-774.378\" stroke=\"black\"/>\n",
       "</g>\n",
       "<!-- 140641933729424 -->\n",
       "<g class=\"node\" id=\"node10\"><title>140641933729424</title>\n",
       "<polygon fill=\"none\" points=\"194.5,-657.5 194.5,-693.5 427.5,-693.5 427.5,-657.5 194.5,-657.5\" stroke=\"black\"/>\n",
       "<text font-family=\"Times,serif\" font-size=\"14.00\" text-anchor=\"middle\" x=\"311\" y=\"-671.8\">timestamp_induced_attention: Multiply</text>\n",
       "</g>\n",
       "<!-- 140641934062928&#45;&gt;140641933729424 -->\n",
       "<g class=\"edge\" id=\"edge8\"><title>140641934062928-&gt;140641933729424</title>\n",
       "<path d=\"M307.968,-730.313C308.42,-722.289 308.969,-712.547 309.475,-703.569\" fill=\"none\" stroke=\"black\"/>\n",
       "<polygon fill=\"black\" points=\"312.973,-703.71 310.041,-693.529 305.984,-703.316 312.973,-703.71\" stroke=\"black\"/>\n",
       "</g>\n",
       "<!-- 140641936406864&#45;&gt;140641933729424 -->\n",
       "<g class=\"edge\" id=\"edge9\"><title>140641936406864-&gt;140641933729424</title>\n",
       "<path d=\"M451.688,-730.494C425.679,-720.512 392.618,-707.824 365.081,-697.255\" fill=\"none\" stroke=\"black\"/>\n",
       "<polygon fill=\"black\" points=\"366.182,-693.929 355.592,-693.614 363.674,-700.464 366.182,-693.929\" stroke=\"black\"/>\n",
       "</g>\n",
       "<!-- 140641933728592 -->\n",
       "<g class=\"node\" id=\"node11\"><title>140641933728592</title>\n",
       "<polygon fill=\"none\" points=\"241.5,-584.5 241.5,-620.5 376.5,-620.5 376.5,-584.5 241.5,-584.5\" stroke=\"black\"/>\n",
       "<text font-family=\"Times,serif\" font-size=\"14.00\" text-anchor=\"middle\" x=\"309\" y=\"-598.8\">attention_tanh: Dense</text>\n",
       "</g>\n",
       "<!-- 140641933729424&#45;&gt;140641933728592 -->\n",
       "<g class=\"edge\" id=\"edge10\"><title>140641933729424-&gt;140641933728592</title>\n",
       "<path d=\"M310.516,-657.313C310.29,-649.289 310.015,-639.547 309.763,-630.569\" fill=\"none\" stroke=\"black\"/>\n",
       "<polygon fill=\"black\" points=\"313.26,-630.426 309.48,-620.529 306.263,-630.623 313.26,-630.426\" stroke=\"black\"/>\n",
       "</g>\n",
       "<!-- 140641933818000 -->\n",
       "<g class=\"node\" id=\"node12\"><title>140641933818000</title>\n",
       "<polygon fill=\"none\" points=\"229,-511.5 229,-547.5 377,-547.5 377,-511.5 229,-511.5\" stroke=\"black\"/>\n",
       "<text font-family=\"Times,serif\" font-size=\"14.00\" text-anchor=\"middle\" x=\"303\" y=\"-525.8\">attention_matrix: Dense</text>\n",
       "</g>\n",
       "<!-- 140641933728592&#45;&gt;140641933818000 -->\n",
       "<g class=\"edge\" id=\"edge11\"><title>140641933728592-&gt;140641933818000</title>\n",
       "<path d=\"M307.548,-584.313C306.87,-576.289 306.046,-566.547 305.288,-557.569\" fill=\"none\" stroke=\"black\"/>\n",
       "<polygon fill=\"black\" points=\"308.769,-557.199 304.439,-547.529 301.794,-557.788 308.769,-557.199\" stroke=\"black\"/>\n",
       "</g>\n",
       "<!-- 140641933901200 -->\n",
       "<g class=\"node\" id=\"node13\"><title>140641933901200</title>\n",
       "<polygon fill=\"none\" points=\"196.5,-438.5 196.5,-474.5 403.5,-474.5 403.5,-438.5 196.5,-438.5\" stroke=\"black\"/>\n",
       "<text font-family=\"Times,serif\" font-size=\"14.00\" text-anchor=\"middle\" x=\"300\" y=\"-452.8\">time_to_hidden_permute: Permute</text>\n",
       "</g>\n",
       "<!-- 140641933818000&#45;&gt;140641933901200 -->\n",
       "<g class=\"edge\" id=\"edge12\"><title>140641933818000-&gt;140641933901200</title>\n",
       "<path d=\"M302.274,-511.313C301.935,-503.289 301.523,-493.547 301.144,-484.569\" fill=\"none\" stroke=\"black\"/>\n",
       "<polygon fill=\"black\" points=\"304.639,-484.372 300.72,-474.529 297.645,-484.668 304.639,-484.372\" stroke=\"black\"/>\n",
       "</g>\n",
       "<!-- 140641933901200&#45;&gt;140641623200592 -->\n",
       "<g class=\"edge\" id=\"edge13\"><title>140641933901200-&gt;140641623200592</title>\n",
       "<path d=\"M283.781,-438.313C275.469,-429.505 265.202,-418.625 256.08,-408.958\" fill=\"none\" stroke=\"black\"/>\n",
       "<polygon fill=\"black\" points=\"258.478,-406.4 249.069,-401.529 253.387,-411.204 258.478,-406.4\" stroke=\"black\"/>\n",
       "</g>\n",
       "<!-- 140641622969360 -->\n",
       "<g class=\"node\" id=\"node15\"><title>140641622969360</title>\n",
       "<polygon fill=\"none\" points=\"130,-292.5 130,-328.5 336,-328.5 336,-292.5 130,-292.5\" stroke=\"black\"/>\n",
       "<text font-family=\"Times,serif\" font-size=\"14.00\" text-anchor=\"middle\" x=\"233\" y=\"-306.8\">pooling: GlobalAveragePooling1D</text>\n",
       "</g>\n",
       "<!-- 140641623200592&#45;&gt;140641622969360 -->\n",
       "<g class=\"edge\" id=\"edge15\"><title>140641623200592-&gt;140641622969360</title>\n",
       "<path d=\"M233,-365.313C233,-357.289 233,-347.547 233,-338.569\" fill=\"none\" stroke=\"black\"/>\n",
       "<polygon fill=\"black\" points=\"236.5,-338.529 233,-328.529 229.5,-338.529 236.5,-338.529\" stroke=\"black\"/>\n",
       "</g>\n",
       "<!-- 140641623202320 -->\n",
       "<g class=\"node\" id=\"node16\"><title>140641623202320</title>\n",
       "<polygon fill=\"none\" points=\"167.5,-219.5 167.5,-255.5 298.5,-255.5 298.5,-219.5 167.5,-219.5\" stroke=\"black\"/>\n",
       "<text font-family=\"Times,serif\" font-size=\"14.00\" text-anchor=\"middle\" x=\"233\" y=\"-233.8\">dropout_21: Dropout</text>\n",
       "</g>\n",
       "<!-- 140641622969360&#45;&gt;140641623202320 -->\n",
       "<g class=\"edge\" id=\"edge16\"><title>140641622969360-&gt;140641623202320</title>\n",
       "<path d=\"M233,-292.313C233,-284.289 233,-274.547 233,-265.569\" fill=\"none\" stroke=\"black\"/>\n",
       "<polygon fill=\"black\" points=\"236.5,-265.529 233,-255.529 229.5,-265.529 236.5,-265.529\" stroke=\"black\"/>\n",
       "</g>\n",
       "<!-- 140641622639504 -->\n",
       "<g class=\"node\" id=\"node17\"><title>140641622639504</title>\n",
       "<polygon fill=\"none\" points=\"178.5,-146.5 178.5,-182.5 287.5,-182.5 287.5,-146.5 178.5,-146.5\" stroke=\"black\"/>\n",
       "<text font-family=\"Times,serif\" font-size=\"14.00\" text-anchor=\"middle\" x=\"233\" y=\"-160.8\">dense_21: Dense</text>\n",
       "</g>\n",
       "<!-- 140641623202320&#45;&gt;140641622639504 -->\n",
       "<g class=\"edge\" id=\"edge17\"><title>140641623202320-&gt;140641622639504</title>\n",
       "<path d=\"M233,-219.313C233,-211.289 233,-201.547 233,-192.569\" fill=\"none\" stroke=\"black\"/>\n",
       "<polygon fill=\"black\" points=\"236.5,-192.529 233,-182.529 229.5,-192.529 236.5,-192.529\" stroke=\"black\"/>\n",
       "</g>\n",
       "<!-- 140641622638736 -->\n",
       "<g class=\"node\" id=\"node18\"><title>140641622638736</title>\n",
       "<polygon fill=\"none\" points=\"167.5,-73.5 167.5,-109.5 298.5,-109.5 298.5,-73.5 167.5,-73.5\" stroke=\"black\"/>\n",
       "<text font-family=\"Times,serif\" font-size=\"14.00\" text-anchor=\"middle\" x=\"233\" y=\"-87.8\">dropout_22: Dropout</text>\n",
       "</g>\n",
       "<!-- 140641622639504&#45;&gt;140641622638736 -->\n",
       "<g class=\"edge\" id=\"edge18\"><title>140641622639504-&gt;140641622638736</title>\n",
       "<path d=\"M233,-146.313C233,-138.289 233,-128.547 233,-119.569\" fill=\"none\" stroke=\"black\"/>\n",
       "<polygon fill=\"black\" points=\"236.5,-119.529 233,-109.529 229.5,-119.529 236.5,-119.529\" stroke=\"black\"/>\n",
       "</g>\n",
       "<!-- 140641622642576 -->\n",
       "<g class=\"node\" id=\"node19\"><title>140641622642576</title>\n",
       "<polygon fill=\"none\" points=\"178.5,-0.5 178.5,-36.5 287.5,-36.5 287.5,-0.5 178.5,-0.5\" stroke=\"black\"/>\n",
       "<text font-family=\"Times,serif\" font-size=\"14.00\" text-anchor=\"middle\" x=\"233\" y=\"-14.8\">dense_22: Dense</text>\n",
       "</g>\n",
       "<!-- 140641622638736&#45;&gt;140641622642576 -->\n",
       "<g class=\"edge\" id=\"edge19\"><title>140641622638736-&gt;140641622642576</title>\n",
       "<path d=\"M233,-73.3129C233,-65.2895 233,-55.5475 233,-46.5691\" fill=\"none\" stroke=\"black\"/>\n",
       "<polygon fill=\"black\" points=\"236.5,-46.5288 233,-36.5288 229.5,-46.5289 236.5,-46.5288\" stroke=\"black\"/>\n",
       "</g>\n",
       "</g>\n",
       "</svg>"
      ],
      "text/plain": [
       "<IPython.core.display.SVG object>"
      ]
     },
     "execution_count": 149,
     "metadata": {},
     "output_type": "execute_result"
    }
   ],
   "source": [
    "from IPython.display import SVG\n",
    "from keras.utils.vis_utils import model_to_dot\n",
    "\n",
    "SVG(model_to_dot(model).create(prog='dot', format='svg'))"
   ]
  },
  {
   "cell_type": "code",
   "execution_count": 150,
   "metadata": {},
   "outputs": [
    {
     "name": "stdout",
     "output_type": "stream",
     "text": [
      "Train on 6341 samples, validate on 705 samples\n",
      "Epoch 1/100\n",
      "6341/6341 [==============================] - 22s 3ms/step - loss: 0.7516 - acc: 0.5002 - val_loss: 0.7478 - val_acc: 0.4993\n",
      "Epoch 2/100\n",
      "6341/6341 [==============================] - 20s 3ms/step - loss: 0.7496 - acc: 0.5001 - val_loss: 0.7479 - val_acc: 0.4993\n",
      "Epoch 3/100\n",
      "6341/6341 [==============================] - 20s 3ms/step - loss: 0.7493 - acc: 0.5001 - val_loss: 0.7464 - val_acc: 0.4993\n",
      "Epoch 4/100\n",
      "6341/6341 [==============================] - 20s 3ms/step - loss: 0.7436 - acc: 0.5001 - val_loss: 0.7378 - val_acc: 0.4993\n",
      "Epoch 5/100\n",
      "6341/6341 [==============================] - 20s 3ms/step - loss: 0.7297 - acc: 0.5095 - val_loss: 0.7311 - val_acc: 0.4993\n",
      "Epoch 6/100\n",
      "6341/6341 [==============================] - 20s 3ms/step - loss: 0.7139 - acc: 0.5890 - val_loss: 0.7048 - val_acc: 0.6667\n",
      "Epoch 7/100\n",
      "6341/6341 [==============================] - 20s 3ms/step - loss: 0.6868 - acc: 0.6707 - val_loss: 0.6713 - val_acc: 0.6936\n",
      "Epoch 8/100\n",
      "6341/6341 [==============================] - 20s 3ms/step - loss: 0.6570 - acc: 0.6948 - val_loss: 0.6540 - val_acc: 0.7206\n",
      "Epoch 9/100\n",
      "6341/6341 [==============================] - 20s 3ms/step - loss: 0.6430 - acc: 0.7267 - val_loss: 0.6558 - val_acc: 0.7206\n",
      "Epoch 10/100\n",
      "6341/6341 [==============================] - 20s 3ms/step - loss: 0.6317 - acc: 0.7248 - val_loss: 0.6263 - val_acc: 0.7333\n",
      "Epoch 11/100\n",
      "6341/6341 [==============================] - 20s 3ms/step - loss: 0.6141 - acc: 0.7319 - val_loss: 0.6020 - val_acc: 0.7291\n",
      "Epoch 12/100\n",
      "6341/6341 [==============================] - 20s 3ms/step - loss: 0.5900 - acc: 0.7559 - val_loss: 0.5996 - val_acc: 0.7376\n",
      "Epoch 13/100\n",
      "6341/6341 [==============================] - 20s 3ms/step - loss: 0.5919 - acc: 0.7486 - val_loss: 0.6061 - val_acc: 0.7319\n",
      "Epoch 14/100\n",
      "6341/6341 [==============================] - 20s 3ms/step - loss: 0.5815 - acc: 0.7557 - val_loss: 0.6149 - val_acc: 0.7277\n",
      "Epoch 15/100\n",
      "6341/6341 [==============================] - 20s 3ms/step - loss: 0.5673 - acc: 0.7675 - val_loss: 0.5794 - val_acc: 0.7603\n",
      "Epoch 16/100\n",
      "6341/6341 [==============================] - 20s 3ms/step - loss: 0.5490 - acc: 0.7844 - val_loss: 0.5651 - val_acc: 0.7617\n",
      "Epoch 17/100\n",
      "6341/6341 [==============================] - 20s 3ms/step - loss: 0.5410 - acc: 0.7849 - val_loss: 0.5726 - val_acc: 0.7603\n",
      "Epoch 18/100\n",
      "6341/6341 [==============================] - 20s 3ms/step - loss: 0.5241 - acc: 0.7991 - val_loss: 0.5694 - val_acc: 0.7589\n",
      "Epoch 19/100\n",
      "6341/6341 [==============================] - 20s 3ms/step - loss: 0.5287 - acc: 0.7989 - val_loss: 0.5743 - val_acc: 0.7546\n",
      "Epoch 20/100\n",
      "6341/6341 [==============================] - 20s 3ms/step - loss: 0.5194 - acc: 0.7989 - val_loss: 0.5562 - val_acc: 0.7603\n",
      "Epoch 21/100\n",
      "6341/6341 [==============================] - 20s 3ms/step - loss: 0.5083 - acc: 0.8029 - val_loss: 0.5540 - val_acc: 0.7660\n",
      "Epoch 22/100\n",
      "6341/6341 [==============================] - 20s 3ms/step - loss: 0.5004 - acc: 0.8158 - val_loss: 0.5621 - val_acc: 0.7532\n",
      "Epoch 23/100\n",
      "6341/6341 [==============================] - 20s 3ms/step - loss: 0.4936 - acc: 0.8131 - val_loss: 0.6035 - val_acc: 0.7518\n",
      "Epoch 24/100\n",
      "6341/6341 [==============================] - 20s 3ms/step - loss: 0.4833 - acc: 0.8237 - val_loss: 0.5595 - val_acc: 0.7645\n",
      "Epoch 25/100\n",
      "6341/6341 [==============================] - 20s 3ms/step - loss: 0.4708 - acc: 0.8317 - val_loss: 0.5766 - val_acc: 0.7660\n",
      "Epoch 26/100\n",
      "6341/6341 [==============================] - 20s 3ms/step - loss: 0.4703 - acc: 0.8313 - val_loss: 0.5599 - val_acc: 0.7702\n",
      "Epoch 27/100\n",
      "6341/6341 [==============================] - 20s 3ms/step - loss: 0.4501 - acc: 0.8473 - val_loss: 0.5562 - val_acc: 0.7589\n",
      "Epoch 28/100\n",
      "6341/6341 [==============================] - 20s 3ms/step - loss: 0.4452 - acc: 0.8502 - val_loss: 0.5971 - val_acc: 0.7574\n",
      "Epoch 29/100\n",
      "6341/6341 [==============================] - 20s 3ms/step - loss: 0.4447 - acc: 0.8513 - val_loss: 0.6075 - val_acc: 0.7461\n",
      "\n",
      "Epoch 00029: ReduceLROnPlateau reducing learning rate to 0.000500000023749.\n",
      "Epoch 30/100\n",
      "6341/6341 [==============================] - 20s 3ms/step - loss: 0.4264 - acc: 0.8609 - val_loss: 0.5581 - val_acc: 0.7688\n",
      "Epoch 31/100\n",
      "6341/6341 [==============================] - 20s 3ms/step - loss: 0.4057 - acc: 0.8697 - val_loss: 0.5763 - val_acc: 0.7645\n",
      "Epoch 32/100\n",
      "6341/6341 [==============================] - 20s 3ms/step - loss: 0.4036 - acc: 0.8732 - val_loss: 0.5778 - val_acc: 0.7858\n",
      "Epoch 33/100\n",
      "6341/6341 [==============================] - 20s 3ms/step - loss: 0.3944 - acc: 0.8760 - val_loss: 0.5693 - val_acc: 0.7787\n",
      "Epoch 34/100\n",
      "6341/6341 [==============================] - 20s 3ms/step - loss: 0.3843 - acc: 0.8839 - val_loss: 0.5806 - val_acc: 0.7674\n",
      "Epoch 35/100\n",
      "6341/6341 [==============================] - 20s 3ms/step - loss: 0.3782 - acc: 0.8874 - val_loss: 0.5788 - val_acc: 0.7858\n",
      "Epoch 36/100\n",
      "6341/6341 [==============================] - 20s 3ms/step - loss: 0.3797 - acc: 0.8868 - val_loss: 0.5690 - val_acc: 0.7844\n",
      "\n",
      "Epoch 00036: ReduceLROnPlateau reducing learning rate to 0.000250000011874.\n"
     ]
    }
   ],
   "source": [
    "from keras.callbacks import EarlyStopping, ReduceLROnPlateau\n",
    "callbacks = [ReduceLROnPlateau(monitor='val_loss', factor=0.5, patience=7, min_lr=1e-6, verbose=1),\n",
    "             EarlyStopping(monitor='val_loss', patience=15)] \n",
    "\n",
    "history = model.fit([X_train, X_train_t.reshape(len(y_train), maxlen, 1)], y_train,\n",
    "                    epochs=100,\n",
    "                    callbacks=callbacks,\n",
    "                    batch_size=128,\n",
    "                    validation_data=([X_valid, X_valid_t.reshape(len(y_valid), maxlen, 1)], y_valid))"
   ]
  },
  {
   "cell_type": "code",
   "execution_count": 151,
   "metadata": {},
   "outputs": [
    {
     "data": {
      "image/png": "[encoded data removed]",
      "text/plain": [
       "<matplotlib.figure.Figure at 0x7fe9c28b9e90>"
      ]
     },
     "metadata": {},
     "output_type": "display_data"
    }
   ],
   "source": [
    "plt.figure(dpi=100)\n",
    "t = history.epoch\n",
    "\n",
    "plt.subplot(211)\n",
    "plt.plot(t, history.history['loss'], label='loss', color='C0')\n",
    "plt.plot(t, history.history['val_loss'], label='val_loss', color='C1')\n",
    "plt.xlabel('epochs')\n",
    "plt.ylabel('loss')\n",
    "plt.legend(loc=1)\n",
    "\n",
    "plt.subplot(212)\n",
    "plt.plot(t, history.history['acc'], label='acc', color='C2')\n",
    "plt.plot(t, history.history['val_acc'], label='val_acc', color='C3')\n",
    "plt.ylim([0.5, 1])\n",
    "plt.ylabel('acc')\n",
    "plt.xlabel('epochs')\n",
    "plt.legend(loc=1)\n",
    "\n",
    "plt.tight_layout()"
   ]
  },
  {
   "cell_type": "code",
   "execution_count": 152,
   "metadata": {},
   "outputs": [],
   "source": [
    "y_pred = model.predict([X_test, X_test_t.reshape(len(y_test), maxlen, 1)]).ravel()"
   ]
  },
  {
   "cell_type": "code",
   "execution_count": 153,
   "metadata": {},
   "outputs": [
    {
     "name": "stdout",
     "output_type": "stream",
     "text": [
      "Test scores:\n",
      " * Log-Loss\t0.435834479247\n",
      " * Accuracy:\t0.806939123031\n",
      " * Precision:\t0.813751087903\n",
      " * Recall:\t0.796083439762\n",
      " * AUC: \t0.885876819407\n"
     ]
    }
   ],
   "source": [
    "loss = metrics.log_loss(y_test, y_pred)\n",
    "acc = metrics.accuracy_score(y_test, y_pred > 0.5)\n",
    "prec = metrics.precision_score(y_test, y_pred > 0.5)\n",
    "rcll = metrics.recall_score(y_test, y_pred > 0.5)\n",
    "auc = metrics.roc_auc_score(y_test, y_pred)\n",
    "print('Test scores:\\n * Log-Loss\\t{}\\n * Accuracy:\\t{}\\n '\n",
    "      '* Precision:\\t{}\\n * Recall:\\t{}\\n * AUC: \\t{}'.format(loss, acc, prec, rcll, auc))"
   ]
  },
  {
   "cell_type": "code",
   "execution_count": 154,
   "metadata": {},
   "outputs": [
    {
     "data": {
      "image/png": "[encoded data removed]",
      "text/plain": [
       "<matplotlib.figure.Figure at 0x7fe9d2ac0550>"
      ]
     },
     "metadata": {},
     "output_type": "display_data"
    }
   ],
   "source": [
    "# Plot non-normalized confusion matrix\n",
    "cnf_matrix = metrics.confusion_matrix(y_test, y_pred > 0.5)\n",
    "plt.figure(dpi=100)\n",
    "plot_confusion_matrix(cnf_matrix, classes=['METONLY', 'METX'],\n",
    "                      title='Confusion matrix', cmap=plt.cm.Blues);"
   ]
  },
  {
   "cell_type": "markdown",
   "metadata": {},
   "source": [
    "**TOP results so far [6341 training / 705 validation / 4698 test]**\n",
    "\n",
    "Test scores:\n",
    " * Log-Loss\t0.425300993082\n",
    " * Accuracy:\t0.810131971052\n",
    " * Precision:\t0.817983413357\n",
    " * Recall:\t0.797786292039\n",
    " * AUC: \t0.894714579232"
   ]
  },
  {
   "cell_type": "code",
   "execution_count": 155,
   "metadata": {},
   "outputs": [],
   "source": [
    "model.save_weights('model.h5')"
   ]
  },
  {
   "cell_type": "code",
   "execution_count": null,
   "metadata": {},
   "outputs": [],
   "source": [
    "model.load_weights('model.h5')"
   ]
  },
  {
   "cell_type": "markdown",
   "metadata": {},
   "source": [
    "# Attention viz"
   ]
  },
  {
   "cell_type": "code",
   "execution_count": 27,
   "metadata": {},
   "outputs": [
    {
     "name": "stdout",
     "output_type": "stream",
     "text": [
      "----- activations -----\n",
      "(4698, 128, 445)\n"
     ]
    }
   ],
   "source": [
    "from mbspbs10pc import read_activations\n",
    "reload(read_activations);\n",
    "\n",
    "_x_test = [X_test, X_test_t.reshape(len(y_test), maxlen, 1)]\n",
    "a = read_activations.get_activations(model, _x_test, print_shape_only=True, layer_name='attention_matrix')"
   ]
  },
  {
   "cell_type": "code",
   "execution_count": 32,
   "metadata": {},
   "outputs": [],
   "source": [
    "true_pos_idx = np.where(np.logical_and(y_test == 1, y_pred >= 0.5))[0]\n",
    "true_neg_idx = np.where(np.logical_and(y_test == 0, y_pred < 0.5))[0]\n",
    "false_pos_idx = np.where(np.logical_and(y_test == 1, y_pred < 0.5))[0]\n",
    "false_neg_idx = np.where(np.logical_and(y_test == 0, y_pred >= 0.5))[0]"
   ]
  },
  {
   "cell_type": "code",
   "execution_count": 64,
   "metadata": {},
   "outputs": [],
   "source": [
    "def get_att(att, idx):\n",
    "    return np.mean(np.mean(att[0][idx, :, :], axis=0), axis=0)\n",
    "\n",
    "true_pos_att = get_att(a, true_pos_idx)\n",
    "true_neg_att = get_att(a, true_neg_idx)\n",
    "false_pos_att = get_att(a, false_pos_idx)\n",
    "false_neg_att = get_att(a, false_neg_idx)"
   ]
  },
  {
   "cell_type": "code",
   "execution_count": 71,
   "metadata": {},
   "outputs": [
    {
     "data": {
      "image/png": "[encoded data removed]",
      "text/plain": [
       "<matplotlib.figure.Figure at 0x7fe9b08611d0>"
      ]
     },
     "metadata": {},
     "output_type": "display_data"
    }
   ],
   "source": [
    "plt.figure(dpi=100)\n",
    "plt.title('true pos att')\n",
    "plt.plot(np.arange(445), true_pos_att, 'o');"
   ]
  },
  {
   "cell_type": "code",
   "execution_count": 72,
   "metadata": {},
   "outputs": [
    {
     "data": {
      "image/png": "[encoded data removed]",
      "text/plain": [
       "<matplotlib.figure.Figure at 0x7fe9b0d98cd0>"
      ]
     },
     "metadata": {},
     "output_type": "display_data"
    }
   ],
   "source": [
    "plt.figure(dpi=100)\n",
    "plt.title('true neg att')\n",
    "plt.plot(np.arange(445), true_neg_att, 'o');"
   ]
  },
  {
   "cell_type": "code",
   "execution_count": 73,
   "metadata": {},
   "outputs": [
    {
     "data": {
      "image/png": "[encoded data removed]",
      "text/plain": [
       "<matplotlib.figure.Figure at 0x7fe9afa79750>"
      ]
     },
     "metadata": {},
     "output_type": "display_data"
    }
   ],
   "source": [
    "plt.figure(dpi=100)\n",
    "plt.title('false pos att')\n",
    "plt.plot(np.arange(445), false_pos_att, 'o');"
   ]
  },
  {
   "cell_type": "code",
   "execution_count": 74,
   "metadata": {},
   "outputs": [
    {
     "data": {
      "image/png": "[encoded data removed]",
      "text/plain": [
       "<matplotlib.figure.Figure at 0x7fe9ac5a3910>"
      ]
     },
     "metadata": {},
     "output_type": "display_data"
    }
   ],
   "source": [
    "plt.figure(dpi=100)\n",
    "plt.title('false neg att')\n",
    "plt.plot(np.arange(445), false_neg_att, 'o');"
   ]
  },
  {
   "cell_type": "code",
   "execution_count": 25,
   "metadata": {},
   "outputs": [],
   "source": [
    "import itertools\n",
    "def plot_confusion_matrix(cm, classes,\n",
    "                          normalize=False,\n",
    "                          title='Confusion matrix',\n",
    "                          cmap=plt.cm.Blues):\n",
    "    \"\"\"\n",
    "    This function prints and plots the confusion matrix.\n",
    "    Normalization can be applied by setting `normalize=True`.\n",
    "    \"\"\"\n",
    "    if normalize:\n",
    "        cm = cm.astype('float') / cm.sum(axis=1)[:, np.newaxis]\n",
    "        print(\"Normalized confusion matrix\")\n",
    "    \n",
    "    plt.imshow(cm, interpolation='nearest', cmap=cmap)\n",
    "    plt.title(title)\n",
    "    plt.colorbar()\n",
    "    tick_marks = np.arange(len(classes))\n",
    "    plt.xticks(tick_marks, classes, rotation=45)\n",
    "    plt.yticks(tick_marks, classes)\n",
    "\n",
    "    fmt = '.2f' if normalize else 'd'\n",
    "    thresh = cm.max() / 2.\n",
    "    for i, j in itertools.product(range(cm.shape[0]), range(cm.shape[1])):\n",
    "        plt.text(j, i, format(cm[i, j], fmt),\n",
    "                 horizontalalignment=\"center\",\n",
    "                 color=\"white\" if cm[i, j] > thresh else \"black\")\n",
    "\n",
    "    plt.tight_layout()\n",
    "    plt.ylabel('True label')\n",
    "    plt.xlabel('Predicted label')\n",
    "    return plt"
   ]
  },
  {
   "cell_type": "code",
   "execution_count": null,
   "metadata": {},
   "outputs": [],
   "source": []
  }
 ],
 "metadata": {
  "kernelspec": {
   "display_name": "Python 2",
   "language": "python",
   "name": "python2"
  },
  "language_info": {
   "codemirror_mode": {
    "name": "ipython",
    "version": 2
   },
   "file_extension": ".py",
   "mimetype": "text/x-python",
   "name": "python",
   "nbconvert_exporter": "python",
   "pygments_lexer": "ipython2",
   "version": "2.7.14"
  }
 },
 "nbformat": 4,
 "nbformat_minor": 2
}
