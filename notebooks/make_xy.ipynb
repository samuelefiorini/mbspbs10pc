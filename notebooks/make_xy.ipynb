{
 "cells": [
  {
   "cell_type": "code",
   "execution_count": 1,
   "metadata": {},
   "outputs": [],
   "source": [
    "from __future__ import division\n",
    "import cPickle as pkl\n",
    "import matplotlib.pyplot as plt\n",
    "from multiprocessing import Pool\n",
    "import numpy as np\n",
    "import os\n",
    "import pandas as pd\n",
    "from tqdm import tqdm\n",
    "%matplotlib inline"
   ]
  },
  {
   "cell_type": "markdown",
   "metadata": {},
   "source": [
    "# Quick inspection"
   ]
  },
  {
   "cell_type": "code",
   "execution_count": 2,
   "metadata": {},
   "outputs": [],
   "source": [
    "cc = pkl.load(open('../tmp/dump_2009_class_1__raw_data_.pkl','rb'))\n",
    "rd, ei = cc['raw_data'], cc['extra_info']"
   ]
  },
  {
   "cell_type": "code",
   "execution_count": 3,
   "metadata": {},
   "outputs": [
    {
     "data": {
      "image/png": "[encoded data removed]",
      "text/plain": [
       "<matplotlib.figure.Figure at 0x7f2060017a90>"
      ]
     },
     "metadata": {},
     "output_type": "display_data"
    }
   ],
   "source": [
    "lenghts = [len(rd[k]) for k in rd.keys()]\n",
    "\n",
    "plt.figure(dpi=100)\n",
    "plt.hist(lenghts, bins=25)\n",
    "plt.xlabel('sequence length')\n",
    "plt.ylabel('count');"
   ]
  },
  {
   "cell_type": "code",
   "execution_count": 4,
   "metadata": {},
   "outputs": [
    {
     "name": "stdout",
     "output_type": "stream",
     "text": [
      "* T0G0T0G1T0G2G0T2G0T2T0G0T0G2T0G2T0G1P0T0P0G0P0P0P0P0T0B0T0P0P0P0I0P0G0T0B0T0P0P0T0G0I0I0I0I0B0T0T0G1P0P0B0P0P0I1G0T0T0G0B0T0G0P0P0G0T0B0E0E0P0P\n",
      "* O0O2G3P0P0P0P0G2P0P0G0P0G0T0G3G0G0E1E0S0S0S0G2G0E0E0S0P0P0S0I0G1P0P\n",
      "* G0T0P0P0P0P0G0T1O0T0G0E0T0T0G0G0T0T0G1L0G0T0S0E0S0G0T0T0G1O0T0G3T0P0P0G0P0L0O0T0G0T0T1T0G0P0P0T0P0I0E0E0G0T0O0I0E0S0G0T0G0T0P0P0P0P0E0G0T0G0T0T0G0L0L0L0L0L0L0E0L0L0L0T0G0T0G0G0G0T0T1G0T0O0L0G0T0G0T0E0P0P0P0P0G0T0E0G0T0O0T0G0T0G0T0G0G0T0T0G0G0T0D0T0G0T0E0P0P0P0P0T0G0O0G0G0T0T0T0G0L0T0L0G0L0L0G0T0O0E0E0P0P0P0P0P0T0G0P0P0T0G1G0T0G0T0G0T0G0T0O0G0T0O\n",
      "* T0G0P0P0T0E0P0P0G0T0I2G0T2T0G0P0P0P0P0P0P0E0P0P0P0T0G0P0P0T0P0P0E0E0S0S0E0E0E1T0G0G0T0E1E0E0P0P0P0P0E2E0T0G0G0T0P0P0P0P0P0P0P0P1E0I0I0G0T0I0T0G1T0G1E0I0T0G0P0T0G0P\n",
      "* G0T0G0T0E0G0T0G0T0G0T0T0G2G0T1T0G0G0T0P0T0G0P0P0P0P0P0G0T0T0G2G0T1T0G0T0G0T0G0T0G0T0G0T0G0G0T0E0S0T0G1T0G2G0T2T0G0T0G0P0P0T0G0G0T0T0G2T0G0T0G2G0T0P0P0P0P0G0P0P0P0T1G0T2G0T1T0G0G0T1T0G\n"
     ]
    }
   ],
   "source": [
    "for i, k in enumerate(rd.keys()):\n",
    "    print('* {}'.format(rd[k]))\n",
    "    if i>3: break"
   ]
  },
  {
   "cell_type": "markdown",
   "metadata": {},
   "source": [
    "# Load raw data"
   ]
  },
  {
   "cell_type": "code",
   "execution_count": 6,
   "metadata": {},
   "outputs": [],
   "source": [
    "def load_data(dump_files):\n",
    "    \"\"\"Extract sequences, extra info and patient id from dump pkl.\"\"\"\n",
    "    # Positive raw data load\n",
    "    raw_data = []\n",
    "    extra_info = []\n",
    "    indexes = []\n",
    "    for f in tqdm(dump_files, desc='Loading dump files'):\n",
    "        _tmp = pkl.load(open(os.path.join('..', 'tmp', f), 'rb'))\n",
    "        _raw_data, _extra_info = _tmp['raw_data'], _tmp['extra_info'].set_index('PIN')\n",
    "        for k in _extra_info.index:\n",
    "            if len(_raw_data[k])>0: # Skip empty sequences\n",
    "                raw_data.append(_raw_data[k])\n",
    "                extra_info.append([_extra_info.loc[k]['SEX'], _extra_info.loc[k]['AGE']])\n",
    "                indexes.append(k)\n",
    "#             else:\n",
    "#                 print('empty {}'.format(k))\n",
    "    return raw_data, extra_info, indexes"
   ]
  },
  {
   "cell_type": "code",
   "execution_count": 7,
   "metadata": {},
   "outputs": [],
   "source": [
    "dump_files = filter(lambda x: 'raw_data' in x, os.listdir('../tmp/'))\n",
    "positive_dump_files = filter(lambda x: 'class_1' in x, dump_files)\n",
    "negative_dump_files = filter(lambda x: 'class_0' in x, dump_files)"
   ]
  },
  {
   "cell_type": "markdown",
   "metadata": {},
   "source": [
    "Sequences should be like `['A', 8, 'M', 0, ...]` where letters are btos and numbers are weeks from one btos to another"
   ]
  },
  {
   "cell_type": "code",
   "execution_count": 8,
   "metadata": {},
   "outputs": [
    {
     "name": "stderr",
     "output_type": "stream",
     "text": [
      "Loading dump files: 100%|██████████| 6/6 [00:09<00:00,  1.63s/it]"
     ]
    },
    {
     "name": "stdout",
     "output_type": "stream",
     "text": [
      "(28811, 'positive samples')\n"
     ]
    },
    {
     "name": "stderr",
     "output_type": "stream",
     "text": [
      "\n"
     ]
    }
   ],
   "source": [
    "pos_raw_data, pos_extra_info, pos_id = load_data(positive_dump_files)\n",
    "print(len(pos_id), 'positive samples')"
   ]
  },
  {
   "cell_type": "code",
   "execution_count": 9,
   "metadata": {},
   "outputs": [
    {
     "name": "stderr",
     "output_type": "stream",
     "text": [
      "Loading dump files: 100%|██████████| 1/1 [01:50<00:00, 110.57s/it]"
     ]
    },
    {
     "name": "stdout",
     "output_type": "stream",
     "text": [
      "(328841, 'negative samples')\n"
     ]
    },
    {
     "name": "stderr",
     "output_type": "stream",
     "text": [
      "\n"
     ]
    }
   ],
   "source": [
    "neg_raw_data, neg_extra_info, neg_id = load_data(negative_dump_files)\n",
    "print(len(neg_id), 'negative samples')"
   ]
  },
  {
   "cell_type": "markdown",
   "metadata": {},
   "source": [
    "# EDA\n",
    "I want to use the negative samples with comparable length."
   ]
  },
  {
   "cell_type": "code",
   "execution_count": 20,
   "metadata": {},
   "outputs": [
    {
     "name": "stdout",
     "output_type": "stream",
     "text": [
      "5%:61.0 | 95%965.0\n"
     ]
    },
    {
     "data": {
      "image/png": "[encoded data removed]",
      "text/plain": [
       "<matplotlib.figure.Figure at 0x7f1fcd3d0b10>"
      ]
     },
     "metadata": {},
     "output_type": "display_data"
    }
   ],
   "source": [
    "# Extracting the lenghts of the positive\n",
    "lenghts = np.array([len(x) for x in pos_raw_data])\n",
    "\n",
    "# Calculating 5-95 percentile\n",
    "p5 = np.percentile(lenghts, 5)\n",
    "p95 = np.percentile(lenghts, 95)\n",
    "print('5%:{} | 95%{}'.format(p5, p95))\n",
    "\n",
    "# Identifying the indexes\n",
    "pos_idx595 = np.argwhere(np.logical_and(lenghts>=p5, lenghts<=p95)).ravel()\n",
    "pos_lenghts = lenghts[pos_idx595]\n",
    "\n",
    "# And for negative class as well\n",
    "lenghts = np.array([len(x) for x in neg_raw_data])\n",
    "neg_idx595 = np.argwhere(np.logical_and(lenghts>=p5, lenghts<=p95)).ravel()\n",
    "neg_lenghts = lenghts[neg_idx595]\n",
    "\n",
    "\n",
    "plt.figure(figsize=(8, 4))\n",
    "plt.subplot(121)\n",
    "plt.hist(pos_lenghts, bins=25)\n",
    "plt.title('{} sequences'.format(len(pos_lenghts)))\n",
    "plt.xlabel('sequence length')\n",
    "plt.ylabel('count')\n",
    "\n",
    "plt.subplot(122)\n",
    "plt.hist(neg_lenghts, bins=25)\n",
    "plt.title('{} sequences'.format(len(neg_lenghts)))\n",
    "plt.xlabel('sequence length')\n",
    "plt.ylabel('count')\n",
    "\n",
    "plt.tight_layout();"
   ]
  },
  {
   "cell_type": "code",
   "execution_count": 25,
   "metadata": {},
   "outputs": [],
   "source": [
    "# Extract only the relevant samples\n",
    "pos_raw_data595 = [pos_raw_data[i] for i in pos_idx595]\n",
    "neg_raw_data595 = [neg_raw_data[i] for i in neg_idx595]"
   ]
  },
  {
   "cell_type": "code",
   "execution_count": 28,
   "metadata": {},
   "outputs": [],
   "source": [
    "pos_extra_info595 = [pos_extra_info[i] for i in pos_idx595]\n",
    "neg_extra_info595 = [neg_extra_info[i] for i in neg_idx595]"
   ]
  },
  {
   "cell_type": "markdown",
   "metadata": {},
   "source": [
    "# Make Xy"
   ]
  },
  {
   "cell_type": "code",
   "execution_count": 66,
   "metadata": {},
   "outputs": [
    {
     "name": "stdout",
     "output_type": "stream",
     "text": [
      "(25949, 17)\n",
      "(284718, 17)\n"
     ]
    }
   ],
   "source": [
    "# Bag-of-words representation\n",
    "from sklearn.feature_extraction.text import CountVectorizer\n",
    "\n",
    "bow = CountVectorizer(analyzer='char')#, ngram_range=[1, 3])\n",
    "X1 = bow.fit_transform(pos_raw_data595).todense()\n",
    "print(X1.shape)\n",
    "\n",
    "X0 = bow.transform(neg_raw_data595).todense()\n",
    "print(X0.shape)"
   ]
  },
  {
   "cell_type": "code",
   "execution_count": 67,
   "metadata": {},
   "outputs": [],
   "source": [
    "# Vocabulary inspection\n",
    "# print(bow.vocabulary_.keys())"
   ]
  },
  {
   "cell_type": "code",
   "execution_count": 68,
   "metadata": {},
   "outputs": [
    {
     "name": "stdout",
     "output_type": "stream",
     "text": [
      "(25949, 19)\n",
      "(284718, 19)\n"
     ]
    }
   ],
   "source": [
    "# Adding extra info\n",
    "def add_extra_info(X, extra_info):\n",
    "    extra_info = np.array(extra_info)\n",
    "    extra_info[:, 0] = np.where(extra_info[:,0] == 'F', 1, 0) # mapping F->1 | M->0\n",
    "    extra_info = extra_info.astype(np.int)\n",
    "    return np.hstack((X, extra_info))\n",
    "\n",
    "X1 = add_extra_info(X1, pos_extra_info595)\n",
    "print(X1.shape)\n",
    "\n",
    "X0 = add_extra_info(X0, neg_extra_info595)\n",
    "print(X0.shape)"
   ]
  },
  {
   "cell_type": "code",
   "execution_count": 69,
   "metadata": {},
   "outputs": [
    {
     "name": "stdout",
     "output_type": "stream",
     "text": [
      "[u's', u'r', u'b', u'e', u'd', u'g', u'0', u'i', u'h', u'l', u'o', u'1', u'p', u'3', u'2', u't', u'4', 'SEX', 'AGE']\n"
     ]
    }
   ],
   "source": [
    "# Feature names\n",
    "feat_names = bow.vocabulary_.keys()\n",
    "feat_names.append('SEX')\n",
    "feat_names.append('AGE')\n",
    "print(feat_names)"
   ]
  },
  {
   "cell_type": "code",
   "execution_count": 70,
   "metadata": {},
   "outputs": [],
   "source": [
    "np.save('X0_n1.npy', X0)\n",
    "np.save('X1_n1.npy', X1)\n",
    "np.save('feat_names_n1.npy', np.array(feat_names))"
   ]
  },
  {
   "cell_type": "code",
   "execution_count": 71,
   "metadata": {},
   "outputs": [
    {
     "name": "stdout",
     "output_type": "stream",
     "text": [
      "(51898, 19)\n",
      "(51898,)\n"
     ]
    }
   ],
   "source": [
    "# Create a balanced training set\n",
    "n = X1.shape[0]\n",
    "\n",
    "# Subsample X1\n",
    "idx = np.arange(n)\n",
    "np.random.shuffle(idx)\n",
    "X1_small = X1[idx, :]\n",
    "\n",
    "# Subsample X0\n",
    "idx = np.arange(n)\n",
    "np.random.shuffle(idx)\n",
    "X0_small = X0[idx, :]\n",
    "\n",
    "# Stack them\n",
    "X_small = np.vstack((X1_small, X0_small))\n",
    "y_small = np.hstack((np.ones(X1_small.shape[0]), np.zeros(X0_small.shape[0])))\n",
    "print(X_small.shape)\n",
    "print(y_small.shape)"
   ]
  },
  {
   "cell_type": "code",
   "execution_count": 72,
   "metadata": {},
   "outputs": [
    {
     "name": "stdout",
     "output_type": "stream",
     "text": [
      "Training: avg score: 0.899 +- 0.000\n",
      "Validation: avg score: 0.899 +- 0.003\n"
     ]
    }
   ],
   "source": [
    "# Simple assessment\n",
    "from sklearn.linear_model import LogisticRegression\n",
    "from sklearn.model_selection import cross_validate\n",
    "\n",
    "scores = cross_validate(LogisticRegression(), X_small, y_small, cv=5, n_jobs=-1)\n",
    "print('Training: avg score: {:2.3f} +- {:2.3f}'.format(np.mean(scores['train_score']), np.std(scores['train_score'])))\n",
    "print('Validation: avg score: {:2.3f} +- {:2.3f}'.format(np.mean(scores['test_score']), np.std(scores['test_score'])))"
   ]
  },
  {
   "cell_type": "code",
   "execution_count": 73,
   "metadata": {},
   "outputs": [
    {
     "name": "stdout",
     "output_type": "stream",
     "text": [
      "Training: avg score: 1.000 +- 0.000\n",
      "Validation: avg score: 0.904 +- 0.003\n"
     ]
    }
   ],
   "source": [
    "from sklearn.ensemble import RandomForestClassifier\n",
    "\n",
    "scores = cross_validate(RandomForestClassifier(n_estimators=500, n_jobs=-1), X_small, y_small, cv=5)\n",
    "print('Training: avg score: {:2.3f} +- {:2.3f}'.format(np.mean(scores['train_score']), np.std(scores['train_score'])))\n",
    "print('Validation: avg score: {:2.3f} +- {:2.3f}'.format(np.mean(scores['test_score']), np.std(scores['test_score'])))"
   ]
  },
  {
   "cell_type": "code",
   "execution_count": 74,
   "metadata": {},
   "outputs": [
    {
     "data": {
      "text/plain": [
       "RandomForestClassifier(bootstrap=True, class_weight=None, criterion='gini',\n",
       "            max_depth=None, max_features='auto', max_leaf_nodes=None,\n",
       "            min_impurity_decrease=0.0, min_impurity_split=None,\n",
       "            min_samples_leaf=1, min_samples_split=2,\n",
       "            min_weight_fraction_leaf=0.0, n_estimators=500, n_jobs=-1,\n",
       "            oob_score=False, random_state=None, verbose=0,\n",
       "            warm_start=False)"
      ]
     },
     "execution_count": 74,
     "metadata": {},
     "output_type": "execute_result"
    }
   ],
   "source": [
    "# Build a forest and compute the feature importances\n",
    "forest = RandomForestClassifier(n_estimators=500, n_jobs=-1)\n",
    "\n",
    "forest.fit(X_small, y_small)"
   ]
  },
  {
   "cell_type": "code",
   "execution_count": 86,
   "metadata": {},
   "outputs": [
    {
     "data": {
      "image/png": "[encoded data removed]",
      "text/plain": [
       "<matplotlib.figure.Figure at 0x7f1fcd631090>"
      ]
     },
     "metadata": {},
     "output_type": "display_data"
    }
   ],
   "source": [
    "importances = forest.feature_importances_\n",
    "std = np.std([tree.feature_importances_ for tree in forest.estimators_], axis=0)\n",
    "indices = np.argsort(importances)[::-1]\n",
    "\n",
    "# Print the feature ranking\n",
    "# print(\"Feature ranking:\")\n",
    "\n",
    "# for f in range(X_small.shape[1]):\n",
    "#     print(\"%d. feature %s (%f)\" % (f + 1, feat_names[f], importances[indices[f]]))\n",
    "\n",
    "# Plot the feature importances of the forest\n",
    "top_k = 19\n",
    "plt.figure(figsize=(12, 6))\n",
    "plt.title(\"Feature importances\", fontsize=15)\n",
    "plt.bar(range(top_k), importances[indices][:top_k], yerr=std[indices[:top_k]], align=\"center\")\n",
    "plt.xticks(range(top_k), [s.upper() for s in np.array(feat_names)[indices][:top_k]], fontsize=15)\n",
    "plt.yticks(fontsize=15)\n",
    "plt.xlim([-1, top_k]);"
   ]
  },
  {
   "cell_type": "code",
   "execution_count": null,
   "metadata": {},
   "outputs": [],
   "source": []
  }
 ],
 "metadata": {
  "kernelspec": {
   "display_name": "Python 2",
   "language": "python",
   "name": "python2"
  },
  "language_info": {
   "codemirror_mode": {
    "name": "ipython",
    "version": 2
   },
   "file_extension": ".py",
   "mimetype": "text/x-python",
   "name": "python",
   "nbconvert_exporter": "python",
   "pygments_lexer": "ipython2",
   "version": "2.7.14"
  }
 },
 "nbformat": 4,
 "nbformat_minor": 2
}
