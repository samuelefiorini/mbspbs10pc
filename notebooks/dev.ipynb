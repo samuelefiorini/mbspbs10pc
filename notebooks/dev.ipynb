{
 "cells": [
  {
   "cell_type": "code",
   "execution_count": 1,
   "metadata": {},
   "outputs": [
    {
     "name": "stdout",
     "output_type": "stream",
     "text": [
      "2018 3 2 6 17 12\n"
     ]
    }
   ],
   "source": [
    "import datetime\n",
    "from tqdm import tqdm\n",
    "now = datetime.datetime.now()\n",
    "print now.year, now.month, now.day, now.hour, now.minute, now.second"
   ]
  },
  {
   "cell_type": "code",
   "execution_count": 2,
   "metadata": {},
   "outputs": [],
   "source": [
    "from sklearn.datasets.base import Bunch"
   ]
  },
  {
   "cell_type": "code",
   "execution_count": 3,
   "metadata": {},
   "outputs": [],
   "source": [
    "dd = {123: Bunch(seq=[1,1,4,5,6], info=['M', 52]),\n",
    "      456: Bunch(seq=[2,1,4,5,6], info=['M', 52]),\n",
    "      678: Bunch(seq=[3,1,4,5,6], info=['M', 52]),\n",
    "      999: Bunch(seq=[4,1,4,5,6], info=['M', 52]),}"
   ]
  },
  {
   "cell_type": "code",
   "execution_count": 4,
   "metadata": {},
   "outputs": [
    {
     "data": {
      "text/plain": [
       "[array([ 2,  2,  8, 10, 12]),\n",
       " array([ 4,  2,  8, 10, 12]),\n",
       " array([ 6,  2,  8, 10, 12]),\n",
       " array([ 8,  2,  8, 10, 12])]"
      ]
     },
     "execution_count": 4,
     "metadata": {},
     "output_type": "execute_result"
    }
   ],
   "source": [
    "import multiprocessing as mp\n",
    "import numpy as np\n",
    "from multiprocessing import Manager\n",
    "\n",
    "def f(i, shared_arg=None):\n",
    "    return 2*np.array(shared_arg[i].seq)\n",
    "\n",
    "manager = Manager()\n",
    "shared_dict = manager.dict(dd)\n",
    "pool = mp.Pool(4)\n",
    "\n",
    "results = [pool.apply_async(f, [i, shared_dict]) for i in [123, 456, 678, 999]]\n",
    "results = [p.get() for p in results]\n",
    "results"
   ]
  },
  {
   "cell_type": "code",
   "execution_count": 1,
   "metadata": {},
   "outputs": [],
   "source": [
    "import pandas as pd\n",
    "import numpy as np\n",
    "from __future__ import division"
   ]
  },
  {
   "cell_type": "code",
   "execution_count": 24,
   "metadata": {},
   "outputs": [
    {
     "data": {
      "text/html": [
       "<div>\n",
       "<style scoped>\n",
       "    .dataframe tbody tr th:only-of-type {\n",
       "        vertical-align: middle;\n",
       "    }\n",
       "\n",
       "    .dataframe tbody tr th {\n",
       "        vertical-align: top;\n",
       "    }\n",
       "\n",
       "    .dataframe thead th {\n",
       "        text-align: right;\n",
       "    }\n",
       "</style>\n",
       "<table border=\"1\" class=\"dataframe\">\n",
       "  <thead>\n",
       "    <tr style=\"text-align: right;\">\n",
       "      <th></th>\n",
       "      <th>PTNT_ID</th>\n",
       "    </tr>\n",
       "  </thead>\n",
       "  <tbody>\n",
       "    <tr>\n",
       "      <th>0</th>\n",
       "      <td>2917138437</td>\n",
       "    </tr>\n",
       "    <tr>\n",
       "      <th>1</th>\n",
       "      <td>2644508681</td>\n",
       "    </tr>\n",
       "    <tr>\n",
       "      <th>2</th>\n",
       "      <td>3505389578</td>\n",
       "    </tr>\n",
       "    <tr>\n",
       "      <th>3</th>\n",
       "      <td>2453667855</td>\n",
       "    </tr>\n",
       "    <tr>\n",
       "      <th>4</th>\n",
       "      <td>3314548753</td>\n",
       "    </tr>\n",
       "  </tbody>\n",
       "</table>\n",
       "</div>"
      ],
      "text/plain": [
       "      PTNT_ID\n",
       "0  2917138437\n",
       "1  2644508681\n",
       "2  3505389578\n",
       "3  2453667855\n",
       "4  3314548753"
      ]
     },
     "execution_count": 24,
     "metadata": {},
     "output_type": "execute_result"
    }
   ],
   "source": [
    "df = pd.read_csv('../tmp/dump_class_0.csv', header=0)\n",
    "df.head()"
   ]
  },
  {
   "cell_type": "code",
   "execution_count": 85,
   "metadata": {},
   "outputs": [],
   "source": [
    "n_jobs = 32\n",
    "\n",
    "splits = np.array_split(df.values, n_jobs)"
   ]
  },
  {
   "cell_type": "code",
   "execution_count": 86,
   "metadata": {},
   "outputs": [
    {
     "data": {
      "text/plain": [
       "array([[2917138437],\n",
       "       [2644508681],\n",
       "       [3505389578],\n",
       "       ...,\n",
       "       [5105666806],\n",
       "       [4600253182],\n",
       "       [ 727862015]])"
      ]
     },
     "execution_count": 86,
     "metadata": {},
     "output_type": "execute_result"
    }
   ],
   "source": [
    "ss[0]"
   ]
  },
  {
   "cell_type": "code",
   "execution_count": 30,
   "metadata": {},
   "outputs": [
    {
     "data": {
      "text/plain": [
       "(253180, 1)"
      ]
     },
     "execution_count": 30,
     "metadata": {},
     "output_type": "execute_result"
    }
   ],
   "source": [
    "df.shape"
   ]
  },
  {
   "cell_type": "code",
   "execution_count": 7,
   "metadata": {},
   "outputs": [],
   "source": [
    "import cPickle as pkl\n",
    "\n",
    "# pp = pkl.load(open('../tmp/dump_class_0__raw_data_.pkl', 'rb'))"
   ]
  },
  {
   "cell_type": "code",
   "execution_count": 3,
   "metadata": {},
   "outputs": [
    {
     "name": "stdout",
     "output_type": "stream",
     "text": [
      "['MBS_SAMPLE_10PCT_2010.csv', 'MBS_SAMPLE_10PCT_2013.csv', 'MBS_SAMPLE_10PCT_2008.csv', 'MBS_SAMPLE_10PCT_2009.csv', 'MBS_SAMPLE_10PCT_2011.csv', 'MBS_SAMPLE_10PCT_2014.csv', 'MBS_SAMPLE_10PCT_2012.csv']\n"
     ]
    }
   ],
   "source": [
    "import os\n",
    "mbs_files = filter(lambda x: x.startswith('MBS'), os.listdir('../../../data/'))\n",
    "print(mbs_files)"
   ]
  },
  {
   "cell_type": "code",
   "execution_count": 4,
   "metadata": {},
   "outputs": [
    {
     "name": "stdout",
     "output_type": "stream",
     "text": [
      "(41038001, 3)\n"
     ]
    },
    {
     "ename": "NameError",
     "evalue": "name 'pregnancy_items' is not defined",
     "output_type": "error",
     "traceback": [
      "\u001b[0;31m---------------------------------------------------------------------------\u001b[0m",
      "\u001b[0;31mNameError\u001b[0m                                 Traceback (most recent call last)",
      "\u001b[0;32m<ipython-input-4-a26dfdf8e8dc>\u001b[0m in \u001b[0;36m<module>\u001b[0;34m()\u001b[0m\n\u001b[1;32m      4\u001b[0m     \u001b[0mdd\u001b[0m \u001b[0;34m=\u001b[0m \u001b[0mpd\u001b[0m\u001b[0;34m.\u001b[0m\u001b[0mread_csv\u001b[0m\u001b[0;34m(\u001b[0m\u001b[0mmbs\u001b[0m\u001b[0;34m,\u001b[0m \u001b[0mheader\u001b[0m\u001b[0;34m=\u001b[0m\u001b[0;36m0\u001b[0m\u001b[0;34m,\u001b[0m \u001b[0musecols\u001b[0m\u001b[0;34m=\u001b[0m\u001b[0;34m[\u001b[0m\u001b[0;34m'PIN'\u001b[0m\u001b[0;34m,\u001b[0m \u001b[0;34m'ITEM'\u001b[0m\u001b[0;34m,\u001b[0m \u001b[0;34m'DOS'\u001b[0m\u001b[0;34m]\u001b[0m\u001b[0;34m)\u001b[0m\u001b[0;34m\u001b[0m\u001b[0m\n\u001b[1;32m      5\u001b[0m     \u001b[0;32mprint\u001b[0m\u001b[0;34m(\u001b[0m\u001b[0mdd\u001b[0m\u001b[0;34m.\u001b[0m\u001b[0mshape\u001b[0m\u001b[0;34m)\u001b[0m\u001b[0;34m\u001b[0m\u001b[0m\n\u001b[0;32m----> 6\u001b[0;31m     \u001b[0mdd\u001b[0m \u001b[0;34m=\u001b[0m \u001b[0mdd\u001b[0m\u001b[0;34m.\u001b[0m\u001b[0mloc\u001b[0m\u001b[0;34m[\u001b[0m\u001b[0;34m~\u001b[0m\u001b[0mdd\u001b[0m\u001b[0;34m[\u001b[0m\u001b[0;34m'ITEM'\u001b[0m\u001b[0;34m]\u001b[0m\u001b[0;34m.\u001b[0m\u001b[0misin\u001b[0m\u001b[0;34m(\u001b[0m\u001b[0mpregnancy_items\u001b[0m\u001b[0;34m)\u001b[0m\u001b[0;34m,\u001b[0m \u001b[0;34m:\u001b[0m\u001b[0;34m]\u001b[0m\u001b[0;34m\u001b[0m\u001b[0m\n\u001b[0m\u001b[1;32m      7\u001b[0m     \u001b[0;32mprint\u001b[0m\u001b[0;34m(\u001b[0m\u001b[0mdd\u001b[0m\u001b[0;34m.\u001b[0m\u001b[0mshape\u001b[0m\u001b[0;34m)\u001b[0m\u001b[0;34m\u001b[0m\u001b[0m\n\u001b[1;32m      8\u001b[0m     \u001b[0m___MBS_FILES_DICT__\u001b[0m\u001b[0;34m[\u001b[0m\u001b[0mmbs\u001b[0m\u001b[0;34m]\u001b[0m \u001b[0;34m=\u001b[0m \u001b[0mdd\u001b[0m\u001b[0;34m\u001b[0m\u001b[0m\n",
      "\u001b[0;31mNameError\u001b[0m: name 'pregnancy_items' is not defined"
     ]
    }
   ],
   "source": [
    "___MBS_FILES_DICT__ = dict()\n",
    "for mbs in mbs_files:\n",
    "    mbs = os.path.join('..','..','..','data', mbs)\n",
    "    dd = pd.read_csv(mbs, header=0, usecols=['PIN', 'ITEM', 'DOS'])\n",
    "    print(dd.shape)\n",
    "#     dd = dd.loc[~dd['ITEM'].isin(pregnancy_items), :]\n",
    "    print(dd.shape)\n",
    "    ___MBS_FILES_DICT__[mbs] = dd\n",
    "    print('---')\n",
    "    break"
   ]
  },
  {
   "cell_type": "code",
   "execution_count": null,
   "metadata": {},
   "outputs": [],
   "source": [
    "asd = pd.to_datetime(dd['DOS'], format='%d%b%Y') "
   ]
  },
  {
   "cell_type": "code",
   "execution_count": 17,
   "metadata": {},
   "outputs": [
    {
     "data": {
      "text/plain": [
       "2010"
      ]
     },
     "execution_count": 17,
     "metadata": {},
     "output_type": "execute_result"
    }
   ],
   "source": [
    "a = pd.DatetimeIndex(asd.values)\n",
    "a.year[0]"
   ]
  },
  {
   "cell_type": "code",
   "execution_count": 22,
   "metadata": {},
   "outputs": [
    {
     "data": {
      "text/plain": [
       "2010.0"
      ]
     },
     "execution_count": 22,
     "metadata": {},
     "output_type": "execute_result"
    }
   ],
   "source": [
    "np.mean(a.year)"
   ]
  },
  {
   "cell_type": "code",
   "execution_count": 23,
   "metadata": {},
   "outputs": [],
   "source": [
    "aa = (0, 1)"
   ]
  },
  {
   "cell_type": "code",
   "execution_count": 24,
   "metadata": {},
   "outputs": [
    {
     "data": {
      "text/plain": [
       "0"
      ]
     },
     "execution_count": 24,
     "metadata": {},
     "output_type": "execute_result"
    }
   ],
   "source": [
    "aa[0]"
   ]
  },
  {
   "cell_type": "code",
   "execution_count": null,
   "metadata": {},
   "outputs": [],
   "source": []
  },
  {
   "cell_type": "code",
   "execution_count": 30,
   "metadata": {
    "scrolled": true
   },
   "outputs": [],
   "source": [
    "_dd = pd.read_csv(os.path.join('..', 'mbspbs10pc', 'data', 'drugs_used_in_diabetes.csv'),\n",
    "                     header=0)\n",
    "# Fix 6-digit notation\n",
    "dd = set()  # dd should be a set for performance reasons\n",
    "for item in _dd.values.ravel():\n",
    "    if len(item) < 6:\n",
    "        dd.add(str(0)+item)\n",
    "    else:\n",
    "        dd.add(item)"
   ]
  },
  {
   "cell_type": "code",
   "execution_count": 38,
   "metadata": {},
   "outputs": [
    {
     "data": {
      "text/html": [
       "<div>\n",
       "<style scoped>\n",
       "    .dataframe tbody tr th:only-of-type {\n",
       "        vertical-align: middle;\n",
       "    }\n",
       "\n",
       "    .dataframe tbody tr th {\n",
       "        vertical-align: top;\n",
       "    }\n",
       "\n",
       "    .dataframe thead th {\n",
       "        text-align: right;\n",
       "    }\n",
       "</style>\n",
       "<table border=\"1\" class=\"dataframe\">\n",
       "  <thead>\n",
       "    <tr style=\"text-align: right;\">\n",
       "      <th></th>\n",
       "      <th>DOS</th>\n",
       "      <th>ITEM</th>\n",
       "    </tr>\n",
       "    <tr>\n",
       "      <th>PIN</th>\n",
       "      <th></th>\n",
       "      <th></th>\n",
       "    </tr>\n",
       "  </thead>\n",
       "  <tbody>\n",
       "    <tr>\n",
       "      <th>1779689312</th>\n",
       "      <td>08SEP2010</td>\n",
       "      <td>36</td>\n",
       "    </tr>\n",
       "    <tr>\n",
       "      <th>2661651352</th>\n",
       "      <td>29JUN2010</td>\n",
       "      <td>23</td>\n",
       "    </tr>\n",
       "    <tr>\n",
       "      <th>8948401274</th>\n",
       "      <td>12JAN2010</td>\n",
       "      <td>57509</td>\n",
       "    </tr>\n",
       "    <tr>\n",
       "      <th>6745255963</th>\n",
       "      <td>14FEB2010</td>\n",
       "      <td>23</td>\n",
       "    </tr>\n",
       "    <tr>\n",
       "      <th>5742193063</th>\n",
       "      <td>10DEC2010</td>\n",
       "      <td>65105</td>\n",
       "    </tr>\n",
       "  </tbody>\n",
       "</table>\n",
       "</div>"
      ],
      "text/plain": [
       "                  DOS   ITEM\n",
       "PIN                         \n",
       "1779689312  08SEP2010     36\n",
       "2661651352  29JUN2010     23\n",
       "8948401274  12JAN2010  57509\n",
       "6745255963  14FEB2010     23\n",
       "5742193063  10DEC2010  65105"
      ]
     },
     "execution_count": 38,
     "metadata": {},
     "output_type": "execute_result"
    }
   ],
   "source": [
    "ddd = ___MBS_FILES_DICT__[k]\n",
    "ddd = ddd.set_index('PIN')\n",
    "ddd.head()"
   ]
  },
  {
   "cell_type": "code",
   "execution_count": 39,
   "metadata": {},
   "outputs": [
    {
     "data": {
      "text/html": [
       "<div>\n",
       "<style scoped>\n",
       "    .dataframe tbody tr th:only-of-type {\n",
       "        vertical-align: middle;\n",
       "    }\n",
       "\n",
       "    .dataframe tbody tr th {\n",
       "        vertical-align: top;\n",
       "    }\n",
       "\n",
       "    .dataframe thead th {\n",
       "        text-align: right;\n",
       "    }\n",
       "</style>\n",
       "<table border=\"1\" class=\"dataframe\">\n",
       "  <thead>\n",
       "    <tr style=\"text-align: right;\">\n",
       "      <th></th>\n",
       "      <th>DOS</th>\n",
       "      <th>ITEM</th>\n",
       "    </tr>\n",
       "    <tr>\n",
       "      <th>PIN</th>\n",
       "      <th></th>\n",
       "      <th></th>\n",
       "    </tr>\n",
       "  </thead>\n",
       "  <tbody>\n",
       "    <tr>\n",
       "      <th>1779689312</th>\n",
       "      <td>08SEP2010</td>\n",
       "      <td>36</td>\n",
       "    </tr>\n",
       "    <tr>\n",
       "      <th>1779689312</th>\n",
       "      <td>23FEB2010</td>\n",
       "      <td>23</td>\n",
       "    </tr>\n",
       "    <tr>\n",
       "      <th>1779689312</th>\n",
       "      <td>23FEB2010</td>\n",
       "      <td>10990</td>\n",
       "    </tr>\n",
       "  </tbody>\n",
       "</table>\n",
       "</div>"
      ],
      "text/plain": [
       "                  DOS   ITEM\n",
       "PIN                         \n",
       "1779689312  08SEP2010     36\n",
       "1779689312  23FEB2010     23\n",
       "1779689312  23FEB2010  10990"
      ]
     },
     "execution_count": 39,
     "metadata": {},
     "output_type": "execute_result"
    }
   ],
   "source": [
    "ddd.loc[1779689312, ['DOS', 'ITEM']]"
   ]
  },
  {
   "cell_type": "code",
   "execution_count": 2,
   "metadata": {},
   "outputs": [],
   "source": [
    "tmp = pd.read_csv('../../../data/PBS_SAMPLE_10PCT_2009.csv', header=0, nrows=1000, usecols=['PTNT_ID', 'SPPLY_DT'])\n",
    "tmp.loc[:, 'SPPLY_DT'] = pd.to_datetime(tmp['SPPLY_DT'], format='%d%b%Y')"
   ]
  },
  {
   "cell_type": "code",
   "execution_count": 3,
   "metadata": {},
   "outputs": [
    {
     "data": {
      "text/plain": [
       "Timestamp('2009-12-31 00:00:00')"
      ]
     },
     "execution_count": 3,
     "metadata": {},
     "output_type": "execute_result"
    }
   ],
   "source": [
    "tmp['SPPLY_DT'].max()"
   ]
  },
  {
   "cell_type": "code",
   "execution_count": 5,
   "metadata": {},
   "outputs": [
    {
     "data": {
      "text/plain": [
       "1581741333"
      ]
     },
     "execution_count": 5,
     "metadata": {},
     "output_type": "execute_result"
    }
   ],
   "source": [
    "tmp['PTNT_ID'].values[-1]"
   ]
  },
  {
   "cell_type": "code",
   "execution_count": null,
   "metadata": {},
   "outputs": [],
   "source": []
  },
  {
   "cell_type": "code",
   "execution_count": 41,
   "metadata": {},
   "outputs": [
    {
     "data": {
      "text/plain": [
       "('../../asd', 'asd')"
      ]
     },
     "execution_count": 41,
     "metadata": {},
     "output_type": "execute_result"
    }
   ],
   "source": [
    "os.path.split(os.path.join('..', '..', 'asd', 'asd'))"
   ]
  },
  {
   "cell_type": "code",
   "execution_count": 31,
   "metadata": {},
   "outputs": [
    {
     "name": "stderr",
     "output_type": "stream",
     "text": [
      "/home/samu/miniconda2/lib/python2.7/site-packages/numpy/lib/arraysetops.py:466: FutureWarning: elementwise comparison failed; returning scalar instead, but in the future will perform elementwise comparison\n",
      "  mask |= (ar1 == a)\n"
     ]
    },
    {
     "ename": "IndexError",
     "evalue": "index 0 is out of bounds for axis 0 with size 0",
     "output_type": "error",
     "traceback": [
      "\u001b[0;31m---------------------------------------------------------------------------\u001b[0m",
      "\u001b[0;31mIndexError\u001b[0m                                Traceback (most recent call last)",
      "\u001b[0;32m<ipython-input-31-e6e637c7d571>\u001b[0m in \u001b[0;36m<module>\u001b[0;34m()\u001b[0m\n\u001b[1;32m      1\u001b[0m \u001b[0mk\u001b[0m \u001b[0;34m=\u001b[0m \u001b[0mmbs\u001b[0m\u001b[0;34m\u001b[0m\u001b[0m\n\u001b[0;32m----> 2\u001b[0;31m \u001b[0mfirst_dd\u001b[0m \u001b[0;34m=\u001b[0m \u001b[0mnp\u001b[0m\u001b[0;34m.\u001b[0m\u001b[0mwhere\u001b[0m\u001b[0;34m(\u001b[0m\u001b[0m___MBS_FILES_DICT__\u001b[0m\u001b[0;34m[\u001b[0m\u001b[0mk\u001b[0m\u001b[0;34m]\u001b[0m\u001b[0;34m[\u001b[0m\u001b[0;34m'ITEM'\u001b[0m\u001b[0;34m]\u001b[0m\u001b[0;34m.\u001b[0m\u001b[0misin\u001b[0m\u001b[0;34m(\u001b[0m\u001b[0mdd\u001b[0m\u001b[0;34m)\u001b[0m\u001b[0;34m)\u001b[0m\u001b[0;34m[\u001b[0m\u001b[0;36m0\u001b[0m\u001b[0;34m]\u001b[0m\u001b[0;34m[\u001b[0m\u001b[0;36m0\u001b[0m\u001b[0;34m]\u001b[0m\u001b[0;34m\u001b[0m\u001b[0m\n\u001b[0m\u001b[1;32m      3\u001b[0m \u001b[0msmall_mbs_dd\u001b[0m\u001b[0;34m[\u001b[0m\u001b[0mk\u001b[0m\u001b[0;34m]\u001b[0m\u001b[0;34m.\u001b[0m\u001b[0miloc\u001b[0m\u001b[0;34m[\u001b[0m\u001b[0;34m:\u001b[0m\u001b[0mfirst_dd\u001b[0m\u001b[0;34m,\u001b[0m\u001b[0;34m:\u001b[0m\u001b[0;34m]\u001b[0m\u001b[0;34m\u001b[0m\u001b[0m\n",
      "\u001b[0;31mIndexError\u001b[0m: index 0 is out of bounds for axis 0 with size 0"
     ]
    }
   ],
   "source": [
    "k = mbs\n",
    "first_dd = np.where(___MBS_FILES_DICT__[k]['ITEM'].isin(dd))[0][0]\n",
    "small_mbs_dd[k].iloc[:first_dd,:]"
   ]
  },
  {
   "cell_type": "code",
   "execution_count": 32,
   "metadata": {},
   "outputs": [
    {
     "data": {
      "text/plain": [
       "(array([], dtype=int64),)"
      ]
     },
     "execution_count": 32,
     "metadata": {},
     "output_type": "execute_result"
    }
   ],
   "source": [
    "np.where(___MBS_FILES_DICT__[k]['ITEM'].isin(dd))"
   ]
  },
  {
   "cell_type": "code",
   "execution_count": 9,
   "metadata": {},
   "outputs": [],
   "source": [
    "pregnancy_items = set(pd.read_csv(os.path.join('../mbspbs10pc/data', 'pregnancy_items.csv'),\n",
    "                                  header=0, usecols=['ITEM']).values.ravel())"
   ]
  },
  {
   "cell_type": "code",
   "execution_count": 10,
   "metadata": {},
   "outputs": [
    {
     "data": {
      "text/plain": [
       "{4001, 81000, 81005, 81010}"
      ]
     },
     "execution_count": 10,
     "metadata": {},
     "output_type": "execute_result"
    }
   ],
   "source": [
    "pregnancy_items"
   ]
  },
  {
   "cell_type": "code",
   "execution_count": 20,
   "metadata": {},
   "outputs": [
    {
     "data": {
      "text/plain": [
       "(array([  208009,   209809,   222002,   223802,   231002,   399054,\n",
       "          443996,   601876,   839473,  1012142,  1038529,  1228857,\n",
       "         1587235,  1726866,  1730826,  1805644,  2136829,  2147533,\n",
       "         2223407,  2397637,  2491529,  2524660,  2567537,  2618430,\n",
       "         2622750,  2723199,  2791647,  2837473,  2895516,  2907036,\n",
       "         3048537,  3089325,  3089685,  3229601,  3549188,  3657088,\n",
       "         3854810,  3986901,  4140292,  4397293,  4475485,  4553401,\n",
       "         4558081,  4755813,  4760493,  4764453,  4950280,  4958560,\n",
       "         5005254,  5013534,  5021814,  5088953,  5400311,  5404978,\n",
       "         5430448,  5595296,  5636136,  5706406,  5706543,  5870322,\n",
       "         6042594,  6050154,  6161772,  6463228,  6897615,  6943585,\n",
       "         6945025,  7300697,  7309007,  7434469,  7442905,  7643144,\n",
       "         7989906,  8249070,  8261593,  8263753,  8308552,  8369820,\n",
       "         8400288,  8418279,  8486433,  8488593,  8494494,  8512803,\n",
       "         8955095,  8960495,  9185214,  9221666,  9268490,  9280010,\n",
       "         9401672,  9407432,  9439227,  9473513,  9474233,  9613878,\n",
       "        10115911, 10118071, 10169183, 10228040, 10233080, 10301899,\n",
       "        10845631, 10901375, 10902815, 10990200, 10993080, 11075775,\n",
       "        11077935, 11078295, 11149176, 11151336, 11233518, 11351654,\n",
       "        11446381, 11446604, 11452502, 11488414, 11608026, 12151288,\n",
       "        12220795, 12236577, 12359443, 12460827, 12462627, 12539628,\n",
       "        12553229, 12559349, 12571229, 12682077, 13110744, 13299301,\n",
       "        13418740, 13474560, 13597890, 13835013, 13981031, 14400097,\n",
       "        14456135, 14508081, 14532201, 14541201, 14661264, 14703387,\n",
       "        14965493, 14970533, 15222951, 15223671, 15442067, 15452613,\n",
       "        15456706, 15545122, 15721389, 15758232, 15760392, 15775152,\n",
       "        15906806, 16000852, 16297101, 16328680, 16330840, 16331920,\n",
       "        16499115, 16601680, 16861664, 16965802, 16978402, 17712585,\n",
       "        17714745, 17858151, 18185926, 18513398, 18556746, 18788598,\n",
       "        19072640, 19213490, 19241630, 19259270, 19281430, 19417686,\n",
       "        19764259, 20045033, 20045393, 20062964, 20063033, 20075633,\n",
       "        20090061, 20156121, 20309980, 20334835, 20361923, 20604701,\n",
       "        20652474, 20749004, 20768270, 21047421, 21353611, 21403900,\n",
       "        21539874, 21677729, 21969179, 22253705, 22258745, 22386707,\n",
       "        22535427, 22675818, 22678698, 22859555, 23013068, 23022788,\n",
       "        23055136, 23064496, 23309932, 23537690, 23583555, 23607130,\n",
       "        23618369, 23618729, 23757093, 23886798, 23926972, 23932376,\n",
       "        24046993, 24089437, 24115221, 24308007, 24449875, 24452575,\n",
       "        24455635, 24623634, 24852606, 25016599, 25018759, 25107722,\n",
       "        25221060, 25295154, 25295303, 25406128, 25567808, 25578099,\n",
       "        25661645, 25788242, 25826671, 26112264, 26246409, 26271001,\n",
       "        26358449, 26363129, 26380486, 26436252, 26596617, 26747250,\n",
       "        26821582, 26998134, 27002846, 27011126, 27146292, 27160557,\n",
       "        27163437, 27167342, 27172437, 27175629, 27329395, 27453053,\n",
       "        27461863, 27480929, 27485249, 27487769, 27718294, 27996840,\n",
       "        28092620, 28109813, 28192681, 28436267, 28567481, 28635021,\n",
       "        28636821, 28757563, 28759723, 28903248, 28922251, 28996927,\n",
       "        29135096, 29170173, 29199643, 29210083, 29260784, 29444685,\n",
       "        29646675, 29648115, 29968455, 30016729, 30157481, 30241223,\n",
       "        30245543, 30458821, 30491584, 30536239, 30573965, 30630164,\n",
       "        30815965, 30902736, 31243812, 31293012, 31434300, 31437666,\n",
       "        31651590, 31682394, 31879411, 31986689, 32371027, 32372467,\n",
       "        32438908, 32627232, 32663677, 32985289, 33047221, 33077359,\n",
       "        33086356, 33288610, 33289661, 33289690, 33292210, 33368918,\n",
       "        33426398, 33555569, 33557009, 33611983, 33684664, 33727184,\n",
       "        33783224, 33799705, 33841090, 34015963, 34016683, 34041371,\n",
       "        34146711, 34470623, 34484142, 34540014, 34681380, 34756170,\n",
       "        34765890, 35008182, 35011782, 35047236, 35079531, 35214754,\n",
       "        35364376, 35385569, 35580531, 35581611, 35587371, 35627259,\n",
       "        35672910, 35677590, 35680110, 35763026, 35768066, 36013886,\n",
       "        36074100, 36074820, 36079140, 36094212, 36094932, 36100692,\n",
       "        36118317, 36124437, 36168454, 36233049, 36305127, 36518141,\n",
       "        36631462, 36818981, 36822581, 36835181, 36840941, 36847388,\n",
       "        36985910, 37034207, 37047887, 37048607, 37353044, 37355204,\n",
       "        37535991, 37650365, 37843839, 38011904, 38016699, 38319014,\n",
       "        38389320, 38431294, 38564341, 38905365, 39038516, 39200071,\n",
       "        39203631, 39213001, 39219061, 39452102, 39466444, 39822037,\n",
       "        40087682, 40134785, 40202441, 40210082, 40721399, 40906112,\n",
       "        40906192, 40906272, 40907464, 40922318, 40922886, 40950120]),)"
      ]
     },
     "execution_count": 20,
     "metadata": {},
     "output_type": "execute_result"
    }
   ],
   "source": [
    "np.where(dd['ITEM'].isin(pregnancy_items))"
   ]
  },
  {
   "cell_type": "code",
   "execution_count": null,
   "metadata": {},
   "outputs": [],
   "source": []
  },
  {
   "cell_type": "code",
   "execution_count": null,
   "metadata": {},
   "outputs": [],
   "source": []
  },
  {
   "cell_type": "code",
   "execution_count": null,
   "metadata": {},
   "outputs": [],
   "source": []
  },
  {
   "cell_type": "code",
   "execution_count": 16,
   "metadata": {},
   "outputs": [],
   "source": [
    "imap = pd.read_csv('../data/imap.tsv', sep='\\t', header=0,\n",
    "                   usecols=['ITEM', 'BTOS'])"
   ]
  },
  {
   "cell_type": "code",
   "execution_count": 23,
   "metadata": {},
   "outputs": [
    {
     "data": {
      "text/html": [
       "<div>\n",
       "<style scoped>\n",
       "    .dataframe tbody tr th:only-of-type {\n",
       "        vertical-align: middle;\n",
       "    }\n",
       "\n",
       "    .dataframe tbody tr th {\n",
       "        vertical-align: top;\n",
       "    }\n",
       "\n",
       "    .dataframe thead th {\n",
       "        text-align: right;\n",
       "    }\n",
       "</style>\n",
       "<table border=\"1\" class=\"dataframe\">\n",
       "  <thead>\n",
       "    <tr style=\"text-align: right;\">\n",
       "      <th></th>\n",
       "      <th>PIN</th>\n",
       "      <th>DOS</th>\n",
       "      <th>ITEM</th>\n",
       "      <th>BTOS</th>\n",
       "    </tr>\n",
       "  </thead>\n",
       "  <tbody>\n",
       "    <tr>\n",
       "      <th>0</th>\n",
       "      <td>1779689312</td>\n",
       "      <td>14JUL2014</td>\n",
       "      <td>23</td>\n",
       "      <td>101</td>\n",
       "    </tr>\n",
       "    <tr>\n",
       "      <th>1</th>\n",
       "      <td>7359101341</td>\n",
       "      <td>08OCT2014</td>\n",
       "      <td>23</td>\n",
       "      <td>101</td>\n",
       "    </tr>\n",
       "    <tr>\n",
       "      <th>2</th>\n",
       "      <td>8948401274</td>\n",
       "      <td>25DEC2014</td>\n",
       "      <td>10991</td>\n",
       "      <td>1100</td>\n",
       "    </tr>\n",
       "    <tr>\n",
       "      <th>3</th>\n",
       "      <td>6745255963</td>\n",
       "      <td>03JUL2014</td>\n",
       "      <td>23</td>\n",
       "      <td>101</td>\n",
       "    </tr>\n",
       "    <tr>\n",
       "      <th>4</th>\n",
       "      <td>4116763637</td>\n",
       "      <td>04OCT2014</td>\n",
       "      <td>302</td>\n",
       "      <td>200</td>\n",
       "    </tr>\n",
       "  </tbody>\n",
       "</table>\n",
       "</div>"
      ],
      "text/plain": [
       "          PIN        DOS   ITEM  BTOS\n",
       "0  1779689312  14JUL2014     23   101\n",
       "1  7359101341  08OCT2014     23   101\n",
       "2  8948401274  25DEC2014  10991  1100\n",
       "3  6745255963  03JUL2014     23   101\n",
       "4  4116763637  04OCT2014    302   200"
      ]
     },
     "execution_count": 23,
     "metadata": {},
     "output_type": "execute_result"
    }
   ],
   "source": [
    "# dd.join(imap, on='ITEM', how='left')\n",
    "cc = pd.merge(dd, imap, how='left', on='ITEM')\n",
    "cc.head()"
   ]
  },
  {
   "cell_type": "code",
   "execution_count": 25,
   "metadata": {},
   "outputs": [
    {
     "data": {
      "text/plain": [
       "(47166827, 3)"
      ]
     },
     "execution_count": 25,
     "metadata": {},
     "output_type": "execute_result"
    }
   ],
   "source": [
    "dd.shape"
   ]
  },
  {
   "cell_type": "code",
   "execution_count": 18,
   "metadata": {},
   "outputs": [
    {
     "data": {
      "text/plain": [
       "Index([u'PIN', u'DOS', u'ITEM'], dtype='object')"
      ]
     },
     "execution_count": 18,
     "metadata": {},
     "output_type": "execute_result"
    }
   ],
   "source": [
    "dd.columns"
   ]
  },
  {
   "cell_type": "code",
   "execution_count": 56,
   "metadata": {},
   "outputs": [],
   "source": [
    "mbs_dd = ___MBS_FILES_DICT__"
   ]
  },
  {
   "cell_type": "code",
   "execution_count": null,
   "metadata": {},
   "outputs": [],
   "source": [
    "raw_data = dict()"
   ]
  },
  {
   "cell_type": "code",
   "execution_count": 103,
   "metadata": {},
   "outputs": [],
   "source": [
    "split = set(splits[0].ravel())"
   ]
  },
  {
   "cell_type": "code",
   "execution_count": 197,
   "metadata": {},
   "outputs": [],
   "source": [
    "import time"
   ]
  },
  {
   "cell_type": "code",
   "execution_count": 199,
   "metadata": {},
   "outputs": [],
   "source": [
    "import warnings\n",
    "warnings.filterwarnings('ignore')"
   ]
  },
  {
   "cell_type": "code",
   "execution_count": 200,
   "metadata": {},
   "outputs": [
    {
     "name": "stderr",
     "output_type": "stream",
     "text": [
      "100%|██████████| 7/7 [01:54<00:00, 16.37s/it]\n",
      "100%|██████████| 7912/7912 [02:08<00:00, 61.80it/s]"
     ]
    },
    {
     "name": "stdout",
     "output_type": "stream",
     "text": [
      "242.623284817\n"
     ]
    },
    {
     "name": "stderr",
     "output_type": "stream",
     "text": [
      "\n"
     ]
    }
   ],
   "source": [
    "t1 = time.time()\n",
    "raw_data = dict()\n",
    "\n",
    "# Pre-filter: keep only the elements of mbs_dd that are in the current split\n",
    "# this helps in reducing the time of the next step\n",
    "small_mbs_dd = dict()\n",
    "for k in tqdm(sorted(mbs_dd.keys())):\n",
    "    # keep only a subset of the full MBS data\n",
    "    small_mbs_dd[k] = mbs_dd[k].loc[mbs_dd[k]['PIN'].isin(split)]\n",
    "    # change format to the right datetime format (this is gonna be useful later)\n",
    "    small_mbs_dd[k].loc[:,'DOS'] = pd.to_datetime(small_mbs_dd[k]['DOS'], format='%d%b%Y')    \n",
    "    # and sort by date\n",
    "    small_mbs_dd[k].sort_values(by='DOS', inplace=True)\n",
    "\n",
    "# Now track down each patient in the reduced MBS files\n",
    "for s in tqdm(split):\n",
    "    tmp = pd.DataFrame(columns=['PIN', 'DOS', 'SPR_RSP'])\n",
    "    for k in sorted(mbs_dd.keys()):\n",
    "        tmp = pd.concat((tmp, small_mbs_dd[k].loc[small_mbs_dd[k]['PIN'] == s]))\n",
    "        \n",
    "    # evaluate the first order difference and convert each entry in days\n",
    "    timedeltas = map(lambda x: pd.Timedelta(x).days, tmp['DOS'].values[1:] - tmp['DOS'].values[:-1])\n",
    "    # then build the sequence as ['exam', idle-days, 'exam', idle-days, ...]\n",
    "    raw_data[s] = flatten([[str(spr_rsp), dt] for spr_rsp, dt in zip(tmp['SPR_RSP'].values, timedeltas)])\n",
    "    raw_data[s].append(str(tmp['SPR_RSP'].values[-1]))\n",
    "    \n",
    "t2 = time.time()\n",
    "print(t2-t1)"
   ]
  },
  {
   "cell_type": "code",
   "execution_count": 208,
   "metadata": {},
   "outputs": [],
   "source": [
    "import multiprocessing as mp"
   ]
  },
  {
   "cell_type": "code",
   "execution_count": 209,
   "metadata": {},
   "outputs": [
    {
     "data": {
      "text/plain": [
       "<multiprocessing.pool.ThreadPool at 0x7fb6c1e5ea90>"
      ]
     },
     "execution_count": 209,
     "metadata": {},
     "output_type": "execute_result"
    }
   ],
   "source": [
    "mp.pool.ThreadPool()"
   ]
  },
  {
   "cell_type": "code",
   "execution_count": 210,
   "metadata": {},
   "outputs": [
    {
     "name": "stdout",
     "output_type": "stream",
     "text": [
      "megazord\r\n"
     ]
    }
   ],
   "source": [
    "!hostname"
   ]
  },
  {
   "cell_type": "code",
   "execution_count": 211,
   "metadata": {},
   "outputs": [
    {
     "data": {
      "text/plain": [
       "'posix'"
      ]
     },
     "execution_count": 211,
     "metadata": {},
     "output_type": "execute_result"
    }
   ],
   "source": [
    "os.name"
   ]
  },
  {
   "cell_type": "code",
   "execution_count": 212,
   "metadata": {},
   "outputs": [],
   "source": [
    "dd = pkl.load(open('../tmp/dump_class_0__raw_data_.pkl','rb'))"
   ]
  },
  {
   "cell_type": "code",
   "execution_count": 213,
   "metadata": {},
   "outputs": [],
   "source": [
    "raw_data = dd['raw_data']"
   ]
  },
  {
   "cell_type": "code",
   "execution_count": 224,
   "metadata": {},
   "outputs": [
    {
     "data": {
      "text/plain": [
       "Counter({10: 2,\n",
       "         21: 105,\n",
       "         32: 1,\n",
       "         47: 8,\n",
       "         51: 2,\n",
       "         54: 5,\n",
       "         90: 4,\n",
       "         93: 14,\n",
       "         104: 12,\n",
       "         117: 29,\n",
       "         130: 28,\n",
       "         186: 2,\n",
       "         448: 2,\n",
       "         550: 8})"
      ]
     },
     "execution_count": 224,
     "metadata": {},
     "output_type": "execute_result"
    }
   ],
   "source": [
    "from collections import Counter\n",
    "Counter(raw_data[9061269504][::2])"
   ]
  },
  {
   "cell_type": "code",
   "execution_count": 225,
   "metadata": {},
   "outputs": [
    {
     "data": {
      "text/plain": [
       "<Container object of 3 artists>"
      ]
     },
     "execution_count": 225,
     "metadata": {},
     "output_type": "execute_result"
    },
    {
     "data": {
      "image/png": "[encoded data removed]",
      "text/plain": [
       "<matplotlib.figure.Figure at 0x7fb6baf96cd0>"
      ]
     },
     "metadata": {},
     "output_type": "display_data"
    }
   ],
   "source": [
    "plt.stem(raw_data[9061269504][1::2])"
   ]
  },
  {
   "cell_type": "code",
   "execution_count": 216,
   "metadata": {},
   "outputs": [],
   "source": [
    "import matplotlib.pyplot as plt\n",
    "%matplotlib inline"
   ]
  },
  {
   "cell_type": "code",
   "execution_count": 221,
   "metadata": {},
   "outputs": [
    {
     "data": {
      "text/plain": [
       "array([ 2,  4,  6,  8, 10])"
      ]
     },
     "execution_count": 221,
     "metadata": {},
     "output_type": "execute_result"
    }
   ],
   "source": [
    "np.arange(1, 11)[1::2]"
   ]
  },
  {
   "cell_type": "code",
   "execution_count": 24,
   "metadata": {},
   "outputs": [
    {
     "data": {
      "text/html": [
       "<div>\n",
       "<style scoped>\n",
       "    .dataframe tbody tr th:only-of-type {\n",
       "        vertical-align: middle;\n",
       "    }\n",
       "\n",
       "    .dataframe tbody tr th {\n",
       "        vertical-align: top;\n",
       "    }\n",
       "\n",
       "    .dataframe thead th {\n",
       "        text-align: right;\n",
       "    }\n",
       "</style>\n",
       "<table border=\"1\" class=\"dataframe\">\n",
       "  <thead>\n",
       "    <tr style=\"text-align: right;\">\n",
       "      <th></th>\n",
       "      <th>PIN</th>\n",
       "      <th>DOS</th>\n",
       "      <th>ITEM</th>\n",
       "    </tr>\n",
       "  </thead>\n",
       "  <tbody>\n",
       "    <tr>\n",
       "      <th>1</th>\n",
       "      <td>2661651352</td>\n",
       "      <td>2008-01-24</td>\n",
       "      <td>73928</td>\n",
       "    </tr>\n",
       "    <tr>\n",
       "      <th>6</th>\n",
       "      <td>3990912150</td>\n",
       "      <td>2008-04-24</td>\n",
       "      <td>105</td>\n",
       "    </tr>\n",
       "    <tr>\n",
       "      <th>8</th>\n",
       "      <td>84860956</td>\n",
       "      <td>2008-04-25</td>\n",
       "      <td>10916</td>\n",
       "    </tr>\n",
       "    <tr>\n",
       "      <th>0</th>\n",
       "      <td>1779689312</td>\n",
       "      <td>2008-08-11</td>\n",
       "      <td>36</td>\n",
       "    </tr>\n",
       "    <tr>\n",
       "      <th>3</th>\n",
       "      <td>6745255963</td>\n",
       "      <td>2008-09-24</td>\n",
       "      <td>10991</td>\n",
       "    </tr>\n",
       "    <tr>\n",
       "      <th>7</th>\n",
       "      <td>7336900023</td>\n",
       "      <td>2008-10-09</td>\n",
       "      <td>23</td>\n",
       "    </tr>\n",
       "    <tr>\n",
       "      <th>9</th>\n",
       "      <td>4256465417</td>\n",
       "      <td>2008-10-23</td>\n",
       "      <td>73938</td>\n",
       "    </tr>\n",
       "    <tr>\n",
       "      <th>2</th>\n",
       "      <td>8948401274</td>\n",
       "      <td>2008-11-24</td>\n",
       "      <td>23</td>\n",
       "    </tr>\n",
       "    <tr>\n",
       "      <th>4</th>\n",
       "      <td>5742193063</td>\n",
       "      <td>2008-12-04</td>\n",
       "      <td>105</td>\n",
       "    </tr>\n",
       "    <tr>\n",
       "      <th>5</th>\n",
       "      <td>1101768849</td>\n",
       "      <td>2008-12-23</td>\n",
       "      <td>65120</td>\n",
       "    </tr>\n",
       "  </tbody>\n",
       "</table>\n",
       "</div>"
      ],
      "text/plain": [
       "          PIN        DOS   ITEM\n",
       "1  2661651352 2008-01-24  73928\n",
       "6  3990912150 2008-04-24    105\n",
       "8    84860956 2008-04-25  10916\n",
       "0  1779689312 2008-08-11     36\n",
       "3  6745255963 2008-09-24  10991\n",
       "7  7336900023 2008-10-09     23\n",
       "9  4256465417 2008-10-23  73938\n",
       "2  8948401274 2008-11-24     23\n",
       "4  5742193063 2008-12-04    105\n",
       "5  1101768849 2008-12-23  65120"
      ]
     },
     "execution_count": 24,
     "metadata": {},
     "output_type": "execute_result"
    }
   ],
   "source": [
    "dd = pd.read_csv('../../../data/MBS_SAMPLE_10PCT_2008.csv',\n",
    "                 header=0, usecols=['PIN', 'ITEM', 'DOS'],\n",
    "                 nrows=10)\n",
    "dd['DOS'] = pd.to_datetime(dd['DOS'], format='%d%b%Y')\n",
    "dd.sort_values(by='DOS', inplace=True)\n",
    "dd"
   ]
  },
  {
   "cell_type": "code",
   "execution_count": 25,
   "metadata": {},
   "outputs": [
    {
     "data": {
      "text/plain": [
       "numpy.datetime64('2008-08-11T00:00:00.000000000')"
      ]
     },
     "execution_count": 25,
     "metadata": {},
     "output_type": "execute_result"
    }
   ],
   "source": [
    "date = dd['DOS'].values[3]\n",
    "date"
   ]
  },
  {
   "cell_type": "code",
   "execution_count": 29,
   "metadata": {},
   "outputs": [
    {
     "data": {
      "text/html": [
       "<div>\n",
       "<style scoped>\n",
       "    .dataframe tbody tr th:only-of-type {\n",
       "        vertical-align: middle;\n",
       "    }\n",
       "\n",
       "    .dataframe tbody tr th {\n",
       "        vertical-align: top;\n",
       "    }\n",
       "\n",
       "    .dataframe thead th {\n",
       "        text-align: right;\n",
       "    }\n",
       "</style>\n",
       "<table border=\"1\" class=\"dataframe\">\n",
       "  <thead>\n",
       "    <tr style=\"text-align: right;\">\n",
       "      <th></th>\n",
       "      <th>PIN</th>\n",
       "      <th>DOS</th>\n",
       "      <th>ITEM</th>\n",
       "    </tr>\n",
       "  </thead>\n",
       "  <tbody>\n",
       "    <tr>\n",
       "      <th>3</th>\n",
       "      <td>6745255963</td>\n",
       "      <td>2008-09-24</td>\n",
       "      <td>10991</td>\n",
       "    </tr>\n",
       "    <tr>\n",
       "      <th>7</th>\n",
       "      <td>7336900023</td>\n",
       "      <td>2008-10-09</td>\n",
       "      <td>23</td>\n",
       "    </tr>\n",
       "    <tr>\n",
       "      <th>9</th>\n",
       "      <td>4256465417</td>\n",
       "      <td>2008-10-23</td>\n",
       "      <td>73938</td>\n",
       "    </tr>\n",
       "    <tr>\n",
       "      <th>2</th>\n",
       "      <td>8948401274</td>\n",
       "      <td>2008-11-24</td>\n",
       "      <td>23</td>\n",
       "    </tr>\n",
       "    <tr>\n",
       "      <th>4</th>\n",
       "      <td>5742193063</td>\n",
       "      <td>2008-12-04</td>\n",
       "      <td>105</td>\n",
       "    </tr>\n",
       "    <tr>\n",
       "      <th>5</th>\n",
       "      <td>1101768849</td>\n",
       "      <td>2008-12-23</td>\n",
       "      <td>65120</td>\n",
       "    </tr>\n",
       "  </tbody>\n",
       "</table>\n",
       "</div>"
      ],
      "text/plain": [
       "          PIN        DOS   ITEM\n",
       "3  6745255963 2008-09-24  10991\n",
       "7  7336900023 2008-10-09     23\n",
       "9  4256465417 2008-10-23  73938\n",
       "2  8948401274 2008-11-24     23\n",
       "4  5742193063 2008-12-04    105\n",
       "5  1101768849 2008-12-23  65120"
      ]
     },
     "execution_count": 29,
     "metadata": {},
     "output_type": "execute_result"
    }
   ],
   "source": [
    "dd[dd['DOS'] > date]"
   ]
  },
  {
   "cell_type": "code",
   "execution_count": 21,
   "metadata": {},
   "outputs": [
    {
     "data": {
      "text/plain": [
       "array([1779689312, '11AUG2008', 36], dtype=object)"
      ]
     },
     "execution_count": 21,
     "metadata": {},
     "output_type": "execute_result"
    }
   ],
   "source": [
    "dd.values[0]"
   ]
  },
  {
   "cell_type": "code",
   "execution_count": 77,
   "metadata": {},
   "outputs": [
    {
     "data": {
      "text/html": [
       "<div>\n",
       "<style scoped>\n",
       "    .dataframe tbody tr th:only-of-type {\n",
       "        vertical-align: middle;\n",
       "    }\n",
       "\n",
       "    .dataframe tbody tr th {\n",
       "        vertical-align: top;\n",
       "    }\n",
       "\n",
       "    .dataframe thead th {\n",
       "        text-align: right;\n",
       "    }\n",
       "</style>\n",
       "<table border=\"1\" class=\"dataframe\">\n",
       "  <thead>\n",
       "    <tr style=\"text-align: right;\">\n",
       "      <th></th>\n",
       "      <th>PIN</th>\n",
       "      <th>DOS</th>\n",
       "      <th>ITEM</th>\n",
       "    </tr>\n",
       "  </thead>\n",
       "  <tbody>\n",
       "    <tr>\n",
       "      <th>0</th>\n",
       "      <td>1779689312</td>\n",
       "      <td>11AUG2008</td>\n",
       "      <td>36</td>\n",
       "    </tr>\n",
       "    <tr>\n",
       "      <th>1</th>\n",
       "      <td>2661651352</td>\n",
       "      <td>24JAN2008</td>\n",
       "      <td>73928</td>\n",
       "    </tr>\n",
       "    <tr>\n",
       "      <th>2</th>\n",
       "      <td>8948401274</td>\n",
       "      <td>24NOV2008</td>\n",
       "      <td>23</td>\n",
       "    </tr>\n",
       "    <tr>\n",
       "      <th>3</th>\n",
       "      <td>6745255963</td>\n",
       "      <td>24SEP2008</td>\n",
       "      <td>10991</td>\n",
       "    </tr>\n",
       "    <tr>\n",
       "      <th>4</th>\n",
       "      <td>5742193063</td>\n",
       "      <td>04DEC2008</td>\n",
       "      <td>105</td>\n",
       "    </tr>\n",
       "    <tr>\n",
       "      <th>5</th>\n",
       "      <td>1101768849</td>\n",
       "      <td>23DEC2008</td>\n",
       "      <td>65120</td>\n",
       "    </tr>\n",
       "    <tr>\n",
       "      <th>6</th>\n",
       "      <td>3990912150</td>\n",
       "      <td>24APR2008</td>\n",
       "      <td>105</td>\n",
       "    </tr>\n",
       "    <tr>\n",
       "      <th>7</th>\n",
       "      <td>7336900023</td>\n",
       "      <td>09OCT2008</td>\n",
       "      <td>23</td>\n",
       "    </tr>\n",
       "    <tr>\n",
       "      <th>8</th>\n",
       "      <td>84860956</td>\n",
       "      <td>25APR2008</td>\n",
       "      <td>10916</td>\n",
       "    </tr>\n",
       "    <tr>\n",
       "      <th>9</th>\n",
       "      <td>4256465417</td>\n",
       "      <td>23OCT2008</td>\n",
       "      <td>73938</td>\n",
       "    </tr>\n",
       "  </tbody>\n",
       "</table>\n",
       "</div>"
      ],
      "text/plain": [
       "          PIN        DOS   ITEM\n",
       "0  1779689312  11AUG2008     36\n",
       "1  2661651352  24JAN2008  73928\n",
       "2  8948401274  24NOV2008     23\n",
       "3  6745255963  24SEP2008  10991\n",
       "4  5742193063  04DEC2008    105\n",
       "5  1101768849  23DEC2008  65120\n",
       "6  3990912150  24APR2008    105\n",
       "7  7336900023  09OCT2008     23\n",
       "8    84860956  25APR2008  10916\n",
       "9  4256465417  23OCT2008  73938"
      ]
     },
     "execution_count": 77,
     "metadata": {},
     "output_type": "execute_result"
    }
   ],
   "source": []
  },
  {
   "cell_type": "code",
   "execution_count": null,
   "metadata": {},
   "outputs": [],
   "source": []
  }
 ],
 "metadata": {
  "kernelspec": {
   "display_name": "Python 2",
   "language": "python",
   "name": "python2"
  },
  "language_info": {
   "codemirror_mode": {
    "name": "ipython",
    "version": 2
   },
   "file_extension": ".py",
   "mimetype": "text/x-python",
   "name": "python",
   "nbconvert_exporter": "python",
   "pygments_lexer": "ipython2",
   "version": "2.7.14"
  }
 },
 "nbformat": 4,
 "nbformat_minor": 2
}
