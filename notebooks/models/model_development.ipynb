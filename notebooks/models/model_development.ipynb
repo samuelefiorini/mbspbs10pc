{
 "cells": [
  {
   "cell_type": "code",
   "execution_count": 1,
   "metadata": {},
   "outputs": [
    {
     "name": "stderr",
     "output_type": "stream",
     "text": [
      "Using TensorFlow backend.\n"
     ]
    }
   ],
   "source": [
    "# import tensorflow as tf\n",
    "# tf.enable_eager_execution()\n",
    "\n",
    "%matplotlib inline\n",
    "import pandas as pd\n",
    "import numpy as np\n",
    "import joblib as jl\n",
    "import matplotlib.pyplot as plt\n",
    "import warnings\n",
    "warnings.filterwarnings('ignore')\n",
    "\n",
    "from sklearn.model_selection import StratifiedShuffleSplit\n",
    "from sklearn import metrics\n",
    "\n",
    "from keras.preprocessing.text import Tokenizer\n",
    "from keras.preprocessing.sequence import pad_sequences\n",
    "\n",
    "import mbspbs10pc.model as mbs_model\n",
    "from mbspbs10pc import read_activations, utils\n",
    "reload(read_activations)\n",
    "reload(utils);\n",
    "\n",
    "root = 'dl'"
   ]
  },
  {
   "cell_type": "markdown",
   "metadata": {},
   "source": [
    "# Load raw data"
   ]
  },
  {
   "cell_type": "code",
   "execution_count": 2,
   "metadata": {},
   "outputs": [],
   "source": [
    "labelsfile = '../../tmp/1_METONLY_vs_METX/matched_CEM_table.csv'\n",
    "datafile = '../../tmp/item_days_raw_data_.pkl'\n",
    "dataset = utils.load_data_labels(datafile, labelsfile)\n",
    "padded_mbs_seq, padded_timestamp_seq, _ = utils.tokenize(dataset)\n",
    "maxlen = padded_mbs_seq.shape[1]\n",
    "\n",
    "# Split in training, validation, test sets\n",
    "tr_set, v_set, ts_set = utils.train_validation_test_split(\n",
    "    [padded_mbs_seq, padded_timestamp_seq], dataset['Class'],\n",
    "    test_size=0.4, validation_size=0.1,\n",
    "    verbose=False)"
   ]
  },
  {
   "cell_type": "code",
   "execution_count": 3,
   "metadata": {},
   "outputs": [
    {
     "data": {
      "text/plain": [
       "(6341, 250)"
      ]
     },
     "execution_count": 3,
     "metadata": {},
     "output_type": "execute_result"
    }
   ],
   "source": [
    "tr_set[0][0].shape"
   ]
  },
  {
   "cell_type": "markdown",
   "metadata": {},
   "source": [
    "# Init embedding matrix"
   ]
  },
  {
   "cell_type": "code",
   "execution_count": 4,
   "metadata": {},
   "outputs": [
    {
     "data": {
      "text/plain": [
       "(2774, 50)"
      ]
     },
     "execution_count": 4,
     "metadata": {},
     "output_type": "execute_result"
    }
   ],
   "source": [
    "D = 50\n",
    "embedding = pd.read_csv('../../tmp/embedding.{}d.csv'.format(D), header=0, index_col=0)\n",
    "embedding_matrix = embedding.values\n",
    "embedding_matrix.shape"
   ]
  },
  {
   "cell_type": "markdown",
   "metadata": {},
   "source": [
    "# Model"
   ]
  },
  {
   "cell_type": "code",
   "execution_count": 26,
   "metadata": {},
   "outputs": [
    {
     "name": "stdout",
     "output_type": "stream",
     "text": [
      "('hx: ', TensorShape([Dimension(None), Dimension(250), Dimension(64)]))\n",
      "('tx: ', TensorShape([Dimension(None), Dimension(250), Dimension(64)]))\n",
      "('gamma: ', TensorShape([Dimension(None), Dimension(250), Dimension(128)]))\n",
      "('beta: ', TensorShape([Dimension(None), Dimension(250), Dimension(128)]))\n",
      "('delta: ', TensorShape([Dimension(None), Dimension(250), Dimension(128)]))\n",
      "('alpha: ', TensorShape([Dimension(None), Dimension(250), Dimension(64)]))\n"
     ]
    }
   ],
   "source": [
    "from keras.layers import CuDNNLSTM\n",
    "reload(mbs_model);\n",
    "\n",
    "model = mbs_model.build_model(mbs_input_shape=(maxlen,),\n",
    "                              timestamp_input_shape=(maxlen, 1),\n",
    "                              vocabulary_size=2774,\n",
    "                              embedding_size=50,\n",
    "                              recurrent_units=32,\n",
    "                              dense_units=32,\n",
    "                              attention_units=128,\n",
    "                              bidirectional=True,\n",
    "                              LSTMLayer=CuDNNLSTM)"
   ]
  },
  {
   "cell_type": "code",
   "execution_count": 27,
   "metadata": {},
   "outputs": [],
   "source": [
    "from keras import optimizers as opt\n",
    "model.compile(optimizer=opt.RMSprop(lr=0.01),\n",
    "              loss='binary_crossentropy',\n",
    "              metrics=['acc'])"
   ]
  },
  {
   "cell_type": "code",
   "execution_count": 28,
   "metadata": {},
   "outputs": [],
   "source": [
    "# model.get_layer('mbs_embedding').set_weights([embedding_matrix])\n",
    "# model.get_layer('mbs_embedding').trainable = True"
   ]
  },
  {
   "cell_type": "code",
   "execution_count": 29,
   "metadata": {},
   "outputs": [
    {
     "name": "stdout",
     "output_type": "stream",
     "text": [
      "__________________________________________________________________________________________________\n",
      "Layer (type)                    Output Shape         Param #     Connected to                     \n",
      "==================================================================================================\n",
      "mbs_input (InputLayer)          (None, 250)          0                                            \n",
      "__________________________________________________________________________________________________\n",
      "mbs_embedding (Embedding)       (None, 250, 50)      138700      mbs_input[0][0]                  \n",
      "__________________________________________________________________________________________________\n",
      "timestamp_input (InputLayer)    (None, 250, 1)       0                                            \n",
      "__________________________________________________________________________________________________\n",
      "mbs_lstm (Bidirectional)        (None, 250, 64)      21504       mbs_embedding[0][0]              \n",
      "__________________________________________________________________________________________________\n",
      "timestamp_lstm (Bidirectional)  (None, 250, 64)      8960        timestamp_input[0][0]            \n",
      "__________________________________________________________________________________________________\n",
      "tsg_attention (TimestampGuidedA (None, 250, 64)      24832       mbs_lstm[0][0]                   \n",
      "                                                                 timestamp_lstm[0][0]             \n",
      "__________________________________________________________________________________________________\n",
      "contribution (Multiply)         (None, 250, 64)      0           tsg_attention[0][0]              \n",
      "                                                                 mbs_lstm[0][0]                   \n",
      "__________________________________________________________________________________________________\n",
      "context (Dot)                   (None, 64, 50)       0           contribution[0][0]               \n",
      "                                                                 mbs_embedding[0][0]              \n",
      "__________________________________________________________________________________________________\n",
      "pooling (GlobalAveragePooling1D (None, 50)           0           context[0][0]                    \n",
      "__________________________________________________________________________________________________\n",
      "dropout_13 (Dropout)            (None, 50)           0           pooling[0][0]                    \n",
      "__________________________________________________________________________________________________\n",
      "fc (Dense)                      (None, 32)           1632        dropout_13[0][0]                 \n",
      "__________________________________________________________________________________________________\n",
      "dropout_14 (Dropout)            (None, 32)           0           fc[0][0]                         \n",
      "__________________________________________________________________________________________________\n",
      "fc_output (Dense)               (None, 1)            33          dropout_14[0][0]                 \n",
      "==================================================================================================\n",
      "Total params: 195,661\n",
      "Trainable params: 195,661\n",
      "Non-trainable params: 0\n",
      "__________________________________________________________________________________________________\n"
     ]
    }
   ],
   "source": [
    "model.summary()"
   ]
  },
  {
   "cell_type": "code",
   "execution_count": 30,
   "metadata": {},
   "outputs": [],
   "source": [
    "# from IPython.display import SVG\n",
    "# from keras.utils.vis_utils import model_to_dot\n",
    "\n",
    "# SVG(model_to_dot(model, show_shapes=True).create(prog='dot', format='svg'))"
   ]
  },
  {
   "cell_type": "code",
   "execution_count": 31,
   "metadata": {},
   "outputs": [],
   "source": [
    "# from keras.utils import plot_model\n",
    "\n",
    "# plot_model(model, show_shapes=True, to_file='model_dot.png')"
   ]
  },
  {
   "cell_type": "code",
   "execution_count": 32,
   "metadata": {},
   "outputs": [
    {
     "name": "stdout",
     "output_type": "stream",
     "text": [
      "Train on 6341 samples, validate on 705 samples\n",
      "Epoch 1/100\n",
      "6341/6341 [==============================] - 15s 2ms/step - loss: 0.7410 - acc: 0.5302 - val_loss: 0.6609 - val_acc: 0.6894\n",
      "Epoch 2/100\n",
      "6341/6341 [==============================] - 8s 1ms/step - loss: 0.6482 - acc: 0.6797 - val_loss: 0.6317 - val_acc: 0.7376\n",
      "Epoch 3/100\n",
      "6341/6341 [==============================] - 8s 1ms/step - loss: 0.6045 - acc: 0.7340 - val_loss: 0.5789 - val_acc: 0.7177\n",
      "Epoch 4/100\n",
      "6341/6341 [==============================] - 9s 1ms/step - loss: 0.5764 - acc: 0.7519 - val_loss: 0.6216 - val_acc: 0.6936\n",
      "Epoch 5/100\n",
      "6341/6341 [==============================] - 8s 1ms/step - loss: 0.5561 - acc: 0.7727 - val_loss: 0.5464 - val_acc: 0.7787\n",
      "Epoch 6/100\n",
      "6341/6341 [==============================] - 8s 1ms/step - loss: 0.5302 - acc: 0.7923 - val_loss: 0.5438 - val_acc: 0.7858\n",
      "Epoch 7/100\n",
      "6341/6341 [==============================] - 8s 1ms/step - loss: 0.5094 - acc: 0.8093 - val_loss: 0.5741 - val_acc: 0.7716\n",
      "Epoch 8/100\n",
      "6341/6341 [==============================] - 9s 1ms/step - loss: 0.4921 - acc: 0.8161 - val_loss: 0.5528 - val_acc: 0.7830\n",
      "Epoch 9/100\n",
      "6341/6341 [==============================] - 8s 1ms/step - loss: 0.4742 - acc: 0.8232 - val_loss: 0.5866 - val_acc: 0.7390\n",
      "Epoch 10/100\n",
      "6341/6341 [==============================] - 9s 1ms/step - loss: 0.4555 - acc: 0.8380 - val_loss: 0.5327 - val_acc: 0.7858\n",
      "Epoch 11/100\n",
      "6341/6341 [==============================] - 8s 1ms/step - loss: 0.4408 - acc: 0.8473 - val_loss: 0.5616 - val_acc: 0.7702\n",
      "Epoch 12/100\n",
      "6341/6341 [==============================] - 9s 1ms/step - loss: 0.4237 - acc: 0.8560 - val_loss: 0.5726 - val_acc: 0.7745\n",
      "Epoch 13/100\n",
      "6341/6341 [==============================] - 8s 1ms/step - loss: 0.4151 - acc: 0.8606 - val_loss: 0.5531 - val_acc: 0.7830\n",
      "Epoch 14/100\n",
      "6341/6341 [==============================] - 8s 1ms/step - loss: 0.3949 - acc: 0.8683 - val_loss: 0.5683 - val_acc: 0.7787\n",
      "Epoch 15/100\n",
      "6341/6341 [==============================] - 8s 1ms/step - loss: 0.3821 - acc: 0.8778 - val_loss: 0.6395 - val_acc: 0.7702\n",
      "Epoch 16/100\n",
      "6341/6341 [==============================] - 8s 1ms/step - loss: 0.3645 - acc: 0.8869 - val_loss: 0.5777 - val_acc: 0.7830\n",
      "Epoch 17/100\n",
      "6341/6341 [==============================] - 8s 1ms/step - loss: 0.3477 - acc: 0.8981 - val_loss: 0.6314 - val_acc: 0.7773\n",
      "Epoch 18/100\n",
      "6341/6341 [==============================] - 8s 1ms/step - loss: 0.3250 - acc: 0.9082 - val_loss: 0.6601 - val_acc: 0.7716\n",
      "\n",
      "Epoch 00018: ReduceLROnPlateau reducing learning rate to 0.00499999988824.\n",
      "Epoch 19/100\n",
      "6341/6341 [==============================] - 8s 1ms/step - loss: 0.2680 - acc: 0.9387 - val_loss: 0.7173 - val_acc: 0.7702\n",
      "Epoch 20/100\n",
      "6341/6341 [==============================] - 8s 1ms/step - loss: 0.2362 - acc: 0.9549 - val_loss: 0.8251 - val_acc: 0.7745\n",
      "Epoch 21/100\n",
      "6341/6341 [==============================] - 8s 1ms/step - loss: 0.2200 - acc: 0.9618 - val_loss: 0.9415 - val_acc: 0.7546\n",
      "Epoch 22/100\n",
      "6341/6341 [==============================] - 8s 1ms/step - loss: 0.2006 - acc: 0.9705 - val_loss: 1.1757 - val_acc: 0.7404\n",
      "Epoch 23/100\n",
      "6341/6341 [==============================] - 9s 1ms/step - loss: 0.2012 - acc: 0.9699 - val_loss: 1.1371 - val_acc: 0.7574\n",
      "Epoch 24/100\n",
      "6341/6341 [==============================] - 9s 1ms/step - loss: 0.1815 - acc: 0.9781 - val_loss: 1.2612 - val_acc: 0.7447\n",
      "Epoch 25/100\n",
      "6341/6341 [==============================] - 8s 1ms/step - loss: 0.1813 - acc: 0.9778 - val_loss: 1.3888 - val_acc: 0.7489\n",
      "\n",
      "Epoch 00025: ReduceLROnPlateau reducing learning rate to 0.00249999994412.\n"
     ]
    }
   ],
   "source": [
    "from keras.callbacks import EarlyStopping, ReduceLROnPlateau\n",
    "callbacks = [ReduceLROnPlateau(monitor='val_loss', factor=0.5, patience=7, min_lr=1e-6, verbose=1),\n",
    "             EarlyStopping(monitor='val_loss', patience=15)] \n",
    "\n",
    "h = model.fit(tr_set[0], tr_set[1],\n",
    "              epochs=100,\n",
    "              callbacks=callbacks,\n",
    "              batch_size=128,\n",
    "              validation_data=(v_set))"
   ]
  },
  {
   "cell_type": "code",
   "execution_count": 34,
   "metadata": {},
   "outputs": [],
   "source": [
    "# h.history['loss']"
   ]
  },
  {
   "cell_type": "code",
   "execution_count": 35,
   "metadata": {},
   "outputs": [],
   "source": [
    "# from keras.callbacks import History\n",
    "\n",
    "# history = History()\n",
    "# history.history = {}\n",
    "# history.epoch = h1.epoch + h2.epoch\n",
    "\n",
    "# for k in ['loss', 'val_loss', 'acc', 'val_acc']:\n",
    "#     history.history[k] = h1.history[k] + h2.history[k]"
   ]
  },
  {
   "cell_type": "code",
   "execution_count": null,
   "metadata": {},
   "outputs": [],
   "source": [
    "# import keras.backend as K\n",
    "# del model\n",
    "# K.clear_session()"
   ]
  },
  {
   "cell_type": "code",
   "execution_count": 36,
   "metadata": {},
   "outputs": [
    {
     "data": {
      "image/png": "[encoded data removed]",
      "text/plain": [
       "<matplotlib.figure.Figure at 0x7fec32ecc3d0>"
      ]
     },
     "metadata": {},
     "output_type": "display_data"
    }
   ],
   "source": [
    "history = h\n",
    "plt.figure(dpi=100)\n",
    "t = history.epoch\n",
    "\n",
    "plt.subplot(211)\n",
    "plt.plot(t, history.history['loss'], label='loss', color='C0')\n",
    "plt.plot(t, history.history['val_loss'], label='val_loss', color='C1')\n",
    "plt.xlabel('epochs')\n",
    "plt.ylabel('loss')\n",
    "plt.legend(loc=1)\n",
    "\n",
    "plt.subplot(212)\n",
    "plt.plot(t, history.history['acc'], label='acc', color='C2')\n",
    "plt.plot(t, history.history['val_acc'], label='val_acc', color='C3')\n",
    "plt.ylim([0.5, 1])\n",
    "plt.ylabel('acc')\n",
    "plt.xlabel('epochs')\n",
    "plt.legend(loc=1)\n",
    "\n",
    "plt.tight_layout()"
   ]
  },
  {
   "cell_type": "code",
   "execution_count": 37,
   "metadata": {},
   "outputs": [],
   "source": [
    "y_pred = model.predict(ts_set[0]).ravel()"
   ]
  },
  {
   "cell_type": "code",
   "execution_count": 38,
   "metadata": {},
   "outputs": [
    {
     "name": "stdout",
     "output_type": "stream",
     "text": [
      "Test scores:\n",
      " * Log-Loss\tnan\n",
      " * Accuracy:\t0.762664963814\n",
      " * Precision:\t0.753700657895\n",
      " * Recall:\t0.780332056194\n",
      " * AUC: \t0.847310549982\n"
     ]
    }
   ],
   "source": [
    "y_test = ts_set[1]\n",
    "loss = metrics.log_loss(y_test, y_pred)\n",
    "acc = metrics.accuracy_score(y_test, y_pred > 0.5)\n",
    "prec = metrics.precision_score(y_test, y_pred > 0.5)\n",
    "rcll = metrics.recall_score(y_test, y_pred > 0.5)\n",
    "auc = metrics.roc_auc_score(y_test, y_pred)\n",
    "print('Test scores:\\n * Log-Loss\\t{}\\n * Accuracy:\\t{}\\n '\n",
    "      '* Precision:\\t{}\\n * Recall:\\t{}\\n * AUC: \\t{}'.format(loss, acc, prec, rcll, auc))"
   ]
  },
  {
   "cell_type": "code",
   "execution_count": null,
   "metadata": {},
   "outputs": [],
   "source": [
    "from mbspbs10pc.plotting import *\n",
    "\n",
    "# Plot non-normalized confusion matrix\n",
    "cnf_matrix = metrics.confusion_matrix(y_test, y_pred > 0.5)\n",
    "plt.figure(dpi=100)\n",
    "plot_confusion_matrix(cnf_matrix, classes=['METONLY', 'METX'],\n",
    "                      title='Confusion matrix', cmap=plt.cm.Blues);"
   ]
  },
  {
   "cell_type": "markdown",
   "metadata": {},
   "source": [
    "**TOP results so far [6341 training / 705 validation / 4698 test]**\n",
    "\n",
    "Test scores:\n",
    " * Log-Loss\t0.425300993082\n",
    " * Accuracy:\t0.810131971052\n",
    " * Precision:\t0.817983413357\n",
    " * Recall:\t0.797786292039\n",
    " * AUC: \t0.894714579232"
   ]
  },
  {
   "cell_type": "code",
   "execution_count": null,
   "metadata": {},
   "outputs": [],
   "source": [
    "# model.save_weights('model.h5')"
   ]
  },
  {
   "cell_type": "code",
   "execution_count": null,
   "metadata": {},
   "outputs": [],
   "source": [
    "model.load_weights('model.h5')"
   ]
  },
  {
   "cell_type": "markdown",
   "metadata": {},
   "source": [
    "# Attention viz"
   ]
  },
  {
   "cell_type": "code",
   "execution_count": null,
   "metadata": {},
   "outputs": [],
   "source": [
    "from mbspbs10pc import read_activations\n",
    "reload(read_activations);\n",
    "\n",
    "_x_test = [X_test, X_test_t.reshape(len(y_test), maxlen, 1)]\n",
    "a = read_activations.get_activations(model, _x_test, print_shape_only=True, layer_name='attention_matrix')"
   ]
  },
  {
   "cell_type": "code",
   "execution_count": null,
   "metadata": {},
   "outputs": [],
   "source": [
    "true_pos_idx = np.where(np.logical_and(y_test == 1, y_pred >= 0.5))[0]\n",
    "true_neg_idx = np.where(np.logical_and(y_test == 0, y_pred < 0.5))[0]\n",
    "false_pos_idx = np.where(np.logical_and(y_test == 1, y_pred < 0.5))[0]\n",
    "false_neg_idx = np.where(np.logical_and(y_test == 0, y_pred >= 0.5))[0]"
   ]
  },
  {
   "cell_type": "code",
   "execution_count": null,
   "metadata": {},
   "outputs": [],
   "source": [
    "def get_att(att, idx):\n",
    "    return np.mean(np.mean(att[0][idx, :, :], axis=0), axis=0)\n",
    "\n",
    "true_pos_att = get_att(a, true_pos_idx)\n",
    "true_neg_att = get_att(a, true_neg_idx)\n",
    "false_pos_att = get_att(a, false_pos_idx)\n",
    "false_neg_att = get_att(a, false_neg_idx)"
   ]
  },
  {
   "cell_type": "code",
   "execution_count": null,
   "metadata": {},
   "outputs": [],
   "source": [
    "plt.figure(dpi=100)\n",
    "plt.title('true pos att')\n",
    "plt.plot(np.arange(445), true_pos_att, 'o');"
   ]
  },
  {
   "cell_type": "code",
   "execution_count": null,
   "metadata": {},
   "outputs": [],
   "source": [
    "plt.figure(dpi=100)\n",
    "plt.title('true neg att')\n",
    "plt.plot(np.arange(445), true_neg_att, 'o');"
   ]
  },
  {
   "cell_type": "code",
   "execution_count": null,
   "metadata": {},
   "outputs": [],
   "source": [
    "plt.figure(dpi=100)\n",
    "plt.title('false pos att')\n",
    "plt.plot(np.arange(445), false_pos_att, 'o');"
   ]
  },
  {
   "cell_type": "code",
   "execution_count": null,
   "metadata": {},
   "outputs": [],
   "source": [
    "plt.figure(dpi=100)\n",
    "plt.title('false neg att')\n",
    "plt.plot(np.arange(445), false_neg_att, 'o');"
   ]
  },
  {
   "cell_type": "code",
   "execution_count": null,
   "metadata": {},
   "outputs": [],
   "source": []
  }
 ],
 "metadata": {
  "kernelspec": {
   "display_name": "Python 2",
   "language": "python",
   "name": "python2"
  },
  "language_info": {
   "codemirror_mode": {
    "name": "ipython",
    "version": 2
   },
   "file_extension": ".py",
   "mimetype": "text/x-python",
   "name": "python",
   "nbconvert_exporter": "python",
   "pygments_lexer": "ipython2",
   "version": "2.7.14"
  }
 },
 "nbformat": 4,
 "nbformat_minor": 2
}
